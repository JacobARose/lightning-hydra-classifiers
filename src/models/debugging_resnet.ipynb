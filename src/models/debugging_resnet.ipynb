{
 "cells": [
  {
   "cell_type": "markdown",
   "id": "69aa13f5",
   "metadata": {},
   "source": [
    "# Debugging ResNet\n",
    "\n",
    "Notebook walking through some best practice unit tests for performing sequentially in order to debug a misbehaving black box model.\n",
    "\n",
    "Created by: Jacob A Rose  \n",
    "Created On: Tuesday, March 16th, 2021\n",
    "# "
   ]
  },
  {
   "cell_type": "code",
   "execution_count": null,
   "id": "6bcdcac4",
   "metadata": {},
   "outputs": [],
   "source": []
  },
  {
   "cell_type": "code",
   "execution_count": 4,
   "id": "c01cdaff",
   "metadata": {},
   "outputs": [
    {
     "name": "stdout",
     "output_type": "stream",
     "text": [
      "a = tensor([0.4000, 0.4000, 0.4000, 0.4000, 0.4000]) ,\n",
      "b = tensor([0.2000, 0.2000, 0.2000, 0.2000, 0.2000])\n"
     ]
    }
   ],
   "source": [
    "import torch \n",
    "a = torch.ones(5)\n",
    "a.requires_grad = True\n",
    "\n",
    "b = 2*a\n",
    "\n",
    "b.retain_grad()   # Since b is non-leaf and it's grad will be destroyed otherwise.\n",
    "\n",
    "c = b.mean()\n",
    "\n",
    "c.backward()\n",
    "\n",
    "print('a =', a.grad,',\\nb =', b.grad)"
   ]
  },
  {
   "cell_type": "code",
   "execution_count": 2,
   "id": "5f6572fc",
   "metadata": {},
   "outputs": [
    {
     "data": {
      "text/plain": [
       "tensor([2., 2., 2., 2., 2.], grad_fn=<MulBackward0>)"
      ]
     },
     "execution_count": 2,
     "metadata": {},
     "output_type": "execute_result"
    }
   ],
   "source": [
    "b"
   ]
  },
  {
   "cell_type": "code",
   "execution_count": 5,
   "id": "cf5355e8",
   "metadata": {},
   "outputs": [
    {
     "name": "stdout",
     "output_type": "stream",
     "text": [
      "tensor([0.2000, 0.2000, 0.2000, 0.2000, 0.2000])\n",
      "a = tensor([0.4000, 0.4000, 0.4000, 0.4000, 0.4000]) ,\n",
      "b = tensor([0.2000, 0.2000, 0.2000, 0.2000, 0.2000])\n"
     ]
    }
   ],
   "source": [
    "# Redo the experiment but with a hook that multiplies b's grad by 2. \n",
    "a = torch.ones(5)\n",
    "\n",
    "a.requires_grad = True\n",
    "\n",
    "b = 2*a\n",
    "\n",
    "b.retain_grad()\n",
    "\n",
    "b.register_hook(lambda x: print(x))  \n",
    "\n",
    "b.mean().backward() \n",
    "\n",
    "\n",
    "print('a =', a.grad,',\\nb =', b.grad)"
   ]
  },
  {
   "cell_type": "code",
   "execution_count": null,
   "id": "97dd9f6e",
   "metadata": {},
   "outputs": [],
   "source": []
  }
 ],
 "metadata": {
  "kernelspec": {
   "display_name": "Python 3",
   "language": "python",
   "name": "python3"
  },
  "language_info": {
   "codemirror_mode": {
    "name": "ipython",
    "version": 3
   },
   "file_extension": ".py",
   "mimetype": "text/x-python",
   "name": "python",
   "nbconvert_exporter": "python",
   "pygments_lexer": "ipython3",
   "version": "3.8.5"
  }
 },
 "nbformat": 4,
 "nbformat_minor": 5
}
