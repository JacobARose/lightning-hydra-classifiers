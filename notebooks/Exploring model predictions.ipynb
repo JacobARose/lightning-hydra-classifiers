{
 "cells": [
  {
   "cell_type": "markdown",
   "id": "553fc7b8",
   "metadata": {
    "tags": []
   },
   "source": [
    "# Part I: plotting heatmap confusion matrices"
   ]
  },
  {
   "cell_type": "code",
   "execution_count": 1,
   "id": "77b312d8",
   "metadata": {},
   "outputs": [],
   "source": [
    "import seaborn as sns\n",
    "import matplotlib.pyplot as plt\n",
    "import pandas as pd\n",
    "import numpy as np\n",
    "from sklearn.datasets import make_classification\n",
    "import random\n",
    "\n",
    "\n",
    "\n",
    "from sklearn import datasets\n",
    "from sklearn.tree import DecisionTreeClassifier\n",
    "from sklearn.model_selection import train_test_split\n",
    "from sklearn.metrics import classification_report, confusion_matrix"
   ]
  },
  {
   "cell_type": "code",
   "execution_count": 2,
   "id": "5e63adf0",
   "metadata": {},
   "outputs": [
    {
     "data": {
      "text/html": [
       "<pre style=\"white-space:pre;overflow-x:auto;line-height:normal;font-family:Menlo,'DejaVu Sans Mono',consolas,'Courier New',monospace\"><span style=\"font-weight: bold\">{</span>\n",
       "    <span style=\"color: #008000; text-decoration-color: #008000\">'0'</span>: <span style=\"font-weight: bold\">{</span>\n",
       "        <span style=\"color: #008000; text-decoration-color: #008000\">'precision'</span>: <span style=\"color: #000080; text-decoration-color: #000080; font-weight: bold\">0.3269230769230769</span>,\n",
       "        <span style=\"color: #008000; text-decoration-color: #008000\">'recall'</span>: <span style=\"color: #000080; text-decoration-color: #000080; font-weight: bold\">0.34</span>,\n",
       "        <span style=\"color: #008000; text-decoration-color: #008000\">'f1-score'</span>: <span style=\"color: #000080; text-decoration-color: #000080; font-weight: bold\">0.3333333333333333</span>,\n",
       "        <span style=\"color: #008000; text-decoration-color: #008000\">'support'</span>: <span style=\"color: #000080; text-decoration-color: #000080; font-weight: bold\">150</span>\n",
       "    <span style=\"font-weight: bold\">}</span>,\n",
       "    <span style=\"color: #008000; text-decoration-color: #008000\">'1'</span>: <span style=\"font-weight: bold\">{</span>\n",
       "        <span style=\"color: #008000; text-decoration-color: #008000\">'precision'</span>: <span style=\"color: #000080; text-decoration-color: #000080; font-weight: bold\">0.421875</span>,\n",
       "        <span style=\"color: #008000; text-decoration-color: #008000\">'recall'</span>: <span style=\"color: #000080; text-decoration-color: #000080; font-weight: bold\">0.35526315789473684</span>,\n",
       "        <span style=\"color: #008000; text-decoration-color: #008000\">'f1-score'</span>: <span style=\"color: #000080; text-decoration-color: #000080; font-weight: bold\">0.3857142857142857</span>,\n",
       "        <span style=\"color: #008000; text-decoration-color: #008000\">'support'</span>: <span style=\"color: #000080; text-decoration-color: #000080; font-weight: bold\">152</span>\n",
       "    <span style=\"font-weight: bold\">}</span>,\n",
       "    <span style=\"color: #008000; text-decoration-color: #008000\">'2'</span>: <span style=\"font-weight: bold\">{</span>\n",
       "        <span style=\"color: #008000; text-decoration-color: #008000\">'precision'</span>: <span style=\"color: #000080; text-decoration-color: #000080; font-weight: bold\">0.410958904109589</span>,\n",
       "        <span style=\"color: #008000; text-decoration-color: #008000\">'recall'</span>: <span style=\"color: #000080; text-decoration-color: #000080; font-weight: bold\">0.40540540540540543</span>,\n",
       "        <span style=\"color: #008000; text-decoration-color: #008000\">'f1-score'</span>: <span style=\"color: #000080; text-decoration-color: #000080; font-weight: bold\">0.40816326530612246</span>,\n",
       "        <span style=\"color: #008000; text-decoration-color: #008000\">'support'</span>: <span style=\"color: #000080; text-decoration-color: #000080; font-weight: bold\">148</span>\n",
       "    <span style=\"font-weight: bold\">}</span>,\n",
       "    <span style=\"color: #008000; text-decoration-color: #008000\">'3'</span>: <span style=\"font-weight: bold\">{</span>\n",
       "        <span style=\"color: #008000; text-decoration-color: #008000\">'precision'</span>: <span style=\"color: #000080; text-decoration-color: #000080; font-weight: bold\">0.3503184713375796</span>,\n",
       "        <span style=\"color: #008000; text-decoration-color: #008000\">'recall'</span>: <span style=\"color: #000080; text-decoration-color: #000080; font-weight: bold\">0.35947712418300654</span>,\n",
       "        <span style=\"color: #008000; text-decoration-color: #008000\">'f1-score'</span>: <span style=\"color: #000080; text-decoration-color: #000080; font-weight: bold\">0.3548387096774194</span>,\n",
       "        <span style=\"color: #008000; text-decoration-color: #008000\">'support'</span>: <span style=\"color: #000080; text-decoration-color: #000080; font-weight: bold\">153</span>\n",
       "    <span style=\"font-weight: bold\">}</span>,\n",
       "    <span style=\"color: #008000; text-decoration-color: #008000\">'4'</span>: <span style=\"font-weight: bold\">{</span>\n",
       "        <span style=\"color: #008000; text-decoration-color: #008000\">'precision'</span>: <span style=\"color: #000080; text-decoration-color: #000080; font-weight: bold\">0.3157894736842105</span>,\n",
       "        <span style=\"color: #008000; text-decoration-color: #008000\">'recall'</span>: <span style=\"color: #000080; text-decoration-color: #000080; font-weight: bold\">0.36363636363636365</span>,\n",
       "        <span style=\"color: #008000; text-decoration-color: #008000\">'f1-score'</span>: <span style=\"color: #000080; text-decoration-color: #000080; font-weight: bold\">0.3380281690140845</span>,\n",
       "        <span style=\"color: #008000; text-decoration-color: #008000\">'support'</span>: <span style=\"color: #000080; text-decoration-color: #000080; font-weight: bold\">132</span>\n",
       "    <span style=\"font-weight: bold\">}</span>,\n",
       "    <span style=\"color: #008000; text-decoration-color: #008000\">'5'</span>: <span style=\"font-weight: bold\">{</span>\n",
       "        <span style=\"color: #008000; text-decoration-color: #008000\">'precision'</span>: <span style=\"color: #000080; text-decoration-color: #000080; font-weight: bold\">0.2907801418439716</span>,\n",
       "        <span style=\"color: #008000; text-decoration-color: #008000\">'recall'</span>: <span style=\"color: #000080; text-decoration-color: #000080; font-weight: bold\">0.2827586206896552</span>,\n",
       "        <span style=\"color: #008000; text-decoration-color: #008000\">'f1-score'</span>: <span style=\"color: #000080; text-decoration-color: #000080; font-weight: bold\">0.2867132867132867</span>,\n",
       "        <span style=\"color: #008000; text-decoration-color: #008000\">'support'</span>: <span style=\"color: #000080; text-decoration-color: #000080; font-weight: bold\">145</span>\n",
       "    <span style=\"font-weight: bold\">}</span>,\n",
       "    <span style=\"color: #008000; text-decoration-color: #008000\">'6'</span>: <span style=\"font-weight: bold\">{</span>\n",
       "        <span style=\"color: #008000; text-decoration-color: #008000\">'precision'</span>: <span style=\"color: #000080; text-decoration-color: #000080; font-weight: bold\">0.2974683544303797</span>,\n",
       "        <span style=\"color: #008000; text-decoration-color: #008000\">'recall'</span>: <span style=\"color: #000080; text-decoration-color: #000080; font-weight: bold\">0.3092105263157895</span>,\n",
       "        <span style=\"color: #008000; text-decoration-color: #008000\">'f1-score'</span>: <span style=\"color: #000080; text-decoration-color: #000080; font-weight: bold\">0.30322580645161296</span>,\n",
       "        <span style=\"color: #008000; text-decoration-color: #008000\">'support'</span>: <span style=\"color: #000080; text-decoration-color: #000080; font-weight: bold\">152</span>\n",
       "    <span style=\"font-weight: bold\">}</span>,\n",
       "    <span style=\"color: #008000; text-decoration-color: #008000\">'7'</span>: <span style=\"font-weight: bold\">{</span>\n",
       "        <span style=\"color: #008000; text-decoration-color: #008000\">'precision'</span>: <span style=\"color: #000080; text-decoration-color: #000080; font-weight: bold\">0.31333333333333335</span>,\n",
       "        <span style=\"color: #008000; text-decoration-color: #008000\">'recall'</span>: <span style=\"color: #000080; text-decoration-color: #000080; font-weight: bold\">0.30718954248366015</span>,\n",
       "        <span style=\"color: #008000; text-decoration-color: #008000\">'f1-score'</span>: <span style=\"color: #000080; text-decoration-color: #000080; font-weight: bold\">0.31023102310231027</span>,\n",
       "        <span style=\"color: #008000; text-decoration-color: #008000\">'support'</span>: <span style=\"color: #000080; text-decoration-color: #000080; font-weight: bold\">153</span>\n",
       "    <span style=\"font-weight: bold\">}</span>,\n",
       "    <span style=\"color: #008000; text-decoration-color: #008000\">'8'</span>: <span style=\"font-weight: bold\">{</span>\n",
       "        <span style=\"color: #008000; text-decoration-color: #008000\">'precision'</span>: <span style=\"color: #000080; text-decoration-color: #000080; font-weight: bold\">0.3873239436619718</span>,\n",
       "        <span style=\"color: #008000; text-decoration-color: #008000\">'recall'</span>: <span style=\"color: #000080; text-decoration-color: #000080; font-weight: bold\">0.32934131736526945</span>,\n",
       "        <span style=\"color: #008000; text-decoration-color: #008000\">'f1-score'</span>: <span style=\"color: #000080; text-decoration-color: #000080; font-weight: bold\">0.3559870550161812</span>,\n",
       "        <span style=\"color: #008000; text-decoration-color: #008000\">'support'</span>: <span style=\"color: #000080; text-decoration-color: #000080; font-weight: bold\">167</span>\n",
       "    <span style=\"font-weight: bold\">}</span>,\n",
       "    <span style=\"color: #008000; text-decoration-color: #008000\">'9'</span>: <span style=\"font-weight: bold\">{</span>\n",
       "        <span style=\"color: #008000; text-decoration-color: #008000\">'precision'</span>: <span style=\"color: #000080; text-decoration-color: #000080; font-weight: bold\">0.29411764705882354</span>,\n",
       "        <span style=\"color: #008000; text-decoration-color: #008000\">'recall'</span>: <span style=\"color: #000080; text-decoration-color: #000080; font-weight: bold\">0.33783783783783783</span>,\n",
       "        <span style=\"color: #008000; text-decoration-color: #008000\">'f1-score'</span>: <span style=\"color: #000080; text-decoration-color: #000080; font-weight: bold\">0.3144654088050315</span>,\n",
       "        <span style=\"color: #008000; text-decoration-color: #008000\">'support'</span>: <span style=\"color: #000080; text-decoration-color: #000080; font-weight: bold\">148</span>\n",
       "    <span style=\"font-weight: bold\">}</span>,\n",
       "    <span style=\"color: #008000; text-decoration-color: #008000\">'accuracy'</span>: <span style=\"color: #000080; text-decoration-color: #000080; font-weight: bold\">0.33866666666666667</span>,\n",
       "    <span style=\"color: #008000; text-decoration-color: #008000\">'macro avg'</span>: <span style=\"font-weight: bold\">{</span>\n",
       "        <span style=\"color: #008000; text-decoration-color: #008000\">'precision'</span>: <span style=\"color: #000080; text-decoration-color: #000080; font-weight: bold\">0.34088883463829356</span>,\n",
       "        <span style=\"color: #008000; text-decoration-color: #008000\">'recall'</span>: <span style=\"color: #000080; text-decoration-color: #000080; font-weight: bold\">0.33901198958117246</span>,\n",
       "        <span style=\"color: #008000; text-decoration-color: #008000\">'f1-score'</span>: <span style=\"color: #000080; text-decoration-color: #000080; font-weight: bold\">0.33907003431336674</span>,\n",
       "        <span style=\"color: #008000; text-decoration-color: #008000\">'support'</span>: <span style=\"color: #000080; text-decoration-color: #000080; font-weight: bold\">1500</span>\n",
       "    <span style=\"font-weight: bold\">}</span>,\n",
       "    <span style=\"color: #008000; text-decoration-color: #008000\">'weighted avg'</span>: <span style=\"font-weight: bold\">{</span>\n",
       "        <span style=\"color: #008000; text-decoration-color: #008000\">'precision'</span>: <span style=\"color: #000080; text-decoration-color: #000080; font-weight: bold\">0.34186609118979666</span>,\n",
       "        <span style=\"color: #008000; text-decoration-color: #008000\">'recall'</span>: <span style=\"color: #000080; text-decoration-color: #000080; font-weight: bold\">0.33866666666666667</span>,\n",
       "        <span style=\"color: #008000; text-decoration-color: #008000\">'f1-score'</span>: <span style=\"color: #000080; text-decoration-color: #000080; font-weight: bold\">0.339377726642636</span>,\n",
       "        <span style=\"color: #008000; text-decoration-color: #008000\">'support'</span>: <span style=\"color: #000080; text-decoration-color: #000080; font-weight: bold\">1500</span>\n",
       "    <span style=\"font-weight: bold\">}</span>\n",
       "<span style=\"font-weight: bold\">}</span>\n",
       "</pre>\n"
      ],
      "text/plain": [
       "<rich.jupyter.JupyterRenderable at 0x7f5d9d242b80>"
      ]
     },
     "metadata": {},
     "output_type": "display_data"
    },
    {
     "data": {
      "image/png": "[encoded data removed]",
      "text/plain": [
       "<Figure size 432x288 with 2 Axes>"
      ]
     },
     "metadata": {
      "needs_background": "light"
     },
     "output_type": "display_data"
    }
   ],
   "source": [
    "from rich import print as pp\n",
    "\n",
    "model_scales = {\"small\":10,\n",
    "                \"medium\": 50,\n",
    "                \"large\": 100,\n",
    "                \"x-large\": 200}\n",
    "\n",
    "num_classes = model_scales['small']\n",
    "# num_classes = model_scales['medium']\n",
    "# num_classes = model_scales['large']\n",
    "# num_classes = model_scales['x-large']\n",
    "\n",
    "x, y = make_classification(n_samples=5000, n_classes=num_classes, n_features=num_classes*3, n_clusters_per_class=1, n_informative=num_classes*3-2)#, n_informative=4)\n",
    "\n",
    "# wine = datasets.load_wine()\n",
    "# x = wine.data\n",
    "# y = wine.target\n",
    "# class_names = wine.target_names\n",
    "\n",
    "X_train, X_test, y_train, y_test = train_test_split(x, y, test_size=0.30)\n",
    "\n",
    "classifier_tree = DecisionTreeClassifier()\n",
    "\n",
    "y_predict = classifier_tree.fit(X_train, y_train).predict(X_test)\n",
    "\n",
    "cm = confusion_matrix(y_test, y_predict)\n",
    "\n",
    "cm_df = pd.DataFrame(cm)\n",
    "\n",
    "sns.heatmap(cm_df)\n",
    "clf_report = classification_report(y_test, y_predict, output_dict=True)\n",
    "pp(clf_report)"
   ]
  },
  {
   "cell_type": "code",
   "execution_count": 5,
   "id": "e4e72d43-0150-475c-83e0-a13dd805caa2",
   "metadata": {},
   "outputs": [
    {
     "data": {
      "text/plain": [
       "[('0', 0.3269230769230769),\n",
       " ('1', 0.421875),\n",
       " ('2', 0.410958904109589),\n",
       " ('3', 0.3503184713375796),\n",
       " ('4', 0.3157894736842105),\n",
       " ('5', 0.2907801418439716),\n",
       " ('6', 0.2974683544303797),\n",
       " ('7', 0.31333333333333335),\n",
       " ('8', 0.3873239436619718),\n",
       " ('9', 0.29411764705882354)]"
      ]
     },
     "execution_count": 5,
     "metadata": {},
     "output_type": "execute_result"
    }
   ],
   "source": [
    "precision"
   ]
  },
  {
   "cell_type": "code",
   "execution_count": 7,
   "id": "45e1303e-84aa-4798-a362-e17fbb99ed6a",
   "metadata": {},
   "outputs": [
    {
     "data": {
      "text/plain": [
       "<matplotlib.axes._subplots.AxesSubplot at 0x7f5d8f45e5b0>"
      ]
     },
     "execution_count": 7,
     "metadata": {},
     "output_type": "execute_result"
    },
    {
     "data": {
      "image/png": "[encoded data removed]",
      "text/plain": [
       "<Figure size 432x288 with 1 Axes>"
      ]
     },
     "metadata": {
      "needs_background": "light"
     },
     "output_type": "display_data"
    }
   ],
   "source": [
    "import seaborn as sns\n",
    "\n",
    "\n",
    "sns.barplot(data=precision)"
   ]
  },
  {
   "cell_type": "code",
   "execution_count": 9,
   "id": "9922b609-cb0d-42c0-a594-08b0096be64b",
   "metadata": {},
   "outputs": [
    {
     "data": {
      "text/plain": [
       "['__class__',\n",
       " '__delattr__',\n",
       " '__dict__',\n",
       " '__dir__',\n",
       " '__doc__',\n",
       " '__eq__',\n",
       " '__format__',\n",
       " '__ge__',\n",
       " '__getattribute__',\n",
       " '__gt__',\n",
       " '__hash__',\n",
       " '__init__',\n",
       " '__init_subclass__',\n",
       " '__le__',\n",
       " '__lt__',\n",
       " '__module__',\n",
       " '__ne__',\n",
       " '__new__',\n",
       " '__reduce__',\n",
       " '__reduce_ex__',\n",
       " '__repr__',\n",
       " '__setattr__',\n",
       " '__sizeof__',\n",
       " '__str__',\n",
       " '__subclasshook__',\n",
       " '__weakref__',\n",
       " 'fields',\n",
       " 'string_fields',\n",
       " 'table',\n",
       " 'viz_id']"
      ]
     },
     "execution_count": 9,
     "metadata": {},
     "output_type": "execute_result"
    }
   ],
   "source": [
    "fig = wandb.plot.bar(table, \"label\", \"value\", title=\"per-class-precision\")\n",
    "\n",
    "\n",
    "dir(fig)"
   ]
  },
  {
   "cell_type": "code",
   "execution_count": 11,
   "id": "528be56b-519e-42df-8ac1-75389d586c9b",
   "metadata": {},
   "outputs": [
    {
     "data": {
      "text/plain": [
       "{'label': 'label', 'value': 'value'}"
      ]
     },
     "execution_count": 11,
     "metadata": {},
     "output_type": "execute_result"
    }
   ],
   "source": [
    "fig.fields"
   ]
  },
  {
   "cell_type": "code",
   "execution_count": 13,
   "id": "061969ec-ce45-4f79-a3f2-80920799df6b",
   "metadata": {},
   "outputs": [
    {
     "name": "stderr",
     "output_type": "stream",
     "text": [
      "/media/data/conda/jrose3/envs/sequoia/lib/python3.8/site-packages/hydra/experimental/initialize.py:98: UserWarning: hydra.experimental.initialize_config_dir() is no longer experimental. Use hydra.initialize_config_dir().\n",
      "  deprecation_warning(\n",
      "/media/data/conda/jrose3/envs/sequoia/lib/python3.8/site-packages/hydra/experimental/compose.py:18: UserWarning: hydra.experimental.compose() is no longer experimental. Use hydra.compose()\n",
      "  deprecation_warning(\n"
     ]
    },
    {
     "name": "stdout",
     "output_type": "stream",
     "text": [
      "task_0[train].eager_encode_targets = False\n",
      "task_0[val].eager_encode_targets = False\n"
     ]
    },
    {
     "name": "stderr",
     "output_type": "stream",
     "text": [
      "2021-10-28 00:17:31,415 lightning_hydra_classifiers.experiments.multitask.datamodules INFO     set_task(task_id=1)\n",
      "2021-10-28 00:17:31,417 lightning_hydra_classifiers.experiments.multitask.datamodules INFO     Task_1 (None): datamodule.setup(stage=fit)\n",
      "2021-10-28 00:17:31,417 lightning_hydra_classifiers.experiments.multitask.datamodules INFO     Task_1: datamodule.setup(stage=test)\n"
     ]
    },
    {
     "name": "stdout",
     "output_type": "stream",
     "text": [
      "task_0[test].eager_encode_targets = False\n"
     ]
    }
   ],
   "source": [
    "from lightning_hydra_classifiers.callbacks.class_label_stats_callbacks import plot_class_counts\n",
    "import matplotlib.pyplot as plt\n",
    "from lightning_hydra_classifiers.scripts.multitask.train import load_data\n",
    "from lightning_hydra_classifiers.utils.etl_utils import ETL\n",
    "from omegaconf import OmegaConf\n",
    "\n",
    "\n",
    "overrides = []    \n",
    "task_id = 1\n",
    "config = ETL.load_hydra_config(config_name = \"finetune_config\",\n",
    "                               config_path = \"/media/data/jacob/GitHub/lightning-hydra-classifiers/configs\",\n",
    "                               overrides=overrides)\n",
    "OmegaConf.set_struct(config, False)\n",
    "\n",
    "\n",
    "datamodule = load_data(config,\n",
    "                       task_id=task_id)"
   ]
  },
  {
   "cell_type": "code",
   "execution_count": 16,
   "id": "8c7cc39f-76ef-41b3-8de0-f3696990eb3e",
   "metadata": {},
   "outputs": [],
   "source": [
    "# df = df.value_counts(y_col)\n",
    "subset=\"train\"\n",
    "y_col=\"family\"\n",
    "df = getattr(datamodule, f\"{subset}_dataset\").samples_df.value_counts(y_col)\n"
   ]
  },
  {
   "cell_type": "code",
   "execution_count": 18,
   "id": "9143703b-0e4f-432c-8804-23cd41db55db",
   "metadata": {},
   "outputs": [
    {
     "data": {
      "text/plain": [
       "{'Myrtaceae': 293,\n",
       " 'Phyllanthaceae': 269,\n",
       " 'Fabaceae': 253,\n",
       " 'Lauraceae': 230,\n",
       " 'Annonaceae': 161,\n",
       " 'Salicaceae': 160,\n",
       " 'Melastomataceae': 130,\n",
       " 'Combretaceae': 118,\n",
       " 'Passifloraceae': 98,\n",
       " 'Malvaceae': 58,\n",
       " 'Sapindaceae': 48,\n",
       " 'Apocynaceae': 41,\n",
       " 'Rosaceae': 40,\n",
       " 'Rubiaceae': 32,\n",
       " 'Anacardiaceae': 23,\n",
       " 'Fagaceae': 22,\n",
       " 'Betulaceae': 15,\n",
       " 'Ericaceae': 10,\n",
       " 'Celastraceae': 10}"
      ]
     },
     "execution_count": 18,
     "metadata": {},
     "output_type": "execute_result"
    }
   ],
   "source": [
    "df.to_dict()"
   ]
  },
  {
   "cell_type": "code",
   "execution_count": 23,
   "id": "96d131fd-98ad-40e1-a652-4f57687b0081",
   "metadata": {},
   "outputs": [
    {
     "data": {
      "text/plain": [
       "family\n",
       "Fabaceae           460\n",
       "Rubiaceae          409\n",
       "Salicaceae         255\n",
       "Sapindaceae        194\n",
       "Apocynaceae        193\n",
       "Ericaceae          171\n",
       "Rosaceae           157\n",
       "Fagaceae           156\n",
       "Annonaceae         149\n",
       "Betulaceae         119\n",
       "Malvaceae          119\n",
       "Celastraceae       117\n",
       "Anacardiaceae       94\n",
       "Myrtaceae           68\n",
       "Combretaceae        44\n",
       "Melastomataceae     31\n",
       "Phyllanthaceae      29\n",
       "Lauraceae           21\n",
       "Passifloraceae      11\n",
       "dtype: int64"
      ]
     },
     "execution_count": 23,
     "metadata": {},
     "output_type": "execute_result"
    }
   ],
   "source": [
    "label_col =\"family\"\n",
    "df.value_counts(label_col)"
   ]
  },
  {
   "cell_type": "code",
   "execution_count": 25,
   "id": "e7ac99c0-4e7a-4746-a4b0-daedce57e9bf",
   "metadata": {},
   "outputs": [
    {
     "data": {
      "text/html": [
       "<div>\n",
       "<style scoped>\n",
       "    .dataframe tbody tr th:only-of-type {\n",
       "        vertical-align: middle;\n",
       "    }\n",
       "\n",
       "    .dataframe tbody tr th {\n",
       "        vertical-align: top;\n",
       "    }\n",
       "\n",
       "    .dataframe thead th {\n",
       "        text-align: right;\n",
       "    }\n",
       "</style>\n",
       "<table border=\"1\" class=\"dataframe\">\n",
       "  <thead>\n",
       "    <tr style=\"text-align: right;\">\n",
       "      <th></th>\n",
       "      <th>path</th>\n",
       "      <th>family</th>\n",
       "      <th>species</th>\n",
       "      <th>collection</th>\n",
       "      <th>catalog_number</th>\n",
       "    </tr>\n",
       "    <tr>\n",
       "      <th>genus</th>\n",
       "      <th></th>\n",
       "      <th></th>\n",
       "      <th></th>\n",
       "      <th></th>\n",
       "      <th></th>\n",
       "    </tr>\n",
       "  </thead>\n",
       "  <tbody>\n",
       "    <tr>\n",
       "      <th>Abatia</th>\n",
       "      <td>2</td>\n",
       "      <td>2</td>\n",
       "      <td>2</td>\n",
       "      <td>2</td>\n",
       "      <td>2</td>\n",
       "    </tr>\n",
       "    <tr>\n",
       "      <th>Abrus</th>\n",
       "      <td>2</td>\n",
       "      <td>2</td>\n",
       "      <td>2</td>\n",
       "      <td>2</td>\n",
       "      <td>2</td>\n",
       "    </tr>\n",
       "    <tr>\n",
       "      <th>Abutilon</th>\n",
       "      <td>1</td>\n",
       "      <td>1</td>\n",
       "      <td>1</td>\n",
       "      <td>1</td>\n",
       "      <td>1</td>\n",
       "    </tr>\n",
       "    <tr>\n",
       "      <th>Acacia</th>\n",
       "      <td>4</td>\n",
       "      <td>4</td>\n",
       "      <td>4</td>\n",
       "      <td>4</td>\n",
       "      <td>4</td>\n",
       "    </tr>\n",
       "    <tr>\n",
       "      <th>Acer</th>\n",
       "      <td>63</td>\n",
       "      <td>63</td>\n",
       "      <td>63</td>\n",
       "      <td>63</td>\n",
       "      <td>63</td>\n",
       "    </tr>\n",
       "    <tr>\n",
       "      <th>...</th>\n",
       "      <td>...</td>\n",
       "      <td>...</td>\n",
       "      <td>...</td>\n",
       "      <td>...</td>\n",
       "      <td>...</td>\n",
       "    </tr>\n",
       "    <tr>\n",
       "      <th>Xylosma</th>\n",
       "      <td>11</td>\n",
       "      <td>11</td>\n",
       "      <td>11</td>\n",
       "      <td>11</td>\n",
       "      <td>11</td>\n",
       "    </tr>\n",
       "    <tr>\n",
       "      <th>Zanha</th>\n",
       "      <td>1</td>\n",
       "      <td>1</td>\n",
       "      <td>1</td>\n",
       "      <td>1</td>\n",
       "      <td>1</td>\n",
       "    </tr>\n",
       "    <tr>\n",
       "      <th>Zenobia</th>\n",
       "      <td>1</td>\n",
       "      <td>1</td>\n",
       "      <td>1</td>\n",
       "      <td>1</td>\n",
       "      <td>1</td>\n",
       "    </tr>\n",
       "    <tr>\n",
       "      <th>Zinowiewia</th>\n",
       "      <td>1</td>\n",
       "      <td>1</td>\n",
       "      <td>1</td>\n",
       "      <td>1</td>\n",
       "      <td>1</td>\n",
       "    </tr>\n",
       "    <tr>\n",
       "      <th>Zollernia</th>\n",
       "      <td>3</td>\n",
       "      <td>3</td>\n",
       "      <td>3</td>\n",
       "      <td>3</td>\n",
       "      <td>3</td>\n",
       "    </tr>\n",
       "  </tbody>\n",
       "</table>\n",
       "<p>956 rows × 5 columns</p>\n",
       "</div>"
      ],
      "text/plain": [
       "            path  family  species  collection  catalog_number\n",
       "genus                                                        \n",
       "Abatia         2       2        2           2               2\n",
       "Abrus          2       2        2           2               2\n",
       "Abutilon       1       1        1           1               1\n",
       "Acacia         4       4        4           4               4\n",
       "Acer          63      63       63          63              63\n",
       "...          ...     ...      ...         ...             ...\n",
       "Xylosma       11      11       11          11              11\n",
       "Zanha          1       1        1           1               1\n",
       "Zenobia        1       1        1           1               1\n",
       "Zinowiewia     1       1        1           1               1\n",
       "Zollernia      3       3        3           3               3\n",
       "\n",
       "[956 rows x 5 columns]"
      ]
     },
     "execution_count": 25,
     "metadata": {},
     "output_type": "execute_result"
    }
   ],
   "source": [
    "df.groupby(label_col).agg(len)"
   ]
  },
  {
   "cell_type": "code",
   "execution_count": 24,
   "id": "b413ba95-299e-43bf-b86f-1546f9e58d7a",
   "metadata": {},
   "outputs": [
    {
     "data": {
      "text/plain": [
       "genus\n",
       "Salix            157\n",
       "Quercus          130\n",
       "Acer              63\n",
       "Psychotria        45\n",
       "Populus           45\n",
       "                ... \n",
       "Meiocarpidium      1\n",
       "Mazaea             1\n",
       "Maurocenia         1\n",
       "Coptosapelta       1\n",
       "Pachycarpus        1\n",
       "Length: 956, dtype: int64"
      ]
     },
     "execution_count": 24,
     "metadata": {},
     "output_type": "execute_result"
    }
   ],
   "source": [
    "label_col =\"genus\"\n",
    "df.value_counts(label_col)"
   ]
  },
  {
   "cell_type": "code",
   "execution_count": 27,
   "id": "06103e17-be31-40c1-af3c-bf94dbc3889a",
   "metadata": {},
   "outputs": [],
   "source": [
    "df = getattr(datamodule, f\"{subset}_dataset\").samples_df"
   ]
  },
  {
   "cell_type": "code",
   "execution_count": 30,
   "id": "a125fd62-2f9b-4637-a24f-353bc8e635c8",
   "metadata": {},
   "outputs": [
    {
     "data": {
      "text/plain": [
       "dict_keys([0, 1, 2, 3, 4])"
      ]
     },
     "execution_count": 30,
     "metadata": {},
     "output_type": "execute_result"
    }
   ],
   "source": [
    "a = df.head(5).to_dict()\n",
    "\n",
    "a.keys()\n",
    "\n",
    "a[\"path\"].keys()"
   ]
  },
  {
   "cell_type": "code",
   "execution_count": 33,
   "id": "d9cef520-b97d-4475-8b59-8aecac778f5c",
   "metadata": {},
   "outputs": [
    {
     "data": {
      "text/plain": [
       "(0, '/media/data_cifs/projects/prj_fossils/data/processed_data/data_splits/PNAS_family_100_512/train/Fagaceae/Fagaceae_Lithocarpus_densiflora_Axelrod_105.jpg', 'Fagaceae', 'Lithocarpus', 'densiflora', 'Axelrod', 'Axelrod_105')"
      ]
     },
     "execution_count": 33,
     "metadata": {},
     "output_type": "execute_result"
    }
   ],
   "source": [
    "a = df.head(5).to_records()\n",
    "\n",
    "a[0]"
   ]
  },
  {
   "cell_type": "code",
   "execution_count": 35,
   "id": "d14c655f-1b9b-45fa-86e8-71afe6185139",
   "metadata": {},
   "outputs": [
    {
     "data": {
      "text/html": [
       "\n",
       "                    Syncing run <strong><a href=\"https://wandb.ai/jrose/default/runs/10ejjfcz\" target=\"_blank\">true-rain-80</a></strong> to <a href=\"https://wandb.ai/jrose/default\" target=\"_blank\">Weights & Biases</a> (<a href=\"https://docs.wandb.com/integrations/jupyter.html\" target=\"_blank\">docs</a>).<br/>\n",
       "\n",
       "                "
      ],
      "text/plain": [
       "<IPython.core.display.HTML object>"
      ]
     },
     "metadata": {},
     "output_type": "display_data"
    },
    {
     "data": {
      "text/html": [
       "<br/>Waiting for W&B process to finish, PID 2433... <strong style=\"color:green\">(success).</strong>"
      ],
      "text/plain": [
       "<IPython.core.display.HTML object>"
      ]
     },
     "metadata": {},
     "output_type": "display_data"
    },
    {
     "data": {
      "application/vnd.jupyter.widget-view+json": {
       "model_id": "",
       "version_major": 2,
       "version_minor": 0
      },
      "text/plain": [
       "VBox(children=(Label(value=' 0.60MB of 1.20MB uploaded (0.00MB deduped)\\r'), FloatProgress(value=0.50034477532…"
      ]
     },
     "metadata": {},
     "output_type": "display_data"
    },
    {
     "data": {
      "text/html": [
       "<style>\n",
       "    table.wandb td:nth-child(1) { padding: 0 10px; text-align: right }\n",
       "    .wandb-row { display: flex; flex-direction: row; flex-wrap: wrap; width: 100% }\n",
       "    .wandb-col { display: flex; flex-direction: column; flex-basis: 100%; flex: 1; padding: 10px; }\n",
       "    </style>\n",
       "<div class=\"wandb-row\"><div class=\"wandb-col\">\n",
       "</div><div class=\"wandb-col\">\n",
       "</div></div>\n",
       "Synced 6 W&B file(s), 1 media file(s), 1 artifact file(s) and 1 other file(s)\n",
       "<br/>Synced <strong style=\"color:#cdcd00\">true-rain-80</strong>: <a href=\"https://wandb.ai/jrose/default/runs/10ejjfcz\" target=\"_blank\">https://wandb.ai/jrose/default/runs/10ejjfcz</a><br/>\n",
       "Find logs at: <code>./wandb/run-20211028_010316-10ejjfcz/logs</code><br/>\n"
      ],
      "text/plain": [
       "<IPython.core.display.HTML object>"
      ]
     },
     "metadata": {},
     "output_type": "display_data"
    }
   ],
   "source": [
    "wandb.init()\n",
    "\n",
    "data = df.to_records()\n",
    "table = wandb.Table(data=data, columns=[\"idx\", *df.columns])\n",
    "wandb.log({'my_histogram': wandb.plot.histogram(table, \"family\", title=None)})\n",
    "\n",
    "wandb.finish()"
   ]
  },
  {
   "cell_type": "code",
   "execution_count": null,
   "id": "920ebe31-76c4-4f30-ba84-3ee01ea9ab14",
   "metadata": {},
   "outputs": [],
   "source": []
  },
  {
   "cell_type": "code",
   "execution_count": 38,
   "id": "9e0d2f66-f35b-42d7-88c8-24c29182f0fc",
   "metadata": {},
   "outputs": [],
   "source": [
    "from typing import *\n",
    "\n",
    "\n",
    "def make_class_counts_table(df: pd.DataFrame, label_col: str=\"family\") -> wandb.Table:\n",
    "    \"\"\"\n",
    "    Convert a dataframe with long-form dataset labels into a class counts dataframe, then return as a wandb.Table\n",
    "    \n",
    "    Select column label_col for aggregation via count\n",
    "    \"\"\"\n",
    "\n",
    "    df = df.value_counts(label_col)        \n",
    "    data = [(label, count) for label, count in df.to_dict().items()]\n",
    "    table = wandb.Table(data=data, columns=[\"label\", \"value\"])\n",
    "    return table\n",
    "\n",
    "\n",
    "\n",
    "def make_wandb_table(df: pd.DataFrame, include_cols: Union[bool, List[str]]) -> wandb.Table:\n",
    "    \"\"\"\n",
    "    Create an arbitrary dataset metadata table in the form of a queryable wandb.Table\n",
    "    \n",
    "    Select columns from a dataframe and add all rows to a wandb.Table with only these columns\n",
    "    \"\"\"\n",
    "    if include_cols is True:\n",
    "        cols = df.columns\n",
    "    elif isinstance(include_cols, list):\n",
    "        cols = include_cols\n",
    "    else:\n",
    "        raise Exception(f\"Invalid value for include_cols={include_cols}. Must be either True or a list of strings.\")\n",
    "        \n",
    "    data = df[cols].to_records()\n",
    "    table = wandb.Table(data=data, columns=[\"idx\", *cols])\n",
    "    return table"
   ]
  },
  {
   "cell_type": "code",
   "execution_count": null,
   "id": "ed6f9a98-62e1-4586-9286-b7090c8ada54",
   "metadata": {},
   "outputs": [],
   "source": [
    "wandb.Artifact"
   ]
  },
  {
   "cell_type": "code",
   "execution_count": null,
   "id": "9315fc42-bfc0-4862-ab61-d97e18bd0ddc",
   "metadata": {},
   "outputs": [],
   "source": [
    "wandb.Artifact"
   ]
  },
  {
   "cell_type": "code",
   "execution_count": 44,
   "id": "2e6a7574-213b-4f27-a903-94147966e2f7",
   "metadata": {},
   "outputs": [
    {
     "ename": "SyntaxError",
     "evalue": "EOL while scanning string literal (4289874263.py, line 12)",
     "output_type": "error",
     "traceback": [
      "\u001b[0;36m  File \u001b[0;32m\"/tmp/ipykernel_14774/4289874263.py\"\u001b[0;36m, line \u001b[0;32m12\u001b[0m\n\u001b[0;31m    artifact_kwargs: Dict[str,Any]={\"name\":\"dataset\u001b[0m\n\u001b[0m                                                   ^\u001b[0m\n\u001b[0;31mSyntaxError\u001b[0m\u001b[0;31m:\u001b[0m EOL while scanning string literal\n"
     ]
    }
   ],
   "source": [
    "# Run 1: Create a dataset\n",
    "\n",
    "class WandbDatasetArtifactManager:\n",
    "    \n",
    "    def __init__(self,\n",
    "                 run,\n",
    "                 ):\n",
    "        self.run = run\n",
    "        \n",
    "        \n",
    "    def create_dataset_artifact(self,\n",
    "                                data_df: pd.DataFrame,\n",
    "                                include_cols: Union[bool, List[str]]=True,\n",
    "                                table_name: str=\"training_data\",\n",
    "                                artifact_kwargs: Dict[str,Any]={\"name\":\"dataset\",\n",
    "                                                                \"type\":\"dataset\"}\n",
    "                               ):\n",
    "\n",
    "        \n",
    "        art = wandb.Artifact(**artifact_kwargs)\n",
    "        table = make_wandb_table(df=data_df, include_cols=include_cols)\n",
    "        art.add(table, name=table_name)\n",
    "        self.run.log_artifact(art)\n",
    "        \n",
    "        \n",
    "    def use_artifact(artifact_or_name=\"dataset:latest\",\n",
    "                     table_name=\"training_data\"):\n",
    "        \n",
    "        return run.use_artifact(artifact_or_name).get(table_name)\n",
    "\n",
    "    \n",
    "\n",
    "    \n",
    "#         preds = wandb.Table(...) # load this up with predictions using \"training\" data\n",
    "#         art = wandb.Artifact(\"prediction\", \"results\")\n",
    "        \n",
    "#         art = wandb.Artifact(**artifact_kwargs)\n",
    "#         table = make_wandb_table(df=data_df, include_cols=include_cols)\n",
    "#         art.add(table, name=table_name)\n",
    "#         self.run.log_artifact(art)\n",
    "\n",
    "    def log_predictions_artifact(self,\n",
    "                                 preds_df: pd.DataFrame,\n",
    "                                 include_cols: Union[bool, List[str]]=True,\n",
    "                                 table_name: str=\"predictions_data\",\n",
    "                                 preds_key: str=\"catalog_number\",\n",
    "                                 ref_key: str=\"catalog_number\",\n",
    "                                 artifact_kwargs: Dict[str,Any]={\"name\":\"predictions\",\n",
    "                                                                 \"type\":\"results\"},\n",
    "                                 ref_artifact_kwargs: Dict[str,Any]={\"artifact_or_name\":\"dataset\",\n",
    "                                                                           \"version\":\"latest\",\n",
    "                                                                           \"table_name\":\"data_catalog\"}):\n",
    "\n",
    "        art = wandb.Artifact(**artifact_kwargs)\n",
    "        preds_table = make_wandb_table(df=preds_df, include_cols=include_cols)\n",
    "        art.add(table, name=table_name)\n",
    "        \n",
    "        artifact_or_name = ref_artifact_kwargs[\"artifact_or_name\"]\n",
    "        version = ref_artifact_kwargs[\"version\"]\n",
    "        if isinstance(artifact_or_name, str):\n",
    "            artifact_or_name = \":\".join([artifact_or_name , version])\n",
    "            \n",
    "        ref_table_name = ref_artifact_kwargs[\"table_name\"]\n",
    "        reference_table = self.use_artifact(artifact_or_name, table_name=ref_table_name)\n",
    "\n",
    "        # art = wandb.Artifact(\"prediction\", \"results\")\n",
    "        # Assuming training has a column called `t_id` and `preds` has a column named `p_id` (just making them different for illustrative purposes)\n",
    "        preds_table.set_fk(preds_key, reference_table, ref_key)\n",
    "        art.add(preds, ref_table_name)\n",
    "        run.log_artifact(art)\n",
    "\n",
    "\n",
    "\n",
    "        \n",
    "\n",
    "        \n",
    "    def get_artifact(self,\n",
    "                                data_df: pd.DataFrame,\n",
    "                                include_cols: Union[bool, List[str]]=True,\n",
    "                                table_name: str=\"training_data\",\n",
    "                                artifact_kwargs: Dict[str,Any]={\"name\":\"dataset\",\n",
    "                                                                \"type\":\"dataset\"}\n",
    "                               ):\n",
    "\n",
    "        \n",
    "# Run 2: Create model predictions based on the data and create a linked table\n",
    "# run = wandb.init(...)\n",
    "\n",
    "#     def log_predictions_artifact():\n",
    "\n",
    "#     training = run.use_artifact(\"dataset:latest\").get(\"training_data\")\n",
    "#     preds = wandb.Table(...) # load this up with predictions using \"training\" data\n",
    "#     art = wandb.Artifact(\"prediction\", \"results\")\n",
    "#     # Assuming training has a column called `t_id` and `preds` has a column named `p_id` (just making them different for illustrative purposes)\n",
    "#     preds.set_fk(\"p_id\", training, \"t_id\") # makes and explicit link between the tables\n",
    "#     art.add(preds, \"pred_data\")\n",
    "#     run.log_artifact(art)\n"
   ]
  },
  {
   "cell_type": "code",
   "execution_count": null,
   "id": "e62df336-efb8-44f3-913d-58a7300a7c8d",
   "metadata": {},
   "outputs": [],
   "source": []
  },
  {
   "cell_type": "code",
   "execution_count": null,
   "id": "96b06365-1ce8-48cf-8e41-4dac9dd057b3",
   "metadata": {},
   "outputs": [],
   "source": []
  },
  {
   "cell_type": "code",
   "execution_count": null,
   "id": "7004f0d8-660c-4583-920e-e115e4fb8fb1",
   "metadata": {},
   "outputs": [],
   "source": []
  },
  {
   "cell_type": "code",
   "execution_count": 39,
   "id": "fbed0f2f-f1b5-41d0-babe-a16fb07ab35e",
   "metadata": {},
   "outputs": [
    {
     "data": {
      "text/plain": [
       "<wandb.data_types.Table at 0x7f5d19d9e940>"
      ]
     },
     "execution_count": 39,
     "metadata": {},
     "output_type": "execute_result"
    }
   ],
   "source": [
    "table = make_wandb_table(df=df, include_cols=True)\n",
    "table"
   ]
  },
  {
   "cell_type": "code",
   "execution_count": 43,
   "id": "89ea1913-9fe9-4afb-90df-767120fa8cc4",
   "metadata": {},
   "outputs": [
    {
     "data": {
      "text/plain": [
       "2797"
      ]
     },
     "execution_count": 43,
     "metadata": {},
     "output_type": "execute_result"
    }
   ],
   "source": [
    "# data_table = table.to_data_array()\n",
    "\n",
    "len(table.data)"
   ]
  },
  {
   "cell_type": "code",
   "execution_count": 21,
   "id": "2b3e86e6-78da-434a-b5d0-8ec6fdfffe77",
   "metadata": {},
   "outputs": [
    {
     "data": {
      "text/html": [
       "\n",
       "                    Syncing run <strong><a href=\"https://wandb.ai/jrose/default/runs/a2xc471f\" target=\"_blank\">quiet-planet-78</a></strong> to <a href=\"https://wandb.ai/jrose/default\" target=\"_blank\">Weights & Biases</a> (<a href=\"https://docs.wandb.com/integrations/jupyter.html\" target=\"_blank\">docs</a>).<br/>\n",
       "\n",
       "                "
      ],
      "text/plain": [
       "<IPython.core.display.HTML object>"
      ]
     },
     "metadata": {},
     "output_type": "display_data"
    },
    {
     "name": "stdout",
     "output_type": "stream",
     "text": [
      "train\n",
      "val\n",
      "test\n"
     ]
    },
    {
     "data": {
      "text/html": [
       "<br/>Waiting for W&B process to finish, PID 19722... <strong style=\"color:green\">(success).</strong>"
      ],
      "text/plain": [
       "<IPython.core.display.HTML object>"
      ]
     },
     "metadata": {},
     "output_type": "display_data"
    },
    {
     "data": {
      "application/vnd.jupyter.widget-view+json": {
       "model_id": "",
       "version_major": 2,
       "version_minor": 0
      },
      "text/plain": [
       "VBox(children=(Label(value=' 0.00MB of 0.00MB uploaded (0.00MB deduped)\\r'), FloatProgress(value=1.0, max=1.0)…"
      ]
     },
     "metadata": {},
     "output_type": "display_data"
    },
    {
     "data": {
      "text/html": [
       "<style>\n",
       "    table.wandb td:nth-child(1) { padding: 0 10px; text-align: right }\n",
       "    .wandb-row { display: flex; flex-direction: row; flex-wrap: wrap; width: 100% }\n",
       "    .wandb-col { display: flex; flex-direction: column; flex-basis: 100%; flex: 1; padding: 10px; }\n",
       "    </style>\n",
       "<div class=\"wandb-row\"><div class=\"wandb-col\">\n",
       "</div><div class=\"wandb-col\">\n",
       "</div></div>\n",
       "Synced 7 W&B file(s), 3 media file(s), 3 artifact file(s) and 1 other file(s)\n",
       "<br/>Synced <strong style=\"color:#cdcd00\">quiet-planet-78</strong>: <a href=\"https://wandb.ai/jrose/default/runs/a2xc471f\" target=\"_blank\">https://wandb.ai/jrose/default/runs/a2xc471f</a><br/>\n",
       "Find logs at: <code>./wandb/run-20211028_002906-a2xc471f/logs</code><br/>\n"
      ],
      "text/plain": [
       "<IPython.core.display.HTML object>"
      ]
     },
     "metadata": {},
     "output_type": "display_data"
    }
   ],
   "source": [
    "import pandas as pd\n",
    "\n",
    "wandb.init()\n",
    "for subset in [\"train\", \"val\", \"test\"]:\n",
    "\n",
    "    df = getattr(datamodule, f\"{subset}_dataset\").samples_df\n",
    "    table = make_class_counts_table(df=df, label_col=\"family\")\n",
    "    \n",
    "    wandb.log({f\"class_counts/{subset}\": wandb.plot.bar(table, \"label\", \"value\", title=f\"class counts ({subset})\")})\n",
    "    print(subset)\n",
    "wandb.finish()"
   ]
  },
  {
   "cell_type": "code",
   "execution_count": null,
   "id": "1efe7bb6-9063-49db-bbab-361f99e4fa7f",
   "metadata": {},
   "outputs": [],
   "source": [
    "# clf_report = {k:v for k,v in clf_report.items() if k not in (\"accuracy\", \"macro avg\", \"weighted avg\")}\n",
    "# pp(clf_report)\n",
    "# precision = pd.DataFrame([(k, v[\"precision\"]) for k,v in clf_report.items()])\n",
    "# with wandb.init() as run:\n",
    "\n",
    "#     table = wandb.Table(data=precision, columns = [\"label\", \"value\"])\n",
    "#     wandb.log({\"clf_report/per-class-precision\": wandb.plot.bar(table, \"label\", \"value\", title=\"per-class-precision\")})"
   ]
  },
  {
   "cell_type": "code",
   "execution_count": 12,
   "id": "81cc6faa-b634-4873-b907-501e159e8355",
   "metadata": {},
   "outputs": [
    {
     "data": {
      "text/html": [
       "<pre style=\"white-space:pre;overflow-x:auto;line-height:normal;font-family:Menlo,'DejaVu Sans Mono',consolas,'Courier New',monospace\"><span style=\"font-weight: bold\">{</span>\n",
       "    <span style=\"color: #008000; text-decoration-color: #008000\">'0'</span>: <span style=\"font-weight: bold\">{</span>\n",
       "        <span style=\"color: #008000; text-decoration-color: #008000\">'precision'</span>: <span style=\"color: #000080; text-decoration-color: #000080; font-weight: bold\">0.3269230769230769</span>,\n",
       "        <span style=\"color: #008000; text-decoration-color: #008000\">'recall'</span>: <span style=\"color: #000080; text-decoration-color: #000080; font-weight: bold\">0.34</span>,\n",
       "        <span style=\"color: #008000; text-decoration-color: #008000\">'f1-score'</span>: <span style=\"color: #000080; text-decoration-color: #000080; font-weight: bold\">0.3333333333333333</span>,\n",
       "        <span style=\"color: #008000; text-decoration-color: #008000\">'support'</span>: <span style=\"color: #000080; text-decoration-color: #000080; font-weight: bold\">150</span>\n",
       "    <span style=\"font-weight: bold\">}</span>,\n",
       "    <span style=\"color: #008000; text-decoration-color: #008000\">'1'</span>: <span style=\"font-weight: bold\">{</span>\n",
       "        <span style=\"color: #008000; text-decoration-color: #008000\">'precision'</span>: <span style=\"color: #000080; text-decoration-color: #000080; font-weight: bold\">0.421875</span>,\n",
       "        <span style=\"color: #008000; text-decoration-color: #008000\">'recall'</span>: <span style=\"color: #000080; text-decoration-color: #000080; font-weight: bold\">0.35526315789473684</span>,\n",
       "        <span style=\"color: #008000; text-decoration-color: #008000\">'f1-score'</span>: <span style=\"color: #000080; text-decoration-color: #000080; font-weight: bold\">0.3857142857142857</span>,\n",
       "        <span style=\"color: #008000; text-decoration-color: #008000\">'support'</span>: <span style=\"color: #000080; text-decoration-color: #000080; font-weight: bold\">152</span>\n",
       "    <span style=\"font-weight: bold\">}</span>,\n",
       "    <span style=\"color: #008000; text-decoration-color: #008000\">'2'</span>: <span style=\"font-weight: bold\">{</span>\n",
       "        <span style=\"color: #008000; text-decoration-color: #008000\">'precision'</span>: <span style=\"color: #000080; text-decoration-color: #000080; font-weight: bold\">0.410958904109589</span>,\n",
       "        <span style=\"color: #008000; text-decoration-color: #008000\">'recall'</span>: <span style=\"color: #000080; text-decoration-color: #000080; font-weight: bold\">0.40540540540540543</span>,\n",
       "        <span style=\"color: #008000; text-decoration-color: #008000\">'f1-score'</span>: <span style=\"color: #000080; text-decoration-color: #000080; font-weight: bold\">0.40816326530612246</span>,\n",
       "        <span style=\"color: #008000; text-decoration-color: #008000\">'support'</span>: <span style=\"color: #000080; text-decoration-color: #000080; font-weight: bold\">148</span>\n",
       "    <span style=\"font-weight: bold\">}</span>,\n",
       "    <span style=\"color: #008000; text-decoration-color: #008000\">'3'</span>: <span style=\"font-weight: bold\">{</span>\n",
       "        <span style=\"color: #008000; text-decoration-color: #008000\">'precision'</span>: <span style=\"color: #000080; text-decoration-color: #000080; font-weight: bold\">0.3503184713375796</span>,\n",
       "        <span style=\"color: #008000; text-decoration-color: #008000\">'recall'</span>: <span style=\"color: #000080; text-decoration-color: #000080; font-weight: bold\">0.35947712418300654</span>,\n",
       "        <span style=\"color: #008000; text-decoration-color: #008000\">'f1-score'</span>: <span style=\"color: #000080; text-decoration-color: #000080; font-weight: bold\">0.3548387096774194</span>,\n",
       "        <span style=\"color: #008000; text-decoration-color: #008000\">'support'</span>: <span style=\"color: #000080; text-decoration-color: #000080; font-weight: bold\">153</span>\n",
       "    <span style=\"font-weight: bold\">}</span>,\n",
       "    <span style=\"color: #008000; text-decoration-color: #008000\">'4'</span>: <span style=\"font-weight: bold\">{</span>\n",
       "        <span style=\"color: #008000; text-decoration-color: #008000\">'precision'</span>: <span style=\"color: #000080; text-decoration-color: #000080; font-weight: bold\">0.3157894736842105</span>,\n",
       "        <span style=\"color: #008000; text-decoration-color: #008000\">'recall'</span>: <span style=\"color: #000080; text-decoration-color: #000080; font-weight: bold\">0.36363636363636365</span>,\n",
       "        <span style=\"color: #008000; text-decoration-color: #008000\">'f1-score'</span>: <span style=\"color: #000080; text-decoration-color: #000080; font-weight: bold\">0.3380281690140845</span>,\n",
       "        <span style=\"color: #008000; text-decoration-color: #008000\">'support'</span>: <span style=\"color: #000080; text-decoration-color: #000080; font-weight: bold\">132</span>\n",
       "    <span style=\"font-weight: bold\">}</span>,\n",
       "    <span style=\"color: #008000; text-decoration-color: #008000\">'5'</span>: <span style=\"font-weight: bold\">{</span>\n",
       "        <span style=\"color: #008000; text-decoration-color: #008000\">'precision'</span>: <span style=\"color: #000080; text-decoration-color: #000080; font-weight: bold\">0.2907801418439716</span>,\n",
       "        <span style=\"color: #008000; text-decoration-color: #008000\">'recall'</span>: <span style=\"color: #000080; text-decoration-color: #000080; font-weight: bold\">0.2827586206896552</span>,\n",
       "        <span style=\"color: #008000; text-decoration-color: #008000\">'f1-score'</span>: <span style=\"color: #000080; text-decoration-color: #000080; font-weight: bold\">0.2867132867132867</span>,\n",
       "        <span style=\"color: #008000; text-decoration-color: #008000\">'support'</span>: <span style=\"color: #000080; text-decoration-color: #000080; font-weight: bold\">145</span>\n",
       "    <span style=\"font-weight: bold\">}</span>,\n",
       "    <span style=\"color: #008000; text-decoration-color: #008000\">'6'</span>: <span style=\"font-weight: bold\">{</span>\n",
       "        <span style=\"color: #008000; text-decoration-color: #008000\">'precision'</span>: <span style=\"color: #000080; text-decoration-color: #000080; font-weight: bold\">0.2974683544303797</span>,\n",
       "        <span style=\"color: #008000; text-decoration-color: #008000\">'recall'</span>: <span style=\"color: #000080; text-decoration-color: #000080; font-weight: bold\">0.3092105263157895</span>,\n",
       "        <span style=\"color: #008000; text-decoration-color: #008000\">'f1-score'</span>: <span style=\"color: #000080; text-decoration-color: #000080; font-weight: bold\">0.30322580645161296</span>,\n",
       "        <span style=\"color: #008000; text-decoration-color: #008000\">'support'</span>: <span style=\"color: #000080; text-decoration-color: #000080; font-weight: bold\">152</span>\n",
       "    <span style=\"font-weight: bold\">}</span>,\n",
       "    <span style=\"color: #008000; text-decoration-color: #008000\">'7'</span>: <span style=\"font-weight: bold\">{</span>\n",
       "        <span style=\"color: #008000; text-decoration-color: #008000\">'precision'</span>: <span style=\"color: #000080; text-decoration-color: #000080; font-weight: bold\">0.31333333333333335</span>,\n",
       "        <span style=\"color: #008000; text-decoration-color: #008000\">'recall'</span>: <span style=\"color: #000080; text-decoration-color: #000080; font-weight: bold\">0.30718954248366015</span>,\n",
       "        <span style=\"color: #008000; text-decoration-color: #008000\">'f1-score'</span>: <span style=\"color: #000080; text-decoration-color: #000080; font-weight: bold\">0.31023102310231027</span>,\n",
       "        <span style=\"color: #008000; text-decoration-color: #008000\">'support'</span>: <span style=\"color: #000080; text-decoration-color: #000080; font-weight: bold\">153</span>\n",
       "    <span style=\"font-weight: bold\">}</span>,\n",
       "    <span style=\"color: #008000; text-decoration-color: #008000\">'8'</span>: <span style=\"font-weight: bold\">{</span>\n",
       "        <span style=\"color: #008000; text-decoration-color: #008000\">'precision'</span>: <span style=\"color: #000080; text-decoration-color: #000080; font-weight: bold\">0.3873239436619718</span>,\n",
       "        <span style=\"color: #008000; text-decoration-color: #008000\">'recall'</span>: <span style=\"color: #000080; text-decoration-color: #000080; font-weight: bold\">0.32934131736526945</span>,\n",
       "        <span style=\"color: #008000; text-decoration-color: #008000\">'f1-score'</span>: <span style=\"color: #000080; text-decoration-color: #000080; font-weight: bold\">0.3559870550161812</span>,\n",
       "        <span style=\"color: #008000; text-decoration-color: #008000\">'support'</span>: <span style=\"color: #000080; text-decoration-color: #000080; font-weight: bold\">167</span>\n",
       "    <span style=\"font-weight: bold\">}</span>,\n",
       "    <span style=\"color: #008000; text-decoration-color: #008000\">'9'</span>: <span style=\"font-weight: bold\">{</span>\n",
       "        <span style=\"color: #008000; text-decoration-color: #008000\">'precision'</span>: <span style=\"color: #000080; text-decoration-color: #000080; font-weight: bold\">0.29411764705882354</span>,\n",
       "        <span style=\"color: #008000; text-decoration-color: #008000\">'recall'</span>: <span style=\"color: #000080; text-decoration-color: #000080; font-weight: bold\">0.33783783783783783</span>,\n",
       "        <span style=\"color: #008000; text-decoration-color: #008000\">'f1-score'</span>: <span style=\"color: #000080; text-decoration-color: #000080; font-weight: bold\">0.3144654088050315</span>,\n",
       "        <span style=\"color: #008000; text-decoration-color: #008000\">'support'</span>: <span style=\"color: #000080; text-decoration-color: #000080; font-weight: bold\">148</span>\n",
       "    <span style=\"font-weight: bold\">}</span>\n",
       "<span style=\"font-weight: bold\">}</span>\n",
       "</pre>\n"
      ],
      "text/plain": [
       "<rich.jupyter.JupyterRenderable at 0x7f5d8f438af0>"
      ]
     },
     "metadata": {},
     "output_type": "display_data"
    },
    {
     "data": {
      "text/html": [
       "\n",
       "                    Syncing run <strong><a href=\"https://wandb.ai/jrose/default/runs/1g10cc5q\" target=\"_blank\">jolly-salad-77</a></strong> to <a href=\"https://wandb.ai/jrose/default\" target=\"_blank\">Weights & Biases</a> (<a href=\"https://docs.wandb.com/integrations/jupyter.html\" target=\"_blank\">docs</a>).<br/>\n",
       "\n",
       "                "
      ],
      "text/plain": [
       "<IPython.core.display.HTML object>"
      ]
     },
     "metadata": {},
     "output_type": "display_data"
    },
    {
     "data": {
      "text/html": [
       "<br/>Waiting for W&B process to finish, PID 22725... <strong style=\"color:green\">(success).</strong>"
      ],
      "text/plain": [
       "<IPython.core.display.HTML object>"
      ]
     },
     "metadata": {},
     "output_type": "display_data"
    },
    {
     "data": {
      "application/vnd.jupyter.widget-view+json": {
       "model_id": "",
       "version_major": 2,
       "version_minor": 0
      },
      "text/plain": [
       "VBox(children=(Label(value=' 0.00MB of 0.00MB uploaded (0.00MB deduped)\\r'), FloatProgress(value=0.67597765363…"
      ]
     },
     "metadata": {},
     "output_type": "display_data"
    },
    {
     "data": {
      "text/html": [
       "<style>\n",
       "    table.wandb td:nth-child(1) { padding: 0 10px; text-align: right }\n",
       "    .wandb-row { display: flex; flex-direction: row; flex-wrap: wrap; width: 100% }\n",
       "    .wandb-col { display: flex; flex-direction: column; flex-basis: 100%; flex: 1; padding: 10px; }\n",
       "    </style>\n",
       "<div class=\"wandb-row\"><div class=\"wandb-col\">\n",
       "</div><div class=\"wandb-col\">\n",
       "</div></div>\n",
       "Synced 6 W&B file(s), 1 media file(s), 1 artifact file(s) and 1 other file(s)\n",
       "<br/>Synced <strong style=\"color:#cdcd00\">jolly-salad-77</strong>: <a href=\"https://wandb.ai/jrose/default/runs/1g10cc5q\" target=\"_blank\">https://wandb.ai/jrose/default/runs/1g10cc5q</a><br/>\n",
       "Find logs at: <code>./wandb/run-20211027_222204-1g10cc5q/logs</code><br/>\n"
      ],
      "text/plain": [
       "<IPython.core.display.HTML object>"
      ]
     },
     "metadata": {},
     "output_type": "display_data"
    }
   ],
   "source": [
    "import wandb\n",
    "\n",
    "clf_report = {k:v for k,v in clf_report.items() if k not in (\"accuracy\", \"macro avg\", \"weighted avg\")}\n",
    "pp(clf_report)\n",
    "\n",
    "precision = pd.DataFrame([(k, v[\"precision\"]) for k,v in clf_report.items()])\n",
    "\n",
    "\n",
    "with wandb.init() as run:\n",
    "\n",
    "    table = wandb.Table(data=precision, columns = [\"label\", \"value\"])\n",
    "    wandb.log({\"clf_report/per-class-precision\": wandb.plot.bar(table, \"label\", \"value\", title=\"per-class-precision\")})\n"
   ]
  },
  {
   "cell_type": "code",
   "execution_count": 4,
   "id": "4d4a1096-31f5-4750-8c61-5a3cb6f05989",
   "metadata": {},
   "outputs": [
    {
     "data": {
      "text/plain": [
       "'0.12.6'"
      ]
     },
     "execution_count": 4,
     "metadata": {},
     "output_type": "execute_result"
    }
   ],
   "source": [
    "wandb.__version__"
   ]
  },
  {
   "cell_type": "code",
   "execution_count": 8,
   "id": "8de625bf-e5f1-4ef7-a99f-830ca14435ea",
   "metadata": {},
   "outputs": [
    {
     "name": "stdout",
     "output_type": "stream",
     "text": [
      "Requirement already satisfied: wandb in /media/data/conda/jrose3/envs/sequoia/lib/python3.8/site-packages (0.10.26)\n",
      "Collecting wandb\n",
      "  Downloading wandb-0.12.6-py2.py3-none-any.whl (1.7 MB)\n",
      "\u001b[K     |████████████████████████████████| 1.7 MB 8.3 MB/s eta 0:00:01\n",
      "\u001b[?25hRequirement already satisfied: python-dateutil>=2.6.1 in /media/data/conda/jrose3/envs/sequoia/lib/python3.8/site-packages (from wandb) (2.8.1)\n",
      "Requirement already satisfied: configparser>=3.8.1 in /media/data/conda/jrose3/envs/sequoia/lib/python3.8/site-packages (from wandb) (5.0.1)\n",
      "Requirement already satisfied: protobuf>=3.12.0 in /media/data/conda/jrose3/envs/sequoia/lib/python3.8/site-packages (from wandb) (3.17.3)\n",
      "Requirement already satisfied: shortuuid>=0.5.0 in /media/data/conda/jrose3/envs/sequoia/lib/python3.8/site-packages (from wandb) (1.0.1)\n",
      "Requirement already satisfied: docker-pycreds>=0.4.0 in /media/data/conda/jrose3/envs/sequoia/lib/python3.8/site-packages (from wandb) (0.4.0)\n",
      "Requirement already satisfied: Click!=8.0.0,>=7.0 in /media/data/conda/jrose3/envs/sequoia/lib/python3.8/site-packages (from wandb) (8.0.1)\n",
      "Requirement already satisfied: GitPython>=1.0.0 in /media/data/conda/jrose3/envs/sequoia/lib/python3.8/site-packages (from wandb) (3.1.13)\n",
      "Requirement already satisfied: pathtools in /media/data/conda/jrose3/envs/sequoia/lib/python3.8/site-packages (from wandb) (0.1.2)\n",
      "Requirement already satisfied: requests<3,>=2.0.0 in /media/data/conda/jrose3/envs/sequoia/lib/python3.8/site-packages (from wandb) (2.25.1)\n",
      "Requirement already satisfied: PyYAML in /media/data/conda/jrose3/envs/sequoia/lib/python3.8/site-packages (from wandb) (5.4)\n",
      "Requirement already satisfied: subprocess32>=3.5.3 in /media/data/conda/jrose3/envs/sequoia/lib/python3.8/site-packages (from wandb) (3.5.4)\n",
      "Requirement already satisfied: promise<3,>=2.0 in /media/data/conda/jrose3/envs/sequoia/lib/python3.8/site-packages (from wandb) (2.3)\n",
      "Requirement already satisfied: six>=1.13.0 in /media/data/conda/jrose3/envs/sequoia/lib/python3.8/site-packages (from wandb) (1.15.0)\n",
      "Requirement already satisfied: psutil>=5.0.0 in /media/data/conda/jrose3/envs/sequoia/lib/python3.8/site-packages (from wandb) (5.8.0)\n",
      "Requirement already satisfied: gitdb<5,>=4.0.1 in /media/data/conda/jrose3/envs/sequoia/lib/python3.8/site-packages (from GitPython>=1.0.0->wandb) (4.0.5)\n",
      "Requirement already satisfied: smmap<4,>=3.0.1 in /media/data/conda/jrose3/envs/sequoia/lib/python3.8/site-packages (from gitdb<5,>=4.0.1->GitPython>=1.0.0->wandb) (3.0.5)\n",
      "Requirement already satisfied: urllib3<1.27,>=1.21.1 in /media/data/conda/jrose3/envs/sequoia/lib/python3.8/site-packages (from requests<3,>=2.0.0->wandb) (1.26.4)\n",
      "Requirement already satisfied: chardet<5,>=3.0.2 in /media/data/conda/jrose3/envs/sequoia/lib/python3.8/site-packages (from requests<3,>=2.0.0->wandb) (3.0.4)\n",
      "Requirement already satisfied: certifi>=2017.4.17 in /media/data/conda/jrose3/envs/sequoia/lib/python3.8/site-packages (from requests<3,>=2.0.0->wandb) (2021.5.30)\n",
      "Requirement already satisfied: idna<3,>=2.5 in /media/data/conda/jrose3/envs/sequoia/lib/python3.8/site-packages (from requests<3,>=2.0.0->wandb) (2.10)\n",
      "Collecting sentry-sdk>=1.0.0\n",
      "  Downloading sentry_sdk-1.4.3-py2.py3-none-any.whl (139 kB)\n",
      "\u001b[K     |████████████████████████████████| 139 kB 37.0 MB/s eta 0:00:01\n",
      "\u001b[?25hCollecting yaspin>=1.0.0\n",
      "  Downloading yaspin-2.1.0-py3-none-any.whl (18 kB)\n",
      "Collecting termcolor<2.0.0,>=1.1.0\n",
      "  Downloading termcolor-1.1.0.tar.gz (3.9 kB)\n",
      "Building wheels for collected packages: termcolor\n",
      "  Building wheel for termcolor (setup.py) ... \u001b[?25ldone\n",
      "\u001b[?25h  Created wheel for termcolor: filename=termcolor-1.1.0-py3-none-any.whl size=4829 sha256=1a47ae728f690bddb2200877816fbb7d7e7e22b188dbf817320fd54fbef1ceca\n",
      "  Stored in directory: /home/jrose3/.cache/pip/wheels/a0/16/9c/5473df82468f958445479c59e784896fa24f4a5fc024b0f501\n",
      "Successfully built termcolor\n",
      "Installing collected packages: termcolor, yaspin, sentry-sdk, wandb\n",
      "  Attempting uninstall: sentry-sdk\n",
      "    Found existing installation: sentry-sdk 0.20.2\n",
      "    Uninstalling sentry-sdk-0.20.2:\n",
      "      Successfully uninstalled sentry-sdk-0.20.2\n",
      "  Attempting uninstall: wandb\n",
      "    Found existing installation: wandb 0.10.26\n",
      "    Uninstalling wandb-0.10.26:\n",
      "      Successfully uninstalled wandb-0.10.26\n",
      "\u001b[31mERROR: pip's dependency resolver does not currently take into account all the packages that are installed. This behaviour is the source of the following dependency conflicts.\n",
      "sequoia 0.0.1.post154.dev0+g082e3b0 requires pyyaml!=5.4.*,>=5.1, but you have pyyaml 5.4 which is incompatible.\u001b[0m\n",
      "Successfully installed sentry-sdk-1.4.3 termcolor-1.1.0 wandb-0.12.6 yaspin-2.1.0\n"
     ]
    }
   ],
   "source": [
    "!pip install --upgrade wandb"
   ]
  },
  {
   "cell_type": "code",
   "execution_count": null,
   "id": "771b7981",
   "metadata": {},
   "outputs": [],
   "source": [
    "# import plotly.express as px\n",
    "import numpy as np\n",
    "df = px.data.iris()\n",
    "df"
   ]
  },
  {
   "cell_type": "code",
   "execution_count": null,
   "id": "1626224e",
   "metadata": {},
   "outputs": [],
   "source": [
    "labels_df = pd.read_csv(\"/media/data_cifs/projects/prj_fossils/users/jacob/experiments/July2021-Nov2021/csv_datasets/leavesdb-v1_0/Extant_Leaves_family_3_512/Extant_Leaves_family_3_512-full_dataset.csv\")\n",
    "labels = sorted(list(set(labels_df.family)))\n",
    "labels[:5]"
   ]
  },
  {
   "cell_type": "code",
   "execution_count": null,
   "id": "24d18c77",
   "metadata": {},
   "outputs": [],
   "source": [
    "import plotly.express as px\n",
    "import plotly.figure_factory as ff\n",
    "from typing import *\n",
    "# num_classes = 14    \n",
    "    \n",
    "def plot_confusion_matrix(cm: pd.DataFrame,\n",
    "                          labels: List[str]=None,\n",
    "                          robust: bool=False,\n",
    "                          title: str=\"Confusion matrix of val predictions for model\",\n",
    "                          save_path: Optional[str]=None,\n",
    "                          backend=\"seaborn\"):\n",
    "    \"\"\"\n",
    "    Helper function with good defaults for quickly plotting confusion matrices, whether num_classes=10 or 200.\n",
    "    \n",
    "    \"\"\"\n",
    "    num_classes = cm.shape[0]\n",
    "    \n",
    "    linewidths = 0.01\n",
    "    if num_classes < 15:\n",
    "        figsize = (9,8)\n",
    "    elif num_classes < 60:\n",
    "        figsize = (18,16)\n",
    "    elif num_classes < 150:\n",
    "        figsize = (18,16)\n",
    "        linewidths = 0.0\n",
    "    elif num_classes >= 150:\n",
    "        figsize = (27, 24)\n",
    "        linewidths = 0.0\n",
    "\n",
    "    annot = True if num_classes<=35 else False\n",
    "\n",
    "    if backend==\"plotly\":\n",
    "        import plotly.figure_factory as ff\n",
    "        \n",
    "        size = 20*num_classes\n",
    "        fig = ff.create_annotated_heatmap(z=cm,\n",
    "                                          x=labels,\n",
    "                                          y=labels,\n",
    "                                          annotation_text=None)\n",
    "        fig.update_layout(height=size,\n",
    "                          width=size+40)\n",
    "#         fig = px.imshow(cm,\n",
    "#                         labels=dict(x=\"Predicted Labels\", y=\"True Labels\", color=\"Count\"),\n",
    "#                         title=title)\n",
    "        ax = plt.gca()\n",
    "        if isinstance(save_path, str):\n",
    "            fig.write_html(f\"{save_path}.html\")\n",
    "            \n",
    "    elif backend==\"seaborn\":\n",
    "        fig, ax = plt.subplots(1,1, figsize=figsize)\n",
    "\n",
    "        sns.heatmap(cm,\n",
    "                    linewidths=linewidths,\n",
    "                    robust=robust,\n",
    "                    square=True,\n",
    "                    annot=annot,\n",
    "                    cbar_kws={\"shrink\": .9})\n",
    "        plt.title(title)\n",
    "        if isinstance(save_path, str):\n",
    "            plt.savefig(f\"{save_path}.png\")\n",
    "    \n",
    "    return fig, ax\n",
    "\n",
    "\n",
    "num_classes = 100\n",
    "print(f\"plotting {num_classes} out of {len(labels)} total classes\")\n",
    "fig, ax = plot_confusion_matrix(cm=cm_df.iloc[:num_classes,:num_classes].values,\n",
    "                                labels=labels[:num_classes],\n",
    "                                robust=False,\n",
    "                                title=\"Confusion matrix of val predictions for model\",\n",
    "                                backend=\"plotly\") #\"seaborn\")\n",
    "\n",
    "fig.show()"
   ]
  },
  {
   "cell_type": "code",
   "execution_count": null,
   "id": "f9340744",
   "metadata": {},
   "outputs": [],
   "source": [
    "fig.write_html(\"test_conf_matrix.html\")"
   ]
  },
  {
   "cell_type": "code",
   "execution_count": null,
   "id": "072539a6",
   "metadata": {},
   "outputs": [],
   "source": [
    "import wandb\n",
    "\n",
    "\n",
    "with wandb.init() as run:\n",
    "    \n",
    "    wandb.log({\"chart\":fig})"
   ]
  },
  {
   "cell_type": "code",
   "execution_count": null,
   "id": "fab9b6fe",
   "metadata": {},
   "outputs": [],
   "source": [
    "\n",
    "\n",
    "import plotly.express as px\n",
    "\n",
    "fig = px.imshow([[1, 20, 30],\n",
    "                 [20, 1, 60],\n",
    "                 [30, 60, 1]])\n",
    "fig.show()"
   ]
  },
  {
   "cell_type": "code",
   "execution_count": null,
   "id": "aa04504d",
   "metadata": {},
   "outputs": [],
   "source": [
    "!pip list | grep jupyterlab"
   ]
  },
  {
   "cell_type": "code",
   "execution_count": null,
   "id": "bf460bb4",
   "metadata": {},
   "outputs": [],
   "source": [
    "!pip list | grep plotly"
   ]
  },
  {
   "cell_type": "markdown",
   "id": "e0018d43",
   "metadata": {
    "heading_collapsed": "true",
    "tags": []
   },
   "source": [
    "# Part II: PyTorch layer monitoring with hooks\n",
    "\n",
    "Source: https://towardsdatascience.com/the-one-pytorch-trick-which-you-should-know-2d5e9c1da2ca"
   ]
  },
  {
   "cell_type": "code",
   "execution_count": null,
   "id": "cdf5daa0",
   "metadata": {},
   "outputs": [],
   "source": [
    "import torch\n",
    "from PIL import Image\n",
    "from torchvision import transforms as T\n",
    "from torchvision.models import resnet34\n",
    "\n",
    "import matplotlib.pyplot as plt\n",
    "import os\n",
    "from pathlib import Path\n",
    "from typing import *\n",
    "\n",
    "import numpy as np\n",
    "\n",
    "from tqdm.auto import trange, tqdm\n",
    "\n",
    "\n",
    "import collections\n",
    "from torch import nn\n",
    "from torchinfo import summary\n",
    "\n",
    "\n",
    "def tensor2np(tensor: torch.Tensor) -> np.ndarray:\n",
    "    return tensor.detach().to('cpu').numpy()    \n",
    "\n",
    "\n",
    "class SaveOutput:\n",
    "    \"\"\"\n",
    "    Simple container class to be used by ModelHookImageRecorder\n",
    "    Maintains a list of model outputs produced during inference after an instance of this class has been registered as a forward hook.\n",
    "    \"\"\"\n",
    "    def __init__(self):\n",
    "        self.outputs = []\n",
    "        \n",
    "    def __call__(self, module, module_in, module_out):\n",
    "        self.outputs.append(module_out)\n",
    "        \n",
    "    def clear(self):\n",
    "        self.outputs = []\n",
    "        \n",
    "        \n",
    "class ModelHookImageRecorder:\n",
    "    \n",
    "    \"\"\"\n",
    "    Available methods:\n",
    "    \n",
    "    __init__\n",
    "    adjust_plot_kwargs\n",
    "    clear\n",
    "    get_device\n",
    "    \n",
    "    register_model\n",
    "    register_image\n",
    "    display_layers\n",
    "    display_layer\n",
    "    \n",
    "    TBD:\n",
    "        - Create a clean looking repr for the class\n",
    "        - Allow configurable saving workflows optimized for specific analysis needs (e.g. format outpaths into subdirectories for each input image vs. each layer)\n",
    "        - Improve the channel visualization -- adapt # of axes to # of channels.\n",
    "        \n",
    "    configs (TBD):\n",
    "        - \n",
    "            i. compare models & images side-by-side:\n",
    "                - root/layer_{0}/{img_names[0]}__{model_names.A}.jpg\n",
    "                - root/layer_{0}/{img_names[0]}__{model_names.B}.jpg\n",
    "                - root/layer_{0}/{img_names[1]}__{model_names.A}.jpg\n",
    "                - root/layer_{0}/{img_names[1]}__{model_names.B}.jpg\n",
    "                - root/...\n",
    "                - root/layer_{0}/{img_names[m]}__{model_names.A}.jpg\n",
    "                - root/layer_{0}/{img_names[m]}__{model_names.B}.jpg\n",
    "                - root/...\n",
    "                - root/layer_{n}/{img_names[m]}__{model_names.A}.jpg\n",
    "                - root/layer_{n}/{img_names[m]}__{model_names.B}.jpg\n",
    "\n",
    "                \n",
    "            i. compare models & layers side-by-side:\n",
    "                - root/{img_names[0]}/layer_{0}__{model_names.A}.jpg\n",
    "                - root/{img_names[0]}/layer_{0}__{model_names.B}.jpg\n",
    "                - root/...\n",
    "                - root/{img_names[0]}/layer_{n}__{model_names.A}.jpg\n",
    "                - root/{img_names[0]}/layer_{n}__{model_names.B}.jpg\n",
    "                - root/...\n",
    "                - root/{img_names[m]}/layer_{0}__{model_names.A}.jpg\n",
    "                - root/{img_names[m]}/layer_{0}__{model_names.B}.jpg\n",
    "                - root/...\n",
    "                - root/{img_names[m]}/layer_{n}__{model_names.A}.jpg\n",
    "                - root/{img_names[m]}/layer_{n}__{model_names.B}.jpg\n",
    "                \n",
    "\n",
    "\n",
    "\n",
    "    \"\"\"\n",
    "    \n",
    "    def __init__(self, \n",
    "                 model: torch.nn.Module,\n",
    "                 save_dir: Optional[Union[Path, str]]=None,\n",
    "                 save_conv_outputs: bool=True,\n",
    "                 save_model_summary: bool=True,\n",
    "                 model_name: str=\"\",\n",
    "                 img_path: Optional[str]=None,\n",
    "                 img_tensor: Optional[torch.Tensor]=None,\n",
    "                 img_size: Tuple[int]=(224,224)):\n",
    "        self._saver = SaveOutput()\n",
    "        self.clear()\n",
    "        self.adjust_plot_kwargs()\n",
    "        self.save_dir = save_dir\n",
    "        self.img_size = img_size\n",
    "        self.register_model(model, model_name, save_conv_outputs, save_model_summary)\n",
    "        self.register_image(img_path, img_tensor, img_size)\n",
    "\n",
    "    def clear(self):\n",
    "        self._saver.clear()\n",
    "        self.hook_handles = []\n",
    "        self.layer_names = []\n",
    "        self.output_paths = []\n",
    "        for attr in [\"img\", \"img_path\", \"img_tensor\", \"img_size\", \"output_tensor\"]:\n",
    "            if hasattr(self, attr):\n",
    "                setattr(self, attr, None)\n",
    "\n",
    "    def get_device(self):\n",
    "        if hasattr(self.model, \"device\"):\n",
    "            return self.model.device\n",
    "        return torch.device('cuda') if torch.cuda.is_available() else torch.device('cpu')\n",
    "        \n",
    "        \n",
    "    def register_model(self, \n",
    "                       model: torch.nn.Module,\n",
    "                       model_name: str=\"\",\n",
    "                       save_conv_outputs: bool=True,\n",
    "                       save_model_summary: bool=True):\n",
    "        self.model = model\n",
    "        self.device = self.get_device()\n",
    "        self.model_name = model_name\n",
    "        self.save_conv_outputs = save_conv_outputs\n",
    "        self.save_model_summary = save_model_summary\n",
    "\n",
    "        if save_model_summary:\n",
    "            self.model_summary = log_model_summary(model=model,\n",
    "                                                   input_size=(1,3,*self.img_size),\n",
    "                                                   full_summary=True,\n",
    "                                                   working_dir=self.save_dir,\n",
    "                                                   model_name=model_name)\n",
    "        \n",
    "        modules = list(self.model.named_modules())\n",
    "        for i, (name, layer) in enumerate(modules):\n",
    "            if self.save_conv_outputs and isinstance(layer, torch.nn.modules.conv.Conv2d):\n",
    "                handle = layer.register_forward_hook(self._saver)\n",
    "                self.hook_handles.append(handle)\n",
    "                self.layer_names.append(name)\n",
    "                print(f\"Layer {name} ({i}/{len(modules)}): Registered forward_hook\")\n",
    "        \n",
    "        \n",
    "    def register_image(self,\n",
    "                       path: Optional[str]=None,\n",
    "                       img_tensor: Optional[torch.Tensor]=None,\n",
    "                       img_size: Tuple[int]=(224,224)):\n",
    "        self.img_size = img_size\n",
    "        self.input_transform = T.Compose([T.Resize(self.img_size), T.ToTensor()])\n",
    "        \n",
    "        if os.path.isfile(str(path)):\n",
    "            self.img_path = path\n",
    "            self.img = Image.open(path)\n",
    "            self.img_tensor = self.input_transform(self.img).to(self.model.device)\n",
    "        elif img_tensor is not None:\n",
    "            self.img_path = None\n",
    "            self.img = None\n",
    "            self.img_tensor = img_tensor            \n",
    "        else:\n",
    "            raise ArgumentError(\"Must pass either a path to an on-disk image file or a ready-to-use image tensor.\")\n",
    "            \n",
    "        if self.img_tensor.ndimension() == 3:\n",
    "            self.img_tensor = self.img_tensor.unsqueeze(dim=0)\n",
    "        if self.img_tensor.ndimension() == 4:\n",
    "            self.num_imgs = self.img_tensor.shape[0]\n",
    "        self.output_tensor = self.model(self.img_tensor)\n",
    "\n",
    "\n",
    "    def adjust_plot_kwargs(self, reset_to_defaults: Optional[bool]=False, **kwargs):\n",
    "        if reset_to_defaults or (not hasattr(self, \"plot_kwargs\")):\n",
    "            self.plot_kwargs = {\"figsize\": (20, 20),\n",
    "                                \"gridsize\": (4, 4),\n",
    "                                \"rect\": (0.0, 0.0, 1.0, 0.97)}\n",
    "#                                 \"rect\": (0.0, 0.0, 1.0, 0.97)}\n",
    "        self.plot_kwargs.update(kwargs)\n",
    " \n",
    "\n",
    "    def display_layer(self,\n",
    "                      layer_index: int=0,\n",
    "                      save_dir: Optional[Union[Path, str]]=None,\n",
    "                      figtitle: Union[bool, str]=False,\n",
    "                      verbose: bool=True):\n",
    "        \"\"\"\n",
    "        Display the output arrays from layers[layer_index] arranged in a 4x4 grid & optionally save them to disk.\n",
    "        \"\"\"\n",
    "        \n",
    "        model_name = self.model_name\n",
    "        img_name = \"default\"\n",
    "        if isinstance(self.img_path, (Path, str)):\n",
    "            img_name = Path(self.img_path).stem\n",
    "\n",
    "        output_imgs = tensor2np(self._saver.outputs[layer_index])\n",
    "\n",
    "        if verbose: print(f\"Displaying first 16 channels from the output of layer #{layer_index}\")\n",
    "            \n",
    "        #TODO move the ugly code here into a separate plot image grid function\n",
    "        with plt.style.context(\"seaborn-white\"):\n",
    "            for img_idx in trange(self.num_imgs, desc=\"input imgs:\", position=1):\n",
    "                plt.figure(figsize=self.plot_kwargs[\"figsize\"], frameon=False, constrained_layout=True)\n",
    "                max_channels_to_plot = np.prod(self.plot_kwargs['gridsize'])\n",
    "                for idx in trange(max_channels_to_plot, desc=f\"Channels:\", position=2):\n",
    "                    plt.subplot(*self.plot_kwargs[\"gridsize\"], idx+1)\n",
    "                    plt.imshow(output_imgs[0, idx])\n",
    "                plt.setp(plt.gcf().get_axes(), xticks=[], yticks=[]);\n",
    "\n",
    "    #             plt.tight_layout(self.plot_kwargs[\"rect\"])\n",
    "                if figtitle is True:\n",
    "                    figtitle = f\"Image: {img_name}|Model: {model_name}|conv layer: {layer_index}, shape(B,C,H,W)={output_imgs.shape}|first {max_channels_to_plot} channels\"\n",
    "                if isinstance(figtitle, str): plt.suptitle(figtitle, fontsize=\"x-large\") #medium\")\n",
    "\n",
    "                if (save_dir is None) and (self.save_dir is not None):\n",
    "                    save_dir = self.save_dir    \n",
    "                if isinstance(save_dir, (Path, str)):\n",
    "    #                 outpath = os.path.join(save_dir, model_name, f\"layer_{layer_index}\", img_name + \".jpg\")\n",
    "                    outpath = os.path.join(save_dir, f\"layer_{layer_index}\", img_name + \".jpg\")\n",
    "                    os.makedirs(Path(outpath).parent, exist_ok=True)\n",
    "                    plt.savefig(outpath)\n",
    "                    if verbose:\n",
    "                        print(f\"Exported conv layer outputs to image file: {outpath}\")\n",
    "                    self.output_paths.append(outpath)\n",
    "\n",
    "                \n",
    "    def display_layers(self,\n",
    "                      layer_range: Optional[Union[int, Sequence]]=None,\n",
    "                      save_dir: Optional[Union[Path, str]]=None,\n",
    "                      figtitle: Union[bool, str]=False,\n",
    "                      verbose: bool=True):\n",
    "        \"\"\"\n",
    "        Call recorder.display_layer on the set of model layers indicated in layer_range.\n",
    "        \"\"\"\n",
    "        layer_range = self.get_indices(index=layer_range)\n",
    "        \n",
    "        for idx in tqdm(layer_range, desc=f\"Layers:\", total=len(layer_range), position=0):\n",
    "            self.display_layer(layer_index=idx,\n",
    "                               save_dir=save_dir,\n",
    "                               figtitle=figtitle,\n",
    "                               verbose=verbose)\n",
    "            \n",
    "        return self.output_paths\n",
    "    \n",
    "    def _get_index(self, index: int=None) -> int:\n",
    "        max_layers = len(self.hook_handles)\n",
    "        if index is None:\n",
    "            index = max_layers\n",
    "        if isinstance(index, int):\n",
    "            if index < 0:\n",
    "                index = max_layers + index\n",
    "        return index\n",
    "        \n",
    "    def get_indices(self, index: Union[int, Sequence]) -> List:\n",
    "        if (index is None) or isinstance(index, int):\n",
    "            return list(range(self._get_index(index)))\n",
    "        if isinstance(index, Sequence):\n",
    "            index = list(index)\n",
    "            for i in range(len(index)):\n",
    "                index[i] = self._get_index(index[i])\n",
    "        else:\n",
    "            raise ArgumentError(\"index must be either an int, Sequence-like type, or None.\")\n",
    "        return index\n",
    "\n",
    "    \n",
    "    \n",
    "\n",
    "\n",
    "# __all__ = [\"log_model_summary\"]\n",
    "\n",
    "\n",
    "def log_model_summary(model: nn.Module,\n",
    "                      input_size: Tuple[int],\n",
    "                      full_summary: bool=True,\n",
    "                      working_dir: str=\".\",\n",
    "                      model_name: Optional[str]=None,\n",
    "                      verbose: bool=1):\n",
    "    \"\"\"\n",
    "    produce a text file with the model summary\n",
    "    \n",
    "    TODO: Add this to Eval Plugins\n",
    "    \n",
    "    log_model_summary(model=model,\n",
    "                  working_dir=working_dir,\n",
    "                  input_size=(1, data_config.channels, *data_config.image_size),\n",
    "                  full_summary=True)\n",
    "\n",
    "    \"\"\"\n",
    "\n",
    "    if full_summary:\n",
    "        col_names=(\"kernel_size\", \"input_size\",\"output_size\", \"num_params\", \"mult_adds\")\n",
    "    else:\n",
    "        col_names=(\"input_size\",\"output_size\", \"num_params\")\n",
    "\n",
    "    model_summary = summary(model.cuda(),\n",
    "                            input_size=input_size,\n",
    "                            row_settings=('depth', 'var_names'),\n",
    "                            col_names=col_names,\n",
    "                            verbose=verbose)\n",
    "\n",
    "    if (model_name in (\"\", None)) and (hasattr(model, \"name\")):\n",
    "        model_name = model.name\n",
    "    if (model_name in (\"\", None)):\n",
    "        summary_path = os.path.join(working_dir, f'model_summary.txt')\n",
    "    else:\n",
    "        summary_path = os.path.join(working_dir, f'{model_name}_model_summary.txt')\n",
    "    \n",
    "    os.makedirs(os.path.dirname(summary_path), exist_ok=True)\n",
    "\n",
    "    with open(summary_path, \"w\") as f:\n",
    "        f.write(str(model_summary))\n",
    "        \n",
    "    return model_summary"
   ]
  },
  {
   "cell_type": "markdown",
   "id": "f996dd4e",
   "metadata": {},
   "source": [
    "## Merging from code moved to script"
   ]
  },
  {
   "cell_type": "code",
   "execution_count": null,
   "id": "acdce822",
   "metadata": {},
   "outputs": [],
   "source": []
  },
  {
   "cell_type": "code",
   "execution_count": null,
   "id": "728f4a53",
   "metadata": {},
   "outputs": [],
   "source": [
    "from lightning_hydra_classifiers.models.utils.visualize_model_layers import *\n",
    "\n",
    "from lightning_hydra_classifiers.scripts.multitask.train import load_data \n",
    "# MultiTaskDataModule, LitMultiTaskModule, ImagePredictionLogger, train_task,  CIFAR10DataModule, run_multitask_test, load_data_and_model #, resolve_config, configure_callbacks, configure_loggers, configure_trainer\n",
    "# from lightning_hydra_classifiers.data.datasets.common import toPIL\n",
    "from lightning_hydra_classifiers.utils.etl_utils import ETL\n",
    "from omegaconf import OmegaConf\n",
    "from rich import print as pp"
   ]
  },
  {
   "cell_type": "code",
   "execution_count": null,
   "id": "3d2d4787",
   "metadata": {},
   "outputs": [],
   "source": [
    "\n",
    "parser = build_parser()\n",
    "args = parser.parse_args(\"\")\n",
    "args.img_size = (args.resolution, args.resolution)\n",
    "pp(args)\n",
    "\n",
    "\n",
    "\n",
    "overrides = ['model/backbone=resnet50',\"data=extant_to_pnas\", f\"data.image_size={args.resolution}\", \"trainer.max_epochs=2\", \"data.batch_size=32\", \"trainer.precision=16\", \"trainer.gpus=[7]\"]\n",
    "config = ETL.load_hydra_config(config_name = \"config\",\n",
    "                              config_path = \"/media/data/jacob/GitHub/lightning-hydra-classifiers/configs\",\n",
    "                              overrides=overrides)\n",
    "\n",
    "task_id = 1\n",
    "pp(config.data)\n",
    "datamodule = load_data(config,\n",
    "                       task_id=task_id)"
   ]
  },
  {
   "cell_type": "code",
   "execution_count": null,
   "id": "050ff990",
   "metadata": {},
   "outputs": [],
   "source": [
    "\n",
    "# datamodule.train_dataset.fetch_item(0)\n",
    "\n",
    "# img_batch = next(iter(datamodule.train_dataloader()))[0]\n",
    "#\n",
    "# img_batch = None\n",
    "# args.img_path = datamodule.train_dataset.fetch_item(20).metadata[\"path\"]\n",
    "# args.img_path"
   ]
  },
  {
   "cell_type": "code",
   "execution_count": null,
   "id": "080035ec",
   "metadata": {},
   "outputs": [],
   "source": [
    "from tqdm.auto import trange, tqdm\n",
    "\n",
    "dataset = datamodule.train_dataset\n",
    "num_imgs = 10\n",
    "img_indices = np.random.randint(0, len(dataset), size=num_imgs)\n",
    "\n",
    "device = torch.device('cuda') if (torch.cuda.is_available() and not args.cpu_only) else torch.device('cpu')\n",
    "\n",
    "from torchvision import models\n",
    "MODEL_FACTORY = getattr(models, args.model)\n",
    "model = MODEL_FACTORY(pretrained=args.pretrained)\n",
    "model = model.to(device)\n",
    "model.device = device\n",
    "\n",
    "if args.model not in args.save_dir:\n",
    "    args.save_dir = os.path.join(args.save_dir, args.model)\n",
    "\n",
    "img_batch = None\n",
    "save_model_summary=True\n",
    "for img_idx in tqdm(img_indices, desc=\"input imgs:\", position=0):\n",
    "\n",
    "    args.img_path = dataset.fetch_item(img_idx).metadata[\"path\"]\n",
    "\n",
    "    hook_recorder = LayerOutputsImageRecorder(model=model,\n",
    "                                              save_dir=args.save_dir,\n",
    "                                              save_conv_outputs=True,\n",
    "                                              save_model_summary=save_model_summary,\n",
    "                                              model_name=args.model,\n",
    "                                              img_tensor=img_batch,\n",
    "                                              img_path=args.img_path,\n",
    "                                              img_size=args.img_size)\n",
    "    save_model_summary=False\n",
    "#     break\n",
    "\n",
    "#     max_hooks = len(hook_recorder.hook_handles)\n",
    "#     num_hooks = 4\n",
    "#     layer_range=range(0, max_hooks, max_hooks//num_hooks)\n",
    "\n",
    "    layer_range = [0,1,-2,-1]\n",
    "\n",
    "    hook_recorder.display_layers(layer_range=layer_range,\n",
    "                                 save_dir=args.save_dir,\n",
    "                                 figtitle=True)\n",
    "    hook_recorder.clear()"
   ]
  },
  {
   "cell_type": "code",
   "execution_count": null,
   "id": "f63fcaee",
   "metadata": {},
   "outputs": [],
   "source": []
  },
  {
   "cell_type": "code",
   "execution_count": null,
   "id": "7b70311f",
   "metadata": {},
   "outputs": [],
   "source": []
  },
  {
   "cell_type": "code",
   "execution_count": null,
   "id": "038d82e2",
   "metadata": {},
   "outputs": [],
   "source": []
  },
  {
   "cell_type": "markdown",
   "id": "59ee8aaa",
   "metadata": {},
   "source": [
    "## Demo layer visualization"
   ]
  },
  {
   "cell_type": "code",
   "execution_count": null,
   "id": "39f54191",
   "metadata": {},
   "outputs": [],
   "source": [
    "device = torch.device('cuda') if torch.cuda.is_available() else torch.device('cpu')\n",
    "\n",
    "model = resnet34(pretrained=True)\n",
    "model = model.to(device)\n",
    "model.device = device\n",
    "\n",
    "\n",
    "# img_path = \"/media/data/jacob/GitHub/lightning-hydra-classifiers/tests/test_images/wide_aspect_ratio_leaf_image.jpg\"\n",
    "img_path = \"/media/data_cifs/projects/prj_fossils/data/processed_data/leavesdb-v1_0/images/Extant_Leaves/512/3/jpg/Fabaceae/Fabaceae_Erythrina_herbacea_Wolfe_Wolfe_30524a.jpg\"\n",
    "model_name = \"resnet34\"\n",
    "save_dir = os.path.join(os.getcwd(), model_name)\n",
    "img_size = (224,224)\n",
    "\n",
    "print(f\"Model: {model_name}| device={str(device)}| img={Path(img_path).stem}| img_size={img_size}\")\n",
    "\n",
    "\n",
    "hook_recorder = ModelHookImageRecorder(model=model,\n",
    "                                       save_dir=save_dir,\n",
    "                                       save_conv_outputs=True,\n",
    "                                       save_model_summary=True,\n",
    "                                       model_name=model_name,\n",
    "                                       img_path=img_path,\n",
    "                                       img_size=img_size)\n",
    "\n",
    "\n",
    "# for idx in range(5):\n",
    "#     hook_recorder.display_layer(idx, figtitle=True)\n",
    "\n",
    "\n",
    "\n",
    "# hook_recorder.display_layers(layer_range=[-1,-2,-3,3,2,1],\n",
    "#                              save_dir=save_dir,\n",
    "#                              figtitle=True)\n",
    "\n",
    "max_hooks = len(hook_recorder.hook_handles)\n",
    "num_hooks = 6\n",
    "\n",
    "hook_recorder.display_layers(layer_range=range(0, max_hooks, max_hooks//num_hooks),\n",
    "                             save_dir=save_dir,\n",
    "                             figtitle=True)"
   ]
  },
  {
   "cell_type": "code",
   "execution_count": null,
   "id": "b840e10a",
   "metadata": {},
   "outputs": [],
   "source": [
    "# save_output = SaveOutput()\n",
    "\n",
    "# hook_handles = []\n",
    "\n",
    "# for layer in model.modules():\n",
    "#     if isinstance(layer, torch.nn.modules.conv.Conv2d):\n",
    "#         handle = layer.register_forward_hook(save_output)\n",
    "#         hook_handles.append(handle)\n",
    "\n",
    "# img_path = \"/media/data/jacob/GitHub/lightning-hydra-classifiers/tests/test_images/wide_aspect_ratio_leaf_image.jpg\"\n",
    "\n",
    "# image = Image.open(img_path)\n",
    "# transform = T.Compose([T.Resize((224, 224)), T.ToTensor()])\n",
    "# X = transform(image).unsqueeze(dim=0).to(device)\n",
    "\n",
    "# out = model(X)"
   ]
  },
  {
   "cell_type": "code",
   "execution_count": null,
   "id": "5318696d",
   "metadata": {},
   "outputs": [],
   "source": [
    "# import matplotlib.pyplot as plt\n",
    "# import os\n",
    "# from pathlib import Path\n",
    "# def tensor2np(tensor: torch.Tensor) -> np.ndarray:\n",
    "#     return tensor.detach().to('cpu').numpy()    \n",
    "\n",
    "\n",
    "# def display_layer(layer_index: int=0,\n",
    "#                   save_dir: Union[Path, str]=os.getcwd(), \n",
    "#                   figtitle: Union[bool, str]=False,\n",
    "#                   verbose: bool=True):\n",
    "#     model_name = self.model_name\n",
    "#     img_name = \"default\"\n",
    "#     if hasattr(self, \"img_path\"):\n",
    "#         img_name = Path(img_path).stem\n",
    "\n",
    "#     output_imgs = tensor2np(save_output.outputs[layer_index])\n",
    "\n",
    "#     if verbose: print(f\"Displaying first 16 channels from the output of layer #{layer_index}\")\n",
    "#     with plt.style.context(\"seaborn-white\"):\n",
    "#         plt.figure(figsize=(20, 20), frameon=False)\n",
    "#         for idx in range(16):\n",
    "#             plt.subplot(4, 4, idx+1)\n",
    "#             plt.imshow(images[0, idx])\n",
    "#         plt.setp(plt.gcf().get_axes(), xticks=[], yticks=[]);\n",
    "#         if figtitle is True:\n",
    "#             figtitle = f\"Image: {img_name}|Model: {model_name}|conv layer: {layer_index}\"\n",
    "#         if isinstance(figtitle, str): plt.suptitle(figtitle)\n",
    "#         outpath = os.path.join(save_dir, model_name, f\"layer_{layer_index}\", img_name + \".jpg\")\n",
    "#         os.makedirs(Path(outpath).parent, exist_ok=True)\n",
    "#         plt.savefig(outpath)\n",
    "#         if verbose:\n",
    "#             print(f\"Exported conv layer outputs to image file: {outpath}\")"
   ]
  },
  {
   "cell_type": "code",
   "execution_count": null,
   "id": "c9b905f0",
   "metadata": {},
   "outputs": [],
   "source": []
  },
  {
   "cell_type": "code",
   "execution_count": null,
   "id": "80575056",
   "metadata": {},
   "outputs": [],
   "source": []
  },
  {
   "cell_type": "code",
   "execution_count": null,
   "id": "915b203a",
   "metadata": {},
   "outputs": [],
   "source": []
  },
  {
   "cell_type": "markdown",
   "id": "aea30290",
   "metadata": {
    "heading_collapsed": "true",
    "tags": []
   },
   "source": [
    "# End"
   ]
  },
  {
   "cell_type": "code",
   "execution_count": null,
   "id": "7f557bdf",
   "metadata": {},
   "outputs": [],
   "source": [
    "import os\n",
    "os.listdir(Path(predictions_path).parent)"
   ]
  },
  {
   "cell_type": "code",
   "execution_count": null,
   "id": "424d9f61",
   "metadata": {},
   "outputs": [],
   "source": []
  },
  {
   "cell_type": "markdown",
   "id": "044892bf",
   "metadata": {
    "heading_collapsed": "true",
    "tags": []
   },
   "source": [
    "# Part I Ignore, predictions"
   ]
  },
  {
   "cell_type": "code",
   "execution_count": null,
   "id": "e1cb81b6",
   "metadata": {},
   "outputs": [],
   "source": [
    "# from rich import print as pp\n",
    "\n",
    "# import lux\n",
    "# import pandas as pd\n",
    "# lux.config.default_display = \"pandas\"\n",
    "\n",
    "# from lightning_hydra_classifiers.utils.etl_utils import ETL\n",
    "# from omegaconf import OmegaConf\n",
    "\n",
    "\n",
    "# predictions_path = '/media/data_cifs/projects/prj_fossils/users/jacob/experiments/July2021-Nov2021/experiment_logs/Transfer_Experiments/feature_extractor-PNAS-19_classes-res_512-bsz_32-resnet50-pretrained_True-pool_avg/replicate_1/results/task_1/test_predictions.csv'\n",
    "\n",
    "# data = pd.read_csv(predictions_path)\n",
    "# data\n",
    "\n",
    "# from lightning_hydra_classifiers.utils.report_utils.pandas_embed_images import df_embed_paths2imgs\n",
    "# from pathlib import Path\n",
    "\n",
    "\n",
    "# df_html = df_embed_paths2imgs(df=data,\n",
    "#                               file_path=str(Path(predictions_path.strip(\".csv\"))),\n",
    "#                               path_col=\"paths\",\n",
    "#                               display=True)"
   ]
  }
 ],
 "metadata": {
  "kernelspec": {
   "display_name": "Python 3.8.5 64-bit ('sequoia': conda)",
   "language": "python",
   "name": "python385jvsc74a57bd01c0686ae52b501c5138d1ad3c292b1aad199ba0a61e288abba1616901d57bf21"
  },
  "language_info": {
   "codemirror_mode": {
    "name": "ipython",
    "version": 3
   },
   "file_extension": ".py",
   "mimetype": "text/x-python",
   "name": "python",
   "nbconvert_exporter": "python",
   "pygments_lexer": "ipython3",
   "version": "3.8.5"
  }
 },
 "nbformat": 4,
 "nbformat_minor": 5
}
