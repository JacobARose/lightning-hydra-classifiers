{
 "cells": [
  {
   "cell_type": "markdown",
   "id": "56df29ba-7307-4cf7-a65d-796eb281cbde",
   "metadata": {},
   "source": [
    "# Testing code for file directory hash comparison and change detection (WIP)\n",
    "\n",
    "Created On: Nov 22nd, 2021  \n",
    "Created by: Jacob A Rose"
   ]
  },
  {
   "cell_type": "code",
   "execution_count": null,
   "id": "0a5f88ed-cc69-4d3d-989d-d9d48c75160c",
   "metadata": {},
   "outputs": [],
   "source": [
    "%%time\n",
    "\n",
    "import os\n",
    "import copy\n",
    "from rich import print as pp\n",
    "from dirhash import dirhash\n",
    "from tqdm.auto import tqdm\n",
    "root_dir = \"/media/data_cifs/projects/prj_fossils/data/processed_data/leavesdb-v1_0/images/Fossil/General_Fossil/original/full/jpg/\"\n",
    "\n",
    "hash_index = {}\n",
    "for subdir in tqdm(list(os.scandir(root_dir))):\n",
    "    hash_index[subdir.name] = {\"md5\": dirhash(subdir.path, \"md5\"), # os.path.join(root_dir, subdir), \"md5\"),\n",
    "                               \"absolute_path\": subdir.path,\n",
    "                               \"subdir\":subdir.name}\n",
    "\n",
    "# dir_md5 = dirhash(dirpath, \"md5\")\n",
    "# pyfiles_md5 = dirhash(dirpath, \"md5\", match=[\"*.py\"])\n",
    "# no_hidden_sha1 = dirhash(dirpath, \"sha1\", ignore=[\".*\", \".*/\"])\n",
    "pp(hash_index)\n",
    "\n",
    "import copy\n",
    "old_hash_index = copy.deepcopy(hash_index)\n",
    "\n",
    "%%time\n",
    "\n",
    "new_hash_index = {}\n",
    "for subdir in tqdm(list(os.scandir(root_dir))):\n",
    "    new_hash_index[subdir.name] = {\"md5\": dirhash(subdir.path, \"md5\"), # os.path.join(root_dir, subdir), \"md5\"),\n",
    "                                   \"absolute_path\": subdir.path,\n",
    "                                   \"subdir\":subdir.name}\n",
    "\n",
    "\n",
    "for k in old_hash_index.keys():\n",
    "    \n",
    "    print(f\"k={k}: old={old_hash_index[k]}, \"+\"\\n\"+f\"new={new_hash_index[k]}\")\n",
    "    if np.all([old==new for old, new in zip(old_hash_index.values(), new_hash_index.values())]):\n",
    "        print(\"ALL EQUAL\")\n",
    "    else:\n",
    "        print(f\"CHANGE DETECTED\")\n",
    "    \n",
    "    \n",
    "\n",
    "dir(list(hash_index.keys())[0])\n",
    "\n",
    "# list(hash_index.keys())[0].name\n",
    "# list(hash_index.keys())[0].path\n",
    "# list(hash_index.keys())[0].stat()\n",
    "# list(hash_index.keys())[0].is_dir()\n",
    "# list(hash_index.keys())[0].inode()"
   ]
  }
 ],
 "metadata": {
  "kernelspec": {
   "display_name": "Python 3.8.5 64-bit ('sequoia': conda)",
   "language": "python",
   "name": "python385jvsc74a57bd01c0686ae52b501c5138d1ad3c292b1aad199ba0a61e288abba1616901d57bf21"
  },
  "language_info": {
   "codemirror_mode": {
    "name": "ipython",
    "version": 3
   },
   "file_extension": ".py",
   "mimetype": "text/x-python",
   "name": "python",
   "nbconvert_exporter": "python",
   "pygments_lexer": "ipython3",
   "version": "3.8.5"
  }
 },
 "nbformat": 4,
 "nbformat_minor": 5
}
