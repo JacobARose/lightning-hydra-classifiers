{
 "cells": [
  {
   "cell_type": "markdown",
   "id": "3f99fc83",
   "metadata": {},
   "source": [
    "## Notebook 3.\n",
    "\n",
    "file: `3_16bit-precision-single-gpu_tune-batchsize--tune_lr.ipynb`\n",
    "### 16bit precision on a single gpu -- include a batch_size tuning step,, then a learning_rate tuning step, before training then testing\n",
    "\n",
    "Created by: Jacob A Rose  \n",
    "Created on: Tuesday July 6th, 2021"
   ]
  },
  {
   "cell_type": "markdown",
   "id": "d887e6b6",
   "metadata": {},
   "source": [
    "### Scaling model training series\n",
    "\n",
    "A collection of notebooks meant to demonstrate minimal-complexity examples for:\n",
    "* Integrating new training methods for scaling up experiments to large numbers in parallel &\n",
    "* Making maximum use of hardware resources\n",
    "\n",
    "1. 16bit precision, single gpu, train -> test\n",
    "2. 16bit precision, single gpu, batch_size tune -> train -> test\n",
    "3. 16bit precision, single gpu, batch_size tune -> lr tune -> train -> test"
   ]
  },
  {
   "cell_type": "code",
   "execution_count": 3,
   "id": "ff401527",
   "metadata": {},
   "outputs": [
    {
     "data": {
      "text/plain": [
       "15360"
      ]
     },
     "execution_count": 3,
     "metadata": {},
     "output_type": "execute_result"
    }
   ],
   "source": [
    "num_gpus = 2\n",
    "60*128*num_gpus"
   ]
  },
  {
   "cell_type": "code",
   "execution_count": 1,
   "id": "54c4b45f",
   "metadata": {},
   "outputs": [
    {
     "name": "stderr",
     "output_type": "stream",
     "text": [
      "/media/data/conda/jrose3/envs/sequoia/lib/python3.8/site-packages/pytorch_lightning/metrics/__init__.py:43: LightningDeprecationWarning: `pytorch_lightning.metrics.*` module has been renamed to `torchmetrics.*` and split off to its own package (https://github.com/PyTorchLightning/metrics) since v1.3 and will be removed in v1.5\n",
      "  rank_zero_deprecation(\n"
     ]
    },
    {
     "data": {
      "text/plain": [
       "'1.3.7'"
      ]
     },
     "execution_count": 1,
     "metadata": {},
     "output_type": "execute_result"
    }
   ],
   "source": [
    "import pytorch_lightning as pl\n",
    "pl.__version__"
   ]
  },
  {
   "cell_type": "code",
   "execution_count": 2,
   "id": "7c80eb12",
   "metadata": {},
   "outputs": [
    {
     "data": {
      "text/plain": [
       "'1.7.1'"
      ]
     },
     "execution_count": 2,
     "metadata": {},
     "output_type": "execute_result"
    }
   ],
   "source": [
    "import torch\n",
    "torch.__version__"
   ]
  },
  {
   "cell_type": "code",
   "execution_count": 1,
   "id": "76172356",
   "metadata": {},
   "outputs": [
    {
     "name": "stderr",
     "output_type": "stream",
     "text": [
      "/media/data/conda/jrose3/envs/sequoia/lib/python3.8/site-packages/pytorch_lightning/metrics/__init__.py:43: LightningDeprecationWarning: `pytorch_lightning.metrics.*` module has been renamed to `torchmetrics.*` and split off to its own package (https://github.com/PyTorchLightning/metrics) since v1.3 and will be removed in v1.5\n",
      "  rank_zero_deprecation(\n"
     ]
    }
   ],
   "source": [
    "from typing import Any, List\n",
    "from pytorch_lightning.metrics.classification import Accuracy\n",
    "\n",
    "import shutil\n",
    "import os\n",
    "import torch\n",
    "from torch.nn import functional as F\n",
    "from torch.utils.data import DataLoader\n",
    "from torchvision.datasets import MNIST\n",
    "from torchvision import transforms\n",
    "import pytorch_lightning as pl\n",
    "\n",
    "import rich\n",
    "# from rich import pretty\n",
    "# rich.pretty.install()\n",
    "\n",
    "if 'TOY_DATA_DIR' not in os.environ: \n",
    "    os.environ['TOY_DATA_DIR'] = \"/media/data_cifs/projects/prj_fossils/data/toy_data\"\n",
    "        \n",
    "default_root_dir = os.environ['TOY_DATA_DIR']"
   ]
  },
  {
   "cell_type": "code",
   "execution_count": 2,
   "id": "2d68b97b",
   "metadata": {},
   "outputs": [],
   "source": [
    "import matplotlib.pyplot as plt"
   ]
  },
  {
   "cell_type": "code",
   "execution_count": 3,
   "id": "253a1cf7",
   "metadata": {},
   "outputs": [],
   "source": [
    "import gc\n",
    "# gc.collect()"
   ]
  },
  {
   "cell_type": "code",
   "execution_count": 4,
   "id": "dfce2fea",
   "metadata": {},
   "outputs": [],
   "source": [
    "    \n",
    "    \n",
    "def main(config_path = \"/media/data/jacob/GitHub/lightning-hydra-classifiers/configs/experiment/3_16bit_precision-single_gpu--tune_batchsize--tune_lr.yaml\"):\n",
    "    \n",
    "    \n",
    "    config = read_hydra_config(config_dir = str(Path(config_path).parent),\n",
    "                               job_name=\"test_app\",\n",
    "                               config_name=Path(config_path).stem)\n",
    "    template_utils.extras(config)\n",
    "    \n",
    "    if \"seed\" in config:\n",
    "        pl.seed_everything(config.seed)\n",
    "    \n",
    "#     import pdb; pdb.set_trace()\n",
    "    \n",
    "#     from IPython.core import debugger\n",
    "#     debugger.set_trace()\n",
    "    \n",
    "#############################################################################\n",
    "    if os.path.isfile(config.hparams_log_path):\n",
    "        config.hparams.update(OmegaConf.load(config.hparams_log_path))\n",
    "        if isinstance(config.hparams.batch_size, int):\n",
    "            config.tuner.scale_batch_size.tuned = True\n",
    "        if isinstance(config.hparams.lr, float):\n",
    "            config.tuner.lr_find.tuned = True\n",
    "        os.makedirs(config.log_dir, exist_ok=True)\n",
    "        shutil.copyfile(config.hparams_log_path, Path(config.log_dir, Path(config.hparams_log_path).name))\n",
    "    else:\n",
    "        os.makedirs(Path(config.hparams_log_path).parent, exist_ok=True)\n",
    "#############################################################################\n",
    "#     if not config.tuner.scale_batch_size.tuned:\n",
    "#         config.hparams.batch_size = config.tuner.scale_batch_size.kwargs.init_val\n",
    "        \n",
    "#     if not config.tuner.lr_find.tuned:\n",
    "#         config.hparams.lr = config.tuner.lr_find.kwargs.min_lr\n",
    "        \n",
    "\n",
    "        \n",
    "    \n",
    "    for k,v in config.hparams.items():\n",
    "        print(k, v, type(v))\n",
    "\n",
    "#############################################################################\n",
    "#     if config.hparams.batch_size is None:\n",
    "    if not config.tuner.scale_batch_size.tuned:\n",
    "        log.info(f\"<----------Initiating auto scale_batch_size tuning----------->\")\n",
    "        log.info(f\"Tuning kwargs:\")\n",
    "        log.info(OmegaConf.to_yaml(config.tuner.scale_batch_size.kwargs))\n",
    "        # TODO: create hparams dataclass for checkpointing these tuned parameters\n",
    "        \n",
    "        config.hparams.batch_size = config.tuner.scale_batch_size.kwargs.init_val        \n",
    "        config.hparams.lr = config.tuner.lr_find.kwargs.min_lr\n",
    "        datamodule, config = configure_datamodule(config)    \n",
    "        template_utils.print_config(config, resolve=True)\n",
    "        model = configure_model(config)\n",
    "        tuner = configure_tuner(config)\n",
    "\n",
    "        \n",
    "        best_bsz = tuner.scale_batch_size(model,\n",
    "                                          datamodule=datamodule,\n",
    "                                          **config.tuner.scale_batch_size.kwargs)\n",
    "        config.hparams.batch_size = best_bsz\n",
    "        \n",
    "        log.info(\"<----------scale_batch_size-Results----------->\")\n",
    "        log.info(f'Best batch_size={best_bsz}')\n",
    "        \n",
    "        del datamodule, model, tuner        \n",
    "        gc.collect()\n",
    "        torch.cuda.empty_cache()\n",
    "\n",
    "#     datamodule.batch_size = config.hparams.batch_size\n",
    "#     model.batch_size = config.hparams.batch_size\n",
    "    if not config.tuner.lr_find.tuned:\n",
    "        config.hparams.lr = \"default\"\n",
    "    OmegaConf.save(config.hparams, resolve=True, f=config.hparams_log_path)\n",
    "#############################################################################\n",
    "\n",
    "\n",
    "#############################################################################\n",
    "    if not config.tuner.lr_find.tuned:\n",
    "        config.hparams.lr = config.tuner.lr_find.kwargs.min_lr\n",
    "        log.info(f\"<----------Initiating learning_rate tuning----------->\")\n",
    "        log.info(f\"Tuning kwargs:\")\n",
    "        log.info(OmegaConf.to_yaml(config.tuner.lr_find.kwargs))\n",
    "        \n",
    "#         config.hparams.lr = config.tuner.lr_find.kwargs.min_lr\n",
    "        datamodule, config = configure_datamodule(config)    \n",
    "        template_utils.print_config(config, resolve=True)\n",
    "        model = configure_model(config)\n",
    "        tuner = configure_tuner(config)\n",
    "\n",
    "        \n",
    "        lr_finder = tuner.lr_find(model=model,\n",
    "                                  datamodule=datamodule,\n",
    "                                  **config.tuner.lr_find.kwargs)\n",
    "\n",
    "        log.info(\"<----------lr_finder-Results----------->\")\n",
    "        log.info(f\"Best lr: {lr_finder.results}\")\n",
    "\n",
    "        fig = lr_finder.plot(suggest=True)\n",
    "        plt.savefig(Path(config.hparams_log_path).parent / \"lr_tuning_plot.png\")\n",
    "        config.hparams.lr = lr_finder.suggestion()\n",
    "   \n",
    "        del datamodule, model, tuner        \n",
    "        gc.collect()\n",
    "        torch.cuda.empty_cache()\n",
    "        \n",
    "\n",
    "#     model.lr = config.hparams.lr\n",
    "    OmegaConf.save(config.hparams, resolve=True, f=config.hparams_log_path)\n",
    "    \n",
    "    \n",
    "#############################################################################\n",
    "\n",
    "    datamodule, config = configure_datamodule(config)    \n",
    "    template_utils.print_config(config, resolve=True)\n",
    "    model = configure_model(config)\n",
    "        \n",
    "    trainer = configure_trainer(config)\n",
    "    print(f'[START] Training with tuned batch_size = {config.hparams.batch_size}')\n",
    "    print(f'and tuned learning rate = {config.hparams.lr}')\n",
    "    \n",
    "    trainer.fit(model, datamodule=datamodule)    \n",
    "    test_results = trainer.test(datamodule=datamodule)\n",
    "    \n",
    "    return test_results, config.hparams"
   ]
  },
  {
   "cell_type": "markdown",
   "id": "714b142f",
   "metadata": {
    "tags": []
   },
   "source": [
    "### Function definitions\n",
    "\n",
    "1. Configure logger (using python's logging module)\n",
    "2. Configure experiment Config (using hydra + omegaconf.DictConfig)\n",
    "3. Configure datamodule (using custom LightningDataModule)\n",
    "4. Configure model (using custom LightningModule)\n",
    "5. Configure trainer (using pl.Trainer, as well as pytorch lightning loggers & callbacks)"
   ]
  },
  {
   "cell_type": "code",
   "execution_count": 5,
   "id": "1f23686f",
   "metadata": {},
   "outputs": [],
   "source": [
    "import sys\n",
    "import logging\n",
    "from lightning_hydra_classifiers.utils import template_utils\n",
    "import hydra\n",
    "from hydra.experimental import compose, initialize_config_dir\n",
    "from omegaconf import OmegaConf, DictConfig\n",
    "from pathlib import Path\n",
    "from rich.logging import RichHandler\n",
    "\n",
    "def get_standard_python_logger(name: str='notebook',\n",
    "                               log_path: str=None):\n",
    "    \"\"\"\n",
    "    Set up the standard python logging module for command line debugging\n",
    "    \"\"\"\n",
    "    if log_path is None:\n",
    "        log_path = f\"./{name}.log\"\n",
    "    else:\n",
    "        os.makedirs(log_path, exist_ok=True)\n",
    "        log_path = str(Path(log_path, name)) + '.log'\n",
    "\n",
    "    logging.basicConfig(\n",
    "        format='%(asctime)s [%(levelname)s] %(name)s - %(message)s',\n",
    "        level=logging.INFO,\n",
    "        datefmt='%Y-%m-%d %H:%M:%S',\n",
    "        stream=sys.stdout\n",
    "    )\n",
    "    log = logging.getLogger(name)\n",
    "    \n",
    "#     sys.stdout = open(log_path, 'a')\n",
    "    \n",
    "#     fh = logging.FileHandler(log_path)\n",
    "#     f = logging.Formatter('%(message)s')\n",
    "#     fh.setFormatter(f)\n",
    "#     fh.setLevel(logging.INFO)\n",
    "    rh = RichHandler(rich_tracebacks=True)\n",
    "    rh.setLevel(logging.INFO)\n",
    "    \n",
    "#     log.addHandler(fh)\n",
    "    log.addHandler(rh)\n",
    "    return log\n",
    "\n",
    "\n",
    "# log = get_standard_python_logger(name='notebook_experiment')\n",
    "\n",
    "\n",
    "def read_hydra_config(config_dir: str,\n",
    "                      job_name: str=\"test_app\",\n",
    "                      config_name: str=\"experiment\") -> DictConfig:\n",
    "    \"\"\"\n",
    "    Read a yaml config file from disk using hydra and return as a DictConfig.\n",
    "    \"\"\"\n",
    "    os.chdir(config_dir)\n",
    "    with initialize_config_dir(config_dir=config_dir, job_name=job_name):\n",
    "        cfg = compose(config_name=config_name)\n",
    "        \n",
    "    if cfg.get(\"print_config\"):\n",
    "        template_utils.print_config(cfg, resolve=True)        \n",
    "    return cfg"
   ]
  },
  {
   "cell_type": "code",
   "execution_count": 6,
   "id": "4c2f38d3",
   "metadata": {},
   "outputs": [],
   "source": [
    "def configure_datamodule(config: DictConfig) -> pl.LightningDataModule:\n",
    "    log.info(f\"Instantiating datamodule <{config.datamodule._target_}>\")\n",
    "    datamodule: pl.LightningDataModule = hydra.utils.instantiate(config.datamodule)\n",
    "        \n",
    "    try:\n",
    "        datamodule.setup(stage=\"fit\")\n",
    "        config.hparams.classes = datamodule.classes\n",
    "        config.hparams.num_classes = len(config.hparams.classes)\n",
    "    except Exception as e:\n",
    "        print(e)\n",
    "        pass\n",
    "        \n",
    "    return datamodule, config"
   ]
  },
  {
   "cell_type": "code",
   "execution_count": 7,
   "id": "590d8e60",
   "metadata": {},
   "outputs": [],
   "source": [
    "def configure_model(config: DictConfig) -> pl.LightningModule:\n",
    "    log.info(f\"Instantiating model <{config.model._target_}>\")\n",
    "    model: pl.LightningModule = hydra.utils.instantiate(config.model)\n",
    "    \n",
    "    return model"
   ]
  },
  {
   "cell_type": "code",
   "execution_count": 8,
   "id": "ddc0363a",
   "metadata": {},
   "outputs": [],
   "source": [
    "def configure_tuner(config: DictConfig) -> pl.tuner.tuning.Tuner:\n",
    "    config = OmegaConf.create(config)\n",
    "#     trainer_config = OmegaConf.masked_copy(config,['trainer'])\n",
    "#     tuner_config = OmegaConf.masked_copy(config,['tuner'])\n",
    "    if 'ddp' in config.trainer.accelerator:\n",
    "        config.trainer.accelerator = 'dp'\n",
    "        \n",
    "    trainer: pl.Trainer = configure_trainer(config) #hydra.utils.instantiate(trainer_config)\n",
    "    tuner: pl.tuner.tuning.Tuner = hydra.utils.instantiate(config.tuner.instantiate, trainer=trainer)\n",
    "    \n",
    "    return tuner"
   ]
  },
  {
   "cell_type": "code",
   "execution_count": 9,
   "id": "0671d9d7",
   "metadata": {},
   "outputs": [],
   "source": [
    "from typing import List\n",
    "# from pytorch_lightning import LightningModule, LightningDataModule, Callback, Trainer\n",
    "# from pytorch_lightning.loggers import LightningLoggerBase\n",
    "# from pytorch_lightning import seed_everything\n",
    "\n",
    "def configure_trainer(config: DictConfig) -> pl.Trainer:\n",
    "\n",
    "    # Init Lightning callbacks\n",
    "    callbacks: List[pl.Callback] = []\n",
    "    if \"callbacks\" in config:\n",
    "        for cb_name, cb_conf in config[\"callbacks\"].items():\n",
    "            if \"_target_\" in cb_conf:\n",
    "                log.info(f\"Instantiating callback <{cb_conf._target_}>\")\n",
    "                if cb_name == \"wandb\":\n",
    "                    callbacks.append(hydra.utils.instantiate(cb_conf, config=OmegaConf.to_container(config, resolve=True)))\n",
    "                else:\n",
    "                    callbacks.append(hydra.utils.instantiate(cb_conf))\n",
    "\n",
    "    # Init Lightning loggers\n",
    "    logger: List[pl.loggers.LightningLoggerBase] = []\n",
    "    if \"logger\" in config:\n",
    "        for _, lg_conf in config[\"logger\"].items():\n",
    "            if \"_target_\" in lg_conf:\n",
    "                log.info(f\"Instantiating logger <{lg_conf._target_}>\")\n",
    "                logger.append(hydra.utils.instantiate(lg_conf))\n",
    "\n",
    "\n",
    "    log.info(f\"Instantiating trainer <{config.trainer._target_}>\")\n",
    "    trainer: pl.Trainer = hydra.utils.instantiate(config.trainer,\n",
    "                                                  callbacks=callbacks,\n",
    "                                                  logger=logger,\n",
    "                                                  _convert_=\"partial\")\n",
    "        \n",
    "    return trainer\n",
    "\n",
    "# trainer = configure_trainer(config)"
   ]
  },
  {
   "cell_type": "code",
   "execution_count": 10,
   "id": "8184c4ff",
   "metadata": {},
   "outputs": [],
   "source": [
    "config_path = \"/media/data/jacob/GitHub/lightning-hydra-classifiers/configs/experiment/3_16bit_precision-single_gpu--tune_batchsize--tune_lr.yaml\"\n",
    "\n",
    "log = get_standard_python_logger(name=Path(config_path).stem,\n",
    "                                 log_path=Path(config_path).parent / \"experiment_logs\") # 'notebook_experiment')"
   ]
  },
  {
   "cell_type": "markdown",
   "id": "8e9cca65",
   "metadata": {
    "tags": []
   },
   "source": [
    "### Main"
   ]
  },
  {
   "cell_type": "code",
   "execution_count": null,
   "id": "70fd19ff",
   "metadata": {},
   "outputs": [
    {
     "data": {
      "text/html": [
       "<pre style=\"white-space:pre;overflow-x:auto;line-height:normal;font-family:Menlo,'DejaVu Sans Mono',consolas,'Courier New',monospace\"><span style=\"color: #7f7f7f; text-decoration-color: #7f7f7f\">⚙ CONFIG                                                                                     </span>\n",
       "<span style=\"color: #7f7f7f; text-decoration-color: #7f7f7f\">├── </span><span style=\"color: #7f7f7f; text-decoration-color: #7f7f7f\">trainer                                                                                  </span>\n",
       "<span style=\"color: #7f7f7f; text-decoration-color: #7f7f7f\">│   └── </span><span style=\"color: #fc92b8; text-decoration-color: #fc92b8; background-color: #272822\">_target_</span><span style=\"color: #fbfbf8; text-decoration-color: #fbfbf8; background-color: #272822\">: </span><span style=\"color: #7f7f7f; text-decoration-color: #7f7f7f; background-color: #272822\">pytorch_lightning.Trainer                                                  </span>\n",
       "<span style=\"color: #7f7f7f; text-decoration-color: #7f7f7f\">│       </span><span style=\"color: #fc92b8; text-decoration-color: #fc92b8; background-color: #272822\">gpus</span><span style=\"color: #fbfbf8; text-decoration-color: #fbfbf8; background-color: #272822\">:</span><span style=\"color: #7f7f7f; text-decoration-color: #7f7f7f; background-color: #272822\">                                                                                </span>\n",
       "<span style=\"color: #7f7f7f; text-decoration-color: #7f7f7f\">│       </span><span style=\"color: #7f7f7f; text-decoration-color: #7f7f7f; background-color: #272822\">-</span><span style=\"color: #fbfbf8; text-decoration-color: #fbfbf8; background-color: #272822\"> </span><span style=\"color: #7f7f7f; text-decoration-color: #7f7f7f; background-color: #272822\">2                                                                                  </span>\n",
       "<span style=\"color: #7f7f7f; text-decoration-color: #7f7f7f\">│       </span><span style=\"color: #fc92b8; text-decoration-color: #fc92b8; background-color: #272822\">auto_select_gpus</span><span style=\"color: #fbfbf8; text-decoration-color: #fbfbf8; background-color: #272822\">: </span><span style=\"color: #7f7f7f; text-decoration-color: #7f7f7f; background-color: #272822\">true                                                               </span>\n",
       "<span style=\"color: #7f7f7f; text-decoration-color: #7f7f7f\">│       </span><span style=\"color: #fc92b8; text-decoration-color: #fc92b8; background-color: #272822\">accelerator</span><span style=\"color: #fbfbf8; text-decoration-color: #fbfbf8; background-color: #272822\">: </span><span style=\"color: #7f7f7f; text-decoration-color: #7f7f7f; background-color: #272822\">dp                                                                      </span>\n",
       "<span style=\"color: #7f7f7f; text-decoration-color: #7f7f7f\">│       </span><span style=\"color: #fc92b8; text-decoration-color: #fc92b8; background-color: #272822\">min_epochs</span><span style=\"color: #fbfbf8; text-decoration-color: #fbfbf8; background-color: #272822\">: </span><span style=\"color: #7f7f7f; text-decoration-color: #7f7f7f; background-color: #272822\">1                                                                        </span>\n",
       "<span style=\"color: #7f7f7f; text-decoration-color: #7f7f7f\">│       </span><span style=\"color: #fc92b8; text-decoration-color: #fc92b8; background-color: #272822\">max_epochs</span><span style=\"color: #fbfbf8; text-decoration-color: #fbfbf8; background-color: #272822\">: </span><span style=\"color: #7f7f7f; text-decoration-color: #7f7f7f; background-color: #272822\">15                                                                       </span>\n",
       "<span style=\"color: #7f7f7f; text-decoration-color: #7f7f7f\">│       </span><span style=\"color: #fc92b8; text-decoration-color: #fc92b8; background-color: #272822\">weights_summary</span><span style=\"color: #fbfbf8; text-decoration-color: #fbfbf8; background-color: #272822\">: </span><span style=\"color: #7f7f7f; text-decoration-color: #7f7f7f; background-color: #272822\">top                                                                 </span>\n",
       "<span style=\"color: #7f7f7f; text-decoration-color: #7f7f7f\">│       </span><span style=\"color: #fc92b8; text-decoration-color: #fc92b8; background-color: #272822\">profiler</span><span style=\"color: #fbfbf8; text-decoration-color: #fbfbf8; background-color: #272822\">: </span><span style=\"color: #7f7f7f; text-decoration-color: #7f7f7f; background-color: #272822\">simple                                                                     </span>\n",
       "<span style=\"color: #7f7f7f; text-decoration-color: #7f7f7f\">│       </span><span style=\"color: #fc92b8; text-decoration-color: #fc92b8; background-color: #272822\">log_every_n_steps</span><span style=\"color: #fbfbf8; text-decoration-color: #fbfbf8; background-color: #272822\">: </span><span style=\"color: #7f7f7f; text-decoration-color: #7f7f7f; background-color: #272822\">50                                                                </span>\n",
       "<span style=\"color: #7f7f7f; text-decoration-color: #7f7f7f\">│       </span><span style=\"color: #fc92b8; text-decoration-color: #fc92b8; background-color: #272822\">amp_backend</span><span style=\"color: #fbfbf8; text-decoration-color: #fbfbf8; background-color: #272822\">: </span><span style=\"color: #7f7f7f; text-decoration-color: #7f7f7f; background-color: #272822\">native                                                                  </span>\n",
       "<span style=\"color: #7f7f7f; text-decoration-color: #7f7f7f\">│       </span><span style=\"color: #fc92b8; text-decoration-color: #fc92b8; background-color: #272822\">amp_level</span><span style=\"color: #fbfbf8; text-decoration-color: #fbfbf8; background-color: #272822\">: </span><span style=\"color: #f2edb9; text-decoration-color: #f2edb9; background-color: #272822\">'02'</span><span style=\"color: #7f7f7f; text-decoration-color: #7f7f7f; background-color: #272822\">                                                                      </span>\n",
       "<span style=\"color: #7f7f7f; text-decoration-color: #7f7f7f\">│       </span><span style=\"color: #fc92b8; text-decoration-color: #fc92b8; background-color: #272822\">precision</span><span style=\"color: #fbfbf8; text-decoration-color: #fbfbf8; background-color: #272822\">: </span><span style=\"color: #7f7f7f; text-decoration-color: #7f7f7f; background-color: #272822\">16                                                                        </span>\n",
       "<span style=\"color: #7f7f7f; text-decoration-color: #7f7f7f\">├── </span><span style=\"color: #7f7f7f; text-decoration-color: #7f7f7f\">model                                                                                    </span>\n",
       "<span style=\"color: #7f7f7f; text-decoration-color: #7f7f7f\">│   └── </span><span style=\"color: #fc92b8; text-decoration-color: #fc92b8; background-color: #272822\">_target_</span><span style=\"color: #fbfbf8; text-decoration-color: #fbfbf8; background-color: #272822\">: </span><span style=\"color: #7f7f7f; text-decoration-color: #7f7f7f; background-color: #272822\">lightning_hydra_classifiers.models.transfer.TransferLearningModel          </span>\n",
       "<span style=\"color: #7f7f7f; text-decoration-color: #7f7f7f\">│       </span><span style=\"color: #fc92b8; text-decoration-color: #fc92b8; background-color: #272822\">classifier</span><span style=\"color: #fbfbf8; text-decoration-color: #fbfbf8; background-color: #272822\">:</span><span style=\"color: #7f7f7f; text-decoration-color: #7f7f7f; background-color: #272822\">                                                                          </span>\n",
       "<span style=\"color: #7f7f7f; text-decoration-color: #7f7f7f\">│       </span><span style=\"color: #fbfbf8; text-decoration-color: #fbfbf8; background-color: #272822\">  </span><span style=\"color: #fc92b8; text-decoration-color: #fc92b8; background-color: #272822\">_target_</span><span style=\"color: #fbfbf8; text-decoration-color: #fbfbf8; background-color: #272822\">: </span><span style=\"color: #7f7f7f; text-decoration-color: #7f7f7f; background-color: #272822\">lightning_hydra_classifiers.models.transfer.Classifier                   </span>\n",
       "<span style=\"color: #7f7f7f; text-decoration-color: #7f7f7f\">│       </span><span style=\"color: #fbfbf8; text-decoration-color: #fbfbf8; background-color: #272822\">  </span><span style=\"color: #fc92b8; text-decoration-color: #fc92b8; background-color: #272822\">backbone_name</span><span style=\"color: #fbfbf8; text-decoration-color: #fbfbf8; background-color: #272822\">: </span><span style=\"color: #7f7f7f; text-decoration-color: #7f7f7f; background-color: #272822\">resnet50                                                            </span>\n",
       "<span style=\"color: #7f7f7f; text-decoration-color: #7f7f7f\">│       </span><span style=\"color: #fbfbf8; text-decoration-color: #fbfbf8; background-color: #272822\">  </span><span style=\"color: #fc92b8; text-decoration-color: #fc92b8; background-color: #272822\">num_classes</span><span style=\"color: #fbfbf8; text-decoration-color: #fbfbf8; background-color: #272822\">: </span><span style=\"color: #7f7f7f; text-decoration-color: #7f7f7f; background-color: #272822\">null                                                                  </span>\n",
       "<span style=\"color: #7f7f7f; text-decoration-color: #7f7f7f\">│       </span><span style=\"color: #fbfbf8; text-decoration-color: #fbfbf8; background-color: #272822\">  </span><span style=\"color: #fc92b8; text-decoration-color: #fc92b8; background-color: #272822\">finetune</span><span style=\"color: #fbfbf8; text-decoration-color: #fbfbf8; background-color: #272822\">: </span><span style=\"color: #7f7f7f; text-decoration-color: #7f7f7f; background-color: #272822\">true                                                                     </span>\n",
       "<span style=\"color: #7f7f7f; text-decoration-color: #7f7f7f\">│       </span><span style=\"color: #fc92b8; text-decoration-color: #fc92b8; background-color: #272822\">train_bn</span><span style=\"color: #fbfbf8; text-decoration-color: #fbfbf8; background-color: #272822\">: </span><span style=\"color: #7f7f7f; text-decoration-color: #7f7f7f; background-color: #272822\">false                                                                      </span>\n",
       "<span style=\"color: #7f7f7f; text-decoration-color: #7f7f7f\">│       </span><span style=\"color: #fc92b8; text-decoration-color: #fc92b8; background-color: #272822\">milestones</span><span style=\"color: #fbfbf8; text-decoration-color: #fbfbf8; background-color: #272822\">:</span><span style=\"color: #7f7f7f; text-decoration-color: #7f7f7f; background-color: #272822\">                                                                          </span>\n",
       "<span style=\"color: #7f7f7f; text-decoration-color: #7f7f7f\">│       </span><span style=\"color: #7f7f7f; text-decoration-color: #7f7f7f; background-color: #272822\">-</span><span style=\"color: #fbfbf8; text-decoration-color: #fbfbf8; background-color: #272822\"> </span><span style=\"color: #7f7f7f; text-decoration-color: #7f7f7f; background-color: #272822\">5                                                                                  </span>\n",
       "<span style=\"color: #7f7f7f; text-decoration-color: #7f7f7f\">│       </span><span style=\"color: #7f7f7f; text-decoration-color: #7f7f7f; background-color: #272822\">-</span><span style=\"color: #fbfbf8; text-decoration-color: #fbfbf8; background-color: #272822\"> </span><span style=\"color: #7f7f7f; text-decoration-color: #7f7f7f; background-color: #272822\">10                                                                                 </span>\n",
       "<span style=\"color: #7f7f7f; text-decoration-color: #7f7f7f\">│       </span><span style=\"color: #fc92b8; text-decoration-color: #fc92b8; background-color: #272822\">batch_size</span><span style=\"color: #fbfbf8; text-decoration-color: #fbfbf8; background-color: #272822\">: </span><span style=\"color: #7f7f7f; text-decoration-color: #7f7f7f; background-color: #272822\">default                                                                  </span>\n",
       "<span style=\"color: #7f7f7f; text-decoration-color: #7f7f7f\">│       </span><span style=\"color: #fc92b8; text-decoration-color: #fc92b8; background-color: #272822\">optimizer</span><span style=\"color: #fbfbf8; text-decoration-color: #fbfbf8; background-color: #272822\">: </span><span style=\"color: #7f7f7f; text-decoration-color: #7f7f7f; background-color: #272822\">Adam                                                                      </span>\n",
       "<span style=\"color: #7f7f7f; text-decoration-color: #7f7f7f\">│       </span><span style=\"color: #fc92b8; text-decoration-color: #fc92b8; background-color: #272822\">lr</span><span style=\"color: #fbfbf8; text-decoration-color: #fbfbf8; background-color: #272822\">: </span><span style=\"color: #7f7f7f; text-decoration-color: #7f7f7f; background-color: #272822\">default                                                                          </span>\n",
       "<span style=\"color: #7f7f7f; text-decoration-color: #7f7f7f\">│       </span><span style=\"color: #fc92b8; text-decoration-color: #fc92b8; background-color: #272822\">lr_scheduler_gamma</span><span style=\"color: #fbfbf8; text-decoration-color: #fbfbf8; background-color: #272822\">: </span><span style=\"color: #7f7f7f; text-decoration-color: #7f7f7f; background-color: #272822\">0.1                                                              </span>\n",
       "<span style=\"color: #7f7f7f; text-decoration-color: #7f7f7f\">├── </span><span style=\"color: #7f7f7f; text-decoration-color: #7f7f7f\">datamodule                                                                               </span>\n",
       "<span style=\"color: #7f7f7f; text-decoration-color: #7f7f7f\">│   └── </span><span style=\"color: #fc92b8; text-decoration-color: #fc92b8; background-color: #272822\">_target_</span><span style=\"color: #fbfbf8; text-decoration-color: #fbfbf8; background-color: #272822\">: </span><span style=\"color: #7f7f7f; text-decoration-color: #7f7f7f; background-color: #272822\">contrastive_learning.data.pytorch.datamodules.build_datamodule             </span>\n",
       "<span style=\"color: #7f7f7f; text-decoration-color: #7f7f7f\">│       </span><span style=\"color: #fc92b8; text-decoration-color: #fc92b8; background-color: #272822\">basename</span><span style=\"color: #fbfbf8; text-decoration-color: #fbfbf8; background-color: #272822\">: </span><span style=\"color: #7f7f7f; text-decoration-color: #7f7f7f; background-color: #272822\">Extant                                                                     </span>\n",
       "<span style=\"color: #7f7f7f; text-decoration-color: #7f7f7f\">│       </span><span style=\"color: #fc92b8; text-decoration-color: #fc92b8; background-color: #272822\">name</span><span style=\"color: #fbfbf8; text-decoration-color: #fbfbf8; background-color: #272822\">: </span><span style=\"color: #7f7f7f; text-decoration-color: #7f7f7f; background-color: #272822\">Extant_family_10_1024                                                          </span>\n",
       "<span style=\"color: #7f7f7f; text-decoration-color: #7f7f7f\">│       </span><span style=\"color: #fc92b8; text-decoration-color: #fc92b8; background-color: #272822\">batch_size</span><span style=\"color: #fbfbf8; text-decoration-color: #fbfbf8; background-color: #272822\">: </span><span style=\"color: #7f7f7f; text-decoration-color: #7f7f7f; background-color: #272822\">default                                                                  </span>\n",
       "<span style=\"color: #7f7f7f; text-decoration-color: #7f7f7f\">│       </span><span style=\"color: #fc92b8; text-decoration-color: #fc92b8; background-color: #272822\">val_split</span><span style=\"color: #fbfbf8; text-decoration-color: #fbfbf8; background-color: #272822\">: </span><span style=\"color: #7f7f7f; text-decoration-color: #7f7f7f; background-color: #272822\">0.2                                                                       </span>\n",
       "<span style=\"color: #7f7f7f; text-decoration-color: #7f7f7f\">│       </span><span style=\"color: #fc92b8; text-decoration-color: #fc92b8; background-color: #272822\">classes</span><span style=\"color: #fbfbf8; text-decoration-color: #fbfbf8; background-color: #272822\">: </span><span style=\"color: #7f7f7f; text-decoration-color: #7f7f7f; background-color: #272822\">null                                                                        </span>\n",
       "<span style=\"color: #7f7f7f; text-decoration-color: #7f7f7f\">│       </span><span style=\"color: #fc92b8; text-decoration-color: #fc92b8; background-color: #272822\">num_classes</span><span style=\"color: #fbfbf8; text-decoration-color: #fbfbf8; background-color: #272822\">: </span><span style=\"color: #7f7f7f; text-decoration-color: #7f7f7f; background-color: #272822\">null                                                                    </span>\n",
       "<span style=\"color: #7f7f7f; text-decoration-color: #7f7f7f\">│       </span><span style=\"color: #fc92b8; text-decoration-color: #fc92b8; background-color: #272822\">image_size</span><span style=\"color: #fbfbf8; text-decoration-color: #fbfbf8; background-color: #272822\">: </span><span style=\"color: #7f7f7f; text-decoration-color: #7f7f7f; background-color: #272822\">1024                                                                     </span>\n",
       "<span style=\"color: #7f7f7f; text-decoration-color: #7f7f7f\">│       </span><span style=\"color: #fc92b8; text-decoration-color: #fc92b8; background-color: #272822\">channels</span><span style=\"color: #fbfbf8; text-decoration-color: #fbfbf8; background-color: #272822\">: </span><span style=\"color: #7f7f7f; text-decoration-color: #7f7f7f; background-color: #272822\">3                                                                          </span>\n",
       "<span style=\"color: #7f7f7f; text-decoration-color: #7f7f7f\">│       </span><span style=\"color: #fc92b8; text-decoration-color: #fc92b8; background-color: #272822\">class_type</span><span style=\"color: #fbfbf8; text-decoration-color: #fbfbf8; background-color: #272822\">: </span><span style=\"color: #7f7f7f; text-decoration-color: #7f7f7f; background-color: #272822\">family                                                                   </span>\n",
       "<span style=\"color: #7f7f7f; text-decoration-color: #7f7f7f\">│       </span><span style=\"color: #fc92b8; text-decoration-color: #fc92b8; background-color: #272822\">normalize</span><span style=\"color: #fbfbf8; text-decoration-color: #fbfbf8; background-color: #272822\">: </span><span style=\"color: #7f7f7f; text-decoration-color: #7f7f7f; background-color: #272822\">true                                                                      </span>\n",
       "<span style=\"color: #7f7f7f; text-decoration-color: #7f7f7f\">│       </span><span style=\"color: #fc92b8; text-decoration-color: #fc92b8; background-color: #272822\">seed</span><span style=\"color: #fbfbf8; text-decoration-color: #fbfbf8; background-color: #272822\">: </span><span style=\"color: #7f7f7f; text-decoration-color: #7f7f7f; background-color: #272822\">12345                                                                          </span>\n",
       "<span style=\"color: #7f7f7f; text-decoration-color: #7f7f7f\">│       </span><span style=\"color: #fc92b8; text-decoration-color: #fc92b8; background-color: #272822\">predict_on_split</span><span style=\"color: #fbfbf8; text-decoration-color: #fbfbf8; background-color: #272822\">: </span><span style=\"color: #7f7f7f; text-decoration-color: #7f7f7f; background-color: #272822\">val                                                                </span>\n",
       "<span style=\"color: #7f7f7f; text-decoration-color: #7f7f7f\">│       </span><span style=\"color: #fc92b8; text-decoration-color: #fc92b8; background-color: #272822\">num_workers</span><span style=\"color: #fbfbf8; text-decoration-color: #fbfbf8; background-color: #272822\">: </span><span style=\"color: #7f7f7f; text-decoration-color: #7f7f7f; background-color: #272822\">0                                                                       </span>\n",
       "<span style=\"color: #7f7f7f; text-decoration-color: #7f7f7f\">│       </span><span style=\"color: #fc92b8; text-decoration-color: #fc92b8; background-color: #272822\">root_dir</span><span style=\"color: #fbfbf8; text-decoration-color: #fbfbf8; background-color: #272822\">: </span><span style=\"color: #7f7f7f; text-decoration-color: #7f7f7f; background-color: #272822\">/media/data/jacob/wandb_cache                                              </span>\n",
       "<span style=\"color: #7f7f7f; text-decoration-color: #7f7f7f\">│       </span><span style=\"color: #fc92b8; text-decoration-color: #fc92b8; background-color: #272822\">dataset_dir</span><span style=\"color: #fbfbf8; text-decoration-color: #fbfbf8; background-color: #272822\">: </span><span style=\"color: #7f7f7f; text-decoration-color: #7f7f7f; background-color: #272822\">/media/data/jacob/wandb_cache/datasets/Extant_family_10_1024            </span>\n",
       "<span style=\"color: #7f7f7f; text-decoration-color: #7f7f7f\">├── </span><span style=\"color: #7f7f7f; text-decoration-color: #7f7f7f\">callbacks                                                                                </span>\n",
       "<span style=\"color: #7f7f7f; text-decoration-color: #7f7f7f\">│   └── </span><span style=\"color: #fc92b8; text-decoration-color: #fc92b8; background-color: #272822\">finetuning</span><span style=\"color: #fbfbf8; text-decoration-color: #fbfbf8; background-color: #272822\">:</span><span style=\"color: #7f7f7f; text-decoration-color: #7f7f7f; background-color: #272822\">                                                                          </span>\n",
       "<span style=\"color: #7f7f7f; text-decoration-color: #7f7f7f\">│       </span><span style=\"color: #fbfbf8; text-decoration-color: #fbfbf8; background-color: #272822\">  </span><span style=\"color: #fc92b8; text-decoration-color: #fc92b8; background-color: #272822\">_target_</span><span style=\"color: #fbfbf8; text-decoration-color: #fbfbf8; background-color: #272822\">: </span><span style=\"color: #7f7f7f; text-decoration-color: #7f7f7f; background-color: #272822\">lightning_hydra_classifiers.models.transfer.MilestonesFinetuning         </span>\n",
       "<span style=\"color: #7f7f7f; text-decoration-color: #7f7f7f\">│       </span><span style=\"color: #fbfbf8; text-decoration-color: #fbfbf8; background-color: #272822\">  </span><span style=\"color: #fc92b8; text-decoration-color: #fc92b8; background-color: #272822\">milestones</span><span style=\"color: #fbfbf8; text-decoration-color: #fbfbf8; background-color: #272822\">:</span><span style=\"color: #7f7f7f; text-decoration-color: #7f7f7f; background-color: #272822\">                                                                        </span>\n",
       "<span style=\"color: #7f7f7f; text-decoration-color: #7f7f7f\">│       </span><span style=\"color: #fbfbf8; text-decoration-color: #fbfbf8; background-color: #272822\">  </span><span style=\"color: #7f7f7f; text-decoration-color: #7f7f7f; background-color: #272822\">-</span><span style=\"color: #fbfbf8; text-decoration-color: #fbfbf8; background-color: #272822\"> </span><span style=\"color: #7f7f7f; text-decoration-color: #7f7f7f; background-color: #272822\">5                                                                                </span>\n",
       "<span style=\"color: #7f7f7f; text-decoration-color: #7f7f7f\">│       </span><span style=\"color: #fbfbf8; text-decoration-color: #fbfbf8; background-color: #272822\">  </span><span style=\"color: #7f7f7f; text-decoration-color: #7f7f7f; background-color: #272822\">-</span><span style=\"color: #fbfbf8; text-decoration-color: #fbfbf8; background-color: #272822\"> </span><span style=\"color: #7f7f7f; text-decoration-color: #7f7f7f; background-color: #272822\">10                                                                               </span>\n",
       "<span style=\"color: #7f7f7f; text-decoration-color: #7f7f7f\">│       </span><span style=\"color: #fbfbf8; text-decoration-color: #fbfbf8; background-color: #272822\">  </span><span style=\"color: #fc92b8; text-decoration-color: #fc92b8; background-color: #272822\">train_bn</span><span style=\"color: #fbfbf8; text-decoration-color: #fbfbf8; background-color: #272822\">: </span><span style=\"color: #7f7f7f; text-decoration-color: #7f7f7f; background-color: #272822\">false                                                                    </span>\n",
       "<span style=\"color: #7f7f7f; text-decoration-color: #7f7f7f\">├── </span><span style=\"color: #7f7f7f; text-decoration-color: #7f7f7f\">logger                                                                                   </span>\n",
       "<span style=\"color: #7f7f7f; text-decoration-color: #7f7f7f\">│   └── </span><span style=\"color: #fc92b8; text-decoration-color: #fc92b8; background-color: #272822\">wandb</span><span style=\"color: #fbfbf8; text-decoration-color: #fbfbf8; background-color: #272822\">:</span><span style=\"color: #7f7f7f; text-decoration-color: #7f7f7f; background-color: #272822\">                                                                               </span>\n",
       "<span style=\"color: #7f7f7f; text-decoration-color: #7f7f7f\">│       </span><span style=\"color: #fbfbf8; text-decoration-color: #fbfbf8; background-color: #272822\">  </span><span style=\"color: #fc92b8; text-decoration-color: #fc92b8; background-color: #272822\">_target_</span><span style=\"color: #fbfbf8; text-decoration-color: #fbfbf8; background-color: #272822\">: </span><span style=\"color: #7f7f7f; text-decoration-color: #7f7f7f; background-color: #272822\">pytorch_lightning.loggers.wandb.WandbLogger                              </span>\n",
       "<span style=\"color: #7f7f7f; text-decoration-color: #7f7f7f\">│       </span><span style=\"color: #fbfbf8; text-decoration-color: #fbfbf8; background-color: #272822\">  </span><span style=\"color: #fc92b8; text-decoration-color: #fc92b8; background-color: #272822\">entity</span><span style=\"color: #fbfbf8; text-decoration-color: #fbfbf8; background-color: #272822\">: </span><span style=\"color: #7f7f7f; text-decoration-color: #7f7f7f; background-color: #272822\">jrose                                                                      </span>\n",
       "<span style=\"color: #7f7f7f; text-decoration-color: #7f7f7f\">│       </span><span style=\"color: #fbfbf8; text-decoration-color: #fbfbf8; background-color: #272822\">  </span><span style=\"color: #fc92b8; text-decoration-color: #fc92b8; background-color: #272822\">project</span><span style=\"color: #fbfbf8; text-decoration-color: #fbfbf8; background-color: #272822\">: </span><span style=\"color: #7f7f7f; text-decoration-color: #7f7f7f; background-color: #272822\">mnist_scaling_experiments                                                 </span>\n",
       "<span style=\"color: #7f7f7f; text-decoration-color: #7f7f7f\">│       </span><span style=\"color: #fbfbf8; text-decoration-color: #fbfbf8; background-color: #272822\">  </span><span style=\"color: #fc92b8; text-decoration-color: #fc92b8; background-color: #272822\">job_type</span><span style=\"color: #fbfbf8; text-decoration-color: #fbfbf8; background-color: #272822\">: </span><span style=\"color: #7f7f7f; text-decoration-color: #7f7f7f; background-color: #272822\">Extant_family_10_1024_tune-train-test                                    </span>\n",
       "<span style=\"color: #7f7f7f; text-decoration-color: #7f7f7f\">│       </span><span style=\"color: #fbfbf8; text-decoration-color: #fbfbf8; background-color: #272822\">  </span><span style=\"color: #fc92b8; text-decoration-color: #fc92b8; background-color: #272822\">group</span><span style=\"color: #fbfbf8; text-decoration-color: #fbfbf8; background-color: #272822\">: </span><span style=\"color: #7f7f7f; text-decoration-color: #7f7f7f; background-color: #272822\">single-gpu                                                                  </span>\n",
       "<span style=\"color: #7f7f7f; text-decoration-color: #7f7f7f\">│       </span><span style=\"color: #fbfbf8; text-decoration-color: #fbfbf8; background-color: #272822\">  </span><span style=\"color: #fc92b8; text-decoration-color: #fc92b8; background-color: #272822\">mode</span><span style=\"color: #fbfbf8; text-decoration-color: #fbfbf8; background-color: #272822\">: </span><span style=\"color: #7f7f7f; text-decoration-color: #7f7f7f; background-color: #272822\">online                                                                       </span>\n",
       "<span style=\"color: #7f7f7f; text-decoration-color: #7f7f7f\">│       </span><span style=\"color: #fbfbf8; text-decoration-color: #fbfbf8; background-color: #272822\">  </span><span style=\"color: #fc92b8; text-decoration-color: #fc92b8; background-color: #272822\">allow_val_change</span><span style=\"color: #fbfbf8; text-decoration-color: #fbfbf8; background-color: #272822\">: </span><span style=\"color: #7f7f7f; text-decoration-color: #7f7f7f; background-color: #272822\">true                                                             </span>\n",
       "<span style=\"color: #7f7f7f; text-decoration-color: #7f7f7f\">│       </span><span style=\"color: #fbfbf8; text-decoration-color: #fbfbf8; background-color: #272822\">  </span><span style=\"color: #fc92b8; text-decoration-color: #fc92b8; background-color: #272822\">sync_tensorboard</span><span style=\"color: #fbfbf8; text-decoration-color: #fbfbf8; background-color: #272822\">: </span><span style=\"color: #7f7f7f; text-decoration-color: #7f7f7f; background-color: #272822\">true                                                             </span>\n",
       "<span style=\"color: #7f7f7f; text-decoration-color: #7f7f7f\">│       </span><span style=\"color: #fc92b8; text-decoration-color: #fc92b8; background-color: #272822\">tensorboard</span><span style=\"color: #fbfbf8; text-decoration-color: #fbfbf8; background-color: #272822\">:</span><span style=\"color: #7f7f7f; text-decoration-color: #7f7f7f; background-color: #272822\">                                                                         </span>\n",
       "<span style=\"color: #7f7f7f; text-decoration-color: #7f7f7f\">│       </span><span style=\"color: #fbfbf8; text-decoration-color: #fbfbf8; background-color: #272822\">  </span><span style=\"color: #fc92b8; text-decoration-color: #fc92b8; background-color: #272822\">_target_</span><span style=\"color: #fbfbf8; text-decoration-color: #fbfbf8; background-color: #272822\">: </span><span style=\"color: #7f7f7f; text-decoration-color: #7f7f7f; background-color: #272822\">pytorch_lightning.loggers.tensorboard.TensorBoardLogger                  </span>\n",
       "<span style=\"color: #7f7f7f; text-decoration-color: #7f7f7f\">│       </span><span style=\"color: #fbfbf8; text-decoration-color: #fbfbf8; background-color: #272822\">  </span><span style=\"color: #fc92b8; text-decoration-color: #fc92b8; background-color: #272822\">save_dir</span><span style=\"color: #fbfbf8; text-decoration-color: #fbfbf8; background-color: #272822\">: </span><span style=\"color: #7f7f7f; text-decoration-color: #7f7f7f; background-color: #272822\">/media/data_cifs/projects/prj_fossils/users/jacob/experiments/July2021-No</span>\n",
       "<span style=\"color: #7f7f7f; text-decoration-color: #7f7f7f\">│       </span><span style=\"color: #fbfbf8; text-decoration-color: #fbfbf8; background-color: #272822\">  </span><span style=\"color: #fc92b8; text-decoration-color: #fc92b8; background-color: #272822\">name</span><span style=\"color: #fbfbf8; text-decoration-color: #fbfbf8; background-color: #272822\">: </span><span style=\"color: #7f7f7f; text-decoration-color: #7f7f7f; background-color: #272822\">Extant_family_10_1024_tune-train-test_Extant_family_10_1024                  </span>\n",
       "<span style=\"color: #7f7f7f; text-decoration-color: #7f7f7f\">└── </span><span style=\"color: #7f7f7f; text-decoration-color: #7f7f7f\">seed                                                                                     </span>\n",
       "<span style=\"color: #7f7f7f; text-decoration-color: #7f7f7f\">    └── </span><span style=\"color: #7f7f7f; text-decoration-color: #7f7f7f; background-color: #272822\">12345                                                                                </span>\n",
       "</pre>\n"
      ],
      "text/plain": [
       "\u001b[2m⚙ CONFIG\u001b[0m\u001b[2m                                                                                     \u001b[0m\n",
       "\u001b[2m├── \u001b[0m\u001b[2mtrainer\u001b[0m\u001b[2m                                                                                  \u001b[0m\n",
       "\u001b[2m│   \u001b[0m\u001b[2m└── \u001b[0m\u001b[2;38;2;249;38;114;48;2;39;40;34m_target_\u001b[0m\u001b[2;38;2;248;248;242;48;2;39;40;34m:\u001b[0m\u001b[2;38;2;248;248;242;48;2;39;40;34m \u001b[0m\u001b[2;48;2;39;40;34mpytorch_lightning.Trainer\u001b[0m\u001b[2;48;2;39;40;34m                                                  \u001b[0m\n",
       "\u001b[2m│   \u001b[0m\u001b[2m    \u001b[0m\u001b[2;38;2;249;38;114;48;2;39;40;34mgpus\u001b[0m\u001b[2;38;2;248;248;242;48;2;39;40;34m:\u001b[0m\u001b[2;48;2;39;40;34m                                                                                \u001b[0m\n",
       "\u001b[2m│   \u001b[0m\u001b[2m    \u001b[0m\u001b[2;48;2;39;40;34m-\u001b[0m\u001b[2;38;2;248;248;242;48;2;39;40;34m \u001b[0m\u001b[2;48;2;39;40;34m2\u001b[0m\u001b[2;48;2;39;40;34m                                                                                  \u001b[0m\n",
       "\u001b[2m│   \u001b[0m\u001b[2m    \u001b[0m\u001b[2;38;2;249;38;114;48;2;39;40;34mauto_select_gpus\u001b[0m\u001b[2;38;2;248;248;242;48;2;39;40;34m:\u001b[0m\u001b[2;38;2;248;248;242;48;2;39;40;34m \u001b[0m\u001b[2;48;2;39;40;34mtrue\u001b[0m\u001b[2;48;2;39;40;34m                                                               \u001b[0m\n",
       "\u001b[2m│   \u001b[0m\u001b[2m    \u001b[0m\u001b[2;38;2;249;38;114;48;2;39;40;34maccelerator\u001b[0m\u001b[2;38;2;248;248;242;48;2;39;40;34m:\u001b[0m\u001b[2;38;2;248;248;242;48;2;39;40;34m \u001b[0m\u001b[2;48;2;39;40;34mdp\u001b[0m\u001b[2;48;2;39;40;34m                                                                      \u001b[0m\n",
       "\u001b[2m│   \u001b[0m\u001b[2m    \u001b[0m\u001b[2;38;2;249;38;114;48;2;39;40;34mmin_epochs\u001b[0m\u001b[2;38;2;248;248;242;48;2;39;40;34m:\u001b[0m\u001b[2;38;2;248;248;242;48;2;39;40;34m \u001b[0m\u001b[2;48;2;39;40;34m1\u001b[0m\u001b[2;48;2;39;40;34m                                                                        \u001b[0m\n",
       "\u001b[2m│   \u001b[0m\u001b[2m    \u001b[0m\u001b[2;38;2;249;38;114;48;2;39;40;34mmax_epochs\u001b[0m\u001b[2;38;2;248;248;242;48;2;39;40;34m:\u001b[0m\u001b[2;38;2;248;248;242;48;2;39;40;34m \u001b[0m\u001b[2;48;2;39;40;34m15\u001b[0m\u001b[2;48;2;39;40;34m                                                                       \u001b[0m\n",
       "\u001b[2m│   \u001b[0m\u001b[2m    \u001b[0m\u001b[2;38;2;249;38;114;48;2;39;40;34mweights_summary\u001b[0m\u001b[2;38;2;248;248;242;48;2;39;40;34m:\u001b[0m\u001b[2;38;2;248;248;242;48;2;39;40;34m \u001b[0m\u001b[2;48;2;39;40;34mtop\u001b[0m\u001b[2;48;2;39;40;34m                                                                 \u001b[0m\n",
       "\u001b[2m│   \u001b[0m\u001b[2m    \u001b[0m\u001b[2;38;2;249;38;114;48;2;39;40;34mprofiler\u001b[0m\u001b[2;38;2;248;248;242;48;2;39;40;34m:\u001b[0m\u001b[2;38;2;248;248;242;48;2;39;40;34m \u001b[0m\u001b[2;48;2;39;40;34msimple\u001b[0m\u001b[2;48;2;39;40;34m                                                                     \u001b[0m\n",
       "\u001b[2m│   \u001b[0m\u001b[2m    \u001b[0m\u001b[2;38;2;249;38;114;48;2;39;40;34mlog_every_n_steps\u001b[0m\u001b[2;38;2;248;248;242;48;2;39;40;34m:\u001b[0m\u001b[2;38;2;248;248;242;48;2;39;40;34m \u001b[0m\u001b[2;48;2;39;40;34m50\u001b[0m\u001b[2;48;2;39;40;34m                                                                \u001b[0m\n",
       "\u001b[2m│   \u001b[0m\u001b[2m    \u001b[0m\u001b[2;38;2;249;38;114;48;2;39;40;34mamp_backend\u001b[0m\u001b[2;38;2;248;248;242;48;2;39;40;34m:\u001b[0m\u001b[2;38;2;248;248;242;48;2;39;40;34m \u001b[0m\u001b[2;48;2;39;40;34mnative\u001b[0m\u001b[2;48;2;39;40;34m                                                                  \u001b[0m\n",
       "\u001b[2m│   \u001b[0m\u001b[2m    \u001b[0m\u001b[2;38;2;249;38;114;48;2;39;40;34mamp_level\u001b[0m\u001b[2;38;2;248;248;242;48;2;39;40;34m:\u001b[0m\u001b[2;38;2;248;248;242;48;2;39;40;34m \u001b[0m\u001b[2;38;2;230;219;116;48;2;39;40;34m'\u001b[0m\u001b[2;38;2;230;219;116;48;2;39;40;34m02\u001b[0m\u001b[2;38;2;230;219;116;48;2;39;40;34m'\u001b[0m\u001b[2;48;2;39;40;34m                                                                      \u001b[0m\n",
       "\u001b[2m│   \u001b[0m\u001b[2m    \u001b[0m\u001b[2;38;2;249;38;114;48;2;39;40;34mprecision\u001b[0m\u001b[2;38;2;248;248;242;48;2;39;40;34m:\u001b[0m\u001b[2;38;2;248;248;242;48;2;39;40;34m \u001b[0m\u001b[2;48;2;39;40;34m16\u001b[0m\u001b[2;48;2;39;40;34m                                                                        \u001b[0m\n",
       "\u001b[2m├── \u001b[0m\u001b[2mmodel\u001b[0m\u001b[2m                                                                                    \u001b[0m\n",
       "\u001b[2m│   \u001b[0m\u001b[2m└── \u001b[0m\u001b[2;38;2;249;38;114;48;2;39;40;34m_target_\u001b[0m\u001b[2;38;2;248;248;242;48;2;39;40;34m:\u001b[0m\u001b[2;38;2;248;248;242;48;2;39;40;34m \u001b[0m\u001b[2;48;2;39;40;34mlightning_hydra_classifiers.models.transfer.TransferLearningModel\u001b[0m\u001b[2;48;2;39;40;34m          \u001b[0m\n",
       "\u001b[2m│   \u001b[0m\u001b[2m    \u001b[0m\u001b[2;38;2;249;38;114;48;2;39;40;34mclassifier\u001b[0m\u001b[2;38;2;248;248;242;48;2;39;40;34m:\u001b[0m\u001b[2;48;2;39;40;34m                                                                          \u001b[0m\n",
       "\u001b[2m│   \u001b[0m\u001b[2m    \u001b[0m\u001b[2;38;2;248;248;242;48;2;39;40;34m  \u001b[0m\u001b[2;38;2;249;38;114;48;2;39;40;34m_target_\u001b[0m\u001b[2;38;2;248;248;242;48;2;39;40;34m:\u001b[0m\u001b[2;38;2;248;248;242;48;2;39;40;34m \u001b[0m\u001b[2;48;2;39;40;34mlightning_hydra_classifiers.models.transfer.Classifier\u001b[0m\u001b[2;48;2;39;40;34m                   \u001b[0m\n",
       "\u001b[2m│   \u001b[0m\u001b[2m    \u001b[0m\u001b[2;38;2;248;248;242;48;2;39;40;34m  \u001b[0m\u001b[2;38;2;249;38;114;48;2;39;40;34mbackbone_name\u001b[0m\u001b[2;38;2;248;248;242;48;2;39;40;34m:\u001b[0m\u001b[2;38;2;248;248;242;48;2;39;40;34m \u001b[0m\u001b[2;48;2;39;40;34mresnet50\u001b[0m\u001b[2;48;2;39;40;34m                                                            \u001b[0m\n",
       "\u001b[2m│   \u001b[0m\u001b[2m    \u001b[0m\u001b[2;38;2;248;248;242;48;2;39;40;34m  \u001b[0m\u001b[2;38;2;249;38;114;48;2;39;40;34mnum_classes\u001b[0m\u001b[2;38;2;248;248;242;48;2;39;40;34m:\u001b[0m\u001b[2;38;2;248;248;242;48;2;39;40;34m \u001b[0m\u001b[2;48;2;39;40;34mnull\u001b[0m\u001b[2;48;2;39;40;34m                                                                  \u001b[0m\n",
       "\u001b[2m│   \u001b[0m\u001b[2m    \u001b[0m\u001b[2;38;2;248;248;242;48;2;39;40;34m  \u001b[0m\u001b[2;38;2;249;38;114;48;2;39;40;34mfinetune\u001b[0m\u001b[2;38;2;248;248;242;48;2;39;40;34m:\u001b[0m\u001b[2;38;2;248;248;242;48;2;39;40;34m \u001b[0m\u001b[2;48;2;39;40;34mtrue\u001b[0m\u001b[2;48;2;39;40;34m                                                                     \u001b[0m\n",
       "\u001b[2m│   \u001b[0m\u001b[2m    \u001b[0m\u001b[2;38;2;249;38;114;48;2;39;40;34mtrain_bn\u001b[0m\u001b[2;38;2;248;248;242;48;2;39;40;34m:\u001b[0m\u001b[2;38;2;248;248;242;48;2;39;40;34m \u001b[0m\u001b[2;48;2;39;40;34mfalse\u001b[0m\u001b[2;48;2;39;40;34m                                                                      \u001b[0m\n",
       "\u001b[2m│   \u001b[0m\u001b[2m    \u001b[0m\u001b[2;38;2;249;38;114;48;2;39;40;34mmilestones\u001b[0m\u001b[2;38;2;248;248;242;48;2;39;40;34m:\u001b[0m\u001b[2;48;2;39;40;34m                                                                          \u001b[0m\n",
       "\u001b[2m│   \u001b[0m\u001b[2m    \u001b[0m\u001b[2;48;2;39;40;34m-\u001b[0m\u001b[2;38;2;248;248;242;48;2;39;40;34m \u001b[0m\u001b[2;48;2;39;40;34m5\u001b[0m\u001b[2;48;2;39;40;34m                                                                                  \u001b[0m\n",
       "\u001b[2m│   \u001b[0m\u001b[2m    \u001b[0m\u001b[2;48;2;39;40;34m-\u001b[0m\u001b[2;38;2;248;248;242;48;2;39;40;34m \u001b[0m\u001b[2;48;2;39;40;34m10\u001b[0m\u001b[2;48;2;39;40;34m                                                                                 \u001b[0m\n",
       "\u001b[2m│   \u001b[0m\u001b[2m    \u001b[0m\u001b[2;38;2;249;38;114;48;2;39;40;34mbatch_size\u001b[0m\u001b[2;38;2;248;248;242;48;2;39;40;34m:\u001b[0m\u001b[2;38;2;248;248;242;48;2;39;40;34m \u001b[0m\u001b[2;48;2;39;40;34mdefault\u001b[0m\u001b[2;48;2;39;40;34m                                                                  \u001b[0m\n",
       "\u001b[2m│   \u001b[0m\u001b[2m    \u001b[0m\u001b[2;38;2;249;38;114;48;2;39;40;34moptimizer\u001b[0m\u001b[2;38;2;248;248;242;48;2;39;40;34m:\u001b[0m\u001b[2;38;2;248;248;242;48;2;39;40;34m \u001b[0m\u001b[2;48;2;39;40;34mAdam\u001b[0m\u001b[2;48;2;39;40;34m                                                                      \u001b[0m\n",
       "\u001b[2m│   \u001b[0m\u001b[2m    \u001b[0m\u001b[2;38;2;249;38;114;48;2;39;40;34mlr\u001b[0m\u001b[2;38;2;248;248;242;48;2;39;40;34m:\u001b[0m\u001b[2;38;2;248;248;242;48;2;39;40;34m \u001b[0m\u001b[2;48;2;39;40;34mdefault\u001b[0m\u001b[2;48;2;39;40;34m                                                                          \u001b[0m\n",
       "\u001b[2m│   \u001b[0m\u001b[2m    \u001b[0m\u001b[2;38;2;249;38;114;48;2;39;40;34mlr_scheduler_gamma\u001b[0m\u001b[2;38;2;248;248;242;48;2;39;40;34m:\u001b[0m\u001b[2;38;2;248;248;242;48;2;39;40;34m \u001b[0m\u001b[2;48;2;39;40;34m0.1\u001b[0m\u001b[2;48;2;39;40;34m                                                              \u001b[0m\n",
       "\u001b[2m├── \u001b[0m\u001b[2mdatamodule\u001b[0m\u001b[2m                                                                               \u001b[0m\n",
       "\u001b[2m│   \u001b[0m\u001b[2m└── \u001b[0m\u001b[2;38;2;249;38;114;48;2;39;40;34m_target_\u001b[0m\u001b[2;38;2;248;248;242;48;2;39;40;34m:\u001b[0m\u001b[2;38;2;248;248;242;48;2;39;40;34m \u001b[0m\u001b[2;48;2;39;40;34mcontrastive_learning.data.pytorch.datamodules.build_datamodule\u001b[0m\u001b[2;48;2;39;40;34m             \u001b[0m\n",
       "\u001b[2m│   \u001b[0m\u001b[2m    \u001b[0m\u001b[2;38;2;249;38;114;48;2;39;40;34mbasename\u001b[0m\u001b[2;38;2;248;248;242;48;2;39;40;34m:\u001b[0m\u001b[2;38;2;248;248;242;48;2;39;40;34m \u001b[0m\u001b[2;48;2;39;40;34mExtant\u001b[0m\u001b[2;48;2;39;40;34m                                                                     \u001b[0m\n",
       "\u001b[2m│   \u001b[0m\u001b[2m    \u001b[0m\u001b[2;38;2;249;38;114;48;2;39;40;34mname\u001b[0m\u001b[2;38;2;248;248;242;48;2;39;40;34m:\u001b[0m\u001b[2;38;2;248;248;242;48;2;39;40;34m \u001b[0m\u001b[2;48;2;39;40;34mExtant_family_10_1024\u001b[0m\u001b[2;48;2;39;40;34m                                                          \u001b[0m\n",
       "\u001b[2m│   \u001b[0m\u001b[2m    \u001b[0m\u001b[2;38;2;249;38;114;48;2;39;40;34mbatch_size\u001b[0m\u001b[2;38;2;248;248;242;48;2;39;40;34m:\u001b[0m\u001b[2;38;2;248;248;242;48;2;39;40;34m \u001b[0m\u001b[2;48;2;39;40;34mdefault\u001b[0m\u001b[2;48;2;39;40;34m                                                                  \u001b[0m\n",
       "\u001b[2m│   \u001b[0m\u001b[2m    \u001b[0m\u001b[2;38;2;249;38;114;48;2;39;40;34mval_split\u001b[0m\u001b[2;38;2;248;248;242;48;2;39;40;34m:\u001b[0m\u001b[2;38;2;248;248;242;48;2;39;40;34m \u001b[0m\u001b[2;48;2;39;40;34m0.2\u001b[0m\u001b[2;48;2;39;40;34m                                                                       \u001b[0m\n",
       "\u001b[2m│   \u001b[0m\u001b[2m    \u001b[0m\u001b[2;38;2;249;38;114;48;2;39;40;34mclasses\u001b[0m\u001b[2;38;2;248;248;242;48;2;39;40;34m:\u001b[0m\u001b[2;38;2;248;248;242;48;2;39;40;34m \u001b[0m\u001b[2;48;2;39;40;34mnull\u001b[0m\u001b[2;48;2;39;40;34m                                                                        \u001b[0m\n",
       "\u001b[2m│   \u001b[0m\u001b[2m    \u001b[0m\u001b[2;38;2;249;38;114;48;2;39;40;34mnum_classes\u001b[0m\u001b[2;38;2;248;248;242;48;2;39;40;34m:\u001b[0m\u001b[2;38;2;248;248;242;48;2;39;40;34m \u001b[0m\u001b[2;48;2;39;40;34mnull\u001b[0m\u001b[2;48;2;39;40;34m                                                                    \u001b[0m\n",
       "\u001b[2m│   \u001b[0m\u001b[2m    \u001b[0m\u001b[2;38;2;249;38;114;48;2;39;40;34mimage_size\u001b[0m\u001b[2;38;2;248;248;242;48;2;39;40;34m:\u001b[0m\u001b[2;38;2;248;248;242;48;2;39;40;34m \u001b[0m\u001b[2;48;2;39;40;34m1024\u001b[0m\u001b[2;48;2;39;40;34m                                                                     \u001b[0m\n",
       "\u001b[2m│   \u001b[0m\u001b[2m    \u001b[0m\u001b[2;38;2;249;38;114;48;2;39;40;34mchannels\u001b[0m\u001b[2;38;2;248;248;242;48;2;39;40;34m:\u001b[0m\u001b[2;38;2;248;248;242;48;2;39;40;34m \u001b[0m\u001b[2;48;2;39;40;34m3\u001b[0m\u001b[2;48;2;39;40;34m                                                                          \u001b[0m\n",
       "\u001b[2m│   \u001b[0m\u001b[2m    \u001b[0m\u001b[2;38;2;249;38;114;48;2;39;40;34mclass_type\u001b[0m\u001b[2;38;2;248;248;242;48;2;39;40;34m:\u001b[0m\u001b[2;38;2;248;248;242;48;2;39;40;34m \u001b[0m\u001b[2;48;2;39;40;34mfamily\u001b[0m\u001b[2;48;2;39;40;34m                                                                   \u001b[0m\n",
       "\u001b[2m│   \u001b[0m\u001b[2m    \u001b[0m\u001b[2;38;2;249;38;114;48;2;39;40;34mnormalize\u001b[0m\u001b[2;38;2;248;248;242;48;2;39;40;34m:\u001b[0m\u001b[2;38;2;248;248;242;48;2;39;40;34m \u001b[0m\u001b[2;48;2;39;40;34mtrue\u001b[0m\u001b[2;48;2;39;40;34m                                                                      \u001b[0m\n",
       "\u001b[2m│   \u001b[0m\u001b[2m    \u001b[0m\u001b[2;38;2;249;38;114;48;2;39;40;34mseed\u001b[0m\u001b[2;38;2;248;248;242;48;2;39;40;34m:\u001b[0m\u001b[2;38;2;248;248;242;48;2;39;40;34m \u001b[0m\u001b[2;48;2;39;40;34m12345\u001b[0m\u001b[2;48;2;39;40;34m                                                                          \u001b[0m\n",
       "\u001b[2m│   \u001b[0m\u001b[2m    \u001b[0m\u001b[2;38;2;249;38;114;48;2;39;40;34mpredict_on_split\u001b[0m\u001b[2;38;2;248;248;242;48;2;39;40;34m:\u001b[0m\u001b[2;38;2;248;248;242;48;2;39;40;34m \u001b[0m\u001b[2;48;2;39;40;34mval\u001b[0m\u001b[2;48;2;39;40;34m                                                                \u001b[0m\n",
       "\u001b[2m│   \u001b[0m\u001b[2m    \u001b[0m\u001b[2;38;2;249;38;114;48;2;39;40;34mnum_workers\u001b[0m\u001b[2;38;2;248;248;242;48;2;39;40;34m:\u001b[0m\u001b[2;38;2;248;248;242;48;2;39;40;34m \u001b[0m\u001b[2;48;2;39;40;34m0\u001b[0m\u001b[2;48;2;39;40;34m                                                                       \u001b[0m\n",
       "\u001b[2m│   \u001b[0m\u001b[2m    \u001b[0m\u001b[2;38;2;249;38;114;48;2;39;40;34mroot_dir\u001b[0m\u001b[2;38;2;248;248;242;48;2;39;40;34m:\u001b[0m\u001b[2;38;2;248;248;242;48;2;39;40;34m \u001b[0m\u001b[2;48;2;39;40;34m/media/data/jacob/wandb_cache\u001b[0m\u001b[2;48;2;39;40;34m                                              \u001b[0m\n",
       "\u001b[2m│   \u001b[0m\u001b[2m    \u001b[0m\u001b[2;38;2;249;38;114;48;2;39;40;34mdataset_dir\u001b[0m\u001b[2;38;2;248;248;242;48;2;39;40;34m:\u001b[0m\u001b[2;38;2;248;248;242;48;2;39;40;34m \u001b[0m\u001b[2;48;2;39;40;34m/media/data/jacob/wandb_cache/datasets/Extant_family_10_1024\u001b[0m\u001b[2;48;2;39;40;34m            \u001b[0m\n",
       "\u001b[2m├── \u001b[0m\u001b[2mcallbacks\u001b[0m\u001b[2m                                                                                \u001b[0m\n",
       "\u001b[2m│   \u001b[0m\u001b[2m└── \u001b[0m\u001b[2;38;2;249;38;114;48;2;39;40;34mfinetuning\u001b[0m\u001b[2;38;2;248;248;242;48;2;39;40;34m:\u001b[0m\u001b[2;48;2;39;40;34m                                                                          \u001b[0m\n",
       "\u001b[2m│   \u001b[0m\u001b[2m    \u001b[0m\u001b[2;38;2;248;248;242;48;2;39;40;34m  \u001b[0m\u001b[2;38;2;249;38;114;48;2;39;40;34m_target_\u001b[0m\u001b[2;38;2;248;248;242;48;2;39;40;34m:\u001b[0m\u001b[2;38;2;248;248;242;48;2;39;40;34m \u001b[0m\u001b[2;48;2;39;40;34mlightning_hydra_classifiers.models.transfer.MilestonesFinetuning\u001b[0m\u001b[2;48;2;39;40;34m         \u001b[0m\n",
       "\u001b[2m│   \u001b[0m\u001b[2m    \u001b[0m\u001b[2;38;2;248;248;242;48;2;39;40;34m  \u001b[0m\u001b[2;38;2;249;38;114;48;2;39;40;34mmilestones\u001b[0m\u001b[2;38;2;248;248;242;48;2;39;40;34m:\u001b[0m\u001b[2;48;2;39;40;34m                                                                        \u001b[0m\n",
       "\u001b[2m│   \u001b[0m\u001b[2m    \u001b[0m\u001b[2;38;2;248;248;242;48;2;39;40;34m  \u001b[0m\u001b[2;48;2;39;40;34m-\u001b[0m\u001b[2;38;2;248;248;242;48;2;39;40;34m \u001b[0m\u001b[2;48;2;39;40;34m5\u001b[0m\u001b[2;48;2;39;40;34m                                                                                \u001b[0m\n",
       "\u001b[2m│   \u001b[0m\u001b[2m    \u001b[0m\u001b[2;38;2;248;248;242;48;2;39;40;34m  \u001b[0m\u001b[2;48;2;39;40;34m-\u001b[0m\u001b[2;38;2;248;248;242;48;2;39;40;34m \u001b[0m\u001b[2;48;2;39;40;34m10\u001b[0m\u001b[2;48;2;39;40;34m                                                                               \u001b[0m\n",
       "\u001b[2m│   \u001b[0m\u001b[2m    \u001b[0m\u001b[2;38;2;248;248;242;48;2;39;40;34m  \u001b[0m\u001b[2;38;2;249;38;114;48;2;39;40;34mtrain_bn\u001b[0m\u001b[2;38;2;248;248;242;48;2;39;40;34m:\u001b[0m\u001b[2;38;2;248;248;242;48;2;39;40;34m \u001b[0m\u001b[2;48;2;39;40;34mfalse\u001b[0m\u001b[2;48;2;39;40;34m                                                                    \u001b[0m\n",
       "\u001b[2m├── \u001b[0m\u001b[2mlogger\u001b[0m\u001b[2m                                                                                   \u001b[0m\n",
       "\u001b[2m│   \u001b[0m\u001b[2m└── \u001b[0m\u001b[2;38;2;249;38;114;48;2;39;40;34mwandb\u001b[0m\u001b[2;38;2;248;248;242;48;2;39;40;34m:\u001b[0m\u001b[2;48;2;39;40;34m                                                                               \u001b[0m\n",
       "\u001b[2m│   \u001b[0m\u001b[2m    \u001b[0m\u001b[2;38;2;248;248;242;48;2;39;40;34m  \u001b[0m\u001b[2;38;2;249;38;114;48;2;39;40;34m_target_\u001b[0m\u001b[2;38;2;248;248;242;48;2;39;40;34m:\u001b[0m\u001b[2;38;2;248;248;242;48;2;39;40;34m \u001b[0m\u001b[2;48;2;39;40;34mpytorch_lightning.loggers.wandb.WandbLogger\u001b[0m\u001b[2;48;2;39;40;34m                              \u001b[0m\n",
       "\u001b[2m│   \u001b[0m\u001b[2m    \u001b[0m\u001b[2;38;2;248;248;242;48;2;39;40;34m  \u001b[0m\u001b[2;38;2;249;38;114;48;2;39;40;34mentity\u001b[0m\u001b[2;38;2;248;248;242;48;2;39;40;34m:\u001b[0m\u001b[2;38;2;248;248;242;48;2;39;40;34m \u001b[0m\u001b[2;48;2;39;40;34mjrose\u001b[0m\u001b[2;48;2;39;40;34m                                                                      \u001b[0m\n",
       "\u001b[2m│   \u001b[0m\u001b[2m    \u001b[0m\u001b[2;38;2;248;248;242;48;2;39;40;34m  \u001b[0m\u001b[2;38;2;249;38;114;48;2;39;40;34mproject\u001b[0m\u001b[2;38;2;248;248;242;48;2;39;40;34m:\u001b[0m\u001b[2;38;2;248;248;242;48;2;39;40;34m \u001b[0m\u001b[2;48;2;39;40;34mmnist_scaling_experiments\u001b[0m\u001b[2;48;2;39;40;34m                                                 \u001b[0m\n",
       "\u001b[2m│   \u001b[0m\u001b[2m    \u001b[0m\u001b[2;38;2;248;248;242;48;2;39;40;34m  \u001b[0m\u001b[2;38;2;249;38;114;48;2;39;40;34mjob_type\u001b[0m\u001b[2;38;2;248;248;242;48;2;39;40;34m:\u001b[0m\u001b[2;38;2;248;248;242;48;2;39;40;34m \u001b[0m\u001b[2;48;2;39;40;34mExtant_family_10_1024_tune-train-test\u001b[0m\u001b[2;48;2;39;40;34m                                    \u001b[0m\n",
       "\u001b[2m│   \u001b[0m\u001b[2m    \u001b[0m\u001b[2;38;2;248;248;242;48;2;39;40;34m  \u001b[0m\u001b[2;38;2;249;38;114;48;2;39;40;34mgroup\u001b[0m\u001b[2;38;2;248;248;242;48;2;39;40;34m:\u001b[0m\u001b[2;38;2;248;248;242;48;2;39;40;34m \u001b[0m\u001b[2;48;2;39;40;34msingle-gpu\u001b[0m\u001b[2;48;2;39;40;34m                                                                  \u001b[0m\n",
       "\u001b[2m│   \u001b[0m\u001b[2m    \u001b[0m\u001b[2;38;2;248;248;242;48;2;39;40;34m  \u001b[0m\u001b[2;38;2;249;38;114;48;2;39;40;34mmode\u001b[0m\u001b[2;38;2;248;248;242;48;2;39;40;34m:\u001b[0m\u001b[2;38;2;248;248;242;48;2;39;40;34m \u001b[0m\u001b[2;48;2;39;40;34monline\u001b[0m\u001b[2;48;2;39;40;34m                                                                       \u001b[0m\n",
       "\u001b[2m│   \u001b[0m\u001b[2m    \u001b[0m\u001b[2;38;2;248;248;242;48;2;39;40;34m  \u001b[0m\u001b[2;38;2;249;38;114;48;2;39;40;34mallow_val_change\u001b[0m\u001b[2;38;2;248;248;242;48;2;39;40;34m:\u001b[0m\u001b[2;38;2;248;248;242;48;2;39;40;34m \u001b[0m\u001b[2;48;2;39;40;34mtrue\u001b[0m\u001b[2;48;2;39;40;34m                                                             \u001b[0m\n",
       "\u001b[2m│   \u001b[0m\u001b[2m    \u001b[0m\u001b[2;38;2;248;248;242;48;2;39;40;34m  \u001b[0m\u001b[2;38;2;249;38;114;48;2;39;40;34msync_tensorboard\u001b[0m\u001b[2;38;2;248;248;242;48;2;39;40;34m:\u001b[0m\u001b[2;38;2;248;248;242;48;2;39;40;34m \u001b[0m\u001b[2;48;2;39;40;34mtrue\u001b[0m\u001b[2;48;2;39;40;34m                                                             \u001b[0m\n",
       "\u001b[2m│   \u001b[0m\u001b[2m    \u001b[0m\u001b[2;38;2;249;38;114;48;2;39;40;34mtensorboard\u001b[0m\u001b[2;38;2;248;248;242;48;2;39;40;34m:\u001b[0m\u001b[2;48;2;39;40;34m                                                                         \u001b[0m\n",
       "\u001b[2m│   \u001b[0m\u001b[2m    \u001b[0m\u001b[2;38;2;248;248;242;48;2;39;40;34m  \u001b[0m\u001b[2;38;2;249;38;114;48;2;39;40;34m_target_\u001b[0m\u001b[2;38;2;248;248;242;48;2;39;40;34m:\u001b[0m\u001b[2;38;2;248;248;242;48;2;39;40;34m \u001b[0m\u001b[2;48;2;39;40;34mpytorch_lightning.loggers.tensorboard.TensorBoardLogger\u001b[0m\u001b[2;48;2;39;40;34m                  \u001b[0m\n",
       "\u001b[2m│   \u001b[0m\u001b[2m    \u001b[0m\u001b[2;38;2;248;248;242;48;2;39;40;34m  \u001b[0m\u001b[2;38;2;249;38;114;48;2;39;40;34msave_dir\u001b[0m\u001b[2;38;2;248;248;242;48;2;39;40;34m:\u001b[0m\u001b[2;38;2;248;248;242;48;2;39;40;34m \u001b[0m\u001b[2;48;2;39;40;34m/media/data_cifs/projects/prj_fossils/users/jacob/experiments/July2021-No\u001b[0m\n",
       "\u001b[2m│   \u001b[0m\u001b[2m    \u001b[0m\u001b[2;38;2;248;248;242;48;2;39;40;34m  \u001b[0m\u001b[2;38;2;249;38;114;48;2;39;40;34mname\u001b[0m\u001b[2;38;2;248;248;242;48;2;39;40;34m:\u001b[0m\u001b[2;38;2;248;248;242;48;2;39;40;34m \u001b[0m\u001b[2;48;2;39;40;34mExtant_family_10_1024_tune-train-test_Extant_family_10_1024\u001b[0m\u001b[2;48;2;39;40;34m                  \u001b[0m\n",
       "\u001b[2m└── \u001b[0m\u001b[2mseed\u001b[0m\u001b[2m                                                                                     \u001b[0m\n",
       "\u001b[2m    \u001b[0m\u001b[2m└── \u001b[0m\u001b[2;48;2;39;40;34m12345\u001b[0m\u001b[2;48;2;39;40;34m                                                                                \u001b[0m\n"
      ]
     },
     "metadata": {},
     "output_type": "display_data"
    },
    {
     "name": "stdout",
     "output_type": "stream",
     "text": [
      "2021-07-07 06:41:20 [INFO] lightning_hydra_classifiers.utils.template_utils - Forcing ddp friendly configuration! <config.trainer.accelerator=ddp>\n"
     ]
    },
    {
     "name": "stderr",
     "output_type": "stream",
     "text": [
      "Global seed set to 12345\n"
     ]
    },
    {
     "name": "stdout",
     "output_type": "stream",
     "text": [
      "batch_size 8 <class 'int'>\n",
      "lr 0.0004365158322401656 <class 'float'>\n",
      "num_classes 179 <class 'int'>\n",
      "classes ['Acanthaceae', 'Achariaceae', 'Achatocarpaceae', 'Actinidiaceae', 'Adoxaceae', 'Altiingiaceae', 'Altingiaceae', 'Amaranthaceae', 'Anacardiaceae', 'Ancistrocladaceae', 'Anisophylleaceae', 'Annonaceae', 'Apiaceae', 'Apocynaceae', 'Aquifoliaceae', 'Araliaceae', 'Argophyllaceae', 'Aristolochiaceae', 'Asteraceae', 'Atherospermataceae', 'Balanopaceae', 'Balsaminaceae', 'Berberidaceae', 'Betulaceae', 'Bignoniaceae', 'Bixaceae', 'Bonnetiaceae', 'Boraginaceae', 'Brunelliaceae', 'Burseraceae', 'Buxaceae', 'Calophyllaceae', 'Calycanthaceae', 'Campanulaceae', 'Canellaceae', 'Cannabaceae', 'Capparaceae', 'Caprifoliaceae', 'Cardiopteridaceae', 'Caricaceae', 'Caryocaraceae', 'Celastraceae', 'Centroplacaceae', 'Cercidiphyllaceae', 'Chloranthaceae', 'Chrysobalanaceae', 'Clethraceae', 'Clusiaceae', 'Combretaceae', 'Connaraceae', 'Coriariaceae', 'Cornaceae', 'Crassulaceae', 'Crossosomataceae', 'Cucurbitaceae', 'Cunoniaceae', 'Dichapetalaceae', 'Dilleniaceae', 'Dipterocarpaceae', 'Ebenaceae', 'Elaeocarpaceae', 'Ericaceae', 'Erythroxylaceae', 'Escalloniaceae', 'Eucommiaceae', 'Euphorbiaceae', 'Fabaceae', 'Fagaceae', 'Garryaceae', 'Gentianaceae', 'Geraniaceae', 'Gesneriaceae', 'Gnetaceae', 'Grossulariaceae', 'Gunneraceae', 'Hamamelidaceae', 'Hernandiaceae', 'Humiriaceae', 'Hydrangeaceae', 'Hypericaceae', 'Icacinaceae', 'Irvingiaceae', 'Iteaceae', 'Ixonanthaceae', 'Juglandaceae', 'Lamiaceae', 'Lardizabalaceae', 'Lauraceae', 'Lecythidaceae', 'Liliaceae', 'Linaceae', 'Loganiaceae', 'Loranthaceae', 'Lythraceae', 'Magnoliaceae', 'Malpighiaceae', 'Malvaceae', 'Marantaceae', 'Marcgraviaceae', 'Melastomataceae', 'Meliaceae', 'Melianthaceae', 'Menispermaceae', 'Monimiaceae', 'Moraceae', 'Myricaceae', 'Myristicaceae', 'Myrtaceae', 'Nitrariaceae', 'Nothofagaceae', 'Nyctaginaceae', 'Ochnaceae', 'Olacaceae', 'Oleaceae', 'Onagraceae', 'Opiliaceae', 'Orchidaceae', 'Orobanchaceae', 'Oxalidaceae', 'Pandaceae', 'Papaveraceae', 'Paracryphiaceae', 'Passifloraceae', 'Pedaliaceae', 'Penaeaceae', 'Pentaphylacaceae', 'Peridiscaceae', 'Phyllanthaceae', 'Phytolaccaceae', 'Picramniaceae', 'Picrodendraceae', 'Piperaceae', 'Pittosporaceae', 'Platanaceae', 'Polemoniaceae', 'Polygalaceae', 'Polygonaceae', 'Primulaceae', 'Proteaceae', 'Ranunculaceae', 'Rhabdodendraceae', 'Rhamnaceae', 'Rhizophoraceae', 'Rosaceae', 'Rubiaceae', 'Rutaceae', 'Sabiaceae', 'Salicaceae', 'Santalaceae', 'Sapindaceae', 'Sapotaceae', 'Sarcolaenaceae', 'Saxifragaceae', 'Schisandraceae', 'Schoepfiaceae', 'Scrophulariaceae', 'Simaroubaceae', 'Siparunaceae', 'Smilacaceae', 'Solanaceae', 'Sphaerosepalaceae', 'Stachyuraceae', 'Staphyleaceae', 'Stegnospermataceae', 'Stemonuraceae', 'Styracaceae', 'Symplocaceae', 'Theaceae', 'Thymelaeaceae', 'Trigoniaceae', 'Trochodendraceae', 'Ulmaceae', 'Urticaceae', 'Verbenaceae', 'Violaceae', 'Vitaceae', 'Vochysiaceae', 'Winteraceae', 'Zygophyllaceae'] <class 'omegaconf.listconfig.ListConfig'>\n",
      "class_type family <class 'str'>\n",
      "image_size 1024 <class 'int'>\n"
     ]
    },
    {
     "data": {
      "text/html": [
       "<pre style=\"white-space:pre;overflow-x:auto;line-height:normal;font-family:Menlo,'DejaVu Sans Mono',consolas,'Courier New',monospace\"><span style=\"color: #7fbfbf; text-decoration-color: #7fbfbf\">[07/07/21 06:41:20] </span><span style=\"color: #000080; text-decoration-color: #000080\">INFO    </span> Instantiating datamodule <span style=\"font-weight: bold\">&lt;</span><span style=\"color: #ff00ff; text-decoration-color: #ff00ff; font-weight: bold\">contr</span> <a href=\"file://<ipython-input-6-646b124b0b5e>\"><span style=\"color: #7f7f7f; text-decoration-color: #7f7f7f\">&lt;ipython-input-6-646b124b0b5e&gt;</span></a><span style=\"color: #7f7f7f; text-decoration-color: #7f7f7f\">:2</span>\n",
       "                             <span style=\"color: #ff00ff; text-decoration-color: #ff00ff; font-weight: bold\">astive_learning.data.pytorch.da</span>                                 \n",
       "                             <span style=\"color: #ff00ff; text-decoration-color: #ff00ff; font-weight: bold\">tamodules.build_datamodule</span><span style=\"font-weight: bold\">&gt;</span>                                     \n",
       "</pre>\n"
      ],
      "text/plain": [
       "\u001b[2;36m[07/07/21 06:41:20]\u001b[0m\u001b[2;36m \u001b[0m\u001b[34mINFO    \u001b[0m Instantiating datamodule \u001b[1m<\u001b[0m\u001b[1;95mcontr\u001b[0m \u001b]8;id=1625654480.4988244-768276;file://<ipython-input-6-646b124b0b5e>\u001b\\\u001b[2m<ipython-input-6-646b124b0b5e>\u001b[0m\u001b]8;;\u001b\\\u001b[2m:2\u001b[0m\n",
       "                             \u001b[1;95mastive_learning.data.pytorch.da\u001b[0m                                 \n",
       "                             \u001b[1;95mtamodules.build_datamodule\u001b[0m\u001b[1m>\u001b[0m                                     \n"
      ]
     },
     "metadata": {},
     "output_type": "display_data"
    },
    {
     "name": "stdout",
     "output_type": "stream",
     "text": [
      "2021-07-07 06:41:20 [INFO] 3_16bit_precision-single_gpu--tune_batchsize--tune_lr - Instantiating datamodule <contrastive_learning.data.pytorch.datamodules.build_datamodule>\n",
      "Warning, no values for name or dataset_dir provided to constructor.\n",
      "Warning, no values for name or dataset_dir provided to constructor.\n",
      "Warning, no values for name or dataset_dir provided to constructor.\n",
      "Warning, no values for name or dataset_dir provided to constructor.\n",
      "Warning, no values for name or dataset_dir provided to constructor.\n",
      "Warning, no values for name or dataset_dir provided to constructor.\n",
      "Warning, no values for name or dataset_dir provided to constructor.\n",
      "Warning, no values for name or dataset_dir provided to constructor.\n"
     ]
    },
    {
     "data": {
      "text/html": [
       "<pre style=\"white-space:pre;overflow-x:auto;line-height:normal;font-family:Menlo,'DejaVu Sans Mono',consolas,'Courier New',monospace\"><span style=\"color: #7f7f7f; text-decoration-color: #7f7f7f\">⚙ CONFIG                                                                                     </span>\n",
       "<span style=\"color: #7f7f7f; text-decoration-color: #7f7f7f\">├── </span><span style=\"color: #7f7f7f; text-decoration-color: #7f7f7f\">trainer                                                                                  </span>\n",
       "<span style=\"color: #7f7f7f; text-decoration-color: #7f7f7f\">│   └── </span><span style=\"color: #fc92b8; text-decoration-color: #fc92b8; background-color: #272822\">_target_</span><span style=\"color: #fbfbf8; text-decoration-color: #fbfbf8; background-color: #272822\">: </span><span style=\"color: #7f7f7f; text-decoration-color: #7f7f7f; background-color: #272822\">pytorch_lightning.Trainer                                                  </span>\n",
       "<span style=\"color: #7f7f7f; text-decoration-color: #7f7f7f\">│       </span><span style=\"color: #fc92b8; text-decoration-color: #fc92b8; background-color: #272822\">gpus</span><span style=\"color: #fbfbf8; text-decoration-color: #fbfbf8; background-color: #272822\">:</span><span style=\"color: #7f7f7f; text-decoration-color: #7f7f7f; background-color: #272822\">                                                                                </span>\n",
       "<span style=\"color: #7f7f7f; text-decoration-color: #7f7f7f\">│       </span><span style=\"color: #7f7f7f; text-decoration-color: #7f7f7f; background-color: #272822\">-</span><span style=\"color: #fbfbf8; text-decoration-color: #fbfbf8; background-color: #272822\"> </span><span style=\"color: #7f7f7f; text-decoration-color: #7f7f7f; background-color: #272822\">2                                                                                  </span>\n",
       "<span style=\"color: #7f7f7f; text-decoration-color: #7f7f7f\">│       </span><span style=\"color: #fc92b8; text-decoration-color: #fc92b8; background-color: #272822\">auto_select_gpus</span><span style=\"color: #fbfbf8; text-decoration-color: #fbfbf8; background-color: #272822\">: </span><span style=\"color: #7f7f7f; text-decoration-color: #7f7f7f; background-color: #272822\">true                                                               </span>\n",
       "<span style=\"color: #7f7f7f; text-decoration-color: #7f7f7f\">│       </span><span style=\"color: #fc92b8; text-decoration-color: #fc92b8; background-color: #272822\">accelerator</span><span style=\"color: #fbfbf8; text-decoration-color: #fbfbf8; background-color: #272822\">: </span><span style=\"color: #7f7f7f; text-decoration-color: #7f7f7f; background-color: #272822\">dp                                                                      </span>\n",
       "<span style=\"color: #7f7f7f; text-decoration-color: #7f7f7f\">│       </span><span style=\"color: #fc92b8; text-decoration-color: #fc92b8; background-color: #272822\">min_epochs</span><span style=\"color: #fbfbf8; text-decoration-color: #fbfbf8; background-color: #272822\">: </span><span style=\"color: #7f7f7f; text-decoration-color: #7f7f7f; background-color: #272822\">1                                                                        </span>\n",
       "<span style=\"color: #7f7f7f; text-decoration-color: #7f7f7f\">│       </span><span style=\"color: #fc92b8; text-decoration-color: #fc92b8; background-color: #272822\">max_epochs</span><span style=\"color: #fbfbf8; text-decoration-color: #fbfbf8; background-color: #272822\">: </span><span style=\"color: #7f7f7f; text-decoration-color: #7f7f7f; background-color: #272822\">15                                                                       </span>\n",
       "<span style=\"color: #7f7f7f; text-decoration-color: #7f7f7f\">│       </span><span style=\"color: #fc92b8; text-decoration-color: #fc92b8; background-color: #272822\">weights_summary</span><span style=\"color: #fbfbf8; text-decoration-color: #fbfbf8; background-color: #272822\">: </span><span style=\"color: #7f7f7f; text-decoration-color: #7f7f7f; background-color: #272822\">top                                                                 </span>\n",
       "<span style=\"color: #7f7f7f; text-decoration-color: #7f7f7f\">│       </span><span style=\"color: #fc92b8; text-decoration-color: #fc92b8; background-color: #272822\">profiler</span><span style=\"color: #fbfbf8; text-decoration-color: #fbfbf8; background-color: #272822\">: </span><span style=\"color: #7f7f7f; text-decoration-color: #7f7f7f; background-color: #272822\">simple                                                                     </span>\n",
       "<span style=\"color: #7f7f7f; text-decoration-color: #7f7f7f\">│       </span><span style=\"color: #fc92b8; text-decoration-color: #fc92b8; background-color: #272822\">log_every_n_steps</span><span style=\"color: #fbfbf8; text-decoration-color: #fbfbf8; background-color: #272822\">: </span><span style=\"color: #7f7f7f; text-decoration-color: #7f7f7f; background-color: #272822\">50                                                                </span>\n",
       "<span style=\"color: #7f7f7f; text-decoration-color: #7f7f7f\">│       </span><span style=\"color: #fc92b8; text-decoration-color: #fc92b8; background-color: #272822\">amp_backend</span><span style=\"color: #fbfbf8; text-decoration-color: #fbfbf8; background-color: #272822\">: </span><span style=\"color: #7f7f7f; text-decoration-color: #7f7f7f; background-color: #272822\">native                                                                  </span>\n",
       "<span style=\"color: #7f7f7f; text-decoration-color: #7f7f7f\">│       </span><span style=\"color: #fc92b8; text-decoration-color: #fc92b8; background-color: #272822\">amp_level</span><span style=\"color: #fbfbf8; text-decoration-color: #fbfbf8; background-color: #272822\">: </span><span style=\"color: #f2edb9; text-decoration-color: #f2edb9; background-color: #272822\">'02'</span><span style=\"color: #7f7f7f; text-decoration-color: #7f7f7f; background-color: #272822\">                                                                      </span>\n",
       "<span style=\"color: #7f7f7f; text-decoration-color: #7f7f7f\">│       </span><span style=\"color: #fc92b8; text-decoration-color: #fc92b8; background-color: #272822\">precision</span><span style=\"color: #fbfbf8; text-decoration-color: #fbfbf8; background-color: #272822\">: </span><span style=\"color: #7f7f7f; text-decoration-color: #7f7f7f; background-color: #272822\">16                                                                        </span>\n",
       "<span style=\"color: #7f7f7f; text-decoration-color: #7f7f7f\">├── </span><span style=\"color: #7f7f7f; text-decoration-color: #7f7f7f\">model                                                                                    </span>\n",
       "<span style=\"color: #7f7f7f; text-decoration-color: #7f7f7f\">│   └── </span><span style=\"color: #fc92b8; text-decoration-color: #fc92b8; background-color: #272822\">_target_</span><span style=\"color: #fbfbf8; text-decoration-color: #fbfbf8; background-color: #272822\">: </span><span style=\"color: #7f7f7f; text-decoration-color: #7f7f7f; background-color: #272822\">lightning_hydra_classifiers.models.transfer.TransferLearningModel          </span>\n",
       "<span style=\"color: #7f7f7f; text-decoration-color: #7f7f7f\">│       </span><span style=\"color: #fc92b8; text-decoration-color: #fc92b8; background-color: #272822\">classifier</span><span style=\"color: #fbfbf8; text-decoration-color: #fbfbf8; background-color: #272822\">:</span><span style=\"color: #7f7f7f; text-decoration-color: #7f7f7f; background-color: #272822\">                                                                          </span>\n",
       "<span style=\"color: #7f7f7f; text-decoration-color: #7f7f7f\">│       </span><span style=\"color: #fbfbf8; text-decoration-color: #fbfbf8; background-color: #272822\">  </span><span style=\"color: #fc92b8; text-decoration-color: #fc92b8; background-color: #272822\">_target_</span><span style=\"color: #fbfbf8; text-decoration-color: #fbfbf8; background-color: #272822\">: </span><span style=\"color: #7f7f7f; text-decoration-color: #7f7f7f; background-color: #272822\">lightning_hydra_classifiers.models.transfer.Classifier                   </span>\n",
       "<span style=\"color: #7f7f7f; text-decoration-color: #7f7f7f\">│       </span><span style=\"color: #fbfbf8; text-decoration-color: #fbfbf8; background-color: #272822\">  </span><span style=\"color: #fc92b8; text-decoration-color: #fc92b8; background-color: #272822\">backbone_name</span><span style=\"color: #fbfbf8; text-decoration-color: #fbfbf8; background-color: #272822\">: </span><span style=\"color: #7f7f7f; text-decoration-color: #7f7f7f; background-color: #272822\">resnet50                                                            </span>\n",
       "<span style=\"color: #7f7f7f; text-decoration-color: #7f7f7f\">│       </span><span style=\"color: #fbfbf8; text-decoration-color: #fbfbf8; background-color: #272822\">  </span><span style=\"color: #fc92b8; text-decoration-color: #fc92b8; background-color: #272822\">num_classes</span><span style=\"color: #fbfbf8; text-decoration-color: #fbfbf8; background-color: #272822\">: </span><span style=\"color: #7f7f7f; text-decoration-color: #7f7f7f; background-color: #272822\">179                                                                   </span>\n",
       "<span style=\"color: #7f7f7f; text-decoration-color: #7f7f7f\">│       </span><span style=\"color: #fbfbf8; text-decoration-color: #fbfbf8; background-color: #272822\">  </span><span style=\"color: #fc92b8; text-decoration-color: #fc92b8; background-color: #272822\">finetune</span><span style=\"color: #fbfbf8; text-decoration-color: #fbfbf8; background-color: #272822\">: </span><span style=\"color: #7f7f7f; text-decoration-color: #7f7f7f; background-color: #272822\">true                                                                     </span>\n",
       "<span style=\"color: #7f7f7f; text-decoration-color: #7f7f7f\">│       </span><span style=\"color: #fc92b8; text-decoration-color: #fc92b8; background-color: #272822\">train_bn</span><span style=\"color: #fbfbf8; text-decoration-color: #fbfbf8; background-color: #272822\">: </span><span style=\"color: #7f7f7f; text-decoration-color: #7f7f7f; background-color: #272822\">false                                                                      </span>\n",
       "<span style=\"color: #7f7f7f; text-decoration-color: #7f7f7f\">│       </span><span style=\"color: #fc92b8; text-decoration-color: #fc92b8; background-color: #272822\">milestones</span><span style=\"color: #fbfbf8; text-decoration-color: #fbfbf8; background-color: #272822\">:</span><span style=\"color: #7f7f7f; text-decoration-color: #7f7f7f; background-color: #272822\">                                                                          </span>\n",
       "<span style=\"color: #7f7f7f; text-decoration-color: #7f7f7f\">│       </span><span style=\"color: #7f7f7f; text-decoration-color: #7f7f7f; background-color: #272822\">-</span><span style=\"color: #fbfbf8; text-decoration-color: #fbfbf8; background-color: #272822\"> </span><span style=\"color: #7f7f7f; text-decoration-color: #7f7f7f; background-color: #272822\">5                                                                                  </span>\n",
       "<span style=\"color: #7f7f7f; text-decoration-color: #7f7f7f\">│       </span><span style=\"color: #7f7f7f; text-decoration-color: #7f7f7f; background-color: #272822\">-</span><span style=\"color: #fbfbf8; text-decoration-color: #fbfbf8; background-color: #272822\"> </span><span style=\"color: #7f7f7f; text-decoration-color: #7f7f7f; background-color: #272822\">10                                                                                 </span>\n",
       "<span style=\"color: #7f7f7f; text-decoration-color: #7f7f7f\">│       </span><span style=\"color: #fc92b8; text-decoration-color: #fc92b8; background-color: #272822\">batch_size</span><span style=\"color: #fbfbf8; text-decoration-color: #fbfbf8; background-color: #272822\">: </span><span style=\"color: #7f7f7f; text-decoration-color: #7f7f7f; background-color: #272822\">8                                                                        </span>\n",
       "<span style=\"color: #7f7f7f; text-decoration-color: #7f7f7f\">│       </span><span style=\"color: #fc92b8; text-decoration-color: #fc92b8; background-color: #272822\">optimizer</span><span style=\"color: #fbfbf8; text-decoration-color: #fbfbf8; background-color: #272822\">: </span><span style=\"color: #7f7f7f; text-decoration-color: #7f7f7f; background-color: #272822\">Adam                                                                      </span>\n",
       "<span style=\"color: #7f7f7f; text-decoration-color: #7f7f7f\">│       </span><span style=\"color: #fc92b8; text-decoration-color: #fc92b8; background-color: #272822\">lr</span><span style=\"color: #fbfbf8; text-decoration-color: #fbfbf8; background-color: #272822\">: </span><span style=\"color: #7f7f7f; text-decoration-color: #7f7f7f; background-color: #272822\">0.0004365158322401656                                                            </span>\n",
       "<span style=\"color: #7f7f7f; text-decoration-color: #7f7f7f\">│       </span><span style=\"color: #fc92b8; text-decoration-color: #fc92b8; background-color: #272822\">lr_scheduler_gamma</span><span style=\"color: #fbfbf8; text-decoration-color: #fbfbf8; background-color: #272822\">: </span><span style=\"color: #7f7f7f; text-decoration-color: #7f7f7f; background-color: #272822\">0.1                                                              </span>\n",
       "<span style=\"color: #7f7f7f; text-decoration-color: #7f7f7f\">├── </span><span style=\"color: #7f7f7f; text-decoration-color: #7f7f7f\">datamodule                                                                               </span>\n",
       "<span style=\"color: #7f7f7f; text-decoration-color: #7f7f7f\">│   └── </span><span style=\"color: #fc92b8; text-decoration-color: #fc92b8; background-color: #272822\">_target_</span><span style=\"color: #fbfbf8; text-decoration-color: #fbfbf8; background-color: #272822\">: </span><span style=\"color: #7f7f7f; text-decoration-color: #7f7f7f; background-color: #272822\">contrastive_learning.data.pytorch.datamodules.build_datamodule             </span>\n",
       "<span style=\"color: #7f7f7f; text-decoration-color: #7f7f7f\">│       </span><span style=\"color: #fc92b8; text-decoration-color: #fc92b8; background-color: #272822\">basename</span><span style=\"color: #fbfbf8; text-decoration-color: #fbfbf8; background-color: #272822\">: </span><span style=\"color: #7f7f7f; text-decoration-color: #7f7f7f; background-color: #272822\">Extant                                                                     </span>\n",
       "<span style=\"color: #7f7f7f; text-decoration-color: #7f7f7f\">│       </span><span style=\"color: #fc92b8; text-decoration-color: #fc92b8; background-color: #272822\">name</span><span style=\"color: #fbfbf8; text-decoration-color: #fbfbf8; background-color: #272822\">: </span><span style=\"color: #7f7f7f; text-decoration-color: #7f7f7f; background-color: #272822\">Extant_family_10_1024                                                          </span>\n",
       "<span style=\"color: #7f7f7f; text-decoration-color: #7f7f7f\">│       </span><span style=\"color: #fc92b8; text-decoration-color: #fc92b8; background-color: #272822\">batch_size</span><span style=\"color: #fbfbf8; text-decoration-color: #fbfbf8; background-color: #272822\">: </span><span style=\"color: #7f7f7f; text-decoration-color: #7f7f7f; background-color: #272822\">8                                                                        </span>\n",
       "<span style=\"color: #7f7f7f; text-decoration-color: #7f7f7f\">│       </span><span style=\"color: #fc92b8; text-decoration-color: #fc92b8; background-color: #272822\">val_split</span><span style=\"color: #fbfbf8; text-decoration-color: #fbfbf8; background-color: #272822\">: </span><span style=\"color: #7f7f7f; text-decoration-color: #7f7f7f; background-color: #272822\">0.2                                                                       </span>\n",
       "<span style=\"color: #7f7f7f; text-decoration-color: #7f7f7f\">│       </span><span style=\"color: #fc92b8; text-decoration-color: #fc92b8; background-color: #272822\">classes</span><span style=\"color: #fbfbf8; text-decoration-color: #fbfbf8; background-color: #272822\">:</span><span style=\"color: #7f7f7f; text-decoration-color: #7f7f7f; background-color: #272822\">                                                                             </span>\n",
       "<span style=\"color: #7f7f7f; text-decoration-color: #7f7f7f\">│       </span><span style=\"color: #7f7f7f; text-decoration-color: #7f7f7f; background-color: #272822\">-</span><span style=\"color: #fbfbf8; text-decoration-color: #fbfbf8; background-color: #272822\"> </span><span style=\"color: #7f7f7f; text-decoration-color: #7f7f7f; background-color: #272822\">Acanthaceae                                                                        </span>\n",
       "<span style=\"color: #7f7f7f; text-decoration-color: #7f7f7f\">│       </span><span style=\"color: #7f7f7f; text-decoration-color: #7f7f7f; background-color: #272822\">-</span><span style=\"color: #fbfbf8; text-decoration-color: #fbfbf8; background-color: #272822\"> </span><span style=\"color: #7f7f7f; text-decoration-color: #7f7f7f; background-color: #272822\">Achariaceae                                                                        </span>\n",
       "<span style=\"color: #7f7f7f; text-decoration-color: #7f7f7f\">│       </span><span style=\"color: #7f7f7f; text-decoration-color: #7f7f7f; background-color: #272822\">-</span><span style=\"color: #fbfbf8; text-decoration-color: #fbfbf8; background-color: #272822\"> </span><span style=\"color: #7f7f7f; text-decoration-color: #7f7f7f; background-color: #272822\">Achatocarpaceae                                                                    </span>\n",
       "<span style=\"color: #7f7f7f; text-decoration-color: #7f7f7f\">│       </span><span style=\"color: #7f7f7f; text-decoration-color: #7f7f7f; background-color: #272822\">-</span><span style=\"color: #fbfbf8; text-decoration-color: #fbfbf8; background-color: #272822\"> </span><span style=\"color: #7f7f7f; text-decoration-color: #7f7f7f; background-color: #272822\">Actinidiaceae                                                                      </span>\n",
       "<span style=\"color: #7f7f7f; text-decoration-color: #7f7f7f\">│       </span><span style=\"color: #7f7f7f; text-decoration-color: #7f7f7f; background-color: #272822\">-</span><span style=\"color: #fbfbf8; text-decoration-color: #fbfbf8; background-color: #272822\"> </span><span style=\"color: #7f7f7f; text-decoration-color: #7f7f7f; background-color: #272822\">Adoxaceae                                                                          </span>\n",
       "<span style=\"color: #7f7f7f; text-decoration-color: #7f7f7f\">│       </span><span style=\"color: #7f7f7f; text-decoration-color: #7f7f7f; background-color: #272822\">-</span><span style=\"color: #fbfbf8; text-decoration-color: #fbfbf8; background-color: #272822\"> </span><span style=\"color: #7f7f7f; text-decoration-color: #7f7f7f; background-color: #272822\">Altiingiaceae                                                                      </span>\n",
       "<span style=\"color: #7f7f7f; text-decoration-color: #7f7f7f\">│       </span><span style=\"color: #7f7f7f; text-decoration-color: #7f7f7f; background-color: #272822\">-</span><span style=\"color: #fbfbf8; text-decoration-color: #fbfbf8; background-color: #272822\"> </span><span style=\"color: #7f7f7f; text-decoration-color: #7f7f7f; background-color: #272822\">Altingiaceae                                                                       </span>\n",
       "<span style=\"color: #7f7f7f; text-decoration-color: #7f7f7f\">│       </span><span style=\"color: #7f7f7f; text-decoration-color: #7f7f7f; background-color: #272822\">-</span><span style=\"color: #fbfbf8; text-decoration-color: #fbfbf8; background-color: #272822\"> </span><span style=\"color: #7f7f7f; text-decoration-color: #7f7f7f; background-color: #272822\">Amaranthaceae                                                                      </span>\n",
       "<span style=\"color: #7f7f7f; text-decoration-color: #7f7f7f\">│       </span><span style=\"color: #7f7f7f; text-decoration-color: #7f7f7f; background-color: #272822\">-</span><span style=\"color: #fbfbf8; text-decoration-color: #fbfbf8; background-color: #272822\"> </span><span style=\"color: #7f7f7f; text-decoration-color: #7f7f7f; background-color: #272822\">Anacardiaceae                                                                      </span>\n",
       "<span style=\"color: #7f7f7f; text-decoration-color: #7f7f7f\">│       </span><span style=\"color: #7f7f7f; text-decoration-color: #7f7f7f; background-color: #272822\">-</span><span style=\"color: #fbfbf8; text-decoration-color: #fbfbf8; background-color: #272822\"> </span><span style=\"color: #7f7f7f; text-decoration-color: #7f7f7f; background-color: #272822\">Ancistrocladaceae                                                                  </span>\n",
       "<span style=\"color: #7f7f7f; text-decoration-color: #7f7f7f\">│       </span><span style=\"color: #7f7f7f; text-decoration-color: #7f7f7f; background-color: #272822\">-</span><span style=\"color: #fbfbf8; text-decoration-color: #fbfbf8; background-color: #272822\"> </span><span style=\"color: #7f7f7f; text-decoration-color: #7f7f7f; background-color: #272822\">Anisophylleaceae                                                                   </span>\n",
       "<span style=\"color: #7f7f7f; text-decoration-color: #7f7f7f\">│       </span><span style=\"color: #7f7f7f; text-decoration-color: #7f7f7f; background-color: #272822\">-</span><span style=\"color: #fbfbf8; text-decoration-color: #fbfbf8; background-color: #272822\"> </span><span style=\"color: #7f7f7f; text-decoration-color: #7f7f7f; background-color: #272822\">Annonaceae                                                                         </span>\n",
       "<span style=\"color: #7f7f7f; text-decoration-color: #7f7f7f\">│       </span><span style=\"color: #7f7f7f; text-decoration-color: #7f7f7f; background-color: #272822\">-</span><span style=\"color: #fbfbf8; text-decoration-color: #fbfbf8; background-color: #272822\"> </span><span style=\"color: #7f7f7f; text-decoration-color: #7f7f7f; background-color: #272822\">Apiaceae                                                                           </span>\n",
       "<span style=\"color: #7f7f7f; text-decoration-color: #7f7f7f\">│       </span><span style=\"color: #7f7f7f; text-decoration-color: #7f7f7f; background-color: #272822\">-</span><span style=\"color: #fbfbf8; text-decoration-color: #fbfbf8; background-color: #272822\"> </span><span style=\"color: #7f7f7f; text-decoration-color: #7f7f7f; background-color: #272822\">Apocynaceae                                                                        </span>\n",
       "<span style=\"color: #7f7f7f; text-decoration-color: #7f7f7f\">│       </span><span style=\"color: #7f7f7f; text-decoration-color: #7f7f7f; background-color: #272822\">-</span><span style=\"color: #fbfbf8; text-decoration-color: #fbfbf8; background-color: #272822\"> </span><span style=\"color: #7f7f7f; text-decoration-color: #7f7f7f; background-color: #272822\">Aquifoliaceae                                                                      </span>\n",
       "<span style=\"color: #7f7f7f; text-decoration-color: #7f7f7f\">│       </span><span style=\"color: #7f7f7f; text-decoration-color: #7f7f7f; background-color: #272822\">-</span><span style=\"color: #fbfbf8; text-decoration-color: #fbfbf8; background-color: #272822\"> </span><span style=\"color: #7f7f7f; text-decoration-color: #7f7f7f; background-color: #272822\">Araliaceae                                                                         </span>\n",
       "<span style=\"color: #7f7f7f; text-decoration-color: #7f7f7f\">│       </span><span style=\"color: #7f7f7f; text-decoration-color: #7f7f7f; background-color: #272822\">-</span><span style=\"color: #fbfbf8; text-decoration-color: #fbfbf8; background-color: #272822\"> </span><span style=\"color: #7f7f7f; text-decoration-color: #7f7f7f; background-color: #272822\">Argophyllaceae                                                                     </span>\n",
       "<span style=\"color: #7f7f7f; text-decoration-color: #7f7f7f\">│       </span><span style=\"color: #7f7f7f; text-decoration-color: #7f7f7f; background-color: #272822\">-</span><span style=\"color: #fbfbf8; text-decoration-color: #fbfbf8; background-color: #272822\"> </span><span style=\"color: #7f7f7f; text-decoration-color: #7f7f7f; background-color: #272822\">Aristolochiaceae                                                                   </span>\n",
       "<span style=\"color: #7f7f7f; text-decoration-color: #7f7f7f\">│       </span><span style=\"color: #7f7f7f; text-decoration-color: #7f7f7f; background-color: #272822\">-</span><span style=\"color: #fbfbf8; text-decoration-color: #fbfbf8; background-color: #272822\"> </span><span style=\"color: #7f7f7f; text-decoration-color: #7f7f7f; background-color: #272822\">Asteraceae                                                                         </span>\n",
       "<span style=\"color: #7f7f7f; text-decoration-color: #7f7f7f\">│       </span><span style=\"color: #7f7f7f; text-decoration-color: #7f7f7f; background-color: #272822\">-</span><span style=\"color: #fbfbf8; text-decoration-color: #fbfbf8; background-color: #272822\"> </span><span style=\"color: #7f7f7f; text-decoration-color: #7f7f7f; background-color: #272822\">Atherospermataceae                                                                 </span>\n",
       "<span style=\"color: #7f7f7f; text-decoration-color: #7f7f7f\">│       </span><span style=\"color: #7f7f7f; text-decoration-color: #7f7f7f; background-color: #272822\">-</span><span style=\"color: #fbfbf8; text-decoration-color: #fbfbf8; background-color: #272822\"> </span><span style=\"color: #7f7f7f; text-decoration-color: #7f7f7f; background-color: #272822\">Balanopaceae                                                                       </span>\n",
       "<span style=\"color: #7f7f7f; text-decoration-color: #7f7f7f\">│       </span><span style=\"color: #7f7f7f; text-decoration-color: #7f7f7f; background-color: #272822\">-</span><span style=\"color: #fbfbf8; text-decoration-color: #fbfbf8; background-color: #272822\"> </span><span style=\"color: #7f7f7f; text-decoration-color: #7f7f7f; background-color: #272822\">Balsaminaceae                                                                      </span>\n",
       "<span style=\"color: #7f7f7f; text-decoration-color: #7f7f7f\">│       </span><span style=\"color: #7f7f7f; text-decoration-color: #7f7f7f; background-color: #272822\">-</span><span style=\"color: #fbfbf8; text-decoration-color: #fbfbf8; background-color: #272822\"> </span><span style=\"color: #7f7f7f; text-decoration-color: #7f7f7f; background-color: #272822\">Berberidaceae                                                                      </span>\n",
       "<span style=\"color: #7f7f7f; text-decoration-color: #7f7f7f\">│       </span><span style=\"color: #7f7f7f; text-decoration-color: #7f7f7f; background-color: #272822\">-</span><span style=\"color: #fbfbf8; text-decoration-color: #fbfbf8; background-color: #272822\"> </span><span style=\"color: #7f7f7f; text-decoration-color: #7f7f7f; background-color: #272822\">Betulaceae                                                                         </span>\n",
       "<span style=\"color: #7f7f7f; text-decoration-color: #7f7f7f\">│       </span><span style=\"color: #7f7f7f; text-decoration-color: #7f7f7f; background-color: #272822\">-</span><span style=\"color: #fbfbf8; text-decoration-color: #fbfbf8; background-color: #272822\"> </span><span style=\"color: #7f7f7f; text-decoration-color: #7f7f7f; background-color: #272822\">Bignoniaceae                                                                       </span>\n",
       "<span style=\"color: #7f7f7f; text-decoration-color: #7f7f7f\">│       </span><span style=\"color: #7f7f7f; text-decoration-color: #7f7f7f; background-color: #272822\">-</span><span style=\"color: #fbfbf8; text-decoration-color: #fbfbf8; background-color: #272822\"> </span><span style=\"color: #7f7f7f; text-decoration-color: #7f7f7f; background-color: #272822\">Bixaceae                                                                           </span>\n",
       "<span style=\"color: #7f7f7f; text-decoration-color: #7f7f7f\">│       </span><span style=\"color: #7f7f7f; text-decoration-color: #7f7f7f; background-color: #272822\">-</span><span style=\"color: #fbfbf8; text-decoration-color: #fbfbf8; background-color: #272822\"> </span><span style=\"color: #7f7f7f; text-decoration-color: #7f7f7f; background-color: #272822\">Bonnetiaceae                                                                       </span>\n",
       "<span style=\"color: #7f7f7f; text-decoration-color: #7f7f7f\">│       </span><span style=\"color: #7f7f7f; text-decoration-color: #7f7f7f; background-color: #272822\">-</span><span style=\"color: #fbfbf8; text-decoration-color: #fbfbf8; background-color: #272822\"> </span><span style=\"color: #7f7f7f; text-decoration-color: #7f7f7f; background-color: #272822\">Boraginaceae                                                                       </span>\n",
       "<span style=\"color: #7f7f7f; text-decoration-color: #7f7f7f\">│       </span><span style=\"color: #7f7f7f; text-decoration-color: #7f7f7f; background-color: #272822\">-</span><span style=\"color: #fbfbf8; text-decoration-color: #fbfbf8; background-color: #272822\"> </span><span style=\"color: #7f7f7f; text-decoration-color: #7f7f7f; background-color: #272822\">Brunelliaceae                                                                      </span>\n",
       "<span style=\"color: #7f7f7f; text-decoration-color: #7f7f7f\">│       </span><span style=\"color: #7f7f7f; text-decoration-color: #7f7f7f; background-color: #272822\">-</span><span style=\"color: #fbfbf8; text-decoration-color: #fbfbf8; background-color: #272822\"> </span><span style=\"color: #7f7f7f; text-decoration-color: #7f7f7f; background-color: #272822\">Burseraceae                                                                        </span>\n",
       "<span style=\"color: #7f7f7f; text-decoration-color: #7f7f7f\">│       </span><span style=\"color: #7f7f7f; text-decoration-color: #7f7f7f; background-color: #272822\">-</span><span style=\"color: #fbfbf8; text-decoration-color: #fbfbf8; background-color: #272822\"> </span><span style=\"color: #7f7f7f; text-decoration-color: #7f7f7f; background-color: #272822\">Buxaceae                                                                           </span>\n",
       "<span style=\"color: #7f7f7f; text-decoration-color: #7f7f7f\">│       </span><span style=\"color: #7f7f7f; text-decoration-color: #7f7f7f; background-color: #272822\">-</span><span style=\"color: #fbfbf8; text-decoration-color: #fbfbf8; background-color: #272822\"> </span><span style=\"color: #7f7f7f; text-decoration-color: #7f7f7f; background-color: #272822\">Calophyllaceae                                                                     </span>\n",
       "<span style=\"color: #7f7f7f; text-decoration-color: #7f7f7f\">│       </span><span style=\"color: #7f7f7f; text-decoration-color: #7f7f7f; background-color: #272822\">-</span><span style=\"color: #fbfbf8; text-decoration-color: #fbfbf8; background-color: #272822\"> </span><span style=\"color: #7f7f7f; text-decoration-color: #7f7f7f; background-color: #272822\">Calycanthaceae                                                                     </span>\n",
       "<span style=\"color: #7f7f7f; text-decoration-color: #7f7f7f\">│       </span><span style=\"color: #7f7f7f; text-decoration-color: #7f7f7f; background-color: #272822\">-</span><span style=\"color: #fbfbf8; text-decoration-color: #fbfbf8; background-color: #272822\"> </span><span style=\"color: #7f7f7f; text-decoration-color: #7f7f7f; background-color: #272822\">Campanulaceae                                                                      </span>\n",
       "<span style=\"color: #7f7f7f; text-decoration-color: #7f7f7f\">│       </span><span style=\"color: #7f7f7f; text-decoration-color: #7f7f7f; background-color: #272822\">-</span><span style=\"color: #fbfbf8; text-decoration-color: #fbfbf8; background-color: #272822\"> </span><span style=\"color: #7f7f7f; text-decoration-color: #7f7f7f; background-color: #272822\">Canellaceae                                                                        </span>\n",
       "<span style=\"color: #7f7f7f; text-decoration-color: #7f7f7f\">│       </span><span style=\"color: #7f7f7f; text-decoration-color: #7f7f7f; background-color: #272822\">-</span><span style=\"color: #fbfbf8; text-decoration-color: #fbfbf8; background-color: #272822\"> </span><span style=\"color: #7f7f7f; text-decoration-color: #7f7f7f; background-color: #272822\">Cannabaceae                                                                        </span>\n",
       "<span style=\"color: #7f7f7f; text-decoration-color: #7f7f7f\">│       </span><span style=\"color: #7f7f7f; text-decoration-color: #7f7f7f; background-color: #272822\">-</span><span style=\"color: #fbfbf8; text-decoration-color: #fbfbf8; background-color: #272822\"> </span><span style=\"color: #7f7f7f; text-decoration-color: #7f7f7f; background-color: #272822\">Capparaceae                                                                        </span>\n",
       "<span style=\"color: #7f7f7f; text-decoration-color: #7f7f7f\">│       </span><span style=\"color: #7f7f7f; text-decoration-color: #7f7f7f; background-color: #272822\">-</span><span style=\"color: #fbfbf8; text-decoration-color: #fbfbf8; background-color: #272822\"> </span><span style=\"color: #7f7f7f; text-decoration-color: #7f7f7f; background-color: #272822\">Caprifoliaceae                                                                     </span>\n",
       "<span style=\"color: #7f7f7f; text-decoration-color: #7f7f7f\">│       </span><span style=\"color: #7f7f7f; text-decoration-color: #7f7f7f; background-color: #272822\">-</span><span style=\"color: #fbfbf8; text-decoration-color: #fbfbf8; background-color: #272822\"> </span><span style=\"color: #7f7f7f; text-decoration-color: #7f7f7f; background-color: #272822\">Cardiopteridaceae                                                                  </span>\n",
       "<span style=\"color: #7f7f7f; text-decoration-color: #7f7f7f\">│       </span><span style=\"color: #7f7f7f; text-decoration-color: #7f7f7f; background-color: #272822\">-</span><span style=\"color: #fbfbf8; text-decoration-color: #fbfbf8; background-color: #272822\"> </span><span style=\"color: #7f7f7f; text-decoration-color: #7f7f7f; background-color: #272822\">Caricaceae                                                                         </span>\n",
       "<span style=\"color: #7f7f7f; text-decoration-color: #7f7f7f\">│       </span><span style=\"color: #7f7f7f; text-decoration-color: #7f7f7f; background-color: #272822\">-</span><span style=\"color: #fbfbf8; text-decoration-color: #fbfbf8; background-color: #272822\"> </span><span style=\"color: #7f7f7f; text-decoration-color: #7f7f7f; background-color: #272822\">Caryocaraceae                                                                      </span>\n",
       "<span style=\"color: #7f7f7f; text-decoration-color: #7f7f7f\">│       </span><span style=\"color: #7f7f7f; text-decoration-color: #7f7f7f; background-color: #272822\">-</span><span style=\"color: #fbfbf8; text-decoration-color: #fbfbf8; background-color: #272822\"> </span><span style=\"color: #7f7f7f; text-decoration-color: #7f7f7f; background-color: #272822\">Celastraceae                                                                       </span>\n",
       "<span style=\"color: #7f7f7f; text-decoration-color: #7f7f7f\">│       </span><span style=\"color: #7f7f7f; text-decoration-color: #7f7f7f; background-color: #272822\">-</span><span style=\"color: #fbfbf8; text-decoration-color: #fbfbf8; background-color: #272822\"> </span><span style=\"color: #7f7f7f; text-decoration-color: #7f7f7f; background-color: #272822\">Centroplacaceae                                                                    </span>\n",
       "<span style=\"color: #7f7f7f; text-decoration-color: #7f7f7f\">│       </span><span style=\"color: #7f7f7f; text-decoration-color: #7f7f7f; background-color: #272822\">-</span><span style=\"color: #fbfbf8; text-decoration-color: #fbfbf8; background-color: #272822\"> </span><span style=\"color: #7f7f7f; text-decoration-color: #7f7f7f; background-color: #272822\">Cercidiphyllaceae                                                                  </span>\n",
       "<span style=\"color: #7f7f7f; text-decoration-color: #7f7f7f\">│       </span><span style=\"color: #7f7f7f; text-decoration-color: #7f7f7f; background-color: #272822\">-</span><span style=\"color: #fbfbf8; text-decoration-color: #fbfbf8; background-color: #272822\"> </span><span style=\"color: #7f7f7f; text-decoration-color: #7f7f7f; background-color: #272822\">Chloranthaceae                                                                     </span>\n",
       "<span style=\"color: #7f7f7f; text-decoration-color: #7f7f7f\">│       </span><span style=\"color: #7f7f7f; text-decoration-color: #7f7f7f; background-color: #272822\">-</span><span style=\"color: #fbfbf8; text-decoration-color: #fbfbf8; background-color: #272822\"> </span><span style=\"color: #7f7f7f; text-decoration-color: #7f7f7f; background-color: #272822\">Chrysobalanaceae                                                                   </span>\n",
       "<span style=\"color: #7f7f7f; text-decoration-color: #7f7f7f\">│       </span><span style=\"color: #7f7f7f; text-decoration-color: #7f7f7f; background-color: #272822\">-</span><span style=\"color: #fbfbf8; text-decoration-color: #fbfbf8; background-color: #272822\"> </span><span style=\"color: #7f7f7f; text-decoration-color: #7f7f7f; background-color: #272822\">Clethraceae                                                                        </span>\n",
       "<span style=\"color: #7f7f7f; text-decoration-color: #7f7f7f\">│       </span><span style=\"color: #7f7f7f; text-decoration-color: #7f7f7f; background-color: #272822\">-</span><span style=\"color: #fbfbf8; text-decoration-color: #fbfbf8; background-color: #272822\"> </span><span style=\"color: #7f7f7f; text-decoration-color: #7f7f7f; background-color: #272822\">Clusiaceae                                                                         </span>\n",
       "<span style=\"color: #7f7f7f; text-decoration-color: #7f7f7f\">│       </span><span style=\"color: #7f7f7f; text-decoration-color: #7f7f7f; background-color: #272822\">-</span><span style=\"color: #fbfbf8; text-decoration-color: #fbfbf8; background-color: #272822\"> </span><span style=\"color: #7f7f7f; text-decoration-color: #7f7f7f; background-color: #272822\">Combretaceae                                                                       </span>\n",
       "<span style=\"color: #7f7f7f; text-decoration-color: #7f7f7f\">│       </span><span style=\"color: #7f7f7f; text-decoration-color: #7f7f7f; background-color: #272822\">-</span><span style=\"color: #fbfbf8; text-decoration-color: #fbfbf8; background-color: #272822\"> </span><span style=\"color: #7f7f7f; text-decoration-color: #7f7f7f; background-color: #272822\">Connaraceae                                                                        </span>\n",
       "<span style=\"color: #7f7f7f; text-decoration-color: #7f7f7f\">│       </span><span style=\"color: #7f7f7f; text-decoration-color: #7f7f7f; background-color: #272822\">-</span><span style=\"color: #fbfbf8; text-decoration-color: #fbfbf8; background-color: #272822\"> </span><span style=\"color: #7f7f7f; text-decoration-color: #7f7f7f; background-color: #272822\">Coriariaceae                                                                       </span>\n",
       "<span style=\"color: #7f7f7f; text-decoration-color: #7f7f7f\">│       </span><span style=\"color: #7f7f7f; text-decoration-color: #7f7f7f; background-color: #272822\">-</span><span style=\"color: #fbfbf8; text-decoration-color: #fbfbf8; background-color: #272822\"> </span><span style=\"color: #7f7f7f; text-decoration-color: #7f7f7f; background-color: #272822\">Cornaceae                                                                          </span>\n",
       "<span style=\"color: #7f7f7f; text-decoration-color: #7f7f7f\">│       </span><span style=\"color: #7f7f7f; text-decoration-color: #7f7f7f; background-color: #272822\">-</span><span style=\"color: #fbfbf8; text-decoration-color: #fbfbf8; background-color: #272822\"> </span><span style=\"color: #7f7f7f; text-decoration-color: #7f7f7f; background-color: #272822\">Crassulaceae                                                                       </span>\n",
       "<span style=\"color: #7f7f7f; text-decoration-color: #7f7f7f\">│       </span><span style=\"color: #7f7f7f; text-decoration-color: #7f7f7f; background-color: #272822\">-</span><span style=\"color: #fbfbf8; text-decoration-color: #fbfbf8; background-color: #272822\"> </span><span style=\"color: #7f7f7f; text-decoration-color: #7f7f7f; background-color: #272822\">Crossosomataceae                                                                   </span>\n",
       "<span style=\"color: #7f7f7f; text-decoration-color: #7f7f7f\">│       </span><span style=\"color: #7f7f7f; text-decoration-color: #7f7f7f; background-color: #272822\">-</span><span style=\"color: #fbfbf8; text-decoration-color: #fbfbf8; background-color: #272822\"> </span><span style=\"color: #7f7f7f; text-decoration-color: #7f7f7f; background-color: #272822\">Cucurbitaceae                                                                      </span>\n",
       "<span style=\"color: #7f7f7f; text-decoration-color: #7f7f7f\">│       </span><span style=\"color: #7f7f7f; text-decoration-color: #7f7f7f; background-color: #272822\">-</span><span style=\"color: #fbfbf8; text-decoration-color: #fbfbf8; background-color: #272822\"> </span><span style=\"color: #7f7f7f; text-decoration-color: #7f7f7f; background-color: #272822\">Cunoniaceae                                                                        </span>\n",
       "<span style=\"color: #7f7f7f; text-decoration-color: #7f7f7f\">│       </span><span style=\"color: #7f7f7f; text-decoration-color: #7f7f7f; background-color: #272822\">-</span><span style=\"color: #fbfbf8; text-decoration-color: #fbfbf8; background-color: #272822\"> </span><span style=\"color: #7f7f7f; text-decoration-color: #7f7f7f; background-color: #272822\">Dichapetalaceae                                                                    </span>\n",
       "<span style=\"color: #7f7f7f; text-decoration-color: #7f7f7f\">│       </span><span style=\"color: #7f7f7f; text-decoration-color: #7f7f7f; background-color: #272822\">-</span><span style=\"color: #fbfbf8; text-decoration-color: #fbfbf8; background-color: #272822\"> </span><span style=\"color: #7f7f7f; text-decoration-color: #7f7f7f; background-color: #272822\">Dilleniaceae                                                                       </span>\n",
       "<span style=\"color: #7f7f7f; text-decoration-color: #7f7f7f\">│       </span><span style=\"color: #7f7f7f; text-decoration-color: #7f7f7f; background-color: #272822\">-</span><span style=\"color: #fbfbf8; text-decoration-color: #fbfbf8; background-color: #272822\"> </span><span style=\"color: #7f7f7f; text-decoration-color: #7f7f7f; background-color: #272822\">Dipterocarpaceae                                                                   </span>\n",
       "<span style=\"color: #7f7f7f; text-decoration-color: #7f7f7f\">│       </span><span style=\"color: #7f7f7f; text-decoration-color: #7f7f7f; background-color: #272822\">-</span><span style=\"color: #fbfbf8; text-decoration-color: #fbfbf8; background-color: #272822\"> </span><span style=\"color: #7f7f7f; text-decoration-color: #7f7f7f; background-color: #272822\">Ebenaceae                                                                          </span>\n",
       "<span style=\"color: #7f7f7f; text-decoration-color: #7f7f7f\">│       </span><span style=\"color: #7f7f7f; text-decoration-color: #7f7f7f; background-color: #272822\">-</span><span style=\"color: #fbfbf8; text-decoration-color: #fbfbf8; background-color: #272822\"> </span><span style=\"color: #7f7f7f; text-decoration-color: #7f7f7f; background-color: #272822\">Elaeocarpaceae                                                                     </span>\n",
       "<span style=\"color: #7f7f7f; text-decoration-color: #7f7f7f\">│       </span><span style=\"color: #7f7f7f; text-decoration-color: #7f7f7f; background-color: #272822\">-</span><span style=\"color: #fbfbf8; text-decoration-color: #fbfbf8; background-color: #272822\"> </span><span style=\"color: #7f7f7f; text-decoration-color: #7f7f7f; background-color: #272822\">Ericaceae                                                                          </span>\n",
       "<span style=\"color: #7f7f7f; text-decoration-color: #7f7f7f\">│       </span><span style=\"color: #7f7f7f; text-decoration-color: #7f7f7f; background-color: #272822\">-</span><span style=\"color: #fbfbf8; text-decoration-color: #fbfbf8; background-color: #272822\"> </span><span style=\"color: #7f7f7f; text-decoration-color: #7f7f7f; background-color: #272822\">Erythroxylaceae                                                                    </span>\n",
       "<span style=\"color: #7f7f7f; text-decoration-color: #7f7f7f\">│       </span><span style=\"color: #7f7f7f; text-decoration-color: #7f7f7f; background-color: #272822\">-</span><span style=\"color: #fbfbf8; text-decoration-color: #fbfbf8; background-color: #272822\"> </span><span style=\"color: #7f7f7f; text-decoration-color: #7f7f7f; background-color: #272822\">Escalloniaceae                                                                     </span>\n",
       "<span style=\"color: #7f7f7f; text-decoration-color: #7f7f7f\">│       </span><span style=\"color: #7f7f7f; text-decoration-color: #7f7f7f; background-color: #272822\">-</span><span style=\"color: #fbfbf8; text-decoration-color: #fbfbf8; background-color: #272822\"> </span><span style=\"color: #7f7f7f; text-decoration-color: #7f7f7f; background-color: #272822\">Eucommiaceae                                                                       </span>\n",
       "<span style=\"color: #7f7f7f; text-decoration-color: #7f7f7f\">│       </span><span style=\"color: #7f7f7f; text-decoration-color: #7f7f7f; background-color: #272822\">-</span><span style=\"color: #fbfbf8; text-decoration-color: #fbfbf8; background-color: #272822\"> </span><span style=\"color: #7f7f7f; text-decoration-color: #7f7f7f; background-color: #272822\">Euphorbiaceae                                                                      </span>\n",
       "<span style=\"color: #7f7f7f; text-decoration-color: #7f7f7f\">│       </span><span style=\"color: #7f7f7f; text-decoration-color: #7f7f7f; background-color: #272822\">-</span><span style=\"color: #fbfbf8; text-decoration-color: #fbfbf8; background-color: #272822\"> </span><span style=\"color: #7f7f7f; text-decoration-color: #7f7f7f; background-color: #272822\">Fabaceae                                                                           </span>\n",
       "<span style=\"color: #7f7f7f; text-decoration-color: #7f7f7f\">│       </span><span style=\"color: #7f7f7f; text-decoration-color: #7f7f7f; background-color: #272822\">-</span><span style=\"color: #fbfbf8; text-decoration-color: #fbfbf8; background-color: #272822\"> </span><span style=\"color: #7f7f7f; text-decoration-color: #7f7f7f; background-color: #272822\">Fagaceae                                                                           </span>\n",
       "<span style=\"color: #7f7f7f; text-decoration-color: #7f7f7f\">│       </span><span style=\"color: #7f7f7f; text-decoration-color: #7f7f7f; background-color: #272822\">-</span><span style=\"color: #fbfbf8; text-decoration-color: #fbfbf8; background-color: #272822\"> </span><span style=\"color: #7f7f7f; text-decoration-color: #7f7f7f; background-color: #272822\">Garryaceae                                                                         </span>\n",
       "<span style=\"color: #7f7f7f; text-decoration-color: #7f7f7f\">│       </span><span style=\"color: #7f7f7f; text-decoration-color: #7f7f7f; background-color: #272822\">-</span><span style=\"color: #fbfbf8; text-decoration-color: #fbfbf8; background-color: #272822\"> </span><span style=\"color: #7f7f7f; text-decoration-color: #7f7f7f; background-color: #272822\">Gentianaceae                                                                       </span>\n",
       "<span style=\"color: #7f7f7f; text-decoration-color: #7f7f7f\">│       </span><span style=\"color: #7f7f7f; text-decoration-color: #7f7f7f; background-color: #272822\">-</span><span style=\"color: #fbfbf8; text-decoration-color: #fbfbf8; background-color: #272822\"> </span><span style=\"color: #7f7f7f; text-decoration-color: #7f7f7f; background-color: #272822\">Geraniaceae                                                                        </span>\n",
       "<span style=\"color: #7f7f7f; text-decoration-color: #7f7f7f\">│       </span><span style=\"color: #7f7f7f; text-decoration-color: #7f7f7f; background-color: #272822\">-</span><span style=\"color: #fbfbf8; text-decoration-color: #fbfbf8; background-color: #272822\"> </span><span style=\"color: #7f7f7f; text-decoration-color: #7f7f7f; background-color: #272822\">Gesneriaceae                                                                       </span>\n",
       "<span style=\"color: #7f7f7f; text-decoration-color: #7f7f7f\">│       </span><span style=\"color: #7f7f7f; text-decoration-color: #7f7f7f; background-color: #272822\">-</span><span style=\"color: #fbfbf8; text-decoration-color: #fbfbf8; background-color: #272822\"> </span><span style=\"color: #7f7f7f; text-decoration-color: #7f7f7f; background-color: #272822\">Gnetaceae                                                                          </span>\n",
       "<span style=\"color: #7f7f7f; text-decoration-color: #7f7f7f\">│       </span><span style=\"color: #7f7f7f; text-decoration-color: #7f7f7f; background-color: #272822\">-</span><span style=\"color: #fbfbf8; text-decoration-color: #fbfbf8; background-color: #272822\"> </span><span style=\"color: #7f7f7f; text-decoration-color: #7f7f7f; background-color: #272822\">Grossulariaceae                                                                    </span>\n",
       "<span style=\"color: #7f7f7f; text-decoration-color: #7f7f7f\">│       </span><span style=\"color: #7f7f7f; text-decoration-color: #7f7f7f; background-color: #272822\">-</span><span style=\"color: #fbfbf8; text-decoration-color: #fbfbf8; background-color: #272822\"> </span><span style=\"color: #7f7f7f; text-decoration-color: #7f7f7f; background-color: #272822\">Gunneraceae                                                                        </span>\n",
       "<span style=\"color: #7f7f7f; text-decoration-color: #7f7f7f\">│       </span><span style=\"color: #7f7f7f; text-decoration-color: #7f7f7f; background-color: #272822\">-</span><span style=\"color: #fbfbf8; text-decoration-color: #fbfbf8; background-color: #272822\"> </span><span style=\"color: #7f7f7f; text-decoration-color: #7f7f7f; background-color: #272822\">Hamamelidaceae                                                                     </span>\n",
       "<span style=\"color: #7f7f7f; text-decoration-color: #7f7f7f\">│       </span><span style=\"color: #7f7f7f; text-decoration-color: #7f7f7f; background-color: #272822\">-</span><span style=\"color: #fbfbf8; text-decoration-color: #fbfbf8; background-color: #272822\"> </span><span style=\"color: #7f7f7f; text-decoration-color: #7f7f7f; background-color: #272822\">Hernandiaceae                                                                      </span>\n",
       "<span style=\"color: #7f7f7f; text-decoration-color: #7f7f7f\">│       </span><span style=\"color: #7f7f7f; text-decoration-color: #7f7f7f; background-color: #272822\">-</span><span style=\"color: #fbfbf8; text-decoration-color: #fbfbf8; background-color: #272822\"> </span><span style=\"color: #7f7f7f; text-decoration-color: #7f7f7f; background-color: #272822\">Humiriaceae                                                                        </span>\n",
       "<span style=\"color: #7f7f7f; text-decoration-color: #7f7f7f\">│       </span><span style=\"color: #7f7f7f; text-decoration-color: #7f7f7f; background-color: #272822\">-</span><span style=\"color: #fbfbf8; text-decoration-color: #fbfbf8; background-color: #272822\"> </span><span style=\"color: #7f7f7f; text-decoration-color: #7f7f7f; background-color: #272822\">Hydrangeaceae                                                                      </span>\n",
       "<span style=\"color: #7f7f7f; text-decoration-color: #7f7f7f\">│       </span><span style=\"color: #7f7f7f; text-decoration-color: #7f7f7f; background-color: #272822\">-</span><span style=\"color: #fbfbf8; text-decoration-color: #fbfbf8; background-color: #272822\"> </span><span style=\"color: #7f7f7f; text-decoration-color: #7f7f7f; background-color: #272822\">Hypericaceae                                                                       </span>\n",
       "<span style=\"color: #7f7f7f; text-decoration-color: #7f7f7f\">│       </span><span style=\"color: #7f7f7f; text-decoration-color: #7f7f7f; background-color: #272822\">-</span><span style=\"color: #fbfbf8; text-decoration-color: #fbfbf8; background-color: #272822\"> </span><span style=\"color: #7f7f7f; text-decoration-color: #7f7f7f; background-color: #272822\">Icacinaceae                                                                        </span>\n",
       "<span style=\"color: #7f7f7f; text-decoration-color: #7f7f7f\">│       </span><span style=\"color: #7f7f7f; text-decoration-color: #7f7f7f; background-color: #272822\">-</span><span style=\"color: #fbfbf8; text-decoration-color: #fbfbf8; background-color: #272822\"> </span><span style=\"color: #7f7f7f; text-decoration-color: #7f7f7f; background-color: #272822\">Irvingiaceae                                                                       </span>\n",
       "<span style=\"color: #7f7f7f; text-decoration-color: #7f7f7f\">│       </span><span style=\"color: #7f7f7f; text-decoration-color: #7f7f7f; background-color: #272822\">-</span><span style=\"color: #fbfbf8; text-decoration-color: #fbfbf8; background-color: #272822\"> </span><span style=\"color: #7f7f7f; text-decoration-color: #7f7f7f; background-color: #272822\">Iteaceae                                                                           </span>\n",
       "<span style=\"color: #7f7f7f; text-decoration-color: #7f7f7f\">│       </span><span style=\"color: #7f7f7f; text-decoration-color: #7f7f7f; background-color: #272822\">-</span><span style=\"color: #fbfbf8; text-decoration-color: #fbfbf8; background-color: #272822\"> </span><span style=\"color: #7f7f7f; text-decoration-color: #7f7f7f; background-color: #272822\">Ixonanthaceae                                                                      </span>\n",
       "<span style=\"color: #7f7f7f; text-decoration-color: #7f7f7f\">│       </span><span style=\"color: #7f7f7f; text-decoration-color: #7f7f7f; background-color: #272822\">-</span><span style=\"color: #fbfbf8; text-decoration-color: #fbfbf8; background-color: #272822\"> </span><span style=\"color: #7f7f7f; text-decoration-color: #7f7f7f; background-color: #272822\">Juglandaceae                                                                       </span>\n",
       "<span style=\"color: #7f7f7f; text-decoration-color: #7f7f7f\">│       </span><span style=\"color: #7f7f7f; text-decoration-color: #7f7f7f; background-color: #272822\">-</span><span style=\"color: #fbfbf8; text-decoration-color: #fbfbf8; background-color: #272822\"> </span><span style=\"color: #7f7f7f; text-decoration-color: #7f7f7f; background-color: #272822\">Lamiaceae                                                                          </span>\n",
       "<span style=\"color: #7f7f7f; text-decoration-color: #7f7f7f\">│       </span><span style=\"color: #7f7f7f; text-decoration-color: #7f7f7f; background-color: #272822\">-</span><span style=\"color: #fbfbf8; text-decoration-color: #fbfbf8; background-color: #272822\"> </span><span style=\"color: #7f7f7f; text-decoration-color: #7f7f7f; background-color: #272822\">Lardizabalaceae                                                                    </span>\n",
       "<span style=\"color: #7f7f7f; text-decoration-color: #7f7f7f\">│       </span><span style=\"color: #7f7f7f; text-decoration-color: #7f7f7f; background-color: #272822\">-</span><span style=\"color: #fbfbf8; text-decoration-color: #fbfbf8; background-color: #272822\"> </span><span style=\"color: #7f7f7f; text-decoration-color: #7f7f7f; background-color: #272822\">Lauraceae                                                                          </span>\n",
       "<span style=\"color: #7f7f7f; text-decoration-color: #7f7f7f\">│       </span><span style=\"color: #7f7f7f; text-decoration-color: #7f7f7f; background-color: #272822\">-</span><span style=\"color: #fbfbf8; text-decoration-color: #fbfbf8; background-color: #272822\"> </span><span style=\"color: #7f7f7f; text-decoration-color: #7f7f7f; background-color: #272822\">Lecythidaceae                                                                      </span>\n",
       "<span style=\"color: #7f7f7f; text-decoration-color: #7f7f7f\">│       </span><span style=\"color: #7f7f7f; text-decoration-color: #7f7f7f; background-color: #272822\">-</span><span style=\"color: #fbfbf8; text-decoration-color: #fbfbf8; background-color: #272822\"> </span><span style=\"color: #7f7f7f; text-decoration-color: #7f7f7f; background-color: #272822\">Liliaceae                                                                          </span>\n",
       "<span style=\"color: #7f7f7f; text-decoration-color: #7f7f7f\">│       </span><span style=\"color: #7f7f7f; text-decoration-color: #7f7f7f; background-color: #272822\">-</span><span style=\"color: #fbfbf8; text-decoration-color: #fbfbf8; background-color: #272822\"> </span><span style=\"color: #7f7f7f; text-decoration-color: #7f7f7f; background-color: #272822\">Linaceae                                                                           </span>\n",
       "<span style=\"color: #7f7f7f; text-decoration-color: #7f7f7f\">│       </span><span style=\"color: #7f7f7f; text-decoration-color: #7f7f7f; background-color: #272822\">-</span><span style=\"color: #fbfbf8; text-decoration-color: #fbfbf8; background-color: #272822\"> </span><span style=\"color: #7f7f7f; text-decoration-color: #7f7f7f; background-color: #272822\">Loganiaceae                                                                        </span>\n",
       "<span style=\"color: #7f7f7f; text-decoration-color: #7f7f7f\">│       </span><span style=\"color: #7f7f7f; text-decoration-color: #7f7f7f; background-color: #272822\">-</span><span style=\"color: #fbfbf8; text-decoration-color: #fbfbf8; background-color: #272822\"> </span><span style=\"color: #7f7f7f; text-decoration-color: #7f7f7f; background-color: #272822\">Loranthaceae                                                                       </span>\n",
       "<span style=\"color: #7f7f7f; text-decoration-color: #7f7f7f\">│       </span><span style=\"color: #7f7f7f; text-decoration-color: #7f7f7f; background-color: #272822\">-</span><span style=\"color: #fbfbf8; text-decoration-color: #fbfbf8; background-color: #272822\"> </span><span style=\"color: #7f7f7f; text-decoration-color: #7f7f7f; background-color: #272822\">Lythraceae                                                                         </span>\n",
       "<span style=\"color: #7f7f7f; text-decoration-color: #7f7f7f\">│       </span><span style=\"color: #7f7f7f; text-decoration-color: #7f7f7f; background-color: #272822\">-</span><span style=\"color: #fbfbf8; text-decoration-color: #fbfbf8; background-color: #272822\"> </span><span style=\"color: #7f7f7f; text-decoration-color: #7f7f7f; background-color: #272822\">Magnoliaceae                                                                       </span>\n",
       "<span style=\"color: #7f7f7f; text-decoration-color: #7f7f7f\">│       </span><span style=\"color: #7f7f7f; text-decoration-color: #7f7f7f; background-color: #272822\">-</span><span style=\"color: #fbfbf8; text-decoration-color: #fbfbf8; background-color: #272822\"> </span><span style=\"color: #7f7f7f; text-decoration-color: #7f7f7f; background-color: #272822\">Malpighiaceae                                                                      </span>\n",
       "<span style=\"color: #7f7f7f; text-decoration-color: #7f7f7f\">│       </span><span style=\"color: #7f7f7f; text-decoration-color: #7f7f7f; background-color: #272822\">-</span><span style=\"color: #fbfbf8; text-decoration-color: #fbfbf8; background-color: #272822\"> </span><span style=\"color: #7f7f7f; text-decoration-color: #7f7f7f; background-color: #272822\">Malvaceae                                                                          </span>\n",
       "<span style=\"color: #7f7f7f; text-decoration-color: #7f7f7f\">│       </span><span style=\"color: #7f7f7f; text-decoration-color: #7f7f7f; background-color: #272822\">-</span><span style=\"color: #fbfbf8; text-decoration-color: #fbfbf8; background-color: #272822\"> </span><span style=\"color: #7f7f7f; text-decoration-color: #7f7f7f; background-color: #272822\">Marantaceae                                                                        </span>\n",
       "<span style=\"color: #7f7f7f; text-decoration-color: #7f7f7f\">│       </span><span style=\"color: #7f7f7f; text-decoration-color: #7f7f7f; background-color: #272822\">-</span><span style=\"color: #fbfbf8; text-decoration-color: #fbfbf8; background-color: #272822\"> </span><span style=\"color: #7f7f7f; text-decoration-color: #7f7f7f; background-color: #272822\">Marcgraviaceae                                                                     </span>\n",
       "<span style=\"color: #7f7f7f; text-decoration-color: #7f7f7f\">│       </span><span style=\"color: #7f7f7f; text-decoration-color: #7f7f7f; background-color: #272822\">-</span><span style=\"color: #fbfbf8; text-decoration-color: #fbfbf8; background-color: #272822\"> </span><span style=\"color: #7f7f7f; text-decoration-color: #7f7f7f; background-color: #272822\">Melastomataceae                                                                    </span>\n",
       "<span style=\"color: #7f7f7f; text-decoration-color: #7f7f7f\">│       </span><span style=\"color: #7f7f7f; text-decoration-color: #7f7f7f; background-color: #272822\">-</span><span style=\"color: #fbfbf8; text-decoration-color: #fbfbf8; background-color: #272822\"> </span><span style=\"color: #7f7f7f; text-decoration-color: #7f7f7f; background-color: #272822\">Meliaceae                                                                          </span>\n",
       "<span style=\"color: #7f7f7f; text-decoration-color: #7f7f7f\">│       </span><span style=\"color: #7f7f7f; text-decoration-color: #7f7f7f; background-color: #272822\">-</span><span style=\"color: #fbfbf8; text-decoration-color: #fbfbf8; background-color: #272822\"> </span><span style=\"color: #7f7f7f; text-decoration-color: #7f7f7f; background-color: #272822\">Melianthaceae                                                                      </span>\n",
       "<span style=\"color: #7f7f7f; text-decoration-color: #7f7f7f\">│       </span><span style=\"color: #7f7f7f; text-decoration-color: #7f7f7f; background-color: #272822\">-</span><span style=\"color: #fbfbf8; text-decoration-color: #fbfbf8; background-color: #272822\"> </span><span style=\"color: #7f7f7f; text-decoration-color: #7f7f7f; background-color: #272822\">Menispermaceae                                                                     </span>\n",
       "<span style=\"color: #7f7f7f; text-decoration-color: #7f7f7f\">│       </span><span style=\"color: #7f7f7f; text-decoration-color: #7f7f7f; background-color: #272822\">-</span><span style=\"color: #fbfbf8; text-decoration-color: #fbfbf8; background-color: #272822\"> </span><span style=\"color: #7f7f7f; text-decoration-color: #7f7f7f; background-color: #272822\">Monimiaceae                                                                        </span>\n",
       "<span style=\"color: #7f7f7f; text-decoration-color: #7f7f7f\">│       </span><span style=\"color: #7f7f7f; text-decoration-color: #7f7f7f; background-color: #272822\">-</span><span style=\"color: #fbfbf8; text-decoration-color: #fbfbf8; background-color: #272822\"> </span><span style=\"color: #7f7f7f; text-decoration-color: #7f7f7f; background-color: #272822\">Moraceae                                                                           </span>\n",
       "<span style=\"color: #7f7f7f; text-decoration-color: #7f7f7f\">│       </span><span style=\"color: #7f7f7f; text-decoration-color: #7f7f7f; background-color: #272822\">-</span><span style=\"color: #fbfbf8; text-decoration-color: #fbfbf8; background-color: #272822\"> </span><span style=\"color: #7f7f7f; text-decoration-color: #7f7f7f; background-color: #272822\">Myricaceae                                                                         </span>\n",
       "<span style=\"color: #7f7f7f; text-decoration-color: #7f7f7f\">│       </span><span style=\"color: #7f7f7f; text-decoration-color: #7f7f7f; background-color: #272822\">-</span><span style=\"color: #fbfbf8; text-decoration-color: #fbfbf8; background-color: #272822\"> </span><span style=\"color: #7f7f7f; text-decoration-color: #7f7f7f; background-color: #272822\">Myristicaceae                                                                      </span>\n",
       "<span style=\"color: #7f7f7f; text-decoration-color: #7f7f7f\">│       </span><span style=\"color: #7f7f7f; text-decoration-color: #7f7f7f; background-color: #272822\">-</span><span style=\"color: #fbfbf8; text-decoration-color: #fbfbf8; background-color: #272822\"> </span><span style=\"color: #7f7f7f; text-decoration-color: #7f7f7f; background-color: #272822\">Myrtaceae                                                                          </span>\n",
       "<span style=\"color: #7f7f7f; text-decoration-color: #7f7f7f\">│       </span><span style=\"color: #7f7f7f; text-decoration-color: #7f7f7f; background-color: #272822\">-</span><span style=\"color: #fbfbf8; text-decoration-color: #fbfbf8; background-color: #272822\"> </span><span style=\"color: #7f7f7f; text-decoration-color: #7f7f7f; background-color: #272822\">Nitrariaceae                                                                       </span>\n",
       "<span style=\"color: #7f7f7f; text-decoration-color: #7f7f7f\">│       </span><span style=\"color: #7f7f7f; text-decoration-color: #7f7f7f; background-color: #272822\">-</span><span style=\"color: #fbfbf8; text-decoration-color: #fbfbf8; background-color: #272822\"> </span><span style=\"color: #7f7f7f; text-decoration-color: #7f7f7f; background-color: #272822\">Nothofagaceae                                                                      </span>\n",
       "<span style=\"color: #7f7f7f; text-decoration-color: #7f7f7f\">│       </span><span style=\"color: #7f7f7f; text-decoration-color: #7f7f7f; background-color: #272822\">-</span><span style=\"color: #fbfbf8; text-decoration-color: #fbfbf8; background-color: #272822\"> </span><span style=\"color: #7f7f7f; text-decoration-color: #7f7f7f; background-color: #272822\">Nyctaginaceae                                                                      </span>\n",
       "<span style=\"color: #7f7f7f; text-decoration-color: #7f7f7f\">│       </span><span style=\"color: #7f7f7f; text-decoration-color: #7f7f7f; background-color: #272822\">-</span><span style=\"color: #fbfbf8; text-decoration-color: #fbfbf8; background-color: #272822\"> </span><span style=\"color: #7f7f7f; text-decoration-color: #7f7f7f; background-color: #272822\">Ochnaceae                                                                          </span>\n",
       "<span style=\"color: #7f7f7f; text-decoration-color: #7f7f7f\">│       </span><span style=\"color: #7f7f7f; text-decoration-color: #7f7f7f; background-color: #272822\">-</span><span style=\"color: #fbfbf8; text-decoration-color: #fbfbf8; background-color: #272822\"> </span><span style=\"color: #7f7f7f; text-decoration-color: #7f7f7f; background-color: #272822\">Olacaceae                                                                          </span>\n",
       "<span style=\"color: #7f7f7f; text-decoration-color: #7f7f7f\">│       </span><span style=\"color: #7f7f7f; text-decoration-color: #7f7f7f; background-color: #272822\">-</span><span style=\"color: #fbfbf8; text-decoration-color: #fbfbf8; background-color: #272822\"> </span><span style=\"color: #7f7f7f; text-decoration-color: #7f7f7f; background-color: #272822\">Oleaceae                                                                           </span>\n",
       "<span style=\"color: #7f7f7f; text-decoration-color: #7f7f7f\">│       </span><span style=\"color: #7f7f7f; text-decoration-color: #7f7f7f; background-color: #272822\">-</span><span style=\"color: #fbfbf8; text-decoration-color: #fbfbf8; background-color: #272822\"> </span><span style=\"color: #7f7f7f; text-decoration-color: #7f7f7f; background-color: #272822\">Onagraceae                                                                         </span>\n",
       "<span style=\"color: #7f7f7f; text-decoration-color: #7f7f7f\">│       </span><span style=\"color: #7f7f7f; text-decoration-color: #7f7f7f; background-color: #272822\">-</span><span style=\"color: #fbfbf8; text-decoration-color: #fbfbf8; background-color: #272822\"> </span><span style=\"color: #7f7f7f; text-decoration-color: #7f7f7f; background-color: #272822\">Opiliaceae                                                                         </span>\n",
       "<span style=\"color: #7f7f7f; text-decoration-color: #7f7f7f\">│       </span><span style=\"color: #7f7f7f; text-decoration-color: #7f7f7f; background-color: #272822\">-</span><span style=\"color: #fbfbf8; text-decoration-color: #fbfbf8; background-color: #272822\"> </span><span style=\"color: #7f7f7f; text-decoration-color: #7f7f7f; background-color: #272822\">Orchidaceae                                                                        </span>\n",
       "<span style=\"color: #7f7f7f; text-decoration-color: #7f7f7f\">│       </span><span style=\"color: #7f7f7f; text-decoration-color: #7f7f7f; background-color: #272822\">-</span><span style=\"color: #fbfbf8; text-decoration-color: #fbfbf8; background-color: #272822\"> </span><span style=\"color: #7f7f7f; text-decoration-color: #7f7f7f; background-color: #272822\">Orobanchaceae                                                                      </span>\n",
       "<span style=\"color: #7f7f7f; text-decoration-color: #7f7f7f\">│       </span><span style=\"color: #7f7f7f; text-decoration-color: #7f7f7f; background-color: #272822\">-</span><span style=\"color: #fbfbf8; text-decoration-color: #fbfbf8; background-color: #272822\"> </span><span style=\"color: #7f7f7f; text-decoration-color: #7f7f7f; background-color: #272822\">Oxalidaceae                                                                        </span>\n",
       "<span style=\"color: #7f7f7f; text-decoration-color: #7f7f7f\">│       </span><span style=\"color: #7f7f7f; text-decoration-color: #7f7f7f; background-color: #272822\">-</span><span style=\"color: #fbfbf8; text-decoration-color: #fbfbf8; background-color: #272822\"> </span><span style=\"color: #7f7f7f; text-decoration-color: #7f7f7f; background-color: #272822\">Pandaceae                                                                          </span>\n",
       "<span style=\"color: #7f7f7f; text-decoration-color: #7f7f7f\">│       </span><span style=\"color: #7f7f7f; text-decoration-color: #7f7f7f; background-color: #272822\">-</span><span style=\"color: #fbfbf8; text-decoration-color: #fbfbf8; background-color: #272822\"> </span><span style=\"color: #7f7f7f; text-decoration-color: #7f7f7f; background-color: #272822\">Papaveraceae                                                                       </span>\n",
       "<span style=\"color: #7f7f7f; text-decoration-color: #7f7f7f\">│       </span><span style=\"color: #7f7f7f; text-decoration-color: #7f7f7f; background-color: #272822\">-</span><span style=\"color: #fbfbf8; text-decoration-color: #fbfbf8; background-color: #272822\"> </span><span style=\"color: #7f7f7f; text-decoration-color: #7f7f7f; background-color: #272822\">Paracryphiaceae                                                                    </span>\n",
       "<span style=\"color: #7f7f7f; text-decoration-color: #7f7f7f\">│       </span><span style=\"color: #7f7f7f; text-decoration-color: #7f7f7f; background-color: #272822\">-</span><span style=\"color: #fbfbf8; text-decoration-color: #fbfbf8; background-color: #272822\"> </span><span style=\"color: #7f7f7f; text-decoration-color: #7f7f7f; background-color: #272822\">Passifloraceae                                                                     </span>\n",
       "<span style=\"color: #7f7f7f; text-decoration-color: #7f7f7f\">│       </span><span style=\"color: #7f7f7f; text-decoration-color: #7f7f7f; background-color: #272822\">-</span><span style=\"color: #fbfbf8; text-decoration-color: #fbfbf8; background-color: #272822\"> </span><span style=\"color: #7f7f7f; text-decoration-color: #7f7f7f; background-color: #272822\">Pedaliaceae                                                                        </span>\n",
       "<span style=\"color: #7f7f7f; text-decoration-color: #7f7f7f\">│       </span><span style=\"color: #7f7f7f; text-decoration-color: #7f7f7f; background-color: #272822\">-</span><span style=\"color: #fbfbf8; text-decoration-color: #fbfbf8; background-color: #272822\"> </span><span style=\"color: #7f7f7f; text-decoration-color: #7f7f7f; background-color: #272822\">Penaeaceae                                                                         </span>\n",
       "<span style=\"color: #7f7f7f; text-decoration-color: #7f7f7f\">│       </span><span style=\"color: #7f7f7f; text-decoration-color: #7f7f7f; background-color: #272822\">-</span><span style=\"color: #fbfbf8; text-decoration-color: #fbfbf8; background-color: #272822\"> </span><span style=\"color: #7f7f7f; text-decoration-color: #7f7f7f; background-color: #272822\">Pentaphylacaceae                                                                   </span>\n",
       "<span style=\"color: #7f7f7f; text-decoration-color: #7f7f7f\">│       </span><span style=\"color: #7f7f7f; text-decoration-color: #7f7f7f; background-color: #272822\">-</span><span style=\"color: #fbfbf8; text-decoration-color: #fbfbf8; background-color: #272822\"> </span><span style=\"color: #7f7f7f; text-decoration-color: #7f7f7f; background-color: #272822\">Peridiscaceae                                                                      </span>\n",
       "<span style=\"color: #7f7f7f; text-decoration-color: #7f7f7f\">│       </span><span style=\"color: #7f7f7f; text-decoration-color: #7f7f7f; background-color: #272822\">-</span><span style=\"color: #fbfbf8; text-decoration-color: #fbfbf8; background-color: #272822\"> </span><span style=\"color: #7f7f7f; text-decoration-color: #7f7f7f; background-color: #272822\">Phyllanthaceae                                                                     </span>\n",
       "<span style=\"color: #7f7f7f; text-decoration-color: #7f7f7f\">│       </span><span style=\"color: #7f7f7f; text-decoration-color: #7f7f7f; background-color: #272822\">-</span><span style=\"color: #fbfbf8; text-decoration-color: #fbfbf8; background-color: #272822\"> </span><span style=\"color: #7f7f7f; text-decoration-color: #7f7f7f; background-color: #272822\">Phytolaccaceae                                                                     </span>\n",
       "<span style=\"color: #7f7f7f; text-decoration-color: #7f7f7f\">│       </span><span style=\"color: #7f7f7f; text-decoration-color: #7f7f7f; background-color: #272822\">-</span><span style=\"color: #fbfbf8; text-decoration-color: #fbfbf8; background-color: #272822\"> </span><span style=\"color: #7f7f7f; text-decoration-color: #7f7f7f; background-color: #272822\">Picramniaceae                                                                      </span>\n",
       "<span style=\"color: #7f7f7f; text-decoration-color: #7f7f7f\">│       </span><span style=\"color: #7f7f7f; text-decoration-color: #7f7f7f; background-color: #272822\">-</span><span style=\"color: #fbfbf8; text-decoration-color: #fbfbf8; background-color: #272822\"> </span><span style=\"color: #7f7f7f; text-decoration-color: #7f7f7f; background-color: #272822\">Picrodendraceae                                                                    </span>\n",
       "<span style=\"color: #7f7f7f; text-decoration-color: #7f7f7f\">│       </span><span style=\"color: #7f7f7f; text-decoration-color: #7f7f7f; background-color: #272822\">-</span><span style=\"color: #fbfbf8; text-decoration-color: #fbfbf8; background-color: #272822\"> </span><span style=\"color: #7f7f7f; text-decoration-color: #7f7f7f; background-color: #272822\">Piperaceae                                                                         </span>\n",
       "<span style=\"color: #7f7f7f; text-decoration-color: #7f7f7f\">│       </span><span style=\"color: #7f7f7f; text-decoration-color: #7f7f7f; background-color: #272822\">-</span><span style=\"color: #fbfbf8; text-decoration-color: #fbfbf8; background-color: #272822\"> </span><span style=\"color: #7f7f7f; text-decoration-color: #7f7f7f; background-color: #272822\">Pittosporaceae                                                                     </span>\n",
       "<span style=\"color: #7f7f7f; text-decoration-color: #7f7f7f\">│       </span><span style=\"color: #7f7f7f; text-decoration-color: #7f7f7f; background-color: #272822\">-</span><span style=\"color: #fbfbf8; text-decoration-color: #fbfbf8; background-color: #272822\"> </span><span style=\"color: #7f7f7f; text-decoration-color: #7f7f7f; background-color: #272822\">Platanaceae                                                                        </span>\n",
       "<span style=\"color: #7f7f7f; text-decoration-color: #7f7f7f\">│       </span><span style=\"color: #7f7f7f; text-decoration-color: #7f7f7f; background-color: #272822\">-</span><span style=\"color: #fbfbf8; text-decoration-color: #fbfbf8; background-color: #272822\"> </span><span style=\"color: #7f7f7f; text-decoration-color: #7f7f7f; background-color: #272822\">Polemoniaceae                                                                      </span>\n",
       "<span style=\"color: #7f7f7f; text-decoration-color: #7f7f7f\">│       </span><span style=\"color: #7f7f7f; text-decoration-color: #7f7f7f; background-color: #272822\">-</span><span style=\"color: #fbfbf8; text-decoration-color: #fbfbf8; background-color: #272822\"> </span><span style=\"color: #7f7f7f; text-decoration-color: #7f7f7f; background-color: #272822\">Polygalaceae                                                                       </span>\n",
       "<span style=\"color: #7f7f7f; text-decoration-color: #7f7f7f\">│       </span><span style=\"color: #7f7f7f; text-decoration-color: #7f7f7f; background-color: #272822\">-</span><span style=\"color: #fbfbf8; text-decoration-color: #fbfbf8; background-color: #272822\"> </span><span style=\"color: #7f7f7f; text-decoration-color: #7f7f7f; background-color: #272822\">Polygonaceae                                                                       </span>\n",
       "<span style=\"color: #7f7f7f; text-decoration-color: #7f7f7f\">│       </span><span style=\"color: #7f7f7f; text-decoration-color: #7f7f7f; background-color: #272822\">-</span><span style=\"color: #fbfbf8; text-decoration-color: #fbfbf8; background-color: #272822\"> </span><span style=\"color: #7f7f7f; text-decoration-color: #7f7f7f; background-color: #272822\">Primulaceae                                                                        </span>\n",
       "<span style=\"color: #7f7f7f; text-decoration-color: #7f7f7f\">│       </span><span style=\"color: #7f7f7f; text-decoration-color: #7f7f7f; background-color: #272822\">-</span><span style=\"color: #fbfbf8; text-decoration-color: #fbfbf8; background-color: #272822\"> </span><span style=\"color: #7f7f7f; text-decoration-color: #7f7f7f; background-color: #272822\">Proteaceae                                                                         </span>\n",
       "<span style=\"color: #7f7f7f; text-decoration-color: #7f7f7f\">│       </span><span style=\"color: #7f7f7f; text-decoration-color: #7f7f7f; background-color: #272822\">-</span><span style=\"color: #fbfbf8; text-decoration-color: #fbfbf8; background-color: #272822\"> </span><span style=\"color: #7f7f7f; text-decoration-color: #7f7f7f; background-color: #272822\">Ranunculaceae                                                                      </span>\n",
       "<span style=\"color: #7f7f7f; text-decoration-color: #7f7f7f\">│       </span><span style=\"color: #7f7f7f; text-decoration-color: #7f7f7f; background-color: #272822\">-</span><span style=\"color: #fbfbf8; text-decoration-color: #fbfbf8; background-color: #272822\"> </span><span style=\"color: #7f7f7f; text-decoration-color: #7f7f7f; background-color: #272822\">Rhabdodendraceae                                                                   </span>\n",
       "<span style=\"color: #7f7f7f; text-decoration-color: #7f7f7f\">│       </span><span style=\"color: #7f7f7f; text-decoration-color: #7f7f7f; background-color: #272822\">-</span><span style=\"color: #fbfbf8; text-decoration-color: #fbfbf8; background-color: #272822\"> </span><span style=\"color: #7f7f7f; text-decoration-color: #7f7f7f; background-color: #272822\">Rhamnaceae                                                                         </span>\n",
       "<span style=\"color: #7f7f7f; text-decoration-color: #7f7f7f\">│       </span><span style=\"color: #7f7f7f; text-decoration-color: #7f7f7f; background-color: #272822\">-</span><span style=\"color: #fbfbf8; text-decoration-color: #fbfbf8; background-color: #272822\"> </span><span style=\"color: #7f7f7f; text-decoration-color: #7f7f7f; background-color: #272822\">Rhizophoraceae                                                                     </span>\n",
       "<span style=\"color: #7f7f7f; text-decoration-color: #7f7f7f\">│       </span><span style=\"color: #7f7f7f; text-decoration-color: #7f7f7f; background-color: #272822\">-</span><span style=\"color: #fbfbf8; text-decoration-color: #fbfbf8; background-color: #272822\"> </span><span style=\"color: #7f7f7f; text-decoration-color: #7f7f7f; background-color: #272822\">Rosaceae                                                                           </span>\n",
       "<span style=\"color: #7f7f7f; text-decoration-color: #7f7f7f\">│       </span><span style=\"color: #7f7f7f; text-decoration-color: #7f7f7f; background-color: #272822\">-</span><span style=\"color: #fbfbf8; text-decoration-color: #fbfbf8; background-color: #272822\"> </span><span style=\"color: #7f7f7f; text-decoration-color: #7f7f7f; background-color: #272822\">Rubiaceae                                                                          </span>\n",
       "<span style=\"color: #7f7f7f; text-decoration-color: #7f7f7f\">│       </span><span style=\"color: #7f7f7f; text-decoration-color: #7f7f7f; background-color: #272822\">-</span><span style=\"color: #fbfbf8; text-decoration-color: #fbfbf8; background-color: #272822\"> </span><span style=\"color: #7f7f7f; text-decoration-color: #7f7f7f; background-color: #272822\">Rutaceae                                                                           </span>\n",
       "<span style=\"color: #7f7f7f; text-decoration-color: #7f7f7f\">│       </span><span style=\"color: #7f7f7f; text-decoration-color: #7f7f7f; background-color: #272822\">-</span><span style=\"color: #fbfbf8; text-decoration-color: #fbfbf8; background-color: #272822\"> </span><span style=\"color: #7f7f7f; text-decoration-color: #7f7f7f; background-color: #272822\">Sabiaceae                                                                          </span>\n",
       "<span style=\"color: #7f7f7f; text-decoration-color: #7f7f7f\">│       </span><span style=\"color: #7f7f7f; text-decoration-color: #7f7f7f; background-color: #272822\">-</span><span style=\"color: #fbfbf8; text-decoration-color: #fbfbf8; background-color: #272822\"> </span><span style=\"color: #7f7f7f; text-decoration-color: #7f7f7f; background-color: #272822\">Salicaceae                                                                         </span>\n",
       "<span style=\"color: #7f7f7f; text-decoration-color: #7f7f7f\">│       </span><span style=\"color: #7f7f7f; text-decoration-color: #7f7f7f; background-color: #272822\">-</span><span style=\"color: #fbfbf8; text-decoration-color: #fbfbf8; background-color: #272822\"> </span><span style=\"color: #7f7f7f; text-decoration-color: #7f7f7f; background-color: #272822\">Santalaceae                                                                        </span>\n",
       "<span style=\"color: #7f7f7f; text-decoration-color: #7f7f7f\">│       </span><span style=\"color: #7f7f7f; text-decoration-color: #7f7f7f; background-color: #272822\">-</span><span style=\"color: #fbfbf8; text-decoration-color: #fbfbf8; background-color: #272822\"> </span><span style=\"color: #7f7f7f; text-decoration-color: #7f7f7f; background-color: #272822\">Sapindaceae                                                                        </span>\n",
       "<span style=\"color: #7f7f7f; text-decoration-color: #7f7f7f\">│       </span><span style=\"color: #7f7f7f; text-decoration-color: #7f7f7f; background-color: #272822\">-</span><span style=\"color: #fbfbf8; text-decoration-color: #fbfbf8; background-color: #272822\"> </span><span style=\"color: #7f7f7f; text-decoration-color: #7f7f7f; background-color: #272822\">Sapotaceae                                                                         </span>\n",
       "<span style=\"color: #7f7f7f; text-decoration-color: #7f7f7f\">│       </span><span style=\"color: #7f7f7f; text-decoration-color: #7f7f7f; background-color: #272822\">-</span><span style=\"color: #fbfbf8; text-decoration-color: #fbfbf8; background-color: #272822\"> </span><span style=\"color: #7f7f7f; text-decoration-color: #7f7f7f; background-color: #272822\">Sarcolaenaceae                                                                     </span>\n",
       "<span style=\"color: #7f7f7f; text-decoration-color: #7f7f7f\">│       </span><span style=\"color: #7f7f7f; text-decoration-color: #7f7f7f; background-color: #272822\">-</span><span style=\"color: #fbfbf8; text-decoration-color: #fbfbf8; background-color: #272822\"> </span><span style=\"color: #7f7f7f; text-decoration-color: #7f7f7f; background-color: #272822\">Saxifragaceae                                                                      </span>\n",
       "<span style=\"color: #7f7f7f; text-decoration-color: #7f7f7f\">│       </span><span style=\"color: #7f7f7f; text-decoration-color: #7f7f7f; background-color: #272822\">-</span><span style=\"color: #fbfbf8; text-decoration-color: #fbfbf8; background-color: #272822\"> </span><span style=\"color: #7f7f7f; text-decoration-color: #7f7f7f; background-color: #272822\">Schisandraceae                                                                     </span>\n",
       "<span style=\"color: #7f7f7f; text-decoration-color: #7f7f7f\">│       </span><span style=\"color: #7f7f7f; text-decoration-color: #7f7f7f; background-color: #272822\">-</span><span style=\"color: #fbfbf8; text-decoration-color: #fbfbf8; background-color: #272822\"> </span><span style=\"color: #7f7f7f; text-decoration-color: #7f7f7f; background-color: #272822\">Schoepfiaceae                                                                      </span>\n",
       "<span style=\"color: #7f7f7f; text-decoration-color: #7f7f7f\">│       </span><span style=\"color: #7f7f7f; text-decoration-color: #7f7f7f; background-color: #272822\">-</span><span style=\"color: #fbfbf8; text-decoration-color: #fbfbf8; background-color: #272822\"> </span><span style=\"color: #7f7f7f; text-decoration-color: #7f7f7f; background-color: #272822\">Scrophulariaceae                                                                   </span>\n",
       "<span style=\"color: #7f7f7f; text-decoration-color: #7f7f7f\">│       </span><span style=\"color: #7f7f7f; text-decoration-color: #7f7f7f; background-color: #272822\">-</span><span style=\"color: #fbfbf8; text-decoration-color: #fbfbf8; background-color: #272822\"> </span><span style=\"color: #7f7f7f; text-decoration-color: #7f7f7f; background-color: #272822\">Simaroubaceae                                                                      </span>\n",
       "<span style=\"color: #7f7f7f; text-decoration-color: #7f7f7f\">│       </span><span style=\"color: #7f7f7f; text-decoration-color: #7f7f7f; background-color: #272822\">-</span><span style=\"color: #fbfbf8; text-decoration-color: #fbfbf8; background-color: #272822\"> </span><span style=\"color: #7f7f7f; text-decoration-color: #7f7f7f; background-color: #272822\">Siparunaceae                                                                       </span>\n",
       "<span style=\"color: #7f7f7f; text-decoration-color: #7f7f7f\">│       </span><span style=\"color: #7f7f7f; text-decoration-color: #7f7f7f; background-color: #272822\">-</span><span style=\"color: #fbfbf8; text-decoration-color: #fbfbf8; background-color: #272822\"> </span><span style=\"color: #7f7f7f; text-decoration-color: #7f7f7f; background-color: #272822\">Smilacaceae                                                                        </span>\n",
       "<span style=\"color: #7f7f7f; text-decoration-color: #7f7f7f\">│       </span><span style=\"color: #7f7f7f; text-decoration-color: #7f7f7f; background-color: #272822\">-</span><span style=\"color: #fbfbf8; text-decoration-color: #fbfbf8; background-color: #272822\"> </span><span style=\"color: #7f7f7f; text-decoration-color: #7f7f7f; background-color: #272822\">Solanaceae                                                                         </span>\n",
       "<span style=\"color: #7f7f7f; text-decoration-color: #7f7f7f\">│       </span><span style=\"color: #7f7f7f; text-decoration-color: #7f7f7f; background-color: #272822\">-</span><span style=\"color: #fbfbf8; text-decoration-color: #fbfbf8; background-color: #272822\"> </span><span style=\"color: #7f7f7f; text-decoration-color: #7f7f7f; background-color: #272822\">Sphaerosepalaceae                                                                  </span>\n",
       "<span style=\"color: #7f7f7f; text-decoration-color: #7f7f7f\">│       </span><span style=\"color: #7f7f7f; text-decoration-color: #7f7f7f; background-color: #272822\">-</span><span style=\"color: #fbfbf8; text-decoration-color: #fbfbf8; background-color: #272822\"> </span><span style=\"color: #7f7f7f; text-decoration-color: #7f7f7f; background-color: #272822\">Stachyuraceae                                                                      </span>\n",
       "<span style=\"color: #7f7f7f; text-decoration-color: #7f7f7f\">│       </span><span style=\"color: #7f7f7f; text-decoration-color: #7f7f7f; background-color: #272822\">-</span><span style=\"color: #fbfbf8; text-decoration-color: #fbfbf8; background-color: #272822\"> </span><span style=\"color: #7f7f7f; text-decoration-color: #7f7f7f; background-color: #272822\">Staphyleaceae                                                                      </span>\n",
       "<span style=\"color: #7f7f7f; text-decoration-color: #7f7f7f\">│       </span><span style=\"color: #7f7f7f; text-decoration-color: #7f7f7f; background-color: #272822\">-</span><span style=\"color: #fbfbf8; text-decoration-color: #fbfbf8; background-color: #272822\"> </span><span style=\"color: #7f7f7f; text-decoration-color: #7f7f7f; background-color: #272822\">Stegnospermataceae                                                                 </span>\n",
       "<span style=\"color: #7f7f7f; text-decoration-color: #7f7f7f\">│       </span><span style=\"color: #7f7f7f; text-decoration-color: #7f7f7f; background-color: #272822\">-</span><span style=\"color: #fbfbf8; text-decoration-color: #fbfbf8; background-color: #272822\"> </span><span style=\"color: #7f7f7f; text-decoration-color: #7f7f7f; background-color: #272822\">Stemonuraceae                                                                      </span>\n",
       "<span style=\"color: #7f7f7f; text-decoration-color: #7f7f7f\">│       </span><span style=\"color: #7f7f7f; text-decoration-color: #7f7f7f; background-color: #272822\">-</span><span style=\"color: #fbfbf8; text-decoration-color: #fbfbf8; background-color: #272822\"> </span><span style=\"color: #7f7f7f; text-decoration-color: #7f7f7f; background-color: #272822\">Styracaceae                                                                        </span>\n",
       "<span style=\"color: #7f7f7f; text-decoration-color: #7f7f7f\">│       </span><span style=\"color: #7f7f7f; text-decoration-color: #7f7f7f; background-color: #272822\">-</span><span style=\"color: #fbfbf8; text-decoration-color: #fbfbf8; background-color: #272822\"> </span><span style=\"color: #7f7f7f; text-decoration-color: #7f7f7f; background-color: #272822\">Symplocaceae                                                                       </span>\n",
       "<span style=\"color: #7f7f7f; text-decoration-color: #7f7f7f\">│       </span><span style=\"color: #7f7f7f; text-decoration-color: #7f7f7f; background-color: #272822\">-</span><span style=\"color: #fbfbf8; text-decoration-color: #fbfbf8; background-color: #272822\"> </span><span style=\"color: #7f7f7f; text-decoration-color: #7f7f7f; background-color: #272822\">Theaceae                                                                           </span>\n",
       "<span style=\"color: #7f7f7f; text-decoration-color: #7f7f7f\">│       </span><span style=\"color: #7f7f7f; text-decoration-color: #7f7f7f; background-color: #272822\">-</span><span style=\"color: #fbfbf8; text-decoration-color: #fbfbf8; background-color: #272822\"> </span><span style=\"color: #7f7f7f; text-decoration-color: #7f7f7f; background-color: #272822\">Thymelaeaceae                                                                      </span>\n",
       "<span style=\"color: #7f7f7f; text-decoration-color: #7f7f7f\">│       </span><span style=\"color: #7f7f7f; text-decoration-color: #7f7f7f; background-color: #272822\">-</span><span style=\"color: #fbfbf8; text-decoration-color: #fbfbf8; background-color: #272822\"> </span><span style=\"color: #7f7f7f; text-decoration-color: #7f7f7f; background-color: #272822\">Trigoniaceae                                                                       </span>\n",
       "<span style=\"color: #7f7f7f; text-decoration-color: #7f7f7f\">│       </span><span style=\"color: #7f7f7f; text-decoration-color: #7f7f7f; background-color: #272822\">-</span><span style=\"color: #fbfbf8; text-decoration-color: #fbfbf8; background-color: #272822\"> </span><span style=\"color: #7f7f7f; text-decoration-color: #7f7f7f; background-color: #272822\">Trochodendraceae                                                                   </span>\n",
       "<span style=\"color: #7f7f7f; text-decoration-color: #7f7f7f\">│       </span><span style=\"color: #7f7f7f; text-decoration-color: #7f7f7f; background-color: #272822\">-</span><span style=\"color: #fbfbf8; text-decoration-color: #fbfbf8; background-color: #272822\"> </span><span style=\"color: #7f7f7f; text-decoration-color: #7f7f7f; background-color: #272822\">Ulmaceae                                                                           </span>\n",
       "<span style=\"color: #7f7f7f; text-decoration-color: #7f7f7f\">│       </span><span style=\"color: #7f7f7f; text-decoration-color: #7f7f7f; background-color: #272822\">-</span><span style=\"color: #fbfbf8; text-decoration-color: #fbfbf8; background-color: #272822\"> </span><span style=\"color: #7f7f7f; text-decoration-color: #7f7f7f; background-color: #272822\">Urticaceae                                                                         </span>\n",
       "<span style=\"color: #7f7f7f; text-decoration-color: #7f7f7f\">│       </span><span style=\"color: #7f7f7f; text-decoration-color: #7f7f7f; background-color: #272822\">-</span><span style=\"color: #fbfbf8; text-decoration-color: #fbfbf8; background-color: #272822\"> </span><span style=\"color: #7f7f7f; text-decoration-color: #7f7f7f; background-color: #272822\">Verbenaceae                                                                        </span>\n",
       "<span style=\"color: #7f7f7f; text-decoration-color: #7f7f7f\">│       </span><span style=\"color: #7f7f7f; text-decoration-color: #7f7f7f; background-color: #272822\">-</span><span style=\"color: #fbfbf8; text-decoration-color: #fbfbf8; background-color: #272822\"> </span><span style=\"color: #7f7f7f; text-decoration-color: #7f7f7f; background-color: #272822\">Violaceae                                                                          </span>\n",
       "<span style=\"color: #7f7f7f; text-decoration-color: #7f7f7f\">│       </span><span style=\"color: #7f7f7f; text-decoration-color: #7f7f7f; background-color: #272822\">-</span><span style=\"color: #fbfbf8; text-decoration-color: #fbfbf8; background-color: #272822\"> </span><span style=\"color: #7f7f7f; text-decoration-color: #7f7f7f; background-color: #272822\">Vitaceae                                                                           </span>\n",
       "<span style=\"color: #7f7f7f; text-decoration-color: #7f7f7f\">│       </span><span style=\"color: #7f7f7f; text-decoration-color: #7f7f7f; background-color: #272822\">-</span><span style=\"color: #fbfbf8; text-decoration-color: #fbfbf8; background-color: #272822\"> </span><span style=\"color: #7f7f7f; text-decoration-color: #7f7f7f; background-color: #272822\">Vochysiaceae                                                                       </span>\n",
       "<span style=\"color: #7f7f7f; text-decoration-color: #7f7f7f\">│       </span><span style=\"color: #7f7f7f; text-decoration-color: #7f7f7f; background-color: #272822\">-</span><span style=\"color: #fbfbf8; text-decoration-color: #fbfbf8; background-color: #272822\"> </span><span style=\"color: #7f7f7f; text-decoration-color: #7f7f7f; background-color: #272822\">Winteraceae                                                                        </span>\n",
       "<span style=\"color: #7f7f7f; text-decoration-color: #7f7f7f\">│       </span><span style=\"color: #7f7f7f; text-decoration-color: #7f7f7f; background-color: #272822\">-</span><span style=\"color: #fbfbf8; text-decoration-color: #fbfbf8; background-color: #272822\"> </span><span style=\"color: #7f7f7f; text-decoration-color: #7f7f7f; background-color: #272822\">Zygophyllaceae                                                                     </span>\n",
       "<span style=\"color: #7f7f7f; text-decoration-color: #7f7f7f\">│       </span><span style=\"color: #fc92b8; text-decoration-color: #fc92b8; background-color: #272822\">num_classes</span><span style=\"color: #fbfbf8; text-decoration-color: #fbfbf8; background-color: #272822\">: </span><span style=\"color: #7f7f7f; text-decoration-color: #7f7f7f; background-color: #272822\">179                                                                     </span>\n",
       "<span style=\"color: #7f7f7f; text-decoration-color: #7f7f7f\">│       </span><span style=\"color: #fc92b8; text-decoration-color: #fc92b8; background-color: #272822\">image_size</span><span style=\"color: #fbfbf8; text-decoration-color: #fbfbf8; background-color: #272822\">: </span><span style=\"color: #7f7f7f; text-decoration-color: #7f7f7f; background-color: #272822\">1024                                                                     </span>\n",
       "<span style=\"color: #7f7f7f; text-decoration-color: #7f7f7f\">│       </span><span style=\"color: #fc92b8; text-decoration-color: #fc92b8; background-color: #272822\">channels</span><span style=\"color: #fbfbf8; text-decoration-color: #fbfbf8; background-color: #272822\">: </span><span style=\"color: #7f7f7f; text-decoration-color: #7f7f7f; background-color: #272822\">3                                                                          </span>\n",
       "<span style=\"color: #7f7f7f; text-decoration-color: #7f7f7f\">│       </span><span style=\"color: #fc92b8; text-decoration-color: #fc92b8; background-color: #272822\">class_type</span><span style=\"color: #fbfbf8; text-decoration-color: #fbfbf8; background-color: #272822\">: </span><span style=\"color: #7f7f7f; text-decoration-color: #7f7f7f; background-color: #272822\">family                                                                   </span>\n",
       "<span style=\"color: #7f7f7f; text-decoration-color: #7f7f7f\">│       </span><span style=\"color: #fc92b8; text-decoration-color: #fc92b8; background-color: #272822\">normalize</span><span style=\"color: #fbfbf8; text-decoration-color: #fbfbf8; background-color: #272822\">: </span><span style=\"color: #7f7f7f; text-decoration-color: #7f7f7f; background-color: #272822\">true                                                                      </span>\n",
       "<span style=\"color: #7f7f7f; text-decoration-color: #7f7f7f\">│       </span><span style=\"color: #fc92b8; text-decoration-color: #fc92b8; background-color: #272822\">seed</span><span style=\"color: #fbfbf8; text-decoration-color: #fbfbf8; background-color: #272822\">: </span><span style=\"color: #7f7f7f; text-decoration-color: #7f7f7f; background-color: #272822\">12345                                                                          </span>\n",
       "<span style=\"color: #7f7f7f; text-decoration-color: #7f7f7f\">│       </span><span style=\"color: #fc92b8; text-decoration-color: #fc92b8; background-color: #272822\">predict_on_split</span><span style=\"color: #fbfbf8; text-decoration-color: #fbfbf8; background-color: #272822\">: </span><span style=\"color: #7f7f7f; text-decoration-color: #7f7f7f; background-color: #272822\">val                                                                </span>\n",
       "<span style=\"color: #7f7f7f; text-decoration-color: #7f7f7f\">│       </span><span style=\"color: #fc92b8; text-decoration-color: #fc92b8; background-color: #272822\">num_workers</span><span style=\"color: #fbfbf8; text-decoration-color: #fbfbf8; background-color: #272822\">: </span><span style=\"color: #7f7f7f; text-decoration-color: #7f7f7f; background-color: #272822\">0                                                                       </span>\n",
       "<span style=\"color: #7f7f7f; text-decoration-color: #7f7f7f\">│       </span><span style=\"color: #fc92b8; text-decoration-color: #fc92b8; background-color: #272822\">root_dir</span><span style=\"color: #fbfbf8; text-decoration-color: #fbfbf8; background-color: #272822\">: </span><span style=\"color: #7f7f7f; text-decoration-color: #7f7f7f; background-color: #272822\">/media/data/jacob/wandb_cache                                              </span>\n",
       "<span style=\"color: #7f7f7f; text-decoration-color: #7f7f7f\">│       </span><span style=\"color: #fc92b8; text-decoration-color: #fc92b8; background-color: #272822\">dataset_dir</span><span style=\"color: #fbfbf8; text-decoration-color: #fbfbf8; background-color: #272822\">: </span><span style=\"color: #7f7f7f; text-decoration-color: #7f7f7f; background-color: #272822\">/media/data/jacob/wandb_cache/datasets/Extant_family_10_1024            </span>\n",
       "<span style=\"color: #7f7f7f; text-decoration-color: #7f7f7f\">├── </span><span style=\"color: #7f7f7f; text-decoration-color: #7f7f7f\">callbacks                                                                                </span>\n",
       "<span style=\"color: #7f7f7f; text-decoration-color: #7f7f7f\">│   └── </span><span style=\"color: #fc92b8; text-decoration-color: #fc92b8; background-color: #272822\">finetuning</span><span style=\"color: #fbfbf8; text-decoration-color: #fbfbf8; background-color: #272822\">:</span><span style=\"color: #7f7f7f; text-decoration-color: #7f7f7f; background-color: #272822\">                                                                          </span>\n",
       "<span style=\"color: #7f7f7f; text-decoration-color: #7f7f7f\">│       </span><span style=\"color: #fbfbf8; text-decoration-color: #fbfbf8; background-color: #272822\">  </span><span style=\"color: #fc92b8; text-decoration-color: #fc92b8; background-color: #272822\">_target_</span><span style=\"color: #fbfbf8; text-decoration-color: #fbfbf8; background-color: #272822\">: </span><span style=\"color: #7f7f7f; text-decoration-color: #7f7f7f; background-color: #272822\">lightning_hydra_classifiers.models.transfer.MilestonesFinetuning         </span>\n",
       "<span style=\"color: #7f7f7f; text-decoration-color: #7f7f7f\">│       </span><span style=\"color: #fbfbf8; text-decoration-color: #fbfbf8; background-color: #272822\">  </span><span style=\"color: #fc92b8; text-decoration-color: #fc92b8; background-color: #272822\">milestones</span><span style=\"color: #fbfbf8; text-decoration-color: #fbfbf8; background-color: #272822\">:</span><span style=\"color: #7f7f7f; text-decoration-color: #7f7f7f; background-color: #272822\">                                                                        </span>\n",
       "<span style=\"color: #7f7f7f; text-decoration-color: #7f7f7f\">│       </span><span style=\"color: #fbfbf8; text-decoration-color: #fbfbf8; background-color: #272822\">  </span><span style=\"color: #7f7f7f; text-decoration-color: #7f7f7f; background-color: #272822\">-</span><span style=\"color: #fbfbf8; text-decoration-color: #fbfbf8; background-color: #272822\"> </span><span style=\"color: #7f7f7f; text-decoration-color: #7f7f7f; background-color: #272822\">5                                                                                </span>\n",
       "<span style=\"color: #7f7f7f; text-decoration-color: #7f7f7f\">│       </span><span style=\"color: #fbfbf8; text-decoration-color: #fbfbf8; background-color: #272822\">  </span><span style=\"color: #7f7f7f; text-decoration-color: #7f7f7f; background-color: #272822\">-</span><span style=\"color: #fbfbf8; text-decoration-color: #fbfbf8; background-color: #272822\"> </span><span style=\"color: #7f7f7f; text-decoration-color: #7f7f7f; background-color: #272822\">10                                                                               </span>\n",
       "<span style=\"color: #7f7f7f; text-decoration-color: #7f7f7f\">│       </span><span style=\"color: #fbfbf8; text-decoration-color: #fbfbf8; background-color: #272822\">  </span><span style=\"color: #fc92b8; text-decoration-color: #fc92b8; background-color: #272822\">train_bn</span><span style=\"color: #fbfbf8; text-decoration-color: #fbfbf8; background-color: #272822\">: </span><span style=\"color: #7f7f7f; text-decoration-color: #7f7f7f; background-color: #272822\">false                                                                    </span>\n",
       "<span style=\"color: #7f7f7f; text-decoration-color: #7f7f7f\">├── </span><span style=\"color: #7f7f7f; text-decoration-color: #7f7f7f\">logger                                                                                   </span>\n",
       "<span style=\"color: #7f7f7f; text-decoration-color: #7f7f7f\">│   └── </span><span style=\"color: #fc92b8; text-decoration-color: #fc92b8; background-color: #272822\">wandb</span><span style=\"color: #fbfbf8; text-decoration-color: #fbfbf8; background-color: #272822\">:</span><span style=\"color: #7f7f7f; text-decoration-color: #7f7f7f; background-color: #272822\">                                                                               </span>\n",
       "<span style=\"color: #7f7f7f; text-decoration-color: #7f7f7f\">│       </span><span style=\"color: #fbfbf8; text-decoration-color: #fbfbf8; background-color: #272822\">  </span><span style=\"color: #fc92b8; text-decoration-color: #fc92b8; background-color: #272822\">_target_</span><span style=\"color: #fbfbf8; text-decoration-color: #fbfbf8; background-color: #272822\">: </span><span style=\"color: #7f7f7f; text-decoration-color: #7f7f7f; background-color: #272822\">pytorch_lightning.loggers.wandb.WandbLogger                              </span>\n",
       "<span style=\"color: #7f7f7f; text-decoration-color: #7f7f7f\">│       </span><span style=\"color: #fbfbf8; text-decoration-color: #fbfbf8; background-color: #272822\">  </span><span style=\"color: #fc92b8; text-decoration-color: #fc92b8; background-color: #272822\">entity</span><span style=\"color: #fbfbf8; text-decoration-color: #fbfbf8; background-color: #272822\">: </span><span style=\"color: #7f7f7f; text-decoration-color: #7f7f7f; background-color: #272822\">jrose                                                                      </span>\n",
       "<span style=\"color: #7f7f7f; text-decoration-color: #7f7f7f\">│       </span><span style=\"color: #fbfbf8; text-decoration-color: #fbfbf8; background-color: #272822\">  </span><span style=\"color: #fc92b8; text-decoration-color: #fc92b8; background-color: #272822\">project</span><span style=\"color: #fbfbf8; text-decoration-color: #fbfbf8; background-color: #272822\">: </span><span style=\"color: #7f7f7f; text-decoration-color: #7f7f7f; background-color: #272822\">mnist_scaling_experiments                                                 </span>\n",
       "<span style=\"color: #7f7f7f; text-decoration-color: #7f7f7f\">│       </span><span style=\"color: #fbfbf8; text-decoration-color: #fbfbf8; background-color: #272822\">  </span><span style=\"color: #fc92b8; text-decoration-color: #fc92b8; background-color: #272822\">job_type</span><span style=\"color: #fbfbf8; text-decoration-color: #fbfbf8; background-color: #272822\">: </span><span style=\"color: #7f7f7f; text-decoration-color: #7f7f7f; background-color: #272822\">Extant_family_10_1024_tune-train-test                                    </span>\n",
       "<span style=\"color: #7f7f7f; text-decoration-color: #7f7f7f\">│       </span><span style=\"color: #fbfbf8; text-decoration-color: #fbfbf8; background-color: #272822\">  </span><span style=\"color: #fc92b8; text-decoration-color: #fc92b8; background-color: #272822\">group</span><span style=\"color: #fbfbf8; text-decoration-color: #fbfbf8; background-color: #272822\">: </span><span style=\"color: #7f7f7f; text-decoration-color: #7f7f7f; background-color: #272822\">single-gpu                                                                  </span>\n",
       "<span style=\"color: #7f7f7f; text-decoration-color: #7f7f7f\">│       </span><span style=\"color: #fbfbf8; text-decoration-color: #fbfbf8; background-color: #272822\">  </span><span style=\"color: #fc92b8; text-decoration-color: #fc92b8; background-color: #272822\">mode</span><span style=\"color: #fbfbf8; text-decoration-color: #fbfbf8; background-color: #272822\">: </span><span style=\"color: #7f7f7f; text-decoration-color: #7f7f7f; background-color: #272822\">online                                                                       </span>\n",
       "<span style=\"color: #7f7f7f; text-decoration-color: #7f7f7f\">│       </span><span style=\"color: #fbfbf8; text-decoration-color: #fbfbf8; background-color: #272822\">  </span><span style=\"color: #fc92b8; text-decoration-color: #fc92b8; background-color: #272822\">allow_val_change</span><span style=\"color: #fbfbf8; text-decoration-color: #fbfbf8; background-color: #272822\">: </span><span style=\"color: #7f7f7f; text-decoration-color: #7f7f7f; background-color: #272822\">true                                                             </span>\n",
       "<span style=\"color: #7f7f7f; text-decoration-color: #7f7f7f\">│       </span><span style=\"color: #fbfbf8; text-decoration-color: #fbfbf8; background-color: #272822\">  </span><span style=\"color: #fc92b8; text-decoration-color: #fc92b8; background-color: #272822\">sync_tensorboard</span><span style=\"color: #fbfbf8; text-decoration-color: #fbfbf8; background-color: #272822\">: </span><span style=\"color: #7f7f7f; text-decoration-color: #7f7f7f; background-color: #272822\">true                                                             </span>\n",
       "<span style=\"color: #7f7f7f; text-decoration-color: #7f7f7f\">│       </span><span style=\"color: #fc92b8; text-decoration-color: #fc92b8; background-color: #272822\">tensorboard</span><span style=\"color: #fbfbf8; text-decoration-color: #fbfbf8; background-color: #272822\">:</span><span style=\"color: #7f7f7f; text-decoration-color: #7f7f7f; background-color: #272822\">                                                                         </span>\n",
       "<span style=\"color: #7f7f7f; text-decoration-color: #7f7f7f\">│       </span><span style=\"color: #fbfbf8; text-decoration-color: #fbfbf8; background-color: #272822\">  </span><span style=\"color: #fc92b8; text-decoration-color: #fc92b8; background-color: #272822\">_target_</span><span style=\"color: #fbfbf8; text-decoration-color: #fbfbf8; background-color: #272822\">: </span><span style=\"color: #7f7f7f; text-decoration-color: #7f7f7f; background-color: #272822\">pytorch_lightning.loggers.tensorboard.TensorBoardLogger                  </span>\n",
       "<span style=\"color: #7f7f7f; text-decoration-color: #7f7f7f\">│       </span><span style=\"color: #fbfbf8; text-decoration-color: #fbfbf8; background-color: #272822\">  </span><span style=\"color: #fc92b8; text-decoration-color: #fc92b8; background-color: #272822\">save_dir</span><span style=\"color: #fbfbf8; text-decoration-color: #fbfbf8; background-color: #272822\">: </span><span style=\"color: #7f7f7f; text-decoration-color: #7f7f7f; background-color: #272822\">/media/data_cifs/projects/prj_fossils/users/jacob/experiments/July2021-No</span>\n",
       "<span style=\"color: #7f7f7f; text-decoration-color: #7f7f7f\">│       </span><span style=\"color: #fbfbf8; text-decoration-color: #fbfbf8; background-color: #272822\">  </span><span style=\"color: #fc92b8; text-decoration-color: #fc92b8; background-color: #272822\">name</span><span style=\"color: #fbfbf8; text-decoration-color: #fbfbf8; background-color: #272822\">: </span><span style=\"color: #7f7f7f; text-decoration-color: #7f7f7f; background-color: #272822\">Extant_family_10_1024_tune-train-test_Extant_family_10_1024                  </span>\n",
       "<span style=\"color: #7f7f7f; text-decoration-color: #7f7f7f\">└── </span><span style=\"color: #7f7f7f; text-decoration-color: #7f7f7f\">seed                                                                                     </span>\n",
       "<span style=\"color: #7f7f7f; text-decoration-color: #7f7f7f\">    └── </span><span style=\"color: #7f7f7f; text-decoration-color: #7f7f7f; background-color: #272822\">12345                                                                                </span>\n",
       "</pre>\n"
      ],
      "text/plain": [
       "\u001b[2m⚙ CONFIG\u001b[0m\u001b[2m                                                                                     \u001b[0m\n",
       "\u001b[2m├── \u001b[0m\u001b[2mtrainer\u001b[0m\u001b[2m                                                                                  \u001b[0m\n",
       "\u001b[2m│   \u001b[0m\u001b[2m└── \u001b[0m\u001b[2;38;2;249;38;114;48;2;39;40;34m_target_\u001b[0m\u001b[2;38;2;248;248;242;48;2;39;40;34m:\u001b[0m\u001b[2;38;2;248;248;242;48;2;39;40;34m \u001b[0m\u001b[2;48;2;39;40;34mpytorch_lightning.Trainer\u001b[0m\u001b[2;48;2;39;40;34m                                                  \u001b[0m\n",
       "\u001b[2m│   \u001b[0m\u001b[2m    \u001b[0m\u001b[2;38;2;249;38;114;48;2;39;40;34mgpus\u001b[0m\u001b[2;38;2;248;248;242;48;2;39;40;34m:\u001b[0m\u001b[2;48;2;39;40;34m                                                                                \u001b[0m\n",
       "\u001b[2m│   \u001b[0m\u001b[2m    \u001b[0m\u001b[2;48;2;39;40;34m-\u001b[0m\u001b[2;38;2;248;248;242;48;2;39;40;34m \u001b[0m\u001b[2;48;2;39;40;34m2\u001b[0m\u001b[2;48;2;39;40;34m                                                                                  \u001b[0m\n",
       "\u001b[2m│   \u001b[0m\u001b[2m    \u001b[0m\u001b[2;38;2;249;38;114;48;2;39;40;34mauto_select_gpus\u001b[0m\u001b[2;38;2;248;248;242;48;2;39;40;34m:\u001b[0m\u001b[2;38;2;248;248;242;48;2;39;40;34m \u001b[0m\u001b[2;48;2;39;40;34mtrue\u001b[0m\u001b[2;48;2;39;40;34m                                                               \u001b[0m\n",
       "\u001b[2m│   \u001b[0m\u001b[2m    \u001b[0m\u001b[2;38;2;249;38;114;48;2;39;40;34maccelerator\u001b[0m\u001b[2;38;2;248;248;242;48;2;39;40;34m:\u001b[0m\u001b[2;38;2;248;248;242;48;2;39;40;34m \u001b[0m\u001b[2;48;2;39;40;34mdp\u001b[0m\u001b[2;48;2;39;40;34m                                                                      \u001b[0m\n",
       "\u001b[2m│   \u001b[0m\u001b[2m    \u001b[0m\u001b[2;38;2;249;38;114;48;2;39;40;34mmin_epochs\u001b[0m\u001b[2;38;2;248;248;242;48;2;39;40;34m:\u001b[0m\u001b[2;38;2;248;248;242;48;2;39;40;34m \u001b[0m\u001b[2;48;2;39;40;34m1\u001b[0m\u001b[2;48;2;39;40;34m                                                                        \u001b[0m\n",
       "\u001b[2m│   \u001b[0m\u001b[2m    \u001b[0m\u001b[2;38;2;249;38;114;48;2;39;40;34mmax_epochs\u001b[0m\u001b[2;38;2;248;248;242;48;2;39;40;34m:\u001b[0m\u001b[2;38;2;248;248;242;48;2;39;40;34m \u001b[0m\u001b[2;48;2;39;40;34m15\u001b[0m\u001b[2;48;2;39;40;34m                                                                       \u001b[0m\n",
       "\u001b[2m│   \u001b[0m\u001b[2m    \u001b[0m\u001b[2;38;2;249;38;114;48;2;39;40;34mweights_summary\u001b[0m\u001b[2;38;2;248;248;242;48;2;39;40;34m:\u001b[0m\u001b[2;38;2;248;248;242;48;2;39;40;34m \u001b[0m\u001b[2;48;2;39;40;34mtop\u001b[0m\u001b[2;48;2;39;40;34m                                                                 \u001b[0m\n",
       "\u001b[2m│   \u001b[0m\u001b[2m    \u001b[0m\u001b[2;38;2;249;38;114;48;2;39;40;34mprofiler\u001b[0m\u001b[2;38;2;248;248;242;48;2;39;40;34m:\u001b[0m\u001b[2;38;2;248;248;242;48;2;39;40;34m \u001b[0m\u001b[2;48;2;39;40;34msimple\u001b[0m\u001b[2;48;2;39;40;34m                                                                     \u001b[0m\n",
       "\u001b[2m│   \u001b[0m\u001b[2m    \u001b[0m\u001b[2;38;2;249;38;114;48;2;39;40;34mlog_every_n_steps\u001b[0m\u001b[2;38;2;248;248;242;48;2;39;40;34m:\u001b[0m\u001b[2;38;2;248;248;242;48;2;39;40;34m \u001b[0m\u001b[2;48;2;39;40;34m50\u001b[0m\u001b[2;48;2;39;40;34m                                                                \u001b[0m\n",
       "\u001b[2m│   \u001b[0m\u001b[2m    \u001b[0m\u001b[2;38;2;249;38;114;48;2;39;40;34mamp_backend\u001b[0m\u001b[2;38;2;248;248;242;48;2;39;40;34m:\u001b[0m\u001b[2;38;2;248;248;242;48;2;39;40;34m \u001b[0m\u001b[2;48;2;39;40;34mnative\u001b[0m\u001b[2;48;2;39;40;34m                                                                  \u001b[0m\n",
       "\u001b[2m│   \u001b[0m\u001b[2m    \u001b[0m\u001b[2;38;2;249;38;114;48;2;39;40;34mamp_level\u001b[0m\u001b[2;38;2;248;248;242;48;2;39;40;34m:\u001b[0m\u001b[2;38;2;248;248;242;48;2;39;40;34m \u001b[0m\u001b[2;38;2;230;219;116;48;2;39;40;34m'\u001b[0m\u001b[2;38;2;230;219;116;48;2;39;40;34m02\u001b[0m\u001b[2;38;2;230;219;116;48;2;39;40;34m'\u001b[0m\u001b[2;48;2;39;40;34m                                                                      \u001b[0m\n",
       "\u001b[2m│   \u001b[0m\u001b[2m    \u001b[0m\u001b[2;38;2;249;38;114;48;2;39;40;34mprecision\u001b[0m\u001b[2;38;2;248;248;242;48;2;39;40;34m:\u001b[0m\u001b[2;38;2;248;248;242;48;2;39;40;34m \u001b[0m\u001b[2;48;2;39;40;34m16\u001b[0m\u001b[2;48;2;39;40;34m                                                                        \u001b[0m\n",
       "\u001b[2m├── \u001b[0m\u001b[2mmodel\u001b[0m\u001b[2m                                                                                    \u001b[0m\n",
       "\u001b[2m│   \u001b[0m\u001b[2m└── \u001b[0m\u001b[2;38;2;249;38;114;48;2;39;40;34m_target_\u001b[0m\u001b[2;38;2;248;248;242;48;2;39;40;34m:\u001b[0m\u001b[2;38;2;248;248;242;48;2;39;40;34m \u001b[0m\u001b[2;48;2;39;40;34mlightning_hydra_classifiers.models.transfer.TransferLearningModel\u001b[0m\u001b[2;48;2;39;40;34m          \u001b[0m\n",
       "\u001b[2m│   \u001b[0m\u001b[2m    \u001b[0m\u001b[2;38;2;249;38;114;48;2;39;40;34mclassifier\u001b[0m\u001b[2;38;2;248;248;242;48;2;39;40;34m:\u001b[0m\u001b[2;48;2;39;40;34m                                                                          \u001b[0m\n",
       "\u001b[2m│   \u001b[0m\u001b[2m    \u001b[0m\u001b[2;38;2;248;248;242;48;2;39;40;34m  \u001b[0m\u001b[2;38;2;249;38;114;48;2;39;40;34m_target_\u001b[0m\u001b[2;38;2;248;248;242;48;2;39;40;34m:\u001b[0m\u001b[2;38;2;248;248;242;48;2;39;40;34m \u001b[0m\u001b[2;48;2;39;40;34mlightning_hydra_classifiers.models.transfer.Classifier\u001b[0m\u001b[2;48;2;39;40;34m                   \u001b[0m\n",
       "\u001b[2m│   \u001b[0m\u001b[2m    \u001b[0m\u001b[2;38;2;248;248;242;48;2;39;40;34m  \u001b[0m\u001b[2;38;2;249;38;114;48;2;39;40;34mbackbone_name\u001b[0m\u001b[2;38;2;248;248;242;48;2;39;40;34m:\u001b[0m\u001b[2;38;2;248;248;242;48;2;39;40;34m \u001b[0m\u001b[2;48;2;39;40;34mresnet50\u001b[0m\u001b[2;48;2;39;40;34m                                                            \u001b[0m\n",
       "\u001b[2m│   \u001b[0m\u001b[2m    \u001b[0m\u001b[2;38;2;248;248;242;48;2;39;40;34m  \u001b[0m\u001b[2;38;2;249;38;114;48;2;39;40;34mnum_classes\u001b[0m\u001b[2;38;2;248;248;242;48;2;39;40;34m:\u001b[0m\u001b[2;38;2;248;248;242;48;2;39;40;34m \u001b[0m\u001b[2;48;2;39;40;34m179\u001b[0m\u001b[2;48;2;39;40;34m                                                                   \u001b[0m\n",
       "\u001b[2m│   \u001b[0m\u001b[2m    \u001b[0m\u001b[2;38;2;248;248;242;48;2;39;40;34m  \u001b[0m\u001b[2;38;2;249;38;114;48;2;39;40;34mfinetune\u001b[0m\u001b[2;38;2;248;248;242;48;2;39;40;34m:\u001b[0m\u001b[2;38;2;248;248;242;48;2;39;40;34m \u001b[0m\u001b[2;48;2;39;40;34mtrue\u001b[0m\u001b[2;48;2;39;40;34m                                                                     \u001b[0m\n",
       "\u001b[2m│   \u001b[0m\u001b[2m    \u001b[0m\u001b[2;38;2;249;38;114;48;2;39;40;34mtrain_bn\u001b[0m\u001b[2;38;2;248;248;242;48;2;39;40;34m:\u001b[0m\u001b[2;38;2;248;248;242;48;2;39;40;34m \u001b[0m\u001b[2;48;2;39;40;34mfalse\u001b[0m\u001b[2;48;2;39;40;34m                                                                      \u001b[0m\n",
       "\u001b[2m│   \u001b[0m\u001b[2m    \u001b[0m\u001b[2;38;2;249;38;114;48;2;39;40;34mmilestones\u001b[0m\u001b[2;38;2;248;248;242;48;2;39;40;34m:\u001b[0m\u001b[2;48;2;39;40;34m                                                                          \u001b[0m\n",
       "\u001b[2m│   \u001b[0m\u001b[2m    \u001b[0m\u001b[2;48;2;39;40;34m-\u001b[0m\u001b[2;38;2;248;248;242;48;2;39;40;34m \u001b[0m\u001b[2;48;2;39;40;34m5\u001b[0m\u001b[2;48;2;39;40;34m                                                                                  \u001b[0m\n",
       "\u001b[2m│   \u001b[0m\u001b[2m    \u001b[0m\u001b[2;48;2;39;40;34m-\u001b[0m\u001b[2;38;2;248;248;242;48;2;39;40;34m \u001b[0m\u001b[2;48;2;39;40;34m10\u001b[0m\u001b[2;48;2;39;40;34m                                                                                 \u001b[0m\n",
       "\u001b[2m│   \u001b[0m\u001b[2m    \u001b[0m\u001b[2;38;2;249;38;114;48;2;39;40;34mbatch_size\u001b[0m\u001b[2;38;2;248;248;242;48;2;39;40;34m:\u001b[0m\u001b[2;38;2;248;248;242;48;2;39;40;34m \u001b[0m\u001b[2;48;2;39;40;34m8\u001b[0m\u001b[2;48;2;39;40;34m                                                                        \u001b[0m\n",
       "\u001b[2m│   \u001b[0m\u001b[2m    \u001b[0m\u001b[2;38;2;249;38;114;48;2;39;40;34moptimizer\u001b[0m\u001b[2;38;2;248;248;242;48;2;39;40;34m:\u001b[0m\u001b[2;38;2;248;248;242;48;2;39;40;34m \u001b[0m\u001b[2;48;2;39;40;34mAdam\u001b[0m\u001b[2;48;2;39;40;34m                                                                      \u001b[0m\n",
       "\u001b[2m│   \u001b[0m\u001b[2m    \u001b[0m\u001b[2;38;2;249;38;114;48;2;39;40;34mlr\u001b[0m\u001b[2;38;2;248;248;242;48;2;39;40;34m:\u001b[0m\u001b[2;38;2;248;248;242;48;2;39;40;34m \u001b[0m\u001b[2;48;2;39;40;34m0.0004365158322401656\u001b[0m\u001b[2;48;2;39;40;34m                                                            \u001b[0m\n",
       "\u001b[2m│   \u001b[0m\u001b[2m    \u001b[0m\u001b[2;38;2;249;38;114;48;2;39;40;34mlr_scheduler_gamma\u001b[0m\u001b[2;38;2;248;248;242;48;2;39;40;34m:\u001b[0m\u001b[2;38;2;248;248;242;48;2;39;40;34m \u001b[0m\u001b[2;48;2;39;40;34m0.1\u001b[0m\u001b[2;48;2;39;40;34m                                                              \u001b[0m\n",
       "\u001b[2m├── \u001b[0m\u001b[2mdatamodule\u001b[0m\u001b[2m                                                                               \u001b[0m\n",
       "\u001b[2m│   \u001b[0m\u001b[2m└── \u001b[0m\u001b[2;38;2;249;38;114;48;2;39;40;34m_target_\u001b[0m\u001b[2;38;2;248;248;242;48;2;39;40;34m:\u001b[0m\u001b[2;38;2;248;248;242;48;2;39;40;34m \u001b[0m\u001b[2;48;2;39;40;34mcontrastive_learning.data.pytorch.datamodules.build_datamodule\u001b[0m\u001b[2;48;2;39;40;34m             \u001b[0m\n",
       "\u001b[2m│   \u001b[0m\u001b[2m    \u001b[0m\u001b[2;38;2;249;38;114;48;2;39;40;34mbasename\u001b[0m\u001b[2;38;2;248;248;242;48;2;39;40;34m:\u001b[0m\u001b[2;38;2;248;248;242;48;2;39;40;34m \u001b[0m\u001b[2;48;2;39;40;34mExtant\u001b[0m\u001b[2;48;2;39;40;34m                                                                     \u001b[0m\n",
       "\u001b[2m│   \u001b[0m\u001b[2m    \u001b[0m\u001b[2;38;2;249;38;114;48;2;39;40;34mname\u001b[0m\u001b[2;38;2;248;248;242;48;2;39;40;34m:\u001b[0m\u001b[2;38;2;248;248;242;48;2;39;40;34m \u001b[0m\u001b[2;48;2;39;40;34mExtant_family_10_1024\u001b[0m\u001b[2;48;2;39;40;34m                                                          \u001b[0m\n",
       "\u001b[2m│   \u001b[0m\u001b[2m    \u001b[0m\u001b[2;38;2;249;38;114;48;2;39;40;34mbatch_size\u001b[0m\u001b[2;38;2;248;248;242;48;2;39;40;34m:\u001b[0m\u001b[2;38;2;248;248;242;48;2;39;40;34m \u001b[0m\u001b[2;48;2;39;40;34m8\u001b[0m\u001b[2;48;2;39;40;34m                                                                        \u001b[0m\n",
       "\u001b[2m│   \u001b[0m\u001b[2m    \u001b[0m\u001b[2;38;2;249;38;114;48;2;39;40;34mval_split\u001b[0m\u001b[2;38;2;248;248;242;48;2;39;40;34m:\u001b[0m\u001b[2;38;2;248;248;242;48;2;39;40;34m \u001b[0m\u001b[2;48;2;39;40;34m0.2\u001b[0m\u001b[2;48;2;39;40;34m                                                                       \u001b[0m\n",
       "\u001b[2m│   \u001b[0m\u001b[2m    \u001b[0m\u001b[2;38;2;249;38;114;48;2;39;40;34mclasses\u001b[0m\u001b[2;38;2;248;248;242;48;2;39;40;34m:\u001b[0m\u001b[2;48;2;39;40;34m                                                                             \u001b[0m\n",
       "\u001b[2m│   \u001b[0m\u001b[2m    \u001b[0m\u001b[2;48;2;39;40;34m-\u001b[0m\u001b[2;38;2;248;248;242;48;2;39;40;34m \u001b[0m\u001b[2;48;2;39;40;34mAcanthaceae\u001b[0m\u001b[2;48;2;39;40;34m                                                                        \u001b[0m\n",
       "\u001b[2m│   \u001b[0m\u001b[2m    \u001b[0m\u001b[2;48;2;39;40;34m-\u001b[0m\u001b[2;38;2;248;248;242;48;2;39;40;34m \u001b[0m\u001b[2;48;2;39;40;34mAchariaceae\u001b[0m\u001b[2;48;2;39;40;34m                                                                        \u001b[0m\n",
       "\u001b[2m│   \u001b[0m\u001b[2m    \u001b[0m\u001b[2;48;2;39;40;34m-\u001b[0m\u001b[2;38;2;248;248;242;48;2;39;40;34m \u001b[0m\u001b[2;48;2;39;40;34mAchatocarpaceae\u001b[0m\u001b[2;48;2;39;40;34m                                                                    \u001b[0m\n",
       "\u001b[2m│   \u001b[0m\u001b[2m    \u001b[0m\u001b[2;48;2;39;40;34m-\u001b[0m\u001b[2;38;2;248;248;242;48;2;39;40;34m \u001b[0m\u001b[2;48;2;39;40;34mActinidiaceae\u001b[0m\u001b[2;48;2;39;40;34m                                                                      \u001b[0m\n",
       "\u001b[2m│   \u001b[0m\u001b[2m    \u001b[0m\u001b[2;48;2;39;40;34m-\u001b[0m\u001b[2;38;2;248;248;242;48;2;39;40;34m \u001b[0m\u001b[2;48;2;39;40;34mAdoxaceae\u001b[0m\u001b[2;48;2;39;40;34m                                                                          \u001b[0m\n",
       "\u001b[2m│   \u001b[0m\u001b[2m    \u001b[0m\u001b[2;48;2;39;40;34m-\u001b[0m\u001b[2;38;2;248;248;242;48;2;39;40;34m \u001b[0m\u001b[2;48;2;39;40;34mAltiingiaceae\u001b[0m\u001b[2;48;2;39;40;34m                                                                      \u001b[0m\n",
       "\u001b[2m│   \u001b[0m\u001b[2m    \u001b[0m\u001b[2;48;2;39;40;34m-\u001b[0m\u001b[2;38;2;248;248;242;48;2;39;40;34m \u001b[0m\u001b[2;48;2;39;40;34mAltingiaceae\u001b[0m\u001b[2;48;2;39;40;34m                                                                       \u001b[0m\n",
       "\u001b[2m│   \u001b[0m\u001b[2m    \u001b[0m\u001b[2;48;2;39;40;34m-\u001b[0m\u001b[2;38;2;248;248;242;48;2;39;40;34m \u001b[0m\u001b[2;48;2;39;40;34mAmaranthaceae\u001b[0m\u001b[2;48;2;39;40;34m                                                                      \u001b[0m\n",
       "\u001b[2m│   \u001b[0m\u001b[2m    \u001b[0m\u001b[2;48;2;39;40;34m-\u001b[0m\u001b[2;38;2;248;248;242;48;2;39;40;34m \u001b[0m\u001b[2;48;2;39;40;34mAnacardiaceae\u001b[0m\u001b[2;48;2;39;40;34m                                                                      \u001b[0m\n",
       "\u001b[2m│   \u001b[0m\u001b[2m    \u001b[0m\u001b[2;48;2;39;40;34m-\u001b[0m\u001b[2;38;2;248;248;242;48;2;39;40;34m \u001b[0m\u001b[2;48;2;39;40;34mAncistrocladaceae\u001b[0m\u001b[2;48;2;39;40;34m                                                                  \u001b[0m\n",
       "\u001b[2m│   \u001b[0m\u001b[2m    \u001b[0m\u001b[2;48;2;39;40;34m-\u001b[0m\u001b[2;38;2;248;248;242;48;2;39;40;34m \u001b[0m\u001b[2;48;2;39;40;34mAnisophylleaceae\u001b[0m\u001b[2;48;2;39;40;34m                                                                   \u001b[0m\n",
       "\u001b[2m│   \u001b[0m\u001b[2m    \u001b[0m\u001b[2;48;2;39;40;34m-\u001b[0m\u001b[2;38;2;248;248;242;48;2;39;40;34m \u001b[0m\u001b[2;48;2;39;40;34mAnnonaceae\u001b[0m\u001b[2;48;2;39;40;34m                                                                         \u001b[0m\n",
       "\u001b[2m│   \u001b[0m\u001b[2m    \u001b[0m\u001b[2;48;2;39;40;34m-\u001b[0m\u001b[2;38;2;248;248;242;48;2;39;40;34m \u001b[0m\u001b[2;48;2;39;40;34mApiaceae\u001b[0m\u001b[2;48;2;39;40;34m                                                                           \u001b[0m\n",
       "\u001b[2m│   \u001b[0m\u001b[2m    \u001b[0m\u001b[2;48;2;39;40;34m-\u001b[0m\u001b[2;38;2;248;248;242;48;2;39;40;34m \u001b[0m\u001b[2;48;2;39;40;34mApocynaceae\u001b[0m\u001b[2;48;2;39;40;34m                                                                        \u001b[0m\n",
       "\u001b[2m│   \u001b[0m\u001b[2m    \u001b[0m\u001b[2;48;2;39;40;34m-\u001b[0m\u001b[2;38;2;248;248;242;48;2;39;40;34m \u001b[0m\u001b[2;48;2;39;40;34mAquifoliaceae\u001b[0m\u001b[2;48;2;39;40;34m                                                                      \u001b[0m\n",
       "\u001b[2m│   \u001b[0m\u001b[2m    \u001b[0m\u001b[2;48;2;39;40;34m-\u001b[0m\u001b[2;38;2;248;248;242;48;2;39;40;34m \u001b[0m\u001b[2;48;2;39;40;34mAraliaceae\u001b[0m\u001b[2;48;2;39;40;34m                                                                         \u001b[0m\n",
       "\u001b[2m│   \u001b[0m\u001b[2m    \u001b[0m\u001b[2;48;2;39;40;34m-\u001b[0m\u001b[2;38;2;248;248;242;48;2;39;40;34m \u001b[0m\u001b[2;48;2;39;40;34mArgophyllaceae\u001b[0m\u001b[2;48;2;39;40;34m                                                                     \u001b[0m\n",
       "\u001b[2m│   \u001b[0m\u001b[2m    \u001b[0m\u001b[2;48;2;39;40;34m-\u001b[0m\u001b[2;38;2;248;248;242;48;2;39;40;34m \u001b[0m\u001b[2;48;2;39;40;34mAristolochiaceae\u001b[0m\u001b[2;48;2;39;40;34m                                                                   \u001b[0m\n",
       "\u001b[2m│   \u001b[0m\u001b[2m    \u001b[0m\u001b[2;48;2;39;40;34m-\u001b[0m\u001b[2;38;2;248;248;242;48;2;39;40;34m \u001b[0m\u001b[2;48;2;39;40;34mAsteraceae\u001b[0m\u001b[2;48;2;39;40;34m                                                                         \u001b[0m\n",
       "\u001b[2m│   \u001b[0m\u001b[2m    \u001b[0m\u001b[2;48;2;39;40;34m-\u001b[0m\u001b[2;38;2;248;248;242;48;2;39;40;34m \u001b[0m\u001b[2;48;2;39;40;34mAtherospermataceae\u001b[0m\u001b[2;48;2;39;40;34m                                                                 \u001b[0m\n",
       "\u001b[2m│   \u001b[0m\u001b[2m    \u001b[0m\u001b[2;48;2;39;40;34m-\u001b[0m\u001b[2;38;2;248;248;242;48;2;39;40;34m \u001b[0m\u001b[2;48;2;39;40;34mBalanopaceae\u001b[0m\u001b[2;48;2;39;40;34m                                                                       \u001b[0m\n",
       "\u001b[2m│   \u001b[0m\u001b[2m    \u001b[0m\u001b[2;48;2;39;40;34m-\u001b[0m\u001b[2;38;2;248;248;242;48;2;39;40;34m \u001b[0m\u001b[2;48;2;39;40;34mBalsaminaceae\u001b[0m\u001b[2;48;2;39;40;34m                                                                      \u001b[0m\n",
       "\u001b[2m│   \u001b[0m\u001b[2m    \u001b[0m\u001b[2;48;2;39;40;34m-\u001b[0m\u001b[2;38;2;248;248;242;48;2;39;40;34m \u001b[0m\u001b[2;48;2;39;40;34mBerberidaceae\u001b[0m\u001b[2;48;2;39;40;34m                                                                      \u001b[0m\n",
       "\u001b[2m│   \u001b[0m\u001b[2m    \u001b[0m\u001b[2;48;2;39;40;34m-\u001b[0m\u001b[2;38;2;248;248;242;48;2;39;40;34m \u001b[0m\u001b[2;48;2;39;40;34mBetulaceae\u001b[0m\u001b[2;48;2;39;40;34m                                                                         \u001b[0m\n",
       "\u001b[2m│   \u001b[0m\u001b[2m    \u001b[0m\u001b[2;48;2;39;40;34m-\u001b[0m\u001b[2;38;2;248;248;242;48;2;39;40;34m \u001b[0m\u001b[2;48;2;39;40;34mBignoniaceae\u001b[0m\u001b[2;48;2;39;40;34m                                                                       \u001b[0m\n",
       "\u001b[2m│   \u001b[0m\u001b[2m    \u001b[0m\u001b[2;48;2;39;40;34m-\u001b[0m\u001b[2;38;2;248;248;242;48;2;39;40;34m \u001b[0m\u001b[2;48;2;39;40;34mBixaceae\u001b[0m\u001b[2;48;2;39;40;34m                                                                           \u001b[0m\n",
       "\u001b[2m│   \u001b[0m\u001b[2m    \u001b[0m\u001b[2;48;2;39;40;34m-\u001b[0m\u001b[2;38;2;248;248;242;48;2;39;40;34m \u001b[0m\u001b[2;48;2;39;40;34mBonnetiaceae\u001b[0m\u001b[2;48;2;39;40;34m                                                                       \u001b[0m\n",
       "\u001b[2m│   \u001b[0m\u001b[2m    \u001b[0m\u001b[2;48;2;39;40;34m-\u001b[0m\u001b[2;38;2;248;248;242;48;2;39;40;34m \u001b[0m\u001b[2;48;2;39;40;34mBoraginaceae\u001b[0m\u001b[2;48;2;39;40;34m                                                                       \u001b[0m\n",
       "\u001b[2m│   \u001b[0m\u001b[2m    \u001b[0m\u001b[2;48;2;39;40;34m-\u001b[0m\u001b[2;38;2;248;248;242;48;2;39;40;34m \u001b[0m\u001b[2;48;2;39;40;34mBrunelliaceae\u001b[0m\u001b[2;48;2;39;40;34m                                                                      \u001b[0m\n",
       "\u001b[2m│   \u001b[0m\u001b[2m    \u001b[0m\u001b[2;48;2;39;40;34m-\u001b[0m\u001b[2;38;2;248;248;242;48;2;39;40;34m \u001b[0m\u001b[2;48;2;39;40;34mBurseraceae\u001b[0m\u001b[2;48;2;39;40;34m                                                                        \u001b[0m\n",
       "\u001b[2m│   \u001b[0m\u001b[2m    \u001b[0m\u001b[2;48;2;39;40;34m-\u001b[0m\u001b[2;38;2;248;248;242;48;2;39;40;34m \u001b[0m\u001b[2;48;2;39;40;34mBuxaceae\u001b[0m\u001b[2;48;2;39;40;34m                                                                           \u001b[0m\n",
       "\u001b[2m│   \u001b[0m\u001b[2m    \u001b[0m\u001b[2;48;2;39;40;34m-\u001b[0m\u001b[2;38;2;248;248;242;48;2;39;40;34m \u001b[0m\u001b[2;48;2;39;40;34mCalophyllaceae\u001b[0m\u001b[2;48;2;39;40;34m                                                                     \u001b[0m\n",
       "\u001b[2m│   \u001b[0m\u001b[2m    \u001b[0m\u001b[2;48;2;39;40;34m-\u001b[0m\u001b[2;38;2;248;248;242;48;2;39;40;34m \u001b[0m\u001b[2;48;2;39;40;34mCalycanthaceae\u001b[0m\u001b[2;48;2;39;40;34m                                                                     \u001b[0m\n",
       "\u001b[2m│   \u001b[0m\u001b[2m    \u001b[0m\u001b[2;48;2;39;40;34m-\u001b[0m\u001b[2;38;2;248;248;242;48;2;39;40;34m \u001b[0m\u001b[2;48;2;39;40;34mCampanulaceae\u001b[0m\u001b[2;48;2;39;40;34m                                                                      \u001b[0m\n",
       "\u001b[2m│   \u001b[0m\u001b[2m    \u001b[0m\u001b[2;48;2;39;40;34m-\u001b[0m\u001b[2;38;2;248;248;242;48;2;39;40;34m \u001b[0m\u001b[2;48;2;39;40;34mCanellaceae\u001b[0m\u001b[2;48;2;39;40;34m                                                                        \u001b[0m\n",
       "\u001b[2m│   \u001b[0m\u001b[2m    \u001b[0m\u001b[2;48;2;39;40;34m-\u001b[0m\u001b[2;38;2;248;248;242;48;2;39;40;34m \u001b[0m\u001b[2;48;2;39;40;34mCannabaceae\u001b[0m\u001b[2;48;2;39;40;34m                                                                        \u001b[0m\n",
       "\u001b[2m│   \u001b[0m\u001b[2m    \u001b[0m\u001b[2;48;2;39;40;34m-\u001b[0m\u001b[2;38;2;248;248;242;48;2;39;40;34m \u001b[0m\u001b[2;48;2;39;40;34mCapparaceae\u001b[0m\u001b[2;48;2;39;40;34m                                                                        \u001b[0m\n",
       "\u001b[2m│   \u001b[0m\u001b[2m    \u001b[0m\u001b[2;48;2;39;40;34m-\u001b[0m\u001b[2;38;2;248;248;242;48;2;39;40;34m \u001b[0m\u001b[2;48;2;39;40;34mCaprifoliaceae\u001b[0m\u001b[2;48;2;39;40;34m                                                                     \u001b[0m\n",
       "\u001b[2m│   \u001b[0m\u001b[2m    \u001b[0m\u001b[2;48;2;39;40;34m-\u001b[0m\u001b[2;38;2;248;248;242;48;2;39;40;34m \u001b[0m\u001b[2;48;2;39;40;34mCardiopteridaceae\u001b[0m\u001b[2;48;2;39;40;34m                                                                  \u001b[0m\n",
       "\u001b[2m│   \u001b[0m\u001b[2m    \u001b[0m\u001b[2;48;2;39;40;34m-\u001b[0m\u001b[2;38;2;248;248;242;48;2;39;40;34m \u001b[0m\u001b[2;48;2;39;40;34mCaricaceae\u001b[0m\u001b[2;48;2;39;40;34m                                                                         \u001b[0m\n",
       "\u001b[2m│   \u001b[0m\u001b[2m    \u001b[0m\u001b[2;48;2;39;40;34m-\u001b[0m\u001b[2;38;2;248;248;242;48;2;39;40;34m \u001b[0m\u001b[2;48;2;39;40;34mCaryocaraceae\u001b[0m\u001b[2;48;2;39;40;34m                                                                      \u001b[0m\n",
       "\u001b[2m│   \u001b[0m\u001b[2m    \u001b[0m\u001b[2;48;2;39;40;34m-\u001b[0m\u001b[2;38;2;248;248;242;48;2;39;40;34m \u001b[0m\u001b[2;48;2;39;40;34mCelastraceae\u001b[0m\u001b[2;48;2;39;40;34m                                                                       \u001b[0m\n",
       "\u001b[2m│   \u001b[0m\u001b[2m    \u001b[0m\u001b[2;48;2;39;40;34m-\u001b[0m\u001b[2;38;2;248;248;242;48;2;39;40;34m \u001b[0m\u001b[2;48;2;39;40;34mCentroplacaceae\u001b[0m\u001b[2;48;2;39;40;34m                                                                    \u001b[0m\n",
       "\u001b[2m│   \u001b[0m\u001b[2m    \u001b[0m\u001b[2;48;2;39;40;34m-\u001b[0m\u001b[2;38;2;248;248;242;48;2;39;40;34m \u001b[0m\u001b[2;48;2;39;40;34mCercidiphyllaceae\u001b[0m\u001b[2;48;2;39;40;34m                                                                  \u001b[0m\n",
       "\u001b[2m│   \u001b[0m\u001b[2m    \u001b[0m\u001b[2;48;2;39;40;34m-\u001b[0m\u001b[2;38;2;248;248;242;48;2;39;40;34m \u001b[0m\u001b[2;48;2;39;40;34mChloranthaceae\u001b[0m\u001b[2;48;2;39;40;34m                                                                     \u001b[0m\n",
       "\u001b[2m│   \u001b[0m\u001b[2m    \u001b[0m\u001b[2;48;2;39;40;34m-\u001b[0m\u001b[2;38;2;248;248;242;48;2;39;40;34m \u001b[0m\u001b[2;48;2;39;40;34mChrysobalanaceae\u001b[0m\u001b[2;48;2;39;40;34m                                                                   \u001b[0m\n",
       "\u001b[2m│   \u001b[0m\u001b[2m    \u001b[0m\u001b[2;48;2;39;40;34m-\u001b[0m\u001b[2;38;2;248;248;242;48;2;39;40;34m \u001b[0m\u001b[2;48;2;39;40;34mClethraceae\u001b[0m\u001b[2;48;2;39;40;34m                                                                        \u001b[0m\n",
       "\u001b[2m│   \u001b[0m\u001b[2m    \u001b[0m\u001b[2;48;2;39;40;34m-\u001b[0m\u001b[2;38;2;248;248;242;48;2;39;40;34m \u001b[0m\u001b[2;48;2;39;40;34mClusiaceae\u001b[0m\u001b[2;48;2;39;40;34m                                                                         \u001b[0m\n",
       "\u001b[2m│   \u001b[0m\u001b[2m    \u001b[0m\u001b[2;48;2;39;40;34m-\u001b[0m\u001b[2;38;2;248;248;242;48;2;39;40;34m \u001b[0m\u001b[2;48;2;39;40;34mCombretaceae\u001b[0m\u001b[2;48;2;39;40;34m                                                                       \u001b[0m\n",
       "\u001b[2m│   \u001b[0m\u001b[2m    \u001b[0m\u001b[2;48;2;39;40;34m-\u001b[0m\u001b[2;38;2;248;248;242;48;2;39;40;34m \u001b[0m\u001b[2;48;2;39;40;34mConnaraceae\u001b[0m\u001b[2;48;2;39;40;34m                                                                        \u001b[0m\n",
       "\u001b[2m│   \u001b[0m\u001b[2m    \u001b[0m\u001b[2;48;2;39;40;34m-\u001b[0m\u001b[2;38;2;248;248;242;48;2;39;40;34m \u001b[0m\u001b[2;48;2;39;40;34mCoriariaceae\u001b[0m\u001b[2;48;2;39;40;34m                                                                       \u001b[0m\n",
       "\u001b[2m│   \u001b[0m\u001b[2m    \u001b[0m\u001b[2;48;2;39;40;34m-\u001b[0m\u001b[2;38;2;248;248;242;48;2;39;40;34m \u001b[0m\u001b[2;48;2;39;40;34mCornaceae\u001b[0m\u001b[2;48;2;39;40;34m                                                                          \u001b[0m\n",
       "\u001b[2m│   \u001b[0m\u001b[2m    \u001b[0m\u001b[2;48;2;39;40;34m-\u001b[0m\u001b[2;38;2;248;248;242;48;2;39;40;34m \u001b[0m\u001b[2;48;2;39;40;34mCrassulaceae\u001b[0m\u001b[2;48;2;39;40;34m                                                                       \u001b[0m\n",
       "\u001b[2m│   \u001b[0m\u001b[2m    \u001b[0m\u001b[2;48;2;39;40;34m-\u001b[0m\u001b[2;38;2;248;248;242;48;2;39;40;34m \u001b[0m\u001b[2;48;2;39;40;34mCrossosomataceae\u001b[0m\u001b[2;48;2;39;40;34m                                                                   \u001b[0m\n",
       "\u001b[2m│   \u001b[0m\u001b[2m    \u001b[0m\u001b[2;48;2;39;40;34m-\u001b[0m\u001b[2;38;2;248;248;242;48;2;39;40;34m \u001b[0m\u001b[2;48;2;39;40;34mCucurbitaceae\u001b[0m\u001b[2;48;2;39;40;34m                                                                      \u001b[0m\n",
       "\u001b[2m│   \u001b[0m\u001b[2m    \u001b[0m\u001b[2;48;2;39;40;34m-\u001b[0m\u001b[2;38;2;248;248;242;48;2;39;40;34m \u001b[0m\u001b[2;48;2;39;40;34mCunoniaceae\u001b[0m\u001b[2;48;2;39;40;34m                                                                        \u001b[0m\n",
       "\u001b[2m│   \u001b[0m\u001b[2m    \u001b[0m\u001b[2;48;2;39;40;34m-\u001b[0m\u001b[2;38;2;248;248;242;48;2;39;40;34m \u001b[0m\u001b[2;48;2;39;40;34mDichapetalaceae\u001b[0m\u001b[2;48;2;39;40;34m                                                                    \u001b[0m\n",
       "\u001b[2m│   \u001b[0m\u001b[2m    \u001b[0m\u001b[2;48;2;39;40;34m-\u001b[0m\u001b[2;38;2;248;248;242;48;2;39;40;34m \u001b[0m\u001b[2;48;2;39;40;34mDilleniaceae\u001b[0m\u001b[2;48;2;39;40;34m                                                                       \u001b[0m\n",
       "\u001b[2m│   \u001b[0m\u001b[2m    \u001b[0m\u001b[2;48;2;39;40;34m-\u001b[0m\u001b[2;38;2;248;248;242;48;2;39;40;34m \u001b[0m\u001b[2;48;2;39;40;34mDipterocarpaceae\u001b[0m\u001b[2;48;2;39;40;34m                                                                   \u001b[0m\n",
       "\u001b[2m│   \u001b[0m\u001b[2m    \u001b[0m\u001b[2;48;2;39;40;34m-\u001b[0m\u001b[2;38;2;248;248;242;48;2;39;40;34m \u001b[0m\u001b[2;48;2;39;40;34mEbenaceae\u001b[0m\u001b[2;48;2;39;40;34m                                                                          \u001b[0m\n",
       "\u001b[2m│   \u001b[0m\u001b[2m    \u001b[0m\u001b[2;48;2;39;40;34m-\u001b[0m\u001b[2;38;2;248;248;242;48;2;39;40;34m \u001b[0m\u001b[2;48;2;39;40;34mElaeocarpaceae\u001b[0m\u001b[2;48;2;39;40;34m                                                                     \u001b[0m\n",
       "\u001b[2m│   \u001b[0m\u001b[2m    \u001b[0m\u001b[2;48;2;39;40;34m-\u001b[0m\u001b[2;38;2;248;248;242;48;2;39;40;34m \u001b[0m\u001b[2;48;2;39;40;34mEricaceae\u001b[0m\u001b[2;48;2;39;40;34m                                                                          \u001b[0m\n",
       "\u001b[2m│   \u001b[0m\u001b[2m    \u001b[0m\u001b[2;48;2;39;40;34m-\u001b[0m\u001b[2;38;2;248;248;242;48;2;39;40;34m \u001b[0m\u001b[2;48;2;39;40;34mErythroxylaceae\u001b[0m\u001b[2;48;2;39;40;34m                                                                    \u001b[0m\n",
       "\u001b[2m│   \u001b[0m\u001b[2m    \u001b[0m\u001b[2;48;2;39;40;34m-\u001b[0m\u001b[2;38;2;248;248;242;48;2;39;40;34m \u001b[0m\u001b[2;48;2;39;40;34mEscalloniaceae\u001b[0m\u001b[2;48;2;39;40;34m                                                                     \u001b[0m\n",
       "\u001b[2m│   \u001b[0m\u001b[2m    \u001b[0m\u001b[2;48;2;39;40;34m-\u001b[0m\u001b[2;38;2;248;248;242;48;2;39;40;34m \u001b[0m\u001b[2;48;2;39;40;34mEucommiaceae\u001b[0m\u001b[2;48;2;39;40;34m                                                                       \u001b[0m\n",
       "\u001b[2m│   \u001b[0m\u001b[2m    \u001b[0m\u001b[2;48;2;39;40;34m-\u001b[0m\u001b[2;38;2;248;248;242;48;2;39;40;34m \u001b[0m\u001b[2;48;2;39;40;34mEuphorbiaceae\u001b[0m\u001b[2;48;2;39;40;34m                                                                      \u001b[0m\n",
       "\u001b[2m│   \u001b[0m\u001b[2m    \u001b[0m\u001b[2;48;2;39;40;34m-\u001b[0m\u001b[2;38;2;248;248;242;48;2;39;40;34m \u001b[0m\u001b[2;48;2;39;40;34mFabaceae\u001b[0m\u001b[2;48;2;39;40;34m                                                                           \u001b[0m\n",
       "\u001b[2m│   \u001b[0m\u001b[2m    \u001b[0m\u001b[2;48;2;39;40;34m-\u001b[0m\u001b[2;38;2;248;248;242;48;2;39;40;34m \u001b[0m\u001b[2;48;2;39;40;34mFagaceae\u001b[0m\u001b[2;48;2;39;40;34m                                                                           \u001b[0m\n",
       "\u001b[2m│   \u001b[0m\u001b[2m    \u001b[0m\u001b[2;48;2;39;40;34m-\u001b[0m\u001b[2;38;2;248;248;242;48;2;39;40;34m \u001b[0m\u001b[2;48;2;39;40;34mGarryaceae\u001b[0m\u001b[2;48;2;39;40;34m                                                                         \u001b[0m\n",
       "\u001b[2m│   \u001b[0m\u001b[2m    \u001b[0m\u001b[2;48;2;39;40;34m-\u001b[0m\u001b[2;38;2;248;248;242;48;2;39;40;34m \u001b[0m\u001b[2;48;2;39;40;34mGentianaceae\u001b[0m\u001b[2;48;2;39;40;34m                                                                       \u001b[0m\n",
       "\u001b[2m│   \u001b[0m\u001b[2m    \u001b[0m\u001b[2;48;2;39;40;34m-\u001b[0m\u001b[2;38;2;248;248;242;48;2;39;40;34m \u001b[0m\u001b[2;48;2;39;40;34mGeraniaceae\u001b[0m\u001b[2;48;2;39;40;34m                                                                        \u001b[0m\n",
       "\u001b[2m│   \u001b[0m\u001b[2m    \u001b[0m\u001b[2;48;2;39;40;34m-\u001b[0m\u001b[2;38;2;248;248;242;48;2;39;40;34m \u001b[0m\u001b[2;48;2;39;40;34mGesneriaceae\u001b[0m\u001b[2;48;2;39;40;34m                                                                       \u001b[0m\n",
       "\u001b[2m│   \u001b[0m\u001b[2m    \u001b[0m\u001b[2;48;2;39;40;34m-\u001b[0m\u001b[2;38;2;248;248;242;48;2;39;40;34m \u001b[0m\u001b[2;48;2;39;40;34mGnetaceae\u001b[0m\u001b[2;48;2;39;40;34m                                                                          \u001b[0m\n",
       "\u001b[2m│   \u001b[0m\u001b[2m    \u001b[0m\u001b[2;48;2;39;40;34m-\u001b[0m\u001b[2;38;2;248;248;242;48;2;39;40;34m \u001b[0m\u001b[2;48;2;39;40;34mGrossulariaceae\u001b[0m\u001b[2;48;2;39;40;34m                                                                    \u001b[0m\n",
       "\u001b[2m│   \u001b[0m\u001b[2m    \u001b[0m\u001b[2;48;2;39;40;34m-\u001b[0m\u001b[2;38;2;248;248;242;48;2;39;40;34m \u001b[0m\u001b[2;48;2;39;40;34mGunneraceae\u001b[0m\u001b[2;48;2;39;40;34m                                                                        \u001b[0m\n",
       "\u001b[2m│   \u001b[0m\u001b[2m    \u001b[0m\u001b[2;48;2;39;40;34m-\u001b[0m\u001b[2;38;2;248;248;242;48;2;39;40;34m \u001b[0m\u001b[2;48;2;39;40;34mHamamelidaceae\u001b[0m\u001b[2;48;2;39;40;34m                                                                     \u001b[0m\n",
       "\u001b[2m│   \u001b[0m\u001b[2m    \u001b[0m\u001b[2;48;2;39;40;34m-\u001b[0m\u001b[2;38;2;248;248;242;48;2;39;40;34m \u001b[0m\u001b[2;48;2;39;40;34mHernandiaceae\u001b[0m\u001b[2;48;2;39;40;34m                                                                      \u001b[0m\n",
       "\u001b[2m│   \u001b[0m\u001b[2m    \u001b[0m\u001b[2;48;2;39;40;34m-\u001b[0m\u001b[2;38;2;248;248;242;48;2;39;40;34m \u001b[0m\u001b[2;48;2;39;40;34mHumiriaceae\u001b[0m\u001b[2;48;2;39;40;34m                                                                        \u001b[0m\n",
       "\u001b[2m│   \u001b[0m\u001b[2m    \u001b[0m\u001b[2;48;2;39;40;34m-\u001b[0m\u001b[2;38;2;248;248;242;48;2;39;40;34m \u001b[0m\u001b[2;48;2;39;40;34mHydrangeaceae\u001b[0m\u001b[2;48;2;39;40;34m                                                                      \u001b[0m\n",
       "\u001b[2m│   \u001b[0m\u001b[2m    \u001b[0m\u001b[2;48;2;39;40;34m-\u001b[0m\u001b[2;38;2;248;248;242;48;2;39;40;34m \u001b[0m\u001b[2;48;2;39;40;34mHypericaceae\u001b[0m\u001b[2;48;2;39;40;34m                                                                       \u001b[0m\n",
       "\u001b[2m│   \u001b[0m\u001b[2m    \u001b[0m\u001b[2;48;2;39;40;34m-\u001b[0m\u001b[2;38;2;248;248;242;48;2;39;40;34m \u001b[0m\u001b[2;48;2;39;40;34mIcacinaceae\u001b[0m\u001b[2;48;2;39;40;34m                                                                        \u001b[0m\n",
       "\u001b[2m│   \u001b[0m\u001b[2m    \u001b[0m\u001b[2;48;2;39;40;34m-\u001b[0m\u001b[2;38;2;248;248;242;48;2;39;40;34m \u001b[0m\u001b[2;48;2;39;40;34mIrvingiaceae\u001b[0m\u001b[2;48;2;39;40;34m                                                                       \u001b[0m\n",
       "\u001b[2m│   \u001b[0m\u001b[2m    \u001b[0m\u001b[2;48;2;39;40;34m-\u001b[0m\u001b[2;38;2;248;248;242;48;2;39;40;34m \u001b[0m\u001b[2;48;2;39;40;34mIteaceae\u001b[0m\u001b[2;48;2;39;40;34m                                                                           \u001b[0m\n",
       "\u001b[2m│   \u001b[0m\u001b[2m    \u001b[0m\u001b[2;48;2;39;40;34m-\u001b[0m\u001b[2;38;2;248;248;242;48;2;39;40;34m \u001b[0m\u001b[2;48;2;39;40;34mIxonanthaceae\u001b[0m\u001b[2;48;2;39;40;34m                                                                      \u001b[0m\n",
       "\u001b[2m│   \u001b[0m\u001b[2m    \u001b[0m\u001b[2;48;2;39;40;34m-\u001b[0m\u001b[2;38;2;248;248;242;48;2;39;40;34m \u001b[0m\u001b[2;48;2;39;40;34mJuglandaceae\u001b[0m\u001b[2;48;2;39;40;34m                                                                       \u001b[0m\n",
       "\u001b[2m│   \u001b[0m\u001b[2m    \u001b[0m\u001b[2;48;2;39;40;34m-\u001b[0m\u001b[2;38;2;248;248;242;48;2;39;40;34m \u001b[0m\u001b[2;48;2;39;40;34mLamiaceae\u001b[0m\u001b[2;48;2;39;40;34m                                                                          \u001b[0m\n",
       "\u001b[2m│   \u001b[0m\u001b[2m    \u001b[0m\u001b[2;48;2;39;40;34m-\u001b[0m\u001b[2;38;2;248;248;242;48;2;39;40;34m \u001b[0m\u001b[2;48;2;39;40;34mLardizabalaceae\u001b[0m\u001b[2;48;2;39;40;34m                                                                    \u001b[0m\n",
       "\u001b[2m│   \u001b[0m\u001b[2m    \u001b[0m\u001b[2;48;2;39;40;34m-\u001b[0m\u001b[2;38;2;248;248;242;48;2;39;40;34m \u001b[0m\u001b[2;48;2;39;40;34mLauraceae\u001b[0m\u001b[2;48;2;39;40;34m                                                                          \u001b[0m\n",
       "\u001b[2m│   \u001b[0m\u001b[2m    \u001b[0m\u001b[2;48;2;39;40;34m-\u001b[0m\u001b[2;38;2;248;248;242;48;2;39;40;34m \u001b[0m\u001b[2;48;2;39;40;34mLecythidaceae\u001b[0m\u001b[2;48;2;39;40;34m                                                                      \u001b[0m\n",
       "\u001b[2m│   \u001b[0m\u001b[2m    \u001b[0m\u001b[2;48;2;39;40;34m-\u001b[0m\u001b[2;38;2;248;248;242;48;2;39;40;34m \u001b[0m\u001b[2;48;2;39;40;34mLiliaceae\u001b[0m\u001b[2;48;2;39;40;34m                                                                          \u001b[0m\n",
       "\u001b[2m│   \u001b[0m\u001b[2m    \u001b[0m\u001b[2;48;2;39;40;34m-\u001b[0m\u001b[2;38;2;248;248;242;48;2;39;40;34m \u001b[0m\u001b[2;48;2;39;40;34mLinaceae\u001b[0m\u001b[2;48;2;39;40;34m                                                                           \u001b[0m\n",
       "\u001b[2m│   \u001b[0m\u001b[2m    \u001b[0m\u001b[2;48;2;39;40;34m-\u001b[0m\u001b[2;38;2;248;248;242;48;2;39;40;34m \u001b[0m\u001b[2;48;2;39;40;34mLoganiaceae\u001b[0m\u001b[2;48;2;39;40;34m                                                                        \u001b[0m\n",
       "\u001b[2m│   \u001b[0m\u001b[2m    \u001b[0m\u001b[2;48;2;39;40;34m-\u001b[0m\u001b[2;38;2;248;248;242;48;2;39;40;34m \u001b[0m\u001b[2;48;2;39;40;34mLoranthaceae\u001b[0m\u001b[2;48;2;39;40;34m                                                                       \u001b[0m\n",
       "\u001b[2m│   \u001b[0m\u001b[2m    \u001b[0m\u001b[2;48;2;39;40;34m-\u001b[0m\u001b[2;38;2;248;248;242;48;2;39;40;34m \u001b[0m\u001b[2;48;2;39;40;34mLythraceae\u001b[0m\u001b[2;48;2;39;40;34m                                                                         \u001b[0m\n",
       "\u001b[2m│   \u001b[0m\u001b[2m    \u001b[0m\u001b[2;48;2;39;40;34m-\u001b[0m\u001b[2;38;2;248;248;242;48;2;39;40;34m \u001b[0m\u001b[2;48;2;39;40;34mMagnoliaceae\u001b[0m\u001b[2;48;2;39;40;34m                                                                       \u001b[0m\n",
       "\u001b[2m│   \u001b[0m\u001b[2m    \u001b[0m\u001b[2;48;2;39;40;34m-\u001b[0m\u001b[2;38;2;248;248;242;48;2;39;40;34m \u001b[0m\u001b[2;48;2;39;40;34mMalpighiaceae\u001b[0m\u001b[2;48;2;39;40;34m                                                                      \u001b[0m\n",
       "\u001b[2m│   \u001b[0m\u001b[2m    \u001b[0m\u001b[2;48;2;39;40;34m-\u001b[0m\u001b[2;38;2;248;248;242;48;2;39;40;34m \u001b[0m\u001b[2;48;2;39;40;34mMalvaceae\u001b[0m\u001b[2;48;2;39;40;34m                                                                          \u001b[0m\n",
       "\u001b[2m│   \u001b[0m\u001b[2m    \u001b[0m\u001b[2;48;2;39;40;34m-\u001b[0m\u001b[2;38;2;248;248;242;48;2;39;40;34m \u001b[0m\u001b[2;48;2;39;40;34mMarantaceae\u001b[0m\u001b[2;48;2;39;40;34m                                                                        \u001b[0m\n",
       "\u001b[2m│   \u001b[0m\u001b[2m    \u001b[0m\u001b[2;48;2;39;40;34m-\u001b[0m\u001b[2;38;2;248;248;242;48;2;39;40;34m \u001b[0m\u001b[2;48;2;39;40;34mMarcgraviaceae\u001b[0m\u001b[2;48;2;39;40;34m                                                                     \u001b[0m\n",
       "\u001b[2m│   \u001b[0m\u001b[2m    \u001b[0m\u001b[2;48;2;39;40;34m-\u001b[0m\u001b[2;38;2;248;248;242;48;2;39;40;34m \u001b[0m\u001b[2;48;2;39;40;34mMelastomataceae\u001b[0m\u001b[2;48;2;39;40;34m                                                                    \u001b[0m\n",
       "\u001b[2m│   \u001b[0m\u001b[2m    \u001b[0m\u001b[2;48;2;39;40;34m-\u001b[0m\u001b[2;38;2;248;248;242;48;2;39;40;34m \u001b[0m\u001b[2;48;2;39;40;34mMeliaceae\u001b[0m\u001b[2;48;2;39;40;34m                                                                          \u001b[0m\n",
       "\u001b[2m│   \u001b[0m\u001b[2m    \u001b[0m\u001b[2;48;2;39;40;34m-\u001b[0m\u001b[2;38;2;248;248;242;48;2;39;40;34m \u001b[0m\u001b[2;48;2;39;40;34mMelianthaceae\u001b[0m\u001b[2;48;2;39;40;34m                                                                      \u001b[0m\n",
       "\u001b[2m│   \u001b[0m\u001b[2m    \u001b[0m\u001b[2;48;2;39;40;34m-\u001b[0m\u001b[2;38;2;248;248;242;48;2;39;40;34m \u001b[0m\u001b[2;48;2;39;40;34mMenispermaceae\u001b[0m\u001b[2;48;2;39;40;34m                                                                     \u001b[0m\n",
       "\u001b[2m│   \u001b[0m\u001b[2m    \u001b[0m\u001b[2;48;2;39;40;34m-\u001b[0m\u001b[2;38;2;248;248;242;48;2;39;40;34m \u001b[0m\u001b[2;48;2;39;40;34mMonimiaceae\u001b[0m\u001b[2;48;2;39;40;34m                                                                        \u001b[0m\n",
       "\u001b[2m│   \u001b[0m\u001b[2m    \u001b[0m\u001b[2;48;2;39;40;34m-\u001b[0m\u001b[2;38;2;248;248;242;48;2;39;40;34m \u001b[0m\u001b[2;48;2;39;40;34mMoraceae\u001b[0m\u001b[2;48;2;39;40;34m                                                                           \u001b[0m\n",
       "\u001b[2m│   \u001b[0m\u001b[2m    \u001b[0m\u001b[2;48;2;39;40;34m-\u001b[0m\u001b[2;38;2;248;248;242;48;2;39;40;34m \u001b[0m\u001b[2;48;2;39;40;34mMyricaceae\u001b[0m\u001b[2;48;2;39;40;34m                                                                         \u001b[0m\n",
       "\u001b[2m│   \u001b[0m\u001b[2m    \u001b[0m\u001b[2;48;2;39;40;34m-\u001b[0m\u001b[2;38;2;248;248;242;48;2;39;40;34m \u001b[0m\u001b[2;48;2;39;40;34mMyristicaceae\u001b[0m\u001b[2;48;2;39;40;34m                                                                      \u001b[0m\n",
       "\u001b[2m│   \u001b[0m\u001b[2m    \u001b[0m\u001b[2;48;2;39;40;34m-\u001b[0m\u001b[2;38;2;248;248;242;48;2;39;40;34m \u001b[0m\u001b[2;48;2;39;40;34mMyrtaceae\u001b[0m\u001b[2;48;2;39;40;34m                                                                          \u001b[0m\n",
       "\u001b[2m│   \u001b[0m\u001b[2m    \u001b[0m\u001b[2;48;2;39;40;34m-\u001b[0m\u001b[2;38;2;248;248;242;48;2;39;40;34m \u001b[0m\u001b[2;48;2;39;40;34mNitrariaceae\u001b[0m\u001b[2;48;2;39;40;34m                                                                       \u001b[0m\n",
       "\u001b[2m│   \u001b[0m\u001b[2m    \u001b[0m\u001b[2;48;2;39;40;34m-\u001b[0m\u001b[2;38;2;248;248;242;48;2;39;40;34m \u001b[0m\u001b[2;48;2;39;40;34mNothofagaceae\u001b[0m\u001b[2;48;2;39;40;34m                                                                      \u001b[0m\n",
       "\u001b[2m│   \u001b[0m\u001b[2m    \u001b[0m\u001b[2;48;2;39;40;34m-\u001b[0m\u001b[2;38;2;248;248;242;48;2;39;40;34m \u001b[0m\u001b[2;48;2;39;40;34mNyctaginaceae\u001b[0m\u001b[2;48;2;39;40;34m                                                                      \u001b[0m\n",
       "\u001b[2m│   \u001b[0m\u001b[2m    \u001b[0m\u001b[2;48;2;39;40;34m-\u001b[0m\u001b[2;38;2;248;248;242;48;2;39;40;34m \u001b[0m\u001b[2;48;2;39;40;34mOchnaceae\u001b[0m\u001b[2;48;2;39;40;34m                                                                          \u001b[0m\n",
       "\u001b[2m│   \u001b[0m\u001b[2m    \u001b[0m\u001b[2;48;2;39;40;34m-\u001b[0m\u001b[2;38;2;248;248;242;48;2;39;40;34m \u001b[0m\u001b[2;48;2;39;40;34mOlacaceae\u001b[0m\u001b[2;48;2;39;40;34m                                                                          \u001b[0m\n",
       "\u001b[2m│   \u001b[0m\u001b[2m    \u001b[0m\u001b[2;48;2;39;40;34m-\u001b[0m\u001b[2;38;2;248;248;242;48;2;39;40;34m \u001b[0m\u001b[2;48;2;39;40;34mOleaceae\u001b[0m\u001b[2;48;2;39;40;34m                                                                           \u001b[0m\n",
       "\u001b[2m│   \u001b[0m\u001b[2m    \u001b[0m\u001b[2;48;2;39;40;34m-\u001b[0m\u001b[2;38;2;248;248;242;48;2;39;40;34m \u001b[0m\u001b[2;48;2;39;40;34mOnagraceae\u001b[0m\u001b[2;48;2;39;40;34m                                                                         \u001b[0m\n",
       "\u001b[2m│   \u001b[0m\u001b[2m    \u001b[0m\u001b[2;48;2;39;40;34m-\u001b[0m\u001b[2;38;2;248;248;242;48;2;39;40;34m \u001b[0m\u001b[2;48;2;39;40;34mOpiliaceae\u001b[0m\u001b[2;48;2;39;40;34m                                                                         \u001b[0m\n",
       "\u001b[2m│   \u001b[0m\u001b[2m    \u001b[0m\u001b[2;48;2;39;40;34m-\u001b[0m\u001b[2;38;2;248;248;242;48;2;39;40;34m \u001b[0m\u001b[2;48;2;39;40;34mOrchidaceae\u001b[0m\u001b[2;48;2;39;40;34m                                                                        \u001b[0m\n",
       "\u001b[2m│   \u001b[0m\u001b[2m    \u001b[0m\u001b[2;48;2;39;40;34m-\u001b[0m\u001b[2;38;2;248;248;242;48;2;39;40;34m \u001b[0m\u001b[2;48;2;39;40;34mOrobanchaceae\u001b[0m\u001b[2;48;2;39;40;34m                                                                      \u001b[0m\n",
       "\u001b[2m│   \u001b[0m\u001b[2m    \u001b[0m\u001b[2;48;2;39;40;34m-\u001b[0m\u001b[2;38;2;248;248;242;48;2;39;40;34m \u001b[0m\u001b[2;48;2;39;40;34mOxalidaceae\u001b[0m\u001b[2;48;2;39;40;34m                                                                        \u001b[0m\n",
       "\u001b[2m│   \u001b[0m\u001b[2m    \u001b[0m\u001b[2;48;2;39;40;34m-\u001b[0m\u001b[2;38;2;248;248;242;48;2;39;40;34m \u001b[0m\u001b[2;48;2;39;40;34mPandaceae\u001b[0m\u001b[2;48;2;39;40;34m                                                                          \u001b[0m\n",
       "\u001b[2m│   \u001b[0m\u001b[2m    \u001b[0m\u001b[2;48;2;39;40;34m-\u001b[0m\u001b[2;38;2;248;248;242;48;2;39;40;34m \u001b[0m\u001b[2;48;2;39;40;34mPapaveraceae\u001b[0m\u001b[2;48;2;39;40;34m                                                                       \u001b[0m\n",
       "\u001b[2m│   \u001b[0m\u001b[2m    \u001b[0m\u001b[2;48;2;39;40;34m-\u001b[0m\u001b[2;38;2;248;248;242;48;2;39;40;34m \u001b[0m\u001b[2;48;2;39;40;34mParacryphiaceae\u001b[0m\u001b[2;48;2;39;40;34m                                                                    \u001b[0m\n",
       "\u001b[2m│   \u001b[0m\u001b[2m    \u001b[0m\u001b[2;48;2;39;40;34m-\u001b[0m\u001b[2;38;2;248;248;242;48;2;39;40;34m \u001b[0m\u001b[2;48;2;39;40;34mPassifloraceae\u001b[0m\u001b[2;48;2;39;40;34m                                                                     \u001b[0m\n",
       "\u001b[2m│   \u001b[0m\u001b[2m    \u001b[0m\u001b[2;48;2;39;40;34m-\u001b[0m\u001b[2;38;2;248;248;242;48;2;39;40;34m \u001b[0m\u001b[2;48;2;39;40;34mPedaliaceae\u001b[0m\u001b[2;48;2;39;40;34m                                                                        \u001b[0m\n",
       "\u001b[2m│   \u001b[0m\u001b[2m    \u001b[0m\u001b[2;48;2;39;40;34m-\u001b[0m\u001b[2;38;2;248;248;242;48;2;39;40;34m \u001b[0m\u001b[2;48;2;39;40;34mPenaeaceae\u001b[0m\u001b[2;48;2;39;40;34m                                                                         \u001b[0m\n",
       "\u001b[2m│   \u001b[0m\u001b[2m    \u001b[0m\u001b[2;48;2;39;40;34m-\u001b[0m\u001b[2;38;2;248;248;242;48;2;39;40;34m \u001b[0m\u001b[2;48;2;39;40;34mPentaphylacaceae\u001b[0m\u001b[2;48;2;39;40;34m                                                                   \u001b[0m\n",
       "\u001b[2m│   \u001b[0m\u001b[2m    \u001b[0m\u001b[2;48;2;39;40;34m-\u001b[0m\u001b[2;38;2;248;248;242;48;2;39;40;34m \u001b[0m\u001b[2;48;2;39;40;34mPeridiscaceae\u001b[0m\u001b[2;48;2;39;40;34m                                                                      \u001b[0m\n",
       "\u001b[2m│   \u001b[0m\u001b[2m    \u001b[0m\u001b[2;48;2;39;40;34m-\u001b[0m\u001b[2;38;2;248;248;242;48;2;39;40;34m \u001b[0m\u001b[2;48;2;39;40;34mPhyllanthaceae\u001b[0m\u001b[2;48;2;39;40;34m                                                                     \u001b[0m\n",
       "\u001b[2m│   \u001b[0m\u001b[2m    \u001b[0m\u001b[2;48;2;39;40;34m-\u001b[0m\u001b[2;38;2;248;248;242;48;2;39;40;34m \u001b[0m\u001b[2;48;2;39;40;34mPhytolaccaceae\u001b[0m\u001b[2;48;2;39;40;34m                                                                     \u001b[0m\n",
       "\u001b[2m│   \u001b[0m\u001b[2m    \u001b[0m\u001b[2;48;2;39;40;34m-\u001b[0m\u001b[2;38;2;248;248;242;48;2;39;40;34m \u001b[0m\u001b[2;48;2;39;40;34mPicramniaceae\u001b[0m\u001b[2;48;2;39;40;34m                                                                      \u001b[0m\n",
       "\u001b[2m│   \u001b[0m\u001b[2m    \u001b[0m\u001b[2;48;2;39;40;34m-\u001b[0m\u001b[2;38;2;248;248;242;48;2;39;40;34m \u001b[0m\u001b[2;48;2;39;40;34mPicrodendraceae\u001b[0m\u001b[2;48;2;39;40;34m                                                                    \u001b[0m\n",
       "\u001b[2m│   \u001b[0m\u001b[2m    \u001b[0m\u001b[2;48;2;39;40;34m-\u001b[0m\u001b[2;38;2;248;248;242;48;2;39;40;34m \u001b[0m\u001b[2;48;2;39;40;34mPiperaceae\u001b[0m\u001b[2;48;2;39;40;34m                                                                         \u001b[0m\n",
       "\u001b[2m│   \u001b[0m\u001b[2m    \u001b[0m\u001b[2;48;2;39;40;34m-\u001b[0m\u001b[2;38;2;248;248;242;48;2;39;40;34m \u001b[0m\u001b[2;48;2;39;40;34mPittosporaceae\u001b[0m\u001b[2;48;2;39;40;34m                                                                     \u001b[0m\n",
       "\u001b[2m│   \u001b[0m\u001b[2m    \u001b[0m\u001b[2;48;2;39;40;34m-\u001b[0m\u001b[2;38;2;248;248;242;48;2;39;40;34m \u001b[0m\u001b[2;48;2;39;40;34mPlatanaceae\u001b[0m\u001b[2;48;2;39;40;34m                                                                        \u001b[0m\n",
       "\u001b[2m│   \u001b[0m\u001b[2m    \u001b[0m\u001b[2;48;2;39;40;34m-\u001b[0m\u001b[2;38;2;248;248;242;48;2;39;40;34m \u001b[0m\u001b[2;48;2;39;40;34mPolemoniaceae\u001b[0m\u001b[2;48;2;39;40;34m                                                                      \u001b[0m\n",
       "\u001b[2m│   \u001b[0m\u001b[2m    \u001b[0m\u001b[2;48;2;39;40;34m-\u001b[0m\u001b[2;38;2;248;248;242;48;2;39;40;34m \u001b[0m\u001b[2;48;2;39;40;34mPolygalaceae\u001b[0m\u001b[2;48;2;39;40;34m                                                                       \u001b[0m\n",
       "\u001b[2m│   \u001b[0m\u001b[2m    \u001b[0m\u001b[2;48;2;39;40;34m-\u001b[0m\u001b[2;38;2;248;248;242;48;2;39;40;34m \u001b[0m\u001b[2;48;2;39;40;34mPolygonaceae\u001b[0m\u001b[2;48;2;39;40;34m                                                                       \u001b[0m\n",
       "\u001b[2m│   \u001b[0m\u001b[2m    \u001b[0m\u001b[2;48;2;39;40;34m-\u001b[0m\u001b[2;38;2;248;248;242;48;2;39;40;34m \u001b[0m\u001b[2;48;2;39;40;34mPrimulaceae\u001b[0m\u001b[2;48;2;39;40;34m                                                                        \u001b[0m\n",
       "\u001b[2m│   \u001b[0m\u001b[2m    \u001b[0m\u001b[2;48;2;39;40;34m-\u001b[0m\u001b[2;38;2;248;248;242;48;2;39;40;34m \u001b[0m\u001b[2;48;2;39;40;34mProteaceae\u001b[0m\u001b[2;48;2;39;40;34m                                                                         \u001b[0m\n",
       "\u001b[2m│   \u001b[0m\u001b[2m    \u001b[0m\u001b[2;48;2;39;40;34m-\u001b[0m\u001b[2;38;2;248;248;242;48;2;39;40;34m \u001b[0m\u001b[2;48;2;39;40;34mRanunculaceae\u001b[0m\u001b[2;48;2;39;40;34m                                                                      \u001b[0m\n",
       "\u001b[2m│   \u001b[0m\u001b[2m    \u001b[0m\u001b[2;48;2;39;40;34m-\u001b[0m\u001b[2;38;2;248;248;242;48;2;39;40;34m \u001b[0m\u001b[2;48;2;39;40;34mRhabdodendraceae\u001b[0m\u001b[2;48;2;39;40;34m                                                                   \u001b[0m\n",
       "\u001b[2m│   \u001b[0m\u001b[2m    \u001b[0m\u001b[2;48;2;39;40;34m-\u001b[0m\u001b[2;38;2;248;248;242;48;2;39;40;34m \u001b[0m\u001b[2;48;2;39;40;34mRhamnaceae\u001b[0m\u001b[2;48;2;39;40;34m                                                                         \u001b[0m\n",
       "\u001b[2m│   \u001b[0m\u001b[2m    \u001b[0m\u001b[2;48;2;39;40;34m-\u001b[0m\u001b[2;38;2;248;248;242;48;2;39;40;34m \u001b[0m\u001b[2;48;2;39;40;34mRhizophoraceae\u001b[0m\u001b[2;48;2;39;40;34m                                                                     \u001b[0m\n",
       "\u001b[2m│   \u001b[0m\u001b[2m    \u001b[0m\u001b[2;48;2;39;40;34m-\u001b[0m\u001b[2;38;2;248;248;242;48;2;39;40;34m \u001b[0m\u001b[2;48;2;39;40;34mRosaceae\u001b[0m\u001b[2;48;2;39;40;34m                                                                           \u001b[0m\n",
       "\u001b[2m│   \u001b[0m\u001b[2m    \u001b[0m\u001b[2;48;2;39;40;34m-\u001b[0m\u001b[2;38;2;248;248;242;48;2;39;40;34m \u001b[0m\u001b[2;48;2;39;40;34mRubiaceae\u001b[0m\u001b[2;48;2;39;40;34m                                                                          \u001b[0m\n",
       "\u001b[2m│   \u001b[0m\u001b[2m    \u001b[0m\u001b[2;48;2;39;40;34m-\u001b[0m\u001b[2;38;2;248;248;242;48;2;39;40;34m \u001b[0m\u001b[2;48;2;39;40;34mRutaceae\u001b[0m\u001b[2;48;2;39;40;34m                                                                           \u001b[0m\n",
       "\u001b[2m│   \u001b[0m\u001b[2m    \u001b[0m\u001b[2;48;2;39;40;34m-\u001b[0m\u001b[2;38;2;248;248;242;48;2;39;40;34m \u001b[0m\u001b[2;48;2;39;40;34mSabiaceae\u001b[0m\u001b[2;48;2;39;40;34m                                                                          \u001b[0m\n",
       "\u001b[2m│   \u001b[0m\u001b[2m    \u001b[0m\u001b[2;48;2;39;40;34m-\u001b[0m\u001b[2;38;2;248;248;242;48;2;39;40;34m \u001b[0m\u001b[2;48;2;39;40;34mSalicaceae\u001b[0m\u001b[2;48;2;39;40;34m                                                                         \u001b[0m\n",
       "\u001b[2m│   \u001b[0m\u001b[2m    \u001b[0m\u001b[2;48;2;39;40;34m-\u001b[0m\u001b[2;38;2;248;248;242;48;2;39;40;34m \u001b[0m\u001b[2;48;2;39;40;34mSantalaceae\u001b[0m\u001b[2;48;2;39;40;34m                                                                        \u001b[0m\n",
       "\u001b[2m│   \u001b[0m\u001b[2m    \u001b[0m\u001b[2;48;2;39;40;34m-\u001b[0m\u001b[2;38;2;248;248;242;48;2;39;40;34m \u001b[0m\u001b[2;48;2;39;40;34mSapindaceae\u001b[0m\u001b[2;48;2;39;40;34m                                                                        \u001b[0m\n",
       "\u001b[2m│   \u001b[0m\u001b[2m    \u001b[0m\u001b[2;48;2;39;40;34m-\u001b[0m\u001b[2;38;2;248;248;242;48;2;39;40;34m \u001b[0m\u001b[2;48;2;39;40;34mSapotaceae\u001b[0m\u001b[2;48;2;39;40;34m                                                                         \u001b[0m\n",
       "\u001b[2m│   \u001b[0m\u001b[2m    \u001b[0m\u001b[2;48;2;39;40;34m-\u001b[0m\u001b[2;38;2;248;248;242;48;2;39;40;34m \u001b[0m\u001b[2;48;2;39;40;34mSarcolaenaceae\u001b[0m\u001b[2;48;2;39;40;34m                                                                     \u001b[0m\n",
       "\u001b[2m│   \u001b[0m\u001b[2m    \u001b[0m\u001b[2;48;2;39;40;34m-\u001b[0m\u001b[2;38;2;248;248;242;48;2;39;40;34m \u001b[0m\u001b[2;48;2;39;40;34mSaxifragaceae\u001b[0m\u001b[2;48;2;39;40;34m                                                                      \u001b[0m\n",
       "\u001b[2m│   \u001b[0m\u001b[2m    \u001b[0m\u001b[2;48;2;39;40;34m-\u001b[0m\u001b[2;38;2;248;248;242;48;2;39;40;34m \u001b[0m\u001b[2;48;2;39;40;34mSchisandraceae\u001b[0m\u001b[2;48;2;39;40;34m                                                                     \u001b[0m\n",
       "\u001b[2m│   \u001b[0m\u001b[2m    \u001b[0m\u001b[2;48;2;39;40;34m-\u001b[0m\u001b[2;38;2;248;248;242;48;2;39;40;34m \u001b[0m\u001b[2;48;2;39;40;34mSchoepfiaceae\u001b[0m\u001b[2;48;2;39;40;34m                                                                      \u001b[0m\n",
       "\u001b[2m│   \u001b[0m\u001b[2m    \u001b[0m\u001b[2;48;2;39;40;34m-\u001b[0m\u001b[2;38;2;248;248;242;48;2;39;40;34m \u001b[0m\u001b[2;48;2;39;40;34mScrophulariaceae\u001b[0m\u001b[2;48;2;39;40;34m                                                                   \u001b[0m\n",
       "\u001b[2m│   \u001b[0m\u001b[2m    \u001b[0m\u001b[2;48;2;39;40;34m-\u001b[0m\u001b[2;38;2;248;248;242;48;2;39;40;34m \u001b[0m\u001b[2;48;2;39;40;34mSimaroubaceae\u001b[0m\u001b[2;48;2;39;40;34m                                                                      \u001b[0m\n",
       "\u001b[2m│   \u001b[0m\u001b[2m    \u001b[0m\u001b[2;48;2;39;40;34m-\u001b[0m\u001b[2;38;2;248;248;242;48;2;39;40;34m \u001b[0m\u001b[2;48;2;39;40;34mSiparunaceae\u001b[0m\u001b[2;48;2;39;40;34m                                                                       \u001b[0m\n",
       "\u001b[2m│   \u001b[0m\u001b[2m    \u001b[0m\u001b[2;48;2;39;40;34m-\u001b[0m\u001b[2;38;2;248;248;242;48;2;39;40;34m \u001b[0m\u001b[2;48;2;39;40;34mSmilacaceae\u001b[0m\u001b[2;48;2;39;40;34m                                                                        \u001b[0m\n",
       "\u001b[2m│   \u001b[0m\u001b[2m    \u001b[0m\u001b[2;48;2;39;40;34m-\u001b[0m\u001b[2;38;2;248;248;242;48;2;39;40;34m \u001b[0m\u001b[2;48;2;39;40;34mSolanaceae\u001b[0m\u001b[2;48;2;39;40;34m                                                                         \u001b[0m\n",
       "\u001b[2m│   \u001b[0m\u001b[2m    \u001b[0m\u001b[2;48;2;39;40;34m-\u001b[0m\u001b[2;38;2;248;248;242;48;2;39;40;34m \u001b[0m\u001b[2;48;2;39;40;34mSphaerosepalaceae\u001b[0m\u001b[2;48;2;39;40;34m                                                                  \u001b[0m\n",
       "\u001b[2m│   \u001b[0m\u001b[2m    \u001b[0m\u001b[2;48;2;39;40;34m-\u001b[0m\u001b[2;38;2;248;248;242;48;2;39;40;34m \u001b[0m\u001b[2;48;2;39;40;34mStachyuraceae\u001b[0m\u001b[2;48;2;39;40;34m                                                                      \u001b[0m\n",
       "\u001b[2m│   \u001b[0m\u001b[2m    \u001b[0m\u001b[2;48;2;39;40;34m-\u001b[0m\u001b[2;38;2;248;248;242;48;2;39;40;34m \u001b[0m\u001b[2;48;2;39;40;34mStaphyleaceae\u001b[0m\u001b[2;48;2;39;40;34m                                                                      \u001b[0m\n",
       "\u001b[2m│   \u001b[0m\u001b[2m    \u001b[0m\u001b[2;48;2;39;40;34m-\u001b[0m\u001b[2;38;2;248;248;242;48;2;39;40;34m \u001b[0m\u001b[2;48;2;39;40;34mStegnospermataceae\u001b[0m\u001b[2;48;2;39;40;34m                                                                 \u001b[0m\n",
       "\u001b[2m│   \u001b[0m\u001b[2m    \u001b[0m\u001b[2;48;2;39;40;34m-\u001b[0m\u001b[2;38;2;248;248;242;48;2;39;40;34m \u001b[0m\u001b[2;48;2;39;40;34mStemonuraceae\u001b[0m\u001b[2;48;2;39;40;34m                                                                      \u001b[0m\n",
       "\u001b[2m│   \u001b[0m\u001b[2m    \u001b[0m\u001b[2;48;2;39;40;34m-\u001b[0m\u001b[2;38;2;248;248;242;48;2;39;40;34m \u001b[0m\u001b[2;48;2;39;40;34mStyracaceae\u001b[0m\u001b[2;48;2;39;40;34m                                                                        \u001b[0m\n",
       "\u001b[2m│   \u001b[0m\u001b[2m    \u001b[0m\u001b[2;48;2;39;40;34m-\u001b[0m\u001b[2;38;2;248;248;242;48;2;39;40;34m \u001b[0m\u001b[2;48;2;39;40;34mSymplocaceae\u001b[0m\u001b[2;48;2;39;40;34m                                                                       \u001b[0m\n",
       "\u001b[2m│   \u001b[0m\u001b[2m    \u001b[0m\u001b[2;48;2;39;40;34m-\u001b[0m\u001b[2;38;2;248;248;242;48;2;39;40;34m \u001b[0m\u001b[2;48;2;39;40;34mTheaceae\u001b[0m\u001b[2;48;2;39;40;34m                                                                           \u001b[0m\n",
       "\u001b[2m│   \u001b[0m\u001b[2m    \u001b[0m\u001b[2;48;2;39;40;34m-\u001b[0m\u001b[2;38;2;248;248;242;48;2;39;40;34m \u001b[0m\u001b[2;48;2;39;40;34mThymelaeaceae\u001b[0m\u001b[2;48;2;39;40;34m                                                                      \u001b[0m\n",
       "\u001b[2m│   \u001b[0m\u001b[2m    \u001b[0m\u001b[2;48;2;39;40;34m-\u001b[0m\u001b[2;38;2;248;248;242;48;2;39;40;34m \u001b[0m\u001b[2;48;2;39;40;34mTrigoniaceae\u001b[0m\u001b[2;48;2;39;40;34m                                                                       \u001b[0m\n",
       "\u001b[2m│   \u001b[0m\u001b[2m    \u001b[0m\u001b[2;48;2;39;40;34m-\u001b[0m\u001b[2;38;2;248;248;242;48;2;39;40;34m \u001b[0m\u001b[2;48;2;39;40;34mTrochodendraceae\u001b[0m\u001b[2;48;2;39;40;34m                                                                   \u001b[0m\n",
       "\u001b[2m│   \u001b[0m\u001b[2m    \u001b[0m\u001b[2;48;2;39;40;34m-\u001b[0m\u001b[2;38;2;248;248;242;48;2;39;40;34m \u001b[0m\u001b[2;48;2;39;40;34mUlmaceae\u001b[0m\u001b[2;48;2;39;40;34m                                                                           \u001b[0m\n",
       "\u001b[2m│   \u001b[0m\u001b[2m    \u001b[0m\u001b[2;48;2;39;40;34m-\u001b[0m\u001b[2;38;2;248;248;242;48;2;39;40;34m \u001b[0m\u001b[2;48;2;39;40;34mUrticaceae\u001b[0m\u001b[2;48;2;39;40;34m                                                                         \u001b[0m\n",
       "\u001b[2m│   \u001b[0m\u001b[2m    \u001b[0m\u001b[2;48;2;39;40;34m-\u001b[0m\u001b[2;38;2;248;248;242;48;2;39;40;34m \u001b[0m\u001b[2;48;2;39;40;34mVerbenaceae\u001b[0m\u001b[2;48;2;39;40;34m                                                                        \u001b[0m\n",
       "\u001b[2m│   \u001b[0m\u001b[2m    \u001b[0m\u001b[2;48;2;39;40;34m-\u001b[0m\u001b[2;38;2;248;248;242;48;2;39;40;34m \u001b[0m\u001b[2;48;2;39;40;34mViolaceae\u001b[0m\u001b[2;48;2;39;40;34m                                                                          \u001b[0m\n",
       "\u001b[2m│   \u001b[0m\u001b[2m    \u001b[0m\u001b[2;48;2;39;40;34m-\u001b[0m\u001b[2;38;2;248;248;242;48;2;39;40;34m \u001b[0m\u001b[2;48;2;39;40;34mVitaceae\u001b[0m\u001b[2;48;2;39;40;34m                                                                           \u001b[0m\n",
       "\u001b[2m│   \u001b[0m\u001b[2m    \u001b[0m\u001b[2;48;2;39;40;34m-\u001b[0m\u001b[2;38;2;248;248;242;48;2;39;40;34m \u001b[0m\u001b[2;48;2;39;40;34mVochysiaceae\u001b[0m\u001b[2;48;2;39;40;34m                                                                       \u001b[0m\n",
       "\u001b[2m│   \u001b[0m\u001b[2m    \u001b[0m\u001b[2;48;2;39;40;34m-\u001b[0m\u001b[2;38;2;248;248;242;48;2;39;40;34m \u001b[0m\u001b[2;48;2;39;40;34mWinteraceae\u001b[0m\u001b[2;48;2;39;40;34m                                                                        \u001b[0m\n",
       "\u001b[2m│   \u001b[0m\u001b[2m    \u001b[0m\u001b[2;48;2;39;40;34m-\u001b[0m\u001b[2;38;2;248;248;242;48;2;39;40;34m \u001b[0m\u001b[2;48;2;39;40;34mZygophyllaceae\u001b[0m\u001b[2;48;2;39;40;34m                                                                     \u001b[0m\n",
       "\u001b[2m│   \u001b[0m\u001b[2m    \u001b[0m\u001b[2;38;2;249;38;114;48;2;39;40;34mnum_classes\u001b[0m\u001b[2;38;2;248;248;242;48;2;39;40;34m:\u001b[0m\u001b[2;38;2;248;248;242;48;2;39;40;34m \u001b[0m\u001b[2;48;2;39;40;34m179\u001b[0m\u001b[2;48;2;39;40;34m                                                                     \u001b[0m\n",
       "\u001b[2m│   \u001b[0m\u001b[2m    \u001b[0m\u001b[2;38;2;249;38;114;48;2;39;40;34mimage_size\u001b[0m\u001b[2;38;2;248;248;242;48;2;39;40;34m:\u001b[0m\u001b[2;38;2;248;248;242;48;2;39;40;34m \u001b[0m\u001b[2;48;2;39;40;34m1024\u001b[0m\u001b[2;48;2;39;40;34m                                                                     \u001b[0m\n",
       "\u001b[2m│   \u001b[0m\u001b[2m    \u001b[0m\u001b[2;38;2;249;38;114;48;2;39;40;34mchannels\u001b[0m\u001b[2;38;2;248;248;242;48;2;39;40;34m:\u001b[0m\u001b[2;38;2;248;248;242;48;2;39;40;34m \u001b[0m\u001b[2;48;2;39;40;34m3\u001b[0m\u001b[2;48;2;39;40;34m                                                                          \u001b[0m\n",
       "\u001b[2m│   \u001b[0m\u001b[2m    \u001b[0m\u001b[2;38;2;249;38;114;48;2;39;40;34mclass_type\u001b[0m\u001b[2;38;2;248;248;242;48;2;39;40;34m:\u001b[0m\u001b[2;38;2;248;248;242;48;2;39;40;34m \u001b[0m\u001b[2;48;2;39;40;34mfamily\u001b[0m\u001b[2;48;2;39;40;34m                                                                   \u001b[0m\n",
       "\u001b[2m│   \u001b[0m\u001b[2m    \u001b[0m\u001b[2;38;2;249;38;114;48;2;39;40;34mnormalize\u001b[0m\u001b[2;38;2;248;248;242;48;2;39;40;34m:\u001b[0m\u001b[2;38;2;248;248;242;48;2;39;40;34m \u001b[0m\u001b[2;48;2;39;40;34mtrue\u001b[0m\u001b[2;48;2;39;40;34m                                                                      \u001b[0m\n",
       "\u001b[2m│   \u001b[0m\u001b[2m    \u001b[0m\u001b[2;38;2;249;38;114;48;2;39;40;34mseed\u001b[0m\u001b[2;38;2;248;248;242;48;2;39;40;34m:\u001b[0m\u001b[2;38;2;248;248;242;48;2;39;40;34m \u001b[0m\u001b[2;48;2;39;40;34m12345\u001b[0m\u001b[2;48;2;39;40;34m                                                                          \u001b[0m\n",
       "\u001b[2m│   \u001b[0m\u001b[2m    \u001b[0m\u001b[2;38;2;249;38;114;48;2;39;40;34mpredict_on_split\u001b[0m\u001b[2;38;2;248;248;242;48;2;39;40;34m:\u001b[0m\u001b[2;38;2;248;248;242;48;2;39;40;34m \u001b[0m\u001b[2;48;2;39;40;34mval\u001b[0m\u001b[2;48;2;39;40;34m                                                                \u001b[0m\n",
       "\u001b[2m│   \u001b[0m\u001b[2m    \u001b[0m\u001b[2;38;2;249;38;114;48;2;39;40;34mnum_workers\u001b[0m\u001b[2;38;2;248;248;242;48;2;39;40;34m:\u001b[0m\u001b[2;38;2;248;248;242;48;2;39;40;34m \u001b[0m\u001b[2;48;2;39;40;34m0\u001b[0m\u001b[2;48;2;39;40;34m                                                                       \u001b[0m\n",
       "\u001b[2m│   \u001b[0m\u001b[2m    \u001b[0m\u001b[2;38;2;249;38;114;48;2;39;40;34mroot_dir\u001b[0m\u001b[2;38;2;248;248;242;48;2;39;40;34m:\u001b[0m\u001b[2;38;2;248;248;242;48;2;39;40;34m \u001b[0m\u001b[2;48;2;39;40;34m/media/data/jacob/wandb_cache\u001b[0m\u001b[2;48;2;39;40;34m                                              \u001b[0m\n",
       "\u001b[2m│   \u001b[0m\u001b[2m    \u001b[0m\u001b[2;38;2;249;38;114;48;2;39;40;34mdataset_dir\u001b[0m\u001b[2;38;2;248;248;242;48;2;39;40;34m:\u001b[0m\u001b[2;38;2;248;248;242;48;2;39;40;34m \u001b[0m\u001b[2;48;2;39;40;34m/media/data/jacob/wandb_cache/datasets/Extant_family_10_1024\u001b[0m\u001b[2;48;2;39;40;34m            \u001b[0m\n",
       "\u001b[2m├── \u001b[0m\u001b[2mcallbacks\u001b[0m\u001b[2m                                                                                \u001b[0m\n",
       "\u001b[2m│   \u001b[0m\u001b[2m└── \u001b[0m\u001b[2;38;2;249;38;114;48;2;39;40;34mfinetuning\u001b[0m\u001b[2;38;2;248;248;242;48;2;39;40;34m:\u001b[0m\u001b[2;48;2;39;40;34m                                                                          \u001b[0m\n",
       "\u001b[2m│   \u001b[0m\u001b[2m    \u001b[0m\u001b[2;38;2;248;248;242;48;2;39;40;34m  \u001b[0m\u001b[2;38;2;249;38;114;48;2;39;40;34m_target_\u001b[0m\u001b[2;38;2;248;248;242;48;2;39;40;34m:\u001b[0m\u001b[2;38;2;248;248;242;48;2;39;40;34m \u001b[0m\u001b[2;48;2;39;40;34mlightning_hydra_classifiers.models.transfer.MilestonesFinetuning\u001b[0m\u001b[2;48;2;39;40;34m         \u001b[0m\n",
       "\u001b[2m│   \u001b[0m\u001b[2m    \u001b[0m\u001b[2;38;2;248;248;242;48;2;39;40;34m  \u001b[0m\u001b[2;38;2;249;38;114;48;2;39;40;34mmilestones\u001b[0m\u001b[2;38;2;248;248;242;48;2;39;40;34m:\u001b[0m\u001b[2;48;2;39;40;34m                                                                        \u001b[0m\n",
       "\u001b[2m│   \u001b[0m\u001b[2m    \u001b[0m\u001b[2;38;2;248;248;242;48;2;39;40;34m  \u001b[0m\u001b[2;48;2;39;40;34m-\u001b[0m\u001b[2;38;2;248;248;242;48;2;39;40;34m \u001b[0m\u001b[2;48;2;39;40;34m5\u001b[0m\u001b[2;48;2;39;40;34m                                                                                \u001b[0m\n",
       "\u001b[2m│   \u001b[0m\u001b[2m    \u001b[0m\u001b[2;38;2;248;248;242;48;2;39;40;34m  \u001b[0m\u001b[2;48;2;39;40;34m-\u001b[0m\u001b[2;38;2;248;248;242;48;2;39;40;34m \u001b[0m\u001b[2;48;2;39;40;34m10\u001b[0m\u001b[2;48;2;39;40;34m                                                                               \u001b[0m\n",
       "\u001b[2m│   \u001b[0m\u001b[2m    \u001b[0m\u001b[2;38;2;248;248;242;48;2;39;40;34m  \u001b[0m\u001b[2;38;2;249;38;114;48;2;39;40;34mtrain_bn\u001b[0m\u001b[2;38;2;248;248;242;48;2;39;40;34m:\u001b[0m\u001b[2;38;2;248;248;242;48;2;39;40;34m \u001b[0m\u001b[2;48;2;39;40;34mfalse\u001b[0m\u001b[2;48;2;39;40;34m                                                                    \u001b[0m\n",
       "\u001b[2m├── \u001b[0m\u001b[2mlogger\u001b[0m\u001b[2m                                                                                   \u001b[0m\n",
       "\u001b[2m│   \u001b[0m\u001b[2m└── \u001b[0m\u001b[2;38;2;249;38;114;48;2;39;40;34mwandb\u001b[0m\u001b[2;38;2;248;248;242;48;2;39;40;34m:\u001b[0m\u001b[2;48;2;39;40;34m                                                                               \u001b[0m\n",
       "\u001b[2m│   \u001b[0m\u001b[2m    \u001b[0m\u001b[2;38;2;248;248;242;48;2;39;40;34m  \u001b[0m\u001b[2;38;2;249;38;114;48;2;39;40;34m_target_\u001b[0m\u001b[2;38;2;248;248;242;48;2;39;40;34m:\u001b[0m\u001b[2;38;2;248;248;242;48;2;39;40;34m \u001b[0m\u001b[2;48;2;39;40;34mpytorch_lightning.loggers.wandb.WandbLogger\u001b[0m\u001b[2;48;2;39;40;34m                              \u001b[0m\n",
       "\u001b[2m│   \u001b[0m\u001b[2m    \u001b[0m\u001b[2;38;2;248;248;242;48;2;39;40;34m  \u001b[0m\u001b[2;38;2;249;38;114;48;2;39;40;34mentity\u001b[0m\u001b[2;38;2;248;248;242;48;2;39;40;34m:\u001b[0m\u001b[2;38;2;248;248;242;48;2;39;40;34m \u001b[0m\u001b[2;48;2;39;40;34mjrose\u001b[0m\u001b[2;48;2;39;40;34m                                                                      \u001b[0m\n",
       "\u001b[2m│   \u001b[0m\u001b[2m    \u001b[0m\u001b[2;38;2;248;248;242;48;2;39;40;34m  \u001b[0m\u001b[2;38;2;249;38;114;48;2;39;40;34mproject\u001b[0m\u001b[2;38;2;248;248;242;48;2;39;40;34m:\u001b[0m\u001b[2;38;2;248;248;242;48;2;39;40;34m \u001b[0m\u001b[2;48;2;39;40;34mmnist_scaling_experiments\u001b[0m\u001b[2;48;2;39;40;34m                                                 \u001b[0m\n",
       "\u001b[2m│   \u001b[0m\u001b[2m    \u001b[0m\u001b[2;38;2;248;248;242;48;2;39;40;34m  \u001b[0m\u001b[2;38;2;249;38;114;48;2;39;40;34mjob_type\u001b[0m\u001b[2;38;2;248;248;242;48;2;39;40;34m:\u001b[0m\u001b[2;38;2;248;248;242;48;2;39;40;34m \u001b[0m\u001b[2;48;2;39;40;34mExtant_family_10_1024_tune-train-test\u001b[0m\u001b[2;48;2;39;40;34m                                    \u001b[0m\n",
       "\u001b[2m│   \u001b[0m\u001b[2m    \u001b[0m\u001b[2;38;2;248;248;242;48;2;39;40;34m  \u001b[0m\u001b[2;38;2;249;38;114;48;2;39;40;34mgroup\u001b[0m\u001b[2;38;2;248;248;242;48;2;39;40;34m:\u001b[0m\u001b[2;38;2;248;248;242;48;2;39;40;34m \u001b[0m\u001b[2;48;2;39;40;34msingle-gpu\u001b[0m\u001b[2;48;2;39;40;34m                                                                  \u001b[0m\n",
       "\u001b[2m│   \u001b[0m\u001b[2m    \u001b[0m\u001b[2;38;2;248;248;242;48;2;39;40;34m  \u001b[0m\u001b[2;38;2;249;38;114;48;2;39;40;34mmode\u001b[0m\u001b[2;38;2;248;248;242;48;2;39;40;34m:\u001b[0m\u001b[2;38;2;248;248;242;48;2;39;40;34m \u001b[0m\u001b[2;48;2;39;40;34monline\u001b[0m\u001b[2;48;2;39;40;34m                                                                       \u001b[0m\n",
       "\u001b[2m│   \u001b[0m\u001b[2m    \u001b[0m\u001b[2;38;2;248;248;242;48;2;39;40;34m  \u001b[0m\u001b[2;38;2;249;38;114;48;2;39;40;34mallow_val_change\u001b[0m\u001b[2;38;2;248;248;242;48;2;39;40;34m:\u001b[0m\u001b[2;38;2;248;248;242;48;2;39;40;34m \u001b[0m\u001b[2;48;2;39;40;34mtrue\u001b[0m\u001b[2;48;2;39;40;34m                                                             \u001b[0m\n",
       "\u001b[2m│   \u001b[0m\u001b[2m    \u001b[0m\u001b[2;38;2;248;248;242;48;2;39;40;34m  \u001b[0m\u001b[2;38;2;249;38;114;48;2;39;40;34msync_tensorboard\u001b[0m\u001b[2;38;2;248;248;242;48;2;39;40;34m:\u001b[0m\u001b[2;38;2;248;248;242;48;2;39;40;34m \u001b[0m\u001b[2;48;2;39;40;34mtrue\u001b[0m\u001b[2;48;2;39;40;34m                                                             \u001b[0m\n",
       "\u001b[2m│   \u001b[0m\u001b[2m    \u001b[0m\u001b[2;38;2;249;38;114;48;2;39;40;34mtensorboard\u001b[0m\u001b[2;38;2;248;248;242;48;2;39;40;34m:\u001b[0m\u001b[2;48;2;39;40;34m                                                                         \u001b[0m\n",
       "\u001b[2m│   \u001b[0m\u001b[2m    \u001b[0m\u001b[2;38;2;248;248;242;48;2;39;40;34m  \u001b[0m\u001b[2;38;2;249;38;114;48;2;39;40;34m_target_\u001b[0m\u001b[2;38;2;248;248;242;48;2;39;40;34m:\u001b[0m\u001b[2;38;2;248;248;242;48;2;39;40;34m \u001b[0m\u001b[2;48;2;39;40;34mpytorch_lightning.loggers.tensorboard.TensorBoardLogger\u001b[0m\u001b[2;48;2;39;40;34m                  \u001b[0m\n",
       "\u001b[2m│   \u001b[0m\u001b[2m    \u001b[0m\u001b[2;38;2;248;248;242;48;2;39;40;34m  \u001b[0m\u001b[2;38;2;249;38;114;48;2;39;40;34msave_dir\u001b[0m\u001b[2;38;2;248;248;242;48;2;39;40;34m:\u001b[0m\u001b[2;38;2;248;248;242;48;2;39;40;34m \u001b[0m\u001b[2;48;2;39;40;34m/media/data_cifs/projects/prj_fossils/users/jacob/experiments/July2021-No\u001b[0m\n",
       "\u001b[2m│   \u001b[0m\u001b[2m    \u001b[0m\u001b[2;38;2;248;248;242;48;2;39;40;34m  \u001b[0m\u001b[2;38;2;249;38;114;48;2;39;40;34mname\u001b[0m\u001b[2;38;2;248;248;242;48;2;39;40;34m:\u001b[0m\u001b[2;38;2;248;248;242;48;2;39;40;34m \u001b[0m\u001b[2;48;2;39;40;34mExtant_family_10_1024_tune-train-test_Extant_family_10_1024\u001b[0m\u001b[2;48;2;39;40;34m                  \u001b[0m\n",
       "\u001b[2m└── \u001b[0m\u001b[2mseed\u001b[0m\u001b[2m                                                                                     \u001b[0m\n",
       "\u001b[2m    \u001b[0m\u001b[2m└── \u001b[0m\u001b[2;48;2;39;40;34m12345\u001b[0m\u001b[2;48;2;39;40;34m                                                                                \u001b[0m\n"
      ]
     },
     "metadata": {},
     "output_type": "display_data"
    },
    {
     "data": {
      "text/html": [
       "<pre style=\"white-space:pre;overflow-x:auto;line-height:normal;font-family:Menlo,'DejaVu Sans Mono',consolas,'Courier New',monospace\"><span style=\"color: #7fbfbf; text-decoration-color: #7fbfbf\">[07/07/21 06:41:23] </span><span style=\"color: #000080; text-decoration-color: #000080\">INFO    </span> Instantiating model <span style=\"font-weight: bold\">&lt;</span><span style=\"color: #ff00ff; text-decoration-color: #ff00ff; font-weight: bold\">lightning_</span> <a href=\"file://<ipython-input-7-3e72ad740566>\"><span style=\"color: #7f7f7f; text-decoration-color: #7f7f7f\">&lt;ipython-input-7-3e72ad740566&gt;</span></a><span style=\"color: #7f7f7f; text-decoration-color: #7f7f7f\">:2</span>\n",
       "                             <span style=\"color: #ff00ff; text-decoration-color: #ff00ff; font-weight: bold\">hydra_classifiers.models.transf</span>                                 \n",
       "                             <span style=\"color: #ff00ff; text-decoration-color: #ff00ff; font-weight: bold\">er.TransferLearningModel</span><span style=\"font-weight: bold\">&gt;</span>                                       \n",
       "</pre>\n"
      ],
      "text/plain": [
       "\u001b[2;36m[07/07/21 06:41:23]\u001b[0m\u001b[2;36m \u001b[0m\u001b[34mINFO    \u001b[0m Instantiating model \u001b[1m<\u001b[0m\u001b[1;95mlightning_\u001b[0m \u001b]8;id=1625654483.3925166-860015;file://<ipython-input-7-3e72ad740566>\u001b\\\u001b[2m<ipython-input-7-3e72ad740566>\u001b[0m\u001b]8;;\u001b\\\u001b[2m:2\u001b[0m\n",
       "                             \u001b[1;95mhydra_classifiers.models.transf\u001b[0m                                 \n",
       "                             \u001b[1;95mer.TransferLearningModel\u001b[0m\u001b[1m>\u001b[0m                                       \n"
      ]
     },
     "metadata": {},
     "output_type": "display_data"
    },
    {
     "name": "stdout",
     "output_type": "stream",
     "text": [
      "2021-07-07 06:41:23 [INFO] 3_16bit_precision-single_gpu--tune_batchsize--tune_lr - Instantiating model <lightning_hydra_classifiers.models.transfer.TransferLearningModel>\n"
     ]
    },
    {
     "data": {
      "text/html": [
       "<pre style=\"white-space:pre;overflow-x:auto;line-height:normal;font-family:Menlo,'DejaVu Sans Mono',consolas,'Courier New',monospace\"><span style=\"color: #7fbfbf; text-decoration-color: #7fbfbf\">[07/07/21 06:41:24] </span><span style=\"color: #000080; text-decoration-color: #000080\">INFO    </span> Instantiating callback <span style=\"font-weight: bold\">&lt;</span><span style=\"color: #ff00ff; text-decoration-color: #ff00ff; font-weight: bold\">lightn</span> <a href=\"file://<ipython-input-9-e5e6946d8262>\"><span style=\"color: #7f7f7f; text-decoration-color: #7f7f7f\">&lt;ipython-input-9-e5e6946d8262&gt;</span></a><span style=\"color: #7f7f7f; text-decoration-color: #7f7f7f\">:13</span>\n",
       "                             <span style=\"color: #ff00ff; text-decoration-color: #ff00ff; font-weight: bold\">ing_hydra_classifiers.models.t</span>                                  \n",
       "                             <span style=\"color: #ff00ff; text-decoration-color: #ff00ff; font-weight: bold\">ransfer.MilestonesFinetuning</span><span style=\"font-weight: bold\">&gt;</span>                                   \n",
       "</pre>\n"
      ],
      "text/plain": [
       "\u001b[2;36m[07/07/21 06:41:24]\u001b[0m\u001b[2;36m \u001b[0m\u001b[34mINFO    \u001b[0m Instantiating callback \u001b[1m<\u001b[0m\u001b[1;95mlightn\u001b[0m \u001b]8;id=1625654484.823995-841847;file://<ipython-input-9-e5e6946d8262>\u001b\\\u001b[2m<ipython-input-9-e5e6946d8262>\u001b[0m\u001b]8;;\u001b\\\u001b[2m:13\u001b[0m\n",
       "                             \u001b[1;95ming_hydra_classifiers.models.t\u001b[0m                                  \n",
       "                             \u001b[1;95mransfer.MilestonesFinetuning\u001b[0m\u001b[1m>\u001b[0m                                   \n"
      ]
     },
     "metadata": {},
     "output_type": "display_data"
    },
    {
     "name": "stdout",
     "output_type": "stream",
     "text": [
      "2021-07-07 06:41:24 [INFO] 3_16bit_precision-single_gpu--tune_batchsize--tune_lr - Instantiating callback <lightning_hydra_classifiers.models.transfer.MilestonesFinetuning>\n"
     ]
    },
    {
     "data": {
      "text/html": [
       "<pre style=\"white-space:pre;overflow-x:auto;line-height:normal;font-family:Menlo,'DejaVu Sans Mono',consolas,'Courier New',monospace\"><span style=\"color: #7fbfbf; text-decoration-color: #7fbfbf\">                    </span><span style=\"color: #000080; text-decoration-color: #000080\">INFO    </span> Instantiating logger <span style=\"font-weight: bold\">&lt;</span><span style=\"color: #ff00ff; text-decoration-color: #ff00ff; font-weight: bold\">pytorch_</span> <a href=\"file://<ipython-input-9-e5e6946d8262>\"><span style=\"color: #7f7f7f; text-decoration-color: #7f7f7f\">&lt;ipython-input-9-e5e6946d8262&gt;</span></a><span style=\"color: #7f7f7f; text-decoration-color: #7f7f7f\">:24</span>\n",
       "                             <span style=\"color: #ff00ff; text-decoration-color: #ff00ff; font-weight: bold\">lightning.loggers.wandb.WandbL</span>                                  \n",
       "                             <span style=\"color: #ff00ff; text-decoration-color: #ff00ff; font-weight: bold\">ogger</span><span style=\"font-weight: bold\">&gt;</span>                                                          \n",
       "</pre>\n"
      ],
      "text/plain": [
       "\u001b[2;36m                   \u001b[0m\u001b[2;36m \u001b[0m\u001b[34mINFO    \u001b[0m Instantiating logger \u001b[1m<\u001b[0m\u001b[1;95mpytorch_\u001b[0m \u001b]8;id=1625654484.8307507-313146;file://<ipython-input-9-e5e6946d8262>\u001b\\\u001b[2m<ipython-input-9-e5e6946d8262>\u001b[0m\u001b]8;;\u001b\\\u001b[2m:24\u001b[0m\n",
       "                             \u001b[1;95mlightning.loggers.wandb.WandbL\u001b[0m                                  \n",
       "                             \u001b[1;95mogger\u001b[0m\u001b[1m>\u001b[0m                                                          \n"
      ]
     },
     "metadata": {},
     "output_type": "display_data"
    },
    {
     "name": "stdout",
     "output_type": "stream",
     "text": [
      "2021-07-07 06:41:24 [INFO] 3_16bit_precision-single_gpu--tune_batchsize--tune_lr - Instantiating logger <pytorch_lightning.loggers.wandb.WandbLogger>\n"
     ]
    },
    {
     "data": {
      "text/html": [
       "<pre style=\"white-space:pre;overflow-x:auto;line-height:normal;font-family:Menlo,'DejaVu Sans Mono',consolas,'Courier New',monospace\"><span style=\"color: #7fbfbf; text-decoration-color: #7fbfbf\">                    </span><span style=\"color: #000080; text-decoration-color: #000080\">INFO    </span> Instantiating logger <span style=\"font-weight: bold\">&lt;</span><span style=\"color: #ff00ff; text-decoration-color: #ff00ff; font-weight: bold\">pytorch_</span> <a href=\"file://<ipython-input-9-e5e6946d8262>\"><span style=\"color: #7f7f7f; text-decoration-color: #7f7f7f\">&lt;ipython-input-9-e5e6946d8262&gt;</span></a><span style=\"color: #7f7f7f; text-decoration-color: #7f7f7f\">:24</span>\n",
       "                             <span style=\"color: #ff00ff; text-decoration-color: #ff00ff; font-weight: bold\">lightning.loggers.tensorboard.</span>                                  \n",
       "                             <span style=\"color: #ff00ff; text-decoration-color: #ff00ff; font-weight: bold\">TensorBoardLogger</span><span style=\"font-weight: bold\">&gt;</span>                                              \n",
       "</pre>\n"
      ],
      "text/plain": [
       "\u001b[2;36m                   \u001b[0m\u001b[2;36m \u001b[0m\u001b[34mINFO    \u001b[0m Instantiating logger \u001b[1m<\u001b[0m\u001b[1;95mpytorch_\u001b[0m \u001b]8;id=1625654484.842997-896677;file://<ipython-input-9-e5e6946d8262>\u001b\\\u001b[2m<ipython-input-9-e5e6946d8262>\u001b[0m\u001b]8;;\u001b\\\u001b[2m:24\u001b[0m\n",
       "                             \u001b[1;95mlightning.loggers.tensorboard.\u001b[0m                                  \n",
       "                             \u001b[1;95mTensorBoardLogger\u001b[0m\u001b[1m>\u001b[0m                                              \n"
      ]
     },
     "metadata": {},
     "output_type": "display_data"
    },
    {
     "name": "stdout",
     "output_type": "stream",
     "text": [
      "2021-07-07 06:41:24 [INFO] 3_16bit_precision-single_gpu--tune_batchsize--tune_lr - Instantiating logger <pytorch_lightning.loggers.tensorboard.TensorBoardLogger>\n"
     ]
    },
    {
     "data": {
      "text/html": [
       "<pre style=\"white-space:pre;overflow-x:auto;line-height:normal;font-family:Menlo,'DejaVu Sans Mono',consolas,'Courier New',monospace\"><span style=\"color: #7fbfbf; text-decoration-color: #7fbfbf\">                    </span><span style=\"color: #000080; text-decoration-color: #000080\">INFO    </span> Instantiating trainer          <a href=\"file://<ipython-input-9-e5e6946d8262>\"><span style=\"color: #7f7f7f; text-decoration-color: #7f7f7f\">&lt;ipython-input-9-e5e6946d8262&gt;</span></a><span style=\"color: #7f7f7f; text-decoration-color: #7f7f7f\">:28</span>\n",
       "                             <span style=\"font-weight: bold\">&lt;</span><span style=\"color: #ff00ff; text-decoration-color: #ff00ff; font-weight: bold\">pytorch_lightning.Trainer</span><span style=\"font-weight: bold\">&gt;</span>                                     \n",
       "</pre>\n"
      ],
      "text/plain": [
       "\u001b[2;36m                   \u001b[0m\u001b[2;36m \u001b[0m\u001b[34mINFO    \u001b[0m Instantiating trainer          \u001b]8;id=1625654484.8629887-386307;file://<ipython-input-9-e5e6946d8262>\u001b\\\u001b[2m<ipython-input-9-e5e6946d8262>\u001b[0m\u001b]8;;\u001b\\\u001b[2m:28\u001b[0m\n",
       "                             \u001b[1m<\u001b[0m\u001b[1;95mpytorch_lightning.Trainer\u001b[0m\u001b[1m>\u001b[0m                                     \n"
      ]
     },
     "metadata": {},
     "output_type": "display_data"
    },
    {
     "name": "stdout",
     "output_type": "stream",
     "text": [
      "2021-07-07 06:41:24 [INFO] 3_16bit_precision-single_gpu--tune_batchsize--tune_lr - Instantiating trainer <pytorch_lightning.Trainer>\n"
     ]
    },
    {
     "name": "stderr",
     "output_type": "stream",
     "text": [
      "GPU available: True, used: True\n",
      "TPU available: False, using: 0 TPU cores\n",
      "Using native 16bit precision.\n",
      "LOCAL_RANK: 0 - CUDA_VISIBLE_DEVICES: [0,1,2,3,4,5,6,7]\n"
     ]
    },
    {
     "name": "stdout",
     "output_type": "stream",
     "text": [
      "[START] Training with tuned batch_size = 8\n",
      "and tuned learning rate = 0.0004365158322401656\n",
      "Freezing 7 layers before training, out of 8. Unfrozen layer names: ['layer4']\n"
     ]
    },
    {
     "name": "stderr",
     "output_type": "stream",
     "text": [
      "The model will start training with only 32 trainable parameters out of 161.\n"
     ]
    },
    {
     "name": "stdout",
     "output_type": "stream",
     "text": [
      "['CHECKPOINT_HYPER_PARAMS_KEY', 'CHECKPOINT_HYPER_PARAMS_NAME', 'CHECKPOINT_HYPER_PARAMS_TYPE', 'T_destination', '_DeviceDtypeModuleMixin__update_properties', '_LightningModule__auto_choose_log_on_epoch', '_LightningModule__auto_choose_log_on_step', '__abstractmethods__', '__annotations__', '__call__', '__class__', '__delattr__', '__dict__', '__dir__', '__doc__', '__eq__', '__format__', '__ge__', '__getattr__', '__getattribute__', '__gt__', '__hash__', '__init__', '__init_subclass__', '__jit_unused_properties__', '__le__', '__lt__', '__module__', '__ne__', '__new__', '__reduce__', '__reduce_ex__', '__repr__', '__setattr__', '__setstate__', '__sizeof__', '__slots__', '__str__', '__subclasshook__', '__weakref__', '_abc_impl', '_apply', '_apply_batch_transfer_handler', '_auto_collect_arguments', '_automatic_optimization', '_backward_hooks', '_buffers', '_build_classifier', '_call_impl', '_current_dataloader_idx', '_current_fx_name', '_current_hook_fx_name', '_datamodule', '_device', '_device_type', '_distrib_type', '_dtype', '_example_input_array', '_forward_hooks', '_forward_pre_hooks', '_get_name', '_hparams', '_init_metrics', '_load_from_state_dict', '_load_model_state', '_load_state_dict_pre_hooks', '_modules', '_named_members', '_non_persistent_buffers_set', '_param_requires_grad_state', '_parameters', '_register_load_state_dict_pre_hook', '_register_state_dict_hook', '_replicate_for_data_parallel', '_results', '_running_manual_backward', '_save_to_state_dict', '_set_hparams', '_slow_forward', '_state_dict_hooks', '_truncated_bptt_steps', '_verify_is_manual_optimization', '_version', 'add_module', 'all_gather', 'apply', 'automatic_optimization', 'backward', 'batch_size', 'bfloat16', 'buffers', 'call_configure_sharded_model_hook', 'children', 'classifier', 'classifier_factory', 'configure_callbacks', 'configure_optimizers', 'configure_sharded_model', 'cpu', 'criterion', 'cuda', 'current_epoch', 'datamodule', 'device', 'double', 'dtype', 'dump_patches', 'eval', 'example_input_array', 'extra_repr', 'fc', 'feature_extractor', 'float', 'forward', 'freeze', 'get_progress_bar_dict', 'global_rank', 'global_step', 'grad_norm', 'half', 'hparams', 'hparams_initial', 'load_from_checkpoint', 'load_state_dict', 'loaded_optimizer_states_dict', 'local_rank', 'log', 'log_dict', 'logger', 'loss', 'lr', 'lr_scheduler_gamma', 'lr_schedulers', 'manual_backward', 'metrics_test', 'metrics_test_per_class', 'metrics_train', 'metrics_train_per_class', 'metrics_val', 'metrics_val_per_class', 'milestones', 'model_size', 'modules', 'named_buffers', 'named_children', 'named_modules', 'named_parameters', 'num_classes', 'on_after_backward', 'on_after_batch_transfer', 'on_before_batch_transfer', 'on_before_zero_grad', 'on_epoch_end', 'on_epoch_start', 'on_fit_end', 'on_fit_start', 'on_gpu', 'on_hpc_load', 'on_hpc_save', 'on_load_checkpoint', 'on_post_move_to_device', 'on_predict_batch_end', 'on_predict_batch_start', 'on_predict_dataloader', 'on_predict_end', 'on_predict_epoch_end', 'on_predict_epoch_start', 'on_predict_model_eval', 'on_predict_start', 'on_pretrain_routine_end', 'on_pretrain_routine_start', 'on_save_checkpoint', 'on_test_batch_end', 'on_test_batch_start', 'on_test_dataloader', 'on_test_end', 'on_test_epoch_end', 'on_test_epoch_start', 'on_test_model_eval', 'on_test_model_train', 'on_test_start', 'on_train_batch_end', 'on_train_batch_start', 'on_train_dataloader', 'on_train_end', 'on_train_epoch_end', 'on_train_epoch_start', 'on_train_start', 'on_val_dataloader', 'on_validation_batch_end', 'on_validation_batch_start', 'on_validation_end', 'on_validation_epoch_end', 'on_validation_epoch_start', 'on_validation_model_eval', 'on_validation_model_train', 'on_validation_start', 'optimizer_func', 'optimizer_step', 'optimizer_zero_grad', 'optimizers', 'parameters', 'precision', 'predict_dataloader', 'predict_dataloader', 'predict_step', 'prepare_data', 'print', 'probs', 'register_backward_hook', 'register_buffer', 'register_forward_hook', 'register_forward_pre_hook', 'register_parameter', 'requires_grad_', 'save_hyperparameters', 'setup', 'share_memory', 'state_dict', 'summarize', 'tbptt_split_batch', 'teardown', 'test_dataloader', 'test_dataloader', 'test_epoch_end', 'test_step', 'test_step_end', 'to', 'to_onnx', 'to_torchscript', 'toggle_optimizer', 'train', 'train_bn', 'train_dataloader', 'train_dataloader', 'trainer', 'training', 'training_epoch_end', 'training_step', 'training_step_end', 'transfer_batch_to_device', 'truncated_bptt_steps', 'type', 'unfreeze', 'untoggle_optimizer', 'use_amp', 'val_dataloader', 'val_dataloader', 'validation_epoch_end', 'validation_step', 'validation_step_end', 'write_prediction', 'write_prediction_dict', 'zero_grad'] self.lr=0.0004365158322401656\n"
     ]
    },
    {
     "name": "stderr",
     "output_type": "stream",
     "text": [
      "\u001b[34m\u001b[1mwandb\u001b[0m: Currently logged in as: \u001b[33mjrose\u001b[0m (use `wandb login --relogin` to force relogin)\n",
      "\u001b[34m\u001b[1mwandb\u001b[0m: wandb version 0.10.33 is available!  To upgrade, please run:\n",
      "\u001b[34m\u001b[1mwandb\u001b[0m:  $ pip install wandb --upgrade\n"
     ]
    },
    {
     "data": {
      "text/html": [
       "\n",
       "                Tracking run with wandb version 0.10.26<br/>\n",
       "                Syncing run <strong style=\"color:#cdcd00\">confused-eon-5</strong> to <a href=\"https://wandb.ai\" target=\"_blank\">Weights & Biases</a> <a href=\"https://docs.wandb.com/integrations/jupyter.html\" target=\"_blank\">(Documentation)</a>.<br/>\n",
       "                Project page: <a href=\"https://wandb.ai/jrose/mnist_scaling_experiments\" target=\"_blank\">https://wandb.ai/jrose/mnist_scaling_experiments</a><br/>\n",
       "                Run page: <a href=\"https://wandb.ai/jrose/mnist_scaling_experiments/runs/90s891zi\" target=\"_blank\">https://wandb.ai/jrose/mnist_scaling_experiments/runs/90s891zi</a><br/>\n",
       "                Run data is saved locally in <code>/media/data/jacob/GitHub/lightning-hydra-classifiers/configs/experiment/wandb/run-20210707_064131-90s891zi</code><br/><br/>\n",
       "            "
      ],
      "text/plain": [
       "<IPython.core.display.HTML object>"
      ]
     },
     "metadata": {},
     "output_type": "display_data"
    },
    {
     "name": "stderr",
     "output_type": "stream",
     "text": [
      "\n",
      "  | Name                    | Type             | Params\n",
      "-------------------------------------------------------------\n",
      "0 | classifier              | Classifier       | 23.9 M\n",
      "1 | feature_extractor       | ResNet           | 23.5 M\n",
      "2 | fc                      | Linear           | 366 K \n",
      "3 | criterion               | CrossEntropyLoss | 0     \n",
      "4 | metrics_train           | MetricCollection | 0     \n",
      "5 | metrics_train_per_class | MetricCollection | 0     \n",
      "6 | metrics_val             | MetricCollection | 0     \n",
      "7 | metrics_val_per_class   | MetricCollection | 0     \n",
      "8 | metrics_test            | MetricCollection | 0     \n",
      "9 | metrics_test_per_class  | MetricCollection | 0     \n",
      "-------------------------------------------------------------\n",
      "15.3 M    Trainable params\n",
      "8.5 M     Non-trainable params\n",
      "23.9 M    Total params\n",
      "95.499    Total estimated model params size (MB)\n"
     ]
    },
    {
     "data": {
      "application/vnd.jupyter.widget-view+json": {
       "model_id": "",
       "version_major": 2,
       "version_minor": 0
      },
      "text/plain": [
       "HBox(children=(FloatProgress(value=1.0, bar_style='info', description='Validation sanity check', layout=Layout…"
      ]
     },
     "metadata": {},
     "output_type": "display_data"
    },
    {
     "name": "stderr",
     "output_type": "stream",
     "text": [
      "/media/data/conda/jrose3/envs/sequoia/lib/python3.8/site-packages/pytorch_lightning/trainer/data_loading.py:102: UserWarning: The dataloader, val dataloader 0, does not have many workers which may be a bottleneck. Consider increasing the value of the `num_workers` argument` (try 16 which is the number of cpus on this machine) in the `DataLoader` init to improve performance.\n",
      "  rank_zero_warn(\n",
      "/media/data/conda/jrose3/envs/sequoia/lib/python3.8/site-packages/pytorch_lightning/core/step_result.py:115: UserWarning: To copy construct from a tensor, it is recommended to use sourceTensor.clone().detach() or sourceTensor.clone().detach().requires_grad_(True), rather than torch.tensor(sourceTensor).\n",
      "  value = torch.tensor(value, device=device, dtype=torch.float)\n",
      "Global seed set to 12345\n",
      "/media/data/conda/jrose3/envs/sequoia/lib/python3.8/site-packages/pytorch_lightning/trainer/data_loading.py:102: UserWarning: The dataloader, train dataloader, does not have many workers which may be a bottleneck. Consider increasing the value of the `num_workers` argument` (try 16 which is the number of cpus on this machine) in the `DataLoader` init to improve performance.\n",
      "  rank_zero_warn(\n"
     ]
    },
    {
     "data": {
      "application/vnd.jupyter.widget-view+json": {
       "model_id": "e74c72c48e0549289c947f99f9b69a5b",
       "version_major": 2,
       "version_minor": 0
      },
      "text/plain": [
       "HBox(children=(FloatProgress(value=1.0, bar_style='info', description='Training', layout=Layout(flex='2'), max…"
      ]
     },
     "metadata": {},
     "output_type": "display_data"
    },
    {
     "data": {
      "application/vnd.jupyter.widget-view+json": {
       "model_id": "",
       "version_major": 2,
       "version_minor": 0
      },
      "text/plain": [
       "HBox(children=(FloatProgress(value=1.0, bar_style='info', description='Validating', layout=Layout(flex='2'), m…"
      ]
     },
     "metadata": {},
     "output_type": "display_data"
    },
    {
     "data": {
      "application/vnd.jupyter.widget-view+json": {
       "model_id": "",
       "version_major": 2,
       "version_minor": 0
      },
      "text/plain": [
       "HBox(children=(FloatProgress(value=1.0, bar_style='info', description='Validating', layout=Layout(flex='2'), m…"
      ]
     },
     "metadata": {},
     "output_type": "display_data"
    },
    {
     "data": {
      "application/vnd.jupyter.widget-view+json": {
       "model_id": "",
       "version_major": 2,
       "version_minor": 0
      },
      "text/plain": [
       "HBox(children=(FloatProgress(value=1.0, bar_style='info', description='Validating', layout=Layout(flex='2'), m…"
      ]
     },
     "metadata": {},
     "output_type": "display_data"
    },
    {
     "data": {
      "application/vnd.jupyter.widget-view+json": {
       "model_id": "0251c97a03df4e3b8cf1ccc0755b9b4a",
       "version_major": 2,
       "version_minor": 0
      },
      "text/plain": [
       "HBox(children=(FloatProgress(value=1.0, bar_style='info', description='Validating', layout=Layout(flex='2'), m…"
      ]
     },
     "metadata": {},
     "output_type": "display_data"
    },
    {
     "name": "stderr",
     "output_type": "stream",
     "text": [
      "IOPub message rate exceeded.\n",
      "The Jupyter server will temporarily stop sending output\n",
      "to the client in order to avoid crashing it.\n",
      "To change this limit, set the config variable\n",
      "`--ServerApp.iopub_msg_rate_limit`.\n",
      "\n",
      "Current values:\n",
      "ServerApp.iopub_msg_rate_limit=1000.0 (msgs/sec)\n",
      "ServerApp.rate_limit_window=3.0 (secs)\n",
      "\n",
      "IOPub message rate exceeded.\n",
      "The Jupyter server will temporarily stop sending output\n",
      "to the client in order to avoid crashing it.\n",
      "To change this limit, set the config variable\n",
      "`--ServerApp.iopub_msg_rate_limit`.\n",
      "\n",
      "Current values:\n",
      "ServerApp.iopub_msg_rate_limit=1000.0 (msgs/sec)\n",
      "ServerApp.rate_limit_window=3.0 (secs)\n",
      "\n",
      "IOPub message rate exceeded.\n",
      "The Jupyter server will temporarily stop sending output\n",
      "to the client in order to avoid crashing it.\n",
      "To change this limit, set the config variable\n",
      "`--ServerApp.iopub_msg_rate_limit`.\n",
      "\n",
      "Current values:\n",
      "ServerApp.iopub_msg_rate_limit=1000.0 (msgs/sec)\n",
      "ServerApp.rate_limit_window=3.0 (secs)\n",
      "\n",
      "IOPub message rate exceeded.\n",
      "The Jupyter server will temporarily stop sending output\n",
      "to the client in order to avoid crashing it.\n",
      "To change this limit, set the config variable\n",
      "`--ServerApp.iopub_msg_rate_limit`.\n",
      "\n",
      "Current values:\n",
      "ServerApp.iopub_msg_rate_limit=1000.0 (msgs/sec)\n",
      "ServerApp.rate_limit_window=3.0 (secs)\n",
      "\n",
      "IOPub message rate exceeded.\n",
      "The Jupyter server will temporarily stop sending output\n",
      "to the client in order to avoid crashing it.\n",
      "To change this limit, set the config variable\n",
      "`--ServerApp.iopub_msg_rate_limit`.\n",
      "\n",
      "Current values:\n",
      "ServerApp.iopub_msg_rate_limit=1000.0 (msgs/sec)\n",
      "ServerApp.rate_limit_window=3.0 (secs)\n",
      "\n"
     ]
    },
    {
     "data": {
      "application/vnd.jupyter.widget-view+json": {
       "model_id": "",
       "version_major": 2,
       "version_minor": 0
      },
      "text/plain": [
       "HBox(children=(FloatProgress(value=1.0, bar_style='info', description='Validating', layout=Layout(flex='2'), m…"
      ]
     },
     "metadata": {},
     "output_type": "display_data"
    },
    {
     "data": {
      "application/vnd.jupyter.widget-view+json": {
       "model_id": "",
       "version_major": 2,
       "version_minor": 0
      },
      "text/plain": [
       "HBox(children=(FloatProgress(value=1.0, bar_style='info', description='Validating', layout=Layout(flex='2'), m…"
      ]
     },
     "metadata": {},
     "output_type": "display_data"
    },
    {
     "data": {
      "application/vnd.jupyter.widget-view+json": {
       "model_id": "",
       "version_major": 2,
       "version_minor": 0
      },
      "text/plain": [
       "HBox(children=(FloatProgress(value=1.0, bar_style='info', description='Validating', layout=Layout(flex='2'), m…"
      ]
     },
     "metadata": {},
     "output_type": "display_data"
    },
    {
     "name": "stderr",
     "output_type": "stream",
     "text": [
      "/media/data/conda/jrose3/envs/sequoia/lib/python3.8/site-packages/pytorch_lightning/trainer/trainer.py:895: UserWarning: Detected KeyboardInterrupt, attempting graceful shutdown...\n",
      "  rank_zero_warn('Detected KeyboardInterrupt, attempting graceful shutdown...')\n",
      "/media/data/conda/jrose3/envs/sequoia/lib/python3.8/site-packages/pytorch_lightning/trainer/configuration_validator.py:99: UserWarning: you passed in a test_dataloader but have no test_step. Skipping test loop\n",
      "  rank_zero_warn(f'you passed in a {loader_name} but have no {step_name}. Skipping {stage} loop')\n"
     ]
    },
    {
     "name": "stdout",
     "output_type": "stream",
     "text": [
      "Freezing 7 layers before training, out of 8. Unfrozen layer names: ['layer4']\n"
     ]
    }
   ],
   "source": [
    "# %reload_ext tensorboard\n",
    "# %tensorboard --port 0 --logdir lightning_logs/\n",
    "\n",
    "main()"
   ]
  },
  {
   "cell_type": "code",
   "execution_count": null,
   "id": "25278bba",
   "metadata": {},
   "outputs": [],
   "source": [
    "# %debug"
   ]
  },
  {
   "cell_type": "code",
   "execution_count": null,
   "id": "0ed0ac39",
   "metadata": {},
   "outputs": [],
   "source": [
    "# %pip list\n",
    "#| grep tornado"
   ]
  },
  {
   "cell_type": "markdown",
   "id": "f05b5aa3",
   "metadata": {
    "tags": []
   },
   "source": [
    "## Scratch"
   ]
  },
  {
   "cell_type": "code",
   "execution_count": null,
   "id": "ef523db6",
   "metadata": {},
   "outputs": [],
   "source": []
  },
  {
   "cell_type": "code",
   "execution_count": null,
   "id": "0cd143d3",
   "metadata": {},
   "outputs": [],
   "source": [
    "\n",
    "\n",
    "# config = read_hydra_config(config_dir = str(Path(config_path).parent),\n",
    "#                            job_name=\"test_app\",\n",
    "#                            config_name=Path(config_path).stem)\n",
    "\n",
    "# template_utils.extras(config)\n",
    "\n",
    "\n",
    "\n",
    "# log.info(f\"<----------Initiating auto scale_batch_size tuning----------->\")\n",
    "# log.info(f\"Tuning kwargs:\")\n",
    "# # log.info(f\"Tuning kwargs:\\n{OmegaConf.to_yaml(config.tuner.scale_batch_size.kwargs, resolve=True)}\")\n",
    "# log.info(OmegaConf.to_container(config.tuner.scale_batch_size.kwargs, resolve=True))\n",
    "# # OmegaConf.to_container(\n",
    "\n",
    "# # OmegaConf.to_yaml(\n",
    "\n",
    "# import rich\n",
    "\n",
    "# name = Path(config_path).stem\n",
    "# log_path=Path(config_path).parent / \"experiment_logs\"\n",
    "\n",
    "\n",
    "# if log_path is None:\n",
    "#     log_path = f\"./{name}.log\"\n",
    "# else:\n",
    "#     os.makedirs(log_path, exist_ok=True)\n",
    "#     log_path = str(Path(log_path, name)) + '.log'\n",
    "\n",
    "# file = open(log_path, 'w')\n",
    "# template_utils.print_config(config, resolve=True, file=file)\n",
    "# file.close()\n",
    "# rich.print\n",
    "# rich.print"
   ]
  }
 ],
 "metadata": {
  "kernelspec": {
   "display_name": "Python 3",
   "language": "python",
   "name": "python3"
  },
  "language_info": {
   "codemirror_mode": {
    "name": "ipython",
    "version": 3
   },
   "file_extension": ".py",
   "mimetype": "text/x-python",
   "name": "python",
   "nbconvert_exporter": "python",
   "pygments_lexer": "ipython3",
   "version": "3.8.5"
  }
 },
 "nbformat": 4,
 "nbformat_minor": 5
}
