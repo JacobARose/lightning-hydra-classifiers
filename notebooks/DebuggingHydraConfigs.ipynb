{
 "cells": [
  {
   "cell_type": "markdown",
   "id": "3ced55e1",
   "metadata": {},
   "source": [
    "# DebuggingHydraConfigs.ipynb\n",
    "\n",
    "Author: Jacob A Rose  \n",
    "\n",
    "Created On: Sunday May 23rd, 2021"
   ]
  },
  {
   "cell_type": "markdown",
   "id": "55e31e8b",
   "metadata": {},
   "source": [
    "# Model composition"
   ]
  },
  {
   "cell_type": "code",
   "execution_count": null,
   "id": "b71aef69",
   "metadata": {},
   "outputs": [],
   "source": [
    "import torchmetrics as metrics"
   ]
  },
  {
   "cell_type": "code",
   "execution_count": null,
   "id": "d18c9a46",
   "metadata": {},
   "outputs": [],
   "source": [
    "dir(metrics)"
   ]
  },
  {
   "cell_type": "code",
   "execution_count": null,
   "id": "d6fb3550",
   "metadata": {},
   "outputs": [],
   "source": [
    "from lightning_hydra_classifiers.models.resnet import ResNet\n",
    "from omegaconf import DictConfig, ListConfig, OmegaConf"
   ]
  },
  {
   "cell_type": "code",
   "execution_count": null,
   "id": "b287656a",
   "metadata": {},
   "outputs": [],
   "source": [
    "def build_model(config):\n",
    "    \n",
    "    if isinstance(config.input_shape, (ListConfig, DictConfig)):\n",
    "        config.input_shape = OmegaConf.to_container(config.input_shape, resolve=True)\n",
    "        \n",
    "    model = ResNet(model_name=config.basename,\n",
    "                   num_classes=config.num_classes,\n",
    "                   input_shape=config.input_shape,\n",
    "                   optimizer=config.optimizer)\n",
    "    model.reset_classifier(config.num_classes,'avg')\n",
    "    model.unfreeze(getattr(model, config.unfreeze[0]))\n",
    "    return model\n"
   ]
  },
  {
   "cell_type": "code",
   "execution_count": null,
   "id": "6da573bd",
   "metadata": {},
   "outputs": [],
   "source": [
    "DictConfig({\"a\":6,\"b\":9})"
   ]
  },
  {
   "cell_type": "code",
   "execution_count": null,
   "id": "2c1978ae",
   "metadata": {},
   "outputs": [],
   "source": [
    "config = DictConfig({\"input_shape\":[3, 512,512],\n",
    "                     \"basename\":\"resnet50\",\n",
    "                     \"num_classes\":19,\n",
    "                     \"optimizer\":{\n",
    "                                     \"name\":\"Adam\",\n",
    "                                     \"lr\":2.5e-3\n",
    "                                 },\n",
    "                     \"unfreeze\":[\"layer4\"]\n",
    "                    })"
   ]
  },
  {
   "cell_type": "code",
   "execution_count": null,
   "id": "1658efc9",
   "metadata": {},
   "outputs": [],
   "source": [
    "config"
   ]
  },
  {
   "cell_type": "code",
   "execution_count": null,
   "id": "4d7a0420",
   "metadata": {},
   "outputs": [],
   "source": [
    "\n",
    "model = build_model(config)"
   ]
  },
  {
   "cell_type": "code",
   "execution_count": null,
   "id": "bae7ce0f",
   "metadata": {},
   "outputs": [],
   "source": [
    "from rich import print as pp\n",
    "\n",
    "pp(dir(model))"
   ]
  },
  {
   "cell_type": "code",
   "execution_count": null,
   "id": "5ae7e7b4",
   "metadata": {},
   "outputs": [],
   "source": []
  },
  {
   "cell_type": "markdown",
   "id": "afa08efa",
   "metadata": {
    "tags": []
   },
   "source": [
    "# End"
   ]
  },
  {
   "cell_type": "code",
   "execution_count": null,
   "id": "bc4cd480",
   "metadata": {},
   "outputs": [],
   "source": [
    "# results = {\"batch_size\":  512,\n",
    "# \"input_shape\": [3, 512, 512],\n",
    "# \"lr\":          0.00275,\n",
    "# \"model_name\":  \"resnet50\",\n",
    "# \"num_classes\": 19,\n",
    "# \"optimizer\":   {'_target_': 'torch.optim.Adam', 'name': 'Adam', 'lr': 0.00275, 'weight_decay': 0.0},\n",
    "# \"seed\":        None}\n",
    "\n",
    "# import os\n",
    "# os.getcwd()\n",
    "\n",
    "# fpath = \"/media/data/jacob/wandb_cache/models/resnet50_512/results/stage_idx_0/hparam_batch_size.yaml\"\n",
    "# with open(fpath, 'w') as f:\n",
    "#     yaml.dump(results, f)\n",
    "    \n",
    "    \n",
    "\n",
    "# with open(fpath, 'r') as f:\n",
    "#     loaded = yaml.safe_load(f)\n",
    "    \n",
    "# with open(stage_config.init.config.results_path, 'w') as fp:\n",
    "#     yaml.dump({\"optimized_hparam_key\":\"lr\", \n",
    "#                **{'batch_size':model.hparams.batch_size,\n",
    "#                   'lr':model.hparams.lr}}, fp)\n",
    "        \n",
    "        \n",
    "        \n",
    "        \n",
    "# with open(stage_config.init.config.results_path, 'w') as fp:\n",
    "#     yaml.dump({\"optimized_hparam_key\":\"lr\", \n",
    "#                **model.hparams}, fp)\n",
    "# #                       'lr':model.hparams.lr}}, fp)\n",
    "\n",
    "\n",
    "# with open(stage_config.init.config.results_path, 'w') as fp:\n",
    "#     yaml.dump(dict(model.hparams), fp)\n",
    "#                \"optimized_hparam_key\":\"lr\"\n",
    "#                }, fp)\n",
    "\n",
    "# import yaml\n",
    "# dir(yaml)\n",
    "\n",
    "########################\n",
    "\n",
    "\n",
    "config_dir = \"/media/data/jacob/GitHub/lightning-hydra-classifiers/configs\"\n",
    "\n",
    "from hydra.core.hydra_config import HydraConfig\n",
    "\n",
    "from hydra.experimental import compose, initialize\n",
    "from omegaconf import OmegaConf\n",
    "import os\n",
    "from rich import print as pp\n",
    "os.chdir(config_dir)\n",
    "\n",
    "# context initialization\n",
    "with initialize(config_path=\"../configs\", job_name=\"test_app\"):\n",
    "#     cfg = compose(config_name=\"PNAS_config\")\n",
    "#     print(HydraConfig.get().job.name)\n",
    "    cfg = compose(config_name=\"Extant_config\")\n",
    "#     print(OmegaConf.to_yaml(cfg))\n",
    "    \n",
    "    pp(OmegaConf.to_container(cfg, resolve=True))\n",
    "\n",
    "#####################\n",
    "\n",
    "\n",
    "# global initialization\n",
    "# initialize(config_path=\"conf\", job_name=\"test_app\")\n",
    "# cfg = compose(config_name=\"config\", overrides=[\"db=mysql\", \"db.user=me\"])\n",
    "# print(OmegaConf.to_yaml(cfg))\n",
    "# OmegaConf.to_yaml(cfg)\n",
    "# OmegaConf.to_container(cfg['trainer'], resolve=True)\n",
    "# OmegaConf.to_container(cfg['model'], resolve=True)\n",
    "# OmegaConf.to_container(cfg['logger'], resolve=True)\n",
    "# OmegaConf.to_container(cfg['datamodule'], resolve=True)\n",
    "# OmegaConf.to_container(cfg['callbacks'], resolve=True)\n",
    "# OmegaConf.to_container(cfg['work_dir'], resolve=True)\n",
    "# cfg['debug']\n",
    "# cfg['print_config']\n",
    "# cfg['disable_warnings']\n",
    "# OmegaConf.to_container(, resolve=True)\n",
    "# %debug\n",
    "\n",
    "# pp(OmegaConf.to_container(cfg, resolve=True))\n",
    "\n",
    "############\n",
    "# test_cfg = OmegaConf.create({\"root_dir\":\"${oc.env:WANDB_CACHE_DIR}\"})\n",
    "\n",
    "# print(OmegaConf.to_container(test_cfg, resolve=True))"
   ]
  }
 ],
 "metadata": {
  "kernelspec": {
   "display_name": "Python 3",
   "language": "python",
   "name": "python3"
  },
  "language_info": {
   "codemirror_mode": {
    "name": "ipython",
    "version": 3
   },
   "file_extension": ".py",
   "mimetype": "text/x-python",
   "name": "python",
   "nbconvert_exporter": "python",
   "pygments_lexer": "ipython3",
   "version": "3.8.5"
  }
 },
 "nbformat": 4,
 "nbformat_minor": 5
}
