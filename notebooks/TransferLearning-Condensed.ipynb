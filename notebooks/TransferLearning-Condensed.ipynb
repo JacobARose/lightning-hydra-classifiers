{
 "cells": [
  {
   "cell_type": "markdown",
   "metadata": {
    "tags": []
   },
   "source": [
    "# Transfer Learning Experiments\n",
    "\n",
    "Created by: Jacob A Rose  \n",
    "Created On: Wednesday Oct 6th, 2021  \n",
    "\n",
    "Based on Notebook located at: https://jarvislabs.ai/blogs/transfer-learning"
   ]
  },
  {
   "cell_type": "markdown",
   "metadata": {
    "tags": []
   },
   "source": [
    "## Imports & Definitions"
   ]
  },
  {
   "cell_type": "code",
   "execution_count": 1,
   "metadata": {},
   "outputs": [],
   "source": [
    "from rich import print as pp\n",
    "\n",
    "# import lux\n",
    "import pandas as pd\n",
    "# lux.config.default_display = \"pandas\""
   ]
  },
  {
   "cell_type": "code",
   "execution_count": 2,
   "metadata": {},
   "outputs": [],
   "source": [
    "import torch\n",
    "import torch.nn as nn\n",
    "import torch.nn.functional as F\n",
    "import torch.optim as optim\n",
    "from torch.optim import lr_scheduler\n",
    "from torch.utils.data import DataLoader\n",
    "import numpy as np\n",
    "import torchvision\n",
    "from torchvision import datasets, models, transforms as t\n",
    "from fastprogress.fastprogress import master_bar, progress_bar\n",
    "import matplotlib.pyplot as plt\n",
    "import time\n",
    "import os\n",
    "import copy\n",
    "from pathlib import Path\n",
    "\n",
    "from IPython.core.interactiveshell import InteractiveShell\n",
    "InteractiveShell.ast_node_interactivity = \"all\"\n",
    "\n",
    "import logging\n",
    "\n",
    "logger = logging.Logger(__name__)\n",
    "logger.setLevel('INFO')"
   ]
  },
  {
   "cell_type": "code",
   "execution_count": 3,
   "metadata": {},
   "outputs": [],
   "source": [
    "from tqdm.auto import tqdm, trange\n"
   ]
  },
  {
   "cell_type": "markdown",
   "metadata": {
    "heading_collapsed": "true",
    "tags": []
   },
   "source": [
    "### Creating Model"
   ]
  },
  {
   "cell_type": "code",
   "execution_count": 4,
   "metadata": {},
   "outputs": [],
   "source": [
    "from prettytable import PrettyTable\n",
    "\n",
    "def count_parameters(model, verbose: bool=True):\n",
    "    table = PrettyTable([\"Modules\", \"Parameters\"])\n",
    "    total_params = 0\n",
    "    trainable_params = 0\n",
    "    for name, parameter in model.named_parameters():\n",
    "        param = parameter.numel()\n",
    "        \n",
    "        total_params += param\n",
    "        if not parameter.requires_grad:\n",
    "            continue\n",
    "        table.add_row([name, param])\n",
    "        trainable_params+=param\n",
    "    if verbose:\n",
    "        print(table)\n",
    "    print(f\"Total Trainable Params: {trainable_params:,}\")\n",
    "    print(f\"Total non-Trainable Params: {total_params-trainable_params:,}\")\n",
    "    return table\n",
    "\n",
    "\n",
    "\n",
    "from more_itertools import unzip\n",
    "from toolz.itertoolz import concat\n",
    "\n",
    "def collect_results(results):\n",
    "    \"\"\"\n",
    "    Converts a list of flat records/rows to a list of tall, row-wise concatenated columns\n",
    "    \n",
    "    Useful for collecting a set of batches or individual samples of 0- and 1-dimensional tensors returned by each model step, collected in a list in model.on_epoch_end.\n",
    "    \n",
    "    in:\n",
    "        [(item_00, item_01,... item_0C),\n",
    "         (item_10, item_11,... item_1C),\n",
    "         ...\n",
    "         (item_N0, item_N1,... item_NC)]\n",
    "     out:\n",
    "         [[item_00, item_10,... item_N0],\n",
    "         [item_01, item_11,... item_N1],\n",
    "         ...\n",
    "         [item_0C, item_1C,... item_NC]]\n",
    "    \n",
    "    \"\"\"\n",
    "\n",
    "    rows = [list(concat(r)) for r in unzip(results)]\n",
    "    cols = []*len(rows)\n",
    "    print(cols)\n",
    "    for i, row in enumerate(rows):\n",
    "        if isinstance(row[0], torch.Tensor):\n",
    "            if len(row[0].shape) <= 1:\n",
    "                cols.append(torch.stack(row, dim=0).cpu().numpy())\n",
    "            else:\n",
    "                cols.append(torch.cat(row).cpu().numpy())\n",
    "        elif isinstance(row[0], list):\n",
    "            cols.extend(list(concat(row)))\n",
    "        elif isinstance(row[0], (str, int)):\n",
    "            cols.append(list(row))\n",
    "\n",
    "    np.all([len(c)==len(cols[0]) for c in cols])\n",
    "    \n",
    "    return cols\n",
    "\n",
    "\n",
    "\n",
    "\n",
    "\n",
    "# table = count_parameters(model)\n",
    "\n",
    "# print(table)"
   ]
  },
  {
   "cell_type": "code",
   "execution_count": 5,
   "metadata": {},
   "outputs": [],
   "source": [
    "# source: https://github.com/hirune924/lightning-hydra/blob/master/layer/layer.py\n",
    "import torch\n",
    "import torch.nn as nn\n",
    "import pytorch_lightning as pl\n",
    "# from typing import Optional\n",
    "import timm\n",
    "import glob\n",
    "import hydra\n",
    "from collections import OrderedDict\n",
    "from typing import *\n",
    "\n",
    "\n",
    "class Flatten(nn.Module):\n",
    "    def forward(self,x):\n",
    "        return torch.flatten(x, start_dim=1)\n",
    "    \n",
    "\n",
    "class AdaptiveConcatPool2d(nn.Module):\n",
    "    \"Layer that concats `AdaptiveAvgPool2d` and `AdaptiveMaxPool2d`.\"\n",
    "\n",
    "    def __init__(self, sz: Optional[int] = None):\n",
    "        super(AdaptiveConcatPool2d, self).__init__()\n",
    "        \"Output will be 2*sz or 2 if sz is None\"\n",
    "        self.output_size = sz or 1\n",
    "        self.ap = nn.AdaptiveAvgPool2d(self.output_size)\n",
    "        self.mp = nn.AdaptiveMaxPool2d(self.output_size)\n",
    "\n",
    "    def forward(self, x):\n",
    "        return torch.cat([self.mp(x), self.ap(x)], 1)\n",
    "    \n",
    "\n",
    "def build_global_pool(pool_type: str=\"avg\",\n",
    "                      pool_size: int=1, \n",
    "                      feature_size: Optional[int]=0):\n",
    "\n",
    "#     head = OrderedDict()\n",
    "    if pool_type == 'avg':\n",
    "        global_pool = nn.AdaptiveAvgPool2d(pool_size)\n",
    "        return global_pool, feature_size\n",
    "        \n",
    "    elif pool_type == 'avgdrop':\n",
    "        global_pool = nn.Sequential(nn.AdaptiveAvgPool2d(pool_size),\n",
    "                                    nn.Dropout2d(p=0.3, inplace=False))\n",
    "        return global_pool, feature_size\n",
    "    elif pool_type == 'avgmax':\n",
    "        feature_size = feature_size * 2\n",
    "        global_pool = AdaptiveConcatPool2d(pool_size)\n",
    "        return global_pool, feature_size\n",
    "\n",
    "    elif pool_type == 'max':\n",
    "        global_pool = nn.AdaptiveMaxPool2d(pool_size)\n",
    "        return global_pool, feature_size\n",
    "    \n",
    "    else:\n",
    "        raise NotImplementedError(f\"pool_type={pool_type} invalid.\")\n",
    "\n",
    "\n",
    "def load_model_checkpoint(model, ckpt_path: str):\n",
    "    ckpt_path = glob.glob(hydra.utils.to_absolute_path(ckpt_path))\n",
    "    model = model.load_state_dict(torch.load(ckpt_path[0]))\n",
    "    return model\n",
    "\n",
    "from collections import OrderedDict\n",
    "\n",
    "def build_timm_backbone(backbone_name='gluon_seresnext50_32x4d',\n",
    "                         pretrained: Union[bool, str]=True,\n",
    "                         num_classes: int=1000,\n",
    "                         feature_layer: int=-2):\n",
    "    if pretrained == \"imagenet\":\n",
    "        num_classes = 1000\n",
    "\n",
    "    model = timm.create_model(model_name=backbone_name, num_classes=num_classes, pretrained=pretrained)\n",
    "    if isinstance(pretrained, str) and pretrained != \"imagenet\":\n",
    "        model = load_model_checkpoint(model, ckpt_path=pretrained)\n",
    "        \n",
    "#     body = nn.Sequential(*list(model.children())[:feature_layer])\n",
    "\n",
    "    body = nn.Sequential(OrderedDict(list(model.named_children())[:feature_layer]))\n",
    "    \n",
    "    return body\n",
    "\n",
    "\n",
    "def build_model_backbone(backbone_name='gluon_seresnext50_32x4d',\n",
    "                         pretrained: Union[bool, str]=True,\n",
    "                         num_classes: int=1000,\n",
    "                         feature_layer: int=-2,\n",
    "                         model_repo: str= \"timm\"):\n",
    "\n",
    "    if model_repo == \"timm\":\n",
    "        return build_timm_backbone(backbone_name=backbone_name,\n",
    "                                   pretrained=pretrained,\n",
    "                                   num_classes=num_classes,\n",
    "                                   feature_layer=feature_layer)\n",
    "    # TBD Add other pretrained model backends\n",
    "    raise NotImplementedError(f\"Invalid model_repo={model_repo}\")\n",
    "    \n",
    "\n",
    "def build_model_head(num_classes: int=1000,\n",
    "                     pool_size: int=1,\n",
    "                     pool_type: str='avg',\n",
    "                     head_type: str='linear',\n",
    "                     feature_size: int=512,\n",
    "                     hidden_size: Optional[int]=512):\n",
    "    \"\"\"\n",
    "    \n",
    "    Returns a nn.Sequential model containing 3 children:\n",
    "        global_pool -> flatten -> classifier\n",
    "        \n",
    "    Available pool_types:\n",
    "        - \"avg\"\n",
    "            global_avg_pool\n",
    "        - \"avgdrop\"\n",
    "            global_avg_pool -> dropout\n",
    "        - \"avgmax\"\n",
    "            [global_avg_pool | global_max_pool]\n",
    "        \"max\"\n",
    "            global_max_pool\n",
    "            \n",
    "            \n",
    "    pool_types to be explored:\n",
    "        - \"maxdrop\"\n",
    "            global_max_pool -> dropout\n",
    "        - \"avgmaxdrop\"\n",
    "            [global_avg_pool | global_max_pool] -> dropout\n",
    "\n",
    "        \n",
    "    Available head_types:\n",
    "        - linear\n",
    "        \n",
    "        - custom\n",
    "    \n",
    "    \"\"\"\n",
    "\n",
    "    head = OrderedDict()\n",
    "    global_pool, feature_size = build_global_pool(pool_type=pool_type,\n",
    "                                                  pool_size=pool_size,\n",
    "                                                  feature_size=feature_size)\n",
    "    head[\"global_pool\"] = global_pool\n",
    "    head[\"flatten\"] = Flatten()\n",
    "    \n",
    "    classifier_input_feature_size = feature_size*(pool_size**2)\n",
    "    if head_type=='linear':\n",
    "        hidden_size = 0\n",
    "        head[\"classifier\"] = nn.Linear(classifier_input_feature_size, num_classes)\n",
    "    elif head_type=='custom':\n",
    "        head[\"classifier\"] = nn.Sequential(nn.Linear(classifier_input_feature_size, hidden_size),\n",
    "                                nn.RReLU(lower=0.125, upper=0.3333333333333333, inplace=False),\n",
    "                                nn.BatchNorm1d(hidden_size),\n",
    "                                nn.Linear(hidden_size, num_classes))\n",
    "    head = nn.Sequential(head)\n",
    "    return head\n",
    "\n",
    "\n",
    "\n",
    "def build_model(backbone_name='gluon_seresnext50_32x4d',\n",
    "                pretrained: Union[bool, str]=True,\n",
    "                num_classes: int=1000,\n",
    "                pool_size: int=1,\n",
    "                pool_type: str='avg',\n",
    "                head_type: str='linear',\n",
    "                hidden_size: Optional[int]=512):\n",
    "    \n",
    "    backbone = build_model_backbone(backbone_name=backbone_name,\n",
    "                                    pretrained=pretrained,\n",
    "                                    num_classes=num_classes,\n",
    "                                    feature_layer=-2)\n",
    "    \n",
    "    feature_size = list(backbone.parameters())[-1].shape[0]\n",
    "    \n",
    "\n",
    "    head = build_model_head(num_classes=num_classes,\n",
    "                            pool_size=pool_size,\n",
    "                            pool_type=pool_type,\n",
    "                            head_type=head_type,\n",
    "                            feature_size=feature_size,\n",
    "                            hidden_size=hidden_size)\n",
    "    \n",
    "    model = nn.Sequential(OrderedDict({\n",
    "        \"backbone\":backbone,\n",
    "        \"head\":head\n",
    "    }))\n",
    "    return model"
   ]
  },
  {
   "cell_type": "code",
   "execution_count": null,
   "metadata": {},
   "outputs": [],
   "source": []
  },
  {
   "cell_type": "code",
   "execution_count": 6,
   "metadata": {},
   "outputs": [],
   "source": [
    "from lightning_hydra_classifiers.utils.metric_utils import get_per_class_metrics, get_scalar_metrics\n",
    "                \n",
    "class LayerSelectPlugin:\n",
    "    \"\"\"\n",
    "    LayerSelectPlugin\n",
    "\n",
    "    To be subclassed by main Pytorch Lightning Module\n",
    "    \n",
    "    Available methods:\n",
    "    * classmethods:\n",
    "        - count_parameters\n",
    "    * instance methods:\n",
    "        - get_batchnorm_modules\n",
    "        - get_conv_modules\n",
    "        - get_linear_modules\n",
    "        - get_named_parameters\n",
    "        - get_named_modules\n",
    "        - get_trainable_parameters\n",
    "        - get_nontrainable_parameters\n",
    "        - count_trainable_batchnorm_layers\n",
    "\n",
    "    \n",
    "    \n",
    "    \"\"\"\n",
    "    def get_batchnorm_modules(self):\n",
    "        return self.get_named_modules(\"bn\")\n",
    "    \n",
    "    def get_conv_modules(self):\n",
    "        return self.get_named_modules(\"conv\")\n",
    "    \n",
    "    def get_linear_modules(self):\n",
    "        return ((n,m) for n,m in self.named_modules() if isinstance(m, nn.modules.Linear))\n",
    "    \n",
    "    \n",
    "    def get_named_parameters(self,\n",
    "                             filter_pattern: Optional[str]=None,\n",
    "                             trainable: bool=False,\n",
    "                             nontrainable: bool=False):\n",
    "        \n",
    "        named_params = self.named_parameters()\n",
    "        if isinstance(filter_pattern, str):\n",
    "            named_params = ((n,p) for n,p in named_params if filter_pattern in n)\n",
    "        if trainable and nontrainable:\n",
    "            logger.warning('Returning all parameters regardless of the values of requires_grad.')\n",
    "            return named_params\n",
    "        if trainable:\n",
    "            return ((n, p) for n, p in named_params if p.requires_grad)\n",
    "        if nontrainable:\n",
    "            return ((n, p) for n, p in named_params if not p.requires_grad)\n",
    "        return named_params\n",
    "\n",
    "    def get_named_modules(self,\n",
    "                          filter_pattern: Optional[str]=None):\n",
    "        if isinstance(filter_pattern, str):\n",
    "            return ((n,l) for n,l in self.named_modules() if filter_pattern in n)\n",
    "        return self.named_modules()\n",
    "            \n",
    "    def get_trainable_parameters(self):\n",
    "        return (p for _, p in self.get_named_parameters(trainable=True))\n",
    "#         return (p for p in self.parameters() if p.requires_grad)\n",
    "\n",
    "    def get_nontrainable_parameters(self):\n",
    "        return (p for _, p in self.get_named_parameters(nontrainable=True))\n",
    "#         return (p for p in self.parameters() if not p.requires_grad)\n",
    "\n",
    "    def count_trainable_batchnorm_layers(self) -> None:\n",
    "        is_training = np.array([m.training for _, m in self.get_batchnorm_modules()])\n",
    "        print(f\"trainable batchnorm modules:{np.sum(is_training)}\")\n",
    "        print(f\"nontrainable batchnorm modules:{np.sum(~is_training)}\")\n",
    "\n",
    "        is_training = np.array([p.requires_grad for _, p in self.get_named_parameters(\"bn\")])\n",
    "        print(f\"batchnorm params with requires_grad=True: :{np.sum(is_training)}\")\n",
    "        print(f\"batchnorm params with requires_grad=False:{np.sum(~is_training)}\")\n",
    "        \n",
    "    @classmethod\n",
    "    def count_parameters(cls, model, verbose: bool=True) -> PrettyTable:\n",
    "        return count_parameters(model, verbose=verbose)\n",
    "\n",
    "\n",
    "    \n",
    "class FinetuningLightningPlugin:\n",
    "    \"\"\"\n",
    "    FinetuningLightningPlugin\n",
    "    \n",
    "    To be subclassed by main Pytorch Lightning Module\n",
    "    \n",
    "    Available methods:\n",
    "    * classmethods:\n",
    "        - freeze_up_to\n",
    "        - freeze\n",
    "        - unfreeze\n",
    "        - freeze_bn\n",
    "        - set_bn_eval\n",
    "    * instance methods:\n",
    "        - freeze_backbone\n",
    "        - unfreeze_backbone_top_layers\n",
    "    \"\"\"\n",
    "    \n",
    "    \n",
    "    \n",
    "    @classmethod\n",
    "    def freeze_up_to(cls, \n",
    "                     module, \n",
    "                     stop_layer: Union[int, str]=None,\n",
    "                     freeze_bn: bool=True):\n",
    "\n",
    "        cls.unfreeze(module, freeze_bn=freeze_bn)\n",
    "\n",
    "        if isinstance(stop_layer, str):\n",
    "            modules = list(module.named_modules())\n",
    "        elif isinstance(stop_layer, int) or (stop_layer is None):\n",
    "            modules = list(enumerate(module.modules()))\n",
    "\n",
    "        for module_id, m in modules:\n",
    "            if stop_layer == module_id:\n",
    "                logger.warning(f\"Stopping at layer: {n}\")\n",
    "                break\n",
    "            cls.freeze(m, freeze_bn=freeze_bn)\n",
    "#             for param_id, param in m.named_parameters():\n",
    "#                 param.requires_grad = False\n",
    "#             m.eval()\n",
    "#             cls.freeze_bn(m, freeze_bn)\n",
    "            logger.warning(f\"Layer {module_id}: type={type(m)}|training={m.training}\")\n",
    "            logger.warning(f\"requires_grad={np.all([p.requires_grad for p in m.parameters()])}\")\n",
    "\n",
    "    @classmethod\n",
    "    def freeze(cls,\n",
    "               module,\n",
    "               freeze_bn: bool=True,\n",
    "               filter_pattern: Optional[str]=None):\n",
    "        modules = list(module.named_modules())\n",
    "        for n, m in modules:\n",
    "#             if filter_pattern not in n:\n",
    "            if isinstance(filter_pattern, str) and (filter_pattern not in n):\n",
    "                continue\n",
    "#             m.eval()\n",
    "            for p_name, p in m.named_parameters():\n",
    "#                 if filter_pattern not in n:\n",
    "                if isinstance(filter_pattern, str) and (filter_pattern not in n):\n",
    "                    continue\n",
    "                if freeze_bn or not isinstance(m, nn.BatchNorm2d):\n",
    "                    p.requires_grad=False\n",
    "            cls.freeze_bn(m, freeze_bn)        \n",
    "\n",
    "            \n",
    "    @classmethod\n",
    "    def unfreeze(cls,\n",
    "                 module,\n",
    "                 filter_pattern: Optional[str]=None):\n",
    "        modules = list(module.named_modules())\n",
    "        for n, m in modules:\n",
    "            if isinstance(filter_pattern, str) and (filter_pattern not in n):\n",
    "                continue\n",
    "            for p_name, p in m.named_parameters():\n",
    "                p.requires_grad=True\n",
    "            m.train()\n",
    "\n",
    "                \n",
    "    @classmethod\n",
    "    def freeze_bn(cls, module: nn.Module, freeze_bn: bool):\n",
    "        for m in module.modules():\n",
    "            if isinstance(m, nn.BatchNorm2d): \n",
    "                if freeze_bn:\n",
    "                    for p in m.parameters():\n",
    "                        p.requires_grad = False\n",
    "#                     m.eval() \n",
    "#                 else:\n",
    "#                     m.train()\n",
    "\n",
    "    @classmethod\n",
    "    def set_bn_eval(cls, module: nn.Module)->None:\n",
    "        \"Set bn layers in eval mode for all recursive children of `m`.\"\n",
    "        for l in module.children():\n",
    "            if isinstance(l, nn.BatchNorm2d) and not next(l.parameters()).requires_grad:\n",
    "                l.eval()\n",
    "            cls.set_bn_eval(l)\n",
    "\n",
    "\n",
    "    def freeze_backbone(self, freeze_bn: bool=True):\n",
    "        \n",
    "        self.freeze(self.model.backbone,\n",
    "                    freeze_bn=freeze_bn)\n",
    "        self.unfreeze(self.model.head)\n",
    "\n",
    "        \n",
    "    def unfreeze_backbone_top_layers(self,\n",
    "                                     unfreeze_down_to: Union[str,int]=-1):\n",
    "        if isinstance(unfreeze_down_to, str):\n",
    "            layers = list(reversed(list(self.model.backbone.named_children())))\n",
    "        if isinstance(unfreeze_down_to, int):\n",
    "            if unfreeze_down_to == 0:\n",
    "                print(f\"Pass non-zero integer or str label name to unfreeze layers. Returning without change.\")\n",
    "                return\n",
    "            layers = list(reversed(list(enumerate(self.model.backbone.children()))))\n",
    "            if unfreeze_down_to < 0:\n",
    "                unfreeze_down_to = len(layers) + unfreeze_down_to\n",
    "        \n",
    "        for layer_id, l in layers:\n",
    "            if layer_id == unfreeze_down_to:\n",
    "                break\n",
    "            self.unfreeze(l)\n",
    "\n",
    "\n",
    "\n",
    "class LightningMetricsPlugin:\n",
    "    \"\"\"\n",
    "    LightningMetricsPlugin\n",
    "    \n",
    "    To be subclassed by main Pytorch Lightning Module\n",
    "    \n",
    "    Available methods:\n",
    "    * instance methods:\n",
    "        - log_metric_step\n",
    "        - init_metrics\n",
    "    \"\"\"\n",
    "    \n",
    "    \n",
    "    def log_metric_step(self,\n",
    "                        stage: str='train',\n",
    "                        omit_metric_types: Optional[List[str]]=None,\n",
    "                        omit_metric_keys: Optional[List[str]]=None):\n",
    "        omit_metric_types = omit_metric_types or []\n",
    "        omit_metric_keys = omit_metric_keys or []\n",
    "        \n",
    "        for metric_type, metric_collection in self.all_metrics[stage].items():\n",
    "            if metric_type in omit_metric_types:\n",
    "                continue\n",
    "            if metric_type == \"scalar\":\n",
    "                self.log_dict({k:v for k,v in metric_collection.items() if k not in omit_metric_keys},\n",
    "                               on_step=False, on_epoch=True, prog_bar=True, logger=True)\n",
    "\n",
    "            elif metric_type == \"per_class\":\n",
    "                for k,v in metric_collection.items():\n",
    "                    if k in omit_metric_keys:\n",
    "                        continue\n",
    "                    results = v.compute()\n",
    "                    for class_idx, result in enumerate(results): #range(len(results)):\n",
    "                        self.log(f\"{k}_class_{class_idx}\", result,\n",
    "                                 on_step=False, on_epoch=True, prog_bar=False, logger=True)\n",
    "            else:\n",
    "                logger.warning(f\"[Warning] {metric_type} requires specialized handling in lightningmodule.log_metric_step().\")\n",
    "\n",
    "    def init_metrics(self,\n",
    "                     stage: str='train',\n",
    "                     tag: Optional[str]=None):\n",
    "        tag = tag or \"\"\n",
    "        if not hasattr(self, \"all_metrics\"):\n",
    "            self.all_metrics = {}\n",
    "        \n",
    "        if not hasattr(self,\"num_classes\") and hasattr(self.hparams, \"num_classes\"):\n",
    "            self.num_classes = self.hparams.num_classes\n",
    "        \n",
    "        print(f\"self.num_classes={self.num_classes}\")\n",
    "        if stage in ['train', 'all']:\n",
    "            prefix=f'{tag}_train'.strip(\"_\")\n",
    "            self.metrics_train = get_scalar_metrics(num_classes=self.num_classes, average='macro', prefix=prefix)\n",
    "            self.metrics_train_per_class = get_per_class_metrics(num_classes=self.num_classes, prefix='train')\n",
    "            self.all_metrics['train'] = {\"scalar\":self.metrics_train,\n",
    "                                         \"per_class\":self.metrics_train_per_class}\n",
    "            \n",
    "        if stage in ['val', 'all']:\n",
    "            prefix=f'{tag}_val'.strip(\"_\")\n",
    "            self.metrics_val = get_scalar_metrics(num_classes=self.num_classes, average='macro', prefix=prefix)\n",
    "            self.metrics_val_per_class = get_per_class_metrics(num_classes=self.num_classes, prefix='val')\n",
    "            self.all_metrics['val'] = {\"scalar\":self.metrics_val,\n",
    "                                       \"per_class\":self.metrics_val_per_class}\n",
    "            \n",
    "        if stage in ['test', 'all']:\n",
    "            prefix=f'{tag}_test'.strip(\"_\")\n",
    "            self.metrics_test = get_scalar_metrics(num_classes=self.num_classes, average='macro', prefix=prefix)\n",
    "            self.metrics_test_per_class = get_per_class_metrics(num_classes=self.num_classes, prefix='test')\n",
    "            self.all_metrics['test'] = {\"scalar\":self.metrics_test,\n",
    "                                        \"per_class\":self.metrics_test_per_class}\n",
    "            \n",
    "            \n",
    "\n",
    "\n",
    "class BaseLightningModule(LightningMetricsPlugin,\n",
    "                          FinetuningLightningPlugin,\n",
    "                          LayerSelectPlugin,\n",
    "                          pl.LightningModule):\n",
    "    \"\"\"\n",
    "    BaseLightningModule\n",
    "    \n",
    "    Additional methods made available through subclassed plugins.\n",
    "    \n",
    "        Available methods:\n",
    "    * instance methods:\n",
    "        - step\n",
    "        - update_metric_step\n",
    "        - training_step\n",
    "        - validation_step\n",
    "        - test_step\n",
    "    \n",
    "    Plugins:\n",
    "    \n",
    "        -- LightningMetricsPlugin\n",
    "            * instance methods:\n",
    "                - log_metric_step\n",
    "                - init_metrics\n",
    "        -- FinetuningLightningPlugin\n",
    "            * classmethods:\n",
    "                - freeze_up_to\n",
    "                - freeze\n",
    "                - unfreeze\n",
    "                - freeze_bn\n",
    "                - set_bn_eval\n",
    "            * instance methods:\n",
    "                - freeze_backbone\n",
    "                - unfreeze_backbone_top_layers        \n",
    "        -- LayerSelectPlugin\n",
    "            * classmethods:\n",
    "                - count_parameters\n",
    "            * instance methods:\n",
    "                - get_batchnorm_modules\n",
    "                - get_conv_modules\n",
    "                - get_linear_modules\n",
    "                - get_named_parameters\n",
    "                - get_named_modules\n",
    "                - get_trainable_parameters\n",
    "                - get_nontrainable_parameters\n",
    "                - count_trainable_batchnorm_layers\n",
    "        \n",
    "    \n",
    "    \n",
    "    \"\"\"\n",
    "    \n",
    "    def __init__(self, seed: Optional[int]=None):\n",
    "        super().__init__()\n",
    "        self.seed = seed\n",
    "        pl.seed_everything(seed)\n",
    "\n",
    "    def step(self, batch, batch_idx):\n",
    "        image, y_true = batch[0], batch[1]\n",
    "        y_logit = self(image)\n",
    "        y_pred = torch.argmax(y_logit, dim=-1)\n",
    "        return y_logit, y_true, y_pred    \n",
    "    \n",
    "    def update_metric_step(self,\n",
    "                           y_logit,\n",
    "                           y_true,\n",
    "                           stage: str='train'):\n",
    "        out = {}\n",
    "        for metric_type, metric_collection in self.all_metrics[stage].items():\n",
    "            out[metric_type] = metric_collection(y_logit, y_true)\n",
    "        return out\n",
    "    \n",
    "    \n",
    "    def training_step(self, batch, batch_idx):\n",
    "        y_logit, y_true, y_pred = self.step(batch, batch_idx)\n",
    "        loss = self.criterion(y_logit, y_true)\n",
    "        self.update_metric_step(y_logit,\n",
    "                                y_true,\n",
    "                                stage=\"train\")\n",
    "        self.log_dict({\"train_acc\": self.metrics_train[\"train/acc_top1\"],\n",
    "                       \"train_loss\": loss},\n",
    "                      on_step=True, on_epoch=True,\n",
    "                      prog_bar=True, logger=True)\n",
    "        return loss\n",
    "\n",
    "    def validation_step(self, batch, batch_idx):\n",
    "        y_logit, y_true, y_pred = self.step(batch, batch_idx)\n",
    "        loss = self.criterion(y_logit, y_true)\n",
    "        self.update_metric_step(y_logit,\n",
    "                                y_true,\n",
    "                                stage=\"val\")\n",
    "        self.log_dict({\"val_acc\": self.metrics_val[\"val/acc_top1\"],\n",
    "                       \"val_loss\": loss},\n",
    "                      on_step=True, on_epoch=True,\n",
    "                      prog_bar=True, logger=True)\n",
    "        \n",
    "\n",
    "        return {\"loss\":loss,\n",
    "                \"y_logit\":y_logit,\n",
    "                \"y_pred\":y_pred,\n",
    "                \"y_true\":y_true}\n",
    "    \n",
    "    def test_step(self, batch, batch_idx):\n",
    "        y_logit, y_true, y_pred = self.step(batch, batch_idx)\n",
    "        loss = self.criterion(y_logit, y_true)\n",
    "        self.update_metric_step(y_logit,\n",
    "                                y_true,\n",
    "                                stage=\"test\")\n",
    "        self.log_dict({\"test_acc\": self.metrics_test[\"test/acc_top1\"],\n",
    "                       \"test_loss\": loss},\n",
    "                      on_step=False, on_epoch=True,\n",
    "                      prog_bar=True, logger=True)\n",
    "        return {\"loss\":loss,\n",
    "                \"y_logit\":y_logit,\n",
    "                \"y_pred\":y_pred,\n",
    "                \"y_true\":y_true}\n",
    "    \n",
    "    def predict_step(self, batch, batch_idx=None):\n",
    "        out = self.step(batch, batch_idx)\n",
    "        if hasattr(batch, \"metadata\"):\n",
    "            if \"path\" in batch.metadata:\n",
    "                out = [*out, batch.metadata[\"path\"]]\n",
    "        return out\n",
    "    \n",
    "\n",
    "    def on_predict_epoch_end(self, results: List[Any]) -> None:\n",
    "        \"\"\"\n",
    "        Called at the end of predicting.\n",
    "        \"\"\"\n",
    "        \n",
    "#         y_logit, y_true, y_pred, paths = collect_results(results)\n",
    "        return collect_results(results)\n",
    "        \n",
    "        \n",
    "\n",
    "    \n",
    "    \n",
    "        \n",
    "        \n",
    "    \n",
    "    "
   ]
  },
  {
   "cell_type": "code",
   "execution_count": 7,
   "metadata": {},
   "outputs": [],
   "source": [
    "\n",
    "\n",
    "# labels = model.label_encoder.classes\n",
    "# columns = [\"family_true\", \"family_pred\", \"paths\", *[f\"{l}_logit\" for l in labels]]"
   ]
  },
  {
   "cell_type": "code",
   "execution_count": 8,
   "metadata": {},
   "outputs": [],
   "source": [
    "class LightningClassifier(BaseLightningModule):\n",
    "    def __init__(self,\n",
    "                 backbone_name='gluon_seresnext50_32x4d',\n",
    "                 pretrained: Union[bool, str]=True,\n",
    "                 num_classes: int=1000,\n",
    "                 pool_size: int=1,\n",
    "                 pool_type: str='avg',\n",
    "                 head_type: str='linear',\n",
    "                 hidden_size: Optional[int]=512,\n",
    "                 lr: float=2e-03,\n",
    "                 weight_decay: float=0.01,\n",
    "                 seed: int=None):\n",
    "        super().__init__(seed=seed)\n",
    "        self.save_hyperparameters()\n",
    "        \n",
    "        self.model = build_model(backbone_name=backbone_name,\n",
    "                                      pretrained=pretrained,\n",
    "                                      num_classes=num_classes,\n",
    "                                      pool_size=pool_size,\n",
    "                                      pool_type=pool_type,\n",
    "                                      head_type=head_type,\n",
    "                                      hidden_size=hidden_size)\n",
    "    \n",
    "        self.criterion = nn.CrossEntropyLoss()\n",
    "        self.metrics = self.init_metrics(stage='all')\n",
    "    \n",
    "    def forward(self,x):\n",
    "        return self.model(x)\n",
    "    \n",
    "    \n",
    "    def get_lr(self, group: str=None):\n",
    "        if group is None:\n",
    "            return self.hparams.lr\n",
    "        if group == \"backbone\":\n",
    "            return self.hparams.lr * 0.1\n",
    "        if group == \"head\":\n",
    "            return self.hparams.lr\n",
    "    \n",
    "    def configure_optimizers(self):\n",
    "        print(f\"self.hparams={self.hparams}\")\n",
    "        self.optimizer = torch.optim.AdamW([{\"params\":self.model.backbone.parameters(), \"lr\":self.get_lr(\"backbone\"), \"weight_decay\": self.hparams.weight_decay},\n",
    "                                            {\"params\":self.model.head.parameters(), \"lr\":self.get_lr(\"head\"), \"weight_decay\": self.hparams.weight_decay}])\n",
    "#         self.scheduler = torch.optim.lr_scheduler.CosineAnnealingLR(self.optimizer, T_max=self.config.t_max, eta_min=self.config.min_lr)\n",
    "\n",
    "        return {'optimizer': self.optimizer}\n",
    "\n",
    "# self = model\n",
    "# layers = list(reversed(list(self.model.backbone.named_children())))\n",
    "# print([l[0] for l in layers])"
   ]
  },
  {
   "cell_type": "code",
   "execution_count": 9,
   "metadata": {},
   "outputs": [],
   "source": [
    "# class BnFreeze(Callback):\n",
    "# source: https://github.com/fastai/fastai/blob/master/fastai/callback/training.py#L55\n",
    "#     run_after=TrainEvalCallback\n",
    "#     \"Freeze moving average statistics in all non-trainable batchnorm layers.\"\n",
    "#     def before_train(self):\n",
    "#         set_bn_eval(self.model)\n",
    "        \n",
    "        \n",
    "        "
   ]
  },
  {
   "cell_type": "markdown",
   "metadata": {
    "tags": []
   },
   "source": [
    "# Experiments\n",
    "\n",
    "For each architecture, 3 different experimental training methods will be evaluated\n",
    "\n",
    "Training methods:  \n",
    "1. Feature Extractor  \n",
    "2. Feature Extractor + set batchnorm to eval()  \n",
    "3. Freeze backbone except for all batchnorm layers  \n",
    "\n",
    "\n",
    "\n",
    "Baseline:  \n",
    "   * Architecture 1. simple pretrained backbone -> `avg_pool` -> linear_classifier  \n",
    "    \n",
    "Next Comparisons:  \n",
    "* Architecture 2. simple pretrained backbone -> `max_pool` -> linear_classifier\n",
    "* Architecture 3. simple pretrained backbone -> `avgmax_pool` -> linear_classifier  \n",
    "\n",
    "Later:  \n",
    "* Architecture 4. simple pretrained backbone -> `avgdrop_pool` -> linear_classifier  \n",
    "* Architecture 5. simple pretrained backbone -> `maxdrop_pool` -> linear_classifier  \n",
    "* Architecture 6. simple pretrained backbone -> `avgmaxdrop_pool` -> linear_classifier  "
   ]
  },
  {
   "cell_type": "code",
   "execution_count": 10,
   "metadata": {
    "jupyter": {
     "source_hidden": true
    },
    "tags": []
   },
   "outputs": [],
   "source": [
    "# model = build_model(backbone_name='gluon_seresnext50_32x4d',\n",
    "#                     pretrained=True,\n",
    "#                     num_classes=19,\n",
    "#                     pool_size=1,\n",
    "#                     pool_type='avgmax',\n",
    "#                     head_type='linear',\n",
    "#                     hidden_size=None)\n",
    "# from torchinfo import summary\n",
    "\n",
    "\n",
    "#left off here 11 pm\n",
    "\n",
    "# model = LightningClassifier(backbone_name='gluon_seresnext50_32x4d',\n",
    "#                             pretrained=True,\n",
    "#                             num_classes=19,\n",
    "#                             pool_size=1,\n",
    "#                             pool_type='avgmax',\n",
    "#                             head_type='linear',\n",
    "#                             hidden_size=None,\n",
    "#                             lr=2e-03,\n",
    "#                             weight_decay=0.01,\n",
    "#                             seed=98)\n",
    "\n",
    "# pp(list(model.get_batchnorm_modules()))\n",
    "# # pp(list(model.get_conv_modules()))\n",
    "# pp(list(model.get_linear_modules()))\n",
    "# # pp(list(model.get_conv_modules()))\n",
    "# pp(list(model.get_named_modules()))\n",
    "\n",
    "# model.freeze_backbone(freeze_bn=False)\n",
    "# model.freeze_backbone(freeze_bn=True)\n",
    "# summary(model.model)\n",
    "\n",
    "# print(f\"trainable: {len(list(model.get_trainable_parameters()))}\")\n",
    "# print(f\"non-trainable: {len(list(model.get_nontrainable_parameters()))}\")\n",
    "\n",
    "# bn = {n:p.requires_grad for n, p in model.get_named_parameters(\"bn\")}"
   ]
  },
  {
   "cell_type": "markdown",
   "metadata": {},
   "source": [
    "### Mini test: Wrap all model hooks & display + verify for each parameter group the proper status of module.training & weight_tensors.requires_grad"
   ]
  },
  {
   "cell_type": "code",
   "execution_count": null,
   "metadata": {},
   "outputs": [],
   "source": []
  },
  {
   "cell_type": "markdown",
   "metadata": {},
   "source": [
    "### 1. feature extractor"
   ]
  },
  {
   "cell_type": "code",
   "execution_count": 70,
   "metadata": {},
   "outputs": [
    {
     "name": "stdout",
     "output_type": "stream",
     "text": [
      "trainable batchnorm modules:49\n",
      "nontrainable batchnorm modules:0\n",
      "batchnorm params with requires_grad=True: :0\n",
      "batchnorm params with requires_grad=False:98\n",
      "Total Trainable Params: 77,843\n",
      "Total non-Trainable Params: 25,510,896\n"
     ]
    }
   ],
   "source": [
    "model.freeze_backbone(freeze_bn=True) #False)\n",
    "# model.set_bn_eval()\n",
    "# summary(model.model)\n",
    "model.count_trainable_batchnorm_layers()\n",
    "count_parameters(model.model, verbose=False);"
   ]
  },
  {
   "cell_type": "markdown",
   "metadata": {},
   "source": [
    "### 2. Feature extractor + BN set to Eval()"
   ]
  },
  {
   "cell_type": "code",
   "execution_count": 71,
   "metadata": {},
   "outputs": [
    {
     "name": "stdout",
     "output_type": "stream",
     "text": [
      "trainable batchnorm modules:0\n",
      "nontrainable batchnorm modules:49\n",
      "batchnorm params with requires_grad=True: :0\n",
      "batchnorm params with requires_grad=False:98\n",
      "Total Trainable Params: 77,843\n",
      "Total non-Trainable Params: 25,510,896\n"
     ]
    }
   ],
   "source": [
    "model.freeze_backbone(freeze_bn=True)\n",
    "model.set_bn_eval(model)\n",
    "# summary(model.model)\n",
    "model.count_trainable_batchnorm_layers()\n",
    "count_parameters(model.model, verbose=False);"
   ]
  },
  {
   "cell_type": "markdown",
   "metadata": {},
   "source": [
    "### 2. Freeze backbone except for BN layers"
   ]
  },
  {
   "cell_type": "code",
   "execution_count": 72,
   "metadata": {},
   "outputs": [
    {
     "name": "stdout",
     "output_type": "stream",
     "text": [
      "trainable batchnorm modules:49\n",
      "nontrainable batchnorm modules:0\n",
      "batchnorm params with requires_grad=True: :98\n",
      "batchnorm params with requires_grad=False:0\n",
      "Total Trainable Params: 138,387\n",
      "Total non-Trainable Params: 25,450,352\n"
     ]
    }
   ],
   "source": [
    "# model.unfreeze(model.model)\n",
    "model.freeze_backbone(freeze_bn=False)\n",
    "\n",
    "model.unfreeze(model.model,\n",
    "               filter_pattern=\"bn\")\n",
    "# summary(model.model)\n",
    "model.count_trainable_batchnorm_layers()\n",
    "count_parameters(model.model, verbose=False);"
   ]
  },
  {
   "cell_type": "markdown",
   "metadata": {
    "tags": []
   },
   "source": [
    "## Load data\n",
    "\n",
    "#### Working with task_1 -> PNAS"
   ]
  },
  {
   "cell_type": "code",
   "execution_count": 11,
   "metadata": {},
   "outputs": [],
   "source": [
    "from lightning_hydra_classifiers.scripts.multitask.train import MultiTaskDataModule, LitMultiTaskModule, ImagePredictionLogger, train_task,  CIFAR10DataModule, run_multitask_test, load_data_and_model, load_data, resolve_config, configure_callbacks, configure_loggers, configure_trainer\n",
    "from lightning_hydra_classifiers.data.datasets.common import toPIL\n",
    "from lightning_hydra_classifiers.utils.etl_utils import ETL\n",
    "from omegaconf import OmegaConf\n",
    "\n",
    "\n",
    "# overrides = ['model/backbone=efficientnet_b3',\"data=extant_to_fossil\", \"trainer.max_epochs=2\", \"data.batch_size=16\", \"trainer.precision=16\"]\n",
    "overrides = ['model/backbone=resnet50',\"data=extant_to_pnas\", \"trainer.max_epochs=20\", \"data.batch_size=32\", \"trainer.precision=16\", \"trainer.gpus=[7]\"]\n",
    "config = ETL.load_hydra_config(config_name = \"config\",\n",
    "                              config_path = \"/media/data/jacob/GitHub/lightning-hydra-classifiers/configs\",\n",
    "                              overrides=overrides)\n",
    "\n",
    "task_id = 1\n",
    "pp(config.data)\n",
    "datamodule = load_data(config,\n",
    "                       task_id=task_id)\n",
    "\n",
    "## Config model, trainer, et. al.\n",
    "\n",
    "# model_config = OmegaConf.create(dict(\n",
    "#                                 backbone_name=config.model.backbone.backbone_name, #'gluon_seresnext50_32x4d',\n",
    "#                                 pretrained=True,\n",
    "#                                 num_classes=datamodule.num_classes,\n",
    "#                                 pool_type='avg',\n",
    "#                                 head_type='linear',\n",
    "#                                 hidden_size=None,\n",
    "#                                 lr=2e-03,\n",
    "#                                 weight_decay=0.01,\n",
    "#                                 seed=98))\n",
    "\n",
    "# model_config = OmegaConf.create(dict(\n",
    "#                                 backbone_name=config.model.backbone.backbone_name, #'gluon_seresnext50_32x4d',\n",
    "#                                 pretrained=True,\n",
    "#                                 num_classes=datamodule.num_classes,\n",
    "#                                 pool_type='max',\n",
    "#                                 head_type='linear',\n",
    "#                                 hidden_size=None,\n",
    "#                                 lr=2e-03,\n",
    "#                                 weight_decay=0.01,\n",
    "#                                 seed=98))\n",
    "\n",
    "model_config = OmegaConf.create(dict(\n",
    "                                backbone_name=config.model.backbone.backbone_name, #'gluon_seresnext50_32x4d',\n",
    "                                pretrained=True,\n",
    "                                num_classes=datamodule.num_classes,\n",
    "                                pool_type='avgdrop',\n",
    "                                head_type='linear',\n",
    "                                hidden_size=None,\n",
    "                                lr=2e-03,\n",
    "                                weight_decay=0.01,\n",
    "                                seed=98))\n",
    "\n",
    "\n",
    "\n",
    "config.model = model_config\n",
    "\n",
    "algorithm_name = \"feature_extractor\"\n",
    "config.experiment_name = f\"{algorithm_name}-PNAS-{datamodule.num_classes}_classes-res_{config.data.image_size}-bsz_{config.data.batch_size}-{config.model.backbone_name}-pretrained_{config.model.pretrained}-pool_{config.model.pool_type}\"\n",
    "\n",
    "\n",
    "experiment_dir = config.experiment_dir\n",
    "results_dir = config.results_dir\n",
    "results_dir\n",
    "\n",
    "model = LightningClassifier(**config.model)\n",
    "model.label_encoder = datamodule.label_encoder\n",
    "\n",
    "\n",
    "group = f'{config.model.backbone_name}__PNAS__experiment_0__feature_extractor'\n",
    "config.logger.wandb.group = group\n",
    "config.callbacks.log_per_class_metrics_to_wandb.class_names = datamodule.classes\n",
    "\n",
    "\n",
    "callbacks = configure_callbacks(config)\n",
    "logger = configure_loggers(config)\n",
    "\n",
    "trainer: pl.Trainer = configure_trainer(config, callbacks=callbacks, logger=logger)"
   ]
  },
  {
   "cell_type": "code",
   "execution_count": 16,
   "metadata": {},
   "outputs": [],
   "source": [
    "%load_ext autoreload\n",
    "%autoreload 2"
   ]
  },
  {
   "cell_type": "markdown",
   "metadata": {},
   "source": [
    "## Tune lr"
   ]
  },
  {
   "cell_type": "code",
   "execution_count": 17,
   "metadata": {},
   "outputs": [
    {
     "name": "stderr",
     "output_type": "stream",
     "text": [
      "2021-10-13 21:51:02,963 lightning_hydra_classifiers.scripts.pretrain.lr_tuner INFO     Proceeding with overrides merged with default parameters\n",
      "\u001b[34m\u001b[1mwandb\u001b[0m: Currently logged in as: \u001b[33mjrose\u001b[0m (use `wandb login --relogin` to force relogin)\n",
      "\u001b[34m\u001b[1mwandb\u001b[0m: wandb version 0.12.4 is available!  To upgrade, please run:\n",
      "\u001b[34m\u001b[1mwandb\u001b[0m:  $ pip install wandb --upgrade\n"
     ]
    },
    {
     "data": {
      "text/html": [
       "\n",
       "                Tracking run with wandb version 0.10.26<br/>\n",
       "                Syncing run <strong style=\"color:#cdcd00\">balmy-sponge-13</strong> to <a href=\"https://wandb.ai\" target=\"_blank\">Weights & Biases</a> <a href=\"https://docs.wandb.com/integrations/jupyter.html\" target=\"_blank\">(Documentation)</a>.<br/>\n",
       "                Project page: <a href=\"https://wandb.ai/jrose/default\" target=\"_blank\">https://wandb.ai/jrose/default</a><br/>\n",
       "                Run page: <a href=\"https://wandb.ai/jrose/default/runs/1rbvztpc\" target=\"_blank\">https://wandb.ai/jrose/default/runs/1rbvztpc</a><br/>\n",
       "                Run data is saved locally in <code>/media/data/jacob/GitHub/lightning-hydra-classifiers/notebooks/wandb/run-20211013_215103-1rbvztpc</code><br/><br/>\n",
       "            "
      ],
      "text/plain": [
       "<IPython.core.display.HTML object>"
      ]
     },
     "metadata": {},
     "output_type": "display_data"
    },
    {
     "name": "stderr",
     "output_type": "stream",
     "text": [
      "2021-10-13 21:51:04,980 lightning_hydra_classifiers.scripts.pretrain.lr_tuner INFO     [Initiating Stage] lr_tuner\n",
      "2021-10-13 21:51:05,437 lightning_hydra_classifiers.experiments.multitask.datamodules INFO     Task_1 (None): datamodule.setup(stage=fit)\n",
      "LOCAL_RANK: 0 - CUDA_VISIBLE_DEVICES: [0,1,2,3,4,5,6,7]\n",
      "\n",
      "  | Name                    | Type             | Params\n",
      "-------------------------------------------------------------\n",
      "0 | model                   | Sequential       | 23.5 M\n",
      "1 | criterion               | CrossEntropyLoss | 0     \n",
      "2 | metrics_train           | MetricCollection | 0     \n",
      "3 | metrics_train_per_class | MetricCollection | 0     \n",
      "4 | metrics_val             | MetricCollection | 0     \n",
      "5 | metrics_val_per_class   | MetricCollection | 0     \n",
      "6 | metrics_test            | MetricCollection | 0     \n",
      "7 | metrics_test_per_class  | MetricCollection | 0     \n",
      "-------------------------------------------------------------\n",
      "23.5 M    Trainable params\n",
      "0         Non-trainable params\n",
      "23.5 M    Total params\n",
      "94.188    Total estimated model params size (MB)\n"
     ]
    },
    {
     "name": "stdout",
     "output_type": "stream",
     "text": [
      "self.hparams=\"backbone_name\": resnet50\n",
      "\"head_type\":     linear\n",
      "\"hidden_size\":   None\n",
      "\"lr\":            0.002\n",
      "\"num_classes\":   19\n",
      "\"pool_size\":     1\n",
      "\"pool_type\":     avgdrop\n",
      "\"pretrained\":    True\n",
      "\"seed\":          98\n",
      "\"weight_decay\":  0.01\n"
     ]
    },
    {
     "name": "stderr",
     "output_type": "stream",
     "text": [
      "FIT Profiler Report\n",
      "\n",
      "Action                             \t|  Mean duration (s)\t|Num calls      \t|  Total time (s) \t|  Percentage %   \t|\n",
      "--------------------------------------------------------------------------------------------------------------------------------------\n",
      "Total                              \t|  -              \t|_              \t|  11.489         \t|  100 %          \t|\n",
      "--------------------------------------------------------------------------------------------------------------------------------------\n",
      "evaluation_step_and_end            \t|  0.39565        \t|2              \t|  0.7913         \t|  6.8873         \t|\n",
      "validation_step                    \t|  0.3955         \t|2              \t|  0.791          \t|  6.8847         \t|\n",
      "evaluation_batch_to_device         \t|  0.029918       \t|2              \t|  0.059837       \t|  0.5208         \t|\n",
      "on_validation_batch_start          \t|  0.00012405     \t|2              \t|  0.00024811     \t|  0.0021595      \t|\n",
      "validation_step_end                \t|  3.6476e-05     \t|2              \t|  7.2951e-05     \t|  0.00063495     \t|\n",
      "on_validation_batch_end            \t|  3.3155e-05     \t|2              \t|  6.631e-05      \t|  0.00057715     \t|\n",
      "on_validation_start                \t|  5.0948e-05     \t|1              \t|  5.0948e-05     \t|  0.00044344     \t|\n",
      "on_before_accelerator_backend_setup\t|  4.7959e-05     \t|1              \t|  4.7959e-05     \t|  0.00041742     \t|\n",
      "on_validation_end                  \t|  4.6345e-05     \t|1              \t|  4.6345e-05     \t|  0.00040338     \t|\n",
      "on_val_dataloader                  \t|  4.6107e-05     \t|1              \t|  4.6107e-05     \t|  0.00040131     \t|\n",
      "on_validation_epoch_end            \t|  4.5127e-05     \t|1              \t|  4.5127e-05     \t|  0.00039278     \t|\n",
      "on_epoch_end                       \t|  2.4894e-05     \t|1              \t|  2.4894e-05     \t|  0.00021667     \t|\n",
      "on_epoch_start                     \t|  2.328e-05      \t|1              \t|  2.328e-05      \t|  0.00020262     \t|\n",
      "on_validation_epoch_start          \t|  2.0311e-05     \t|1              \t|  2.0311e-05     \t|  0.00017678     \t|\n",
      "\n",
      "Global seed set to 98\n"
     ]
    },
    {
     "data": {
      "application/vnd.jupyter.widget-view+json": {
       "model_id": "e477bd061a494900a9b16412ca2887e4",
       "version_major": 2,
       "version_minor": 0
      },
      "text/plain": [
       "Finding best initial lr:   0%|          | 0/100 [00:00<?, ?it/s]"
      ]
     },
     "metadata": {},
     "output_type": "display_data"
    },
    {
     "name": "stderr",
     "output_type": "stream",
     "text": [
      "FIT Profiler Report\n",
      "\n",
      "Action                             \t|  Mean duration (s)\t|Num calls      \t|  Total time (s) \t|  Percentage %   \t|\n",
      "--------------------------------------------------------------------------------------------------------------------------------------\n",
      "Total                              \t|  -              \t|_              \t|  77.384         \t|  100 %          \t|\n",
      "--------------------------------------------------------------------------------------------------------------------------------------\n",
      "run_training_batch                 \t|  0.90106        \t|62             \t|  55.866         \t|  72.193         \t|\n",
      "optimizer_step_and_closure_0       \t|  0.88873        \t|62             \t|  55.101         \t|  71.205         \t|\n",
      "training_step_and_backward         \t|  0.36505        \t|62             \t|  22.633         \t|  29.248         \t|\n",
      "model_forward                      \t|  0.33044        \t|62             \t|  20.487         \t|  26.475         \t|\n",
      "training_step                      \t|  0.33003        \t|62             \t|  20.462         \t|  26.442         \t|\n",
      "evaluation_step_and_end            \t|  0.32372        \t|18             \t|  5.827          \t|  7.53           \t|\n",
      "validation_step                    \t|  0.32359        \t|18             \t|  5.8246         \t|  7.5269         \t|\n",
      "get_train_batch                    \t|  0.041302       \t|62             \t|  2.5607         \t|  3.3091         \t|\n",
      "backward                           \t|  0.026618       \t|62             \t|  1.6503         \t|  2.1326         \t|\n",
      "on_train_batch_end                 \t|  0.0027655      \t|62             \t|  0.17146        \t|  0.22157        \t|\n",
      "on_batch_start                     \t|  0.0012028      \t|62             \t|  0.074572       \t|  0.096366       \t|\n",
      "evaluation_batch_to_device         \t|  0.0040127      \t|18             \t|  0.072229       \t|  0.093339       \t|\n",
      "training_batch_to_device           \t|  0.0010648      \t|62             \t|  0.066015       \t|  0.085309       \t|\n",
      "on_train_start                     \t|  0.046905       \t|1              \t|  0.046905       \t|  0.060613       \t|\n",
      "on_before_optimizer_step           \t|  3.4547e-05     \t|62             \t|  0.0021419      \t|  0.0027679      \t|\n",
      "on_before_zero_grad                \t|  3.4422e-05     \t|62             \t|  0.0021342      \t|  0.0027579      \t|\n",
      "training_step_end                  \t|  3.4373e-05     \t|62             \t|  0.0021311      \t|  0.002754       \t|\n",
      "on_after_backward                  \t|  3.1618e-05     \t|62             \t|  0.0019603      \t|  0.0025332      \t|\n",
      "on_batch_end                       \t|  2.9106e-05     \t|62             \t|  0.0018046      \t|  0.002332       \t|\n",
      "on_before_backward                 \t|  2.7884e-05     \t|62             \t|  0.0017288      \t|  0.002234       \t|\n",
      "on_train_batch_start               \t|  2.7017e-05     \t|62             \t|  0.001675       \t|  0.0021646      \t|\n",
      "on_validation_batch_start          \t|  5.274e-05      \t|18             \t|  0.00094932     \t|  0.0012268      \t|\n",
      "validation_step_end                \t|  3.109e-05      \t|18             \t|  0.00055962     \t|  0.00072317     \t|\n",
      "on_validation_batch_end            \t|  2.4094e-05     \t|18             \t|  0.0004337      \t|  0.00056045     \t|\n",
      "on_validation_epoch_end            \t|  5.2619e-05     \t|2              \t|  0.00010524     \t|  0.00013599     \t|\n",
      "on_validation_end                  \t|  5.042e-05      \t|2              \t|  0.00010084     \t|  0.00013031     \t|\n",
      "on_validation_start                \t|  4.9781e-05     \t|2              \t|  9.9562e-05     \t|  0.00012866     \t|\n",
      "on_epoch_start                     \t|  3.2993e-05     \t|3              \t|  9.8979e-05     \t|  0.00012791     \t|\n",
      "on_epoch_end                       \t|  2.4387e-05     \t|2              \t|  4.8774e-05     \t|  6.3028e-05     \t|\n",
      "on_before_accelerator_backend_setup\t|  4.7959e-05     \t|1              \t|  4.7959e-05     \t|  6.1975e-05     \t|\n",
      "on_val_dataloader                  \t|  4.6107e-05     \t|1              \t|  4.6107e-05     \t|  5.9582e-05     \t|\n",
      "on_validation_epoch_start          \t|  1.9616e-05     \t|2              \t|  3.9233e-05     \t|  5.0699e-05     \t|\n",
      "on_train_epoch_start               \t|  3.5191e-05     \t|1              \t|  3.5191e-05     \t|  4.5476e-05     \t|\n",
      "on_train_dataloader                \t|  2.6901e-05     \t|1              \t|  2.6901e-05     \t|  3.4763e-05     \t|\n",
      "\n"
     ]
    },
    {
     "name": "stdout",
     "output_type": "stream",
     "text": [
      "--------------------------------------------------------------------------------\n",
      "DATALOADER:0 VALIDATE RESULTS\n",
      "{'val_acc': 0.14941301941871643,\n",
      " 'val_acc_epoch': 0.14941301941871643,\n",
      " 'val_loss': 2.4381706714630127,\n",
      " 'val_loss_epoch': 2.4381706714630127}\n",
      "--------------------------------------------------------------------------------\n"
     ]
    },
    {
     "name": "stderr",
     "output_type": "stream",
     "text": [
      "FIT Profiler Report\n",
      "\n",
      "Action                             \t|  Mean duration (s)\t|Num calls      \t|  Total time (s) \t|  Percentage %   \t|\n",
      "--------------------------------------------------------------------------------------------------------------------------------------\n",
      "Total                              \t|  -              \t|_              \t|  114.68         \t|  100 %          \t|\n",
      "--------------------------------------------------------------------------------------------------------------------------------------\n",
      "run_training_epoch                 \t|  51.556         \t|2              \t|  103.11         \t|  89.911         \t|\n",
      "run_training_batch                 \t|  0.90444        \t|100            \t|  90.444         \t|  78.865         \t|\n",
      "optimizer_step_and_closure_0       \t|  0.89241        \t|100            \t|  89.241         \t|  77.816         \t|\n",
      "training_step_and_backward         \t|  0.36694        \t|100            \t|  36.694         \t|  31.996         \t|\n",
      "model_forward                      \t|  0.33258        \t|100            \t|  33.258         \t|  29.0           \t|\n",
      "training_step                      \t|  0.33216        \t|100            \t|  33.216         \t|  28.963         \t|\n",
      "evaluation_step_and_end            \t|  0.32372        \t|18             \t|  5.827          \t|  5.081          \t|\n",
      "validation_step                    \t|  0.32359        \t|18             \t|  5.8246         \t|  5.079          \t|\n",
      "get_train_batch                    \t|  0.050074       \t|100            \t|  5.0074         \t|  4.3664         \t|\n",
      "backward                           \t|  0.026231       \t|100            \t|  2.6231         \t|  2.2873         \t|\n",
      "on_train_batch_end                 \t|  0.003058       \t|100            \t|  0.3058         \t|  0.26665        \t|\n",
      "training_batch_to_device           \t|  0.0010768      \t|100            \t|  0.10768        \t|  0.093892       \t|\n",
      "on_batch_start                     \t|  0.00076364     \t|100            \t|  0.076364       \t|  0.066588       \t|\n",
      "evaluation_batch_to_device         \t|  0.0040127      \t|18             \t|  0.072229       \t|  0.062982       \t|\n",
      "on_train_start                     \t|  0.046905       \t|1              \t|  0.046905       \t|  0.0409         \t|\n",
      "training_step_end                  \t|  3.6347e-05     \t|100            \t|  0.0036347      \t|  0.0031693      \t|\n",
      "on_before_zero_grad                \t|  3.5796e-05     \t|100            \t|  0.0035796      \t|  0.0031214      \t|\n",
      "on_before_optimizer_step           \t|  3.4551e-05     \t|100            \t|  0.0034551      \t|  0.0030128      \t|\n",
      "on_after_backward                  \t|  3.2609e-05     \t|100            \t|  0.0032609      \t|  0.0028434      \t|\n",
      "on_batch_end                       \t|  3.0031e-05     \t|100            \t|  0.0030031      \t|  0.0026186      \t|\n",
      "on_train_batch_start               \t|  2.8311e-05     \t|100            \t|  0.0028311      \t|  0.0024686      \t|\n",
      "on_before_backward                 \t|  2.7431e-05     \t|100            \t|  0.0027431      \t|  0.0023919      \t|\n",
      "on_validation_batch_start          \t|  5.274e-05      \t|18             \t|  0.00094932     \t|  0.00082779     \t|\n",
      "validation_step_end                \t|  3.109e-05      \t|18             \t|  0.00055962     \t|  0.00048798     \t|\n",
      "on_validation_batch_end            \t|  2.4094e-05     \t|18             \t|  0.0004337      \t|  0.00037817     \t|\n",
      "on_train_epoch_end                 \t|  0.00015279     \t|2              \t|  0.00030557     \t|  0.00026645     \t|\n",
      "on_epoch_start                     \t|  3.0793e-05     \t|4              \t|  0.00012317     \t|  0.0001074      \t|\n",
      "on_epoch_end                       \t|  2.8276e-05     \t|4              \t|  0.00011311     \t|  9.8625e-05     \t|\n",
      "on_validation_epoch_end            \t|  5.2619e-05     \t|2              \t|  0.00010524     \t|  9.1764e-05     \t|\n",
      "on_validation_end                  \t|  5.042e-05      \t|2              \t|  0.00010084     \t|  8.7931e-05     \t|\n",
      "on_validation_start                \t|  4.9781e-05     \t|2              \t|  9.9562e-05     \t|  8.6816e-05     \t|\n",
      "on_train_epoch_start               \t|  2.6529e-05     \t|2              \t|  5.3057e-05     \t|  4.6264e-05     \t|\n",
      "on_before_accelerator_backend_setup\t|  4.7959e-05     \t|1              \t|  4.7959e-05     \t|  4.1819e-05     \t|\n",
      "on_val_dataloader                  \t|  4.6107e-05     \t|1              \t|  4.6107e-05     \t|  4.0204e-05     \t|\n",
      "on_train_end                       \t|  3.9474e-05     \t|1              \t|  3.9474e-05     \t|  3.442e-05      \t|\n",
      "on_validation_epoch_start          \t|  1.9616e-05     \t|2              \t|  3.9233e-05     \t|  3.421e-05      \t|\n",
      "on_train_dataloader                \t|  2.6901e-05     \t|1              \t|  2.6901e-05     \t|  2.3457e-05     \t|\n",
      "\n",
      "Restoring states from the checkpoint file at /media/data/jacob/GitHub/lightning-hydra-classifiers/notebooks/lr_find_temp_model.ckpt\n",
      "Restored all states from the checkpoint file at /media/data/jacob/GitHub/lightning-hydra-classifiers/notebooks/lr_find_temp_model.ckpt\n",
      "2021-10-13 21:52:58,676 lightning_hydra_classifiers.scripts.pretrain.lr_tuner INFO     Saved best lr value (along w/ batch_size, image_size) to file located at: /media/data_cifs/projects/prj_fossils/users/jacob/experiments/July2021-Nov2021/experiment_logs/Transfer_Experiments/feature_extractor-PNAS-19_classes-res_512-bsz_32-resnet50-pretrained_True-pool_avgdrop/replicate_1/results/task_1/lr_tuner/hparams.yaml\n",
      "2021-10-13 21:52:58,681 lightning_hydra_classifiers.scripts.pretrain.lr_tuner INFO     File contents expected to contain: \n",
      "{'optimized_hparam_key': 'lr', 'lr': 0.0009120108393559097, 'batch_size': 32, 'image_size': 512, 'lr_tuner_config': {'min_lr': 1e-08, 'max_lr': 1, 'num_training': 100, 'mode': 'exponential', 'early_stop_threshold': 4.0}}\n"
     ]
    },
    {
     "data": {
      "text/html": [
       "<br/>Waiting for W&B process to finish, PID 14400<br/>Program ended successfully."
      ],
      "text/plain": [
       "<IPython.core.display.HTML object>"
      ]
     },
     "metadata": {},
     "output_type": "display_data"
    },
    {
     "data": {
      "application/vnd.jupyter.widget-view+json": {
       "model_id": "",
       "version_major": 2,
       "version_minor": 0
      },
      "text/plain": [
       "VBox(children=(Label(value=' 0.25MB of 0.25MB uploaded (0.00MB deduped)\\r'), FloatProgress(value=1.0, max=1.0)…"
      ]
     },
     "metadata": {},
     "output_type": "display_data"
    },
    {
     "data": {
      "text/html": [
       "Find user logs for this run at: <code>/media/data/jacob/GitHub/lightning-hydra-classifiers/notebooks/wandb/run-20211013_215103-1rbvztpc/logs/debug.log</code>"
      ],
      "text/plain": [
       "<IPython.core.display.HTML object>"
      ]
     },
     "metadata": {},
     "output_type": "display_data"
    },
    {
     "data": {
      "text/html": [
       "Find internal logs for this run at: <code>/media/data/jacob/GitHub/lightning-hydra-classifiers/notebooks/wandb/run-20211013_215103-1rbvztpc/logs/debug-internal.log</code>"
      ],
      "text/plain": [
       "<IPython.core.display.HTML object>"
      ]
     },
     "metadata": {},
     "output_type": "display_data"
    },
    {
     "data": {
      "text/html": [
       "<h3>Run summary:</h3><br/><style>\n",
       "    table.wandb td:nth-child(1) { padding: 0 10px; text-align: right }\n",
       "    </style><table class=\"wandb\">\n",
       "<tr><td>_runtime</td><td>116</td></tr><tr><td>_timestamp</td><td>1634176379</td></tr><tr><td>_step</td><td>6</td></tr><tr><td>lr_finder/best/loss</td><td>2.73622</td></tr><tr><td>lr_finder/best/lr</td><td>0.00091</td></tr><tr><td>lr_finder/batch_size</td><td>32</td></tr><tr><td>image_size</td><td>512</td></tr></table>"
      ],
      "text/plain": [
       "<IPython.core.display.HTML object>"
      ]
     },
     "metadata": {},
     "output_type": "display_data"
    },
    {
     "data": {
      "text/html": [
       "<h3>Run history:</h3><br/><style>\n",
       "    table.wandb td:nth-child(1) { padding: 0 10px; text-align: right }\n",
       "    </style><table class=\"wandb\">\n",
       "<tr><td>_runtime</td><td>▁▁▁▁▁▁▁</td></tr><tr><td>_timestamp</td><td>▁▁▁▁▁▁▁</td></tr><tr><td>_step</td><td>▁▂▃▅▆▇█</td></tr><tr><td>lr_finder/best/loss</td><td>▁</td></tr><tr><td>lr_finder/best/lr</td><td>▁</td></tr><tr><td>lr_finder/batch_size</td><td>▁</td></tr><tr><td>image_size</td><td>▁</td></tr></table><br/>"
      ],
      "text/plain": [
       "<IPython.core.display.HTML object>"
      ]
     },
     "metadata": {},
     "output_type": "display_data"
    },
    {
     "data": {
      "text/html": [
       "Synced 6 W&B file(s), 2 media file(s), 1 artifact file(s) and 1 other file(s)"
      ],
      "text/plain": [
       "<IPython.core.display.HTML object>"
      ]
     },
     "metadata": {},
     "output_type": "display_data"
    },
    {
     "data": {
      "text/html": [
       "\n",
       "                    <br/>Synced <strong style=\"color:#cdcd00\">balmy-sponge-13</strong>: <a href=\"https://wandb.ai/jrose/default/runs/1rbvztpc\" target=\"_blank\">https://wandb.ai/jrose/default/runs/1rbvztpc</a><br/>\n",
       "                "
      ],
      "text/plain": [
       "<IPython.core.display.HTML object>"
      ]
     },
     "metadata": {},
     "output_type": "display_data"
    },
    {
     "name": "stderr",
     "output_type": "stream",
     "text": [
      "2021-10-13 21:53:04,690 lightning_hydra_classifiers.scripts.pretrain.lr_tuner INFO     FINISHED: `run_lr_tuner(config)`\n",
      "2021-10-13 21:53:04,690 lightning_hydra_classifiers.scripts.pretrain.lr_tuner INFO     Proceeding with:\n",
      "\n",
      "2021-10-13 21:53:04,691 lightning_hydra_classifiers.scripts.pretrain.lr_tuner INFO     Learning rate = 9.120e-04\n",
      "2021-10-13 21:53:04,692 lightning_hydra_classifiers.scripts.pretrain.lr_tuner INFO     Batch size = 32\n"
     ]
    },
    {
     "data": {
      "text/html": [
       "<pre style=\"white-space:pre;overflow-x:auto;line-height:normal;font-family:Menlo,'DejaVu Sans Mono',consolas,'Courier New',monospace\"><span style=\"font-weight: bold\">{</span>\n",
       "    <span style=\"color: #008000; text-decoration-color: #008000\">'backbone_name'</span>: <span style=\"color: #008000; text-decoration-color: #008000\">'resnet50'</span>,\n",
       "    <span style=\"color: #008000; text-decoration-color: #008000\">'pretrained'</span>: <span style=\"color: #00ff00; text-decoration-color: #00ff00; font-style: italic\">True</span>,\n",
       "    <span style=\"color: #008000; text-decoration-color: #008000\">'num_classes'</span>: <span style=\"color: #008080; text-decoration-color: #008080; font-weight: bold\">19</span>,\n",
       "    <span style=\"color: #008000; text-decoration-color: #008000\">'pool_type'</span>: <span style=\"color: #008000; text-decoration-color: #008000\">'avgdrop'</span>,\n",
       "    <span style=\"color: #008000; text-decoration-color: #008000\">'head_type'</span>: <span style=\"color: #008000; text-decoration-color: #008000\">'linear'</span>,\n",
       "    <span style=\"color: #008000; text-decoration-color: #008000\">'hidden_size'</span>: <span style=\"color: #800080; text-decoration-color: #800080; font-style: italic\">None</span>,\n",
       "    <span style=\"color: #008000; text-decoration-color: #008000\">'lr'</span>: <span style=\"color: #008080; text-decoration-color: #008080; font-weight: bold\">0.0009120108393559097</span>,\n",
       "    <span style=\"color: #008000; text-decoration-color: #008000\">'weight_decay'</span>: <span style=\"color: #008080; text-decoration-color: #008080; font-weight: bold\">0.01</span>,\n",
       "    <span style=\"color: #008000; text-decoration-color: #008000\">'seed'</span>: <span style=\"color: #008080; text-decoration-color: #008080; font-weight: bold\">98</span>\n",
       "<span style=\"font-weight: bold\">}</span>\n",
       "</pre>\n"
      ],
      "text/plain": [
       "\u001b[1m{\u001b[0m\n",
       "    \u001b[32m'backbone_name'\u001b[0m: \u001b[32m'resnet50'\u001b[0m,\n",
       "    \u001b[32m'pretrained'\u001b[0m: \u001b[3;92mTrue\u001b[0m,\n",
       "    \u001b[32m'num_classes'\u001b[0m: \u001b[1;36m19\u001b[0m,\n",
       "    \u001b[32m'pool_type'\u001b[0m: \u001b[32m'avgdrop'\u001b[0m,\n",
       "    \u001b[32m'head_type'\u001b[0m: \u001b[32m'linear'\u001b[0m,\n",
       "    \u001b[32m'hidden_size'\u001b[0m: \u001b[3;35mNone\u001b[0m,\n",
       "    \u001b[32m'lr'\u001b[0m: \u001b[1;36m0.0009120108393559097\u001b[0m,\n",
       "    \u001b[32m'weight_decay'\u001b[0m: \u001b[1;36m0.01\u001b[0m,\n",
       "    \u001b[32m'seed'\u001b[0m: \u001b[1;36m98\u001b[0m\n",
       "\u001b[1m}\u001b[0m\n"
      ]
     },
     "metadata": {},
     "output_type": "display_data"
    },
    {
     "name": "stdout",
     "output_type": "stream",
     "text": [
      "\"backbone_name\": resnet50\n",
      "\"head_type\":     linear\n",
      "\"hidden_size\":   None\n",
      "\"lr\":            0.0009120108393559097\n",
      "\"num_classes\":   19\n",
      "\"pool_size\":     1\n",
      "\"pool_type\":     avgdrop\n",
      "\"pretrained\":    True\n",
      "\"seed\":          98\n",
      "\"weight_decay\":  0.01\n",
      "\"backbone_name\": resnet50\n",
      "\"head_type\":     linear\n",
      "\"hidden_size\":   None\n",
      "\"lr\":            0.002\n",
      "\"num_classes\":   19\n",
      "\"pool_size\":     1\n",
      "\"pool_type\":     avgdrop\n",
      "\"pretrained\":    True\n",
      "\"seed\":          98\n",
      "\"weight_decay\":  0.01\n"
     ]
    },
    {
     "data": {
      "image/png": "[encoded data removed]",
      "text/plain": [
       "<Figure size 432x288 with 1 Axes>"
      ]
     },
     "metadata": {},
     "output_type": "display_data"
    }
   ],
   "source": [
    "from lightning_hydra_classifiers.scripts.pretrain import lr_tuner\n",
    "\n",
    "\n",
    "lr_tuner_results_dir = os.path.join(results_dir, f\"task_{task_id}\", \"lr_tuner\")\n",
    "\n",
    "# logger.info(f\"[Initiating Stage] lr_tuner\")\n",
    "lr_tune_output = lr_tuner.run_lr_tuner(trainer=trainer,\n",
    "                                       model=model,\n",
    "                                       datamodule=datamodule,\n",
    "                                       config=config,\n",
    "                                       results_dir=lr_tuner_results_dir,\n",
    "                                       group=group)\n",
    "\n",
    "\n",
    "# if len(lr_tune_output)==3:\n",
    "#     suggestion, lr_tuner_results, config = lr_tune_output\n",
    "# else:\n",
    "#     suggestion, lr_tuner_results, config, lr_tuner = lr_tune_output\n",
    "\n",
    "pp(OmegaConf.to_container(config.model, resolve=True))\n",
    "print(model.hparams)\n",
    "\n",
    "print(model.hparams_initial)"
   ]
  },
  {
   "cell_type": "markdown",
   "metadata": {},
   "source": [
    "## model.fit"
   ]
  },
  {
   "cell_type": "code",
   "execution_count": 18,
   "metadata": {},
   "outputs": [
    {
     "name": "stderr",
     "output_type": "stream",
     "text": [
      "/media/data/conda/jrose3/envs/sequoia/lib/python3.8/site-packages/pytorch_lightning/core/datamodule.py:423: LightningDeprecationWarning: DataModule.prepare_data has already been called, so it will not be called again. In v1.6 this behavior will change to always call DataModule.prepare_data.\n",
      "  rank_zero_deprecation(\n",
      "2021-10-13 21:53:05,226 lightning_hydra_classifiers.experiments.multitask.datamodules INFO     Task_1 (None): datamodule.setup(stage=fit)\n",
      "LOCAL_RANK: 0 - CUDA_VISIBLE_DEVICES: [0,1,2,3,4,5,6,7]\n"
     ]
    },
    {
     "name": "stdout",
     "output_type": "stream",
     "text": [
      "self.hparams=\"backbone_name\": resnet50\n",
      "\"head_type\":     linear\n",
      "\"hidden_size\":   None\n",
      "\"lr\":            0.0009120108393559097\n",
      "\"num_classes\":   19\n",
      "\"pool_size\":     1\n",
      "\"pool_type\":     avgdrop\n",
      "\"pretrained\":    True\n",
      "\"seed\":          98\n",
      "\"weight_decay\":  0.01\n"
     ]
    },
    {
     "name": "stderr",
     "output_type": "stream",
     "text": [
      "\u001b[34m\u001b[1mwandb\u001b[0m: wandb version 0.12.4 is available!  To upgrade, please run:\n",
      "\u001b[34m\u001b[1mwandb\u001b[0m:  $ pip install wandb --upgrade\n"
     ]
    },
    {
     "data": {
      "text/html": [
       "\n",
       "                Tracking run with wandb version 0.10.26<br/>\n",
       "                Syncing run <strong style=\"color:#cdcd00\">crimson-elevator-255</strong> to <a href=\"https://wandb.ai\" target=\"_blank\">Weights & Biases</a> <a href=\"https://docs.wandb.com/integrations/jupyter.html\" target=\"_blank\">(Documentation)</a>.<br/>\n",
       "                Project page: <a href=\"https://wandb.ai/jrose/image_classification\" target=\"_blank\">https://wandb.ai/jrose/image_classification</a><br/>\n",
       "                Run page: <a href=\"https://wandb.ai/jrose/image_classification/runs/2u8frfxq\" target=\"_blank\">https://wandb.ai/jrose/image_classification/runs/2u8frfxq</a><br/>\n",
       "                Run data is saved locally in <code>/media/data/jacob/GitHub/lightning-hydra-classifiers/notebooks/wandb/run-20211013_215305-2u8frfxq</code><br/><br/>\n",
       "            "
      ],
      "text/plain": [
       "<IPython.core.display.HTML object>"
      ]
     },
     "metadata": {},
     "output_type": "display_data"
    },
    {
     "name": "stderr",
     "output_type": "stream",
     "text": [
      "\n",
      "  | Name                    | Type             | Params\n",
      "-------------------------------------------------------------\n",
      "0 | model                   | Sequential       | 23.5 M\n",
      "1 | criterion               | CrossEntropyLoss | 0     \n",
      "2 | metrics_train           | MetricCollection | 0     \n",
      "3 | metrics_train_per_class | MetricCollection | 0     \n",
      "4 | metrics_val             | MetricCollection | 0     \n",
      "5 | metrics_val_per_class   | MetricCollection | 0     \n",
      "6 | metrics_test            | MetricCollection | 0     \n",
      "7 | metrics_test_per_class  | MetricCollection | 0     \n",
      "-------------------------------------------------------------\n",
      "23.5 M    Trainable params\n",
      "0         Non-trainable params\n",
      "23.5 M    Total params\n",
      "94.188    Total estimated model params size (MB)\n"
     ]
    },
    {
     "data": {
      "application/vnd.jupyter.widget-view+json": {
       "model_id": "e4fffd635c9a4c3bab2a8373c944f06d",
       "version_major": 2,
       "version_minor": 0
      },
      "text/plain": [
       "Validation sanity check: 0it [00:00, ?it/s]"
      ]
     },
     "metadata": {},
     "output_type": "display_data"
    },
    {
     "name": "stderr",
     "output_type": "stream",
     "text": [
      "Global seed set to 98\n",
      "/media/data/conda/jrose3/envs/sequoia/lib/python3.8/site-packages/pl_bolts/callbacks/data_monitor.py:104: UserWarning: ModuleDataMonitor does not support logging with LoggerCollection. Supported loggers are: TensorBoardLogger, WandbLogger\n",
      "  rank_zero_warn(\n"
     ]
    },
    {
     "data": {
      "application/vnd.jupyter.widget-view+json": {
       "model_id": "af60f701533b475e8ae4e4efe39d18ea",
       "version_major": 2,
       "version_minor": 0
      },
      "text/plain": [
       "Training: 37it [00:00, ?it/s]"
      ]
     },
     "metadata": {},
     "output_type": "display_data"
    },
    {
     "data": {
      "application/vnd.jupyter.widget-view+json": {
       "model_id": "",
       "version_major": 2,
       "version_minor": 0
      },
      "text/plain": [
       "Validating: 0it [00:00, ?it/s]"
      ]
     },
     "metadata": {},
     "output_type": "display_data"
    },
    {
     "name": "stderr",
     "output_type": "stream",
     "text": [
      "/media/data/conda/jrose3/envs/sequoia/lib/python3.8/site-packages/sklearn/metrics/_classification.py:1245: UndefinedMetricWarning: Recall is ill-defined and being set to 0.0 in labels with no true samples. Use `zero_division` parameter to control this behavior.\n",
      "  _warn_prf(average, modifier, msg_start, len(result))\n"
     ]
    },
    {
     "name": "stdout",
     "output_type": "stream",
     "text": [
      "(19,) (19,) (19,) (19,)\n",
      "val/per_class/F1_distributions: metric_data[0].shape=(1,)\n",
      "val/per_class/Precision_distributions: metric_data[0].shape=(1,)\n",
      "val/per_class/Recall_distributions: metric_data[0].shape=(1,)\n",
      "len(self.class_names)=19\n",
      "val/confusion_matrix/crimson-elevator-255\n"
     ]
    },
    {
     "name": "stderr",
     "output_type": "stream",
     "text": [
      "Metric val_acc improved. New best score: 0.366\n",
      "Epoch 0, global step 62: val_acc reached 0.36573 (best 0.36573), saving model to \"/media/data_cifs/projects/prj_fossils/users/jacob/experiments/July2021-Nov2021/experiment_logs/Transfer_Experiments/feature_extractor-PNAS-19_classes-res_512-bsz_32-resnet50-pretrained_True-pool_avgdrop/replicate_1/results/checkpoints/epoch=00-val_loss=1.230-val_acc=0.366.ckpt\" as top 1\n"
     ]
    },
    {
     "data": {
      "application/vnd.jupyter.widget-view+json": {
       "model_id": "",
       "version_major": 2,
       "version_minor": 0
      },
      "text/plain": [
       "Validating: 0it [00:00, ?it/s]"
      ]
     },
     "metadata": {},
     "output_type": "display_data"
    },
    {
     "name": "stderr",
     "output_type": "stream",
     "text": [
      "/media/data/conda/jrose3/envs/sequoia/lib/python3.8/site-packages/sklearn/metrics/_classification.py:1245: UndefinedMetricWarning: Recall is ill-defined and being set to 0.0 in labels with no true samples. Use `zero_division` parameter to control this behavior.\n",
      "  _warn_prf(average, modifier, msg_start, len(result))\n"
     ]
    },
    {
     "name": "stdout",
     "output_type": "stream",
     "text": [
      "(19,) (19,) (19,) (19,)\n",
      "val/per_class/F1_distributions: metric_data[0].shape=(1,)\n",
      "val/per_class/Precision_distributions: metric_data[0].shape=(1,)\n",
      "val/per_class/Recall_distributions: metric_data[0].shape=(1,)\n",
      "len(self.class_names)=19\n",
      "val/confusion_matrix/crimson-elevator-255\n"
     ]
    },
    {
     "name": "stderr",
     "output_type": "stream",
     "text": [
      "Metric val_acc improved by 0.125 >= min_delta = 0.05. New best score: 0.490\n",
      "Epoch 1, global step 124: val_acc reached 0.49036 (best 0.49036), saving model to \"/media/data_cifs/projects/prj_fossils/users/jacob/experiments/July2021-Nov2021/experiment_logs/Transfer_Experiments/feature_extractor-PNAS-19_classes-res_512-bsz_32-resnet50-pretrained_True-pool_avgdrop/replicate_1/results/checkpoints/epoch=01-val_loss=0.897-val_acc=0.490.ckpt\" as top 1\n"
     ]
    },
    {
     "data": {
      "application/vnd.jupyter.widget-view+json": {
       "model_id": "",
       "version_major": 2,
       "version_minor": 0
      },
      "text/plain": [
       "Validating: 0it [00:00, ?it/s]"
      ]
     },
     "metadata": {},
     "output_type": "display_data"
    },
    {
     "name": "stderr",
     "output_type": "stream",
     "text": [
      "/media/data/conda/jrose3/envs/sequoia/lib/python3.8/site-packages/sklearn/metrics/_classification.py:1245: UndefinedMetricWarning: Recall is ill-defined and being set to 0.0 in labels with no true samples. Use `zero_division` parameter to control this behavior.\n",
      "  _warn_prf(average, modifier, msg_start, len(result))\n"
     ]
    },
    {
     "name": "stdout",
     "output_type": "stream",
     "text": [
      "(19,) (19,) (19,) (19,)\n",
      "val/per_class/F1_distributions: metric_data[0].shape=(1,)\n",
      "val/per_class/Precision_distributions: metric_data[0].shape=(1,)\n",
      "val/per_class/Recall_distributions: metric_data[0].shape=(1,)\n",
      "len(self.class_names)=19\n",
      "val/confusion_matrix/crimson-elevator-255\n"
     ]
    },
    {
     "name": "stderr",
     "output_type": "stream",
     "text": [
      "Metric val_acc improved by 0.077 >= min_delta = 0.05. New best score: 0.567\n",
      "Epoch 2, global step 186: val_acc reached 0.56739 (best 0.56739), saving model to \"/media/data_cifs/projects/prj_fossils/users/jacob/experiments/July2021-Nov2021/experiment_logs/Transfer_Experiments/feature_extractor-PNAS-19_classes-res_512-bsz_32-resnet50-pretrained_True-pool_avgdrop/replicate_1/results/checkpoints/epoch=02-val_loss=0.788-val_acc=0.567.ckpt\" as top 1\n"
     ]
    },
    {
     "data": {
      "application/vnd.jupyter.widget-view+json": {
       "model_id": "",
       "version_major": 2,
       "version_minor": 0
      },
      "text/plain": [
       "Validating: 0it [00:00, ?it/s]"
      ]
     },
     "metadata": {},
     "output_type": "display_data"
    },
    {
     "name": "stderr",
     "output_type": "stream",
     "text": [
      "/media/data/conda/jrose3/envs/sequoia/lib/python3.8/site-packages/sklearn/metrics/_classification.py:1245: UndefinedMetricWarning: Recall is ill-defined and being set to 0.0 in labels with no true samples. Use `zero_division` parameter to control this behavior.\n",
      "  _warn_prf(average, modifier, msg_start, len(result))\n"
     ]
    },
    {
     "name": "stdout",
     "output_type": "stream",
     "text": [
      "(19,) (19,) (19,) (19,)\n",
      "val/per_class/F1_distributions: metric_data[0].shape=(1,)\n",
      "val/per_class/Precision_distributions: metric_data[0].shape=(1,)\n",
      "val/per_class/Recall_distributions: metric_data[0].shape=(1,)\n",
      "len(self.class_names)=19\n",
      "val/confusion_matrix/crimson-elevator-255\n"
     ]
    },
    {
     "name": "stderr",
     "output_type": "stream",
     "text": [
      "Epoch 3, global step 248: val_acc was not in top 1\n"
     ]
    },
    {
     "data": {
      "application/vnd.jupyter.widget-view+json": {
       "model_id": "",
       "version_major": 2,
       "version_minor": 0
      },
      "text/plain": [
       "Validating: 0it [00:00, ?it/s]"
      ]
     },
     "metadata": {},
     "output_type": "display_data"
    },
    {
     "name": "stderr",
     "output_type": "stream",
     "text": [
      "/media/data/conda/jrose3/envs/sequoia/lib/python3.8/site-packages/sklearn/metrics/_classification.py:1245: UndefinedMetricWarning: Recall is ill-defined and being set to 0.0 in labels with no true samples. Use `zero_division` parameter to control this behavior.\n",
      "  _warn_prf(average, modifier, msg_start, len(result))\n"
     ]
    },
    {
     "name": "stdout",
     "output_type": "stream",
     "text": [
      "(19,) (19,) (19,) (19,)\n",
      "val/per_class/F1_distributions: metric_data[0].shape=(1,)\n",
      "val/per_class/Precision_distributions: metric_data[0].shape=(1,)\n",
      "val/per_class/Recall_distributions: metric_data[0].shape=(1,)\n",
      "len(self.class_names)=19\n",
      "val/confusion_matrix/crimson-elevator-255\n"
     ]
    },
    {
     "name": "stderr",
     "output_type": "stream",
     "text": [
      "Metric val_acc improved by 0.061 >= min_delta = 0.05. New best score: 0.629\n",
      "Epoch 4, global step 310: val_acc reached 0.62877 (best 0.62877), saving model to \"/media/data_cifs/projects/prj_fossils/users/jacob/experiments/July2021-Nov2021/experiment_logs/Transfer_Experiments/feature_extractor-PNAS-19_classes-res_512-bsz_32-resnet50-pretrained_True-pool_avgdrop/replicate_1/results/checkpoints/epoch=04-val_loss=0.877-val_acc=0.629.ckpt\" as top 1\n"
     ]
    },
    {
     "data": {
      "application/vnd.jupyter.widget-view+json": {
       "model_id": "",
       "version_major": 2,
       "version_minor": 0
      },
      "text/plain": [
       "Validating: 0it [00:00, ?it/s]"
      ]
     },
     "metadata": {},
     "output_type": "display_data"
    },
    {
     "name": "stderr",
     "output_type": "stream",
     "text": [
      "/media/data/conda/jrose3/envs/sequoia/lib/python3.8/site-packages/sklearn/metrics/_classification.py:1245: UndefinedMetricWarning: Recall is ill-defined and being set to 0.0 in labels with no true samples. Use `zero_division` parameter to control this behavior.\n",
      "  _warn_prf(average, modifier, msg_start, len(result))\n"
     ]
    },
    {
     "name": "stdout",
     "output_type": "stream",
     "text": [
      "(19,) (19,) (19,) (19,)\n",
      "val/per_class/F1_distributions: metric_data[0].shape=(1,)\n",
      "val/per_class/Precision_distributions: metric_data[0].shape=(1,)\n",
      "val/per_class/Recall_distributions: metric_data[0].shape=(1,)\n",
      "len(self.class_names)=19\n",
      "val/confusion_matrix/crimson-elevator-255\n"
     ]
    },
    {
     "name": "stderr",
     "output_type": "stream",
     "text": [
      "Epoch 5, global step 372: val_acc was not in top 1\n"
     ]
    },
    {
     "data": {
      "application/vnd.jupyter.widget-view+json": {
       "model_id": "",
       "version_major": 2,
       "version_minor": 0
      },
      "text/plain": [
       "Validating: 0it [00:00, ?it/s]"
      ]
     },
     "metadata": {},
     "output_type": "display_data"
    },
    {
     "name": "stderr",
     "output_type": "stream",
     "text": [
      "/media/data/conda/jrose3/envs/sequoia/lib/python3.8/site-packages/sklearn/metrics/_classification.py:1245: UndefinedMetricWarning: Recall is ill-defined and being set to 0.0 in labels with no true samples. Use `zero_division` parameter to control this behavior.\n",
      "  _warn_prf(average, modifier, msg_start, len(result))\n"
     ]
    },
    {
     "name": "stdout",
     "output_type": "stream",
     "text": [
      "(19,) (19,) (19,) (19,)\n",
      "val/per_class/F1_distributions: metric_data[0].shape=(1,)\n",
      "val/per_class/Precision_distributions: metric_data[0].shape=(1,)\n",
      "val/per_class/Recall_distributions: metric_data[0].shape=(1,)\n",
      "len(self.class_names)=19\n",
      "val/confusion_matrix/crimson-elevator-255\n"
     ]
    },
    {
     "name": "stderr",
     "output_type": "stream",
     "text": [
      "Epoch 6, global step 434: val_acc was not in top 1\n"
     ]
    },
    {
     "data": {
      "application/vnd.jupyter.widget-view+json": {
       "model_id": "",
       "version_major": 2,
       "version_minor": 0
      },
      "text/plain": [
       "Validating: 0it [00:00, ?it/s]"
      ]
     },
     "metadata": {},
     "output_type": "display_data"
    },
    {
     "name": "stderr",
     "output_type": "stream",
     "text": [
      "/media/data/conda/jrose3/envs/sequoia/lib/python3.8/site-packages/sklearn/metrics/_classification.py:1245: UndefinedMetricWarning: Recall is ill-defined and being set to 0.0 in labels with no true samples. Use `zero_division` parameter to control this behavior.\n",
      "  _warn_prf(average, modifier, msg_start, len(result))\n"
     ]
    },
    {
     "name": "stdout",
     "output_type": "stream",
     "text": [
      "(19,) (19,) (19,) (19,)\n",
      "val/per_class/F1_distributions: metric_data[0].shape=(1,)\n",
      "val/per_class/Precision_distributions: metric_data[0].shape=(1,)\n",
      "val/per_class/Recall_distributions: metric_data[0].shape=(1,)\n",
      "len(self.class_names)=19\n",
      "val/confusion_matrix/crimson-elevator-255\n"
     ]
    },
    {
     "name": "stderr",
     "output_type": "stream",
     "text": [
      "Epoch 7, global step 496: val_acc was not in top 1\n"
     ]
    },
    {
     "data": {
      "application/vnd.jupyter.widget-view+json": {
       "model_id": "",
       "version_major": 2,
       "version_minor": 0
      },
      "text/plain": [
       "Validating: 0it [00:00, ?it/s]"
      ]
     },
     "metadata": {},
     "output_type": "display_data"
    },
    {
     "name": "stderr",
     "output_type": "stream",
     "text": [
      "/media/data/conda/jrose3/envs/sequoia/lib/python3.8/site-packages/sklearn/metrics/_classification.py:1245: UndefinedMetricWarning: Recall is ill-defined and being set to 0.0 in labels with no true samples. Use `zero_division` parameter to control this behavior.\n",
      "  _warn_prf(average, modifier, msg_start, len(result))\n"
     ]
    },
    {
     "name": "stdout",
     "output_type": "stream",
     "text": [
      "(19,) (19,) (19,) (19,)\n",
      "val/per_class/F1_distributions: metric_data[0].shape=(1,)\n",
      "val/per_class/Precision_distributions: metric_data[0].shape=(1,)\n",
      "val/per_class/Recall_distributions: metric_data[0].shape=(1,)\n",
      "len(self.class_names)=19\n",
      "val/confusion_matrix/crimson-elevator-255\n"
     ]
    },
    {
     "name": "stderr",
     "output_type": "stream",
     "text": [
      "Epoch 8, global step 558: val_acc was not in top 1\n"
     ]
    },
    {
     "data": {
      "application/vnd.jupyter.widget-view+json": {
       "model_id": "",
       "version_major": 2,
       "version_minor": 0
      },
      "text/plain": [
       "Validating: 0it [00:00, ?it/s]"
      ]
     },
     "metadata": {},
     "output_type": "display_data"
    },
    {
     "name": "stdout",
     "output_type": "stream",
     "text": [
      "(19,) (19,) (19,) (19,)\n",
      "val/per_class/F1_distributions: metric_data[0].shape=(1,)\n",
      "val/per_class/Precision_distributions: metric_data[0].shape=(1,)\n",
      "val/per_class/Recall_distributions: metric_data[0].shape=(1,)\n",
      "len(self.class_names)=19\n",
      "val/confusion_matrix/crimson-elevator-255\n"
     ]
    },
    {
     "name": "stderr",
     "output_type": "stream",
     "text": [
      "Monitored metric val_acc did not improve in the last 5 records. Best score: 0.629. Signaling Trainer to stop.\n",
      "Epoch 9, global step 620: val_acc reached 0.65465 (best 0.65465), saving model to \"/media/data_cifs/projects/prj_fossils/users/jacob/experiments/July2021-Nov2021/experiment_logs/Transfer_Experiments/feature_extractor-PNAS-19_classes-res_512-bsz_32-resnet50-pretrained_True-pool_avgdrop/replicate_1/results/checkpoints/epoch=09-val_loss=0.812-val_acc=0.655.ckpt\" as top 1\n",
      "Saving latest checkpoint...\n",
      "/media/data/conda/jrose3/envs/sequoia/lib/python3.8/site-packages/pytorch_lightning/trainer/deprecated_api.py:32: LightningDeprecationWarning: `Trainer.train_loop` has been renamed to `Trainer.fit_loop` and will be removed in v1.6.\n",
      "  rank_zero_deprecation(\n",
      "FIT Profiler Report\n",
      "\n",
      "Action                             \t|  Mean duration (s)\t|Num calls      \t|  Total time (s) \t|  Percentage %   \t|\n",
      "--------------------------------------------------------------------------------------------------------------------------------------\n",
      "Total                              \t|  -              \t|_              \t|  1373.4         \t|  100 %          \t|\n",
      "--------------------------------------------------------------------------------------------------------------------------------------\n",
      "run_training_epoch                 \t|  112.02         \t|12             \t|  1344.2         \t|  97.873         \t|\n",
      "run_training_batch                 \t|  0.91536        \t|720            \t|  659.06         \t|  47.986         \t|\n",
      "optimizer_step_and_closure_0       \t|  0.90443        \t|720            \t|  651.19         \t|  47.413         \t|\n",
      "training_step_and_backward         \t|  0.3779         \t|720            \t|  272.09         \t|  19.81          \t|\n",
      "on_validation_batch_end            \t|  1.3841         \t|180            \t|  249.15         \t|  18.14          \t|\n",
      "on_validation_epoch_end            \t|  18.587         \t|13             \t|  241.63         \t|  17.593         \t|\n",
      "model_forward                      \t|  0.33244        \t|720            \t|  239.35         \t|  17.427         \t|\n",
      "training_step                      \t|  0.33197        \t|720            \t|  239.02         \t|  17.403         \t|\n",
      "on_train_epoch_end                 \t|  5.8711         \t|12             \t|  70.454         \t|  5.1297         \t|\n",
      "evaluation_step_and_end            \t|  0.31768        \t|180            \t|  57.182         \t|  4.1634         \t|\n",
      "validation_step                    \t|  0.31754        \t|180            \t|  57.157         \t|  4.1616         \t|\n",
      "get_train_batch                    \t|  0.043775       \t|720            \t|  31.518         \t|  2.2948         \t|\n",
      "backward                           \t|  0.036041       \t|720            \t|  25.95          \t|  1.8894         \t|\n",
      "on_train_end                       \t|  2.322          \t|2              \t|  4.6441         \t|  0.33813        \t|\n",
      "on_train_batch_end                 \t|  0.0011183      \t|720            \t|  0.80515        \t|  0.058623       \t|\n",
      "training_batch_to_device           \t|  0.0010714      \t|720            \t|  0.7714         \t|  0.056165       \t|\n",
      "on_validation_start                \t|  0.035102       \t|13             \t|  0.45632        \t|  0.033225       \t|\n",
      "evaluation_batch_to_device         \t|  0.001923       \t|180            \t|  0.34614        \t|  0.025202       \t|\n",
      "on_train_start                     \t|  0.070372       \t|2              \t|  0.14074        \t|  0.010248       \t|\n",
      "on_batch_start                     \t|  0.00015116     \t|720            \t|  0.10884        \t|  0.0079242      \t|\n",
      "on_train_epoch_start               \t|  0.0045843      \t|12             \t|  0.055011       \t|  0.0040053      \t|\n",
      "on_validation_end                  \t|  0.0038035      \t|13             \t|  0.049446       \t|  0.0036001      \t|\n",
      "on_before_optimizer_step           \t|  5.2382e-05     \t|720            \t|  0.037715       \t|  0.002746       \t|\n",
      "on_before_zero_grad                \t|  5.018e-05      \t|720            \t|  0.03613        \t|  0.0026306      \t|\n",
      "on_train_batch_start               \t|  4.654e-05      \t|720            \t|  0.033509       \t|  0.0024398      \t|\n",
      "on_after_backward                  \t|  4.6024e-05     \t|720            \t|  0.033137       \t|  0.0024127      \t|\n",
      "on_before_backward                 \t|  4.2185e-05     \t|720            \t|  0.030373       \t|  0.0022114      \t|\n",
      "on_batch_end                       \t|  4.071e-05      \t|720            \t|  0.029312       \t|  0.0021342      \t|\n",
      "training_step_end                  \t|  3.3604e-05     \t|720            \t|  0.024195       \t|  0.0017616      \t|\n",
      "on_validation_batch_start          \t|  9.4559e-05     \t|180            \t|  0.017021       \t|  0.0012393      \t|\n",
      "validation_step_end                \t|  2.9312e-05     \t|180            \t|  0.0052762      \t|  0.00038415     \t|\n",
      "on_epoch_end                       \t|  8.3809e-05     \t|25             \t|  0.0020952      \t|  0.00015255     \t|\n",
      "on_epoch_start                     \t|  5.7419e-05     \t|25             \t|  0.0014355      \t|  0.00010452     \t|\n",
      "on_validation_epoch_start          \t|  3.783e-05      \t|13             \t|  0.00049179     \t|  3.5807e-05     \t|\n",
      "on_fit_start                       \t|  0.00019467     \t|1              \t|  0.00019467     \t|  1.4174e-05     \t|\n",
      "on_before_accelerator_backend_setup\t|  4.4239e-05     \t|2              \t|  8.8478e-05     \t|  6.442e-06      \t|\n",
      "on_val_dataloader                  \t|  4.6107e-05     \t|1              \t|  4.6107e-05     \t|  3.357e-06      \t|\n",
      "on_train_dataloader                \t|  2.6901e-05     \t|1              \t|  2.6901e-05     \t|  1.9586e-06     \t|\n",
      "\n"
     ]
    },
    {
     "name": "stdout",
     "output_type": "stream",
     "text": [
      "None\n"
     ]
    },
    {
     "name": "stderr",
     "output_type": "stream",
     "text": [
      "/media/data/conda/jrose3/envs/sequoia/lib/python3.8/site-packages/pytorch_lightning/core/datamodule.py:423: LightningDeprecationWarning: DataModule.teardown has already been called, so it will not be called again. In v1.6 this behavior will change to always call DataModule.teardown.\n",
      "  rank_zero_deprecation(\n"
     ]
    },
    {
     "data": {
      "text/plain": [
       "<Figure size 792x720 with 0 Axes>"
      ]
     },
     "metadata": {},
     "output_type": "display_data"
    },
    {
     "data": {
      "text/plain": [
       "<Figure size 792x72 with 0 Axes>"
      ]
     },
     "metadata": {},
     "output_type": "display_data"
    },
    {
     "data": {
      "text/plain": [
       "<Figure size 792x720 with 0 Axes>"
      ]
     },
     "metadata": {},
     "output_type": "display_data"
    },
    {
     "data": {
      "text/plain": [
       "<Figure size 792x72 with 0 Axes>"
      ]
     },
     "metadata": {},
     "output_type": "display_data"
    },
    {
     "data": {
      "text/plain": [
       "<Figure size 792x720 with 0 Axes>"
      ]
     },
     "metadata": {},
     "output_type": "display_data"
    },
    {
     "data": {
      "text/plain": [
       "<Figure size 792x72 with 0 Axes>"
      ]
     },
     "metadata": {},
     "output_type": "display_data"
    },
    {
     "data": {
      "text/plain": [
       "<Figure size 792x720 with 0 Axes>"
      ]
     },
     "metadata": {},
     "output_type": "display_data"
    },
    {
     "data": {
      "text/plain": [
       "<Figure size 792x72 with 0 Axes>"
      ]
     },
     "metadata": {},
     "output_type": "display_data"
    },
    {
     "data": {
      "text/plain": [
       "<Figure size 792x720 with 0 Axes>"
      ]
     },
     "metadata": {},
     "output_type": "display_data"
    },
    {
     "data": {
      "text/plain": [
       "<Figure size 792x72 with 0 Axes>"
      ]
     },
     "metadata": {},
     "output_type": "display_data"
    },
    {
     "data": {
      "text/plain": [
       "<Figure size 792x720 with 0 Axes>"
      ]
     },
     "metadata": {},
     "output_type": "display_data"
    },
    {
     "data": {
      "text/plain": [
       "<Figure size 792x72 with 0 Axes>"
      ]
     },
     "metadata": {},
     "output_type": "display_data"
    },
    {
     "data": {
      "text/plain": [
       "<Figure size 792x720 with 0 Axes>"
      ]
     },
     "metadata": {},
     "output_type": "display_data"
    },
    {
     "data": {
      "text/plain": [
       "<Figure size 792x72 with 0 Axes>"
      ]
     },
     "metadata": {},
     "output_type": "display_data"
    },
    {
     "data": {
      "text/plain": [
       "<Figure size 792x720 with 0 Axes>"
      ]
     },
     "metadata": {},
     "output_type": "display_data"
    },
    {
     "data": {
      "text/plain": [
       "<Figure size 792x72 with 0 Axes>"
      ]
     },
     "metadata": {},
     "output_type": "display_data"
    },
    {
     "data": {
      "text/plain": [
       "<Figure size 792x720 with 0 Axes>"
      ]
     },
     "metadata": {},
     "output_type": "display_data"
    },
    {
     "data": {
      "text/plain": [
       "<Figure size 792x72 with 0 Axes>"
      ]
     },
     "metadata": {},
     "output_type": "display_data"
    },
    {
     "data": {
      "text/plain": [
       "<Figure size 792x720 with 0 Axes>"
      ]
     },
     "metadata": {},
     "output_type": "display_data"
    },
    {
     "data": {
      "text/plain": [
       "<Figure size 792x72 with 0 Axes>"
      ]
     },
     "metadata": {},
     "output_type": "display_data"
    }
   ],
   "source": [
    "hist = trainer.fit(model, datamodule=datamodule)\n",
    "print(hist)"
   ]
  },
  {
   "cell_type": "markdown",
   "metadata": {},
   "source": [
    "## model.test"
   ]
  },
  {
   "cell_type": "code",
   "execution_count": 19,
   "metadata": {},
   "outputs": [
    {
     "name": "stderr",
     "output_type": "stream",
     "text": [
      "/media/data/conda/jrose3/envs/sequoia/lib/python3.8/site-packages/pytorch_lightning/core/datamodule.py:423: LightningDeprecationWarning: DataModule.prepare_data has already been called, so it will not be called again. In v1.6 this behavior will change to always call DataModule.prepare_data.\n",
      "  rank_zero_deprecation(\n",
      "2021-10-13 22:14:01,190 lightning_hydra_classifiers.experiments.multitask.datamodules INFO     Task_1: datamodule.setup(stage=test)\n",
      "LOCAL_RANK: 0 - CUDA_VISIBLE_DEVICES: [0,1,2,3,4,5,6,7]\n"
     ]
    },
    {
     "data": {
      "application/vnd.jupyter.widget-view+json": {
       "model_id": "37b4bb3fec6848bc9fd5d05ee7f5ad7d",
       "version_major": 2,
       "version_minor": 0
      },
      "text/plain": [
       "Testing: 0it [00:00, ?it/s]"
      ]
     },
     "metadata": {},
     "output_type": "display_data"
    },
    {
     "name": "stderr",
     "output_type": "stream",
     "text": [
      "TEST Profiler Report\n",
      "\n",
      "Action                             \t|  Mean duration (s)\t|Num calls      \t|  Total time (s) \t|  Percentage %   \t|\n",
      "---------------------------------------------------------------------------------------------------------------------------------------\n",
      "Total                              \t|  -              \t|_              \t|  1410.2         \t|  100 %          \t|\n",
      "---------------------------------------------------------------------------------------------------------------------------------------\n",
      "run_training_epoch                 \t|  112.02         \t|12             \t|  1344.2         \t|  95.32          \t|\n",
      "run_training_batch                 \t|  0.91536        \t|720            \t|  659.06         \t|  46.734         \t|\n",
      "optimizer_step_and_closure_0       \t|  0.90443        \t|720            \t|  651.19         \t|  46.176         \t|\n",
      "training_step_and_backward         \t|  0.3779         \t|720            \t|  272.09         \t|  19.294         \t|\n",
      "on_validation_batch_end            \t|  1.3841         \t|180            \t|  249.15         \t|  17.667         \t|\n",
      "on_validation_epoch_end            \t|  18.587         \t|13             \t|  241.63         \t|  17.134         \t|\n",
      "model_forward                      \t|  0.33244        \t|720            \t|  239.35         \t|  16.973         \t|\n",
      "training_step                      \t|  0.33197        \t|720            \t|  239.02         \t|  16.949         \t|\n",
      "evaluation_step_and_end            \t|  0.31776        \t|268            \t|  85.161         \t|  6.0388         \t|\n",
      "on_train_epoch_end                 \t|  5.8711         \t|12             \t|  70.454         \t|  4.9959         \t|\n",
      "validation_step                    \t|  0.31754        \t|180            \t|  57.157         \t|  4.053          \t|\n",
      "get_train_batch                    \t|  0.043775       \t|720            \t|  31.518         \t|  2.2349         \t|\n",
      "test_step                          \t|  0.31781        \t|88             \t|  27.967         \t|  1.9832         \t|\n",
      "backward                           \t|  0.036041       \t|720            \t|  25.95          \t|  1.8401         \t|\n",
      "on_train_end                       \t|  2.322          \t|2              \t|  4.6441         \t|  0.32931        \t|\n",
      "on_train_batch_end                 \t|  0.0011183      \t|720            \t|  0.80515        \t|  0.057093       \t|\n",
      "training_batch_to_device           \t|  0.0010714      \t|720            \t|  0.7714         \t|  0.0547         \t|\n",
      "on_validation_start                \t|  0.035102       \t|13             \t|  0.45632        \t|  0.032358       \t|\n",
      "evaluation_batch_to_device         \t|  0.0016541      \t|268            \t|  0.4433         \t|  0.031434       \t|\n",
      "on_train_start                     \t|  0.070372       \t|2              \t|  0.14074        \t|  0.0099802      \t|\n",
      "on_batch_start                     \t|  0.00015116     \t|720            \t|  0.10884        \t|  0.0077175      \t|\n",
      "on_train_epoch_start               \t|  0.0045843      \t|12             \t|  0.055011       \t|  0.0039008      \t|\n",
      "on_validation_end                  \t|  0.0038035      \t|13             \t|  0.049446       \t|  0.0035062      \t|\n",
      "on_test_start                      \t|  0.045446       \t|1              \t|  0.045446       \t|  0.0032225      \t|\n",
      "on_before_optimizer_step           \t|  5.2382e-05     \t|720            \t|  0.037715       \t|  0.0026744      \t|\n",
      "on_before_zero_grad                \t|  5.018e-05      \t|720            \t|  0.03613        \t|  0.002562       \t|\n",
      "on_train_batch_start               \t|  4.654e-05      \t|720            \t|  0.033509       \t|  0.0023761      \t|\n",
      "on_after_backward                  \t|  4.6024e-05     \t|720            \t|  0.033137       \t|  0.0023498      \t|\n",
      "on_test_batch_end                  \t|  0.00037239     \t|88             \t|  0.03277        \t|  0.0023237      \t|\n",
      "on_before_backward                 \t|  4.2185e-05     \t|720            \t|  0.030373       \t|  0.0021537      \t|\n",
      "on_batch_end                       \t|  4.071e-05      \t|720            \t|  0.029312       \t|  0.0020785      \t|\n",
      "training_step_end                  \t|  3.3604e-05     \t|720            \t|  0.024195       \t|  0.0017156      \t|\n",
      "on_validation_batch_start          \t|  9.4559e-05     \t|180            \t|  0.017021       \t|  0.0012069      \t|\n",
      "validation_step_end                \t|  2.9312e-05     \t|180            \t|  0.0052762      \t|  0.00037413     \t|\n",
      "on_test_batch_start                \t|  5.4881e-05     \t|88             \t|  0.0048295      \t|  0.00034246     \t|\n",
      "test_step_end                      \t|  2.9209e-05     \t|88             \t|  0.0025704      \t|  0.00018227     \t|\n",
      "on_epoch_end                       \t|  8.2899e-05     \t|26             \t|  0.0021554      \t|  0.00015284     \t|\n",
      "on_test_end                        \t|  0.0017573      \t|1              \t|  0.0017573      \t|  0.00012461     \t|\n",
      "on_epoch_start                     \t|  5.7393e-05     \t|26             \t|  0.0014922      \t|  0.00010581     \t|\n",
      "on_validation_epoch_start          \t|  3.783e-05      \t|13             \t|  0.00049179     \t|  3.4873e-05     \t|\n",
      "on_fit_start                       \t|  0.00019467     \t|1              \t|  0.00019467     \t|  1.3804e-05     \t|\n",
      "on_test_epoch_end                  \t|  0.00016592     \t|1              \t|  0.00016592     \t|  1.1765e-05     \t|\n",
      "on_fit_end                         \t|  0.00015196     \t|1              \t|  0.00015196     \t|  1.0775e-05     \t|\n",
      "on_before_accelerator_backend_setup\t|  4.5365e-05     \t|3              \t|  0.0001361      \t|  9.6506e-06     \t|\n",
      "on_test_epoch_start                \t|  5.4913e-05     \t|1              \t|  5.4913e-05     \t|  3.8939e-06     \t|\n",
      "on_val_dataloader                  \t|  4.6107e-05     \t|1              \t|  4.6107e-05     \t|  3.2694e-06     \t|\n",
      "on_train_dataloader                \t|  2.6901e-05     \t|1              \t|  2.6901e-05     \t|  1.9075e-06     \t|\n",
      "on_test_dataloader                 \t|  2.5262e-05     \t|1              \t|  2.5262e-05     \t|  1.7913e-06     \t|\n",
      "\n"
     ]
    },
    {
     "name": "stdout",
     "output_type": "stream",
     "text": [
      "--------------------------------------------------------------------------------\n",
      "DATALOADER:0 TEST RESULTS\n",
      "{'test_acc': 0.3532838225364685, 'test_loss': 2.026762008666992}\n",
      "--------------------------------------------------------------------------------\n"
     ]
    }
   ],
   "source": [
    "test_result = trainer.test()"
   ]
  },
  {
   "cell_type": "code",
   "execution_count": null,
   "metadata": {},
   "outputs": [],
   "source": []
  },
  {
   "cell_type": "markdown",
   "metadata": {
    "heading_collapsed": "true",
    "tags": []
   },
   "source": [
    "## Other"
   ]
  },
  {
   "cell_type": "code",
   "execution_count": 17,
   "metadata": {},
   "outputs": [],
   "source": [
    "import os\n",
    "import pandas as pd \n",
    "import numpy as np\n",
    "import logging\n",
    "from sklearn.metrics import classification_report, f1_score"
   ]
  },
  {
   "cell_type": "code",
   "execution_count": 143,
   "metadata": {},
   "outputs": [],
   "source": [
    "classification_report\n",
    "\n",
    "\n",
    "# def predict_step(batch, batch_idx=None):\n",
    "#     out = self.step(batch, batch_idx)\n",
    "#     if hasattr(batch, \"metadata\"):\n",
    "#         if \"path\" in batch.metadata:\n",
    "#             out = [*out, batch.metadata[\"path\"]]\n",
    "#     return out\n",
    "\n",
    "# self=model\n",
    "# model.predict_step = predict_step\n",
    "# test_results = trainer.predict(dataloaders=datamodule.test_dataloader(), return_predictions=True)\n",
    "# results = collect_results(prediction_results)\n",
    "prediction_results = test_results\n",
    "results = collect_results(prediction_results)\n",
    "len(prediction_results[0])\n",
    "# len(results)\n",
    "\n",
    "def tensors2np(t: Union[torch.Tensor, list]) -> np.ndarray:\n",
    "    if isinstance(t, torch.Tensor):\n",
    "        t = t.cpu().numpy()\n",
    "    elif isinstance(t, list):\n",
    "        t = list(map(tensors2np, t))\n",
    "    if isinstance(t, np.ndarray):\n",
    "        return t\n",
    "    else:\n",
    "        raise TypeError(f\"type(t)={type(t)} is invalid for function tensors2np\" + '\\n' + 'tensors2np(t: Union[torch.Tensor, list]) -> np.ndarray:')\n",
    "        \n",
    "rows = []\n",
    "for result in list(prediction_results):\n",
    "    \n",
    "    y_logit.append(result[0])\n",
    "    y_true.append(result[1])\n",
    "    y_pred.append(result[2])\n",
    "    paths.extend(result[3])\n",
    "    \n",
    "y_logit = torch.cat(y_logit).cpu().numpy()\n",
    "y_true = torch.cat(y_true).cpu().numpy()\n",
    "y_pred = torch.cat(y_pred).cpu().numpy()\n",
    "# paths = torch.cat(paths).cpu().numpy()\n",
    "\n",
    "# [(r[0].device, r[0].shape, r[1].shape, r[2].shape) for r in test_results]\n",
    "\n",
    "print(y_logit.shape, y_true.shape, y_pred.shape, len(paths))"
   ]
  },
  {
   "cell_type": "code",
   "execution_count": null,
   "metadata": {},
   "outputs": [],
   "source": [
    "label_encoder = model.label_encoder\n",
    "\n",
    "\n"
   ]
  },
  {
   "cell_type": "code",
   "execution_count": null,
   "metadata": {},
   "outputs": [],
   "source": []
  },
  {
   "cell_type": "code",
   "execution_count": null,
   "metadata": {},
   "outputs": [],
   "source": []
  },
  {
   "cell_type": "code",
   "execution_count": null,
   "metadata": {},
   "outputs": [],
   "source": []
  },
  {
   "cell_type": "code",
   "execution_count": 208,
   "metadata": {},
   "outputs": [],
   "source": [
    "from torch.functional import F\n",
    "\n",
    "\n",
    "\n",
    "# https://www.google.com/url?sa=t&rct=j&q=&esrc=s&source=web&cd=&cad=rja&uact=8&ved=2ahUKEwji_bKG6cPzAhXJT98KHU0eCsg4HhAWegQIAhAB&url=https%3A%2F%2Fclear.ml%2Fdocs%2Flatest%2Fdocs%2Fguides%2Freporting%2Fexplicit_reporting%2F&usg=AOvVaw3tvUYT7fU3QHIwunDpE800\n",
    "labels = model.label_encoder.classes\n",
    "\n",
    "test_predictions_filepath = os.path.join(results_dir, f\"task_{task_id}\", \"test_predictions.csv\")\n",
    "\n",
    "\n",
    "class ImageInterpretation:\n",
    "    \n",
    "    def __init__(self, model, datamodule, trainer, y_col: str='family'):\n",
    "        self.model = model\n",
    "        self.dm = datamodule\n",
    "        self.trainer = trainer\n",
    "        self.y_col = y_col\n",
    "\n",
    "        \n",
    "    @property\n",
    "    def decoder(self):\n",
    "        return self.dm.label_encoder.idx2class\n",
    "        \n",
    "    def decode_label(y: int): #, labels: Union[Dict[int, str], List[str]]=None):\n",
    "        try:\n",
    "            return self.decoder[y]\n",
    "        except:\n",
    "            return y\n",
    "        \n",
    "    def log_image_predictions(self,\n",
    "                              results_path: str=None,\n",
    "                              sort_by_losses: bool=True,\n",
    "                              ascending: bool=True) -> pd.DataFrame:\n",
    "        \"\"\"\n",
    "        Save table of model predictions as csv\n",
    "        \n",
    "        |losses\t|y_true\t|y_pred\t|paths \t|per-class logits|\n",
    "        |---\t|---\t|---\t|---\t| ---\t |---\t |\n",
    "        |   \t|   \t|   \t|   \t|   \t |   \t |\n",
    "        |   \t|   \t|   \t|   \t|   \t |   \t |\n",
    "        \n",
    "        \n",
    "        \"\"\"\n",
    "\n",
    "        pred_results = trainer.predict(dataloaders=datamodule.test_dataloader(), return_predictions=True)\n",
    "\n",
    "        results = collect_results(pred_results)\n",
    "\n",
    "        labels = list(self.decoder.values())\n",
    "        columns = [\"xEnt_loss\", f\"{self.y_col}_true\", f\"{self.y_col}_pred\", \"paths\", *[f\"{l}_logit\" for l in labels]]\n",
    "\n",
    "        y_logits = torch.from_numpy(results[0].astype(\"float32\"))\n",
    "        y_true = torch.from_numpy(results[1])\n",
    "        xEnt_loss = F.cross_entropy(y_logits, y_true, reduction=\"none\")\n",
    "\n",
    "        losses = xEnt_loss\n",
    "        y_true = results[1]\n",
    "        y_pred = results[2]\n",
    "        paths = results[3]\n",
    "        per_class_y_logits = np.hsplit(results[0], results[0].shape[1])\n",
    "\n",
    "        num_results = len(results[0])\n",
    "        rows = []\n",
    "        for i in range(num_results):\n",
    "            rows.append({k:v for k, v in zip(columns,\n",
    "                                             [losses,\n",
    "                                              self.decode_label(y=y_true[i]),\n",
    "                                              self.decode_label(y=y_pred[i]),\n",
    "                                              paths[i],\n",
    "                                              *(y[i].item() for y in per_class_y_logits)]\n",
    "                                            )\n",
    "                        })\n",
    "\n",
    "        data_df = pd.DataFrame.from_records(rows)\n",
    "        \n",
    "        if sort_by_losses:\n",
    "            data_df = data_df.sort_values(\"xEnt_loss\", ascending=ascending)\n",
    "        \n",
    "        ETL.df2csv(data_df, results_spath)\n",
    "        \n",
    "        return data_df\n",
    "\n",
    "        \n",
    "        \n",
    "\n",
    "#         data = {\"xEnt_loss\":xEnt_loss,\n",
    "#                 f\"{self.y_col}_true\":results[1],\n",
    "#                 f\"{self.y_col}_pred\":results[2],\n",
    "#                 \"path\":results[3],\n",
    "#                 \"y_logits\":np.hsplit(results[0], results[0].shape[1])}    \n",
    "    \n",
    "    \n",
    "    \n",
    "#         rows = []\n",
    "#         for i in range(num_results):\n",
    "#             rows.append({k:v for k, v in zip(columns,\n",
    "#                                              [data[\"xEnt_loss\"][i], \n",
    "#                                               self.decode_label(y=data[f\"{self.y_col}_true\"][i]),\n",
    "#                                               self.decode_label(y=data[f\"{self.y_col}_pred\"][i]),\n",
    "#                                               data[\"path\"][i],\n",
    "#                                               *(y[i].item() for y in data[\"y_logits\"])]\n",
    "#                                             )\n",
    "#                         })\n",
    "\n",
    "#         data_df = pd.DataFrame.from_records(rows)\n",
    "#         ETL.df2csv(data_df, test_predictions_filepath)\n",
    "\n"
   ]
  },
  {
   "cell_type": "code",
   "execution_count": 230,
   "metadata": {},
   "outputs": [
    {
     "data": {
      "text/html": [
       "<div>\n",
       "<style scoped>\n",
       "    .dataframe tbody tr th:only-of-type {\n",
       "        vertical-align: middle;\n",
       "    }\n",
       "\n",
       "    .dataframe tbody tr th {\n",
       "        vertical-align: top;\n",
       "    }\n",
       "\n",
       "    .dataframe thead th {\n",
       "        text-align: right;\n",
       "    }\n",
       "</style>\n",
       "<table border=\"1\" class=\"dataframe\">\n",
       "  <thead>\n",
       "    <tr style=\"text-align: right;\">\n",
       "      <th></th>\n",
       "      <th>family_true</th>\n",
       "      <th>family_pred</th>\n",
       "      <th>paths</th>\n",
       "      <th>Anacardiaceae_logit</th>\n",
       "      <th>Annonaceae_logit</th>\n",
       "      <th>Apocynaceae_logit</th>\n",
       "      <th>Betulaceae_logit</th>\n",
       "      <th>Celastraceae_logit</th>\n",
       "      <th>Combretaceae_logit</th>\n",
       "      <th>Ericaceae_logit</th>\n",
       "      <th>Fabaceae_logit</th>\n",
       "      <th>Fagaceae_logit</th>\n",
       "      <th>Lauraceae_logit</th>\n",
       "      <th>Malvaceae_logit</th>\n",
       "      <th>Melastomataceae_logit</th>\n",
       "      <th>Myrtaceae_logit</th>\n",
       "      <th>Passifloraceae_logit</th>\n",
       "      <th>Phyllanthaceae_logit</th>\n",
       "      <th>Rosaceae_logit</th>\n",
       "      <th>Rubiaceae_logit</th>\n",
       "      <th>Salicaceae_logit</th>\n",
       "      <th>Sapindaceae_logit</th>\n",
       "    </tr>\n",
       "  </thead>\n",
       "  <tbody>\n",
       "    <tr>\n",
       "      <th>2382</th>\n",
       "      <td>3</td>\n",
       "      <td>3</td>\n",
       "      <td>/media/data_cifs/projects/prj_fossils/data/processed_data/data_splits/PNAS_family_100_512/train/Betulaceae/Betulaceae_Corylus_sieboldiana_Wolfe_8505.jpg</td>\n",
       "      <td>-3.701172</td>\n",
       "      <td>-1.307617</td>\n",
       "      <td>-3.009766</td>\n",
       "      <td>6.000000</td>\n",
       "      <td>-3.759766</td>\n",
       "      <td>-5.464844</td>\n",
       "      <td>-3.427734</td>\n",
       "      <td>-3.501953</td>\n",
       "      <td>2.558594</td>\n",
       "      <td>-2.662109</td>\n",
       "      <td>-0.223267</td>\n",
       "      <td>-5.761719</td>\n",
       "      <td>-5.398438</td>\n",
       "      <td>-5.808594</td>\n",
       "      <td>-5.355469</td>\n",
       "      <td>4.937500</td>\n",
       "      <td>0.086670</td>\n",
       "      <td>-2.923828</td>\n",
       "      <td>2.140625</td>\n",
       "    </tr>\n",
       "    <tr>\n",
       "      <th>2379</th>\n",
       "      <td>3</td>\n",
       "      <td>3</td>\n",
       "      <td>/media/data_cifs/projects/prj_fossils/data/processed_data/data_splits/PNAS_family_100_512/train/Betulaceae/Betulaceae_Carpinus_minutiserrata_Wolfe_8499.jpg</td>\n",
       "      <td>-3.636719</td>\n",
       "      <td>-0.404541</td>\n",
       "      <td>-3.140625</td>\n",
       "      <td>6.570312</td>\n",
       "      <td>-3.857422</td>\n",
       "      <td>-5.554688</td>\n",
       "      <td>-2.789062</td>\n",
       "      <td>-3.111328</td>\n",
       "      <td>2.324219</td>\n",
       "      <td>-1.705078</td>\n",
       "      <td>-0.510254</td>\n",
       "      <td>-4.355469</td>\n",
       "      <td>-4.910156</td>\n",
       "      <td>-6.250000</td>\n",
       "      <td>-5.363281</td>\n",
       "      <td>4.960938</td>\n",
       "      <td>-1.021484</td>\n",
       "      <td>-3.556641</td>\n",
       "      <td>1.875000</td>\n",
       "    </tr>\n",
       "    <tr>\n",
       "      <th>1310</th>\n",
       "      <td>17</td>\n",
       "      <td>17</td>\n",
       "      <td>/media/data_cifs/projects/prj_fossils/data/processed_data/data_splits/PNAS_family_100_512/train/Salicaceae/Salicaceae_Salix_paradoxa_Wolfe_18143.jpg</td>\n",
       "      <td>-3.542969</td>\n",
       "      <td>-0.666504</td>\n",
       "      <td>-0.868652</td>\n",
       "      <td>-4.914062</td>\n",
       "      <td>-1.795898</td>\n",
       "      <td>-0.714355</td>\n",
       "      <td>-3.437500</td>\n",
       "      <td>-1.461914</td>\n",
       "      <td>-1.703125</td>\n",
       "      <td>-0.938477</td>\n",
       "      <td>-1.060547</td>\n",
       "      <td>-4.484375</td>\n",
       "      <td>-1.119141</td>\n",
       "      <td>-2.339844</td>\n",
       "      <td>-0.384521</td>\n",
       "      <td>-2.453125</td>\n",
       "      <td>-0.583984</td>\n",
       "      <td>0.764648</td>\n",
       "      <td>-2.248047</td>\n",
       "    </tr>\n",
       "    <tr>\n",
       "      <th>2220</th>\n",
       "      <td>11</td>\n",
       "      <td>16</td>\n",
       "      <td>/media/data_cifs/projects/prj_fossils/data/processed_data/data_splits/PNAS_family_100_512/test/Melastomataceae/Melastomataceae_Miconia_candolleana_Wolfe_7579.jpg</td>\n",
       "      <td>-3.531250</td>\n",
       "      <td>-1.310547</td>\n",
       "      <td>0.375000</td>\n",
       "      <td>-3.238281</td>\n",
       "      <td>-1.906250</td>\n",
       "      <td>-0.319824</td>\n",
       "      <td>-2.828125</td>\n",
       "      <td>-0.099548</td>\n",
       "      <td>-1.003906</td>\n",
       "      <td>-1.366211</td>\n",
       "      <td>-2.339844</td>\n",
       "      <td>-2.994141</td>\n",
       "      <td>-0.514160</td>\n",
       "      <td>-2.351562</td>\n",
       "      <td>-1.755859</td>\n",
       "      <td>-1.009766</td>\n",
       "      <td>0.995605</td>\n",
       "      <td>-0.788086</td>\n",
       "      <td>-1.653320</td>\n",
       "    </tr>\n",
       "    <tr>\n",
       "      <th>2388</th>\n",
       "      <td>3</td>\n",
       "      <td>3</td>\n",
       "      <td>/media/data_cifs/projects/prj_fossils/data/processed_data/data_splits/PNAS_family_100_512/train/Betulaceae/Betulaceae_Betula_delavayi_Wolfe_8515.jpg</td>\n",
       "      <td>-3.523438</td>\n",
       "      <td>-1.132812</td>\n",
       "      <td>-2.919922</td>\n",
       "      <td>5.539062</td>\n",
       "      <td>-3.652344</td>\n",
       "      <td>-5.593750</td>\n",
       "      <td>-3.361328</td>\n",
       "      <td>-3.464844</td>\n",
       "      <td>2.539062</td>\n",
       "      <td>-2.875000</td>\n",
       "      <td>-0.327637</td>\n",
       "      <td>-5.246094</td>\n",
       "      <td>-4.781250</td>\n",
       "      <td>-5.527344</td>\n",
       "      <td>-5.289062</td>\n",
       "      <td>4.582031</td>\n",
       "      <td>0.183960</td>\n",
       "      <td>-2.988281</td>\n",
       "      <td>2.130859</td>\n",
       "    </tr>\n",
       "    <tr>\n",
       "      <th>...</th>\n",
       "      <td>...</td>\n",
       "      <td>...</td>\n",
       "      <td>...</td>\n",
       "      <td>...</td>\n",
       "      <td>...</td>\n",
       "      <td>...</td>\n",
       "      <td>...</td>\n",
       "      <td>...</td>\n",
       "      <td>...</td>\n",
       "      <td>...</td>\n",
       "      <td>...</td>\n",
       "      <td>...</td>\n",
       "      <td>...</td>\n",
       "      <td>...</td>\n",
       "      <td>...</td>\n",
       "      <td>...</td>\n",
       "      <td>...</td>\n",
       "      <td>...</td>\n",
       "      <td>...</td>\n",
       "      <td>...</td>\n",
       "      <td>...</td>\n",
       "      <td>...</td>\n",
       "    </tr>\n",
       "    <tr>\n",
       "      <th>1578</th>\n",
       "      <td>0</td>\n",
       "      <td>1</td>\n",
       "      <td>/media/data_cifs/projects/prj_fossils/data/processed_data/data_splits/PNAS_family_100_512/train/Anacardiaceae/Anacardiaceae_Anacardium_microsepalum_Wolfe_4202.jpg</td>\n",
       "      <td>2.031250</td>\n",
       "      <td>2.220703</td>\n",
       "      <td>0.378418</td>\n",
       "      <td>-1.996094</td>\n",
       "      <td>-2.458984</td>\n",
       "      <td>-5.179688</td>\n",
       "      <td>-1.397461</td>\n",
       "      <td>-1.719727</td>\n",
       "      <td>-1.301758</td>\n",
       "      <td>-0.013664</td>\n",
       "      <td>-3.351562</td>\n",
       "      <td>-2.388672</td>\n",
       "      <td>-0.104553</td>\n",
       "      <td>-4.355469</td>\n",
       "      <td>-3.957031</td>\n",
       "      <td>-1.269531</td>\n",
       "      <td>-0.753418</td>\n",
       "      <td>-3.931641</td>\n",
       "      <td>0.276123</td>\n",
       "    </tr>\n",
       "    <tr>\n",
       "      <th>2503</th>\n",
       "      <td>2</td>\n",
       "      <td>0</td>\n",
       "      <td>/media/data_cifs/projects/prj_fossils/data/processed_data/data_splits/PNAS_family_100_512/test/Apocynaceae/Apocynaceae_Condylocarpon_amazonicum_Wolfe_9166.jpg</td>\n",
       "      <td>2.072266</td>\n",
       "      <td>1.169922</td>\n",
       "      <td>0.980957</td>\n",
       "      <td>-1.467773</td>\n",
       "      <td>-2.337891</td>\n",
       "      <td>-5.261719</td>\n",
       "      <td>-1.712891</td>\n",
       "      <td>-1.980469</td>\n",
       "      <td>-1.117188</td>\n",
       "      <td>-1.140625</td>\n",
       "      <td>-3.160156</td>\n",
       "      <td>-1.918945</td>\n",
       "      <td>0.444092</td>\n",
       "      <td>-3.927734</td>\n",
       "      <td>-4.417969</td>\n",
       "      <td>-1.185547</td>\n",
       "      <td>-0.756348</td>\n",
       "      <td>-3.855469</td>\n",
       "      <td>0.513184</td>\n",
       "    </tr>\n",
       "    <tr>\n",
       "      <th>703</th>\n",
       "      <td>0</td>\n",
       "      <td>1</td>\n",
       "      <td>/media/data_cifs/projects/prj_fossils/data/processed_data/data_splits/PNAS_family_100_512/train/Anacardiaceae/Anacardiaceae_Anacardium_humile_Wolfe_12854.jpg</td>\n",
       "      <td>2.318359</td>\n",
       "      <td>2.531250</td>\n",
       "      <td>0.029694</td>\n",
       "      <td>-2.062500</td>\n",
       "      <td>-2.750000</td>\n",
       "      <td>-4.988281</td>\n",
       "      <td>-1.211914</td>\n",
       "      <td>-1.269531</td>\n",
       "      <td>-1.435547</td>\n",
       "      <td>-0.288818</td>\n",
       "      <td>-3.263672</td>\n",
       "      <td>-1.830078</td>\n",
       "      <td>-0.763672</td>\n",
       "      <td>-4.531250</td>\n",
       "      <td>-3.882812</td>\n",
       "      <td>-1.215820</td>\n",
       "      <td>-0.182251</td>\n",
       "      <td>-4.171875</td>\n",
       "      <td>-0.325928</td>\n",
       "    </tr>\n",
       "    <tr>\n",
       "      <th>2281</th>\n",
       "      <td>1</td>\n",
       "      <td>0</td>\n",
       "      <td>/media/data_cifs/projects/prj_fossils/data/processed_data/data_splits/PNAS_family_100_512/train/Annonaceae/Annonaceae_Cyathocalyx_pahangensis_Wolfe_7860.jpg</td>\n",
       "      <td>2.400391</td>\n",
       "      <td>1.263672</td>\n",
       "      <td>0.446533</td>\n",
       "      <td>-1.714844</td>\n",
       "      <td>-2.597656</td>\n",
       "      <td>-5.339844</td>\n",
       "      <td>-1.846680</td>\n",
       "      <td>-1.754883</td>\n",
       "      <td>-1.322266</td>\n",
       "      <td>-0.888672</td>\n",
       "      <td>-2.570312</td>\n",
       "      <td>-2.365234</td>\n",
       "      <td>-0.152954</td>\n",
       "      <td>-3.791016</td>\n",
       "      <td>-4.105469</td>\n",
       "      <td>-1.630859</td>\n",
       "      <td>-0.832520</td>\n",
       "      <td>-3.966797</td>\n",
       "      <td>0.582031</td>\n",
       "    </tr>\n",
       "    <tr>\n",
       "      <th>2362</th>\n",
       "      <td>2</td>\n",
       "      <td>0</td>\n",
       "      <td>/media/data_cifs/projects/prj_fossils/data/processed_data/data_splits/PNAS_family_100_512/train/Apocynaceae/Apocynaceae_Dyera_lowii_Wolfe_8430.jpg</td>\n",
       "      <td>2.603516</td>\n",
       "      <td>1.859375</td>\n",
       "      <td>0.836426</td>\n",
       "      <td>-2.263672</td>\n",
       "      <td>-2.771484</td>\n",
       "      <td>-4.992188</td>\n",
       "      <td>-1.857422</td>\n",
       "      <td>-1.131836</td>\n",
       "      <td>-1.219727</td>\n",
       "      <td>-0.742188</td>\n",
       "      <td>-3.986328</td>\n",
       "      <td>-2.173828</td>\n",
       "      <td>0.757812</td>\n",
       "      <td>-4.257812</td>\n",
       "      <td>-4.199219</td>\n",
       "      <td>-2.175781</td>\n",
       "      <td>-0.663086</td>\n",
       "      <td>-4.609375</td>\n",
       "      <td>-0.463867</td>\n",
       "    </tr>\n",
       "  </tbody>\n",
       "</table>\n",
       "<p>2797 rows × 22 columns</p>\n",
       "</div>"
      ],
      "text/plain": [
       "      family_true  family_pred  \\\n",
       "2382            3            3   \n",
       "2379            3            3   \n",
       "1310           17           17   \n",
       "2220           11           16   \n",
       "2388            3            3   \n",
       "...           ...          ...   \n",
       "1578            0            1   \n",
       "2503            2            0   \n",
       "703             0            1   \n",
       "2281            1            0   \n",
       "2362            2            0   \n",
       "\n",
       "                                                                                                                                                                   paths  \\\n",
       "2382            /media/data_cifs/projects/prj_fossils/data/processed_data/data_splits/PNAS_family_100_512/train/Betulaceae/Betulaceae_Corylus_sieboldiana_Wolfe_8505.jpg   \n",
       "2379         /media/data_cifs/projects/prj_fossils/data/processed_data/data_splits/PNAS_family_100_512/train/Betulaceae/Betulaceae_Carpinus_minutiserrata_Wolfe_8499.jpg   \n",
       "1310                /media/data_cifs/projects/prj_fossils/data/processed_data/data_splits/PNAS_family_100_512/train/Salicaceae/Salicaceae_Salix_paradoxa_Wolfe_18143.jpg   \n",
       "2220   /media/data_cifs/projects/prj_fossils/data/processed_data/data_splits/PNAS_family_100_512/test/Melastomataceae/Melastomataceae_Miconia_candolleana_Wolfe_7579.jpg   \n",
       "2388                /media/data_cifs/projects/prj_fossils/data/processed_data/data_splits/PNAS_family_100_512/train/Betulaceae/Betulaceae_Betula_delavayi_Wolfe_8515.jpg   \n",
       "...                                                                                                                                                                  ...   \n",
       "1578  /media/data_cifs/projects/prj_fossils/data/processed_data/data_splits/PNAS_family_100_512/train/Anacardiaceae/Anacardiaceae_Anacardium_microsepalum_Wolfe_4202.jpg   \n",
       "2503      /media/data_cifs/projects/prj_fossils/data/processed_data/data_splits/PNAS_family_100_512/test/Apocynaceae/Apocynaceae_Condylocarpon_amazonicum_Wolfe_9166.jpg   \n",
       "703        /media/data_cifs/projects/prj_fossils/data/processed_data/data_splits/PNAS_family_100_512/train/Anacardiaceae/Anacardiaceae_Anacardium_humile_Wolfe_12854.jpg   \n",
       "2281        /media/data_cifs/projects/prj_fossils/data/processed_data/data_splits/PNAS_family_100_512/train/Annonaceae/Annonaceae_Cyathocalyx_pahangensis_Wolfe_7860.jpg   \n",
       "2362                  /media/data_cifs/projects/prj_fossils/data/processed_data/data_splits/PNAS_family_100_512/train/Apocynaceae/Apocynaceae_Dyera_lowii_Wolfe_8430.jpg   \n",
       "\n",
       "      Anacardiaceae_logit  Annonaceae_logit  Apocynaceae_logit  \\\n",
       "2382            -3.701172         -1.307617          -3.009766   \n",
       "2379            -3.636719         -0.404541          -3.140625   \n",
       "1310            -3.542969         -0.666504          -0.868652   \n",
       "2220            -3.531250         -1.310547           0.375000   \n",
       "2388            -3.523438         -1.132812          -2.919922   \n",
       "...                   ...               ...                ...   \n",
       "1578             2.031250          2.220703           0.378418   \n",
       "2503             2.072266          1.169922           0.980957   \n",
       "703              2.318359          2.531250           0.029694   \n",
       "2281             2.400391          1.263672           0.446533   \n",
       "2362             2.603516          1.859375           0.836426   \n",
       "\n",
       "      Betulaceae_logit  Celastraceae_logit  Combretaceae_logit  \\\n",
       "2382          6.000000           -3.759766           -5.464844   \n",
       "2379          6.570312           -3.857422           -5.554688   \n",
       "1310         -4.914062           -1.795898           -0.714355   \n",
       "2220         -3.238281           -1.906250           -0.319824   \n",
       "2388          5.539062           -3.652344           -5.593750   \n",
       "...                ...                 ...                 ...   \n",
       "1578         -1.996094           -2.458984           -5.179688   \n",
       "2503         -1.467773           -2.337891           -5.261719   \n",
       "703          -2.062500           -2.750000           -4.988281   \n",
       "2281         -1.714844           -2.597656           -5.339844   \n",
       "2362         -2.263672           -2.771484           -4.992188   \n",
       "\n",
       "      Ericaceae_logit  Fabaceae_logit  Fagaceae_logit  Lauraceae_logit  \\\n",
       "2382        -3.427734       -3.501953        2.558594        -2.662109   \n",
       "2379        -2.789062       -3.111328        2.324219        -1.705078   \n",
       "1310        -3.437500       -1.461914       -1.703125        -0.938477   \n",
       "2220        -2.828125       -0.099548       -1.003906        -1.366211   \n",
       "2388        -3.361328       -3.464844        2.539062        -2.875000   \n",
       "...               ...             ...             ...              ...   \n",
       "1578        -1.397461       -1.719727       -1.301758        -0.013664   \n",
       "2503        -1.712891       -1.980469       -1.117188        -1.140625   \n",
       "703         -1.211914       -1.269531       -1.435547        -0.288818   \n",
       "2281        -1.846680       -1.754883       -1.322266        -0.888672   \n",
       "2362        -1.857422       -1.131836       -1.219727        -0.742188   \n",
       "\n",
       "      Malvaceae_logit  Melastomataceae_logit  Myrtaceae_logit  \\\n",
       "2382        -0.223267              -5.761719        -5.398438   \n",
       "2379        -0.510254              -4.355469        -4.910156   \n",
       "1310        -1.060547              -4.484375        -1.119141   \n",
       "2220        -2.339844              -2.994141        -0.514160   \n",
       "2388        -0.327637              -5.246094        -4.781250   \n",
       "...               ...                    ...              ...   \n",
       "1578        -3.351562              -2.388672        -0.104553   \n",
       "2503        -3.160156              -1.918945         0.444092   \n",
       "703         -3.263672              -1.830078        -0.763672   \n",
       "2281        -2.570312              -2.365234        -0.152954   \n",
       "2362        -3.986328              -2.173828         0.757812   \n",
       "\n",
       "      Passifloraceae_logit  Phyllanthaceae_logit  Rosaceae_logit  \\\n",
       "2382             -5.808594             -5.355469        4.937500   \n",
       "2379             -6.250000             -5.363281        4.960938   \n",
       "1310             -2.339844             -0.384521       -2.453125   \n",
       "2220             -2.351562             -1.755859       -1.009766   \n",
       "2388             -5.527344             -5.289062        4.582031   \n",
       "...                    ...                   ...             ...   \n",
       "1578             -4.355469             -3.957031       -1.269531   \n",
       "2503             -3.927734             -4.417969       -1.185547   \n",
       "703              -4.531250             -3.882812       -1.215820   \n",
       "2281             -3.791016             -4.105469       -1.630859   \n",
       "2362             -4.257812             -4.199219       -2.175781   \n",
       "\n",
       "      Rubiaceae_logit  Salicaceae_logit  Sapindaceae_logit  \n",
       "2382         0.086670         -2.923828           2.140625  \n",
       "2379        -1.021484         -3.556641           1.875000  \n",
       "1310        -0.583984          0.764648          -2.248047  \n",
       "2220         0.995605         -0.788086          -1.653320  \n",
       "2388         0.183960         -2.988281           2.130859  \n",
       "...               ...               ...                ...  \n",
       "1578        -0.753418         -3.931641           0.276123  \n",
       "2503        -0.756348         -3.855469           0.513184  \n",
       "703         -0.182251         -4.171875          -0.325928  \n",
       "2281        -0.832520         -3.966797           0.582031  \n",
       "2362        -0.663086         -4.609375          -0.463867  \n",
       "\n",
       "[2797 rows x 22 columns]"
      ]
     },
     "execution_count": 230,
     "metadata": {},
     "output_type": "execute_result"
    }
   ],
   "source": [
    "data_df.sort_values(\"Anacardiaceae_logit\")"
   ]
  },
  {
   "cell_type": "code",
   "execution_count": 209,
   "metadata": {},
   "outputs": [
    {
     "data": {
      "text/html": [
       "<div>\n",
       "<style scoped>\n",
       "    .dataframe tbody tr th:only-of-type {\n",
       "        vertical-align: middle;\n",
       "    }\n",
       "\n",
       "    .dataframe tbody tr th {\n",
       "        vertical-align: top;\n",
       "    }\n",
       "\n",
       "    .dataframe thead th {\n",
       "        text-align: right;\n",
       "    }\n",
       "</style>\n",
       "<table border=\"1\" class=\"dataframe\">\n",
       "  <thead>\n",
       "    <tr style=\"text-align: right;\">\n",
       "      <th></th>\n",
       "      <th>family_true</th>\n",
       "      <th>family_pred</th>\n",
       "      <th>paths</th>\n",
       "      <th>Anacardiaceae_logit</th>\n",
       "      <th>Annonaceae_logit</th>\n",
       "      <th>Apocynaceae_logit</th>\n",
       "      <th>Betulaceae_logit</th>\n",
       "      <th>Celastraceae_logit</th>\n",
       "      <th>Combretaceae_logit</th>\n",
       "      <th>Ericaceae_logit</th>\n",
       "      <th>Fabaceae_logit</th>\n",
       "      <th>Fagaceae_logit</th>\n",
       "      <th>Lauraceae_logit</th>\n",
       "      <th>Malvaceae_logit</th>\n",
       "      <th>Melastomataceae_logit</th>\n",
       "      <th>Myrtaceae_logit</th>\n",
       "      <th>Passifloraceae_logit</th>\n",
       "      <th>Phyllanthaceae_logit</th>\n",
       "      <th>Rosaceae_logit</th>\n",
       "      <th>Rubiaceae_logit</th>\n",
       "      <th>Salicaceae_logit</th>\n",
       "      <th>Sapindaceae_logit</th>\n",
       "    </tr>\n",
       "  </thead>\n",
       "  <tbody>\n",
       "    <tr>\n",
       "      <th>0</th>\n",
       "      <td>8</td>\n",
       "      <td>7</td>\n",
       "      <td>/media/data_cifs/projects/prj_fossils/data/processed_data/data_splits/PNAS_family_100_512/train/Fagaceae/Fagaceae_Lithocarpus_densiflora_Axelrod_105.jpg</td>\n",
       "      <td>-2.101562</td>\n",
       "      <td>0.946777</td>\n",
       "      <td>-2.197266</td>\n",
       "      <td>-5.257812</td>\n",
       "      <td>-1.637695</td>\n",
       "      <td>-4.351562</td>\n",
       "      <td>-0.747070</td>\n",
       "      <td>2.486328</td>\n",
       "      <td>-2.169922</td>\n",
       "      <td>1.900391</td>\n",
       "      <td>-2.886719</td>\n",
       "      <td>-4.980469</td>\n",
       "      <td>-2.761719</td>\n",
       "      <td>-3.220703</td>\n",
       "      <td>-2.039062</td>\n",
       "      <td>-2.855469</td>\n",
       "      <td>-1.358398</td>\n",
       "      <td>-2.119141</td>\n",
       "      <td>-1.598633</td>\n",
       "    </tr>\n",
       "    <tr>\n",
       "      <th>1</th>\n",
       "      <td>6</td>\n",
       "      <td>17</td>\n",
       "      <td>/media/data_cifs/projects/prj_fossils/data/processed_data/data_splits/PNAS_family_100_512/test/Ericaceae/Ericaceae_Arctostaphylos_bicolor_Axelrod_1064.jpg</td>\n",
       "      <td>-1.948242</td>\n",
       "      <td>-0.208008</td>\n",
       "      <td>-1.406250</td>\n",
       "      <td>-2.642578</td>\n",
       "      <td>-0.841797</td>\n",
       "      <td>-3.482422</td>\n",
       "      <td>-1.020508</td>\n",
       "      <td>-0.872070</td>\n",
       "      <td>-1.964844</td>\n",
       "      <td>-1.522461</td>\n",
       "      <td>-0.915039</td>\n",
       "      <td>-5.437500</td>\n",
       "      <td>-3.214844</td>\n",
       "      <td>-2.896484</td>\n",
       "      <td>-1.683594</td>\n",
       "      <td>0.409424</td>\n",
       "      <td>-1.733398</td>\n",
       "      <td>1.350586</td>\n",
       "      <td>-0.226807</td>\n",
       "    </tr>\n",
       "    <tr>\n",
       "      <th>2</th>\n",
       "      <td>7</td>\n",
       "      <td>7</td>\n",
       "      <td>/media/data_cifs/projects/prj_fossils/data/processed_data/data_splits/PNAS_family_100_512/test/Fabaceae/Fabaceae_Amorpha_californica_Axelrod_107.jpg</td>\n",
       "      <td>-1.899414</td>\n",
       "      <td>0.320557</td>\n",
       "      <td>-1.014648</td>\n",
       "      <td>-2.306641</td>\n",
       "      <td>-0.415283</td>\n",
       "      <td>-2.873047</td>\n",
       "      <td>0.164185</td>\n",
       "      <td>0.775391</td>\n",
       "      <td>-1.668945</td>\n",
       "      <td>-0.221802</td>\n",
       "      <td>-1.568359</td>\n",
       "      <td>-3.824219</td>\n",
       "      <td>-2.728516</td>\n",
       "      <td>-2.455078</td>\n",
       "      <td>-2.048828</td>\n",
       "      <td>0.622559</td>\n",
       "      <td>-1.046875</td>\n",
       "      <td>0.237793</td>\n",
       "      <td>-0.510742</td>\n",
       "    </tr>\n",
       "    <tr>\n",
       "      <th>3</th>\n",
       "      <td>0</td>\n",
       "      <td>7</td>\n",
       "      <td>/media/data_cifs/projects/prj_fossils/data/processed_data/data_splits/PNAS_family_100_512/test/Anacardiaceae/Anacardiaceae_Rhus_scheidana_Axelrod_1083.jpg</td>\n",
       "      <td>-2.119141</td>\n",
       "      <td>0.247192</td>\n",
       "      <td>-0.884277</td>\n",
       "      <td>-3.435547</td>\n",
       "      <td>-0.860840</td>\n",
       "      <td>-2.496094</td>\n",
       "      <td>-0.708984</td>\n",
       "      <td>0.709961</td>\n",
       "      <td>-1.564453</td>\n",
       "      <td>-0.077454</td>\n",
       "      <td>-1.122070</td>\n",
       "      <td>-3.429688</td>\n",
       "      <td>-2.224609</td>\n",
       "      <td>-2.107422</td>\n",
       "      <td>-1.483398</td>\n",
       "      <td>-0.923340</td>\n",
       "      <td>-1.385742</td>\n",
       "      <td>0.063416</td>\n",
       "      <td>-0.836426</td>\n",
       "    </tr>\n",
       "    <tr>\n",
       "      <th>4</th>\n",
       "      <td>15</td>\n",
       "      <td>18</td>\n",
       "      <td>/media/data_cifs/projects/prj_fossils/data/processed_data/data_splits/PNAS_family_100_512/train/Rosaceae/Rosaceae_Holodiscus_bousierii_Axelrod_11.jpg</td>\n",
       "      <td>-1.210938</td>\n",
       "      <td>-0.155151</td>\n",
       "      <td>-0.820312</td>\n",
       "      <td>-0.239014</td>\n",
       "      <td>-1.089844</td>\n",
       "      <td>-3.675781</td>\n",
       "      <td>-0.708984</td>\n",
       "      <td>-0.143677</td>\n",
       "      <td>-0.320557</td>\n",
       "      <td>-1.643555</td>\n",
       "      <td>-1.702148</td>\n",
       "      <td>-4.644531</td>\n",
       "      <td>-3.546875</td>\n",
       "      <td>-4.359375</td>\n",
       "      <td>-3.392578</td>\n",
       "      <td>1.975586</td>\n",
       "      <td>0.340088</td>\n",
       "      <td>-1.000000</td>\n",
       "      <td>2.621094</td>\n",
       "    </tr>\n",
       "    <tr>\n",
       "      <th>...</th>\n",
       "      <td>...</td>\n",
       "      <td>...</td>\n",
       "      <td>...</td>\n",
       "      <td>...</td>\n",
       "      <td>...</td>\n",
       "      <td>...</td>\n",
       "      <td>...</td>\n",
       "      <td>...</td>\n",
       "      <td>...</td>\n",
       "      <td>...</td>\n",
       "      <td>...</td>\n",
       "      <td>...</td>\n",
       "      <td>...</td>\n",
       "      <td>...</td>\n",
       "      <td>...</td>\n",
       "      <td>...</td>\n",
       "      <td>...</td>\n",
       "      <td>...</td>\n",
       "      <td>...</td>\n",
       "      <td>...</td>\n",
       "      <td>...</td>\n",
       "      <td>...</td>\n",
       "    </tr>\n",
       "    <tr>\n",
       "      <th>2792</th>\n",
       "      <td>7</td>\n",
       "      <td>7</td>\n",
       "      <td>/media/data_cifs/projects/prj_fossils/data/processed_data/data_splits/PNAS_family_100_512/train/Fabaceae/Fabaceae_Spatholobus_sanguineus_Wolfe_9986.jpg</td>\n",
       "      <td>-1.414062</td>\n",
       "      <td>-0.408203</td>\n",
       "      <td>-1.287109</td>\n",
       "      <td>-1.636719</td>\n",
       "      <td>-1.176758</td>\n",
       "      <td>-3.201172</td>\n",
       "      <td>-1.117188</td>\n",
       "      <td>0.658691</td>\n",
       "      <td>-0.553223</td>\n",
       "      <td>-0.359619</td>\n",
       "      <td>-0.608398</td>\n",
       "      <td>-4.261719</td>\n",
       "      <td>-3.195312</td>\n",
       "      <td>-2.927734</td>\n",
       "      <td>-2.158203</td>\n",
       "      <td>-0.062805</td>\n",
       "      <td>-0.152954</td>\n",
       "      <td>-1.143555</td>\n",
       "      <td>0.043213</td>\n",
       "    </tr>\n",
       "    <tr>\n",
       "      <th>2793</th>\n",
       "      <td>7</td>\n",
       "      <td>7</td>\n",
       "      <td>/media/data_cifs/projects/prj_fossils/data/processed_data/data_splits/PNAS_family_100_512/test/Fabaceae/Fabaceae_Strongylodon_lucidus_Wolfe_9991.jpg</td>\n",
       "      <td>-1.657227</td>\n",
       "      <td>-0.341553</td>\n",
       "      <td>-1.412109</td>\n",
       "      <td>-2.822266</td>\n",
       "      <td>-1.095703</td>\n",
       "      <td>-2.773438</td>\n",
       "      <td>-0.649414</td>\n",
       "      <td>1.941406</td>\n",
       "      <td>-1.231445</td>\n",
       "      <td>-0.438477</td>\n",
       "      <td>-1.717773</td>\n",
       "      <td>-4.644531</td>\n",
       "      <td>-3.406250</td>\n",
       "      <td>-3.111328</td>\n",
       "      <td>-2.568359</td>\n",
       "      <td>-0.196289</td>\n",
       "      <td>-0.147827</td>\n",
       "      <td>-1.016602</td>\n",
       "      <td>-0.682617</td>\n",
       "    </tr>\n",
       "    <tr>\n",
       "      <th>2794</th>\n",
       "      <td>7</td>\n",
       "      <td>7</td>\n",
       "      <td>/media/data_cifs/projects/prj_fossils/data/processed_data/data_splits/PNAS_family_100_512/test/Fabaceae/Fabaceae_Sweetia_nitens_Wolfe_9994.jpg</td>\n",
       "      <td>-1.159180</td>\n",
       "      <td>0.910645</td>\n",
       "      <td>-1.306641</td>\n",
       "      <td>-3.710938</td>\n",
       "      <td>-1.150391</td>\n",
       "      <td>-4.042969</td>\n",
       "      <td>-0.448486</td>\n",
       "      <td>0.985352</td>\n",
       "      <td>-1.852539</td>\n",
       "      <td>0.742188</td>\n",
       "      <td>-2.884766</td>\n",
       "      <td>-3.646484</td>\n",
       "      <td>-1.609375</td>\n",
       "      <td>-2.974609</td>\n",
       "      <td>-2.533203</td>\n",
       "      <td>-1.801758</td>\n",
       "      <td>-1.070312</td>\n",
       "      <td>-1.525391</td>\n",
       "      <td>-0.565918</td>\n",
       "    </tr>\n",
       "    <tr>\n",
       "      <th>2795</th>\n",
       "      <td>7</td>\n",
       "      <td>7</td>\n",
       "      <td>/media/data_cifs/projects/prj_fossils/data/processed_data/data_splits/PNAS_family_100_512/train/Fabaceae/Fabaceae_Templetonia_retusa_Wolfe_9995.jpg</td>\n",
       "      <td>-1.577148</td>\n",
       "      <td>-1.782227</td>\n",
       "      <td>-1.040039</td>\n",
       "      <td>-3.068359</td>\n",
       "      <td>-2.150391</td>\n",
       "      <td>-1.496094</td>\n",
       "      <td>-1.236328</td>\n",
       "      <td>3.931641</td>\n",
       "      <td>-1.172852</td>\n",
       "      <td>-2.310547</td>\n",
       "      <td>-3.220703</td>\n",
       "      <td>-5.195312</td>\n",
       "      <td>-2.341797</td>\n",
       "      <td>-3.683594</td>\n",
       "      <td>-3.480469</td>\n",
       "      <td>-0.072754</td>\n",
       "      <td>0.024765</td>\n",
       "      <td>-1.898438</td>\n",
       "      <td>-1.231445</td>\n",
       "    </tr>\n",
       "    <tr>\n",
       "      <th>2796</th>\n",
       "      <td>7</td>\n",
       "      <td>7</td>\n",
       "      <td>/media/data_cifs/projects/prj_fossils/data/processed_data/data_splits/PNAS_family_100_512/train/Fabaceae/Fabaceae_Tessmannia_anomala_Wolfe_9998.jpg</td>\n",
       "      <td>-0.927734</td>\n",
       "      <td>-0.419189</td>\n",
       "      <td>-0.990234</td>\n",
       "      <td>-4.324219</td>\n",
       "      <td>-1.419922</td>\n",
       "      <td>-2.306641</td>\n",
       "      <td>-0.715332</td>\n",
       "      <td>4.031250</td>\n",
       "      <td>-1.281250</td>\n",
       "      <td>-1.117188</td>\n",
       "      <td>-3.248047</td>\n",
       "      <td>-5.554688</td>\n",
       "      <td>-1.846680</td>\n",
       "      <td>-3.681641</td>\n",
       "      <td>-2.121094</td>\n",
       "      <td>-1.324219</td>\n",
       "      <td>-0.002041</td>\n",
       "      <td>-2.394531</td>\n",
       "      <td>-2.003906</td>\n",
       "    </tr>\n",
       "  </tbody>\n",
       "</table>\n",
       "<p>2797 rows × 22 columns</p>\n",
       "</div>"
      ],
      "text/plain": [
       "      family_true  family_pred  \\\n",
       "0               8            7   \n",
       "1               6           17   \n",
       "2               7            7   \n",
       "3               0            7   \n",
       "4              15           18   \n",
       "...           ...          ...   \n",
       "2792            7            7   \n",
       "2793            7            7   \n",
       "2794            7            7   \n",
       "2795            7            7   \n",
       "2796            7            7   \n",
       "\n",
       "                                                                                                                                                           paths  \\\n",
       "0       /media/data_cifs/projects/prj_fossils/data/processed_data/data_splits/PNAS_family_100_512/train/Fagaceae/Fagaceae_Lithocarpus_densiflora_Axelrod_105.jpg   \n",
       "1     /media/data_cifs/projects/prj_fossils/data/processed_data/data_splits/PNAS_family_100_512/test/Ericaceae/Ericaceae_Arctostaphylos_bicolor_Axelrod_1064.jpg   \n",
       "2           /media/data_cifs/projects/prj_fossils/data/processed_data/data_splits/PNAS_family_100_512/test/Fabaceae/Fabaceae_Amorpha_californica_Axelrod_107.jpg   \n",
       "3     /media/data_cifs/projects/prj_fossils/data/processed_data/data_splits/PNAS_family_100_512/test/Anacardiaceae/Anacardiaceae_Rhus_scheidana_Axelrod_1083.jpg   \n",
       "4          /media/data_cifs/projects/prj_fossils/data/processed_data/data_splits/PNAS_family_100_512/train/Rosaceae/Rosaceae_Holodiscus_bousierii_Axelrod_11.jpg   \n",
       "...                                                                                                                                                          ...   \n",
       "2792     /media/data_cifs/projects/prj_fossils/data/processed_data/data_splits/PNAS_family_100_512/train/Fabaceae/Fabaceae_Spatholobus_sanguineus_Wolfe_9986.jpg   \n",
       "2793        /media/data_cifs/projects/prj_fossils/data/processed_data/data_splits/PNAS_family_100_512/test/Fabaceae/Fabaceae_Strongylodon_lucidus_Wolfe_9991.jpg   \n",
       "2794              /media/data_cifs/projects/prj_fossils/data/processed_data/data_splits/PNAS_family_100_512/test/Fabaceae/Fabaceae_Sweetia_nitens_Wolfe_9994.jpg   \n",
       "2795         /media/data_cifs/projects/prj_fossils/data/processed_data/data_splits/PNAS_family_100_512/train/Fabaceae/Fabaceae_Templetonia_retusa_Wolfe_9995.jpg   \n",
       "2796         /media/data_cifs/projects/prj_fossils/data/processed_data/data_splits/PNAS_family_100_512/train/Fabaceae/Fabaceae_Tessmannia_anomala_Wolfe_9998.jpg   \n",
       "\n",
       "      Anacardiaceae_logit  Annonaceae_logit  Apocynaceae_logit  \\\n",
       "0               -2.101562          0.946777          -2.197266   \n",
       "1               -1.948242         -0.208008          -1.406250   \n",
       "2               -1.899414          0.320557          -1.014648   \n",
       "3               -2.119141          0.247192          -0.884277   \n",
       "4               -1.210938         -0.155151          -0.820312   \n",
       "...                   ...               ...                ...   \n",
       "2792            -1.414062         -0.408203          -1.287109   \n",
       "2793            -1.657227         -0.341553          -1.412109   \n",
       "2794            -1.159180          0.910645          -1.306641   \n",
       "2795            -1.577148         -1.782227          -1.040039   \n",
       "2796            -0.927734         -0.419189          -0.990234   \n",
       "\n",
       "      Betulaceae_logit  Celastraceae_logit  Combretaceae_logit  \\\n",
       "0            -5.257812           -1.637695           -4.351562   \n",
       "1            -2.642578           -0.841797           -3.482422   \n",
       "2            -2.306641           -0.415283           -2.873047   \n",
       "3            -3.435547           -0.860840           -2.496094   \n",
       "4            -0.239014           -1.089844           -3.675781   \n",
       "...                ...                 ...                 ...   \n",
       "2792         -1.636719           -1.176758           -3.201172   \n",
       "2793         -2.822266           -1.095703           -2.773438   \n",
       "2794         -3.710938           -1.150391           -4.042969   \n",
       "2795         -3.068359           -2.150391           -1.496094   \n",
       "2796         -4.324219           -1.419922           -2.306641   \n",
       "\n",
       "      Ericaceae_logit  Fabaceae_logit  Fagaceae_logit  Lauraceae_logit  \\\n",
       "0           -0.747070        2.486328       -2.169922         1.900391   \n",
       "1           -1.020508       -0.872070       -1.964844        -1.522461   \n",
       "2            0.164185        0.775391       -1.668945        -0.221802   \n",
       "3           -0.708984        0.709961       -1.564453        -0.077454   \n",
       "4           -0.708984       -0.143677       -0.320557        -1.643555   \n",
       "...               ...             ...             ...              ...   \n",
       "2792        -1.117188        0.658691       -0.553223        -0.359619   \n",
       "2793        -0.649414        1.941406       -1.231445        -0.438477   \n",
       "2794        -0.448486        0.985352       -1.852539         0.742188   \n",
       "2795        -1.236328        3.931641       -1.172852        -2.310547   \n",
       "2796        -0.715332        4.031250       -1.281250        -1.117188   \n",
       "\n",
       "      Malvaceae_logit  Melastomataceae_logit  Myrtaceae_logit  \\\n",
       "0           -2.886719              -4.980469        -2.761719   \n",
       "1           -0.915039              -5.437500        -3.214844   \n",
       "2           -1.568359              -3.824219        -2.728516   \n",
       "3           -1.122070              -3.429688        -2.224609   \n",
       "4           -1.702148              -4.644531        -3.546875   \n",
       "...               ...                    ...              ...   \n",
       "2792        -0.608398              -4.261719        -3.195312   \n",
       "2793        -1.717773              -4.644531        -3.406250   \n",
       "2794        -2.884766              -3.646484        -1.609375   \n",
       "2795        -3.220703              -5.195312        -2.341797   \n",
       "2796        -3.248047              -5.554688        -1.846680   \n",
       "\n",
       "      Passifloraceae_logit  Phyllanthaceae_logit  Rosaceae_logit  \\\n",
       "0                -3.220703             -2.039062       -2.855469   \n",
       "1                -2.896484             -1.683594        0.409424   \n",
       "2                -2.455078             -2.048828        0.622559   \n",
       "3                -2.107422             -1.483398       -0.923340   \n",
       "4                -4.359375             -3.392578        1.975586   \n",
       "...                    ...                   ...             ...   \n",
       "2792             -2.927734             -2.158203       -0.062805   \n",
       "2793             -3.111328             -2.568359       -0.196289   \n",
       "2794             -2.974609             -2.533203       -1.801758   \n",
       "2795             -3.683594             -3.480469       -0.072754   \n",
       "2796             -3.681641             -2.121094       -1.324219   \n",
       "\n",
       "      Rubiaceae_logit  Salicaceae_logit  Sapindaceae_logit  \n",
       "0           -1.358398         -2.119141          -1.598633  \n",
       "1           -1.733398          1.350586          -0.226807  \n",
       "2           -1.046875          0.237793          -0.510742  \n",
       "3           -1.385742          0.063416          -0.836426  \n",
       "4            0.340088         -1.000000           2.621094  \n",
       "...               ...               ...                ...  \n",
       "2792        -0.152954         -1.143555           0.043213  \n",
       "2793        -0.147827         -1.016602          -0.682617  \n",
       "2794        -1.070312         -1.525391          -0.565918  \n",
       "2795         0.024765         -1.898438          -1.231445  \n",
       "2796        -0.002041         -2.394531          -2.003906  \n",
       "\n",
       "[2797 rows x 22 columns]"
      ]
     },
     "execution_count": 209,
     "metadata": {},
     "output_type": "execute_result"
    },
    {
     "data": {
      "text/plain": [
       "'/media/data_cifs/projects/prj_fossils/users/jacob/experiments/July2021-Nov2021/experiment_logs/Transfer_Experiments/feature_extractor-PNAS-19_classes-res_512-bsz_32-resnet50-pretrained_True-pool_avg/replicate_1/results/task_1/test_predictions.csv'"
      ]
     },
     "execution_count": 209,
     "metadata": {},
     "output_type": "execute_result"
    }
   ],
   "source": [
    "data_df\n",
    "test_predictions_filepath"
   ]
  },
  {
   "cell_type": "markdown",
   "metadata": {
    "heading_collapsed": "true",
    "tags": []
   },
   "source": [
    "## generate report"
   ]
  },
  {
   "cell_type": "code",
   "execution_count": null,
   "metadata": {},
   "outputs": [],
   "source": []
  },
  {
   "cell_type": "code",
   "execution_count": null,
   "metadata": {},
   "outputs": [],
   "source": []
  },
  {
   "cell_type": "code",
   "execution_count": 52,
   "metadata": {},
   "outputs": [
    {
     "name": "stdout",
     "output_type": "stream",
     "text": [
      "fastprogress                   1.0.0\n"
     ]
    }
   ],
   "source": [
    "from lightning_hydra_classifiers.utils.report_utils.pandas_embed_images import df_embed_paths2imgs\n",
    "\n",
    "\n",
    "\n",
    "df_embed_paths2imgs(df: pd.DataFrame,\n",
    "                        file_path: str, \n",
    "                        path_col: str=\"path\",\n",
    "                        display: bool=False"
   ]
  },
  {
   "cell_type": "code",
   "execution_count": 50,
   "metadata": {},
   "outputs": [
    {
     "data": {
      "text/plain": [
       "2797"
      ]
     },
     "execution_count": 50,
     "metadata": {},
     "output_type": "execute_result"
    },
    {
     "data": {
      "text/plain": [
       "array([[-2.102e+00,  9.468e-01, -2.197e+00, ..., -1.358e+00, -2.119e+00,\n",
       "        -1.599e+00],\n",
       "       [-1.948e+00, -2.080e-01, -1.406e+00, ..., -1.733e+00,  1.351e+00,\n",
       "        -2.268e-01],\n",
       "       [-1.899e+00,  3.206e-01, -1.015e+00, ..., -1.047e+00,  2.378e-01,\n",
       "        -5.107e-01],\n",
       "       ...,\n",
       "       [-1.159e+00,  9.106e-01, -1.307e+00, ..., -1.070e+00, -1.525e+00,\n",
       "        -5.659e-01],\n",
       "       [-1.577e+00, -1.782e+00, -1.040e+00, ...,  2.477e-02, -1.898e+00,\n",
       "        -1.231e+00],\n",
       "       [-9.277e-01, -4.192e-01, -9.902e-01, ..., -2.041e-03, -2.395e+00,\n",
       "        -2.004e+00]], dtype=float16)"
      ]
     },
     "execution_count": 50,
     "metadata": {},
     "output_type": "execute_result"
    }
   ],
   "source": [
    "len(paths)\n",
    "\n",
    "y_logit#.shape"
   ]
  },
  {
   "cell_type": "code",
   "execution_count": 51,
   "metadata": {},
   "outputs": [
    {
     "data": {
      "text/plain": [
       "<matplotlib.axes._subplots.AxesSubplot at 0x7fdaec2ebbe0>"
      ]
     },
     "execution_count": 51,
     "metadata": {},
     "output_type": "execute_result"
    },
    {
     "data": {
      "image/png": "[encoded data removed]",
      "text/plain": [
       "<Figure size 432x288 with 2 Axes>"
      ]
     },
     "metadata": {},
     "output_type": "display_data"
    }
   ],
   "source": [
    "import seaborn as sns\n",
    "\n",
    "sns.heatmap(y_logit)"
   ]
  },
  {
   "cell_type": "code",
   "execution_count": null,
   "metadata": {},
   "outputs": [],
   "source": [
    "# logger = logging.getLogger(__name__)\n",
    "\n",
    "def generate_report(y_pred,\n",
    "                    y_true, \n",
    "                    labels=None,\n",
    "                    results_dir: str=None):\n",
    "    \"\"\"Create a performance report for the current experiment and \n",
    "    consolidate the information to a general report of all runs \n",
    "    Parameters\n",
    "    ----------\n",
    "    opt : sklearn.model_selection.Object\n",
    "        A hyperparameter \n",
    "    X_test: numpy array or pandas Dataframe \n",
    "        Input test data\n",
    "    y_test: numpy array or pandas Dataframe \n",
    "        Target test data\n",
    "    \"\"\"\n",
    "\n",
    "\n",
    "    logger.info(\"Generating Evaluation Report:\")\n",
    "    \n",
    "\n",
    "    res = classification_report(y_true, y_pred, labels=labels, output_dict=True)\n",
    "    res = pd.DataFrame(res)\n",
    "\n",
    "    logger.info(\"Test report:\")\n",
    "    logger.info('\\n \\t'+ res.to_string().replace('\\n', '\\n\\t'))\n",
    "    \n",
    "    f1 = f1_score(y_true, y_pred, labels=labels, average='macro')\n",
    "    \n",
    "    steps= [*pipeline.named_steps]\n",
    "\n",
    "    cv_mean ,cv_std = opt.best_score_,opt.cv_results_['std_test_score'][opt.best_index_]\n",
    "\n",
    "    tmp= pd.DataFrame({\"Scaling\":[steps[0]],\n",
    "                        \"Model\":[steps[1]],\n",
    "                        \"params\":[opt.best_params_],\n",
    "                        'CV Mean':[cv_mean],\n",
    "                        'CV Std':[cv_std],\n",
    "                        'Test dataset':f1,\n",
    "                        })\n",
    "\n",
    "    if os.path.exists(path+\"/results.csv\"):\n",
    "        current_csv =pd.read_csv(path+\"/results.csv\")\n",
    "        pd.concat([current_csv, tmp], \n",
    "                   ignore_index=True\n",
    "                 ).to_csv(path+\"/results.csv\",\n",
    "                          index=False)    \n",
    "    else:\n",
    "        tmp.to_csv(path+\"/results.csv\",\n",
    "                   index=False)"
   ]
  },
  {
   "cell_type": "code",
   "execution_count": null,
   "metadata": {},
   "outputs": [],
   "source": []
  },
  {
   "cell_type": "code",
   "execution_count": null,
   "metadata": {},
   "outputs": [],
   "source": []
  },
  {
   "cell_type": "code",
   "execution_count": null,
   "metadata": {},
   "outputs": [],
   "source": []
  },
  {
   "cell_type": "code",
   "execution_count": null,
   "metadata": {},
   "outputs": [],
   "source": [
    "\n",
    "\n",
    "model = LightningClassifier(backbone_name='gluon_seresnext50_32x4d',\n",
    "                            pretrained=True,\n",
    "                            num_classes=19,\n",
    "                            pool_size=1,\n",
    "                            pool_type='avgmax',\n",
    "                            head_type='linear',\n",
    "                            hidden_size=None,\n",
    "                            lr=2e-03,\n",
    "                            weight_decay=0.01,\n",
    "                            seed=98)"
   ]
  },
  {
   "cell_type": "code",
   "execution_count": 20,
   "metadata": {},
   "outputs": [],
   "source": [
    "# import bqplot.pyplot as plt\n",
    "# from dataclasses import dataclass\n",
    "# @dataclass\n",
    "# class LRTunerConfig:\n",
    "    \n",
    "#     min_lr: float = 1e-08\n",
    "#     max_lr: float = 1.0\n",
    "#     num_training: int = 50\n",
    "#     mode: str = 'exponential'\n",
    "#     early_stop_threshold: float = 4.0\n",
    "\n",
    "# cfg = OmegaConf.structured(LRTunerConfig())\n",
    "\n",
    "# lr_tuner = trainer.tuner.lr_find(model,\n",
    "#                                  data,\n",
    "#                                  **cfg)\n",
    "# lr_tuner_results = lr_tuner.results\n",
    "# best_lr = lr_tuner.suggestion()\n",
    "\n",
    "# suggestion = {\"lr\": best_lr,\n",
    "#               \"loss\":lr_tuner_results['loss'][lr_tuner._optimal_idx]}\n",
    "\n",
    "# plt.figure()\n",
    "# fig = lr_tuner.plot(suggest=True)\n",
    "# lr_tuner_results_dir = os.path.join(results_dir, f\"task_{task_id}\", \"lr_tuner\")\n",
    "\n",
    "# plot_fname = 'lr_tuner_results_loss-vs-lr.png'\n",
    "# plot_path = Path(lr_tuner_results_dir) / plot_fname\n",
    "# plt.title(f\"Suggested lr={best_lr:.4e} |\\n| Searched {lr_tuner.num_training} lr values $\\in$ [{lr_tuner.lr_min},{lr_tuner.lr_max}] |\\n| bsz = {config.data.batch_size}\", style={\"fontsize\":'small'})\n",
    "# fig.save_png(filename=str(plot_path))\n",
    "\n",
    "# fig = plt.figure()\n",
    "# plt.plot(x=lr_tuner.results['lr'],\n",
    "#          y=lr_tuner.results['loss'],\n",
    "#         figure=fig)"
   ]
  },
  {
   "cell_type": "markdown",
   "metadata": {
    "tags": []
   },
   "source": [
    "## Display available global pool types"
   ]
  },
  {
   "cell_type": "markdown",
   "metadata": {
    "tags": []
   },
   "source": [
    "### Aside: Verify task_0 and task_1 label maps all agree"
   ]
  },
  {
   "cell_type": "code",
   "execution_count": 8,
   "metadata": {},
   "outputs": [],
   "source": [
    "task_0_labels = data.label_encoder\n",
    "\n",
    "data.setup(stage='fit', task_id=1)\n",
    "\n",
    "task_1_labels = data.label_encoder\n",
    "\n",
    "task_0_labels\n",
    "task_1_labels\n",
    "\n",
    "task_0_labels\n",
    "print(f\"label|task_0_idx|task_1_idx\")\n",
    "for label, idx in task_1_labels.class2idx.items():\n",
    "    print(f\"{label}|{task_0_labels.class2idx[label]}|{idx}\")\n",
    "    \n",
    "    assert task_0_labels.class2idx[label] == idx\n",
    "    \n",
    "print(f\"Success, all labels in task_1 have identical integer mappings to their corresponding values in task_0\")"
   ]
  },
  {
   "cell_type": "code",
   "execution_count": 32,
   "metadata": {},
   "outputs": [],
   "source": []
  },
  {
   "cell_type": "code",
   "execution_count": 23,
   "metadata": {},
   "outputs": [],
   "source": [
    "class2idx = data.label_encoder.class2idx\n",
    "family_counts = df.value_counts(\"family\").to_dict()\n",
    "\n",
    "df = df.assign(class_idx=df.family.apply(lambda x: class2idx[x]),\n",
    "               score = df.family.apply(lambda x: family_counts[x]))\n",
    "\n",
    "df#.clear_intent()\n",
    "\n",
    "df.groupby('class_idx').mean()\n",
    "\n",
    "# df.exported.keys()\n",
    "\n",
    "df.exported['Distribution']\n",
    "\n",
    "df.compute_metadata()\n",
    "\n",
    "df\n",
    "\n",
    "df.clear_intent()"
   ]
  },
  {
   "cell_type": "code",
   "execution_count": null,
   "metadata": {},
   "outputs": [],
   "source": []
  },
  {
   "cell_type": "code",
   "execution_count": 20,
   "metadata": {},
   "outputs": [
    {
     "name": "stdout",
     "output_type": "stream",
     "text": [
      "dict_keys(['backbone_name', 'pretrained', 'num_classes', 'pool_size', 'pool_type', 'head_type', 'hidden_size', 'backbone', 'feature_size'])\n",
      "dict_keys(['backbone_name', 'pretrained', 'num_classes', 'pool_size', 'pool_type', 'head_type', 'hidden_size', 'backbone', 'feature_size'])\n",
      "dict_keys(['backbone_name', 'pretrained', 'num_classes', 'pool_size', 'pool_type', 'head_type', 'hidden_size', 'backbone', 'feature_size'])\n",
      "backbone=gluon_seresnext50_32x4d|pretrained=True|num_classes=1000|head_type=linear|hidden_size=0\n",
      "pool_type=avg\n"
     ]
    },
    {
     "data": {
      "text/html": [
       "<pre style=\"white-space:pre;overflow-x:auto;line-height:normal;font-family:Menlo,'DejaVu Sans Mono',consolas,'Courier New',monospace\"><span style=\"font-weight: bold\">{</span><span style=\"color: #008000; text-decoration-color: #008000\">'classifier.weight'</span>: <span style=\"color: #800080; text-decoration-color: #800080; font-weight: bold\">torch.Size</span><span style=\"font-weight: bold\">([</span><span style=\"color: #008080; text-decoration-color: #008080; font-weight: bold\">1000</span>, <span style=\"color: #008080; text-decoration-color: #008080; font-weight: bold\">4096</span><span style=\"font-weight: bold\">])</span>, <span style=\"color: #008000; text-decoration-color: #008000\">'classifier.bias'</span>: <span style=\"color: #800080; text-decoration-color: #800080; font-weight: bold\">torch.Size</span><span style=\"font-weight: bold\">([</span><span style=\"color: #008080; text-decoration-color: #008080; font-weight: bold\">1000</span><span style=\"font-weight: bold\">])}</span>\n",
       "</pre>\n"
      ],
      "text/plain": [
       "\u001b[1m{\u001b[0m\u001b[32m'classifier.weight'\u001b[0m: \u001b[1;35mtorch.Size\u001b[0m\u001b[1m(\u001b[0m\u001b[1m[\u001b[0m\u001b[1;36m1000\u001b[0m, \u001b[1;36m4096\u001b[0m\u001b[1m]\u001b[0m\u001b[1m)\u001b[0m, \u001b[32m'classifier.bias'\u001b[0m: \u001b[1;35mtorch.Size\u001b[0m\u001b[1m(\u001b[0m\u001b[1m[\u001b[0m\u001b[1;36m1000\u001b[0m\u001b[1m]\u001b[0m\u001b[1m)\u001b[0m\u001b[1m}\u001b[0m\n"
      ]
     },
     "metadata": {},
     "output_type": "display_data"
    },
    {
     "name": "stdout",
     "output_type": "stream",
     "text": [
      "pool_type=max\n"
     ]
    },
    {
     "data": {
      "text/html": [
       "<pre style=\"white-space:pre;overflow-x:auto;line-height:normal;font-family:Menlo,'DejaVu Sans Mono',consolas,'Courier New',monospace\"><span style=\"font-weight: bold\">{</span><span style=\"color: #008000; text-decoration-color: #008000\">'classifier.weight'</span>: <span style=\"color: #800080; text-decoration-color: #800080; font-weight: bold\">torch.Size</span><span style=\"font-weight: bold\">([</span><span style=\"color: #008080; text-decoration-color: #008080; font-weight: bold\">1000</span>, <span style=\"color: #008080; text-decoration-color: #008080; font-weight: bold\">4096</span><span style=\"font-weight: bold\">])</span>, <span style=\"color: #008000; text-decoration-color: #008000\">'classifier.bias'</span>: <span style=\"color: #800080; text-decoration-color: #800080; font-weight: bold\">torch.Size</span><span style=\"font-weight: bold\">([</span><span style=\"color: #008080; text-decoration-color: #008080; font-weight: bold\">1000</span><span style=\"font-weight: bold\">])}</span>\n",
       "</pre>\n"
      ],
      "text/plain": [
       "\u001b[1m{\u001b[0m\u001b[32m'classifier.weight'\u001b[0m: \u001b[1;35mtorch.Size\u001b[0m\u001b[1m(\u001b[0m\u001b[1m[\u001b[0m\u001b[1;36m1000\u001b[0m, \u001b[1;36m4096\u001b[0m\u001b[1m]\u001b[0m\u001b[1m)\u001b[0m, \u001b[32m'classifier.bias'\u001b[0m: \u001b[1;35mtorch.Size\u001b[0m\u001b[1m(\u001b[0m\u001b[1m[\u001b[0m\u001b[1;36m1000\u001b[0m\u001b[1m]\u001b[0m\u001b[1m)\u001b[0m\u001b[1m}\u001b[0m\n"
      ]
     },
     "metadata": {},
     "output_type": "display_data"
    },
    {
     "name": "stdout",
     "output_type": "stream",
     "text": [
      "pool_type=avgmax\n"
     ]
    },
    {
     "data": {
      "text/html": [
       "<pre style=\"white-space:pre;overflow-x:auto;line-height:normal;font-family:Menlo,'DejaVu Sans Mono',consolas,'Courier New',monospace\"><span style=\"font-weight: bold\">{</span><span style=\"color: #008000; text-decoration-color: #008000\">'classifier.weight'</span>: <span style=\"color: #800080; text-decoration-color: #800080; font-weight: bold\">torch.Size</span><span style=\"font-weight: bold\">([</span><span style=\"color: #008080; text-decoration-color: #008080; font-weight: bold\">1000</span>, <span style=\"color: #008080; text-decoration-color: #008080; font-weight: bold\">8192</span><span style=\"font-weight: bold\">])</span>, <span style=\"color: #008000; text-decoration-color: #008000\">'classifier.bias'</span>: <span style=\"color: #800080; text-decoration-color: #800080; font-weight: bold\">torch.Size</span><span style=\"font-weight: bold\">([</span><span style=\"color: #008080; text-decoration-color: #008080; font-weight: bold\">1000</span><span style=\"font-weight: bold\">])}</span>\n",
       "</pre>\n"
      ],
      "text/plain": [
       "\u001b[1m{\u001b[0m\u001b[32m'classifier.weight'\u001b[0m: \u001b[1;35mtorch.Size\u001b[0m\u001b[1m(\u001b[0m\u001b[1m[\u001b[0m\u001b[1;36m1000\u001b[0m, \u001b[1;36m8192\u001b[0m\u001b[1m]\u001b[0m\u001b[1m)\u001b[0m, \u001b[32m'classifier.bias'\u001b[0m: \u001b[1;35mtorch.Size\u001b[0m\u001b[1m(\u001b[0m\u001b[1m[\u001b[0m\u001b[1;36m1000\u001b[0m\u001b[1m]\u001b[0m\u001b[1m)\u001b[0m\u001b[1m}\u001b[0m\n"
      ]
     },
     "metadata": {},
     "output_type": "display_data"
    }
   ],
   "source": [
    "backbone_name='gluon_seresnext50_32x4d'\n",
    "pretrained=True\n",
    "num_classes=1000\n",
    "\n",
    "head_type='linear'\n",
    "hidden_size=0\n",
    "\n",
    "pool_types = [\"avg\", \"max\", \"avgmax\"]\n",
    "\n",
    "models = OrderedDict({})\n",
    "\n",
    "for pool_type in pool_types:\n",
    "    models[pool_type] = build_model(backbone_name=backbone_name,\n",
    "                                    pretrained=pretrained,\n",
    "                                    num_classes=num_classes,\n",
    "                                    pool_size=1,\n",
    "                                    pool_type=pool_type,\n",
    "                                    head_type=head_type,\n",
    "                                    hidden_size=hidden_size)\n",
    "print(f\"backbone={backbone_name}|pretrained={pretrained}|num_classes={num_classes}|head_type={head_type}|hidden_size={hidden_size}\")\n",
    "for pool_type, model in models.items():\n",
    "    print(f\"pool_type={pool_type}\")\n",
    "    pp({k: v.shape for k,v in model.head.named_parameters()})\n",
    "#     pp(list(dict(model.head.named_parameters()).keys()))"
   ]
  },
  {
   "cell_type": "markdown",
   "metadata": {
    "tags": []
   },
   "source": [
    "## Display available head types (TBD)"
   ]
  },
  {
   "cell_type": "code",
   "execution_count": 20,
   "metadata": {},
   "outputs": [
    {
     "name": "stdout",
     "output_type": "stream",
     "text": [
      "dict_keys(['backbone_name', 'pretrained', 'num_classes', 'pool_size', 'pool_type', 'head_type', 'hidden_size', 'backbone', 'feature_size'])\n",
      "dict_keys(['backbone_name', 'pretrained', 'num_classes', 'pool_size', 'pool_type', 'head_type', 'hidden_size', 'backbone', 'feature_size'])\n",
      "dict_keys(['backbone_name', 'pretrained', 'num_classes', 'pool_size', 'pool_type', 'head_type', 'hidden_size', 'backbone', 'feature_size'])\n",
      "backbone=gluon_seresnext50_32x4d|pretrained=True|num_classes=1000|head_type=linear|hidden_size=0\n",
      "pool_type=avg\n"
     ]
    },
    {
     "data": {
      "text/html": [
       "<pre style=\"white-space:pre;overflow-x:auto;line-height:normal;font-family:Menlo,'DejaVu Sans Mono',consolas,'Courier New',monospace\"><span style=\"font-weight: bold\">{</span><span style=\"color: #008000; text-decoration-color: #008000\">'classifier.weight'</span>: <span style=\"color: #800080; text-decoration-color: #800080; font-weight: bold\">torch.Size</span><span style=\"font-weight: bold\">([</span><span style=\"color: #008080; text-decoration-color: #008080; font-weight: bold\">1000</span>, <span style=\"color: #008080; text-decoration-color: #008080; font-weight: bold\">4096</span><span style=\"font-weight: bold\">])</span>, <span style=\"color: #008000; text-decoration-color: #008000\">'classifier.bias'</span>: <span style=\"color: #800080; text-decoration-color: #800080; font-weight: bold\">torch.Size</span><span style=\"font-weight: bold\">([</span><span style=\"color: #008080; text-decoration-color: #008080; font-weight: bold\">1000</span><span style=\"font-weight: bold\">])}</span>\n",
       "</pre>\n"
      ],
      "text/plain": [
       "\u001b[1m{\u001b[0m\u001b[32m'classifier.weight'\u001b[0m: \u001b[1;35mtorch.Size\u001b[0m\u001b[1m(\u001b[0m\u001b[1m[\u001b[0m\u001b[1;36m1000\u001b[0m, \u001b[1;36m4096\u001b[0m\u001b[1m]\u001b[0m\u001b[1m)\u001b[0m, \u001b[32m'classifier.bias'\u001b[0m: \u001b[1;35mtorch.Size\u001b[0m\u001b[1m(\u001b[0m\u001b[1m[\u001b[0m\u001b[1;36m1000\u001b[0m\u001b[1m]\u001b[0m\u001b[1m)\u001b[0m\u001b[1m}\u001b[0m\n"
      ]
     },
     "metadata": {},
     "output_type": "display_data"
    },
    {
     "name": "stdout",
     "output_type": "stream",
     "text": [
      "pool_type=max\n"
     ]
    },
    {
     "data": {
      "text/html": [
       "<pre style=\"white-space:pre;overflow-x:auto;line-height:normal;font-family:Menlo,'DejaVu Sans Mono',consolas,'Courier New',monospace\"><span style=\"font-weight: bold\">{</span><span style=\"color: #008000; text-decoration-color: #008000\">'classifier.weight'</span>: <span style=\"color: #800080; text-decoration-color: #800080; font-weight: bold\">torch.Size</span><span style=\"font-weight: bold\">([</span><span style=\"color: #008080; text-decoration-color: #008080; font-weight: bold\">1000</span>, <span style=\"color: #008080; text-decoration-color: #008080; font-weight: bold\">4096</span><span style=\"font-weight: bold\">])</span>, <span style=\"color: #008000; text-decoration-color: #008000\">'classifier.bias'</span>: <span style=\"color: #800080; text-decoration-color: #800080; font-weight: bold\">torch.Size</span><span style=\"font-weight: bold\">([</span><span style=\"color: #008080; text-decoration-color: #008080; font-weight: bold\">1000</span><span style=\"font-weight: bold\">])}</span>\n",
       "</pre>\n"
      ],
      "text/plain": [
       "\u001b[1m{\u001b[0m\u001b[32m'classifier.weight'\u001b[0m: \u001b[1;35mtorch.Size\u001b[0m\u001b[1m(\u001b[0m\u001b[1m[\u001b[0m\u001b[1;36m1000\u001b[0m, \u001b[1;36m4096\u001b[0m\u001b[1m]\u001b[0m\u001b[1m)\u001b[0m, \u001b[32m'classifier.bias'\u001b[0m: \u001b[1;35mtorch.Size\u001b[0m\u001b[1m(\u001b[0m\u001b[1m[\u001b[0m\u001b[1;36m1000\u001b[0m\u001b[1m]\u001b[0m\u001b[1m)\u001b[0m\u001b[1m}\u001b[0m\n"
      ]
     },
     "metadata": {},
     "output_type": "display_data"
    },
    {
     "name": "stdout",
     "output_type": "stream",
     "text": [
      "pool_type=avgmax\n"
     ]
    },
    {
     "data": {
      "text/html": [
       "<pre style=\"white-space:pre;overflow-x:auto;line-height:normal;font-family:Menlo,'DejaVu Sans Mono',consolas,'Courier New',monospace\"><span style=\"font-weight: bold\">{</span><span style=\"color: #008000; text-decoration-color: #008000\">'classifier.weight'</span>: <span style=\"color: #800080; text-decoration-color: #800080; font-weight: bold\">torch.Size</span><span style=\"font-weight: bold\">([</span><span style=\"color: #008080; text-decoration-color: #008080; font-weight: bold\">1000</span>, <span style=\"color: #008080; text-decoration-color: #008080; font-weight: bold\">8192</span><span style=\"font-weight: bold\">])</span>, <span style=\"color: #008000; text-decoration-color: #008000\">'classifier.bias'</span>: <span style=\"color: #800080; text-decoration-color: #800080; font-weight: bold\">torch.Size</span><span style=\"font-weight: bold\">([</span><span style=\"color: #008080; text-decoration-color: #008080; font-weight: bold\">1000</span><span style=\"font-weight: bold\">])}</span>\n",
       "</pre>\n"
      ],
      "text/plain": [
       "\u001b[1m{\u001b[0m\u001b[32m'classifier.weight'\u001b[0m: \u001b[1;35mtorch.Size\u001b[0m\u001b[1m(\u001b[0m\u001b[1m[\u001b[0m\u001b[1;36m1000\u001b[0m, \u001b[1;36m8192\u001b[0m\u001b[1m]\u001b[0m\u001b[1m)\u001b[0m, \u001b[32m'classifier.bias'\u001b[0m: \u001b[1;35mtorch.Size\u001b[0m\u001b[1m(\u001b[0m\u001b[1m[\u001b[0m\u001b[1;36m1000\u001b[0m\u001b[1m]\u001b[0m\u001b[1m)\u001b[0m\u001b[1m}\u001b[0m\n"
      ]
     },
     "metadata": {},
     "output_type": "display_data"
    }
   ],
   "source": [
    "backbone_name='gluon_seresnext50_32x4d'\n",
    "pretrained=True\n",
    "num_classes=1000\n",
    "\n",
    "head_types=['linear', 'custom']\n",
    "hidden_size=0\n",
    "\n",
    "pool_types = [\"avg\", \"max\", \"avgmax\"]\n",
    "\n",
    "models = OrderedDict({})\n",
    "\n",
    "for pool_type in pool_types:\n",
    "    models[pool_type] = build_model(backbone_name=backbone_name,\n",
    "                                    pretrained=pretrained,\n",
    "                                    num_classes=num_classes,\n",
    "                                    pool_size=1,\n",
    "                                    pool_type=pool_type,\n",
    "                                    head_type=head_type,\n",
    "                                    hidden_size=hidden_size)\n",
    "print(f\"backbone={backbone_name}|pretrained={pretrained}|num_classes={num_classes}|head_type={head_type}|hidden_size={hidden_size}\")\n",
    "for pool_type, model in models.items():\n",
    "    print(f\"pool_type={pool_type}\")\n",
    "    pp({k: v.shape for k,v in model.head.named_parameters()})\n",
    "#     pp(list(dict(model.head.named_parameters()).keys()))"
   ]
  },
  {
   "cell_type": "markdown",
   "metadata": {
    "tags": []
   },
   "source": [
    "## Creating fit method"
   ]
  },
  {
   "cell_type": "code",
   "execution_count": 13,
   "metadata": {},
   "outputs": [],
   "source": [
    "#Borrowed from fastai2 library\n",
    "\n",
    "bn_types = (torch.nn.modules.batchnorm.BatchNorm1d,torch.nn.modules.batchnorm.BatchNorm2d,torch.nn.modules.batchnorm.BatchNorm3d)\n",
    " \n",
    "def set_bn_eval(m:nn.Module)->None:\n",
    "    \"Set bn layers in eval mode for all recursive children of `m`.\"\n",
    "    for l in m.children():\n",
    "        if isinstance(l, bn_types) and not next(l.parameters()).requires_grad:\n",
    "            l.eval()\n",
    "        set_bn_eval(l)"
   ]
  },
  {
   "cell_type": "code",
   "execution_count": 14,
   "metadata": {},
   "outputs": [],
   "source": [
    "def fit(epochs,model,train_dl,valid_dl,loss_fn,opt,device=None,bn_eval=False):\n",
    "    if device is None:\n",
    "        device = torch.device(\"cuda\") if torch.cuda.is_available() else torch.device(\"cpu\")\n",
    "    mb = master_bar(range(epochs))\n",
    "    mb.write(['epoch','train_loss','valid_loss','trn_acc','val_acc'],table=True)\n",
    "    model.to(device)\n",
    "\n",
    "    for i in mb:    \n",
    "        trn_loss,val_loss = 0.0,0.0\n",
    "        trn_acc,val_acc = 0,0\n",
    "        trn_n,val_n = len(train_dl.dataset),len(valid_dl.dataset)\n",
    "        model.train()\n",
    "        if bn_eval:set_bn_eval(model)\n",
    "        for xb,yb in progress_bar(train_dl,parent=mb):\n",
    "            xb,yb = xb.to(device), yb.to(device)\n",
    "            out = model(xb)\n",
    "            opt.zero_grad()\n",
    "            loss = loss_fn(out,yb)\n",
    "            _,pred = torch.max(out.data, 1)\n",
    "            trn_acc += (pred == yb).sum().item()\n",
    "            trn_loss += loss.item()\n",
    "            loss.backward()\n",
    "            opt.step()\n",
    "        trn_loss /= mb.child.total\n",
    "        trn_acc /= trn_n\n",
    "\n",
    "        model.eval()\n",
    "        with torch.no_grad():\n",
    "            for xb,yb in progress_bar(valid_dl,parent=mb):\n",
    "                xb,yb = xb.to(device), yb.to(device)\n",
    "                out = model(xb)\n",
    "                loss = loss_fn(out,yb)\n",
    "                val_loss += loss.item()\n",
    "                _,pred = torch.max(out.data, 1)\n",
    "                val_acc += (pred == yb).sum().item()\n",
    "        val_loss /= mb.child.total\n",
    "        val_acc /= val_n\n",
    "\n",
    "        mb.write([i,f'{trn_loss:.6f}',f'{val_loss:.6f}',f'{trn_acc:.6f}',f'{val_acc:.6f}'],table=True)        \n",
    "        \n",
    "    "
   ]
  },
  {
   "cell_type": "markdown",
   "metadata": {
    "tags": []
   },
   "source": [
    "## Training"
   ]
  },
  {
   "cell_type": "code",
   "execution_count": 6,
   "metadata": {},
   "outputs": [],
   "source": [
    "loss_fn = F.cross_entropy"
   ]
  },
  {
   "cell_type": "code",
   "execution_count": 9,
   "metadata": {},
   "outputs": [],
   "source": [
    "def freeze(model,bn_freeze=True):\n",
    "    for name,param in model.named_parameters():\n",
    "        if bn_freeze:\n",
    "            param.requires_grad = False\n",
    "        elif name.find('bn') == -1:\n",
    "            param.requires_grad = False\n",
    "            \n",
    "def unfreeze(model):\n",
    "    for param in model.parameters():\n",
    "        param.requires_grad = True\n",
    "\n",
    "def get_model(lrs=[1e-3,1e-3],bn_freeze=True):\n",
    "    model = MyResNet()\n",
    "    freeze(model.body,bn_freeze=bn_freeze)\n",
    "    opt = optim.Adam([{'params': model.body.parameters(), 'lr':lrs[0]},\n",
    "                {'params': model.head.parameters(), 'lr': lrs[1]}])\n",
    "    return model,opt\n",
    "\n",
    "def update_lr(lr,opt):\n",
    "    opt.param_groups[0]['lr'] = lr/100\n",
    "    opt.param_groups[1]['lr'] = lr\n",
    "    \n",
    "\n",
    "### Freeze the complete resnet body\n",
    "\n",
    "lr = 1e-3\n",
    "model,opt = get_model(lrs=[lr,lr],bn_freeze=True)\n",
    "fit(2,model,trn_dl,valid_dl,loss_fn,opt)\n",
    "\n",
    "### Freeze the complete resnet body and place BN layers in eval mode.\n",
    "\n",
    "lr = 1e-3\n",
    "model,opt = get_model(lrs=[lr,lr],bn_freeze=True)\n",
    "fit(2,model,trn_dl,valid_dl,loss_fn,opt,bn_eval=True)"
   ]
  },
  {
   "cell_type": "markdown",
   "metadata": {
    "heading_collapsed": "true",
    "tags": []
   },
   "source": [
    "### Freeze the complete resnet body and place BN layers in eval mode and train the body at a lesser learning rate for the second epoch."
   ]
  },
  {
   "cell_type": "code",
   "execution_count": 17,
   "metadata": {},
   "outputs": [
    {
     "data": {
      "text/html": [
       "<table border=\"1\" class=\"dataframe\">\n",
       "  <thead>\n",
       "    <tr style=\"text-align: left;\">\n",
       "      <th>epoch</th>\n",
       "      <th>train_loss</th>\n",
       "      <th>valid_loss</th>\n",
       "      <th>trn_acc</th>\n",
       "      <th>val_acc</th>\n",
       "    </tr>\n",
       "  </thead>\n",
       "  <tbody>\n",
       "    <tr>\n",
       "      <td>0</td>\n",
       "      <td>0.115747</td>\n",
       "      <td>0.044909</td>\n",
       "      <td>0.964774</td>\n",
       "      <td>0.987107</td>\n",
       "    </tr>\n",
       "  </tbody>\n",
       "</table>"
      ],
      "text/plain": [
       "<IPython.core.display.HTML object>"
      ]
     },
     "metadata": {},
     "output_type": "display_data"
    }
   ],
   "source": [
    "lr = 1e-3\n",
    "model,opt = get_model(lrs=[lr,lr],bn_freeze=True)\n",
    "fit(1,model,trn_dl,valid_dl,loss_fn,opt,bn_eval=True)"
   ]
  },
  {
   "cell_type": "code",
   "execution_count": 18,
   "metadata": {},
   "outputs": [
    {
     "data": {
      "text/html": [
       "<table border=\"1\" class=\"dataframe\">\n",
       "  <thead>\n",
       "    <tr style=\"text-align: left;\">\n",
       "      <th>epoch</th>\n",
       "      <th>train_loss</th>\n",
       "      <th>valid_loss</th>\n",
       "      <th>trn_acc</th>\n",
       "      <th>val_acc</th>\n",
       "    </tr>\n",
       "  </thead>\n",
       "  <tbody>\n",
       "    <tr>\n",
       "      <td>0</td>\n",
       "      <td>0.074065</td>\n",
       "      <td>0.024733</td>\n",
       "      <td>0.973581</td>\n",
       "      <td>0.991509</td>\n",
       "    </tr>\n",
       "  </tbody>\n",
       "</table>"
      ],
      "text/plain": [
       "<IPython.core.display.HTML object>"
      ]
     },
     "metadata": {},
     "output_type": "display_data"
    }
   ],
   "source": [
    "update_lr(lr/2,opt)\n",
    "unfreeze(model)\n",
    "fit(1,model,trn_dl,valid_dl,loss_fn,opt)"
   ]
  },
  {
   "cell_type": "markdown",
   "metadata": {
    "heading_collapsed": "true",
    "tags": []
   },
   "source": [
    "### Freeze the resnet body except fot BN layers"
   ]
  },
  {
   "cell_type": "code",
   "execution_count": 28,
   "metadata": {},
   "outputs": [
    {
     "data": {
      "text/html": [
       "<table border=\"1\" class=\"dataframe\">\n",
       "  <thead>\n",
       "    <tr style=\"text-align: left;\">\n",
       "      <th>epoch</th>\n",
       "      <th>train_loss</th>\n",
       "      <th>valid_loss</th>\n",
       "      <th>trn_acc</th>\n",
       "      <th>val_acc</th>\n",
       "    </tr>\n",
       "  </thead>\n",
       "  <tbody>\n",
       "    <tr>\n",
       "      <td>0</td>\n",
       "      <td>0.105815</td>\n",
       "      <td>0.032677</td>\n",
       "      <td>0.960843</td>\n",
       "      <td>0.988365</td>\n",
       "    </tr>\n",
       "    <tr>\n",
       "      <td>1</td>\n",
       "      <td>0.052449</td>\n",
       "      <td>0.022727</td>\n",
       "      <td>0.982151</td>\n",
       "      <td>0.990881</td>\n",
       "    </tr>\n",
       "  </tbody>\n",
       "</table>"
      ],
      "text/plain": [
       "<IPython.core.display.HTML object>"
      ]
     },
     "metadata": {},
     "output_type": "display_data"
    }
   ],
   "source": [
    "model,opt = get_model(lrs=[1e-3,1e-3],bn_freeze=False)\n",
    "fit(2,model,trn_dl,valid_dl,loss_fn,opt)"
   ]
  },
  {
   "cell_type": "markdown",
   "metadata": {},
   "source": [
    "### Freeze the resnet body except fot BN layers and try smaller leraning rate for the resnet body"
   ]
  },
  {
   "cell_type": "code",
   "execution_count": 12,
   "metadata": {},
   "outputs": [
    {
     "data": {
      "text/html": [
       "<table border=\"1\" class=\"dataframe\">\n",
       "  <thead>\n",
       "    <tr style=\"text-align: left;\">\n",
       "      <th>epoch</th>\n",
       "      <th>train_loss</th>\n",
       "      <th>valid_loss</th>\n",
       "      <th>trn_acc</th>\n",
       "      <th>val_acc</th>\n",
       "    </tr>\n",
       "  </thead>\n",
       "  <tbody>\n",
       "    <tr>\n",
       "      <td>0</td>\n",
       "      <td>0.145204</td>\n",
       "      <td>0.052064</td>\n",
       "      <td>0.951329</td>\n",
       "      <td>0.983648</td>\n",
       "    </tr>\n",
       "  </tbody>\n",
       "</table>"
      ],
      "text/plain": [
       "<IPython.core.display.HTML object>"
      ]
     },
     "metadata": {},
     "output_type": "display_data"
    },
    {
     "data": {
      "text/html": [
       "<table border=\"1\" class=\"dataframe\">\n",
       "  <thead>\n",
       "    <tr style=\"text-align: left;\">\n",
       "      <th>epoch</th>\n",
       "      <th>train_loss</th>\n",
       "      <th>valid_loss</th>\n",
       "      <th>trn_acc</th>\n",
       "      <th>val_acc</th>\n",
       "    </tr>\n",
       "  </thead>\n",
       "  <tbody>\n",
       "    <tr>\n",
       "      <td>0</td>\n",
       "      <td>0.064199</td>\n",
       "      <td>0.020451</td>\n",
       "      <td>0.977669</td>\n",
       "      <td>0.993711</td>\n",
       "    </tr>\n",
       "  </tbody>\n",
       "</table>"
      ],
      "text/plain": [
       "<IPython.core.display.HTML object>"
      ]
     },
     "metadata": {},
     "output_type": "display_data"
    }
   ],
   "source": [
    "model,opt = get_model(lrs=[lr,lr],bn_freeze=False)\n",
    "fit(1,model,trn_dl,valid_dl,loss_fn,opt)\n",
    "update_lr(lr/2,opt)\n",
    "unfreeze(model)\n",
    "fit(1,model,trn_dl,valid_dl,loss_fn,opt)"
   ]
  },
  {
   "cell_type": "markdown",
   "metadata": {},
   "source": [
    "### Try adjusting the model"
   ]
  },
  {
   "cell_type": "code",
   "execution_count": 20,
   "metadata": {},
   "outputs": [],
   "source": [
    "class AdaptiveConcatPooling(nn.Module):\n",
    "    def forward(self,x):\n",
    "        avg_pool = F.adaptive_avg_pool2d(x,1)\n",
    "        max_pool = F.adaptive_max_pool2d(x,1)\n",
    "        return torch.cat([avg_pool,max_pool],dim=1)"
   ]
  },
  {
   "cell_type": "code",
   "execution_count": 21,
   "metadata": {},
   "outputs": [],
   "source": [
    "class MyResNet(nn.Module):\n",
    "    def __init__(self):\n",
    "        super().__init__()\n",
    "        resnet = models.resnet34(pretrained=True)\n",
    "        self.body = nn.Sequential(*list(resnet.children())[:-2])\n",
    "        self.head = nn.Sequential(AdaptiveConcatPooling(),Flatten(),nn.Linear(512*2,2))\n",
    "    \n",
    "    def forward(self,x):\n",
    "        x = self.body(x)\n",
    "        return self.head(x)"
   ]
  },
  {
   "cell_type": "code",
   "execution_count": 23,
   "metadata": {},
   "outputs": [
    {
     "data": {
      "text/html": [
       "<table border=\"1\" class=\"dataframe\">\n",
       "  <thead>\n",
       "    <tr style=\"text-align: left;\">\n",
       "      <th>epoch</th>\n",
       "      <th>train_loss</th>\n",
       "      <th>valid_loss</th>\n",
       "      <th>trn_acc</th>\n",
       "      <th>val_acc</th>\n",
       "    </tr>\n",
       "  </thead>\n",
       "  <tbody>\n",
       "    <tr>\n",
       "      <td>0</td>\n",
       "      <td>0.124573</td>\n",
       "      <td>0.033491</td>\n",
       "      <td>0.952115</td>\n",
       "      <td>0.987421</td>\n",
       "    </tr>\n",
       "  </tbody>\n",
       "</table>"
      ],
      "text/plain": [
       "<IPython.core.display.HTML object>"
      ]
     },
     "metadata": {},
     "output_type": "display_data"
    },
    {
     "data": {
      "text/html": [
       "<table border=\"1\" class=\"dataframe\">\n",
       "  <thead>\n",
       "    <tr style=\"text-align: left;\">\n",
       "      <th>epoch</th>\n",
       "      <th>train_loss</th>\n",
       "      <th>valid_loss</th>\n",
       "      <th>trn_acc</th>\n",
       "      <th>val_acc</th>\n",
       "    </tr>\n",
       "  </thead>\n",
       "  <tbody>\n",
       "    <tr>\n",
       "      <td>0</td>\n",
       "      <td>0.057533</td>\n",
       "      <td>0.032403</td>\n",
       "      <td>0.980893</td>\n",
       "      <td>0.990252</td>\n",
       "    </tr>\n",
       "  </tbody>\n",
       "</table>"
      ],
      "text/plain": [
       "<IPython.core.display.HTML object>"
      ]
     },
     "metadata": {},
     "output_type": "display_data"
    }
   ],
   "source": [
    "lr = 1e-3\n",
    "model,opt = get_model(lrs=[lr,lr],bn_freeze=False)\n",
    "fit(1,model,trn_dl,valid_dl,loss_fn,opt)\n",
    "update_lr(lr/2,opt)\n",
    "unfreeze(model)\n",
    "fit(1,model,trn_dl,valid_dl,loss_fn,opt)"
   ]
  },
  {
   "cell_type": "markdown",
   "metadata": {},
   "source": [
    "### Increasing the complexity of the model"
   ]
  },
  {
   "cell_type": "code",
   "execution_count": 24,
   "metadata": {},
   "outputs": [],
   "source": [
    "class MyResNet(nn.Module):\n",
    "    def __init__(self):\n",
    "        super().__init__()\n",
    "        nf = 512*2\n",
    "        resnet = models.resnet34(pretrained=True)\n",
    "        self.body = nn.Sequential(*list(resnet.children())[:-2])\n",
    "        self.head = nn.Sequential(AdaptiveConcatPooling(),Flatten(),nn.BatchNorm1d(nf),nn.Dropout(p=0.25),\n",
    "                      nn.Linear(nf,nf//2,bias=False),nn.ReLU(inplace=True),nn.BatchNorm1d(nf//2),nn.Dropout(p=0.75),\n",
    "                      nn.Linear(nf//2,2,bias=False))\n",
    "    \n",
    "    def forward(self,x):\n",
    "        x = self.body(x)\n",
    "        return self.head(x)"
   ]
  },
  {
   "cell_type": "code",
   "execution_count": 25,
   "metadata": {},
   "outputs": [
    {
     "data": {
      "text/html": [
       "<table border=\"1\" class=\"dataframe\">\n",
       "  <thead>\n",
       "    <tr style=\"text-align: left;\">\n",
       "      <th>epoch</th>\n",
       "      <th>train_loss</th>\n",
       "      <th>valid_loss</th>\n",
       "      <th>trn_acc</th>\n",
       "      <th>val_acc</th>\n",
       "    </tr>\n",
       "  </thead>\n",
       "  <tbody>\n",
       "    <tr>\n",
       "      <td>0</td>\n",
       "      <td>0.097272</td>\n",
       "      <td>0.027744</td>\n",
       "      <td>0.966032</td>\n",
       "      <td>0.989308</td>\n",
       "    </tr>\n",
       "  </tbody>\n",
       "</table>"
      ],
      "text/plain": [
       "<IPython.core.display.HTML object>"
      ]
     },
     "metadata": {},
     "output_type": "display_data"
    },
    {
     "data": {
      "text/html": [
       "<table border=\"1\" class=\"dataframe\">\n",
       "  <thead>\n",
       "    <tr style=\"text-align: left;\">\n",
       "      <th>epoch</th>\n",
       "      <th>train_loss</th>\n",
       "      <th>valid_loss</th>\n",
       "      <th>trn_acc</th>\n",
       "      <th>val_acc</th>\n",
       "    </tr>\n",
       "  </thead>\n",
       "  <tbody>\n",
       "    <tr>\n",
       "      <td>0</td>\n",
       "      <td>0.056163</td>\n",
       "      <td>0.023533</td>\n",
       "      <td>0.979557</td>\n",
       "      <td>0.992767</td>\n",
       "    </tr>\n",
       "  </tbody>\n",
       "</table>"
      ],
      "text/plain": [
       "<IPython.core.display.HTML object>"
      ]
     },
     "metadata": {},
     "output_type": "display_data"
    }
   ],
   "source": [
    "lr = 1e-3\n",
    "model,opt = get_model(lrs=[lr,lr],bn_freeze=False)\n",
    "fit(1,model,trn_dl,valid_dl,loss_fn,opt)\n",
    "update_lr(lr/2,opt)\n",
    "unfreeze(model)\n",
    "fit(1,model,trn_dl,valid_dl,loss_fn,opt)"
   ]
  },
  {
   "cell_type": "markdown",
   "metadata": {
    "heading_collapsed": "true",
    "tags": []
   },
   "source": [
    "## scratch"
   ]
  },
  {
   "cell_type": "code",
   "execution_count": null,
   "metadata": {},
   "outputs": [],
   "source": [
    "\n",
    "\n",
    "                \n",
    "\n",
    "# ## WIP: display_layer_status\n",
    "#     @classmethod\n",
    "#     def display_layer_status(cls,\n",
    "#                              model: nn.Module,\n",
    "#                              max_depth: int=3):\n",
    "#         \"\"\"\n",
    "#         Return a formatted display of model's layers alongside relevant training status info.\n",
    "#         \"\"\"\n",
    "#         modules = []\n",
    "        \n",
    "# #         for name, module in model.named_modules():\n",
    "#         for name, module in model.named_children():\n",
    "# #             print(name, 'max_depth:', max_depth)\n",
    "#             if name==\"\": continue\n",
    "# #             if (max_depth>0) and (len(list(module.named_modules())) > 0):\n",
    "#             if (max_depth>0) and (len(list(module.named_children())) > 0):\n",
    "#                 modules.extend(cls.display_layer_status(module, max_depth=max_depth-1))\n",
    "#                 continue\n",
    "#             module_out = {\"name\":name,\n",
    "#                           \"training\":module.training,\n",
    "#                           \"type\":type(module),\n",
    "#                           \"params\":[]}\n",
    "#             for param_name, param in module.named_parameters():\n",
    "#                 module_out[\"params\"].append({\n",
    "#                     \"name\":param_name,\n",
    "#                     \"type\":type(param),\n",
    "#                     \"requires_grad\":param.requires_grad,\n",
    "#                     \"shape\":param.shape\n",
    "#                 })\n",
    "#             print(name)\n",
    "#             pp(module_out)\n",
    "#             modules.append(module_out)\n",
    "#         return modules\n"
   ]
  },
  {
   "cell_type": "code",
   "execution_count": 388,
   "metadata": {},
   "outputs": [],
   "source": [
    "# for unfreeze_down_to in reversed(range(0,-8,-1)):\n",
    "# model.freeze_backbone(freeze_bn=False)\n",
    "# model.freeze_backbone(freeze_bn=True)\n",
    "# summary(model.model)\n",
    "# count_trainable_batchnorm_layers(model)\n",
    "\n",
    "# for unfreeze_down_to in range(0,-9,-1):\n",
    "#     print(unfreeze_down_to)\n",
    "#     print(f\"Unfreezing backbone down to layer: {unfreeze_down_to}\")\n",
    "#     model.unfreeze_backbone_top_layers(unfreeze_down_to=unfreeze_down_to)\n",
    "# #     summary(model.model)\n",
    "#     model.count_trainable_batchnorm_layers()\n",
    "# #     count_trainable_batchnorm_layers(model)\n",
    "\n",
    "#     print(f\"trainable parameters: {len(list(model.get_trainable_parameters()))}\")\n",
    "#     print(f\"non-trainable parameters: {len(list(model.get_nontrainable_parameters()))}\")\n",
    "\n",
    "# unfreeze_down_to = -2\n",
    "\n",
    "# model.unfreeze_backbone_top_layers(unfreeze_down_to=unfreeze_down_to)\n",
    "# summary(model.model)\n",
    "# count_trainable_batchnorm_layers(model)\n",
    "\n",
    "# print(f\"trainable parameters: {len(list(model.get_trainable_parameters()))}\")\n",
    "# print(f\"non-trainable parameters: {len(list(model.get_nontrainable_parameters()))}\")\n",
    "\n",
    "# unfreeze_down_to = -3\n",
    "\n",
    "# model.unfreeze_backbone_top_layers(unfreeze_down_to=unfreeze_down_to)\n",
    "# summary(model.model)\n",
    "# print(f\"trainable: {len(list(model.get_trainable_parameters()))}\")\n",
    "# print(f\"non-trainable: {len(list(model.get_nontrainable_parameters()))}\")\n",
    "\n",
    "# unfreeze_down_to = -4\n",
    "\n",
    "# model.unfreeze_backbone_top_layers(unfreeze_down_to=unfreeze_down_to)\n",
    "# summary(model.model)\n",
    "# print(f\"trainable: {len(list(model.get_trainable_parameters()))}\")\n",
    "# print(f\"non-trainable: {len(list(model.get_nontrainable_parameters()))}\")"
   ]
  },
  {
   "cell_type": "code",
   "execution_count": null,
   "metadata": {
    "tags": []
   },
   "outputs": [],
   "source": [
    "\n",
    "\n",
    "#     model = timm.create_model(model_name=backbone_name, num_classes=1000, pretrained=pretrained)\n",
    "#     if isinstance(pretrained, str) and pretrained != \"imagenet\":\n",
    "#         model = load_model_checkpoint(model, ckpt_path=pretrained)\n",
    "# #         ckpt_pth = glob.glob(hydra.utils.to_absolute_path(pretrained))\n",
    "# #         model = model.load_state_dict(torch.load(ckpt_pth[0]))\n",
    "        \n",
    "#     body = nn.Sequential(*list(model.children())[:-2])\n",
    "\n",
    "    \n",
    "#     feature_size = model.fc.in_features\n",
    "    \n",
    "#     head = OrderedDict()\n",
    "#     global_pool, feature_size = build_global_pool(pool_type=pool_type,\n",
    "#                                                   pool_size=pool_size,\n",
    "#                                                   feature_size=feature_size)\n",
    "#     head[\"global_pool\"] = global_pool\n",
    "#     head[\"flatten\"] = Flatten()\n",
    "    \n",
    "#     classifier_input_feature_size = feature_size*(pool_size*2)        \n",
    "#     if head_type=='linear':\n",
    "#         head[\"classifier\"] = nn.Linear(classifier_input_feature_size, num_classes)\n",
    "#     elif head_type=='custom':\n",
    "#         head[\"classifier\"] = nn.Sequential(nn.Linear(classifier_input_feature_size, hidden_size),\n",
    "#                                 nn.RReLU(lower=0.125, upper=0.3333333333333333, inplace=False),\n",
    "#                                 nn.BatchNorm1d(hidden_size),\n",
    "#                                 nn.Linear(hidden_size, num_classes))\n",
    "        \n",
    "#     head = nn.Sequential(head)\n",
    "\n",
    "\n",
    "#     model = nn.Sequential(OrderedDict({\n",
    "#         \"body\":body,\n",
    "#         \"head\":head\n",
    "#     }))\n",
    "#     return model\n",
    "\n",
    "# def build_model(backbone_name='gluon_seresnext50_32x4d',\n",
    "#                 pretrained: Union[bool, str]=True,\n",
    "#                 num_classes: int=1000,\n",
    "#                 pool_size: int=1,\n",
    "#                 pool_type: str='avg',\n",
    "#                 head_type: str='linear',\n",
    "#                 hidden_size: Optional[int]=512):\n",
    "    \n",
    "#     try:\n",
    "#         model = build_timm_custom(backbone_name=backbone_name,\n",
    "#                                   pretrained=pretrained,\n",
    "#                                   num_classes=num_classes,\n",
    "#                                   pool_size=pool_size,\n",
    "#                                   pool_type=pool_type,\n",
    "#                                   head_type=hidden_size,\n",
    "#                                   hidden_size=hidden_size)\n",
    "\n",
    "#     except:\n",
    "#         print\n",
    "\n",
    "        \n",
    "        \n",
    "        "
   ]
  }
 ],
 "metadata": {
  "kernelspec": {
   "display_name": "Python 3 (ipykernel)",
   "language": "python",
   "name": "python3"
  },
  "language_info": {
   "codemirror_mode": {
    "name": "ipython",
    "version": 3
   },
   "file_extension": ".py",
   "mimetype": "text/x-python",
   "name": "python",
   "nbconvert_exporter": "python",
   "pygments_lexer": "ipython3",
   "version": "3.8.5"
  }
 },
 "nbformat": 4,
 "nbformat_minor": 4
}
