{
 "cells": [
  {
   "cell_type": "markdown",
   "metadata": {
    "tags": []
   },
   "source": [
    "# Transfer Learning Experiments\n",
    "\n",
    "Created by: Jacob A Rose  \n",
    "Created On: Wednesday Oct 6th, 2021  \n",
    "\n",
    "Based on Notebook located at: https://jarvislabs.ai/blogs/transfer-learning"
   ]
  },
  {
   "cell_type": "markdown",
   "metadata": {
    "tags": []
   },
   "source": [
    "## Imports & Definitions"
   ]
  },
  {
   "cell_type": "code",
   "execution_count": 1,
   "metadata": {},
   "outputs": [
    {
     "name": "stderr",
     "output_type": "stream",
     "text": [
      "Global seed set to 42\n"
     ]
    }
   ],
   "source": [
    "from rich import print as pp\n",
    "import pandas as pd\n",
    "import torch.nn.functional as F\n",
    "import torch.optim as optim\n",
    "import numpy as np\n",
    "import torchvision\n",
    "import matplotlib.pyplot as plt\n",
    "import time\n",
    "import os\n",
    "from pathlib import Path\n",
    "\n",
    "from IPython.core.interactiveshell import InteractiveShell\n",
    "InteractiveShell.ast_node_interactivity = \"all\"\n",
    "\n",
    "import logging\n",
    "\n",
    "logger = logging.Logger(__name__)\n",
    "logger.setLevel('INFO')\n",
    "\n",
    "from tqdm.auto import tqdm, trange\n",
    "\n",
    "\n",
    "%load_ext autoreload\n",
    "%autoreload 2\n",
    "\n",
    "import torch\n",
    "import torch.nn as nn\n",
    "import pytorch_lightning as pl\n",
    "import timm\n",
    "import glob\n",
    "import hydra\n",
    "from collections import OrderedDict\n",
    "from typing import *\n",
    "\n",
    "from lightning_hydra_classifiers.models.transfer import *\n",
    "from rich import print as pp\n",
    "from lightning_hydra_classifiers.utils.model_utils import count_parameters, collect_results\n",
    "from lightning_hydra_classifiers.utils.metric_utils import get_per_class_metrics, get_scalar_metrics\n",
    "from lightning_hydra_classifiers.models.backbones.backbone import build_model\n",
    "import pytorch_lightning as pl\n",
    "\n",
    "pl.seed_everything(42)\n",
    "\n",
    "from lightning_hydra_classifiers.scripts.multitask.train import MultiTaskDataModule, LitMultiTaskModule, ImagePredictionLogger, train_task,  CIFAR10DataModule, run_multitask_test, load_data_and_model, load_data, resolve_config, configure_callbacks, configure_loggers, configure_trainer\n",
    "from lightning_hydra_classifiers.data.datasets.common import toPIL\n",
    "from lightning_hydra_classifiers.utils.etl_utils import ETL\n",
    "from omegaconf import OmegaConf\n",
    "\n",
    "from pytorch_lightning.callbacks import LearningRateMonitor, ModelCheckpoint\n",
    "from lightning_hydra_classifiers.scripts.pretrain import lr_tuner\n",
    "\n",
    "from lightning_hydra_classifiers.scripts.multitask.train import configure_callbacks, configure_loggers#, configure_trainer"
   ]
  },
  {
   "cell_type": "code",
   "execution_count": null,
   "metadata": {},
   "outputs": [],
   "source": []
  },
  {
   "cell_type": "markdown",
   "metadata": {},
   "source": [
    "## Developing Early Stopping multi-stage subclass for finetuning"
   ]
  },
  {
   "cell_type": "markdown",
   "metadata": {
    "heading_collapsed": "true",
    "tags": []
   },
   "source": [
    "### trying out built in lightning tests for fine tuning"
   ]
  },
  {
   "cell_type": "code",
   "execution_count": 2,
   "metadata": {},
   "outputs": [],
   "source": [
    "# os.chdir(Path(pl.__file__).parent)\n",
    "# os.getcwd()"
   ]
  },
  {
   "cell_type": "code",
   "execution_count": 3,
   "metadata": {},
   "outputs": [],
   "source": [
    "# # %%writefile first_test.py\n",
    "\n",
    "# # See the License for the specific language governing permissions and\n",
    "# # limitations under the License.\n",
    "# from collections import OrderedDict\n",
    "# import matplotlib.pyplot as plt\n",
    "\n",
    "# import pytest\n",
    "# import torch\n",
    "# from torch import nn\n",
    "# from torch.optim import Optimizer, SGD\n",
    "# from torch.utils.data import DataLoader\n",
    "\n",
    "# from pytorch_lightning import LightningModule, seed_everything, Trainer\n",
    "# from pytorch_lightning.callbacks import BackboneFinetuning, BaseFinetuning, ModelCheckpoint\n",
    "# from pytorch_lightning.callbacks.base import Callback\n",
    "# from tests.helpers import BoringModel, RandomDataset\n",
    "\n",
    "# from typing import *\n",
    "\n",
    "# # class RandomDataset(torch.utils.data.Dataset):\n",
    "# #     def __init__(self, num_samples=2000, shape=(3,64,64)):\n",
    "# #         self.num_samples = num_samples\n",
    "# #         self.shape = shape\n",
    "# #         self.data = torch.randn(num_samples, *shape)\n",
    "\n",
    "# #     def __getitem__(self, index):\n",
    "# #         return self.data[index]\n",
    "\n",
    "# #     def __len__(self):\n",
    "# #         return self.num_samples\n",
    "\n",
    "# # class RandomTupleSupervisedDataset(RandomDataset):\n",
    "    \n",
    "# #     def __init__(self, num_classes=1000, num_samples=2000, shape=(3,64,64)):\n",
    "# #         super().__init__(num_samples, shape)\n",
    "# #         self.num_classes = num_classes\n",
    "        \n",
    "# #         self.targets = torch.randperm(num_classes)[:num_samples]\n",
    "        \n",
    "# #     def __getitem__(self, index):\n",
    "# #         return self.data[index], self.targets[index]\n",
    "        \n",
    "\n",
    "# # dataset = RandomTupleSupervisedDataset(1000, 200, (3,128,128))\n",
    "# # dataset\n",
    "# # dataset.data.shape\n",
    "\n",
    "# # class TestBackboneFinetuningCallback(BackboneFinetuning):\n",
    "# #     def on_train_epoch_start(self, trainer, pl_module):\n",
    "# #         super().on_train_epoch_start(trainer, pl_module)\n",
    "# #         epoch = trainer.current_epoch\n",
    "# #         if self.unfreeze_backbone_at_epoch <= epoch:\n",
    "# #             optimizer = trainer.optimizers[0]\n",
    "# #             current_lr = optimizer.param_groups[0][\"lr\"]\n",
    "# #             backbone_lr = self.previous_backbone_lr\n",
    "# #             if epoch < 6:\n",
    "# #                 assert backbone_lr <= current_lr\n",
    "# #             else:\n",
    "# #                 assert backbone_lr == current_lr\n",
    "\n",
    "# ###############################################################\n",
    "\n",
    "# # class BackboneFinetuningCallback(pl.callbacks.Callback):\n",
    "\n",
    "# #         def __init__(self,\n",
    "    \n",
    "\n",
    "# print(\"current dir:\", os.getcwd())\n",
    "\n",
    "# import os\n",
    "# os.path.abspath"
   ]
  },
  {
   "cell_type": "code",
   "execution_count": 4,
   "metadata": {},
   "outputs": [],
   "source": [
    "# %%writefile finetuning_callback_test.py\n",
    "\n",
    "# import numpy as np\n",
    "# import os\n",
    "# import pytest\n",
    "# from typing import *\n",
    "# import pytorch_lightning as pl\n",
    "# import torch\n",
    "# from lightning_hydra_classifiers.models.transfer import *\n",
    "# from torch.utils.data import DataLoader\n",
    "\n",
    "# from torch import nn\n",
    "# # from pytorch_lightning import LightningModule, seed_everything, Trainer\n",
    "# import logging\n",
    "# import json\n",
    "# logging.basicConfig(level=logging.DEBUG)\n",
    "# logger = logging.Logger(__name__)\n",
    "# logger.setLevel('INFO')\n",
    "# pylog = logging.getLogger()\n",
    "\n",
    "\n",
    "# BN_TYPE = (torch.nn.modules.batchnorm._BatchNorm,)\n",
    "\n",
    "# def is_bn(layer: nn.Module) -> bool:\n",
    "#     \"\"\" Return True if layer's type is one of the batch norms.\"\"\"\n",
    "#     return isinstance(layer, BN_TYPE)\n",
    "\n",
    "# def grad_check(tensor: torch.Tensor) -> bool:\n",
    "#     \"\"\" Returns True if tensor.requires_grad==True, else False.\"\"\"\n",
    "#     return tensor.requires_grad == True\n",
    "\n",
    "\n",
    "# # os.chdir(\"/media/data/jacob/GitHub/lightning-hydra-classifiers\")#/tests\")\n",
    "\n",
    "# class RandomDataset(torch.utils.data.Dataset):\n",
    "#     def __init__(self, num_samples=2000, shape=(3,64,64)):\n",
    "#         self.num_samples = num_samples\n",
    "#         self.shape = shape\n",
    "#         self.data = torch.randn(num_samples, *shape)\n",
    "\n",
    "#     def __getitem__(self, index):\n",
    "#         return self.data[index]\n",
    "\n",
    "#     def __len__(self):\n",
    "#         return self.num_samples\n",
    "\n",
    "# class RandomTupleSupervisedDataset(RandomDataset):\n",
    "    \n",
    "#     def __init__(self, num_classes=1000, num_samples=2000, shape=(3,64,64)):\n",
    "#         super().__init__(num_samples, shape)\n",
    "#         self.num_classes = num_classes\n",
    "        \n",
    "#         self.targets = torch.randperm(num_classes)[:num_samples]\n",
    "        \n",
    "#     def __getitem__(self, index):\n",
    "#         return self.data[index], self.targets[index]\n",
    "\n",
    "##############################################\n",
    "\n",
    "    \n",
    "    \n",
    "# class FinetuningLightningCallback(pl.callbacks.Callback):\n",
    "    \n",
    "# # class FinetuningLightningPlugin:\n",
    "#     mode_dict = {\"min\": torch.lt, \"max\": torch.gt}\n",
    "#     order_dict = {\"min\": \"<\", \"max\": \">\"}\n",
    "    \n",
    "    \n",
    "#     def __init__(self,\n",
    "#                  monitor: str=\"val_loss\",\n",
    "#                  mode: str=\"min\",\n",
    "#                  patience: int=4):\n",
    "        \n",
    "# #         if pl_module.hparams.finetuning_strategy == \"finetuning_unfreeze_layers_on_plateau\":\n",
    "#         self.monitor = monitor\n",
    "#         self.mode = mode\n",
    "#         self.patience = patience\n",
    "# #         self.best_metric = 0\n",
    "#         self.milestone_index = 0\n",
    "        \n",
    "# #         self.min_delta *= 1 if self.monitor_op == torch.gt else -1\n",
    "#         torch_inf = torch.tensor(np.Inf)\n",
    "#         self.best_score = torch_inf if self.monitor_op == torch.lt else -torch_inf\n",
    "    \n",
    "#         self.milestone_logs = []\n",
    "        \n",
    "#     def on_fit_start(self,\n",
    "#                      trainer,\n",
    "#                      pl_module):\n",
    "#         self.milestones = pl_module.finetuning_milestones\n",
    "#         print(f\"Setting milestones: {pl_module.finetuning_milestones}\")\n",
    "#         self._finished = False\n",
    "    \n",
    "    \n",
    "#     def finetuning_pretrained_strategy(self,\n",
    "#                                        trainer: \"pl.Trainer\",\n",
    "#                                        pl_module):\n",
    "#         \"\"\"\n",
    "        \n",
    "        \n",
    "#         \"\"\"\n",
    "#         epoch = trainer.current_epoch\n",
    "#         logs = trainer.callback_metrics\n",
    "#         current = logs.get(self.monitor)\n",
    "        \n",
    "#         if self.mode == \"min\":\n",
    "#             new_best = current < self.best_score\n",
    "#         elif self.mode == \"max\":\n",
    "#             new_best = current > self.best_score\n",
    "        \n",
    "#         if self._finished:\n",
    "#             return\n",
    "        \n",
    "#         if new_best:\n",
    "#             self.best_score = current\n",
    "#             self.wait_epochs = 0\n",
    "#             print(f\"New best score: {self.monitor}={self.best_score}.\")\n",
    "#         elif self.wait_epochs >= self.patience:\n",
    "            \n",
    "#             next_to_unfreeze = self.milestones[self.milestone_index]\n",
    "#             print(f\"Patience of {self.patience} surpassed at epoch: {epoch} unfreezing down to: {next_to_unfreeze}\")\n",
    "            \n",
    "#             pl_module.unfreeze_backbone_top_layers(unfreeze_down_to=next_to_unfreeze)\n",
    "#             self.wait_epochs = 0\n",
    "#             self.milestone_index += 1\n",
    "#             self.milestone_logs.append({\"epoch\":epoch,\n",
    "#                                         \"unfreeze_at_layer\":next_to_unfreeze,\n",
    "#                                         \"trainable_params\":pl_module.get_trainable_parameters(count_params=True),\n",
    "#                                         \"nontrainable_params\":pl_module.get_nontrainable_parameters(count_params=True)})\n",
    "#             if self.milestone_index >= len(self.milestones):\n",
    "#                 self._finished = True\n",
    "#         else:\n",
    "#             self.wait_epochs += 1\n",
    "    \n",
    "#     @property\n",
    "#     def monitor_op(self) -> Callable:\n",
    "#         return self.mode_dict[self.mode]\n",
    "    \n",
    "#     def on_epoch_end(self, trainer, pl_module):\n",
    "#         \"\"\"Called when the epoch ends.\"\"\"\n",
    "\n",
    "#         self.finetuning_pretrained_strategy(trainer=trainer, pl_module=pl_module)\n",
    "#         try:\n",
    "#             pl_module.log(\"nontrainable_params\", pl_module.get_nontrainable_parameters(count_params=True))\n",
    "#             pl_module.log(\"trainable_params\", pl_module.get_trainable_parameters(count_params=True))\n",
    "# #             pl_module.logger.summary[\"milestones\"] = self.milestone_logs[-1]\n",
    "#         except Exception as e:\n",
    "#             print(e)\n",
    "#             print(f\"logging to wandb didnt work bro\")\n",
    "\n",
    "\n",
    "\n",
    "########################\n",
    "########################\n",
    "\n",
    "\n",
    "from lightning_hydra_classifiers.callbacks.finetuning_callbacks import FinetuningLightningCallback\n",
    "\n",
    "class TestLightningClassifier(LightningClassifier):\n",
    "\n",
    "    def __init__(self,\n",
    "                 backbone_name='resnet50',\n",
    "                 pretrained: Union[bool, str]=True,\n",
    "                 num_classes: int=1000,\n",
    "                 finetuning_strategy: str=\"feature_extractor\",\n",
    "                 seed: int=None,\n",
    "                 **kwargs):\n",
    "\n",
    "        super().__init__(backbone_name=backbone_name,\n",
    "                         pretrained=pretrained,\n",
    "                         num_classes=num_classes,\n",
    "                         pool_type=\"avgdrop\",\n",
    "                         head_type=\"linear\",\n",
    "                         hidden_size=None, lr=0.01, backbone_lr_mult=0.1,\n",
    "                         weight_decay=0.01,\n",
    "                         finetuning_strategy=finetuning_strategy,\n",
    "                         seed=42,\n",
    "                        **kwargs)\n",
    "        self._verbose=True\n",
    "        \n",
    "        \n",
    "    \n",
    "        \n",
    "    def training_step(self, batch, batch_idx):\n",
    "        self.log(\"train_loss\",1)\n",
    "        return {\"loss\": torch.ones(1, requires_grad=True)}\n",
    "    \n",
    "    def validation_step(self, batch, batch_idx):\n",
    "        self.log(\"val_loss\",1)\n",
    "        return {\"loss\": torch.ones(1, requires_grad=True)}\n",
    "    \n",
    "    \n",
    "#         output = super().training_step(batch, batch_idx)\n",
    "#         self._verbose=False\n",
    "#         return output\n",
    "\n",
    "    def training_step_end(self, outputs):\n",
    "        super().training_step_end(outputs)\n",
    "\n",
    "    def print(self, *args):\n",
    "        if self._verbose:\n",
    "            print(*args)\n",
    "\n",
    "    def train_dataloader(self):\n",
    "        return DataLoader(RandomTupleSupervisedDataset(num_classes=1000, num_samples=50, shape=(3,64,64)), batch_size=2)\n",
    "\n",
    "    def val_dataloader(self):\n",
    "        return DataLoader(RandomTupleSupervisedDataset(num_classes=1000, num_samples=50, shape=(3,64,64)), batch_size=2)\n",
    "\n",
    "\n",
    "def save_log(log, fp):\n",
    "    with open(fp, \"w\") as fp:\n",
    "        json.dump(log, fp, indent=4, sort_keys=False)\n",
    "\n",
    "        \n",
    "        \n",
    "        \n",
    "###############################\n",
    "###############################\n",
    "\n",
    "\n",
    "# @pytest.mark.parametrize(\"finetuning_strategy\",\n",
    "#                         [(\"feature_extractor\",)\n",
    "#                          \"feature_extractor_+_bn.eval()\",\n",
    "#                          \"feature_extractor_+_except_bn\"])\n",
    "\n",
    "# @pytest.mark.parametrize(\"finetuning_strategy, expected_layer_counts\",\n",
    "#     [\n",
    "#         (\"feature_extractor\",\n",
    "#             {\"is_training\":{'True': 53, 'False': 0, 'Total': 53}, \n",
    "#              \"requires_grad\":{'True': 0, 'False': 53, 'Total': 53}}\n",
    "#         ),\n",
    "#         (\"feature_extractor_+_bn.eval()\",\n",
    "#             {\"is_training\":{'True': 0, 'False': 53, 'Total': 53}, \n",
    "#              \"requires_grad\":{'True': 0, 'False': 53, 'Total': 53}}\n",
    "#         ),\n",
    "#         (\"feature_extractor_+_except_bn\",\n",
    "#             {\"is_training\":{'True': 53, 'False': 0, 'Total': 53}, \n",
    "#              \"requires_grad\":{'True': 53, 'False': 0, 'Total': 53}}\n",
    "#         )\n",
    "#     ]\n",
    "#                         )\n",
    "# @pytest.mark.parametrize()\n",
    "def test_finetuning_callback(tmpdir):#, finetuning_strategy: str, expected_layer_counts: Dict[str,Dict[str,int]]):#, expectations: Dict[str,Any]):\n",
    "    \"\"\"Test finetuning strategy works as expected.\"\"\"\n",
    "\n",
    "    pl.seed_everything(42)\n",
    "    \n",
    "    callbacks = [FinetuningLightningCallback(monitor=\"val_loss\",\n",
    "                                             mode=\"min\",\n",
    "                                             patience=4)]\n",
    "\n",
    "    model = TestLightningClassifier(finetuning_strategy=\"finetuning_unfreeze_layers_on_plateau\")\n",
    "#     callback = TestBackboneFinetuningCallback(unfreeze_backbone_at_epoch=3, verbose=False)\n",
    "\n",
    "    trainer = pl.Trainer(limit_train_batches=2,\n",
    "                         limit_val_batches=2,\n",
    "                         default_root_dir=\"/home/jrose3\",\n",
    "                         log_every_n_steps=1,\n",
    "                         callbacks=callbacks,\n",
    "                         max_epochs=25)\n",
    "    trainer.fit(model)\n",
    "    \n",
    "    \n",
    "#     pylog.info(f\"strategy: {finetuning_strategy}\")\n",
    "    model._verbose = True\n",
    "    layer_counts = model.count_trainable_batchnorm_layers()\n",
    "\n",
    "\n",
    "\n",
    "    from rich import print as pp\n",
    "    print(\"milestone_logs:\")\n",
    "    pp(callbacks[0].milestone_logs)\n",
    "\n",
    "#     pylog.info(f\"strategy: {finetuning_strategy}\")\n",
    "#     pylog.info(f\"Expected layer counts: {expected_layer_counts}\")\n",
    "    pylog.info(f\"count trainable batchnorm layers`: {model.count_trainable_batchnorm_layers()}\")\n",
    "    pylog.info(f\"count trainable layers: {model.get_trainable_parameters(count_layers=True)}\")\n",
    "    pylog.info(f\"count nontrainable layers: {model.get_nontrainable_parameters(count_layers=True)}\")\n",
    "    pylog.info(f\"count trainable params: {model.get_trainable_parameters(count_params=True)}\")\n",
    "    pylog.info(f\"count nontrainable params: {model.get_nontrainable_parameters(count_params=True)}\")\n",
    "\n",
    "    \n",
    "    \n",
    "    \n",
    "#     assert expected_layer_counts[\"is_training\"][\"True\"] == layer_counts[0][\"True\"]\n",
    "#     assert expected_layer_counts[\"is_training\"][\"False\"] == layer_counts[0][\"False\"]\n",
    "\n",
    "#     assert expected_layer_counts[\"requires_grad\"][\"True\"] == layer_counts[1][\"True\"]\n",
    "#     assert expected_layer_counts[\"requires_grad\"][\"False\"] == layer_counts[1][\"False\"]"
   ]
  },
  {
   "cell_type": "code",
   "execution_count": 5,
   "metadata": {},
   "outputs": [],
   "source": [
    "# model = TestLightningClassifier(finetuning_strategy=\"feature_extractor_+_except_bn\")"
   ]
  },
  {
   "cell_type": "code",
   "execution_count": 6,
   "metadata": {},
   "outputs": [],
   "source": [
    "# class TestLightningClassifier(LightningClassifier):\n",
    "\n",
    "#     def __init__(self,\n",
    "#                  backbone_name='resnet50',\n",
    "#                  pretrained: Union[bool, str]=True,\n",
    "#                  num_classes: int=1000,\n",
    "#                  finetuning_strategy: str=\"feature_extractor\",\n",
    "#                  seed: int=None,\n",
    "#                  **kwargs):\n",
    "\n",
    "#         super().__init__(backbone_name=backbone_name,\n",
    "#                          pretrained=pretrained,\n",
    "#                          num_classes=num_classes,\n",
    "#                          pool_type=\"avgdrop\",\n",
    "#                          head_type=\"linear\",\n",
    "#                          hidden_size=None, lr=0.01, backbone_lr_mult=0.1,\n",
    "#                          weight_decay=0.01,\n",
    "#                          finetuning_strategy=finetuning_strategy,\n",
    "#                          seed=42,\n",
    "#                         **kwargs)\n",
    "#         self._verbose=True\n",
    "\n",
    "#     def training_step(self, batch, batch_idx):\n",
    "#         output = super().training_step(batch, batch_idx)\n",
    "# #             self.print(f\"During: self.training_step\")\n",
    "# #             self.count_trainable_batchnorm_layers()\n",
    "#         self._verbose=False\n",
    "#         return output\n",
    "\n",
    "#     def training_step_end(self, outputs):\n",
    "#         output = super().training_step_end(outputs)\n",
    "\n",
    "#     def print(self, *args):\n",
    "#         if self._verbose:\n",
    "#             print(*args)\n",
    "\n",
    "# #         def configure_optimizers(self):\n",
    "# #             optimizer = torch.optim.SGD(self.layer.parameters(), lr=0.1)\n",
    "# #             lr_scheduler = torch.optim.lr_scheduler.StepLR(optimizer, step_size=1, gamma=0.7)\n",
    "# #             return [optimizer], [lr_scheduler]\n",
    "\n",
    "#     def train_dataloader(self):\n",
    "#         return DataLoader(RandomTupleSupervisedDataset(num_classes=1000, num_samples=50, shape=(3,64,64)), batch_size=2)\n",
    "\n",
    "#     def val_dataloader(self):\n",
    "#         return DataLoader(RandomTupleSupervisedDataset(num_classes=1000, num_samples=50, shape=(3,64,64)), batch_size=2)\n",
    "\n",
    "\n"
   ]
  },
  {
   "cell_type": "code",
   "execution_count": 7,
   "metadata": {},
   "outputs": [],
   "source": [
    "\n",
    "# # finetuning_strategy = \"feature_extractor\"\n",
    "# fixtures = [\"feature_extractor\",\n",
    "#             \"feature_extractor_+_bn.eval()\",\n",
    "#             \"feature_extractor_+_except_bn\"]\n",
    "\n",
    "# for finetuning_strategy in fixtures:\n",
    "#     print(f\"strategy: {finetuning_strategy}\")\n",
    "\n",
    "#     model = TestLightningClassifier(finetuning_strategy=finetuning_strategy)\n",
    "#     training_batch_stats, params_require_grads = model.count_trainable_batchnorm_layers()"
   ]
  },
  {
   "cell_type": "code",
   "execution_count": 8,
   "metadata": {},
   "outputs": [],
   "source": [
    "# from rich.console import Console\n",
    "# from rich.markdown import Markdown\n",
    "# console = Console()\n",
    "# markdown = Markdown(\"$$\\delta \\pi = 3.14159265358979323$$\")\n",
    "# console.print(markdown)\n",
    "# from IPython.display import display, Math, Latex\n",
    "# display(Math(r\"$$mean=E[x^k],\" + \"\\n\" +\"Var = Var[x^k]\"))\n",
    "# from IPython.display import display, Math, Latex\n",
    "# display(Math(r\"$$\\delta \\pi = 3.14159265358979323$$\"))"
   ]
  },
  {
   "cell_type": "code",
   "execution_count": 9,
   "metadata": {},
   "outputs": [],
   "source": [
    "# print(\"count trainable layers: \", model.count_trainable_layers())"
   ]
  },
  {
   "cell_type": "markdown",
   "metadata": {
    "tags": []
   },
   "source": [
    "### Next"
   ]
  },
  {
   "cell_type": "code",
   "execution_count": 10,
   "metadata": {
    "tags": []
   },
   "outputs": [],
   "source": [
    "\n",
    "# class ThresholdBasedFinetuning(pl.callbacks.EarlyStopping):\n",
    "    \n",
    "#     mode_dict = {\"min\": torch.lt, \"max\": torch.gt}\n",
    "\n",
    "#     order_dict = {\"min\": \"<\", \"max\": \">\"}\n",
    "    \n",
    "#     def __init__(self,\n",
    "#                  monitor: Optional[str] = None,\n",
    "#                  min_delta: float = 0.0,\n",
    "#                  patience: int = 3,\n",
    "#                  verbose: bool = False,\n",
    "#                  mode: str = \"min\",\n",
    "#                  strict: bool = True,\n",
    "#                  check_finite: bool = True,\n",
    "#                  stopping_threshold: Optional[float] = None,\n",
    "#                  divergence_threshold: Optional[float] = None,\n",
    "#                  check_on_train_epoch_end: Optional[bool] = None):\n",
    "#         super().__init__()\n",
    "        \n",
    "        \n",
    "        \n",
    "#     def on_save_checkpoint(\n",
    "#         self, trainer: \"pl.Trainer\", pl_module: \"pl.LightningModule\", checkpoint: Dict[str, Any]\n",
    "#     ) -> Dict[str, Any]:\n",
    "#         return {\n",
    "#             \"wait_count\": self.wait_count,\n",
    "#             \"stopped_epoch\": self.stopped_epoch,\n",
    "#             \"best_score\": self.best_score,\n",
    "#             \"patience\": self.patience,\n",
    "#         }\n",
    "\n",
    "#     def on_load_checkpoint(\n",
    "#         self, trainer: \"pl.Trainer\", pl_module: \"pl.LightningModule\", callback_state: Dict[str, Any]\n",
    "#     ) -> None:\n",
    "#         self.wait_count = callback_state[\"wait_count\"]\n",
    "#         self.stopped_epoch = callback_state[\"stopped_epoch\"]\n",
    "#         self.best_score = callback_state[\"best_score\"]\n",
    "#         self.patience = callback_state[\"patience\"]\n",
    "\n",
    "        \n",
    "#     def _should_skip_check(self, trainer: \"pl.Trainer\") -> bool:\n",
    "#         from pytorch_lightning.trainer.states import TrainerFn\n",
    "\n",
    "#         return trainer.state.fn != TrainerFn.FITTING or trainer.sanity_checking\n",
    "\n",
    "#     def on_validation_end(self, trainer: \"pl.Trainer\", pl_module: \"pl.LightningModule\") -> None:\n",
    "#         if self._should_skip_check(trainer):\n",
    "#             return\n",
    "#         self._run_early_stopping_check(trainer)\n",
    "\n",
    "        \n",
    "#     def _run_early_stopping_check(self, trainer: \"pl.Trainer\") -> None:\n",
    "#         \"\"\"Checks whether the early stopping condition is met and if so tells the trainer to stop the training.\"\"\"\n",
    "#         logs = trainer.callback_metrics\n",
    "\n",
    "#         if trainer.fast_dev_run or not self._validate_condition_metric(  # disable early_stopping with fast_dev_run\n",
    "#             logs\n",
    "#         ):  # short circuit if metric not present\n",
    "#             return\n",
    "\n",
    "#         current = logs.get(self.monitor)\n",
    "#         should_stop, reason = self._evaluate_stopping_criteria(current)\n",
    "\n",
    "#         # stop every ddp process if any world process decides to stop\n",
    "#         should_stop = trainer.training_type_plugin.reduce_boolean_decision(should_stop)\n",
    "#         trainer.should_stop = trainer.should_stop or should_stop\n",
    "#         if should_stop:\n",
    "#             self.stopped_epoch = trainer.current_epoch\n",
    "#         if reason and self.verbose:\n",
    "#             self._log_info(trainer, reason)\n",
    "\n",
    "#     def _evaluate_stopping_criteria(self, current: torch.Tensor) -> Tuple[bool, Optional[str]]:\n",
    "#         should_stop = False\n",
    "#         reason = None\n",
    "#         if self.check_finite and not torch.isfinite(current):\n",
    "#             should_stop = True\n",
    "#             reason = (\n",
    "#                 f\"Monitored metric {self.monitor} = {current} is not finite.\"\n",
    "#                 f\" Previous best value was {self.best_score:.3f}. Signaling Trainer to stop.\"\n",
    "#             )\n",
    "#         elif self.stopping_threshold is not None and self.monitor_op(current, self.stopping_threshold):\n",
    "#             should_stop = True\n",
    "#             reason = (\n",
    "#                 \"Stopping threshold reached:\"\n",
    "#                 f\" {self.monitor} = {current} {self.order_dict[self.mode]} {self.stopping_threshold}.\"\n",
    "#                 \" Signaling Trainer to stop.\"\n",
    "#             )\n",
    "#         elif self.divergence_threshold is not None and self.monitor_op(-current, -self.divergence_threshold):\n",
    "#             should_stop = True\n",
    "#             reason = (\n",
    "#                 \"Divergence threshold reached:\"\n",
    "#                 f\" {self.monitor} = {current} {self.order_dict[self.mode]} {self.divergence_threshold}.\"\n",
    "#                 \" Signaling Trainer to stop.\"\n",
    "#             )\n",
    "#         elif self.monitor_op(current - self.min_delta, self.best_score.to(current.device)):\n",
    "#             should_stop = False\n",
    "#             reason = self._improvement_message(current)\n",
    "#             self.best_score = current\n",
    "#             self.wait_count = 0\n",
    "#         else:\n",
    "#             self.wait_count += 1\n",
    "#             if self.wait_count >= self.patience:\n",
    "#                 should_stop = True\n",
    "#                 reason = (\n",
    "#                     f\"Monitored metric {self.monitor} did not improve in the last {self.wait_count} records.\"\n",
    "#                     f\" Best score: {self.best_score:.3f}. Signaling Trainer to stop.\"\n",
    "#                 )\n",
    "\n",
    "#         return should_stop, reason"
   ]
  },
  {
   "cell_type": "raw",
   "metadata": {
    "heading_collapsed": "true",
    "tags": []
   },
   "source": [
    "### Creating Model"
   ]
  },
  {
   "cell_type": "code",
   "execution_count": 11,
   "metadata": {},
   "outputs": [],
   "source": [
    "from typing import *\n",
    "class TestLightningClassifier(LightningClassifier):\n",
    "    \n",
    "    def __init__(self,\n",
    "                 backbone_name='resnet50',\n",
    "                 pretrained: Union[bool, str]=True,\n",
    "                 num_classes: int=1000,\n",
    "                 pool_size: int=1,\n",
    "                 pool_type: str='avg',\n",
    "                 head_type: str='linear',\n",
    "                 hidden_size: Optional[int]=512,\n",
    "                 lr: float=2e-03,\n",
    "                 backbone_lr_mult: bool=0.1,\n",
    "                 weight_decay: float=0.01,\n",
    "                 finetuning_strategy: str=\"finetuning_unfreeze_layers_on_plateau\", #\"feature_extractor\",\n",
    "                 seed: int=None,\n",
    "                 **kwargs):\n",
    "        \n",
    "        super().__init__(backbone_name=backbone_name,\n",
    "                         pretrained=pretrained,\n",
    "                         num_classes=num_classes,\n",
    "                         pool_size=pool_size,\n",
    "                         pool_type=pool_type,\n",
    "                         head_type=head_type,\n",
    "                         hidden_size=hidden_size,\n",
    "                         lr=lr,\n",
    "                         backbone_lr_mult=backbone_lr_mult,\n",
    "                         weight_decay=weight_decay,\n",
    "                         finetuning_strategy=finetuning_strategy,\n",
    "                         seed=seed,\n",
    "                        **kwargs)\n",
    "        self._verbose=True\n",
    "    \n",
    "    def print(self, *args):\n",
    "        if self._verbose:\n",
    "            print(*args)\n",
    "    \n",
    "    \n",
    "    def training_step(self, batch, batch_idx):\n",
    "#         self.print(f\"Before: self.training_step\")\n",
    "#         self.count_trainable_batchnorm_layers()\n",
    "        output = super().training_step(batch, batch_idx)\n",
    "        self.print(f\"During: self.training_step\")\n",
    "        self.count_trainable_batchnorm_layers()\n",
    "#         if self.eval_bn:\n",
    "#             if not self.freeze_bn:\n",
    "#                 self.unfreeze(self.model,\n",
    "#                               filter_pattern=\"bn\")\n",
    "\n",
    "#         self.print(f\"After: self.training_step\")\n",
    "#         self.count_trainable_batchnorm_layers()\n",
    "        self._verbose=False\n",
    "        return output\n",
    "    \n",
    "    def training_step_end(self, outputs): #batch, batch_idx):\n",
    "#         self.print(f\"Before: self.training_step_end\")\n",
    "#         self.count_trainable_batchnorm_layers()\n",
    "        output = super().training_step_end(outputs) #batch, batch_idx)\n",
    "#         self.print(f\"After: self.training_step_end\")\n",
    "#         self.count_trainable_batchnorm_layers()\n",
    "        \n",
    "#         return output\n",
    "    \n",
    "#     def training_epoch_end(self, outputs):\n",
    "#         self.print(f\"Before: self.training_epoch_end\")\n",
    "        self.count_trainable_batchnorm_layers()\n",
    "#         super().training_epoch_end(outputs)\n",
    "#         self.print(f\"After: self.training_epoch_end\")\n",
    "#         self.count_trainable_batchnorm_layers()\n",
    "#         self._verbose=False\n",
    "        \n",
    "    \n",
    "    \n",
    "    "
   ]
  },
  {
   "cell_type": "code",
   "execution_count": 12,
   "metadata": {},
   "outputs": [],
   "source": [
    "# source: https://uvadlc-notebooks.readthedocs.io/en/latest/tutorial_notebooks/tutorial5/Inception_ResNet_DenseNet.html\n",
    "from lightning_hydra_classifiers.callbacks.finetuning_callbacks import FinetuningLightningCallback\n",
    "\n",
    "\n",
    "def test_model_freeze_strategy(config, datamodule, **kwargs):\n",
    "    \"\"\"\n",
    "    Inputs:\n",
    "        model_name - Name of the model you want to run. Is used to look up the class in \"model_dict\"\n",
    "        save_name (optional) - If specified, this name will be used for creating the checkpoint and logging directory.\n",
    "    \"\"\"\n",
    "    \n",
    "    config.model.finetuning_strategy = \"finetuning_unfreeze_layers_on_plateau\"\n",
    "    \n",
    "    group=f'{config.model.backbone.backbone_name}_{config.data.experiment.experiment_name}'#_task_{task_id}'\n",
    "    config.logger.wandb.group = group\n",
    "    config.callbacks.log_per_class_metrics_to_wandb.class_names = datamodule.classes\n",
    "\n",
    "    callbacks = configure_callbacks(config)\n",
    "    \n",
    "    callbacks.append(FinetuningLightningCallback(monitor=\"val_loss\",\n",
    "                                                 mode=\"min\",\n",
    "                                                 patience=5))\n",
    "    logger = configure_loggers(config)\n",
    "    \n",
    "\n",
    "    # Create a PyTorch Lightning trainer with the generation callback\n",
    "    trainer = pl.Trainer(default_root_dir=config.checkpoint_dir, #config.experiment_dir,\n",
    "                         gpus=1,\n",
    "                         max_epochs=config.trainer.max_epochs,\n",
    "                         callbacks=callbacks,\n",
    "#                                     ModelCheckpoint(save_weights_only=True, mode=\"max\", monitor=\"val_acc\"),\n",
    "#                                     LearningRateMonitor(\"epoch\")],\n",
    "                         logger=logger,\n",
    "                         resume_from_checkpoint=config.trainer.resume_from_checkpoint,\n",
    "                         progress_bar_refresh_rate=1)\n",
    "    trainer.logger._log_graph = True         # If True, we plot the computation graph in tensorboard\n",
    "    trainer.logger._default_hp_metric = None # Optional logging argument that we don't need\n",
    "\n",
    "    # Check whether pretrained model exists. If yes, load it and skip training\n",
    "    pretrained_filename = config.trainer.resume_from_checkpoint #config.checkpoint_dir\n",
    "    if os.path.isfile(str(pretrained_filename)):\n",
    "        print(f\"Found pretrained model at {pretrained_filename}, loading...\")\n",
    "        model = TestLightningClassifier.load_from_checkpoint(pretrained_filename) # Automatically loads the model with the saved hyperparameters\n",
    "    else:\n",
    "        pl.seed_everything(config.model.seed)\n",
    "        model = TestLightningClassifier(**config.model, **kwargs)\n",
    "        model.label_encoder = datamodule.label_encoder\n",
    "        \n",
    "\n",
    "\n",
    "        if config.trainer.auto_lr_find:\n",
    "\n",
    "            lr_tune_output = lr_tuner.run_lr_tuner(trainer=trainer,\n",
    "                                                   model=model,\n",
    "                                                   datamodule=datamodule,\n",
    "                                                   config=config,\n",
    "                                                   results_dir=config.lr_tuner_dir,\n",
    "                                                   group=\"bn_eval_trials\")\n",
    "        \n",
    "        \n",
    "        \n",
    "        trainer.fit(model, datamodule=datamodule)\n",
    "        model = TestLightningClassifier.load_from_checkpoint(trainer.checkpoint_callback.best_model_path) # Load best checkpoint after training\n",
    "        print(f\"Best checkpoint saved to: {trainer.checkpoint_callback.best_model_path}\")\n",
    "\n",
    "    # Test best model on validation and test set\n",
    "    val_result = trainer.test(model, test_dataloaders=datamodule.val_dataloader(), verbose=False)\n",
    "    test_result = trainer.test(model, test_dataloaders=datamodule.test_dataloader(), verbose=False)\n",
    "    \n",
    "    try:\n",
    "        result = {\"test_acc\": test_result[0][\"test_acc\"], \"val_acc\": val_result[0][\"test_acc\"]}\n",
    "    except Exception as e:\n",
    "        print(e)\n",
    "        result = {\"test_acc\": test_result, \"val_acc\": val_result}\n",
    "        \n",
    "    result[\"ckpt_path\"] = trainer.checkpoint_callback.best_model_path\n",
    "\n",
    "    return model, result"
   ]
  },
  {
   "cell_type": "code",
   "execution_count": 13,
   "metadata": {},
   "outputs": [],
   "source": [
    "# from lightning_hydra_classifiers.scripts.multitask.train import MultiTaskDataModule, LitMultiTaskModule, ImagePredictionLogger, train_task,  CIFAR10DataModule, run_multitask_test, load_data_and_model, load_data, resolve_config, configure_callbacks, configure_loggers, configure_trainer\n",
    "\n",
    "# from lightning_hydra_classifiers.data.datasets.common import toPIL\n",
    "# from lightning_hydra_classifiers.utils.etl_utils import ETL\n",
    "# from omegaconf import OmegaConf\n",
    "\n",
    "\n",
    "def get_config_and_load_data(overrides = None,\n",
    "                             task_id: int = 1,\n",
    "                             pool_type='avgdrop',\n",
    "                             finetuning_strategy=\"feature_extractor_+_bn.eval()\",\n",
    "                             lr=2e-03,\n",
    "                             dropout_p: float=0.3,\n",
    "                             max_epochs: int=5):\n",
    "    overrides = overrides or []    \n",
    "    config = ETL.load_hydra_config(config_name = \"config\",\n",
    "                                   config_path = \"/media/data/jacob/GitHub/lightning-hydra-classifiers/configs\",\n",
    "                                   overrides=overrides)\n",
    "    OmegaConf.set_struct(config, False)\n",
    "    \n",
    "\n",
    "    datamodule = load_data(config,\n",
    "                           task_id=task_id)\n",
    "\n",
    "    model_config = OmegaConf.create(dict(\n",
    "                                    backbone={\"backbone_name\":config.model.backbone.backbone_name},\n",
    "                                    backbone_name=config.model.backbone.backbone_name,\n",
    "                                    pretrained=True,\n",
    "                                    num_classes=datamodule.num_classes,\n",
    "                                    pool_type=pool_type,\n",
    "                                    head_type='linear',\n",
    "                                    hidden_size=None,\n",
    "                                    dropout_p=dropout_p,\n",
    "                                    lr=2e-03,\n",
    "                                    backbone_lr_mult=0.1,\n",
    "                                    finetuning_strategy=finetuning_strategy,\n",
    "                                    weight_decay=0.01,\n",
    "                                    seed=98))\n",
    "    config.model = model_config\n",
    "#     config.trainer.max_epochs = max_epochs\n",
    "#     config.trainer.auto_lr_find = False\n",
    "    config.experiment_name = f\"{config.model.finetuning_strategy}-PNAS-{datamodule.num_classes}_classes-res_{config.data.image_size}-bsz_{config.data.batch_size}-{config.model.backbone_name}-pretrained_{config.model.pretrained}-pool_{config.model.pool_type}\"\n",
    "    \n",
    "    config.root_dir = os.path.join(os.getcwd(), \"bn_unit_test_logs\", config.model.pool_type)\n",
    "    config.lr_tuner_dir = os.path.join(config.results_dir, f\"task_{task_id}\", \"lr_tuner\")\n",
    "    \n",
    "    config = OmegaConf.create(OmegaConf.to_container(config, resolve=True))\n",
    "    \n",
    "    os.makedirs(config.results_dir, exist_ok=True)\n",
    "    os.makedirs(config.checkpoint_dir, exist_ok=True)\n",
    "    os.makedirs(config.lr_tuner_dir, exist_ok=True)\n",
    "    return config, datamodule\n",
    "\n",
    "\n",
    "# model = LightningClassifier(**config.model)\n",
    "# model = TestLightningClassifier(**config.model)\n",
    "# model.label_encoder = datamodule.label_encoder"
   ]
  },
  {
   "cell_type": "code",
   "execution_count": 22,
   "metadata": {},
   "outputs": [
    {
     "data": {
      "text/plain": [
       "{'path': '/media/data_cifs/projects/prj_fossils/data/processed_data/data_splits/PNAS_family_100_512/train/Melastomataceae/Melastomataceae_Miconia_aspergillaris_Klucking_04-057-05.jpg',\n",
       " 'catalog_number': 'Klucking_04-057-05'}"
      ]
     },
     "execution_count": 22,
     "metadata": {},
     "output_type": "execute_result"
    },
    {
     "data": {
      "text/html": [
       "<br/>Waiting for W&B process to finish, PID 4170<br/>Program ended successfully."
      ],
      "text/plain": [
       "<IPython.core.display.HTML object>"
      ]
     },
     "metadata": {},
     "output_type": "display_data"
    },
    {
     "data": {
      "application/vnd.jupyter.widget-view+json": {
       "model_id": "",
       "version_major": 2,
       "version_minor": 0
      },
      "text/plain": [
       "VBox(children=(Label(value=' 19.12MB of 19.12MB uploaded (0.00MB deduped)\\r'), FloatProgress(value=1.0, max=1.…"
      ]
     },
     "metadata": {},
     "output_type": "display_data"
    },
    {
     "data": {
      "text/html": [
       "Find user logs for this run at: <code>/media/data/jacob/GitHub/lightning-hydra-classifiers/notebooks/wandb/run-20211025_063051-3vpcag4j/logs/debug.log</code>"
      ],
      "text/plain": [
       "<IPython.core.display.HTML object>"
      ]
     },
     "metadata": {},
     "output_type": "display_data"
    },
    {
     "data": {
      "text/html": [
       "Find internal logs for this run at: <code>/media/data/jacob/GitHub/lightning-hydra-classifiers/notebooks/wandb/run-20211025_063051-3vpcag4j/logs/debug-internal.log</code>"
      ],
      "text/plain": [
       "<IPython.core.display.HTML object>"
      ]
     },
     "metadata": {},
     "output_type": "display_data"
    },
    {
     "data": {
      "text/html": [
       "<h3>Run summary:</h3><br/><style>\n",
       "    table.wandb td:nth-child(1) { padding: 0 10px; text-align: right }\n",
       "    </style><table class=\"wandb\">\n",
       "<tr><td>train_acc_step</td><td>0.57576</td></tr><tr><td>train_loss_step</td><td>1.73308</td></tr><tr><td>epoch</td><td>0</td></tr><tr><td>trainer/global_step</td><td>126</td></tr><tr><td>_runtime</td><td>199</td></tr><tr><td>_timestamp</td><td>1635158050</td></tr><tr><td>_step</td><td>38</td></tr><tr><td>val_acc_step</td><td>0.5</td></tr><tr><td>val_loss_step</td><td>0.81554</td></tr><tr><td>val_acc_epoch</td><td>0.47486</td></tr><tr><td>val_loss_epoch</td><td>1.10236</td></tr><tr><td>train_acc_epoch</td><td>0.29908</td></tr><tr><td>train_loss_epoch</td><td>1.86445</td></tr><tr><td>nontrainable_params</td><td>23454912.0</td></tr><tr><td>trainable_params</td><td>92051.0</td></tr><tr><td>test_acc</td><td>0.24481</td></tr><tr><td>test_loss</td><td>2.70842</td></tr></table>"
      ],
      "text/plain": [
       "<IPython.core.display.HTML object>"
      ]
     },
     "metadata": {},
     "output_type": "display_data"
    },
    {
     "data": {
      "text/html": [
       "<h3>Run history:</h3><br/><style>\n",
       "    table.wandb td:nth-child(1) { padding: 0 10px; text-align: right }\n",
       "    </style><table class=\"wandb\">\n",
       "<tr><td>train_acc_step</td><td>▁█</td></tr><tr><td>train_loss_step</td><td>▁█</td></tr><tr><td>epoch</td><td>▁▁▁▁▁▁▁▁▁▁▁▁▁▁▁▁▁▁▁▁▁▁▁▁▁▁▁▁▁▁▁▁▁▁▁▁▁▁▁</td></tr><tr><td>trainer/global_step</td><td>▄▇▁▁▁▁▁▁▁▁▁▁▂▂▂▂▂▂▂▂▂▂▂▂▂▂▂▂▂▃▃▃▃▃▃████</td></tr><tr><td>_runtime</td><td>▁▂▂▂▂▂▂▃▃▃▃▃▃▃▃▃▃▃▃▃▃▃▃▄▄▄▄▄▄▄▄▄▄▄▄▆▆▇█</td></tr><tr><td>_timestamp</td><td>▁▂▂▂▂▂▂▃▃▃▃▃▃▃▃▃▃▃▃▃▃▃▃▄▄▄▄▄▄▄▄▄▄▄▄▆▆▇█</td></tr><tr><td>_step</td><td>▁▁▁▂▂▂▂▂▂▃▃▃▃▃▄▄▄▄▄▅▅▅▅▅▅▆▆▆▆▆▇▇▇▇▇▇███</td></tr><tr><td>val_acc_step</td><td>▇▅▆▃▃▃▁▁▃▄▆▄▆▃▃▄█▅▂▅▅▃▄▅▂▄▂▂▄▃▂▃</td></tr><tr><td>val_loss_step</td><td>▁▅▄▃▅▄▆▅▄▃▂▃▂▆▄▃▁▃▄▂▆▃▄▅▆▄▄▇▅█▆▃</td></tr><tr><td>val_acc_epoch</td><td>▁</td></tr><tr><td>val_loss_epoch</td><td>▁</td></tr><tr><td>train_acc_epoch</td><td>▁</td></tr><tr><td>train_loss_epoch</td><td>▁</td></tr><tr><td>nontrainable_params</td><td>▁</td></tr><tr><td>trainable_params</td><td>▁</td></tr><tr><td>test_acc</td><td>█▁</td></tr><tr><td>test_loss</td><td>▁█</td></tr></table><br/>"
      ],
      "text/plain": [
       "<IPython.core.display.HTML object>"
      ]
     },
     "metadata": {},
     "output_type": "display_data"
    },
    {
     "data": {
      "text/html": [
       "Synced 6 W&B file(s), 71 media file(s), 4 artifact file(s) and 0 other file(s)"
      ],
      "text/plain": [
       "<IPython.core.display.HTML object>"
      ]
     },
     "metadata": {},
     "output_type": "display_data"
    },
    {
     "data": {
      "text/html": [
       "\n",
       "                    <br/>Synced <strong style=\"color:#cdcd00\">golden-sun-4</strong>: <a href=\"https://wandb.ai/jrose/finetuning_on_plateau/runs/3vpcag4j\" target=\"_blank\">https://wandb.ai/jrose/finetuning_on_plateau/runs/3vpcag4j</a><br/>\n",
       "                "
      ],
      "text/plain": [
       "<IPython.core.display.HTML object>"
      ]
     },
     "metadata": {},
     "output_type": "display_data"
    }
   ],
   "source": [
    "# config, datamodule = get_config_and_load_data(overrides = None, task_id = 1, finetuning_strategy=\"finetuning_unfreeze_layers_on_plateau\")\n",
    "\n",
    "datamodule.train_dataset[3].metadata"
   ]
  },
  {
   "cell_type": "code",
   "execution_count": 18,
   "metadata": {
    "tags": []
   },
   "outputs": [
    {
     "name": "stdout",
     "output_type": "stream",
     "text": [
      "BEGINNING STRATEGY: finetuning_unfreeze_layers_on_plateau\n"
     ]
    },
    {
     "name": "stderr",
     "output_type": "stream",
     "text": [
      "/media/data/conda/jrose3/envs/sequoia/lib/python3.8/site-packages/hydra/experimental/initialize.py:98: UserWarning: hydra.experimental.initialize_config_dir() is no longer experimental. Use hydra.initialize_config_dir().\n",
      "  deprecation_warning(\n",
      "/media/data/conda/jrose3/envs/sequoia/lib/python3.8/site-packages/hydra/experimental/compose.py:18: UserWarning: hydra.experimental.compose() is no longer experimental. Use hydra.compose()\n",
      "  deprecation_warning(\n"
     ]
    },
    {
     "name": "stdout",
     "output_type": "stream",
     "text": [
      "task_0[train].eager_encode_targets = False\n",
      "task_0[val].eager_encode_targets = False\n"
     ]
    },
    {
     "name": "stderr",
     "output_type": "stream",
     "text": [
      "2021-10-25 06:30:03,961 lightning_hydra_classifiers.experiments.multitask.datamodules INFO     set_task(task_id=1)\n",
      "2021-10-25 06:30:03,964 lightning_hydra_classifiers.experiments.multitask.datamodules INFO     Task_1 (None): datamodule.setup(stage=fit)\n",
      "2021-10-25 06:30:03,965 lightning_hydra_classifiers.experiments.multitask.datamodules INFO     Task_1: datamodule.setup(stage=test)\n",
      "2021-10-25 06:30:04,105 lightning_hydra_classifiers.scripts.multitask.train INFO     Instantiating callback <pytorch_lightning.callbacks.early_stopping.EarlyStopping>\n",
      "2021-10-25 06:30:04,108 lightning_hydra_classifiers.scripts.multitask.train INFO     Instantiating callback <pytorch_lightning.callbacks.ModelCheckpoint>\n",
      "/media/data/conda/jrose3/envs/sequoia/lib/python3.8/site-packages/pytorch_lightning/callbacks/model_checkpoint.py:446: UserWarning: Checkpoint directory /media/data/jacob/GitHub/lightning-hydra-classifiers/notebooks/bn_unit_test_logs/avg/finetuning_unfreeze_layers_on_plateau-PNAS-19_classes-res_512-bsz_16-resnet50-pretrained_True-pool_avg/replicate_1/results/checkpoints/ exists and is not empty.\n",
      "  rank_zero_warn(f\"Checkpoint directory {dirpath} exists and is not empty.\")\n",
      "2021-10-25 06:30:04,112 lightning_hydra_classifiers.scripts.multitask.train INFO     Instantiating callback <lightning_hydra_classifiers.callbacks.wandb_callbacks.LogPerClassMetricsToWandb>\n",
      "2021-10-25 06:30:04,118 lightning_hydra_classifiers.scripts.multitask.train INFO     Instantiating callback <lightning_hydra_classifiers.utils.callback_utils.ImagePredictionLogger>\n",
      "2021-10-25 06:30:04,120 lightning_hydra_classifiers.scripts.multitask.train INFO     Instantiating callback <lightning_hydra_classifiers.callbacks.wandb_callbacks.WatchModelWithWandb>\n",
      "2021-10-25 06:30:04,122 lightning_hydra_classifiers.scripts.multitask.train INFO     Instantiating callback <pl_bolts.callbacks.ModuleDataMonitor>\n",
      "2021-10-25 06:30:04,123 lightning_hydra_classifiers.scripts.multitask.train INFO     Instantiating logger <pytorch_lightning.loggers.wandb.WandbLogger>\n",
      "2021-10-25 06:30:04,125 lightning_hydra_classifiers.scripts.multitask.train INFO     Instantiating logger <pytorch_lightning.loggers.csv_logs.CSVLogger>\n",
      "GPU available: True, used: True\n",
      "TPU available: False, using: 0 TPU cores\n",
      "IPU available: False, using: 0 IPUs\n",
      "Global seed set to 98\n",
      "Global seed set to 98\n"
     ]
    },
    {
     "name": "stdout",
     "output_type": "stream",
     "text": [
      "task_0[test].eager_encode_targets = False\n"
     ]
    },
    {
     "name": "stderr",
     "output_type": "stream",
     "text": [
      "2021-10-25 06:30:05,375 lightning_hydra_classifiers.scripts.pretrain.lr_tuner INFO     Proceeding with overrides merged with default parameters\n"
     ]
    },
    {
     "name": "stdout",
     "output_type": "stream",
     "text": [
      "Set current model training strategy to: finetuning_unfreeze_layers_on_plateau\n",
      "self.num_classes=19\n"
     ]
    },
    {
     "name": "stderr",
     "output_type": "stream",
     "text": [
      "\u001b[34m\u001b[1mwandb\u001b[0m: wandb version 0.12.5 is available!  To upgrade, please run:\n",
      "\u001b[34m\u001b[1mwandb\u001b[0m:  $ pip install wandb --upgrade\n"
     ]
    },
    {
     "data": {
      "text/html": [
       "\n",
       "                Tracking run with wandb version 0.10.26<br/>\n",
       "                Syncing run <strong style=\"color:#cdcd00\">fancy-feather-35</strong> to <a href=\"https://wandb.ai\" target=\"_blank\">Weights & Biases</a> <a href=\"https://docs.wandb.com/integrations/jupyter.html\" target=\"_blank\">(Documentation)</a>.<br/>\n",
       "                Project page: <a href=\"https://wandb.ai/jrose/default\" target=\"_blank\">https://wandb.ai/jrose/default</a><br/>\n",
       "                Run page: <a href=\"https://wandb.ai/jrose/default/runs/319fjmq5\" target=\"_blank\">https://wandb.ai/jrose/default/runs/319fjmq5</a><br/>\n",
       "                Run data is saved locally in <code>/media/data/jacob/GitHub/lightning-hydra-classifiers/notebooks/wandb/run-20211025_063005-319fjmq5</code><br/><br/>\n",
       "            "
      ],
      "text/plain": [
       "<IPython.core.display.HTML object>"
      ]
     },
     "metadata": {},
     "output_type": "display_data"
    },
    {
     "name": "stderr",
     "output_type": "stream",
     "text": [
      "2021-10-25 06:30:07,036 lightning_hydra_classifiers.scripts.pretrain.lr_tuner INFO     [Initiating Stage] lr_tuner\n",
      "2021-10-25 06:30:07,465 lightning_hydra_classifiers.experiments.multitask.datamodules INFO     Task_1 (None): datamodule.setup(stage=fit)\n",
      "LOCAL_RANK: 0 - CUDA_VISIBLE_DEVICES: [0,1,2,3,4,5,6,7]\n",
      "\n",
      "  | Name                    | Type             | Params\n",
      "-------------------------------------------------------------\n",
      "0 | model                   | Sequential       | 23.5 M\n",
      "1 | criterion               | CrossEntropyLoss | 0     \n",
      "2 | metrics_train           | MetricCollection | 0     \n",
      "3 | metrics_train_per_class | MetricCollection | 0     \n",
      "4 | metrics_val             | MetricCollection | 0     \n",
      "5 | metrics_val_per_class   | MetricCollection | 0     \n",
      "6 | metrics_test            | MetricCollection | 0     \n",
      "7 | metrics_test_per_class  | MetricCollection | 0     \n",
      "-------------------------------------------------------------\n",
      "92.1 K    Trainable params\n",
      "23.5 M    Non-trainable params\n",
      "23.5 M    Total params\n",
      "94.188    Total estimated model params size (MB)\n"
     ]
    },
    {
     "name": "stdout",
     "output_type": "stream",
     "text": [
      "self.hparams=\"backbone\":            {'backbone_name': 'resnet50'}\n",
      "\"backbone_lr_mult\":    0.1\n",
      "\"backbone_name\":       resnet50\n",
      "\"dropout_p\":           0.3\n",
      "\"finetuning_strategy\": finetuning_unfreeze_layers_on_plateau\n",
      "\"head_type\":           linear\n",
      "\"hidden_size\":         None\n",
      "\"lr\":                  0.002\n",
      "\"num_classes\":         19\n",
      "\"pool_size\":           1\n",
      "\"pool_type\":           avg\n",
      "\"pretrained\":          True\n",
      "\"seed\":                98\n",
      "\"weight_decay\":        0.01\n"
     ]
    },
    {
     "name": "stderr",
     "output_type": "stream",
     "text": [
      "Global seed set to 98\n"
     ]
    },
    {
     "name": "stdout",
     "output_type": "stream",
     "text": [
      "Set current model training strategy to: finetuning_unfreeze_layers_on_plateau\n"
     ]
    },
    {
     "data": {
      "application/vnd.jupyter.widget-view+json": {
       "model_id": "dfbdf0b9ac6444208a87da28b686c0c8",
       "version_major": 2,
       "version_minor": 0
      },
      "text/plain": [
       "Finding best initial lr:   0%|          | 0/100 [00:00<?, ?it/s]"
      ]
     },
     "metadata": {},
     "output_type": "display_data"
    },
    {
     "name": "stdout",
     "output_type": "stream",
     "text": [
      "During: self.training_step\n",
      "layer.training-> Use batch statistics\n",
      "layer.training-> Use running statistics\n",
      "is_training (layer.training==True):\n"
     ]
    },
    {
     "data": {
      "text/html": [
       "<pre style=\"white-space:pre;overflow-x:auto;line-height:normal;font-family:Menlo,'DejaVu Sans Mono',consolas,'Courier New',monospace\"><span style=\"font-weight: bold\">{</span><span style=\"color: #008000; text-decoration-color: #008000\">'True'</span>: <span style=\"color: #008080; text-decoration-color: #008080; font-weight: bold\">53</span>, <span style=\"color: #008000; text-decoration-color: #008000\">'False'</span>: <span style=\"color: #008080; text-decoration-color: #008080; font-weight: bold\">0</span>, <span style=\"color: #008000; text-decoration-color: #008000\">'Total'</span>: <span style=\"color: #008080; text-decoration-color: #008080; font-weight: bold\">53</span><span style=\"font-weight: bold\">}</span>\n",
       "</pre>\n"
      ],
      "text/plain": [
       "\u001b[1m{\u001b[0m\u001b[32m'True'\u001b[0m: \u001b[1;36m53\u001b[0m, \u001b[32m'False'\u001b[0m: \u001b[1;36m0\u001b[0m, \u001b[32m'Total'\u001b[0m: \u001b[1;36m53\u001b[0m\u001b[1m}\u001b[0m\n"
      ]
     },
     "metadata": {},
     "output_type": "display_data"
    },
    {
     "name": "stdout",
     "output_type": "stream",
     "text": [
      "requires_grad (layer.requires_grad==True):\n"
     ]
    },
    {
     "data": {
      "text/html": [
       "<pre style=\"white-space:pre;overflow-x:auto;line-height:normal;font-family:Menlo,'DejaVu Sans Mono',consolas,'Courier New',monospace\"><span style=\"font-weight: bold\">{</span><span style=\"color: #008000; text-decoration-color: #008000\">'True'</span>: <span style=\"color: #008080; text-decoration-color: #008080; font-weight: bold\">53</span>, <span style=\"color: #008000; text-decoration-color: #008000\">'False'</span>: <span style=\"color: #008080; text-decoration-color: #008080; font-weight: bold\">0</span>, <span style=\"color: #008000; text-decoration-color: #008000\">'Total'</span>: <span style=\"color: #008080; text-decoration-color: #008080; font-weight: bold\">53</span><span style=\"font-weight: bold\">}</span>\n",
       "</pre>\n"
      ],
      "text/plain": [
       "\u001b[1m{\u001b[0m\u001b[32m'True'\u001b[0m: \u001b[1;36m53\u001b[0m, \u001b[32m'False'\u001b[0m: \u001b[1;36m0\u001b[0m, \u001b[32m'Total'\u001b[0m: \u001b[1;36m53\u001b[0m\u001b[1m}\u001b[0m\n"
      ]
     },
     "metadata": {},
     "output_type": "display_data"
    },
    {
     "name": "stderr",
     "output_type": "stream",
     "text": [
      "Restoring states from the checkpoint file at /media/data/jacob/GitHub/lightning-hydra-classifiers/notebooks/bn_unit_test_logs/avg/finetuning_unfreeze_layers_on_plateau-PNAS-19_classes-res_512-bsz_16-resnet50-pretrained_True-pool_avg/replicate_1/results/checkpoints/lr_find_temp_model.ckpt\n",
      "Restored all states from the checkpoint file at /media/data/jacob/GitHub/lightning-hydra-classifiers/notebooks/bn_unit_test_logs/avg/finetuning_unfreeze_layers_on_plateau-PNAS-19_classes-res_512-bsz_16-resnet50-pretrained_True-pool_avg/replicate_1/results/checkpoints/lr_find_temp_model.ckpt\n",
      "2021-10-25 06:30:47,204 lightning_hydra_classifiers.scripts.pretrain.lr_tuner INFO     Saved best lr value (along w/ batch_size, image_size) to file located at: /media/data/jacob/GitHub/lightning-hydra-classifiers/notebooks/bn_unit_test_logs/avg/finetuning_unfreeze_layers_on_plateau-PNAS-19_classes-res_512-bsz_16-resnet50-pretrained_True-pool_avg/replicate_1/results/task_1/lr_tuner/hparams.yaml\n",
      "2021-10-25 06:30:47,207 lightning_hydra_classifiers.scripts.pretrain.lr_tuner INFO     File contents expected to contain: \n",
      "{'optimized_hparam_key': 'lr', 'lr': 0.025118864315095822, 'batch_size': 16, 'image_size': 512, 'lr_tuner_config': {'min_lr': 1e-08, 'max_lr': 1, 'num_training': 100, 'mode': 'exponential', 'early_stop_threshold': 4.0}}\n"
     ]
    },
    {
     "data": {
      "text/html": [
       "<br/>Waiting for W&B process to finish, PID 3654<br/>Program ended successfully."
      ],
      "text/plain": [
       "<IPython.core.display.HTML object>"
      ]
     },
     "metadata": {},
     "output_type": "display_data"
    },
    {
     "data": {
      "application/vnd.jupyter.widget-view+json": {
       "model_id": "",
       "version_major": 2,
       "version_minor": 0
      },
      "text/plain": [
       "VBox(children=(Label(value=' 0.89MB of 0.89MB uploaded (0.00MB deduped)\\r'), FloatProgress(value=1.0, max=1.0)…"
      ]
     },
     "metadata": {},
     "output_type": "display_data"
    },
    {
     "data": {
      "text/html": [
       "Find user logs for this run at: <code>/media/data/jacob/GitHub/lightning-hydra-classifiers/notebooks/wandb/run-20211025_063005-319fjmq5/logs/debug.log</code>"
      ],
      "text/plain": [
       "<IPython.core.display.HTML object>"
      ]
     },
     "metadata": {},
     "output_type": "display_data"
    },
    {
     "data": {
      "text/html": [
       "Find internal logs for this run at: <code>/media/data/jacob/GitHub/lightning-hydra-classifiers/notebooks/wandb/run-20211025_063005-319fjmq5/logs/debug-internal.log</code>"
      ],
      "text/plain": [
       "<IPython.core.display.HTML object>"
      ]
     },
     "metadata": {},
     "output_type": "display_data"
    },
    {
     "data": {
      "text/html": [
       "<h3>Run summary:</h3><br/><style>\n",
       "    table.wandb td:nth-child(1) { padding: 0 10px; text-align: right }\n",
       "    </style><table class=\"wandb\">\n",
       "<tr><td>_runtime</td><td>42</td></tr><tr><td>_timestamp</td><td>1635157847</td></tr><tr><td>_step</td><td>6</td></tr><tr><td>lr_finder/best/loss</td><td>2.69714</td></tr><tr><td>lr_finder/best/lr</td><td>0.02512</td></tr><tr><td>lr_finder/batch_size</td><td>16</td></tr><tr><td>image_size</td><td>512</td></tr></table>"
      ],
      "text/plain": [
       "<IPython.core.display.HTML object>"
      ]
     },
     "metadata": {},
     "output_type": "display_data"
    },
    {
     "data": {
      "text/html": [
       "<h3>Run history:</h3><br/><style>\n",
       "    table.wandb td:nth-child(1) { padding: 0 10px; text-align: right }\n",
       "    </style><table class=\"wandb\">\n",
       "<tr><td>_runtime</td><td>▁▁▁▁▁▁▁</td></tr><tr><td>_timestamp</td><td>▁▁▁▁▁▁▁</td></tr><tr><td>_step</td><td>▁▂▃▅▆▇█</td></tr><tr><td>lr_finder/best/loss</td><td>▁</td></tr><tr><td>lr_finder/best/lr</td><td>▁</td></tr><tr><td>lr_finder/batch_size</td><td>▁</td></tr><tr><td>image_size</td><td>▁</td></tr></table><br/>"
      ],
      "text/plain": [
       "<IPython.core.display.HTML object>"
      ]
     },
     "metadata": {},
     "output_type": "display_data"
    },
    {
     "data": {
      "text/html": [
       "Synced 6 W&B file(s), 2 media file(s), 1 artifact file(s) and 1 other file(s)"
      ],
      "text/plain": [
       "<IPython.core.display.HTML object>"
      ]
     },
     "metadata": {},
     "output_type": "display_data"
    },
    {
     "data": {
      "text/html": [
       "\n",
       "                    <br/>Synced <strong style=\"color:#cdcd00\">fancy-feather-35</strong>: <a href=\"https://wandb.ai/jrose/default/runs/319fjmq5\" target=\"_blank\">https://wandb.ai/jrose/default/runs/319fjmq5</a><br/>\n",
       "                "
      ],
      "text/plain": [
       "<IPython.core.display.HTML object>"
      ]
     },
     "metadata": {},
     "output_type": "display_data"
    },
    {
     "name": "stderr",
     "output_type": "stream",
     "text": [
      "2021-10-25 06:30:51,590 lightning_hydra_classifiers.scripts.pretrain.lr_tuner INFO     FINISHED: `run_lr_tuner(config)`\n",
      "2021-10-25 06:30:51,591 lightning_hydra_classifiers.scripts.pretrain.lr_tuner INFO     Proceeding with:\n",
      "\n",
      "2021-10-25 06:30:51,592 lightning_hydra_classifiers.scripts.pretrain.lr_tuner INFO     Learning rate = 2.512e-02\n",
      "2021-10-25 06:30:51,593 lightning_hydra_classifiers.scripts.pretrain.lr_tuner INFO     Batch size = 16\n",
      "/media/data/conda/jrose3/envs/sequoia/lib/python3.8/site-packages/pytorch_lightning/core/datamodule.py:423: LightningDeprecationWarning: DataModule.prepare_data has already been called, so it will not be called again. In v1.6 this behavior will change to always call DataModule.prepare_data.\n",
      "  rank_zero_deprecation(\n",
      "2021-10-25 06:30:51,598 lightning_hydra_classifiers.experiments.multitask.datamodules INFO     Task_1 (None): datamodule.setup(stage=fit)\n",
      "LOCAL_RANK: 0 - CUDA_VISIBLE_DEVICES: [0,1,2,3,4,5,6,7]\n"
     ]
    },
    {
     "name": "stdout",
     "output_type": "stream",
     "text": [
      "self.hparams=\"backbone\":            {'backbone_name': 'resnet50'}\n",
      "\"backbone_lr_mult\":    0.1\n",
      "\"backbone_name\":       resnet50\n",
      "\"dropout_p\":           0.3\n",
      "\"finetuning_strategy\": finetuning_unfreeze_layers_on_plateau\n",
      "\"head_type\":           linear\n",
      "\"hidden_size\":         None\n",
      "\"lr\":                  0.025118864315095822\n",
      "\"num_classes\":         19\n",
      "\"pool_size\":           1\n",
      "\"pool_type\":           avg\n",
      "\"pretrained\":          True\n",
      "\"seed\":                98\n",
      "\"weight_decay\":        0.01\n",
      "Setting milestones: ['layer4', 'layer3', 'layer2', 'layer1']\n"
     ]
    },
    {
     "name": "stderr",
     "output_type": "stream",
     "text": [
      "\u001b[34m\u001b[1mwandb\u001b[0m: wandb version 0.12.5 is available!  To upgrade, please run:\n",
      "\u001b[34m\u001b[1mwandb\u001b[0m:  $ pip install wandb --upgrade\n"
     ]
    },
    {
     "data": {
      "text/html": [
       "\n",
       "                Tracking run with wandb version 0.10.26<br/>\n",
       "                Syncing run <strong style=\"color:#cdcd00\">golden-sun-4</strong> to <a href=\"https://wandb.ai\" target=\"_blank\">Weights & Biases</a> <a href=\"https://docs.wandb.com/integrations/jupyter.html\" target=\"_blank\">(Documentation)</a>.<br/>\n",
       "                Project page: <a href=\"https://wandb.ai/jrose/finetuning_on_plateau\" target=\"_blank\">https://wandb.ai/jrose/finetuning_on_plateau</a><br/>\n",
       "                Run page: <a href=\"https://wandb.ai/jrose/finetuning_on_plateau/runs/3vpcag4j\" target=\"_blank\">https://wandb.ai/jrose/finetuning_on_plateau/runs/3vpcag4j</a><br/>\n",
       "                Run data is saved locally in <code>/media/data/jacob/GitHub/lightning-hydra-classifiers/notebooks/wandb/run-20211025_063051-3vpcag4j</code><br/><br/>\n",
       "            "
      ],
      "text/plain": [
       "<IPython.core.display.HTML object>"
      ]
     },
     "metadata": {},
     "output_type": "display_data"
    },
    {
     "name": "stderr",
     "output_type": "stream",
     "text": [
      "\n",
      "  | Name                    | Type             | Params\n",
      "-------------------------------------------------------------\n",
      "0 | model                   | Sequential       | 23.5 M\n",
      "1 | criterion               | CrossEntropyLoss | 0     \n",
      "2 | metrics_train           | MetricCollection | 0     \n",
      "3 | metrics_train_per_class | MetricCollection | 0     \n",
      "4 | metrics_val             | MetricCollection | 0     \n",
      "5 | metrics_val_per_class   | MetricCollection | 0     \n",
      "6 | metrics_test            | MetricCollection | 0     \n",
      "7 | metrics_test_per_class  | MetricCollection | 0     \n",
      "-------------------------------------------------------------\n",
      "92.1 K    Trainable params\n",
      "23.5 M    Non-trainable params\n",
      "23.5 M    Total params\n",
      "94.188    Total estimated model params size (MB)\n"
     ]
    },
    {
     "data": {
      "application/vnd.jupyter.widget-view+json": {
       "model_id": "",
       "version_major": 2,
       "version_minor": 0
      },
      "text/plain": [
       "Validation sanity check: 0it [00:00, ?it/s]"
      ]
     },
     "metadata": {},
     "output_type": "display_data"
    },
    {
     "name": "stderr",
     "output_type": "stream",
     "text": [
      "Global seed set to 98\n"
     ]
    },
    {
     "name": "stdout",
     "output_type": "stream",
     "text": [
      "Set current model training strategy to: finetuning_unfreeze_layers_on_plateau\n"
     ]
    },
    {
     "name": "stderr",
     "output_type": "stream",
     "text": [
      "/media/data/conda/jrose3/envs/sequoia/lib/python3.8/site-packages/pl_bolts/callbacks/data_monitor.py:104: UserWarning: ModuleDataMonitor does not support logging with LoggerCollection. Supported loggers are: TensorBoardLogger, WandbLogger\n",
      "  rank_zero_warn(\n"
     ]
    },
    {
     "data": {
      "application/vnd.jupyter.widget-view+json": {
       "model_id": "11c7eb68cc37476f990d2548e4a64773",
       "version_major": 2,
       "version_minor": 0
      },
      "text/plain": [
       "Training: 99it [00:00, ?it/s]"
      ]
     },
     "metadata": {},
     "output_type": "display_data"
    },
    {
     "data": {
      "application/vnd.jupyter.widget-view+json": {
       "model_id": "",
       "version_major": 2,
       "version_minor": 0
      },
      "text/plain": [
       "Validating: 0it [00:00, ?it/s]"
      ]
     },
     "metadata": {},
     "output_type": "display_data"
    },
    {
     "name": "stderr",
     "output_type": "stream",
     "text": [
      "/media/data/conda/jrose3/envs/sequoia/lib/python3.8/site-packages/sklearn/metrics/_classification.py:1245: UndefinedMetricWarning: Recall is ill-defined and being set to 0.0 in labels with no true samples. Use `zero_division` parameter to control this behavior.\n",
      "  _warn_prf(average, modifier, msg_start, len(result))\n"
     ]
    },
    {
     "name": "stdout",
     "output_type": "stream",
     "text": [
      "val/confusion_matrix/golden-sun-4\n"
     ]
    },
    {
     "name": "stderr",
     "output_type": "stream",
     "text": [
      "Metric val_acc improved. New best score: 0.475\n",
      "Epoch 0, global step 125: val_acc reached 0.47486 (best 0.47486), saving model to \"/media/data/jacob/GitHub/lightning-hydra-classifiers/notebooks/bn_unit_test_logs/avg/finetuning_unfreeze_layers_on_plateau-PNAS-19_classes-res_512-bsz_16-resnet50-pretrained_True-pool_avg/replicate_1/results/checkpoints/epoch=00-val_loss=1.102-val_acc=0.475.ckpt\" as top 2\n"
     ]
    },
    {
     "name": "stdout",
     "output_type": "stream",
     "text": [
      "Set current model training strategy to: finetuning_unfreeze_layers_on_plateau\n"
     ]
    },
    {
     "name": "stderr",
     "output_type": "stream",
     "text": [
      "Saving latest checkpoint...\n"
     ]
    },
    {
     "name": "stdout",
     "output_type": "stream",
     "text": [
      "New best score: val_loss=1.102356195449829.\n"
     ]
    },
    {
     "name": "stderr",
     "output_type": "stream",
     "text": [
      "/media/data/conda/jrose3/envs/sequoia/lib/python3.8/site-packages/pytorch_lightning/trainer/deprecated_api.py:32: LightningDeprecationWarning: `Trainer.train_loop` has been renamed to `Trainer.fit_loop` and will be removed in v1.6.\n",
      "  rank_zero_deprecation(\n",
      "/media/data/conda/jrose3/envs/sequoia/lib/python3.8/site-packages/pytorch_lightning/core/datamodule.py:423: LightningDeprecationWarning: DataModule.teardown has already been called, so it will not be called again. In v1.6 this behavior will change to always call DataModule.teardown.\n",
      "  rank_zero_deprecation(\n",
      "Global seed set to 98\n"
     ]
    },
    {
     "name": "stdout",
     "output_type": "stream",
     "text": [
      "Set current model training strategy to: finetuning_unfreeze_layers_on_plateau\n",
      "self.num_classes=19\n"
     ]
    },
    {
     "name": "stderr",
     "output_type": "stream",
     "text": [
      "/media/data/conda/jrose3/envs/sequoia/lib/python3.8/site-packages/pytorch_lightning/trainer/trainer.py:679: LightningDeprecationWarning: `trainer.test(test_dataloaders)` is deprecated in v1.4 and will be removed in v1.6. Use `trainer.test(dataloaders)` instead.\n",
      "  rank_zero_deprecation(\n",
      "/media/data/conda/jrose3/envs/sequoia/lib/python3.8/site-packages/pytorch_lightning/core/datamodule.py:423: LightningDeprecationWarning: DataModule.prepare_data has already been called, so it will not be called again. In v1.6 this behavior will change to always call DataModule.prepare_data.\n",
      "  rank_zero_deprecation(\n",
      "2021-10-25 06:33:33,779 lightning_hydra_classifiers.experiments.multitask.datamodules INFO     Task_1: datamodule.setup(stage=test)\n",
      "LOCAL_RANK: 0 - CUDA_VISIBLE_DEVICES: [0,1,2,3,4,5,6,7]\n"
     ]
    },
    {
     "name": "stdout",
     "output_type": "stream",
     "text": [
      "Best checkpoint saved to: /media/data/jacob/GitHub/lightning-hydra-classifiers/notebooks/bn_unit_test_logs/avg/finetuning_unfreeze_layers_on_plateau-PNAS-19_classes-res_512-bsz_16-resnet50-pretrained_True-pool_avg/replicate_1/results/checkpoints/epoch=00-val_loss=1.102-val_acc=0.475.ckpt\n"
     ]
    },
    {
     "data": {
      "application/vnd.jupyter.widget-view+json": {
       "model_id": "cdbd5e1b13964f44bd36af45e48cb2c1",
       "version_major": 2,
       "version_minor": 0
      },
      "text/plain": [
       "Testing: 0it [00:00, ?it/s]"
      ]
     },
     "metadata": {},
     "output_type": "display_data"
    },
    {
     "name": "stderr",
     "output_type": "stream",
     "text": [
      "2021-10-25 06:33:40,222 lightning_hydra_classifiers.experiments.multitask.datamodules INFO     Task_1: datamodule.setup(stage=test)\n",
      "LOCAL_RANK: 0 - CUDA_VISIBLE_DEVICES: [0,1,2,3,4,5,6,7]\n"
     ]
    },
    {
     "data": {
      "application/vnd.jupyter.widget-view+json": {
       "model_id": "d4c5f58ccc7c4fb6b2aef27fa01629aa",
       "version_major": 2,
       "version_minor": 0
      },
      "text/plain": [
       "Testing: 0it [00:00, ?it/s]"
      ]
     },
     "metadata": {},
     "output_type": "display_data"
    },
    {
     "name": "stdout",
     "output_type": "stream",
     "text": [
      "[SAVED TRIAL RESULTS] Location: /media/data/jacob/GitHub/lightning-hydra-classifiers/notebooks/bn_unit_test_logs/avg/finetuning_unfreeze_layers_on_plateau-PNAS-19_classes-res_512-bsz_16-resnet50-pretrained_True-pool_avg/replicate_1/results/results.yaml\n"
     ]
    },
    {
     "data": {
      "text/html": [
       "<pre style=\"white-space:pre;overflow-x:auto;line-height:normal;font-family:Menlo,'DejaVu Sans Mono',consolas,'Courier New',monospace\"><span style=\"font-weight: bold\">{</span>\n",
       "    <span style=\"color: #008000; text-decoration-color: #008000\">'test_acc'</span>: <span style=\"color: #008080; text-decoration-color: #008080; font-weight: bold\">0.24480852484703064</span>,\n",
       "    <span style=\"color: #008000; text-decoration-color: #008000\">'val_acc'</span>: <span style=\"color: #008080; text-decoration-color: #008080; font-weight: bold\">0.47486215829849243</span>,\n",
       "    <span style=\"color: #008000; text-decoration-color: #008000\">'ckpt_path'</span>: <span style=\"color: #008000; text-decoration-color: #008000\">'/media/data/jacob/GitHub/lightning-hydra-classifiers/notebooks/bn_unit_test</span>\n",
       "<span style=\"color: #008000; text-decoration-color: #008000\">_logs/avg/finetuning_unfreeze_layers_on_plateau-PNAS-19_classes-res_512-bsz_16-resnet50-pretr</span>\n",
       "<span style=\"color: #008000; text-decoration-color: #008000\">ained_True-pool_avg/replicate_1/results/checkpoints/epoch=00-val_loss=1.102-val_acc=0.475.ckp</span>\n",
       "<span style=\"color: #008000; text-decoration-color: #008000\">t'</span>,\n",
       "    <span style=\"color: #008000; text-decoration-color: #008000\">'model_config'</span>: <span style=\"font-weight: bold\">{</span>\n",
       "        <span style=\"color: #008000; text-decoration-color: #008000\">'backbone'</span>: <span style=\"font-weight: bold\">{</span><span style=\"color: #008000; text-decoration-color: #008000\">'backbone_name'</span>: <span style=\"color: #008000; text-decoration-color: #008000\">'resnet50'</span><span style=\"font-weight: bold\">}</span>,\n",
       "        <span style=\"color: #008000; text-decoration-color: #008000\">'backbone_name'</span>: <span style=\"color: #008000; text-decoration-color: #008000\">'resnet50'</span>,\n",
       "        <span style=\"color: #008000; text-decoration-color: #008000\">'pretrained'</span>: <span style=\"color: #00ff00; text-decoration-color: #00ff00; font-style: italic\">True</span>,\n",
       "        <span style=\"color: #008000; text-decoration-color: #008000\">'num_classes'</span>: <span style=\"color: #008080; text-decoration-color: #008080; font-weight: bold\">19</span>,\n",
       "        <span style=\"color: #008000; text-decoration-color: #008000\">'pool_type'</span>: <span style=\"color: #008000; text-decoration-color: #008000\">'avg'</span>,\n",
       "        <span style=\"color: #008000; text-decoration-color: #008000\">'head_type'</span>: <span style=\"color: #008000; text-decoration-color: #008000\">'linear'</span>,\n",
       "        <span style=\"color: #008000; text-decoration-color: #008000\">'hidden_size'</span>: <span style=\"color: #800080; text-decoration-color: #800080; font-style: italic\">None</span>,\n",
       "        <span style=\"color: #008000; text-decoration-color: #008000\">'dropout_p'</span>: <span style=\"color: #008080; text-decoration-color: #008080; font-weight: bold\">0.3</span>,\n",
       "        <span style=\"color: #008000; text-decoration-color: #008000\">'lr'</span>: <span style=\"color: #008080; text-decoration-color: #008080; font-weight: bold\">0.025118864315095822</span>,\n",
       "        <span style=\"color: #008000; text-decoration-color: #008000\">'backbone_lr_mult'</span>: <span style=\"color: #008080; text-decoration-color: #008080; font-weight: bold\">0.1</span>,\n",
       "        <span style=\"color: #008000; text-decoration-color: #008000\">'finetuning_strategy'</span>: <span style=\"color: #008000; text-decoration-color: #008000\">'finetuning_unfreeze_layers_on_plateau'</span>,\n",
       "        <span style=\"color: #008000; text-decoration-color: #008000\">'weight_decay'</span>: <span style=\"color: #008080; text-decoration-color: #008080; font-weight: bold\">0.01</span>,\n",
       "        <span style=\"color: #008000; text-decoration-color: #008000\">'seed'</span>: <span style=\"color: #008080; text-decoration-color: #008080; font-weight: bold\">98</span>\n",
       "    <span style=\"font-weight: bold\">}</span>,\n",
       "    <span style=\"color: #008000; text-decoration-color: #008000\">'data_config'</span>: <span style=\"font-weight: bold\">{</span>\n",
       "        <span style=\"color: #008000; text-decoration-color: #008000\">'_target_'</span>: \n",
       "<span style=\"color: #008000; text-decoration-color: #008000\">'lightning_hydra_classifiers.experiments.multitask.datamodules.MultiTaskDataModule'</span>,\n",
       "        <span style=\"color: #008000; text-decoration-color: #008000\">'image_size'</span>: <span style=\"color: #008080; text-decoration-color: #008080; font-weight: bold\">512</span>,\n",
       "        <span style=\"color: #008000; text-decoration-color: #008000\">'image_buffer_size'</span>: <span style=\"color: #008080; text-decoration-color: #008080; font-weight: bold\">32</span>,\n",
       "        <span style=\"color: #008000; text-decoration-color: #008000\">'batch_size'</span>: <span style=\"color: #008080; text-decoration-color: #008080; font-weight: bold\">16</span>,\n",
       "        <span style=\"color: #008000; text-decoration-color: #008000\">'num_workers'</span>: <span style=\"color: #008080; text-decoration-color: #008080; font-weight: bold\">4</span>,\n",
       "        <span style=\"color: #008000; text-decoration-color: #008000\">'pin_memory'</span>: <span style=\"color: #00ff00; text-decoration-color: #00ff00; font-style: italic\">True</span>,\n",
       "        <span style=\"color: #008000; text-decoration-color: #008000\">'dataset_name'</span>: <span style=\"color: #008000; text-decoration-color: #008000\">'Extant-PNAS_to_PNAS'</span>,\n",
       "        <span style=\"color: #008000; text-decoration-color: #008000\">'experiment'</span>: <span style=\"font-weight: bold\">{</span>\n",
       "            <span style=\"color: #008000; text-decoration-color: #008000\">'source_root_dir'</span>: <span style=\"color: #008000; text-decoration-color: #008000\">'/media/data_cifs/projects/prj_fossils/users/jacob/experiments</span>\n",
       "<span style=\"color: #008000; text-decoration-color: #008000\">/July2021-Nov2021/csv_datasets/leavesdb-v1_0'</span>,\n",
       "            <span style=\"color: #008000; text-decoration-color: #008000\">'experiment_root_dir'</span>: <span style=\"color: #008000; text-decoration-color: #008000\">'/media/data_cifs/projects/prj_fossils/users/jacob/experim</span>\n",
       "<span style=\"color: #008000; text-decoration-color: #008000\">ents/July2021-Nov2021/csv_datasets/experimental_datasets'</span>,\n",
       "            <span style=\"color: #008000; text-decoration-color: #008000\">'experiment_name'</span>: <span style=\"color: #008000; text-decoration-color: #008000\">'Extant-to-PNAS-512-transfer_benchmark'</span>,\n",
       "            <span style=\"color: #008000; text-decoration-color: #008000\">'seed'</span>: <span style=\"color: #008080; text-decoration-color: #008080; font-weight: bold\">96857</span>,\n",
       "            <span style=\"color: #008000; text-decoration-color: #008000\">'task_0'</span>: <span style=\"font-weight: bold\">{</span>\n",
       "                <span style=\"color: #008000; text-decoration-color: #008000\">'name'</span>: <span style=\"color: #008000; text-decoration-color: #008000\">'Extant_Leaves_family_10_512_minus_PNAS_family_100_512'</span>,\n",
       "                <span style=\"color: #008000; text-decoration-color: #008000\">'val_split'</span>: <span style=\"color: #008080; text-decoration-color: #008080; font-weight: bold\">0.2</span>,\n",
       "                <span style=\"color: #008000; text-decoration-color: #008000\">'test_split'</span>: <span style=\"color: #800080; text-decoration-color: #800080; font-style: italic\">None</span>\n",
       "            <span style=\"font-weight: bold\">}</span>,\n",
       "            <span style=\"color: #008000; text-decoration-color: #008000\">'task_1'</span>: <span style=\"font-weight: bold\">{</span>\n",
       "                <span style=\"color: #008000; text-decoration-color: #008000\">'name'</span>: <span style=\"color: #008000; text-decoration-color: #008000\">'PNAS_family_100_512_minus_Extant_Leaves_family_10_512'</span>,\n",
       "                <span style=\"color: #008000; text-decoration-color: #008000\">'val_split'</span>: <span style=\"color: #008080; text-decoration-color: #008080; font-weight: bold\">0.2</span>,\n",
       "                <span style=\"color: #008000; text-decoration-color: #008000\">'test_split'</span>: <span style=\"color: #800080; text-decoration-color: #800080; font-style: italic\">None</span>\n",
       "            <span style=\"font-weight: bold\">}</span>\n",
       "        <span style=\"font-weight: bold\">}</span>\n",
       "    <span style=\"font-weight: bold\">}</span>\n",
       "<span style=\"font-weight: bold\">}</span>\n",
       "</pre>\n"
      ],
      "text/plain": [
       "\u001b[1m{\u001b[0m\n",
       "    \u001b[32m'test_acc'\u001b[0m: \u001b[1;36m0.24480852484703064\u001b[0m,\n",
       "    \u001b[32m'val_acc'\u001b[0m: \u001b[1;36m0.47486215829849243\u001b[0m,\n",
       "    \u001b[32m'ckpt_path'\u001b[0m: \u001b[32m'/media/data/jacob/GitHub/lightning-hydra-classifiers/notebooks/bn_unit_test\u001b[0m\n",
       "\u001b[32m_logs/avg/finetuning_unfreeze_layers_on_plateau-PNAS-19_classes-res_512-bsz_16-resnet50-pretr\u001b[0m\n",
       "\u001b[32mained_True-pool_avg/replicate_1/results/checkpoints/\u001b[0m\u001b[32mepoch\u001b[0m\u001b[32m=\u001b[0m\u001b[32m00\u001b[0m\u001b[32m-\u001b[0m\u001b[32mval_loss\u001b[0m\u001b[32m=\u001b[0m\u001b[32m1\u001b[0m\u001b[32m.102-\u001b[0m\u001b[32mval_acc\u001b[0m\u001b[32m=\u001b[0m\u001b[32m0\u001b[0m\u001b[32m.475.ckp\u001b[0m\n",
       "\u001b[32mt'\u001b[0m,\n",
       "    \u001b[32m'model_config'\u001b[0m: \u001b[1m{\u001b[0m\n",
       "        \u001b[32m'backbone'\u001b[0m: \u001b[1m{\u001b[0m\u001b[32m'backbone_name'\u001b[0m: \u001b[32m'resnet50'\u001b[0m\u001b[1m}\u001b[0m,\n",
       "        \u001b[32m'backbone_name'\u001b[0m: \u001b[32m'resnet50'\u001b[0m,\n",
       "        \u001b[32m'pretrained'\u001b[0m: \u001b[3;92mTrue\u001b[0m,\n",
       "        \u001b[32m'num_classes'\u001b[0m: \u001b[1;36m19\u001b[0m,\n",
       "        \u001b[32m'pool_type'\u001b[0m: \u001b[32m'avg'\u001b[0m,\n",
       "        \u001b[32m'head_type'\u001b[0m: \u001b[32m'linear'\u001b[0m,\n",
       "        \u001b[32m'hidden_size'\u001b[0m: \u001b[3;35mNone\u001b[0m,\n",
       "        \u001b[32m'dropout_p'\u001b[0m: \u001b[1;36m0.3\u001b[0m,\n",
       "        \u001b[32m'lr'\u001b[0m: \u001b[1;36m0.025118864315095822\u001b[0m,\n",
       "        \u001b[32m'backbone_lr_mult'\u001b[0m: \u001b[1;36m0.1\u001b[0m,\n",
       "        \u001b[32m'finetuning_strategy'\u001b[0m: \u001b[32m'finetuning_unfreeze_layers_on_plateau'\u001b[0m,\n",
       "        \u001b[32m'weight_decay'\u001b[0m: \u001b[1;36m0.01\u001b[0m,\n",
       "        \u001b[32m'seed'\u001b[0m: \u001b[1;36m98\u001b[0m\n",
       "    \u001b[1m}\u001b[0m,\n",
       "    \u001b[32m'data_config'\u001b[0m: \u001b[1m{\u001b[0m\n",
       "        \u001b[32m'_target_'\u001b[0m: \n",
       "\u001b[32m'lightning_hydra_classifiers.experiments.multitask.datamodules.MultiTaskDataModule'\u001b[0m,\n",
       "        \u001b[32m'image_size'\u001b[0m: \u001b[1;36m512\u001b[0m,\n",
       "        \u001b[32m'image_buffer_size'\u001b[0m: \u001b[1;36m32\u001b[0m,\n",
       "        \u001b[32m'batch_size'\u001b[0m: \u001b[1;36m16\u001b[0m,\n",
       "        \u001b[32m'num_workers'\u001b[0m: \u001b[1;36m4\u001b[0m,\n",
       "        \u001b[32m'pin_memory'\u001b[0m: \u001b[3;92mTrue\u001b[0m,\n",
       "        \u001b[32m'dataset_name'\u001b[0m: \u001b[32m'Extant-PNAS_to_PNAS'\u001b[0m,\n",
       "        \u001b[32m'experiment'\u001b[0m: \u001b[1m{\u001b[0m\n",
       "            \u001b[32m'source_root_dir'\u001b[0m: \u001b[32m'/media/data_cifs/projects/prj_fossils/users/jacob/experiments\u001b[0m\n",
       "\u001b[32m/July2021-Nov2021/csv_datasets/leavesdb-v1_0'\u001b[0m,\n",
       "            \u001b[32m'experiment_root_dir'\u001b[0m: \u001b[32m'/media/data_cifs/projects/prj_fossils/users/jacob/experim\u001b[0m\n",
       "\u001b[32ments/July2021-Nov2021/csv_datasets/experimental_datasets'\u001b[0m,\n",
       "            \u001b[32m'experiment_name'\u001b[0m: \u001b[32m'Extant-to-PNAS-512-transfer_benchmark'\u001b[0m,\n",
       "            \u001b[32m'seed'\u001b[0m: \u001b[1;36m96857\u001b[0m,\n",
       "            \u001b[32m'task_0'\u001b[0m: \u001b[1m{\u001b[0m\n",
       "                \u001b[32m'name'\u001b[0m: \u001b[32m'Extant_Leaves_family_10_512_minus_PNAS_family_100_512'\u001b[0m,\n",
       "                \u001b[32m'val_split'\u001b[0m: \u001b[1;36m0.2\u001b[0m,\n",
       "                \u001b[32m'test_split'\u001b[0m: \u001b[3;35mNone\u001b[0m\n",
       "            \u001b[1m}\u001b[0m,\n",
       "            \u001b[32m'task_1'\u001b[0m: \u001b[1m{\u001b[0m\n",
       "                \u001b[32m'name'\u001b[0m: \u001b[32m'PNAS_family_100_512_minus_Extant_Leaves_family_10_512'\u001b[0m,\n",
       "                \u001b[32m'val_split'\u001b[0m: \u001b[1;36m0.2\u001b[0m,\n",
       "                \u001b[32m'test_split'\u001b[0m: \u001b[3;35mNone\u001b[0m\n",
       "            \u001b[1m}\u001b[0m\n",
       "        \u001b[1m}\u001b[0m\n",
       "    \u001b[1m}\u001b[0m\n",
       "\u001b[1m}\u001b[0m\n"
      ]
     },
     "metadata": {},
     "output_type": "display_data"
    },
    {
     "name": "stdout",
     "output_type": "stream",
     "text": [
      "ALL FINISHED!!! RESULTS:\n"
     ]
    },
    {
     "data": {
      "text/html": [
       "<pre style=\"white-space:pre;overflow-x:auto;line-height:normal;font-family:Menlo,'DejaVu Sans Mono',consolas,'Courier New',monospace\"><span style=\"font-weight: bold\">{</span>\n",
       "    <span style=\"color: #008000; text-decoration-color: #008000\">'finetuning_unfreeze_layers_on_plateau'</span>: <span style=\"font-weight: bold\">{</span>\n",
       "        <span style=\"color: #008000; text-decoration-color: #008000\">'test_acc'</span>: <span style=\"color: #008080; text-decoration-color: #008080; font-weight: bold\">0.24480852484703064</span>,\n",
       "        <span style=\"color: #008000; text-decoration-color: #008000\">'val_acc'</span>: <span style=\"color: #008080; text-decoration-color: #008080; font-weight: bold\">0.47486215829849243</span>,\n",
       "        <span style=\"color: #008000; text-decoration-color: #008000\">'ckpt_path'</span>: <span style=\"color: #008000; text-decoration-color: #008000\">'/media/data/jacob/GitHub/lightning-hydra-classifiers/notebooks/bn_unit_</span>\n",
       "<span style=\"color: #008000; text-decoration-color: #008000\">test_logs/avg/finetuning_unfreeze_layers_on_plateau-PNAS-19_classes-res_512-bsz_16-resnet50-p</span>\n",
       "<span style=\"color: #008000; text-decoration-color: #008000\">retrained_True-pool_avg/replicate_1/results/checkpoints/epoch=00-val_loss=1.102-val_acc=0.475</span>\n",
       "<span style=\"color: #008000; text-decoration-color: #008000\">.ckpt'</span>,\n",
       "        <span style=\"color: #008000; text-decoration-color: #008000\">'model_config'</span>: <span style=\"font-weight: bold\">{</span>\n",
       "            <span style=\"color: #008000; text-decoration-color: #008000\">'backbone'</span>: <span style=\"font-weight: bold\">{</span><span style=\"color: #008000; text-decoration-color: #008000\">'backbone_name'</span>: <span style=\"color: #008000; text-decoration-color: #008000\">'resnet50'</span><span style=\"font-weight: bold\">}</span>,\n",
       "            <span style=\"color: #008000; text-decoration-color: #008000\">'backbone_name'</span>: <span style=\"color: #008000; text-decoration-color: #008000\">'resnet50'</span>,\n",
       "            <span style=\"color: #008000; text-decoration-color: #008000\">'pretrained'</span>: <span style=\"color: #00ff00; text-decoration-color: #00ff00; font-style: italic\">True</span>,\n",
       "            <span style=\"color: #008000; text-decoration-color: #008000\">'num_classes'</span>: <span style=\"color: #008080; text-decoration-color: #008080; font-weight: bold\">19</span>,\n",
       "            <span style=\"color: #008000; text-decoration-color: #008000\">'pool_type'</span>: <span style=\"color: #008000; text-decoration-color: #008000\">'avg'</span>,\n",
       "            <span style=\"color: #008000; text-decoration-color: #008000\">'head_type'</span>: <span style=\"color: #008000; text-decoration-color: #008000\">'linear'</span>,\n",
       "            <span style=\"color: #008000; text-decoration-color: #008000\">'hidden_size'</span>: <span style=\"color: #800080; text-decoration-color: #800080; font-style: italic\">None</span>,\n",
       "            <span style=\"color: #008000; text-decoration-color: #008000\">'dropout_p'</span>: <span style=\"color: #008080; text-decoration-color: #008080; font-weight: bold\">0.3</span>,\n",
       "            <span style=\"color: #008000; text-decoration-color: #008000\">'lr'</span>: <span style=\"color: #008080; text-decoration-color: #008080; font-weight: bold\">0.025118864315095822</span>,\n",
       "            <span style=\"color: #008000; text-decoration-color: #008000\">'backbone_lr_mult'</span>: <span style=\"color: #008080; text-decoration-color: #008080; font-weight: bold\">0.1</span>,\n",
       "            <span style=\"color: #008000; text-decoration-color: #008000\">'finetuning_strategy'</span>: <span style=\"color: #008000; text-decoration-color: #008000\">'finetuning_unfreeze_layers_on_plateau'</span>,\n",
       "            <span style=\"color: #008000; text-decoration-color: #008000\">'weight_decay'</span>: <span style=\"color: #008080; text-decoration-color: #008080; font-weight: bold\">0.01</span>,\n",
       "            <span style=\"color: #008000; text-decoration-color: #008000\">'seed'</span>: <span style=\"color: #008080; text-decoration-color: #008080; font-weight: bold\">98</span>\n",
       "        <span style=\"font-weight: bold\">}</span>,\n",
       "        <span style=\"color: #008000; text-decoration-color: #008000\">'data_config'</span>: <span style=\"font-weight: bold\">{</span>\n",
       "            <span style=\"color: #008000; text-decoration-color: #008000\">'_target_'</span>: \n",
       "<span style=\"color: #008000; text-decoration-color: #008000\">'lightning_hydra_classifiers.experiments.multitask.datamodules.MultiTaskDataModule'</span>,\n",
       "            <span style=\"color: #008000; text-decoration-color: #008000\">'image_size'</span>: <span style=\"color: #008080; text-decoration-color: #008080; font-weight: bold\">512</span>,\n",
       "            <span style=\"color: #008000; text-decoration-color: #008000\">'image_buffer_size'</span>: <span style=\"color: #008080; text-decoration-color: #008080; font-weight: bold\">32</span>,\n",
       "            <span style=\"color: #008000; text-decoration-color: #008000\">'batch_size'</span>: <span style=\"color: #008080; text-decoration-color: #008080; font-weight: bold\">16</span>,\n",
       "            <span style=\"color: #008000; text-decoration-color: #008000\">'num_workers'</span>: <span style=\"color: #008080; text-decoration-color: #008080; font-weight: bold\">4</span>,\n",
       "            <span style=\"color: #008000; text-decoration-color: #008000\">'pin_memory'</span>: <span style=\"color: #00ff00; text-decoration-color: #00ff00; font-style: italic\">True</span>,\n",
       "            <span style=\"color: #008000; text-decoration-color: #008000\">'dataset_name'</span>: <span style=\"color: #008000; text-decoration-color: #008000\">'Extant-PNAS_to_PNAS'</span>,\n",
       "            <span style=\"color: #008000; text-decoration-color: #008000\">'experiment'</span>: <span style=\"font-weight: bold\">{</span>\n",
       "                <span style=\"color: #008000; text-decoration-color: #008000\">'source_root_dir'</span>: <span style=\"color: #008000; text-decoration-color: #008000\">'/media/data_cifs/projects/prj_fossils/users/jacob/experim</span>\n",
       "<span style=\"color: #008000; text-decoration-color: #008000\">ents/July2021-Nov2021/csv_datasets/leavesdb-v1_0'</span>,\n",
       "                <span style=\"color: #008000; text-decoration-color: #008000\">'experiment_root_dir'</span>: <span style=\"color: #008000; text-decoration-color: #008000\">'/media/data_cifs/projects/prj_fossils/users/jacob/exp</span>\n",
       "<span style=\"color: #008000; text-decoration-color: #008000\">eriments/July2021-Nov2021/csv_datasets/experimental_datasets'</span>,\n",
       "                <span style=\"color: #008000; text-decoration-color: #008000\">'experiment_name'</span>: <span style=\"color: #008000; text-decoration-color: #008000\">'Extant-to-PNAS-512-transfer_benchmark'</span>,\n",
       "                <span style=\"color: #008000; text-decoration-color: #008000\">'seed'</span>: <span style=\"color: #008080; text-decoration-color: #008080; font-weight: bold\">96857</span>,\n",
       "                <span style=\"color: #008000; text-decoration-color: #008000\">'task_0'</span>: <span style=\"font-weight: bold\">{</span>\n",
       "                    <span style=\"color: #008000; text-decoration-color: #008000\">'name'</span>: <span style=\"color: #008000; text-decoration-color: #008000\">'Extant_Leaves_family_10_512_minus_PNAS_family_100_512'</span>,\n",
       "                    <span style=\"color: #008000; text-decoration-color: #008000\">'val_split'</span>: <span style=\"color: #008080; text-decoration-color: #008080; font-weight: bold\">0.2</span>,\n",
       "                    <span style=\"color: #008000; text-decoration-color: #008000\">'test_split'</span>: <span style=\"color: #800080; text-decoration-color: #800080; font-style: italic\">None</span>\n",
       "                <span style=\"font-weight: bold\">}</span>,\n",
       "                <span style=\"color: #008000; text-decoration-color: #008000\">'task_1'</span>: <span style=\"font-weight: bold\">{</span>\n",
       "                    <span style=\"color: #008000; text-decoration-color: #008000\">'name'</span>: <span style=\"color: #008000; text-decoration-color: #008000\">'PNAS_family_100_512_minus_Extant_Leaves_family_10_512'</span>,\n",
       "                    <span style=\"color: #008000; text-decoration-color: #008000\">'val_split'</span>: <span style=\"color: #008080; text-decoration-color: #008080; font-weight: bold\">0.2</span>,\n",
       "                    <span style=\"color: #008000; text-decoration-color: #008000\">'test_split'</span>: <span style=\"color: #800080; text-decoration-color: #800080; font-style: italic\">None</span>\n",
       "                <span style=\"font-weight: bold\">}</span>\n",
       "            <span style=\"font-weight: bold\">}</span>\n",
       "        <span style=\"font-weight: bold\">}</span>\n",
       "    <span style=\"font-weight: bold\">}</span>\n",
       "<span style=\"font-weight: bold\">}</span>\n",
       "</pre>\n"
      ],
      "text/plain": [
       "\u001b[1m{\u001b[0m\n",
       "    \u001b[32m'finetuning_unfreeze_layers_on_plateau'\u001b[0m: \u001b[1m{\u001b[0m\n",
       "        \u001b[32m'test_acc'\u001b[0m: \u001b[1;36m0.24480852484703064\u001b[0m,\n",
       "        \u001b[32m'val_acc'\u001b[0m: \u001b[1;36m0.47486215829849243\u001b[0m,\n",
       "        \u001b[32m'ckpt_path'\u001b[0m: \u001b[32m'/media/data/jacob/GitHub/lightning-hydra-classifiers/notebooks/bn_unit_\u001b[0m\n",
       "\u001b[32mtest_logs/avg/finetuning_unfreeze_layers_on_plateau-PNAS-19_classes-res_512-bsz_16-resnet50-p\u001b[0m\n",
       "\u001b[32mretrained_True-pool_avg/replicate_1/results/checkpoints/\u001b[0m\u001b[32mepoch\u001b[0m\u001b[32m=\u001b[0m\u001b[32m00\u001b[0m\u001b[32m-\u001b[0m\u001b[32mval_loss\u001b[0m\u001b[32m=\u001b[0m\u001b[32m1\u001b[0m\u001b[32m.102-\u001b[0m\u001b[32mval_acc\u001b[0m\u001b[32m=\u001b[0m\u001b[32m0\u001b[0m\u001b[32m.475\u001b[0m\n",
       "\u001b[32m.ckpt'\u001b[0m,\n",
       "        \u001b[32m'model_config'\u001b[0m: \u001b[1m{\u001b[0m\n",
       "            \u001b[32m'backbone'\u001b[0m: \u001b[1m{\u001b[0m\u001b[32m'backbone_name'\u001b[0m: \u001b[32m'resnet50'\u001b[0m\u001b[1m}\u001b[0m,\n",
       "            \u001b[32m'backbone_name'\u001b[0m: \u001b[32m'resnet50'\u001b[0m,\n",
       "            \u001b[32m'pretrained'\u001b[0m: \u001b[3;92mTrue\u001b[0m,\n",
       "            \u001b[32m'num_classes'\u001b[0m: \u001b[1;36m19\u001b[0m,\n",
       "            \u001b[32m'pool_type'\u001b[0m: \u001b[32m'avg'\u001b[0m,\n",
       "            \u001b[32m'head_type'\u001b[0m: \u001b[32m'linear'\u001b[0m,\n",
       "            \u001b[32m'hidden_size'\u001b[0m: \u001b[3;35mNone\u001b[0m,\n",
       "            \u001b[32m'dropout_p'\u001b[0m: \u001b[1;36m0.3\u001b[0m,\n",
       "            \u001b[32m'lr'\u001b[0m: \u001b[1;36m0.025118864315095822\u001b[0m,\n",
       "            \u001b[32m'backbone_lr_mult'\u001b[0m: \u001b[1;36m0.1\u001b[0m,\n",
       "            \u001b[32m'finetuning_strategy'\u001b[0m: \u001b[32m'finetuning_unfreeze_layers_on_plateau'\u001b[0m,\n",
       "            \u001b[32m'weight_decay'\u001b[0m: \u001b[1;36m0.01\u001b[0m,\n",
       "            \u001b[32m'seed'\u001b[0m: \u001b[1;36m98\u001b[0m\n",
       "        \u001b[1m}\u001b[0m,\n",
       "        \u001b[32m'data_config'\u001b[0m: \u001b[1m{\u001b[0m\n",
       "            \u001b[32m'_target_'\u001b[0m: \n",
       "\u001b[32m'lightning_hydra_classifiers.experiments.multitask.datamodules.MultiTaskDataModule'\u001b[0m,\n",
       "            \u001b[32m'image_size'\u001b[0m: \u001b[1;36m512\u001b[0m,\n",
       "            \u001b[32m'image_buffer_size'\u001b[0m: \u001b[1;36m32\u001b[0m,\n",
       "            \u001b[32m'batch_size'\u001b[0m: \u001b[1;36m16\u001b[0m,\n",
       "            \u001b[32m'num_workers'\u001b[0m: \u001b[1;36m4\u001b[0m,\n",
       "            \u001b[32m'pin_memory'\u001b[0m: \u001b[3;92mTrue\u001b[0m,\n",
       "            \u001b[32m'dataset_name'\u001b[0m: \u001b[32m'Extant-PNAS_to_PNAS'\u001b[0m,\n",
       "            \u001b[32m'experiment'\u001b[0m: \u001b[1m{\u001b[0m\n",
       "                \u001b[32m'source_root_dir'\u001b[0m: \u001b[32m'/media/data_cifs/projects/prj_fossils/users/jacob/experim\u001b[0m\n",
       "\u001b[32ments/July2021-Nov2021/csv_datasets/leavesdb-v1_0'\u001b[0m,\n",
       "                \u001b[32m'experiment_root_dir'\u001b[0m: \u001b[32m'/media/data_cifs/projects/prj_fossils/users/jacob/exp\u001b[0m\n",
       "\u001b[32meriments/July2021-Nov2021/csv_datasets/experimental_datasets'\u001b[0m,\n",
       "                \u001b[32m'experiment_name'\u001b[0m: \u001b[32m'Extant-to-PNAS-512-transfer_benchmark'\u001b[0m,\n",
       "                \u001b[32m'seed'\u001b[0m: \u001b[1;36m96857\u001b[0m,\n",
       "                \u001b[32m'task_0'\u001b[0m: \u001b[1m{\u001b[0m\n",
       "                    \u001b[32m'name'\u001b[0m: \u001b[32m'Extant_Leaves_family_10_512_minus_PNAS_family_100_512'\u001b[0m,\n",
       "                    \u001b[32m'val_split'\u001b[0m: \u001b[1;36m0.2\u001b[0m,\n",
       "                    \u001b[32m'test_split'\u001b[0m: \u001b[3;35mNone\u001b[0m\n",
       "                \u001b[1m}\u001b[0m,\n",
       "                \u001b[32m'task_1'\u001b[0m: \u001b[1m{\u001b[0m\n",
       "                    \u001b[32m'name'\u001b[0m: \u001b[32m'PNAS_family_100_512_minus_Extant_Leaves_family_10_512'\u001b[0m,\n",
       "                    \u001b[32m'val_split'\u001b[0m: \u001b[1;36m0.2\u001b[0m,\n",
       "                    \u001b[32m'test_split'\u001b[0m: \u001b[3;35mNone\u001b[0m\n",
       "                \u001b[1m}\u001b[0m\n",
       "            \u001b[1m}\u001b[0m\n",
       "        \u001b[1m}\u001b[0m\n",
       "    \u001b[1m}\u001b[0m\n",
       "\u001b[1m}\u001b[0m\n"
      ]
     },
     "metadata": {},
     "output_type": "display_data"
    },
    {
     "name": "stdout",
     "output_type": "stream",
     "text": [
      "CPU times: user 2min 59s, sys: 37.9 s, total: 3min 37s\n",
      "Wall time: 4min 22s\n"
     ]
    },
    {
     "data": {
      "image/png": "[encoded data removed]",
      "text/plain": [
       "<Figure size 432x288 with 1 Axes>"
      ]
     },
     "metadata": {
      "needs_background": "light"
     },
     "output_type": "display_data"
    },
    {
     "data": {
      "text/plain": [
       "<Figure size 792x720 with 0 Axes>"
      ]
     },
     "metadata": {},
     "output_type": "display_data"
    },
    {
     "data": {
      "text/plain": [
       "<Figure size 1296x1152 with 0 Axes>"
      ]
     },
     "metadata": {},
     "output_type": "display_data"
    }
   ],
   "source": [
    "%%time\n",
    "\n",
    "\n",
    "valid_strategies = (\"finetuning_unfreeze_layers_on_plateau\",)\n",
    "# pool_types = (\"avg\", \"avgdrop\")#, \"avgmax\", \"max\", \"avgmaxdrop\")\n",
    "\n",
    "# finetuning_strategy=\"feature_extractor\"\n",
    "# finetuning_strategy=\"feature_extractor_+_bn.eval()\"\n",
    "\n",
    "# pool_type='avgdrop'\n",
    "# pool_type='avgmaxdrop'\n",
    "pool_type=\"avg\"\n",
    "dropout_p = 0.3\n",
    "\n",
    "\n",
    "\n",
    "\n",
    "\n",
    "all_results = {}\n",
    "\n",
    "for strategy in valid_strategies:\n",
    "\n",
    "    print(f\"BEGINNING STRATEGY: {strategy}\")\n",
    "    overrides = ['model/backbone=resnet50',\n",
    "                 \"data=extant_to_pnas\",\n",
    "                 \"trainer.max_epochs=1\",\n",
    "                 \"trainer.auto_lr_find=true\",\n",
    "                 \"trainer.precision=16\",\n",
    "                 \"trainer.gpus=[0]\",\n",
    "                 \"trainer.resume_from_checkpoint=null\",\n",
    "                 \"data.batch_size=16\",\n",
    "                 \"logger.wandb.project=finetuning_on_plateau\"]\n",
    "\n",
    "    config, datamodule = get_config_and_load_data(overrides = overrides,\n",
    "                                                  task_id=1,\n",
    "                                                  pool_type=pool_type,\n",
    "                                                  finetuning_strategy=strategy, #\"feature_extractor_+_bn.eval()\",\n",
    "                                                  lr=2e-03,\n",
    "                                                  dropout_p=dropout_p)#,\n",
    "#                                                   max_epochs=config.trainer.max_epochs)\n",
    "    ckpt_paths = os.listdir(os.path.join(config.checkpoint_dir))\n",
    "    if len(ckpt_paths) and os.path.exists(ckpt_paths[-1]):\n",
    "        print(f\"Found {ckpt_paths[-1]}\")\n",
    "        config.resume_from_checkpoint = ckpt_paths[-1]\n",
    "\n",
    "\n",
    "    model, results = test_model_freeze_strategy(config, datamodule)\n",
    "    model.cpu()\n",
    "    del model\n",
    "\n",
    "    results['model_config'] = OmegaConf.to_container(config.model, resolve=True)\n",
    "    results['data_config'] = OmegaConf.to_container(config.data, resolve=True)\n",
    "    \n",
    "    ETL.config2yaml(results, os.path.join(config.results_dir, \"results.yaml\"))\n",
    "    print(f\"[SAVED TRIAL RESULTS] Location: {os.path.join(config.results_dir, 'results.yaml')}\")\n",
    "    pp(results)\n",
    "    \n",
    "    all_results[strategy] = results\n",
    "\n",
    "print(f\"ALL FINISHED!!! RESULTS:\")\n",
    "pp(all_results)\n",
    "\n",
    "\n",
    "ETL.config2yaml(all_results, os.path.join(config.root_dir, \"results.yaml\"))"
   ]
  },
  {
   "cell_type": "code",
   "execution_count": 17,
   "metadata": {},
   "outputs": [
    {
     "ename": "ConfigAttributeError",
     "evalue": "Missing key max_epochs\n    full_key: max_epochs\n    object_type=dict",
     "output_type": "error",
     "traceback": [
      "\u001b[0;31m---------------------------------------------------------------------------\u001b[0m",
      "\u001b[0;31mConfigAttributeError\u001b[0m                      Traceback (most recent call last)",
      "\u001b[0;32m/tmp/ipykernel_2326/1906452917.py\u001b[0m in \u001b[0;36m<module>\u001b[0;34m\u001b[0m\n\u001b[0;32m----> 1\u001b[0;31m \u001b[0mconfig\u001b[0m\u001b[0;34m.\u001b[0m\u001b[0mmax_epochs\u001b[0m\u001b[0;34m\u001b[0m\u001b[0;34m\u001b[0m\u001b[0m\n\u001b[0m",
      "\u001b[0;32m/media/data/conda/jrose3/envs/sequoia/lib/python3.8/site-packages/omegaconf/dictconfig.py\u001b[0m in \u001b[0;36m__getattr__\u001b[0;34m(self, key)\u001b[0m\n\u001b[1;32m    349\u001b[0m             \u001b[0;32mreturn\u001b[0m \u001b[0mself\u001b[0m\u001b[0;34m.\u001b[0m\u001b[0m_get_impl\u001b[0m\u001b[0;34m(\u001b[0m\u001b[0mkey\u001b[0m\u001b[0;34m=\u001b[0m\u001b[0mkey\u001b[0m\u001b[0;34m,\u001b[0m \u001b[0mdefault_value\u001b[0m\u001b[0;34m=\u001b[0m\u001b[0m_DEFAULT_MARKER_\u001b[0m\u001b[0;34m)\u001b[0m\u001b[0;34m\u001b[0m\u001b[0;34m\u001b[0m\u001b[0m\n\u001b[1;32m    350\u001b[0m         \u001b[0;32mexcept\u001b[0m \u001b[0mConfigKeyError\u001b[0m \u001b[0;32mas\u001b[0m \u001b[0me\u001b[0m\u001b[0;34m:\u001b[0m\u001b[0;34m\u001b[0m\u001b[0;34m\u001b[0m\u001b[0m\n\u001b[0;32m--> 351\u001b[0;31m             self._format_and_raise(\n\u001b[0m\u001b[1;32m    352\u001b[0m                 \u001b[0mkey\u001b[0m\u001b[0;34m=\u001b[0m\u001b[0mkey\u001b[0m\u001b[0;34m,\u001b[0m \u001b[0mvalue\u001b[0m\u001b[0;34m=\u001b[0m\u001b[0;32mNone\u001b[0m\u001b[0;34m,\u001b[0m \u001b[0mcause\u001b[0m\u001b[0;34m=\u001b[0m\u001b[0me\u001b[0m\u001b[0;34m,\u001b[0m \u001b[0mtype_override\u001b[0m\u001b[0;34m=\u001b[0m\u001b[0mConfigAttributeError\u001b[0m\u001b[0;34m\u001b[0m\u001b[0;34m\u001b[0m\u001b[0m\n\u001b[1;32m    353\u001b[0m             )\n",
      "\u001b[0;32m/media/data/conda/jrose3/envs/sequoia/lib/python3.8/site-packages/omegaconf/base.py\u001b[0m in \u001b[0;36m_format_and_raise\u001b[0;34m(self, key, value, cause, type_override)\u001b[0m\n\u001b[1;32m    187\u001b[0m         \u001b[0mself\u001b[0m\u001b[0;34m,\u001b[0m \u001b[0mkey\u001b[0m\u001b[0;34m:\u001b[0m \u001b[0mAny\u001b[0m\u001b[0;34m,\u001b[0m \u001b[0mvalue\u001b[0m\u001b[0;34m:\u001b[0m \u001b[0mAny\u001b[0m\u001b[0;34m,\u001b[0m \u001b[0mcause\u001b[0m\u001b[0;34m:\u001b[0m \u001b[0mException\u001b[0m\u001b[0;34m,\u001b[0m \u001b[0mtype_override\u001b[0m\u001b[0;34m:\u001b[0m \u001b[0mAny\u001b[0m \u001b[0;34m=\u001b[0m \u001b[0;32mNone\u001b[0m\u001b[0;34m\u001b[0m\u001b[0;34m\u001b[0m\u001b[0m\n\u001b[1;32m    188\u001b[0m     ) -> None:\n\u001b[0;32m--> 189\u001b[0;31m         format_and_raise(\n\u001b[0m\u001b[1;32m    190\u001b[0m             \u001b[0mnode\u001b[0m\u001b[0;34m=\u001b[0m\u001b[0mself\u001b[0m\u001b[0;34m,\u001b[0m\u001b[0;34m\u001b[0m\u001b[0;34m\u001b[0m\u001b[0m\n\u001b[1;32m    191\u001b[0m             \u001b[0mkey\u001b[0m\u001b[0;34m=\u001b[0m\u001b[0mkey\u001b[0m\u001b[0;34m,\u001b[0m\u001b[0;34m\u001b[0m\u001b[0;34m\u001b[0m\u001b[0m\n",
      "\u001b[0;32m/media/data/conda/jrose3/envs/sequoia/lib/python3.8/site-packages/omegaconf/_utils.py\u001b[0m in \u001b[0;36mformat_and_raise\u001b[0;34m(node, key, value, msg, cause, type_override)\u001b[0m\n\u001b[1;32m    699\u001b[0m         \u001b[0mex\u001b[0m\u001b[0;34m.\u001b[0m\u001b[0mref_type_str\u001b[0m \u001b[0;34m=\u001b[0m \u001b[0mref_type_str\u001b[0m\u001b[0;34m\u001b[0m\u001b[0;34m\u001b[0m\u001b[0m\n\u001b[1;32m    700\u001b[0m \u001b[0;34m\u001b[0m\u001b[0m\n\u001b[0;32m--> 701\u001b[0;31m     \u001b[0m_raise\u001b[0m\u001b[0;34m(\u001b[0m\u001b[0mex\u001b[0m\u001b[0;34m,\u001b[0m \u001b[0mcause\u001b[0m\u001b[0;34m)\u001b[0m\u001b[0;34m\u001b[0m\u001b[0;34m\u001b[0m\u001b[0m\n\u001b[0m\u001b[1;32m    702\u001b[0m \u001b[0;34m\u001b[0m\u001b[0m\n\u001b[1;32m    703\u001b[0m \u001b[0;34m\u001b[0m\u001b[0m\n",
      "\u001b[0;32m/media/data/conda/jrose3/envs/sequoia/lib/python3.8/site-packages/omegaconf/_utils.py\u001b[0m in \u001b[0;36m_raise\u001b[0;34m(ex, cause)\u001b[0m\n\u001b[1;32m    597\u001b[0m     \u001b[0;32melse\u001b[0m\u001b[0;34m:\u001b[0m\u001b[0;34m\u001b[0m\u001b[0;34m\u001b[0m\u001b[0m\n\u001b[1;32m    598\u001b[0m         \u001b[0mex\u001b[0m\u001b[0;34m.\u001b[0m\u001b[0m__cause__\u001b[0m \u001b[0;34m=\u001b[0m \u001b[0;32mNone\u001b[0m\u001b[0;34m\u001b[0m\u001b[0;34m\u001b[0m\u001b[0m\n\u001b[0;32m--> 599\u001b[0;31m     \u001b[0;32mraise\u001b[0m \u001b[0mex\u001b[0m\u001b[0;34m.\u001b[0m\u001b[0mwith_traceback\u001b[0m\u001b[0;34m(\u001b[0m\u001b[0msys\u001b[0m\u001b[0;34m.\u001b[0m\u001b[0mexc_info\u001b[0m\u001b[0;34m(\u001b[0m\u001b[0;34m)\u001b[0m\u001b[0;34m[\u001b[0m\u001b[0;36m2\u001b[0m\u001b[0;34m]\u001b[0m\u001b[0;34m)\u001b[0m  \u001b[0;31m# set end OC_CAUSE=1 for full backtrace\u001b[0m\u001b[0;34m\u001b[0m\u001b[0;34m\u001b[0m\u001b[0m\n\u001b[0m\u001b[1;32m    600\u001b[0m \u001b[0;34m\u001b[0m\u001b[0m\n\u001b[1;32m    601\u001b[0m \u001b[0;34m\u001b[0m\u001b[0m\n",
      "\u001b[0;32m/media/data/conda/jrose3/envs/sequoia/lib/python3.8/site-packages/omegaconf/dictconfig.py\u001b[0m in \u001b[0;36m__getattr__\u001b[0;34m(self, key)\u001b[0m\n\u001b[1;32m    347\u001b[0m \u001b[0;34m\u001b[0m\u001b[0m\n\u001b[1;32m    348\u001b[0m         \u001b[0;32mtry\u001b[0m\u001b[0;34m:\u001b[0m\u001b[0;34m\u001b[0m\u001b[0;34m\u001b[0m\u001b[0m\n\u001b[0;32m--> 349\u001b[0;31m             \u001b[0;32mreturn\u001b[0m \u001b[0mself\u001b[0m\u001b[0;34m.\u001b[0m\u001b[0m_get_impl\u001b[0m\u001b[0;34m(\u001b[0m\u001b[0mkey\u001b[0m\u001b[0;34m=\u001b[0m\u001b[0mkey\u001b[0m\u001b[0;34m,\u001b[0m \u001b[0mdefault_value\u001b[0m\u001b[0;34m=\u001b[0m\u001b[0m_DEFAULT_MARKER_\u001b[0m\u001b[0;34m)\u001b[0m\u001b[0;34m\u001b[0m\u001b[0;34m\u001b[0m\u001b[0m\n\u001b[0m\u001b[1;32m    350\u001b[0m         \u001b[0;32mexcept\u001b[0m \u001b[0mConfigKeyError\u001b[0m \u001b[0;32mas\u001b[0m \u001b[0me\u001b[0m\u001b[0;34m:\u001b[0m\u001b[0;34m\u001b[0m\u001b[0;34m\u001b[0m\u001b[0m\n\u001b[1;32m    351\u001b[0m             self._format_and_raise(\n",
      "\u001b[0;32m/media/data/conda/jrose3/envs/sequoia/lib/python3.8/site-packages/omegaconf/dictconfig.py\u001b[0m in \u001b[0;36m_get_impl\u001b[0;34m(self, key, default_value)\u001b[0m\n\u001b[1;32m    414\u001b[0m     \u001b[0;32mdef\u001b[0m \u001b[0m_get_impl\u001b[0m\u001b[0;34m(\u001b[0m\u001b[0mself\u001b[0m\u001b[0;34m,\u001b[0m \u001b[0mkey\u001b[0m\u001b[0;34m:\u001b[0m \u001b[0mDictKeyType\u001b[0m\u001b[0;34m,\u001b[0m \u001b[0mdefault_value\u001b[0m\u001b[0;34m:\u001b[0m \u001b[0mAny\u001b[0m\u001b[0;34m)\u001b[0m \u001b[0;34m->\u001b[0m \u001b[0mAny\u001b[0m\u001b[0;34m:\u001b[0m\u001b[0;34m\u001b[0m\u001b[0;34m\u001b[0m\u001b[0m\n\u001b[1;32m    415\u001b[0m         \u001b[0;32mtry\u001b[0m\u001b[0;34m:\u001b[0m\u001b[0;34m\u001b[0m\u001b[0;34m\u001b[0m\u001b[0m\n\u001b[0;32m--> 416\u001b[0;31m             \u001b[0mnode\u001b[0m \u001b[0;34m=\u001b[0m \u001b[0mself\u001b[0m\u001b[0;34m.\u001b[0m\u001b[0m_get_node\u001b[0m\u001b[0;34m(\u001b[0m\u001b[0mkey\u001b[0m\u001b[0;34m=\u001b[0m\u001b[0mkey\u001b[0m\u001b[0;34m,\u001b[0m \u001b[0mthrow_on_missing_key\u001b[0m\u001b[0;34m=\u001b[0m\u001b[0;32mTrue\u001b[0m\u001b[0;34m)\u001b[0m\u001b[0;34m\u001b[0m\u001b[0;34m\u001b[0m\u001b[0m\n\u001b[0m\u001b[1;32m    417\u001b[0m         \u001b[0;32mexcept\u001b[0m \u001b[0;34m(\u001b[0m\u001b[0mConfigAttributeError\u001b[0m\u001b[0;34m,\u001b[0m \u001b[0mConfigKeyError\u001b[0m\u001b[0;34m)\u001b[0m\u001b[0;34m:\u001b[0m\u001b[0;34m\u001b[0m\u001b[0;34m\u001b[0m\u001b[0m\n\u001b[1;32m    418\u001b[0m             \u001b[0;32mif\u001b[0m \u001b[0mdefault_value\u001b[0m \u001b[0;32mis\u001b[0m \u001b[0;32mnot\u001b[0m \u001b[0m_DEFAULT_MARKER_\u001b[0m\u001b[0;34m:\u001b[0m\u001b[0;34m\u001b[0m\u001b[0;34m\u001b[0m\u001b[0m\n",
      "\u001b[0;32m/media/data/conda/jrose3/envs/sequoia/lib/python3.8/site-packages/omegaconf/dictconfig.py\u001b[0m in \u001b[0;36m_get_node\u001b[0;34m(self, key, validate_access, throw_on_missing_value, throw_on_missing_key)\u001b[0m\n\u001b[1;32m    446\u001b[0m         \u001b[0;32mif\u001b[0m \u001b[0mvalue\u001b[0m \u001b[0;32mis\u001b[0m \u001b[0;32mNone\u001b[0m\u001b[0;34m:\u001b[0m\u001b[0;34m\u001b[0m\u001b[0;34m\u001b[0m\u001b[0m\n\u001b[1;32m    447\u001b[0m             \u001b[0;32mif\u001b[0m \u001b[0mthrow_on_missing_key\u001b[0m\u001b[0;34m:\u001b[0m\u001b[0;34m\u001b[0m\u001b[0;34m\u001b[0m\u001b[0m\n\u001b[0;32m--> 448\u001b[0;31m                 \u001b[0;32mraise\u001b[0m \u001b[0mConfigKeyError\u001b[0m\u001b[0;34m(\u001b[0m\u001b[0;34mf\"Missing key {key}\"\u001b[0m\u001b[0;34m)\u001b[0m\u001b[0;34m\u001b[0m\u001b[0;34m\u001b[0m\u001b[0m\n\u001b[0m\u001b[1;32m    449\u001b[0m         \u001b[0;32melif\u001b[0m \u001b[0mthrow_on_missing_value\u001b[0m \u001b[0;32mand\u001b[0m \u001b[0mvalue\u001b[0m\u001b[0;34m.\u001b[0m\u001b[0m_is_missing\u001b[0m\u001b[0;34m(\u001b[0m\u001b[0;34m)\u001b[0m\u001b[0;34m:\u001b[0m\u001b[0;34m\u001b[0m\u001b[0;34m\u001b[0m\u001b[0m\n\u001b[1;32m    450\u001b[0m             \u001b[0;32mraise\u001b[0m \u001b[0mMissingMandatoryValue\u001b[0m\u001b[0;34m(\u001b[0m\u001b[0;34m\"Missing mandatory value\"\u001b[0m\u001b[0;34m)\u001b[0m\u001b[0;34m\u001b[0m\u001b[0;34m\u001b[0m\u001b[0m\n",
      "\u001b[0;31mConfigAttributeError\u001b[0m: Missing key max_epochs\n    full_key: max_epochs\n    object_type=dict"
     ]
    }
   ],
   "source": [
    "test_logs/avg/finetuning_unfreeze_layers_on_plateau-PNAS-19_classes-res_512-bsz_16-resnet50-p"
   ]
  },
  {
   "cell_type": "code",
   "execution_count": null,
   "metadata": {},
   "outputs": [],
   "source": []
  },
  {
   "cell_type": "code",
   "execution_count": null,
   "metadata": {},
   "outputs": [],
   "source": [
    "\n",
    "ckpt_path = '/media/data/jacob/GitHub/lightning-hydra-classifiers/notebooks/bn_unit_test_logs/avg/finetuning_unfreeze_layers_on_plateau-PNAS-19_classes-res_512-bsz_16-resnet50-pretrained_True-pool_avg/replicate_1/results/checkpoints/epoch=00-val_loss=1.102-val_acc=0.475.ckpt'"
   ]
  },
  {
   "cell_type": "code",
   "execution_count": null,
   "metadata": {},
   "outputs": [],
   "source": []
  },
  {
   "cell_type": "markdown",
   "metadata": {
    "heading_collapsed": "true",
    "tags": []
   },
   "source": [
    "## scratch"
   ]
  },
  {
   "cell_type": "code",
   "execution_count": 10,
   "metadata": {},
   "outputs": [],
   "source": [
    "from lightning_hydra_classifiers.utils.common_utils import *"
   ]
  },
  {
   "cell_type": "code",
   "execution_count": 11,
   "metadata": {},
   "outputs": [],
   "source": [
    "# subset_counts_df.T.plot(kind='bar', figsize=(16,9), multiple='stack')\n",
    "import seaborn as sns\n",
    "\n",
    "sns.set_theme(style=\"ticks\", color_codes=True)\n",
    "# sns.displot(data=subset_counts_df.T, kind='bar', figsize=(16,9), multiple='stack')\n",
    "\n",
    "from IPython.display import display\n",
    "\n",
    "\n",
    "available_palettes = ['Accent', 'Accent_r', 'Blues', 'Blues_r', 'BrBG', 'BrBG_r', 'BuGn', 'BuGn_r', 'BuPu', 'BuPu_r', 'CMRmap', 'CMRmap_r', 'Dark2', 'Dark2_r', 'GnBu', 'GnBu_r', 'Greens', 'Greens_r', 'Greys', 'Greys_r', 'OrRd', 'OrRd_r', 'Oranges', 'Oranges_r', 'PRGn', 'PRGn_r', 'Paired', 'Paired_r', 'Pastel1', 'Pastel1_r', 'Pastel2', 'Pastel2_r', 'PiYG', 'PiYG_r', 'PuBu', 'PuBuGn', 'PuBuGn_r', 'PuBu_r', 'PuOr', 'PuOr_r', 'PuRd', 'PuRd_r', 'Purples', 'Purples_r', 'RdBu', 'RdBu_r', 'RdGy', 'RdGy_r', 'RdPu', 'RdPu_r', 'RdYlBu', 'RdYlBu_r', 'RdYlGn', 'RdYlGn_r', 'Reds', 'Reds_r', 'Set1', 'Set1_r', 'Set2', 'Set2_r', 'Set3', 'Set3_r', 'Spectral', 'Spectral_r', 'Wistia', 'Wistia_r', 'YlGn', 'YlGnBu', 'YlGnBu_r', 'YlGn_r', 'YlOrBr', 'YlOrBr_r', 'YlOrRd', 'YlOrRd_r', 'afmhot', 'afmhot_r', 'autumn', 'autumn_r', 'binary', 'binary_r', 'bone', 'bone_r', 'brg', 'brg_r', 'bwr', 'bwr_r', 'cividis', 'cividis_r', 'cool', 'cool_r', 'coolwarm', 'coolwarm_r', 'copper', 'copper_r', 'crest', 'crest_r', 'cubehelix', 'cubehelix_r', 'flag', 'flag_r', 'flare', 'flare_r', 'gist_earth', 'gist_earth_r', 'gist_gray', 'gist_gray_r', 'gist_heat', 'gist_heat_r', 'gist_ncar', 'gist_ncar_r', 'gist_rainbow', 'gist_rainbow_r', 'gist_stern', 'gist_stern_r', 'gist_yarg', 'gist_yarg_r', 'gnuplot', 'gnuplot2', 'gnuplot2_r', 'gnuplot_r', 'gray', 'gray_r', 'hot', 'hot_r', 'hsv', 'hsv_r', 'icefire', 'icefire_r', 'inferno', 'inferno_r', 'magma', 'magma_r', 'mako', 'mako_r', 'nipy_spectral', 'nipy_spectral_r', 'ocean', 'ocean_r', 'pink', 'pink_r', 'plasma', 'plasma_r', 'prism', 'prism_r', 'rainbow', 'rainbow_r', 'rocket', 'rocket_r', 'seismic', 'seismic_r', 'spring', 'spring_r', 'summer', 'summer_r', 'tab10', 'tab10_r', 'tab20', 'tab20_r', 'tab20b', 'tab20b_r', 'tab20c', 'tab20c_r', 'terrain', 'terrain_r', 'twilight', 'twilight_r', 'twilight_shifted', 'twilight_shifted_r', 'viridis', 'viridis_r', 'vlag', 'vlag_r', 'winter', 'winter_r']\n",
    "\n",
    "for p in available_palettes:\n",
    "    print(p)\n",
    "    display(sns.color_palette(p))\n",
    "\n",
    "datamodule.current_task\n",
    "\n",
    "data_splits=datamodule.current_task\n",
    "\n",
    "train_key = [\"train\"]\n",
    "sort_by = compute_class_counts(data_splits[train_key[0]].targets,\n",
    "                               sort_by=\"count\")\n",
    "\n",
    "subset_counts_df = {}\n",
    "for subset, values in data_splits.items():\n",
    "    print(subset)\n",
    "    values = compute_class_counts(data_splits[subset].targets,\n",
    "                                  sort_by=sort_by)\n",
    "    subset_counts_df[subset] = values\n",
    "\n",
    "subset_counts_df = pd.DataFrame.from_dict(subset_counts_df)"
   ]
  },
  {
   "cell_type": "code",
   "execution_count": 200,
   "metadata": {},
   "outputs": [],
   "source": [
    "df = subset_counts_df.T.stack().reset_index().rename(columns={0:\"counts\"})#.set_index(\"subset\")\n",
    "\n",
    "# df.index.name = \"subset\"\n",
    "# df.columns.name = \"target\"\n",
    "\n",
    "\n",
    "df\n",
    "\n",
    "subset_counts_df.T#.unstack(\"target\")\n",
    "\n",
    "df_like = next(iter(df.groupby(\"subset\")))[1]\n",
    "\n",
    "totals = df_like[[\"target\", \"counts\"]].assign(counts=df_like[\"counts\"]*0).set_index(\"target\")\n",
    "\n",
    "# totals = df_like.set_index(\"subset\").assign(count=df[\"count\"]*0)\n",
    "previous_totals = totals.copy()\n",
    "\n",
    "previous_totals.counts + data_subset.set_index(\"target\").counts\n",
    "\n",
    "totals#.set_index(\"target\")\n",
    "previous_totals\n",
    "# data_subset.set_index(\"target\")\n",
    "\n",
    "#     totals[\"count\"] = previous_totals[\"count\"] + data_subset[\"count\"]\n",
    "\n",
    "# totals[\"count\"]\n",
    "# previous_totals[\"count\"] + \n",
    "data_subset[\"count\"]\n",
    "\n",
    "colors\n",
    "\n",
    "df\n",
    "\n",
    "df.stack(\"subset\")\n",
    "\n",
    "# gb = df.reset_index().groupby(\"subset\").unstack()\n",
    "\n",
    "df = df.reset_index().set_index(\"target\")#, \"target\"))\n",
    "# gb = df.unstack((\"subset\",\"target\"))\n",
    "df.plot(y=\"counts\", hue=\"subset\", kind=\"bar\", stacked=True)\n",
    "\n",
    "# gb.columns\n",
    "\n",
    "gb#.set_index(keys=(\"subset\", \"target\"))\n",
    "\n",
    "help(gb.plot)\n",
    "\n",
    "final_sum = df.groupby(\"target\").agg(sum).sort_values(\"counts\")\n",
    "\n",
    "final_sum\n",
    "\n",
    "data = totals.counts / final_sum\n",
    "\n",
    "totals\n",
    "\n",
    "# data\n",
    "final_sum"
   ]
  },
  {
   "cell_type": "code",
   "execution_count": 101,
   "metadata": {},
   "outputs": [],
   "source": [
    "colors = sns.color_palette(\"Set2\")\n",
    "i=0\n",
    "\n",
    "for subset_name, data_subset in df.groupby(\"subset\"):\n",
    "    print(subset_name)\n",
    "    \n",
    "    totals.counts = previous_totals.counts + data_subset.set_index(\"target\").counts\n",
    "    previous_totals.counts = totals.counts\n",
    "    \n",
    "    data = totals.counts / final_sum\n",
    "#     display(totals)\n",
    "    bar = sns.barplot(data=totals.reset_index(), y=\"counts\",x=\"target\", label=subset_name, color=colors[i], alpha=0.3)#, kind='bar', palette=\"tab10_r\")\n",
    "#     bar = sns.barplot(data=totals, y=\"count\",x=\"target\", hue=\"subset\", kind='bar', palette=\"tab10_r\")\n",
    "    i+=1\n",
    "plt.legend()\n",
    "\n",
    "# fig, ax = plt.subplots(1, 1, figsize=(16,9))\n",
    "# bar = sns.catplot(data=df, x=\"target\", y=\"count\", hue=\"subset\", kind='bar', ax=ax, palette=\"tab10_r\")#, multiple='stack')\n",
    "# bar = sns.catplot(data=df, x=\"target\", y=\"count\", hue=\"subset\", kind='bar', figsize=(16,9), palette=\"tab10_r\")\n",
    "\n",
    "# for c in colors:\n",
    "# data_bar_totals = pd.DataFrame.\n",
    "# dir(pd.DataFrame)\n",
    "\n",
    "\n",
    "for subset_name, data_subset in df.groupby(\"subset\"):\n",
    "    print(subset_name, data_subset)\n",
    "    bar = sns.barplot(data=data_subset, y=\"count\",x=\"target\", hue=\"subset\", kind='bar', palette=\"tab10_r\")\n",
    "\n",
    "\n",
    "\n",
    "\n",
    "\n",
    "# cat = sns.catplot(data=df, y=\"count\",x=\"target\", hue=\"subset\", kind='bar', palette=\"tab10_r\", height=5, aspect=3, multiple='stack')\n",
    "# ax = plt.gca()\n",
    "# ax.set_xticklabels(ax.get_xticklabels(), fontsize=14, rotation=30, ha=\"right\");\n",
    "\n",
    "\n",
    "\n",
    "\n",
    "\n",
    "sns.catplot(data=df, multiple='stack',  kind='bar')#, figsize=(16,9), multiple='stack')\n",
    "\n",
    "# a = df.set_index(df.columns.tolist())\n",
    "a = df.set_index([\"subset\", \"target\"])\n",
    "\n",
    "a.index\n",
    "\n",
    "# df.T.index.name\n",
    "\n",
    "\n",
    "df.index#columns\n",
    "\n",
    "df.T.reset_index()\n",
    "\n",
    "df.melt(id_vars=[\"subset\", \"target\"])\n",
    "\n",
    "penguins = sns.load_dataset(\"penguins\")\n",
    "sns.displot(penguins, x=\"flipper_length_mm\")\n",
    "\n",
    "penguins\n",
    "\n",
    "# # pd.DataFrame({\"labels\": [() for subset, values in data_splits.items()})\n",
    "\n",
    "# data_splits_cat = []\n",
    "\n",
    "# for subset, values in data_splits.items():\n",
    "#     print(subset)\n",
    "#     data_splits_cat.extend([(subset, v) for v in values])\n",
    "    \n",
    "    \n",
    "# data_splits_cat = pd.DataFrame.from_records(data_splits_cat, columns=[\"subset\",\"target\"])\n",
    "\n",
    "# data_splits_cat\n",
    "\n",
    "\n",
    "\n",
    "sns.set_palette(\"Set2\")\n",
    "\n",
    "fig, ax = plot_split_distributions(data_splits=datamodule.current_task,\n",
    "                                   use_one_axis=True,\n",
    "                                   hist_kwargs={\"alpha\":0.4,\n",
    "                                                \"multiple\":\"fill\"})\n",
    "plt.legend()\n",
    "\n",
    "display(ax[0])\n",
    "\n",
    "ax[0].legend()\n",
    "\n",
    "dir(datamodule)"
   ]
  },
  {
   "cell_type": "code",
   "execution_count": 8,
   "metadata": {},
   "outputs": [],
   "source": [
    "# overrides = ['model/backbone=efficientnet_b3',\"data=extant_to_fossil\", \"trainer.max_epochs=2\", \"data.batch_size=16\", \"trainer.precision=16\"]\n",
    "# overrides = ['model/backbone=resnet50',\"data=extant_to_pnas\", \"trainer.max_epochs=20\", \"data.batch_size=32\", \"trainer.precision=16\", \"trainer.gpus=[7]\"]\n",
    "# config = ETL.load_hydra_config(config_name = \"config\",\n",
    "#                               config_path = \"/media/data/jacob/GitHub/lightning-hydra-classifiers/configs\",\n",
    "#                               overrides=overrides)\n",
    "\n",
    "# valid_strategies : Tuple[str] = (\"feature_extractor\",\n",
    "#                              \"feature_extractor_+_bn.eval()\",\n",
    "#                              \"feature_extractor_+_except_bn\")\n",
    "            \n",
    "######################################"
   ]
  },
  {
   "cell_type": "markdown",
   "metadata": {
    "heading_collapsed": "true",
    "tags": []
   },
   "source": [
    "## Evaluate multiple strategies"
   ]
  },
  {
   "cell_type": "code",
   "execution_count": 10,
   "metadata": {
    "collapsed": true,
    "jupyter": {
     "outputs_hidden": true
    },
    "tags": []
   },
   "outputs": [
    {
     "name": "stdout",
     "output_type": "stream",
     "text": [
      "BEGINNING STRATEGY: feature_extractor\n"
     ]
    },
    {
     "name": "stderr",
     "output_type": "stream",
     "text": [
      "/media/data/conda/jrose3/envs/sequoia/lib/python3.8/site-packages/hydra/experimental/initialize.py:98: UserWarning: hydra.experimental.initialize_config_dir() is no longer experimental. Use hydra.initialize_config_dir().\n",
      "  deprecation_warning(\n",
      "/media/data/conda/jrose3/envs/sequoia/lib/python3.8/site-packages/hydra/experimental/compose.py:18: UserWarning: hydra.experimental.compose() is no longer experimental. Use hydra.compose()\n",
      "  deprecation_warning(\n",
      "2021-10-18 10:50:16,248 lightning_hydra_classifiers.experiments.multitask.datamodules INFO     set_task(task_id=1)\n",
      "2021-10-18 10:50:16,251 lightning_hydra_classifiers.experiments.multitask.datamodules INFO     Task_1 (None): datamodule.setup(stage=fit)\n",
      "2021-10-18 10:50:16,252 lightning_hydra_classifiers.experiments.multitask.datamodules INFO     Task_1: datamodule.setup(stage=test)\n",
      "2021-10-18 10:50:16,401 lightning_hydra_classifiers.scripts.multitask.train INFO     Instantiating callback <pytorch_lightning.callbacks.early_stopping.EarlyStopping>\n",
      "2021-10-18 10:50:16,407 lightning_hydra_classifiers.scripts.multitask.train INFO     Instantiating callback <pytorch_lightning.callbacks.ModelCheckpoint>\n",
      "2021-10-18 10:50:16,412 lightning_hydra_classifiers.scripts.multitask.train INFO     Instantiating callback <lightning_hydra_classifiers.callbacks.wandb_callbacks.LogPerClassMetricsToWandb>\n",
      "2021-10-18 10:50:16,420 lightning_hydra_classifiers.scripts.multitask.train INFO     Instantiating callback <lightning_hydra_classifiers.utils.callback_utils.ImagePredictionLogger>\n",
      "2021-10-18 10:50:16,422 lightning_hydra_classifiers.scripts.multitask.train INFO     Instantiating callback <lightning_hydra_classifiers.callbacks.wandb_callbacks.WatchModelWithWandb>\n",
      "2021-10-18 10:50:16,423 lightning_hydra_classifiers.scripts.multitask.train INFO     Instantiating callback <pl_bolts.callbacks.ModuleDataMonitor>\n",
      "2021-10-18 10:50:16,425 lightning_hydra_classifiers.scripts.multitask.train INFO     Instantiating logger <pytorch_lightning.loggers.wandb.WandbLogger>\n",
      "2021-10-18 10:50:16,427 lightning_hydra_classifiers.scripts.multitask.train INFO     Instantiating logger <pytorch_lightning.loggers.csv_logs.CSVLogger>\n",
      "GPU available: True, used: True\n",
      "TPU available: False, using: 0 TPU cores\n",
      "IPU available: False, using: 0 IPUs\n",
      "Global seed set to 98\n",
      "Global seed set to 98\n",
      "2021-10-18 10:50:18,283 lightning_hydra_classifiers.scripts.pretrain.lr_tuner INFO     Proceeding with overrides merged with default parameters\n"
     ]
    },
    {
     "name": "stdout",
     "output_type": "stream",
     "text": [
      "Set current model training strategy to: feature_extractor\n",
      "self.num_classes=19\n"
     ]
    },
    {
     "name": "stderr",
     "output_type": "stream",
     "text": [
      "\u001b[34m\u001b[1mwandb\u001b[0m: Currently logged in as: \u001b[33mjrose\u001b[0m (use `wandb login --relogin` to force relogin)\n",
      "\u001b[34m\u001b[1mwandb\u001b[0m: wandb version 0.12.4 is available!  To upgrade, please run:\n",
      "\u001b[34m\u001b[1mwandb\u001b[0m:  $ pip install wandb --upgrade\n"
     ]
    },
    {
     "data": {
      "text/html": [
       "\n",
       "                Tracking run with wandb version 0.10.26<br/>\n",
       "                Syncing run <strong style=\"color:#cdcd00\">fresh-oath-29</strong> to <a href=\"https://wandb.ai\" target=\"_blank\">Weights & Biases</a> <a href=\"https://docs.wandb.com/integrations/jupyter.html\" target=\"_blank\">(Documentation)</a>.<br/>\n",
       "                Project page: <a href=\"https://wandb.ai/jrose/default\" target=\"_blank\">https://wandb.ai/jrose/default</a><br/>\n",
       "                Run page: <a href=\"https://wandb.ai/jrose/default/runs/2pt3wuet\" target=\"_blank\">https://wandb.ai/jrose/default/runs/2pt3wuet</a><br/>\n",
       "                Run data is saved locally in <code>/media/data/jacob/GitHub/lightning-hydra-classifiers/notebooks/wandb/run-20211018_105018-2pt3wuet</code><br/><br/>\n",
       "            "
      ],
      "text/plain": [
       "<IPython.core.display.HTML object>"
      ]
     },
     "metadata": {},
     "output_type": "display_data"
    },
    {
     "name": "stderr",
     "output_type": "stream",
     "text": [
      "2021-10-18 10:50:20,425 lightning_hydra_classifiers.scripts.pretrain.lr_tuner INFO     [Initiating Stage] lr_tuner\n",
      "2021-10-18 10:50:20,914 lightning_hydra_classifiers.experiments.multitask.datamodules INFO     Task_1 (None): datamodule.setup(stage=fit)\n",
      "LOCAL_RANK: 0 - CUDA_VISIBLE_DEVICES: [0,1,2,3,4,5,6,7]\n",
      "\n",
      "  | Name                    | Type             | Params\n",
      "-------------------------------------------------------------\n",
      "0 | model                   | Sequential       | 23.5 M\n",
      "1 | criterion               | CrossEntropyLoss | 0     \n",
      "2 | metrics_train           | MetricCollection | 0     \n",
      "3 | metrics_train_per_class | MetricCollection | 0     \n",
      "4 | metrics_val             | MetricCollection | 0     \n",
      "5 | metrics_val_per_class   | MetricCollection | 0     \n",
      "6 | metrics_test            | MetricCollection | 0     \n",
      "7 | metrics_test_per_class  | MetricCollection | 0     \n",
      "-------------------------------------------------------------\n",
      "38.9 K    Trainable params\n",
      "23.5 M    Non-trainable params\n",
      "23.5 M    Total params\n",
      "94.188    Total estimated model params size (MB)\n"
     ]
    },
    {
     "name": "stdout",
     "output_type": "stream",
     "text": [
      "self.hparams=\"backbone\":            {'backbone_name': 'resnet50'}\n",
      "\"backbone_lr_mult\":    0.1\n",
      "\"backbone_name\":       resnet50\n",
      "\"dropout_p\":           0.3\n",
      "\"finetuning_strategy\": feature_extractor\n",
      "\"head_type\":           linear\n",
      "\"hidden_size\":         None\n",
      "\"lr\":                  0.002\n",
      "\"num_classes\":         19\n",
      "\"pool_size\":           1\n",
      "\"pool_type\":           avg\n",
      "\"pretrained\":          True\n",
      "\"seed\":                98\n",
      "\"weight_decay\":        0.01\n"
     ]
    },
    {
     "name": "stderr",
     "output_type": "stream",
     "text": [
      "Global seed set to 98\n"
     ]
    },
    {
     "data": {
      "application/vnd.jupyter.widget-view+json": {
       "model_id": "8266bfff47b44796bea5e08b64f552d7",
       "version_major": 2,
       "version_minor": 0
      },
      "text/plain": [
       "Finding best initial lr:   0%|          | 0/100 [00:00<?, ?it/s]"
      ]
     },
     "metadata": {},
     "output_type": "display_data"
    },
    {
     "name": "stdout",
     "output_type": "stream",
     "text": [
      "During: self.training_step\n",
      "is_training:\n"
     ]
    },
    {
     "data": {
      "text/html": [
       "<pre style=\"white-space:pre;overflow-x:auto;line-height:normal;font-family:Menlo,'DejaVu Sans Mono',consolas,'Courier New',monospace\"><span style=\"font-weight: bold\">{</span><span style=\"color: #008000; text-decoration-color: #008000\">'True'</span>: <span style=\"color: #008080; text-decoration-color: #008080; font-weight: bold\">49</span>, <span style=\"color: #008000; text-decoration-color: #008000\">'False'</span>: <span style=\"color: #008080; text-decoration-color: #008080; font-weight: bold\">0</span><span style=\"font-weight: bold\">}</span>\n",
       "</pre>\n"
      ],
      "text/plain": [
       "\u001b[1m{\u001b[0m\u001b[32m'True'\u001b[0m: \u001b[1;36m49\u001b[0m, \u001b[32m'False'\u001b[0m: \u001b[1;36m0\u001b[0m\u001b[1m}\u001b[0m\n"
      ]
     },
     "metadata": {},
     "output_type": "display_data"
    },
    {
     "name": "stdout",
     "output_type": "stream",
     "text": [
      "requires_grad:\n"
     ]
    },
    {
     "data": {
      "text/html": [
       "<pre style=\"white-space:pre;overflow-x:auto;line-height:normal;font-family:Menlo,'DejaVu Sans Mono',consolas,'Courier New',monospace\"><span style=\"font-weight: bold\">{</span><span style=\"color: #008000; text-decoration-color: #008000\">'True'</span>: <span style=\"color: #008080; text-decoration-color: #008080; font-weight: bold\">0</span>, <span style=\"color: #008000; text-decoration-color: #008000\">'False'</span>: <span style=\"color: #008080; text-decoration-color: #008080; font-weight: bold\">98</span><span style=\"font-weight: bold\">}</span>\n",
       "</pre>\n"
      ],
      "text/plain": [
       "\u001b[1m{\u001b[0m\u001b[32m'True'\u001b[0m: \u001b[1;36m0\u001b[0m, \u001b[32m'False'\u001b[0m: \u001b[1;36m98\u001b[0m\u001b[1m}\u001b[0m\n"
      ]
     },
     "metadata": {},
     "output_type": "display_data"
    },
    {
     "name": "stdout",
     "output_type": "stream",
     "text": [
      "--------------------------------------------------------------------------------\n",
      "DATALOADER:0 VALIDATE RESULTS\n",
      "{'val_acc': 0.055973269045352936,\n",
      " 'val_acc_epoch': 0.055973269045352936,\n",
      " 'val_loss': 2.5580384731292725,\n",
      " 'val_loss_epoch': 2.5580384731292725}\n",
      "--------------------------------------------------------------------------------\n"
     ]
    },
    {
     "name": "stderr",
     "output_type": "stream",
     "text": [
      "Restoring states from the checkpoint file at /media/data/jacob/GitHub/lightning-hydra-classifiers/notebooks/bn_unit_test_logs/avg/feature_extractor-PNAS-19_classes-res_512-bsz_32-resnet50-pretrained_True-pool_avg/replicate_1/results/checkpoints/lr_find_temp_model.ckpt\n",
      "Restored all states from the checkpoint file at /media/data/jacob/GitHub/lightning-hydra-classifiers/notebooks/bn_unit_test_logs/avg/feature_extractor-PNAS-19_classes-res_512-bsz_32-resnet50-pretrained_True-pool_avg/replicate_1/results/checkpoints/lr_find_temp_model.ckpt\n",
      "2021-10-18 10:51:28,708 lightning_hydra_classifiers.scripts.pretrain.lr_tuner INFO     Saved best lr value (along w/ batch_size, image_size) to file located at: /media/data/jacob/GitHub/lightning-hydra-classifiers/notebooks/bn_unit_test_logs/avg/feature_extractor-PNAS-19_classes-res_512-bsz_32-resnet50-pretrained_True-pool_avg/replicate_1/results/task_1/lr_tuner/hparams.yaml\n",
      "2021-10-18 10:51:28,712 lightning_hydra_classifiers.scripts.pretrain.lr_tuner INFO     File contents expected to contain: \n",
      "{'optimized_hparam_key': 'lr', 'lr': 0.036307805477010104, 'batch_size': 32, 'image_size': 512, 'lr_tuner_config': {'min_lr': 1e-08, 'max_lr': 1, 'num_training': 100, 'mode': 'exponential', 'early_stop_threshold': 4.0}}\n"
     ]
    },
    {
     "data": {
      "text/html": [
       "<br/>Waiting for W&B process to finish, PID 10296<br/>Program ended successfully."
      ],
      "text/plain": [
       "<IPython.core.display.HTML object>"
      ]
     },
     "metadata": {},
     "output_type": "display_data"
    },
    {
     "data": {
      "application/vnd.jupyter.widget-view+json": {
       "model_id": "",
       "version_major": 2,
       "version_minor": 0
      },
      "text/plain": [
       "VBox(children=(Label(value=' 0.78MB of 0.78MB uploaded (0.00MB deduped)\\r'), FloatProgress(value=1.0, max=1.0)…"
      ]
     },
     "metadata": {},
     "output_type": "display_data"
    },
    {
     "data": {
      "text/html": [
       "Find user logs for this run at: <code>/media/data/jacob/GitHub/lightning-hydra-classifiers/notebooks/wandb/run-20211018_105018-2pt3wuet/logs/debug.log</code>"
      ],
      "text/plain": [
       "<IPython.core.display.HTML object>"
      ]
     },
     "metadata": {},
     "output_type": "display_data"
    },
    {
     "data": {
      "text/html": [
       "Find internal logs for this run at: <code>/media/data/jacob/GitHub/lightning-hydra-classifiers/notebooks/wandb/run-20211018_105018-2pt3wuet/logs/debug-internal.log</code>"
      ],
      "text/plain": [
       "<IPython.core.display.HTML object>"
      ]
     },
     "metadata": {},
     "output_type": "display_data"
    },
    {
     "data": {
      "text/html": [
       "<h3>Run summary:</h3><br/><style>\n",
       "    table.wandb td:nth-child(1) { padding: 0 10px; text-align: right }\n",
       "    </style><table class=\"wandb\">\n",
       "<tr><td>_runtime</td><td>71</td></tr><tr><td>_timestamp</td><td>1634568689</td></tr><tr><td>_step</td><td>6</td></tr><tr><td>lr_finder/best/loss</td><td>2.63223</td></tr><tr><td>lr_finder/best/lr</td><td>0.03631</td></tr><tr><td>lr_finder/batch_size</td><td>32</td></tr><tr><td>image_size</td><td>512</td></tr></table>"
      ],
      "text/plain": [
       "<IPython.core.display.HTML object>"
      ]
     },
     "metadata": {},
     "output_type": "display_data"
    },
    {
     "data": {
      "text/html": [
       "<h3>Run history:</h3><br/><style>\n",
       "    table.wandb td:nth-child(1) { padding: 0 10px; text-align: right }\n",
       "    </style><table class=\"wandb\">\n",
       "<tr><td>_runtime</td><td>▁▁▁▁▁▁▁</td></tr><tr><td>_timestamp</td><td>▁▁▁▁▁▁▁</td></tr><tr><td>_step</td><td>▁▂▃▅▆▇█</td></tr><tr><td>lr_finder/best/loss</td><td>▁</td></tr><tr><td>lr_finder/best/lr</td><td>▁</td></tr><tr><td>lr_finder/batch_size</td><td>▁</td></tr><tr><td>image_size</td><td>▁</td></tr></table><br/>"
      ],
      "text/plain": [
       "<IPython.core.display.HTML object>"
      ]
     },
     "metadata": {},
     "output_type": "display_data"
    },
    {
     "data": {
      "text/html": [
       "Synced 6 W&B file(s), 2 media file(s), 1 artifact file(s) and 1 other file(s)"
      ],
      "text/plain": [
       "<IPython.core.display.HTML object>"
      ]
     },
     "metadata": {},
     "output_type": "display_data"
    },
    {
     "data": {
      "text/html": [
       "\n",
       "                    <br/>Synced <strong style=\"color:#cdcd00\">fresh-oath-29</strong>: <a href=\"https://wandb.ai/jrose/default/runs/2pt3wuet\" target=\"_blank\">https://wandb.ai/jrose/default/runs/2pt3wuet</a><br/>\n",
       "                "
      ],
      "text/plain": [
       "<IPython.core.display.HTML object>"
      ]
     },
     "metadata": {},
     "output_type": "display_data"
    },
    {
     "name": "stderr",
     "output_type": "stream",
     "text": [
      "2021-10-18 10:51:35,115 lightning_hydra_classifiers.scripts.pretrain.lr_tuner INFO     FINISHED: `run_lr_tuner(config)`\n",
      "2021-10-18 10:51:35,116 lightning_hydra_classifiers.scripts.pretrain.lr_tuner INFO     Proceeding with:\n",
      "\n",
      "2021-10-18 10:51:35,117 lightning_hydra_classifiers.scripts.pretrain.lr_tuner INFO     Learning rate = 3.631e-02\n",
      "2021-10-18 10:51:35,118 lightning_hydra_classifiers.scripts.pretrain.lr_tuner INFO     Batch size = 32\n",
      "/media/data/conda/jrose3/envs/sequoia/lib/python3.8/site-packages/pytorch_lightning/core/datamodule.py:423: LightningDeprecationWarning: DataModule.prepare_data has already been called, so it will not be called again. In v1.6 this behavior will change to always call DataModule.prepare_data.\n",
      "  rank_zero_deprecation(\n",
      "2021-10-18 10:51:35,124 lightning_hydra_classifiers.experiments.multitask.datamodules INFO     Task_1 (None): datamodule.setup(stage=fit)\n",
      "LOCAL_RANK: 0 - CUDA_VISIBLE_DEVICES: [0,1,2,3,4,5,6,7]\n"
     ]
    },
    {
     "name": "stdout",
     "output_type": "stream",
     "text": [
      "self.hparams=\"backbone\":            {'backbone_name': 'resnet50'}\n",
      "\"backbone_lr_mult\":    0.1\n",
      "\"backbone_name\":       resnet50\n",
      "\"dropout_p\":           0.3\n",
      "\"finetuning_strategy\": feature_extractor\n",
      "\"head_type\":           linear\n",
      "\"hidden_size\":         None\n",
      "\"lr\":                  0.036307805477010104\n",
      "\"num_classes\":         19\n",
      "\"pool_size\":           1\n",
      "\"pool_type\":           avg\n",
      "\"pretrained\":          True\n",
      "\"seed\":                98\n",
      "\"weight_decay\":        0.01\n"
     ]
    },
    {
     "name": "stderr",
     "output_type": "stream",
     "text": [
      "\u001b[34m\u001b[1mwandb\u001b[0m: wandb version 0.12.4 is available!  To upgrade, please run:\n",
      "\u001b[34m\u001b[1mwandb\u001b[0m:  $ pip install wandb --upgrade\n"
     ]
    },
    {
     "data": {
      "text/html": [
       "\n",
       "                Tracking run with wandb version 0.10.26<br/>\n",
       "                Syncing run <strong style=\"color:#cdcd00\">restful-snowflake-1</strong> to <a href=\"https://wandb.ai\" target=\"_blank\">Weights & Biases</a> <a href=\"https://docs.wandb.com/integrations/jupyter.html\" target=\"_blank\">(Documentation)</a>.<br/>\n",
       "                Project page: <a href=\"https://wandb.ai/jrose/bn_global_pool_trials\" target=\"_blank\">https://wandb.ai/jrose/bn_global_pool_trials</a><br/>\n",
       "                Run page: <a href=\"https://wandb.ai/jrose/bn_global_pool_trials/runs/2bp6mkpz\" target=\"_blank\">https://wandb.ai/jrose/bn_global_pool_trials/runs/2bp6mkpz</a><br/>\n",
       "                Run data is saved locally in <code>/media/data/jacob/GitHub/lightning-hydra-classifiers/notebooks/wandb/run-20211018_105135-2bp6mkpz</code><br/><br/>\n",
       "            "
      ],
      "text/plain": [
       "<IPython.core.display.HTML object>"
      ]
     },
     "metadata": {},
     "output_type": "display_data"
    },
    {
     "name": "stderr",
     "output_type": "stream",
     "text": [
      "\n",
      "  | Name                    | Type             | Params\n",
      "-------------------------------------------------------------\n",
      "0 | model                   | Sequential       | 23.5 M\n",
      "1 | criterion               | CrossEntropyLoss | 0     \n",
      "2 | metrics_train           | MetricCollection | 0     \n",
      "3 | metrics_train_per_class | MetricCollection | 0     \n",
      "4 | metrics_val             | MetricCollection | 0     \n",
      "5 | metrics_val_per_class   | MetricCollection | 0     \n",
      "6 | metrics_test            | MetricCollection | 0     \n",
      "7 | metrics_test_per_class  | MetricCollection | 0     \n",
      "-------------------------------------------------------------\n",
      "38.9 K    Trainable params\n",
      "23.5 M    Non-trainable params\n",
      "23.5 M    Total params\n",
      "94.188    Total estimated model params size (MB)\n"
     ]
    },
    {
     "data": {
      "application/vnd.jupyter.widget-view+json": {
       "model_id": "",
       "version_major": 2,
       "version_minor": 0
      },
      "text/plain": [
       "Validation sanity check: 0it [00:00, ?it/s]"
      ]
     },
     "metadata": {},
     "output_type": "display_data"
    },
    {
     "name": "stderr",
     "output_type": "stream",
     "text": [
      "Global seed set to 98\n",
      "/media/data/conda/jrose3/envs/sequoia/lib/python3.8/site-packages/pl_bolts/callbacks/data_monitor.py:104: UserWarning: ModuleDataMonitor does not support logging with LoggerCollection. Supported loggers are: TensorBoardLogger, WandbLogger\n",
      "  rank_zero_warn(\n"
     ]
    },
    {
     "data": {
      "application/vnd.jupyter.widget-view+json": {
       "model_id": "b71e3ae821f84793aa73e8bcf231446c",
       "version_major": 2,
       "version_minor": 0
      },
      "text/plain": [
       "Training: 37it [00:00, ?it/s]"
      ]
     },
     "metadata": {},
     "output_type": "display_data"
    },
    {
     "data": {
      "application/vnd.jupyter.widget-view+json": {
       "model_id": "",
       "version_major": 2,
       "version_minor": 0
      },
      "text/plain": [
       "Validating: 0it [00:00, ?it/s]"
      ]
     },
     "metadata": {},
     "output_type": "display_data"
    },
    {
     "name": "stderr",
     "output_type": "stream",
     "text": [
      "/media/data/conda/jrose3/envs/sequoia/lib/python3.8/site-packages/sklearn/metrics/_classification.py:1245: UndefinedMetricWarning: Recall is ill-defined and being set to 0.0 in labels with no true samples. Use `zero_division` parameter to control this behavior.\n",
      "  _warn_prf(average, modifier, msg_start, len(result))\n"
     ]
    },
    {
     "name": "stdout",
     "output_type": "stream",
     "text": [
      "val/per_class/F1_distributions: metric_data[0].shape=(1,)\n",
      "val/per_class/Precision_distributions: metric_data[0].shape=(1,)\n",
      "val/per_class/Recall_distributions: metric_data[0].shape=(1,)\n",
      "val/confusion_matrix/restful-snowflake-1\n"
     ]
    },
    {
     "name": "stderr",
     "output_type": "stream",
     "text": [
      "Metric val_acc improved. New best score: 0.336\n",
      "Epoch 0, global step 62: val_acc reached 0.33645 (best 0.33645), saving model to \"/media/data/jacob/GitHub/lightning-hydra-classifiers/notebooks/bn_unit_test_logs/avg/feature_extractor-PNAS-19_classes-res_512-bsz_32-resnet50-pretrained_True-pool_avg/replicate_1/results/checkpoints/epoch=00-val_loss=2.540-val_acc=0.336.ckpt\" as top 2\n"
     ]
    },
    {
     "data": {
      "application/vnd.jupyter.widget-view+json": {
       "model_id": "",
       "version_major": 2,
       "version_minor": 0
      },
      "text/plain": [
       "Validating: 0it [00:00, ?it/s]"
      ]
     },
     "metadata": {},
     "output_type": "display_data"
    },
    {
     "name": "stderr",
     "output_type": "stream",
     "text": [
      "/media/data/conda/jrose3/envs/sequoia/lib/python3.8/site-packages/sklearn/metrics/_classification.py:1245: UndefinedMetricWarning: Recall is ill-defined and being set to 0.0 in labels with no true samples. Use `zero_division` parameter to control this behavior.\n",
      "  _warn_prf(average, modifier, msg_start, len(result))\n"
     ]
    },
    {
     "name": "stdout",
     "output_type": "stream",
     "text": [
      "val/per_class/F1_distributions: metric_data[0].shape=(1,)\n",
      "val/per_class/Precision_distributions: metric_data[0].shape=(1,)\n",
      "val/per_class/Recall_distributions: metric_data[0].shape=(1,)\n",
      "val/confusion_matrix/restful-snowflake-1\n"
     ]
    },
    {
     "name": "stderr",
     "output_type": "stream",
     "text": [
      "Metric val_acc improved by 0.087 >= min_delta = 0.05. New best score: 0.424\n",
      "Epoch 1, global step 124: val_acc reached 0.42364 (best 0.42364), saving model to \"/media/data/jacob/GitHub/lightning-hydra-classifiers/notebooks/bn_unit_test_logs/avg/feature_extractor-PNAS-19_classes-res_512-bsz_32-resnet50-pretrained_True-pool_avg/replicate_1/results/checkpoints/epoch=01-val_loss=2.167-val_acc=0.424.ckpt\" as top 2\n"
     ]
    },
    {
     "data": {
      "application/vnd.jupyter.widget-view+json": {
       "model_id": "",
       "version_major": 2,
       "version_minor": 0
      },
      "text/plain": [
       "Validating: 0it [00:00, ?it/s]"
      ]
     },
     "metadata": {},
     "output_type": "display_data"
    },
    {
     "name": "stderr",
     "output_type": "stream",
     "text": [
      "/media/data/conda/jrose3/envs/sequoia/lib/python3.8/site-packages/sklearn/metrics/_classification.py:1245: UndefinedMetricWarning: Recall is ill-defined and being set to 0.0 in labels with no true samples. Use `zero_division` parameter to control this behavior.\n",
      "  _warn_prf(average, modifier, msg_start, len(result))\n"
     ]
    },
    {
     "name": "stdout",
     "output_type": "stream",
     "text": [
      "val/per_class/F1_distributions: metric_data[0].shape=(1,)\n",
      "val/per_class/Precision_distributions: metric_data[0].shape=(1,)\n",
      "val/per_class/Recall_distributions: metric_data[0].shape=(1,)\n",
      "val/confusion_matrix/restful-snowflake-1\n"
     ]
    },
    {
     "name": "stderr",
     "output_type": "stream",
     "text": [
      "Epoch 2, global step 186: val_acc reached 0.43238 (best 0.43238), saving model to \"/media/data/jacob/GitHub/lightning-hydra-classifiers/notebooks/bn_unit_test_logs/avg/feature_extractor-PNAS-19_classes-res_512-bsz_32-resnet50-pretrained_True-pool_avg/replicate_1/results/checkpoints/epoch=02-val_loss=1.748-val_acc=0.432.ckpt\" as top 2\n"
     ]
    },
    {
     "data": {
      "application/vnd.jupyter.widget-view+json": {
       "model_id": "",
       "version_major": 2,
       "version_minor": 0
      },
      "text/plain": [
       "Validating: 0it [00:00, ?it/s]"
      ]
     },
     "metadata": {},
     "output_type": "display_data"
    },
    {
     "name": "stderr",
     "output_type": "stream",
     "text": [
      "/media/data/conda/jrose3/envs/sequoia/lib/python3.8/site-packages/sklearn/metrics/_classification.py:1245: UndefinedMetricWarning: Recall is ill-defined and being set to 0.0 in labels with no true samples. Use `zero_division` parameter to control this behavior.\n",
      "  _warn_prf(average, modifier, msg_start, len(result))\n"
     ]
    },
    {
     "name": "stdout",
     "output_type": "stream",
     "text": [
      "val/per_class/F1_distributions: metric_data[0].shape=(1,)\n",
      "val/per_class/Precision_distributions: metric_data[0].shape=(1,)\n",
      "val/per_class/Recall_distributions: metric_data[0].shape=(1,)\n",
      "val/confusion_matrix/restful-snowflake-1\n"
     ]
    },
    {
     "name": "stderr",
     "output_type": "stream",
     "text": [
      "Epoch 3, global step 248: val_acc was not in top 2\n"
     ]
    },
    {
     "data": {
      "application/vnd.jupyter.widget-view+json": {
       "model_id": "",
       "version_major": 2,
       "version_minor": 0
      },
      "text/plain": [
       "Validating: 0it [00:00, ?it/s]"
      ]
     },
     "metadata": {},
     "output_type": "display_data"
    },
    {
     "name": "stderr",
     "output_type": "stream",
     "text": [
      "/media/data/conda/jrose3/envs/sequoia/lib/python3.8/site-packages/sklearn/metrics/_classification.py:1245: UndefinedMetricWarning: Recall is ill-defined and being set to 0.0 in labels with no true samples. Use `zero_division` parameter to control this behavior.\n",
      "  _warn_prf(average, modifier, msg_start, len(result))\n"
     ]
    },
    {
     "name": "stdout",
     "output_type": "stream",
     "text": [
      "val/per_class/F1_distributions: metric_data[0].shape=(1,)\n",
      "val/per_class/Precision_distributions: metric_data[0].shape=(1,)\n",
      "val/per_class/Recall_distributions: metric_data[0].shape=(1,)\n",
      "val/confusion_matrix/restful-snowflake-1\n"
     ]
    },
    {
     "name": "stderr",
     "output_type": "stream",
     "text": [
      "Epoch 4, global step 310: val_acc reached 0.44332 (best 0.44332), saving model to \"/media/data/jacob/GitHub/lightning-hydra-classifiers/notebooks/bn_unit_test_logs/avg/feature_extractor-PNAS-19_classes-res_512-bsz_32-resnet50-pretrained_True-pool_avg/replicate_1/results/checkpoints/epoch=04-val_loss=2.468-val_acc=0.443.ckpt\" as top 2\n"
     ]
    },
    {
     "data": {
      "application/vnd.jupyter.widget-view+json": {
       "model_id": "",
       "version_major": 2,
       "version_minor": 0
      },
      "text/plain": [
       "Validating: 0it [00:00, ?it/s]"
      ]
     },
     "metadata": {},
     "output_type": "display_data"
    },
    {
     "name": "stderr",
     "output_type": "stream",
     "text": [
      "/media/data/conda/jrose3/envs/sequoia/lib/python3.8/site-packages/sklearn/metrics/_classification.py:1245: UndefinedMetricWarning: Recall is ill-defined and being set to 0.0 in labels with no true samples. Use `zero_division` parameter to control this behavior.\n",
      "  _warn_prf(average, modifier, msg_start, len(result))\n"
     ]
    },
    {
     "name": "stdout",
     "output_type": "stream",
     "text": [
      "val/per_class/F1_distributions: metric_data[0].shape=(1,)\n",
      "val/per_class/Precision_distributions: metric_data[0].shape=(1,)\n",
      "val/per_class/Recall_distributions: metric_data[0].shape=(1,)\n",
      "val/confusion_matrix/restful-snowflake-1\n"
     ]
    },
    {
     "name": "stderr",
     "output_type": "stream",
     "text": [
      "Epoch 5, global step 372: val_acc was not in top 2\n"
     ]
    },
    {
     "data": {
      "application/vnd.jupyter.widget-view+json": {
       "model_id": "",
       "version_major": 2,
       "version_minor": 0
      },
      "text/plain": [
       "Validating: 0it [00:00, ?it/s]"
      ]
     },
     "metadata": {},
     "output_type": "display_data"
    },
    {
     "name": "stderr",
     "output_type": "stream",
     "text": [
      "/media/data/conda/jrose3/envs/sequoia/lib/python3.8/site-packages/sklearn/metrics/_classification.py:1245: UndefinedMetricWarning: Recall is ill-defined and being set to 0.0 in labels with no true samples. Use `zero_division` parameter to control this behavior.\n",
      "  _warn_prf(average, modifier, msg_start, len(result))\n"
     ]
    },
    {
     "name": "stdout",
     "output_type": "stream",
     "text": [
      "val/per_class/F1_distributions: metric_data[0].shape=(1,)\n",
      "val/per_class/Precision_distributions: metric_data[0].shape=(1,)\n",
      "val/per_class/Recall_distributions: metric_data[0].shape=(1,)\n",
      "val/confusion_matrix/restful-snowflake-1\n"
     ]
    },
    {
     "name": "stderr",
     "output_type": "stream",
     "text": [
      "Metric val_acc improved by 0.067 >= min_delta = 0.05. New best score: 0.491\n",
      "Epoch 6, global step 434: val_acc reached 0.49078 (best 0.49078), saving model to \"/media/data/jacob/GitHub/lightning-hydra-classifiers/notebooks/bn_unit_test_logs/avg/feature_extractor-PNAS-19_classes-res_512-bsz_32-resnet50-pretrained_True-pool_avg/replicate_1/results/checkpoints/epoch=06-val_loss=1.956-val_acc=0.491.ckpt\" as top 2\n"
     ]
    },
    {
     "data": {
      "application/vnd.jupyter.widget-view+json": {
       "model_id": "",
       "version_major": 2,
       "version_minor": 0
      },
      "text/plain": [
       "Validating: 0it [00:00, ?it/s]"
      ]
     },
     "metadata": {},
     "output_type": "display_data"
    },
    {
     "name": "stderr",
     "output_type": "stream",
     "text": [
      "/media/data/conda/jrose3/envs/sequoia/lib/python3.8/site-packages/sklearn/metrics/_classification.py:1245: UndefinedMetricWarning: Recall is ill-defined and being set to 0.0 in labels with no true samples. Use `zero_division` parameter to control this behavior.\n",
      "  _warn_prf(average, modifier, msg_start, len(result))\n"
     ]
    },
    {
     "name": "stdout",
     "output_type": "stream",
     "text": [
      "val/per_class/F1_distributions: metric_data[0].shape=(1,)\n",
      "val/per_class/Precision_distributions: metric_data[0].shape=(1,)\n",
      "val/per_class/Recall_distributions: metric_data[0].shape=(1,)\n",
      "val/confusion_matrix/restful-snowflake-1\n"
     ]
    },
    {
     "name": "stderr",
     "output_type": "stream",
     "text": [
      "Epoch 7, global step 496: val_acc was not in top 2\n"
     ]
    },
    {
     "data": {
      "application/vnd.jupyter.widget-view+json": {
       "model_id": "",
       "version_major": 2,
       "version_minor": 0
      },
      "text/plain": [
       "Validating: 0it [00:00, ?it/s]"
      ]
     },
     "metadata": {},
     "output_type": "display_data"
    },
    {
     "name": "stderr",
     "output_type": "stream",
     "text": [
      "/media/data/conda/jrose3/envs/sequoia/lib/python3.8/site-packages/sklearn/metrics/_classification.py:1245: UndefinedMetricWarning: Recall is ill-defined and being set to 0.0 in labels with no true samples. Use `zero_division` parameter to control this behavior.\n",
      "  _warn_prf(average, modifier, msg_start, len(result))\n"
     ]
    },
    {
     "name": "stdout",
     "output_type": "stream",
     "text": [
      "val/per_class/F1_distributions: metric_data[0].shape=(1,)\n",
      "val/per_class/Precision_distributions: metric_data[0].shape=(1,)\n",
      "val/per_class/Recall_distributions: metric_data[0].shape=(1,)\n",
      "val/confusion_matrix/restful-snowflake-1\n"
     ]
    },
    {
     "name": "stderr",
     "output_type": "stream",
     "text": [
      "Epoch 8, global step 558: val_acc reached 0.47410 (best 0.49078), saving model to \"/media/data/jacob/GitHub/lightning-hydra-classifiers/notebooks/bn_unit_test_logs/avg/feature_extractor-PNAS-19_classes-res_512-bsz_32-resnet50-pretrained_True-pool_avg/replicate_1/results/checkpoints/epoch=08-val_loss=2.080-val_acc=0.474.ckpt\" as top 2\n"
     ]
    },
    {
     "data": {
      "application/vnd.jupyter.widget-view+json": {
       "model_id": "",
       "version_major": 2,
       "version_minor": 0
      },
      "text/plain": [
       "Validating: 0it [00:00, ?it/s]"
      ]
     },
     "metadata": {},
     "output_type": "display_data"
    },
    {
     "name": "stderr",
     "output_type": "stream",
     "text": [
      "/media/data/conda/jrose3/envs/sequoia/lib/python3.8/site-packages/sklearn/metrics/_classification.py:1245: UndefinedMetricWarning: Recall is ill-defined and being set to 0.0 in labels with no true samples. Use `zero_division` parameter to control this behavior.\n",
      "  _warn_prf(average, modifier, msg_start, len(result))\n"
     ]
    },
    {
     "name": "stdout",
     "output_type": "stream",
     "text": [
      "val/per_class/F1_distributions: metric_data[0].shape=(1,)\n",
      "val/per_class/Precision_distributions: metric_data[0].shape=(1,)\n",
      "val/per_class/Recall_distributions: metric_data[0].shape=(1,)\n"
     ]
    },
    {
     "name": "stderr",
     "output_type": "stream",
     "text": [
      "/media/data/jacob/GitHub/lightning-hydra-classifiers/lightning_hydra_classifiers/utils/plot_utils.py:73: RuntimeWarning: More than 20 figures have been opened. Figures created through the pyplot interface (`matplotlib.pyplot.figure`) are retained until explicitly closed and may consume too much memory. (To control this warning, see the rcParam `figure.max_open_warning`).\n",
      "  fig, ax = plt.subplots(1,1, figsize=figsize)\n"
     ]
    },
    {
     "name": "stdout",
     "output_type": "stream",
     "text": [
      "val/confusion_matrix/restful-snowflake-1\n"
     ]
    },
    {
     "name": "stderr",
     "output_type": "stream",
     "text": [
      "Epoch 9, global step 620: val_acc reached 0.48993 (best 0.49078), saving model to \"/media/data/jacob/GitHub/lightning-hydra-classifiers/notebooks/bn_unit_test_logs/avg/feature_extractor-PNAS-19_classes-res_512-bsz_32-resnet50-pretrained_True-pool_avg/replicate_1/results/checkpoints/epoch=09-val_loss=2.481-val_acc=0.490.ckpt\" as top 2\n",
      "Saving latest checkpoint...\n",
      "/media/data/conda/jrose3/envs/sequoia/lib/python3.8/site-packages/pytorch_lightning/trainer/deprecated_api.py:32: LightningDeprecationWarning: `Trainer.train_loop` has been renamed to `Trainer.fit_loop` and will be removed in v1.6.\n",
      "  rank_zero_deprecation(\n",
      "/media/data/conda/jrose3/envs/sequoia/lib/python3.8/site-packages/pytorch_lightning/core/datamodule.py:423: LightningDeprecationWarning: DataModule.teardown has already been called, so it will not be called again. In v1.6 this behavior will change to always call DataModule.teardown.\n",
      "  rank_zero_deprecation(\n",
      "Global seed set to 98\n",
      "/media/data/conda/jrose3/envs/sequoia/lib/python3.8/site-packages/pytorch_lightning/trainer/trainer.py:679: LightningDeprecationWarning: `trainer.test(test_dataloaders)` is deprecated in v1.4 and will be removed in v1.6. Use `trainer.test(dataloaders)` instead.\n",
      "  rank_zero_deprecation(\n",
      "/media/data/conda/jrose3/envs/sequoia/lib/python3.8/site-packages/pytorch_lightning/core/datamodule.py:423: LightningDeprecationWarning: DataModule.prepare_data has already been called, so it will not be called again. In v1.6 this behavior will change to always call DataModule.prepare_data.\n",
      "  rank_zero_deprecation(\n",
      "2021-10-18 11:03:52,768 lightning_hydra_classifiers.experiments.multitask.datamodules INFO     Task_1: datamodule.setup(stage=test)\n",
      "LOCAL_RANK: 0 - CUDA_VISIBLE_DEVICES: [0,1,2,3,4,5,6,7]\n"
     ]
    },
    {
     "name": "stdout",
     "output_type": "stream",
     "text": [
      "Set current model training strategy to: feature_extractor\n",
      "self.num_classes=19\n",
      "Best checkpoint saved to: /media/data/jacob/GitHub/lightning-hydra-classifiers/notebooks/bn_unit_test_logs/avg/feature_extractor-PNAS-19_classes-res_512-bsz_32-resnet50-pretrained_True-pool_avg/replicate_1/results/checkpoints/epoch=06-val_loss=1.956-val_acc=0.491.ckpt\n"
     ]
    },
    {
     "data": {
      "application/vnd.jupyter.widget-view+json": {
       "model_id": "519cea55865b4b48820ee0d9fd835d50",
       "version_major": 2,
       "version_minor": 0
      },
      "text/plain": [
       "Testing: 0it [00:00, ?it/s]"
      ]
     },
     "metadata": {},
     "output_type": "display_data"
    },
    {
     "name": "stderr",
     "output_type": "stream",
     "text": [
      "2021-10-18 11:03:59,820 lightning_hydra_classifiers.experiments.multitask.datamodules INFO     Task_1: datamodule.setup(stage=test)\n",
      "LOCAL_RANK: 0 - CUDA_VISIBLE_DEVICES: [0,1,2,3,4,5,6,7]\n"
     ]
    },
    {
     "data": {
      "application/vnd.jupyter.widget-view+json": {
       "model_id": "3949712a28d145a68b6b7eb6c5d0dc0f",
       "version_major": 2,
       "version_minor": 0
      },
      "text/plain": [
       "Testing: 0it [00:00, ?it/s]"
      ]
     },
     "metadata": {},
     "output_type": "display_data"
    },
    {
     "name": "stdout",
     "output_type": "stream",
     "text": [
      "[SAVED TRIAL RESULTS] Location: /media/data/jacob/GitHub/lightning-hydra-classifiers/notebooks/bn_unit_test_logs/avg/feature_extractor-PNAS-19_classes-res_512-bsz_32-resnet50-pretrained_True-pool_avg/replicate_1/results/results.yaml\n"
     ]
    },
    {
     "data": {
      "text/html": [
       "<pre style=\"white-space:pre;overflow-x:auto;line-height:normal;font-family:Menlo,'DejaVu Sans Mono',consolas,'Courier New',monospace\"><span style=\"font-weight: bold\">{</span>\n",
       "    <span style=\"color: #008000; text-decoration-color: #008000\">'test_acc'</span>: <span style=\"color: #008080; text-decoration-color: #008080; font-weight: bold\">0.2617359757423401</span>,\n",
       "    <span style=\"color: #008000; text-decoration-color: #008000\">'val_acc'</span>: <span style=\"color: #008080; text-decoration-color: #008080; font-weight: bold\">0.4907832741737366</span>,\n",
       "    <span style=\"color: #008000; text-decoration-color: #008000\">'ckpt_path'</span>: <span style=\"color: #008000; text-decoration-color: #008000\">'/media/data/jacob/GitHub/lightning-hydra-classifiers/notebooks/bn_unit_test</span>\n",
       "<span style=\"color: #008000; text-decoration-color: #008000\">_logs/avg/feature_extractor-PNAS-19_classes-res_512-bsz_32-resnet50-pretrained_True-pool_avg/</span>\n",
       "<span style=\"color: #008000; text-decoration-color: #008000\">replicate_1/results/checkpoints/epoch=06-val_loss=1.956-val_acc=0.491.ckpt'</span>,\n",
       "    <span style=\"color: #008000; text-decoration-color: #008000\">'model_config'</span>: <span style=\"font-weight: bold\">{</span>\n",
       "        <span style=\"color: #008000; text-decoration-color: #008000\">'backbone'</span>: <span style=\"font-weight: bold\">{</span><span style=\"color: #008000; text-decoration-color: #008000\">'backbone_name'</span>: <span style=\"color: #008000; text-decoration-color: #008000\">'resnet50'</span><span style=\"font-weight: bold\">}</span>,\n",
       "        <span style=\"color: #008000; text-decoration-color: #008000\">'backbone_name'</span>: <span style=\"color: #008000; text-decoration-color: #008000\">'resnet50'</span>,\n",
       "        <span style=\"color: #008000; text-decoration-color: #008000\">'pretrained'</span>: <span style=\"color: #00ff00; text-decoration-color: #00ff00; font-style: italic\">True</span>,\n",
       "        <span style=\"color: #008000; text-decoration-color: #008000\">'num_classes'</span>: <span style=\"color: #008080; text-decoration-color: #008080; font-weight: bold\">19</span>,\n",
       "        <span style=\"color: #008000; text-decoration-color: #008000\">'pool_type'</span>: <span style=\"color: #008000; text-decoration-color: #008000\">'avg'</span>,\n",
       "        <span style=\"color: #008000; text-decoration-color: #008000\">'head_type'</span>: <span style=\"color: #008000; text-decoration-color: #008000\">'linear'</span>,\n",
       "        <span style=\"color: #008000; text-decoration-color: #008000\">'hidden_size'</span>: <span style=\"color: #800080; text-decoration-color: #800080; font-style: italic\">None</span>,\n",
       "        <span style=\"color: #008000; text-decoration-color: #008000\">'dropout_p'</span>: <span style=\"color: #008080; text-decoration-color: #008080; font-weight: bold\">0.3</span>,\n",
       "        <span style=\"color: #008000; text-decoration-color: #008000\">'lr'</span>: <span style=\"color: #008080; text-decoration-color: #008080; font-weight: bold\">0.036307805477010104</span>,\n",
       "        <span style=\"color: #008000; text-decoration-color: #008000\">'backbone_lr_mult'</span>: <span style=\"color: #008080; text-decoration-color: #008080; font-weight: bold\">0.1</span>,\n",
       "        <span style=\"color: #008000; text-decoration-color: #008000\">'finetuning_strategy'</span>: <span style=\"color: #008000; text-decoration-color: #008000\">'feature_extractor'</span>,\n",
       "        <span style=\"color: #008000; text-decoration-color: #008000\">'weight_decay'</span>: <span style=\"color: #008080; text-decoration-color: #008080; font-weight: bold\">0.01</span>,\n",
       "        <span style=\"color: #008000; text-decoration-color: #008000\">'seed'</span>: <span style=\"color: #008080; text-decoration-color: #008080; font-weight: bold\">98</span>\n",
       "    <span style=\"font-weight: bold\">}</span>,\n",
       "    <span style=\"color: #008000; text-decoration-color: #008000\">'data_config'</span>: <span style=\"font-weight: bold\">{</span>\n",
       "        <span style=\"color: #008000; text-decoration-color: #008000\">'_target_'</span>: \n",
       "<span style=\"color: #008000; text-decoration-color: #008000\">'lightning_hydra_classifiers.experiments.multitask.datamodules.MultiTaskDataModule'</span>,\n",
       "        <span style=\"color: #008000; text-decoration-color: #008000\">'image_size'</span>: <span style=\"color: #008080; text-decoration-color: #008080; font-weight: bold\">512</span>,\n",
       "        <span style=\"color: #008000; text-decoration-color: #008000\">'image_buffer_size'</span>: <span style=\"color: #008080; text-decoration-color: #008080; font-weight: bold\">32</span>,\n",
       "        <span style=\"color: #008000; text-decoration-color: #008000\">'batch_size'</span>: <span style=\"color: #008080; text-decoration-color: #008080; font-weight: bold\">32</span>,\n",
       "        <span style=\"color: #008000; text-decoration-color: #008000\">'num_workers'</span>: <span style=\"color: #008080; text-decoration-color: #008080; font-weight: bold\">4</span>,\n",
       "        <span style=\"color: #008000; text-decoration-color: #008000\">'pin_memory'</span>: <span style=\"color: #00ff00; text-decoration-color: #00ff00; font-style: italic\">True</span>,\n",
       "        <span style=\"color: #008000; text-decoration-color: #008000\">'dataset_name'</span>: <span style=\"color: #008000; text-decoration-color: #008000\">'Extant-PNAS_to_PNAS'</span>,\n",
       "        <span style=\"color: #008000; text-decoration-color: #008000\">'experiment'</span>: <span style=\"font-weight: bold\">{</span>\n",
       "            <span style=\"color: #008000; text-decoration-color: #008000\">'source_root_dir'</span>: <span style=\"color: #008000; text-decoration-color: #008000\">'/media/data_cifs/projects/prj_fossils/users/jacob/experiments</span>\n",
       "<span style=\"color: #008000; text-decoration-color: #008000\">/July2021-Nov2021/csv_datasets/leavesdb-v1_0'</span>,\n",
       "            <span style=\"color: #008000; text-decoration-color: #008000\">'experiment_root_dir'</span>: <span style=\"color: #008000; text-decoration-color: #008000\">'/media/data_cifs/projects/prj_fossils/users/jacob/experim</span>\n",
       "<span style=\"color: #008000; text-decoration-color: #008000\">ents/July2021-Nov2021/csv_datasets/experimental_datasets'</span>,\n",
       "            <span style=\"color: #008000; text-decoration-color: #008000\">'experiment_name'</span>: <span style=\"color: #008000; text-decoration-color: #008000\">'Extant-to-PNAS-512-transfer_benchmark'</span>,\n",
       "            <span style=\"color: #008000; text-decoration-color: #008000\">'seed'</span>: <span style=\"color: #008080; text-decoration-color: #008080; font-weight: bold\">96857</span>,\n",
       "            <span style=\"color: #008000; text-decoration-color: #008000\">'task_0'</span>: <span style=\"font-weight: bold\">{</span>\n",
       "                <span style=\"color: #008000; text-decoration-color: #008000\">'name'</span>: <span style=\"color: #008000; text-decoration-color: #008000\">'Extant_Leaves_family_10_512_minus_PNAS_family_100_512'</span>,\n",
       "                <span style=\"color: #008000; text-decoration-color: #008000\">'val_split'</span>: <span style=\"color: #008080; text-decoration-color: #008080; font-weight: bold\">0.2</span>,\n",
       "                <span style=\"color: #008000; text-decoration-color: #008000\">'test_split'</span>: <span style=\"color: #800080; text-decoration-color: #800080; font-style: italic\">None</span>\n",
       "            <span style=\"font-weight: bold\">}</span>,\n",
       "            <span style=\"color: #008000; text-decoration-color: #008000\">'task_1'</span>: <span style=\"font-weight: bold\">{</span>\n",
       "                <span style=\"color: #008000; text-decoration-color: #008000\">'name'</span>: <span style=\"color: #008000; text-decoration-color: #008000\">'PNAS_family_100_512_minus_Extant_Leaves_family_10_512'</span>,\n",
       "                <span style=\"color: #008000; text-decoration-color: #008000\">'val_split'</span>: <span style=\"color: #008080; text-decoration-color: #008080; font-weight: bold\">0.2</span>,\n",
       "                <span style=\"color: #008000; text-decoration-color: #008000\">'test_split'</span>: <span style=\"color: #800080; text-decoration-color: #800080; font-style: italic\">None</span>\n",
       "            <span style=\"font-weight: bold\">}</span>\n",
       "        <span style=\"font-weight: bold\">}</span>\n",
       "    <span style=\"font-weight: bold\">}</span>\n",
       "<span style=\"font-weight: bold\">}</span>\n",
       "</pre>\n"
      ],
      "text/plain": [
       "\u001b[1m{\u001b[0m\n",
       "    \u001b[32m'test_acc'\u001b[0m: \u001b[1;36m0.2617359757423401\u001b[0m,\n",
       "    \u001b[32m'val_acc'\u001b[0m: \u001b[1;36m0.4907832741737366\u001b[0m,\n",
       "    \u001b[32m'ckpt_path'\u001b[0m: \u001b[32m'/media/data/jacob/GitHub/lightning-hydra-classifiers/notebooks/bn_unit_test\u001b[0m\n",
       "\u001b[32m_logs/avg/feature_extractor-PNAS-19_classes-res_512-bsz_32-resnet50-pretrained_True-pool_avg/\u001b[0m\n",
       "\u001b[32mreplicate_1/results/checkpoints/\u001b[0m\u001b[32mepoch\u001b[0m\u001b[32m=\u001b[0m\u001b[32m06\u001b[0m\u001b[32m-\u001b[0m\u001b[32mval_loss\u001b[0m\u001b[32m=\u001b[0m\u001b[32m1\u001b[0m\u001b[32m.956-\u001b[0m\u001b[32mval_acc\u001b[0m\u001b[32m=\u001b[0m\u001b[32m0\u001b[0m\u001b[32m.491.ckpt'\u001b[0m,\n",
       "    \u001b[32m'model_config'\u001b[0m: \u001b[1m{\u001b[0m\n",
       "        \u001b[32m'backbone'\u001b[0m: \u001b[1m{\u001b[0m\u001b[32m'backbone_name'\u001b[0m: \u001b[32m'resnet50'\u001b[0m\u001b[1m}\u001b[0m,\n",
       "        \u001b[32m'backbone_name'\u001b[0m: \u001b[32m'resnet50'\u001b[0m,\n",
       "        \u001b[32m'pretrained'\u001b[0m: \u001b[3;92mTrue\u001b[0m,\n",
       "        \u001b[32m'num_classes'\u001b[0m: \u001b[1;36m19\u001b[0m,\n",
       "        \u001b[32m'pool_type'\u001b[0m: \u001b[32m'avg'\u001b[0m,\n",
       "        \u001b[32m'head_type'\u001b[0m: \u001b[32m'linear'\u001b[0m,\n",
       "        \u001b[32m'hidden_size'\u001b[0m: \u001b[3;35mNone\u001b[0m,\n",
       "        \u001b[32m'dropout_p'\u001b[0m: \u001b[1;36m0.3\u001b[0m,\n",
       "        \u001b[32m'lr'\u001b[0m: \u001b[1;36m0.036307805477010104\u001b[0m,\n",
       "        \u001b[32m'backbone_lr_mult'\u001b[0m: \u001b[1;36m0.1\u001b[0m,\n",
       "        \u001b[32m'finetuning_strategy'\u001b[0m: \u001b[32m'feature_extractor'\u001b[0m,\n",
       "        \u001b[32m'weight_decay'\u001b[0m: \u001b[1;36m0.01\u001b[0m,\n",
       "        \u001b[32m'seed'\u001b[0m: \u001b[1;36m98\u001b[0m\n",
       "    \u001b[1m}\u001b[0m,\n",
       "    \u001b[32m'data_config'\u001b[0m: \u001b[1m{\u001b[0m\n",
       "        \u001b[32m'_target_'\u001b[0m: \n",
       "\u001b[32m'lightning_hydra_classifiers.experiments.multitask.datamodules.MultiTaskDataModule'\u001b[0m,\n",
       "        \u001b[32m'image_size'\u001b[0m: \u001b[1;36m512\u001b[0m,\n",
       "        \u001b[32m'image_buffer_size'\u001b[0m: \u001b[1;36m32\u001b[0m,\n",
       "        \u001b[32m'batch_size'\u001b[0m: \u001b[1;36m32\u001b[0m,\n",
       "        \u001b[32m'num_workers'\u001b[0m: \u001b[1;36m4\u001b[0m,\n",
       "        \u001b[32m'pin_memory'\u001b[0m: \u001b[3;92mTrue\u001b[0m,\n",
       "        \u001b[32m'dataset_name'\u001b[0m: \u001b[32m'Extant-PNAS_to_PNAS'\u001b[0m,\n",
       "        \u001b[32m'experiment'\u001b[0m: \u001b[1m{\u001b[0m\n",
       "            \u001b[32m'source_root_dir'\u001b[0m: \u001b[32m'/media/data_cifs/projects/prj_fossils/users/jacob/experiments\u001b[0m\n",
       "\u001b[32m/July2021-Nov2021/csv_datasets/leavesdb-v1_0'\u001b[0m,\n",
       "            \u001b[32m'experiment_root_dir'\u001b[0m: \u001b[32m'/media/data_cifs/projects/prj_fossils/users/jacob/experim\u001b[0m\n",
       "\u001b[32ments/July2021-Nov2021/csv_datasets/experimental_datasets'\u001b[0m,\n",
       "            \u001b[32m'experiment_name'\u001b[0m: \u001b[32m'Extant-to-PNAS-512-transfer_benchmark'\u001b[0m,\n",
       "            \u001b[32m'seed'\u001b[0m: \u001b[1;36m96857\u001b[0m,\n",
       "            \u001b[32m'task_0'\u001b[0m: \u001b[1m{\u001b[0m\n",
       "                \u001b[32m'name'\u001b[0m: \u001b[32m'Extant_Leaves_family_10_512_minus_PNAS_family_100_512'\u001b[0m,\n",
       "                \u001b[32m'val_split'\u001b[0m: \u001b[1;36m0.2\u001b[0m,\n",
       "                \u001b[32m'test_split'\u001b[0m: \u001b[3;35mNone\u001b[0m\n",
       "            \u001b[1m}\u001b[0m,\n",
       "            \u001b[32m'task_1'\u001b[0m: \u001b[1m{\u001b[0m\n",
       "                \u001b[32m'name'\u001b[0m: \u001b[32m'PNAS_family_100_512_minus_Extant_Leaves_family_10_512'\u001b[0m,\n",
       "                \u001b[32m'val_split'\u001b[0m: \u001b[1;36m0.2\u001b[0m,\n",
       "                \u001b[32m'test_split'\u001b[0m: \u001b[3;35mNone\u001b[0m\n",
       "            \u001b[1m}\u001b[0m\n",
       "        \u001b[1m}\u001b[0m\n",
       "    \u001b[1m}\u001b[0m\n",
       "\u001b[1m}\u001b[0m\n"
      ]
     },
     "metadata": {},
     "output_type": "display_data"
    },
    {
     "name": "stdout",
     "output_type": "stream",
     "text": [
      "BEGINNING STRATEGY: feature_extractor_+_bn.eval()\n"
     ]
    },
    {
     "name": "stderr",
     "output_type": "stream",
     "text": [
      "/media/data/conda/jrose3/envs/sequoia/lib/python3.8/site-packages/hydra/experimental/initialize.py:98: UserWarning: hydra.experimental.initialize_config_dir() is no longer experimental. Use hydra.initialize_config_dir().\n",
      "  deprecation_warning(\n",
      "/media/data/conda/jrose3/envs/sequoia/lib/python3.8/site-packages/hydra/experimental/compose.py:18: UserWarning: hydra.experimental.compose() is no longer experimental. Use hydra.compose()\n",
      "  deprecation_warning(\n",
      "2021-10-18 11:04:45,931 lightning_hydra_classifiers.experiments.multitask.datamodules INFO     set_task(task_id=1)\n",
      "2021-10-18 11:04:45,938 lightning_hydra_classifiers.experiments.multitask.datamodules INFO     Task_1 (None): datamodule.setup(stage=fit)\n",
      "2021-10-18 11:04:45,939 lightning_hydra_classifiers.experiments.multitask.datamodules INFO     Task_1: datamodule.setup(stage=test)\n",
      "2021-10-18 11:04:46,081 lightning_hydra_classifiers.scripts.multitask.train INFO     Instantiating callback <pytorch_lightning.callbacks.early_stopping.EarlyStopping>\n",
      "2021-10-18 11:04:46,085 lightning_hydra_classifiers.scripts.multitask.train INFO     Instantiating callback <pytorch_lightning.callbacks.ModelCheckpoint>\n",
      "2021-10-18 11:04:46,090 lightning_hydra_classifiers.scripts.multitask.train INFO     Instantiating callback <lightning_hydra_classifiers.callbacks.wandb_callbacks.LogPerClassMetricsToWandb>\n",
      "2021-10-18 11:04:46,097 lightning_hydra_classifiers.scripts.multitask.train INFO     Instantiating callback <lightning_hydra_classifiers.utils.callback_utils.ImagePredictionLogger>\n",
      "2021-10-18 11:04:46,099 lightning_hydra_classifiers.scripts.multitask.train INFO     Instantiating callback <lightning_hydra_classifiers.callbacks.wandb_callbacks.WatchModelWithWandb>\n",
      "2021-10-18 11:04:46,102 lightning_hydra_classifiers.scripts.multitask.train INFO     Instantiating callback <pl_bolts.callbacks.ModuleDataMonitor>\n",
      "2021-10-18 11:04:46,105 lightning_hydra_classifiers.scripts.multitask.train INFO     Instantiating logger <pytorch_lightning.loggers.wandb.WandbLogger>\n",
      "2021-10-18 11:04:46,108 lightning_hydra_classifiers.scripts.multitask.train INFO     Instantiating logger <pytorch_lightning.loggers.csv_logs.CSVLogger>\n",
      "GPU available: True, used: True\n",
      "TPU available: False, using: 0 TPU cores\n",
      "IPU available: False, using: 0 IPUs\n",
      "Global seed set to 98\n",
      "Global seed set to 98\n",
      "2021-10-18 11:04:47,186 lightning_hydra_classifiers.scripts.pretrain.lr_tuner INFO     Proceeding with overrides merged with default parameters\n"
     ]
    },
    {
     "name": "stdout",
     "output_type": "stream",
     "text": [
      "Set current model training strategy to: feature_extractor_+_bn.eval()\n",
      "self.num_classes=19\n"
     ]
    },
    {
     "data": {
      "text/html": [
       "Finishing last run (ID:2bp6mkpz) before initializing another..."
      ],
      "text/plain": [
       "<IPython.core.display.HTML object>"
      ]
     },
     "metadata": {},
     "output_type": "display_data"
    },
    {
     "data": {
      "text/html": [
       "<br/>Waiting for W&B process to finish, PID 10990<br/>Program ended successfully."
      ],
      "text/plain": [
       "<IPython.core.display.HTML object>"
      ]
     },
     "metadata": {},
     "output_type": "display_data"
    },
    {
     "data": {
      "application/vnd.jupyter.widget-view+json": {
       "model_id": "",
       "version_major": 2,
       "version_minor": 0
      },
      "text/plain": [
       "VBox(children=(Label(value=' 93.38MB of 93.38MB uploaded (0.00MB deduped)\\r'), FloatProgress(value=1.0, max=1.…"
      ]
     },
     "metadata": {},
     "output_type": "display_data"
    },
    {
     "data": {
      "text/html": [
       "Find user logs for this run at: <code>/media/data/jacob/GitHub/lightning-hydra-classifiers/notebooks/wandb/run-20211018_105135-2bp6mkpz/logs/debug.log</code>"
      ],
      "text/plain": [
       "<IPython.core.display.HTML object>"
      ]
     },
     "metadata": {},
     "output_type": "display_data"
    },
    {
     "data": {
      "text/html": [
       "Find internal logs for this run at: <code>/media/data/jacob/GitHub/lightning-hydra-classifiers/notebooks/wandb/run-20211018_105135-2bp6mkpz/logs/debug-internal.log</code>"
      ],
      "text/plain": [
       "<IPython.core.display.HTML object>"
      ]
     },
     "metadata": {},
     "output_type": "display_data"
    },
    {
     "data": {
      "text/html": [
       "<h3>Run summary:</h3><br/><style>\n",
       "    table.wandb td:nth-child(1) { padding: 0 10px; text-align: right }\n",
       "    </style><table class=\"wandb\">\n",
       "<tr><td>train_acc_step</td><td>0.65357</td></tr><tr><td>train_loss_step</td><td>0.81871</td></tr><tr><td>epoch</td><td>9</td></tr><tr><td>trainer/global_step</td><td>621</td></tr><tr><td>_runtime</td><td>774</td></tr><tr><td>_timestamp</td><td>1634569469</td></tr><tr><td>_step</td><td>203</td></tr><tr><td>val_acc_step</td><td>0.51515</td></tr><tr><td>val_loss_step</td><td>2.96418</td></tr><tr><td>val_acc_epoch</td><td>0.48993</td></tr><tr><td>val_loss_epoch</td><td>2.48073</td></tr><tr><td>train_acc_epoch</td><td>0.67315</td></tr><tr><td>train_loss_epoch</td><td>0.99161</td></tr><tr><td>test_acc</td><td>0.26174</td></tr><tr><td>test_loss</td><td>5.46278</td></tr></table>"
      ],
      "text/plain": [
       "<IPython.core.display.HTML object>"
      ]
     },
     "metadata": {},
     "output_type": "display_data"
    },
    {
     "data": {
      "text/html": [
       "<h3>Run history:</h3><br/><style>\n",
       "    table.wandb td:nth-child(1) { padding: 0 10px; text-align: right }\n",
       "    </style><table class=\"wandb\">\n",
       "<tr><td>train_acc_step</td><td>▁▆▁▄▆▃▄▅▆▅█▆</td></tr><tr><td>train_loss_step</td><td>█▅▅▃▂▆▅▅▁▄▃▂</td></tr><tr><td>epoch</td><td>▁▁▁▁▂▂▂▂▃▃▃▃▃▃▃▃▄▄▄▄▅▅▅▅▆▆▆▆▆▆▆▇▇▇▇▇████</td></tr><tr><td>trainer/global_step</td><td>▁▁▁▁▁▁▁▁▁▁▁▂▂▂▂▂▂▂▂▄▂▂▂▅▂▂▂▆▂▂▂▇▃▃▃▇▃▃▃█</td></tr><tr><td>_runtime</td><td>▁▁▁▁▂▂▂▂▂▂▃▃▃▃▃▃▄▄▄▄▄▅▅▅▅▅▅▆▆▆▆▆▇▇▇▇▇▇██</td></tr><tr><td>_timestamp</td><td>▁▁▁▁▂▂▂▂▂▂▃▃▃▃▃▃▄▄▄▄▄▅▅▅▅▅▅▆▆▆▆▆▇▇▇▇▇▇██</td></tr><tr><td>_step</td><td>▁▁▁▁▂▂▂▂▂▃▃▃▃▃▃▄▄▄▄▄▅▅▅▅▅▅▆▆▆▆▆▇▇▇▇▇▇███</td></tr><tr><td>val_acc_step</td><td>▃▃▄▁▄▂▃▅▄▇█▄▄▃▆▅▃▅▆▄▅▄▂▆▆▅▄▆█▆▇▅▆▆▆▄▆▃▃▅</td></tr><tr><td>val_loss_step</td><td>▅▅▃█▄▄▂▅▃▃▁▄▄▄▃▅▆▄▃▇▇▅▅▅▅▃▂▅▄▄▃▆▄▃▂▄▅▄▄▇</td></tr><tr><td>val_acc_epoch</td><td>▁▅▅▅▆▅█▅▇█</td></tr><tr><td>val_loss_epoch</td><td>▆▄▁▃▅█▂▅▃▅</td></tr><tr><td>train_acc_epoch</td><td>▁▄▅▆▆▆▇▇██</td></tr><tr><td>train_loss_epoch</td><td>█▃▃▂▂▂▂▂▂▁</td></tr><tr><td>test_acc</td><td>█▁</td></tr><tr><td>test_loss</td><td>▁█</td></tr></table><br/>"
      ],
      "text/plain": [
       "<IPython.core.display.HTML object>"
      ]
     },
     "metadata": {},
     "output_type": "display_data"
    },
    {
     "data": {
      "text/html": [
       "Synced 6 W&B file(s), 381 media file(s), 40 artifact file(s) and 1 other file(s)"
      ],
      "text/plain": [
       "<IPython.core.display.HTML object>"
      ]
     },
     "metadata": {},
     "output_type": "display_data"
    },
    {
     "data": {
      "text/html": [
       "\n",
       "                    <br/>Synced <strong style=\"color:#cdcd00\">restful-snowflake-1</strong>: <a href=\"https://wandb.ai/jrose/bn_global_pool_trials/runs/2bp6mkpz\" target=\"_blank\">https://wandb.ai/jrose/bn_global_pool_trials/runs/2bp6mkpz</a><br/>\n",
       "                "
      ],
      "text/plain": [
       "<IPython.core.display.HTML object>"
      ]
     },
     "metadata": {},
     "output_type": "display_data"
    },
    {
     "data": {
      "text/html": [
       "...Successfully finished last run (ID:2bp6mkpz). Initializing new run:<br/><br/>"
      ],
      "text/plain": [
       "<IPython.core.display.HTML object>"
      ]
     },
     "metadata": {},
     "output_type": "display_data"
    },
    {
     "name": "stderr",
     "output_type": "stream",
     "text": [
      "\u001b[34m\u001b[1mwandb\u001b[0m: wandb version 0.12.4 is available!  To upgrade, please run:\n",
      "\u001b[34m\u001b[1mwandb\u001b[0m:  $ pip install wandb --upgrade\n"
     ]
    },
    {
     "data": {
      "text/html": [
       "\n",
       "                Tracking run with wandb version 0.10.26<br/>\n",
       "                Syncing run <strong style=\"color:#cdcd00\">soft-paper-30</strong> to <a href=\"https://wandb.ai\" target=\"_blank\">Weights & Biases</a> <a href=\"https://docs.wandb.com/integrations/jupyter.html\" target=\"_blank\">(Documentation)</a>.<br/>\n",
       "                Project page: <a href=\"https://wandb.ai/jrose/default\" target=\"_blank\">https://wandb.ai/jrose/default</a><br/>\n",
       "                Run page: <a href=\"https://wandb.ai/jrose/default/runs/2mknsffw\" target=\"_blank\">https://wandb.ai/jrose/default/runs/2mknsffw</a><br/>\n",
       "                Run data is saved locally in <code>/media/data/jacob/GitHub/lightning-hydra-classifiers/notebooks/wandb/run-20211018_110447-2mknsffw</code><br/><br/>\n",
       "            "
      ],
      "text/plain": [
       "<IPython.core.display.HTML object>"
      ]
     },
     "metadata": {},
     "output_type": "display_data"
    },
    {
     "name": "stderr",
     "output_type": "stream",
     "text": [
      "2021-10-18 11:04:52,243 lightning_hydra_classifiers.scripts.pretrain.lr_tuner INFO     [Initiating Stage] lr_tuner\n",
      "2021-10-18 11:04:52,623 lightning_hydra_classifiers.experiments.multitask.datamodules INFO     Task_1 (None): datamodule.setup(stage=fit)\n",
      "LOCAL_RANK: 0 - CUDA_VISIBLE_DEVICES: [0,1,2,3,4,5,6,7]\n",
      "\n",
      "  | Name                    | Type             | Params\n",
      "-------------------------------------------------------------\n",
      "0 | model                   | Sequential       | 23.5 M\n",
      "1 | criterion               | CrossEntropyLoss | 0     \n",
      "2 | metrics_train           | MetricCollection | 0     \n",
      "3 | metrics_train_per_class | MetricCollection | 0     \n",
      "4 | metrics_val             | MetricCollection | 0     \n",
      "5 | metrics_val_per_class   | MetricCollection | 0     \n",
      "6 | metrics_test            | MetricCollection | 0     \n",
      "7 | metrics_test_per_class  | MetricCollection | 0     \n",
      "-------------------------------------------------------------\n",
      "38.9 K    Trainable params\n",
      "23.5 M    Non-trainable params\n",
      "23.5 M    Total params\n",
      "94.188    Total estimated model params size (MB)\n"
     ]
    },
    {
     "name": "stdout",
     "output_type": "stream",
     "text": [
      "self.hparams=\"backbone\":            {'backbone_name': 'resnet50'}\n",
      "\"backbone_lr_mult\":    0.1\n",
      "\"backbone_name\":       resnet50\n",
      "\"dropout_p\":           0.3\n",
      "\"finetuning_strategy\": feature_extractor_+_bn.eval()\n",
      "\"head_type\":           linear\n",
      "\"hidden_size\":         None\n",
      "\"lr\":                  0.002\n",
      "\"num_classes\":         19\n",
      "\"pool_size\":           1\n",
      "\"pool_type\":           avg\n",
      "\"pretrained\":          True\n",
      "\"seed\":                98\n",
      "\"weight_decay\":        0.01\n"
     ]
    },
    {
     "name": "stderr",
     "output_type": "stream",
     "text": [
      "Global seed set to 98\n"
     ]
    },
    {
     "data": {
      "application/vnd.jupyter.widget-view+json": {
       "model_id": "d994e78083c64c28af886e8e694f2d57",
       "version_major": 2,
       "version_minor": 0
      },
      "text/plain": [
       "Finding best initial lr:   0%|          | 0/100 [00:00<?, ?it/s]"
      ]
     },
     "metadata": {},
     "output_type": "display_data"
    },
    {
     "name": "stdout",
     "output_type": "stream",
     "text": [
      "During: self.training_step\n",
      "is_training:\n"
     ]
    },
    {
     "data": {
      "text/html": [
       "<pre style=\"white-space:pre;overflow-x:auto;line-height:normal;font-family:Menlo,'DejaVu Sans Mono',consolas,'Courier New',monospace\"><span style=\"font-weight: bold\">{</span><span style=\"color: #008000; text-decoration-color: #008000\">'True'</span>: <span style=\"color: #008080; text-decoration-color: #008080; font-weight: bold\">0</span>, <span style=\"color: #008000; text-decoration-color: #008000\">'False'</span>: <span style=\"color: #008080; text-decoration-color: #008080; font-weight: bold\">49</span><span style=\"font-weight: bold\">}</span>\n",
       "</pre>\n"
      ],
      "text/plain": [
       "\u001b[1m{\u001b[0m\u001b[32m'True'\u001b[0m: \u001b[1;36m0\u001b[0m, \u001b[32m'False'\u001b[0m: \u001b[1;36m49\u001b[0m\u001b[1m}\u001b[0m\n"
      ]
     },
     "metadata": {},
     "output_type": "display_data"
    },
    {
     "name": "stdout",
     "output_type": "stream",
     "text": [
      "requires_grad:\n"
     ]
    },
    {
     "data": {
      "text/html": [
       "<pre style=\"white-space:pre;overflow-x:auto;line-height:normal;font-family:Menlo,'DejaVu Sans Mono',consolas,'Courier New',monospace\"><span style=\"font-weight: bold\">{</span><span style=\"color: #008000; text-decoration-color: #008000\">'True'</span>: <span style=\"color: #008080; text-decoration-color: #008080; font-weight: bold\">0</span>, <span style=\"color: #008000; text-decoration-color: #008000\">'False'</span>: <span style=\"color: #008080; text-decoration-color: #008080; font-weight: bold\">98</span><span style=\"font-weight: bold\">}</span>\n",
       "</pre>\n"
      ],
      "text/plain": [
       "\u001b[1m{\u001b[0m\u001b[32m'True'\u001b[0m: \u001b[1;36m0\u001b[0m, \u001b[32m'False'\u001b[0m: \u001b[1;36m98\u001b[0m\u001b[1m}\u001b[0m\n"
      ]
     },
     "metadata": {},
     "output_type": "display_data"
    },
    {
     "name": "stdout",
     "output_type": "stream",
     "text": [
      "--------------------------------------------------------------------------------\n",
      "DATALOADER:0 VALIDATE RESULTS\n",
      "{'val_acc': 0.07444898784160614,\n",
      " 'val_acc_epoch': 0.07444898784160614,\n",
      " 'val_loss': 2.543883800506592,\n",
      " 'val_loss_epoch': 2.543883800506592}\n",
      "--------------------------------------------------------------------------------\n"
     ]
    },
    {
     "name": "stderr",
     "output_type": "stream",
     "text": [
      "Restoring states from the checkpoint file at /media/data/jacob/GitHub/lightning-hydra-classifiers/notebooks/bn_unit_test_logs/avg/feature_extractor_+_bn.eval()-PNAS-19_classes-res_512-bsz_32-resnet50-pretrained_True-pool_avg/replicate_1/results/checkpoints/lr_find_temp_model.ckpt\n",
      "Restored all states from the checkpoint file at /media/data/jacob/GitHub/lightning-hydra-classifiers/notebooks/bn_unit_test_logs/avg/feature_extractor_+_bn.eval()-PNAS-19_classes-res_512-bsz_32-resnet50-pretrained_True-pool_avg/replicate_1/results/checkpoints/lr_find_temp_model.ckpt\n",
      "2021-10-18 11:05:56,848 lightning_hydra_classifiers.scripts.pretrain.lr_tuner INFO     Saved best lr value (along w/ batch_size, image_size) to file located at: /media/data/jacob/GitHub/lightning-hydra-classifiers/notebooks/bn_unit_test_logs/avg/feature_extractor_+_bn.eval()-PNAS-19_classes-res_512-bsz_32-resnet50-pretrained_True-pool_avg/replicate_1/results/task_1/lr_tuner/hparams.yaml\n",
      "2021-10-18 11:05:56,852 lightning_hydra_classifiers.scripts.pretrain.lr_tuner INFO     File contents expected to contain: \n",
      "{'optimized_hparam_key': 'lr', 'lr': 0.036307805477010104, 'batch_size': 32, 'image_size': 512, 'lr_tuner_config': {'min_lr': 1e-08, 'max_lr': 1, 'num_training': 100, 'mode': 'exponential', 'early_stop_threshold': 4.0}}\n",
      "/media/data/conda/jrose3/envs/sequoia/lib/python3.8/site-packages/pytorch_lightning/tuner/lr_finder.py:154: RuntimeWarning: More than 20 figures have been opened. Figures created through the pyplot interface (`matplotlib.pyplot.figure`) are retained until explicitly closed and may consume too much memory. (To control this warning, see the rcParam `figure.max_open_warning`).\n",
      "  fig, ax = plt.subplots()\n"
     ]
    },
    {
     "data": {
      "text/html": [
       "<br/>Waiting for W&B process to finish, PID 18097<br/>Program ended successfully."
      ],
      "text/plain": [
       "<IPython.core.display.HTML object>"
      ]
     },
     "metadata": {},
     "output_type": "display_data"
    },
    {
     "data": {
      "application/vnd.jupyter.widget-view+json": {
       "model_id": "",
       "version_major": 2,
       "version_minor": 0
      },
      "text/plain": [
       "VBox(children=(Label(value=' 0.45MB of 0.45MB uploaded (0.00MB deduped)\\r'), FloatProgress(value=1.0, max=1.0)…"
      ]
     },
     "metadata": {},
     "output_type": "display_data"
    },
    {
     "data": {
      "text/html": [
       "Find user logs for this run at: <code>/media/data/jacob/GitHub/lightning-hydra-classifiers/notebooks/wandb/run-20211018_110447-2mknsffw/logs/debug.log</code>"
      ],
      "text/plain": [
       "<IPython.core.display.HTML object>"
      ]
     },
     "metadata": {},
     "output_type": "display_data"
    },
    {
     "data": {
      "text/html": [
       "Find internal logs for this run at: <code>/media/data/jacob/GitHub/lightning-hydra-classifiers/notebooks/wandb/run-20211018_110447-2mknsffw/logs/debug-internal.log</code>"
      ],
      "text/plain": [
       "<IPython.core.display.HTML object>"
      ]
     },
     "metadata": {},
     "output_type": "display_data"
    },
    {
     "data": {
      "text/html": [
       "<h3>Run summary:</h3><br/><style>\n",
       "    table.wandb td:nth-child(1) { padding: 0 10px; text-align: right }\n",
       "    </style><table class=\"wandb\">\n",
       "<tr><td>_runtime</td><td>67</td></tr><tr><td>_timestamp</td><td>1634569557</td></tr><tr><td>_step</td><td>6</td></tr><tr><td>lr_finder/best/loss</td><td>2.6062</td></tr><tr><td>lr_finder/best/lr</td><td>0.03631</td></tr><tr><td>lr_finder/batch_size</td><td>32</td></tr><tr><td>image_size</td><td>512</td></tr></table>"
      ],
      "text/plain": [
       "<IPython.core.display.HTML object>"
      ]
     },
     "metadata": {},
     "output_type": "display_data"
    },
    {
     "data": {
      "text/html": [
       "<h3>Run history:</h3><br/><style>\n",
       "    table.wandb td:nth-child(1) { padding: 0 10px; text-align: right }\n",
       "    </style><table class=\"wandb\">\n",
       "<tr><td>_runtime</td><td>▁▁▁▁▁▁▁</td></tr><tr><td>_timestamp</td><td>▁▁▁▁▁▁▁</td></tr><tr><td>_step</td><td>▁▂▃▅▆▇█</td></tr><tr><td>lr_finder/best/loss</td><td>▁</td></tr><tr><td>lr_finder/best/lr</td><td>▁</td></tr><tr><td>lr_finder/batch_size</td><td>▁</td></tr><tr><td>image_size</td><td>▁</td></tr></table><br/>"
      ],
      "text/plain": [
       "<IPython.core.display.HTML object>"
      ]
     },
     "metadata": {},
     "output_type": "display_data"
    },
    {
     "data": {
      "text/html": [
       "Synced 6 W&B file(s), 2 media file(s), 1 artifact file(s) and 0 other file(s)"
      ],
      "text/plain": [
       "<IPython.core.display.HTML object>"
      ]
     },
     "metadata": {},
     "output_type": "display_data"
    },
    {
     "data": {
      "text/html": [
       "\n",
       "                    <br/>Synced <strong style=\"color:#cdcd00\">soft-paper-30</strong>: <a href=\"https://wandb.ai/jrose/default/runs/2mknsffw\" target=\"_blank\">https://wandb.ai/jrose/default/runs/2mknsffw</a><br/>\n",
       "                "
      ],
      "text/plain": [
       "<IPython.core.display.HTML object>"
      ]
     },
     "metadata": {},
     "output_type": "display_data"
    },
    {
     "name": "stderr",
     "output_type": "stream",
     "text": [
      "2021-10-18 11:06:01,787 lightning_hydra_classifiers.scripts.pretrain.lr_tuner INFO     FINISHED: `run_lr_tuner(config)`\n",
      "2021-10-18 11:06:01,788 lightning_hydra_classifiers.scripts.pretrain.lr_tuner INFO     Proceeding with:\n",
      "\n",
      "2021-10-18 11:06:01,791 lightning_hydra_classifiers.scripts.pretrain.lr_tuner INFO     Learning rate = 3.631e-02\n",
      "2021-10-18 11:06:01,792 lightning_hydra_classifiers.scripts.pretrain.lr_tuner INFO     Batch size = 32\n",
      "2021-10-18 11:06:01,798 lightning_hydra_classifiers.experiments.multitask.datamodules INFO     Task_1 (None): datamodule.setup(stage=fit)\n",
      "LOCAL_RANK: 0 - CUDA_VISIBLE_DEVICES: [0,1,2,3,4,5,6,7]\n"
     ]
    },
    {
     "name": "stdout",
     "output_type": "stream",
     "text": [
      "self.hparams=\"backbone\":            {'backbone_name': 'resnet50'}\n",
      "\"backbone_lr_mult\":    0.1\n",
      "\"backbone_name\":       resnet50\n",
      "\"dropout_p\":           0.3\n",
      "\"finetuning_strategy\": feature_extractor_+_bn.eval()\n",
      "\"head_type\":           linear\n",
      "\"hidden_size\":         None\n",
      "\"lr\":                  0.036307805477010104\n",
      "\"num_classes\":         19\n",
      "\"pool_size\":           1\n",
      "\"pool_type\":           avg\n",
      "\"pretrained\":          True\n",
      "\"seed\":                98\n",
      "\"weight_decay\":        0.01\n"
     ]
    },
    {
     "name": "stderr",
     "output_type": "stream",
     "text": [
      "\u001b[34m\u001b[1mwandb\u001b[0m: wandb version 0.12.4 is available!  To upgrade, please run:\n",
      "\u001b[34m\u001b[1mwandb\u001b[0m:  $ pip install wandb --upgrade\n"
     ]
    },
    {
     "data": {
      "text/html": [
       "\n",
       "                Tracking run with wandb version 0.10.26<br/>\n",
       "                Syncing run <strong style=\"color:#cdcd00\">glad-plant-2</strong> to <a href=\"https://wandb.ai\" target=\"_blank\">Weights & Biases</a> <a href=\"https://docs.wandb.com/integrations/jupyter.html\" target=\"_blank\">(Documentation)</a>.<br/>\n",
       "                Project page: <a href=\"https://wandb.ai/jrose/bn_global_pool_trials\" target=\"_blank\">https://wandb.ai/jrose/bn_global_pool_trials</a><br/>\n",
       "                Run page: <a href=\"https://wandb.ai/jrose/bn_global_pool_trials/runs/1pst3w78\" target=\"_blank\">https://wandb.ai/jrose/bn_global_pool_trials/runs/1pst3w78</a><br/>\n",
       "                Run data is saved locally in <code>/media/data/jacob/GitHub/lightning-hydra-classifiers/notebooks/wandb/run-20211018_110601-1pst3w78</code><br/><br/>\n",
       "            "
      ],
      "text/plain": [
       "<IPython.core.display.HTML object>"
      ]
     },
     "metadata": {},
     "output_type": "display_data"
    },
    {
     "name": "stderr",
     "output_type": "stream",
     "text": [
      "\n",
      "  | Name                    | Type             | Params\n",
      "-------------------------------------------------------------\n",
      "0 | model                   | Sequential       | 23.5 M\n",
      "1 | criterion               | CrossEntropyLoss | 0     \n",
      "2 | metrics_train           | MetricCollection | 0     \n",
      "3 | metrics_train_per_class | MetricCollection | 0     \n",
      "4 | metrics_val             | MetricCollection | 0     \n",
      "5 | metrics_val_per_class   | MetricCollection | 0     \n",
      "6 | metrics_test            | MetricCollection | 0     \n",
      "7 | metrics_test_per_class  | MetricCollection | 0     \n",
      "-------------------------------------------------------------\n",
      "38.9 K    Trainable params\n",
      "23.5 M    Non-trainable params\n",
      "23.5 M    Total params\n",
      "94.188    Total estimated model params size (MB)\n"
     ]
    },
    {
     "data": {
      "application/vnd.jupyter.widget-view+json": {
       "model_id": "",
       "version_major": 2,
       "version_minor": 0
      },
      "text/plain": [
       "Validation sanity check: 0it [00:00, ?it/s]"
      ]
     },
     "metadata": {},
     "output_type": "display_data"
    },
    {
     "name": "stderr",
     "output_type": "stream",
     "text": [
      "Global seed set to 98\n",
      "/media/data/conda/jrose3/envs/sequoia/lib/python3.8/site-packages/pl_bolts/callbacks/data_monitor.py:104: UserWarning: ModuleDataMonitor does not support logging with LoggerCollection. Supported loggers are: TensorBoardLogger, WandbLogger\n",
      "  rank_zero_warn(\n"
     ]
    },
    {
     "data": {
      "application/vnd.jupyter.widget-view+json": {
       "model_id": "7e0e268183a64b54af0fd36571a6aa9e",
       "version_major": 2,
       "version_minor": 0
      },
      "text/plain": [
       "Training: 37it [00:00, ?it/s]"
      ]
     },
     "metadata": {},
     "output_type": "display_data"
    },
    {
     "data": {
      "application/vnd.jupyter.widget-view+json": {
       "model_id": "",
       "version_major": 2,
       "version_minor": 0
      },
      "text/plain": [
       "Validating: 0it [00:00, ?it/s]"
      ]
     },
     "metadata": {},
     "output_type": "display_data"
    },
    {
     "name": "stderr",
     "output_type": "stream",
     "text": [
      "/media/data/conda/jrose3/envs/sequoia/lib/python3.8/site-packages/sklearn/metrics/_classification.py:1245: UndefinedMetricWarning: Recall is ill-defined and being set to 0.0 in labels with no true samples. Use `zero_division` parameter to control this behavior.\n",
      "  _warn_prf(average, modifier, msg_start, len(result))\n",
      "/media/data/jacob/GitHub/lightning-hydra-classifiers/lightning_hydra_classifiers/callbacks/wandb_callbacks.py:344: RuntimeWarning: More than 20 figures have been opened. Figures created through the pyplot interface (`matplotlib.pyplot.figure`) are retained until explicitly closed and may consume too much memory. (To control this warning, see the rcParam `figure.max_open_warning`).\n",
      "  plt.figure(figsize=(w, h))\n"
     ]
    },
    {
     "name": "stdout",
     "output_type": "stream",
     "text": [
      "val/per_class/F1_distributions: metric_data[0].shape=(1,)\n",
      "val/per_class/Precision_distributions: metric_data[0].shape=(1,)\n",
      "val/per_class/Recall_distributions: metric_data[0].shape=(1,)\n"
     ]
    },
    {
     "name": "stderr",
     "output_type": "stream",
     "text": [
      "/media/data/jacob/GitHub/lightning-hydra-classifiers/lightning_hydra_classifiers/utils/plot_utils.py:73: RuntimeWarning: More than 20 figures have been opened. Figures created through the pyplot interface (`matplotlib.pyplot.figure`) are retained until explicitly closed and may consume too much memory. (To control this warning, see the rcParam `figure.max_open_warning`).\n",
      "  fig, ax = plt.subplots(1,1, figsize=figsize)\n"
     ]
    },
    {
     "name": "stdout",
     "output_type": "stream",
     "text": [
      "val/confusion_matrix/glad-plant-2\n"
     ]
    },
    {
     "name": "stderr",
     "output_type": "stream",
     "text": [
      "Metric val_acc improved. New best score: 0.388\n",
      "Epoch 0, global step 62: val_acc reached 0.38761 (best 0.38761), saving model to \"/media/data/jacob/GitHub/lightning-hydra-classifiers/notebooks/bn_unit_test_logs/avg/feature_extractor_+_bn.eval()-PNAS-19_classes-res_512-bsz_32-resnet50-pretrained_True-pool_avg/replicate_1/results/checkpoints/epoch=00-val_loss=1.782-val_acc=0.388.ckpt\" as top 2\n"
     ]
    },
    {
     "data": {
      "application/vnd.jupyter.widget-view+json": {
       "model_id": "",
       "version_major": 2,
       "version_minor": 0
      },
      "text/plain": [
       "Validating: 0it [00:00, ?it/s]"
      ]
     },
     "metadata": {},
     "output_type": "display_data"
    },
    {
     "name": "stderr",
     "output_type": "stream",
     "text": [
      "/media/data/conda/jrose3/envs/sequoia/lib/python3.8/site-packages/sklearn/metrics/_classification.py:1245: UndefinedMetricWarning: Recall is ill-defined and being set to 0.0 in labels with no true samples. Use `zero_division` parameter to control this behavior.\n",
      "  _warn_prf(average, modifier, msg_start, len(result))\n",
      "/media/data/jacob/GitHub/lightning-hydra-classifiers/lightning_hydra_classifiers/callbacks/wandb_callbacks.py:344: RuntimeWarning: More than 20 figures have been opened. Figures created through the pyplot interface (`matplotlib.pyplot.figure`) are retained until explicitly closed and may consume too much memory. (To control this warning, see the rcParam `figure.max_open_warning`).\n",
      "  plt.figure(figsize=(w, h))\n"
     ]
    },
    {
     "name": "stdout",
     "output_type": "stream",
     "text": [
      "val/per_class/F1_distributions: metric_data[0].shape=(1,)\n",
      "val/per_class/Precision_distributions: metric_data[0].shape=(1,)\n",
      "val/per_class/Recall_distributions: metric_data[0].shape=(1,)\n"
     ]
    },
    {
     "name": "stderr",
     "output_type": "stream",
     "text": [
      "/media/data/jacob/GitHub/lightning-hydra-classifiers/lightning_hydra_classifiers/utils/plot_utils.py:73: RuntimeWarning: More than 20 figures have been opened. Figures created through the pyplot interface (`matplotlib.pyplot.figure`) are retained until explicitly closed and may consume too much memory. (To control this warning, see the rcParam `figure.max_open_warning`).\n",
      "  fig, ax = plt.subplots(1,1, figsize=figsize)\n"
     ]
    },
    {
     "name": "stdout",
     "output_type": "stream",
     "text": [
      "val/confusion_matrix/glad-plant-2\n"
     ]
    },
    {
     "name": "stderr",
     "output_type": "stream",
     "text": [
      "Epoch 1, global step 124: val_acc reached 0.38270 (best 0.38761), saving model to \"/media/data/jacob/GitHub/lightning-hydra-classifiers/notebooks/bn_unit_test_logs/avg/feature_extractor_+_bn.eval()-PNAS-19_classes-res_512-bsz_32-resnet50-pretrained_True-pool_avg/replicate_1/results/checkpoints/epoch=01-val_loss=2.117-val_acc=0.383.ckpt\" as top 2\n"
     ]
    },
    {
     "data": {
      "application/vnd.jupyter.widget-view+json": {
       "model_id": "",
       "version_major": 2,
       "version_minor": 0
      },
      "text/plain": [
       "Validating: 0it [00:00, ?it/s]"
      ]
     },
     "metadata": {},
     "output_type": "display_data"
    },
    {
     "name": "stderr",
     "output_type": "stream",
     "text": [
      "/media/data/conda/jrose3/envs/sequoia/lib/python3.8/site-packages/sklearn/metrics/_classification.py:1245: UndefinedMetricWarning: Recall is ill-defined and being set to 0.0 in labels with no true samples. Use `zero_division` parameter to control this behavior.\n",
      "  _warn_prf(average, modifier, msg_start, len(result))\n",
      "/media/data/jacob/GitHub/lightning-hydra-classifiers/lightning_hydra_classifiers/callbacks/wandb_callbacks.py:344: RuntimeWarning: More than 20 figures have been opened. Figures created through the pyplot interface (`matplotlib.pyplot.figure`) are retained until explicitly closed and may consume too much memory. (To control this warning, see the rcParam `figure.max_open_warning`).\n",
      "  plt.figure(figsize=(w, h))\n"
     ]
    },
    {
     "name": "stdout",
     "output_type": "stream",
     "text": [
      "val/per_class/F1_distributions: metric_data[0].shape=(1,)\n",
      "val/per_class/Precision_distributions: metric_data[0].shape=(1,)\n",
      "val/per_class/Recall_distributions: metric_data[0].shape=(1,)\n"
     ]
    },
    {
     "name": "stderr",
     "output_type": "stream",
     "text": [
      "/media/data/jacob/GitHub/lightning-hydra-classifiers/lightning_hydra_classifiers/utils/plot_utils.py:73: RuntimeWarning: More than 20 figures have been opened. Figures created through the pyplot interface (`matplotlib.pyplot.figure`) are retained until explicitly closed and may consume too much memory. (To control this warning, see the rcParam `figure.max_open_warning`).\n",
      "  fig, ax = plt.subplots(1,1, figsize=figsize)\n"
     ]
    },
    {
     "name": "stdout",
     "output_type": "stream",
     "text": [
      "val/confusion_matrix/glad-plant-2\n"
     ]
    },
    {
     "name": "stderr",
     "output_type": "stream",
     "text": [
      "Epoch 2, global step 186: val_acc reached 0.43712 (best 0.43712), saving model to \"/media/data/jacob/GitHub/lightning-hydra-classifiers/notebooks/bn_unit_test_logs/avg/feature_extractor_+_bn.eval()-PNAS-19_classes-res_512-bsz_32-resnet50-pretrained_True-pool_avg/replicate_1/results/checkpoints/epoch=02-val_loss=1.509-val_acc=0.437.ckpt\" as top 2\n"
     ]
    },
    {
     "data": {
      "application/vnd.jupyter.widget-view+json": {
       "model_id": "",
       "version_major": 2,
       "version_minor": 0
      },
      "text/plain": [
       "Validating: 0it [00:00, ?it/s]"
      ]
     },
     "metadata": {},
     "output_type": "display_data"
    },
    {
     "name": "stderr",
     "output_type": "stream",
     "text": [
      "/media/data/conda/jrose3/envs/sequoia/lib/python3.8/site-packages/sklearn/metrics/_classification.py:1245: UndefinedMetricWarning: Recall is ill-defined and being set to 0.0 in labels with no true samples. Use `zero_division` parameter to control this behavior.\n",
      "  _warn_prf(average, modifier, msg_start, len(result))\n",
      "/media/data/jacob/GitHub/lightning-hydra-classifiers/lightning_hydra_classifiers/callbacks/wandb_callbacks.py:344: RuntimeWarning: More than 20 figures have been opened. Figures created through the pyplot interface (`matplotlib.pyplot.figure`) are retained until explicitly closed and may consume too much memory. (To control this warning, see the rcParam `figure.max_open_warning`).\n",
      "  plt.figure(figsize=(w, h))\n"
     ]
    },
    {
     "name": "stdout",
     "output_type": "stream",
     "text": [
      "val/per_class/F1_distributions: metric_data[0].shape=(1,)\n",
      "val/per_class/Precision_distributions: metric_data[0].shape=(1,)\n",
      "val/per_class/Recall_distributions: metric_data[0].shape=(1,)\n"
     ]
    },
    {
     "name": "stderr",
     "output_type": "stream",
     "text": [
      "/media/data/jacob/GitHub/lightning-hydra-classifiers/lightning_hydra_classifiers/utils/plot_utils.py:73: RuntimeWarning: More than 20 figures have been opened. Figures created through the pyplot interface (`matplotlib.pyplot.figure`) are retained until explicitly closed and may consume too much memory. (To control this warning, see the rcParam `figure.max_open_warning`).\n",
      "  fig, ax = plt.subplots(1,1, figsize=figsize)\n"
     ]
    },
    {
     "name": "stdout",
     "output_type": "stream",
     "text": [
      "val/confusion_matrix/glad-plant-2\n"
     ]
    },
    {
     "name": "stderr",
     "output_type": "stream",
     "text": [
      "Epoch 3, global step 248: val_acc reached 0.40773 (best 0.43712), saving model to \"/media/data/jacob/GitHub/lightning-hydra-classifiers/notebooks/bn_unit_test_logs/avg/feature_extractor_+_bn.eval()-PNAS-19_classes-res_512-bsz_32-resnet50-pretrained_True-pool_avg/replicate_1/results/checkpoints/epoch=03-val_loss=1.941-val_acc=0.408.ckpt\" as top 2\n"
     ]
    },
    {
     "data": {
      "application/vnd.jupyter.widget-view+json": {
       "model_id": "",
       "version_major": 2,
       "version_minor": 0
      },
      "text/plain": [
       "Validating: 0it [00:00, ?it/s]"
      ]
     },
     "metadata": {},
     "output_type": "display_data"
    },
    {
     "name": "stderr",
     "output_type": "stream",
     "text": [
      "/media/data/conda/jrose3/envs/sequoia/lib/python3.8/site-packages/sklearn/metrics/_classification.py:1245: UndefinedMetricWarning: Recall is ill-defined and being set to 0.0 in labels with no true samples. Use `zero_division` parameter to control this behavior.\n",
      "  _warn_prf(average, modifier, msg_start, len(result))\n",
      "/media/data/jacob/GitHub/lightning-hydra-classifiers/lightning_hydra_classifiers/callbacks/wandb_callbacks.py:344: RuntimeWarning: More than 20 figures have been opened. Figures created through the pyplot interface (`matplotlib.pyplot.figure`) are retained until explicitly closed and may consume too much memory. (To control this warning, see the rcParam `figure.max_open_warning`).\n",
      "  plt.figure(figsize=(w, h))\n"
     ]
    },
    {
     "name": "stdout",
     "output_type": "stream",
     "text": [
      "val/per_class/F1_distributions: metric_data[0].shape=(1,)\n",
      "val/per_class/Precision_distributions: metric_data[0].shape=(1,)\n",
      "val/per_class/Recall_distributions: metric_data[0].shape=(1,)\n"
     ]
    },
    {
     "name": "stderr",
     "output_type": "stream",
     "text": [
      "/media/data/jacob/GitHub/lightning-hydra-classifiers/lightning_hydra_classifiers/utils/plot_utils.py:73: RuntimeWarning: More than 20 figures have been opened. Figures created through the pyplot interface (`matplotlib.pyplot.figure`) are retained until explicitly closed and may consume too much memory. (To control this warning, see the rcParam `figure.max_open_warning`).\n",
      "  fig, ax = plt.subplots(1,1, figsize=figsize)\n"
     ]
    },
    {
     "name": "stdout",
     "output_type": "stream",
     "text": [
      "val/confusion_matrix/glad-plant-2\n"
     ]
    },
    {
     "name": "stderr",
     "output_type": "stream",
     "text": [
      "Metric val_acc improved by 0.107 >= min_delta = 0.05. New best score: 0.495\n",
      "Epoch 4, global step 310: val_acc reached 0.49473 (best 0.49473), saving model to \"/media/data/jacob/GitHub/lightning-hydra-classifiers/notebooks/bn_unit_test_logs/avg/feature_extractor_+_bn.eval()-PNAS-19_classes-res_512-bsz_32-resnet50-pretrained_True-pool_avg/replicate_1/results/checkpoints/epoch=04-val_loss=1.585-val_acc=0.495.ckpt\" as top 2\n"
     ]
    },
    {
     "data": {
      "application/vnd.jupyter.widget-view+json": {
       "model_id": "",
       "version_major": 2,
       "version_minor": 0
      },
      "text/plain": [
       "Validating: 0it [00:00, ?it/s]"
      ]
     },
     "metadata": {},
     "output_type": "display_data"
    },
    {
     "name": "stderr",
     "output_type": "stream",
     "text": [
      "/media/data/conda/jrose3/envs/sequoia/lib/python3.8/site-packages/sklearn/metrics/_classification.py:1245: UndefinedMetricWarning: Recall is ill-defined and being set to 0.0 in labels with no true samples. Use `zero_division` parameter to control this behavior.\n",
      "  _warn_prf(average, modifier, msg_start, len(result))\n",
      "/media/data/jacob/GitHub/lightning-hydra-classifiers/lightning_hydra_classifiers/callbacks/wandb_callbacks.py:344: RuntimeWarning: More than 20 figures have been opened. Figures created through the pyplot interface (`matplotlib.pyplot.figure`) are retained until explicitly closed and may consume too much memory. (To control this warning, see the rcParam `figure.max_open_warning`).\n",
      "  plt.figure(figsize=(w, h))\n"
     ]
    },
    {
     "name": "stdout",
     "output_type": "stream",
     "text": [
      "val/per_class/F1_distributions: metric_data[0].shape=(1,)\n",
      "val/per_class/Precision_distributions: metric_data[0].shape=(1,)\n",
      "val/per_class/Recall_distributions: metric_data[0].shape=(1,)\n"
     ]
    },
    {
     "name": "stderr",
     "output_type": "stream",
     "text": [
      "/media/data/jacob/GitHub/lightning-hydra-classifiers/lightning_hydra_classifiers/utils/plot_utils.py:73: RuntimeWarning: More than 20 figures have been opened. Figures created through the pyplot interface (`matplotlib.pyplot.figure`) are retained until explicitly closed and may consume too much memory. (To control this warning, see the rcParam `figure.max_open_warning`).\n",
      "  fig, ax = plt.subplots(1,1, figsize=figsize)\n"
     ]
    },
    {
     "name": "stdout",
     "output_type": "stream",
     "text": [
      "val/confusion_matrix/glad-plant-2\n"
     ]
    },
    {
     "name": "stderr",
     "output_type": "stream",
     "text": [
      "Epoch 5, global step 372: val_acc reached 0.45669 (best 0.49473), saving model to \"/media/data/jacob/GitHub/lightning-hydra-classifiers/notebooks/bn_unit_test_logs/avg/feature_extractor_+_bn.eval()-PNAS-19_classes-res_512-bsz_32-resnet50-pretrained_True-pool_avg/replicate_1/results/checkpoints/epoch=05-val_loss=1.931-val_acc=0.457.ckpt\" as top 2\n"
     ]
    },
    {
     "data": {
      "application/vnd.jupyter.widget-view+json": {
       "model_id": "",
       "version_major": 2,
       "version_minor": 0
      },
      "text/plain": [
       "Validating: 0it [00:00, ?it/s]"
      ]
     },
     "metadata": {},
     "output_type": "display_data"
    },
    {
     "name": "stderr",
     "output_type": "stream",
     "text": [
      "/media/data/conda/jrose3/envs/sequoia/lib/python3.8/site-packages/sklearn/metrics/_classification.py:1245: UndefinedMetricWarning: Recall is ill-defined and being set to 0.0 in labels with no true samples. Use `zero_division` parameter to control this behavior.\n",
      "  _warn_prf(average, modifier, msg_start, len(result))\n",
      "/media/data/jacob/GitHub/lightning-hydra-classifiers/lightning_hydra_classifiers/callbacks/wandb_callbacks.py:344: RuntimeWarning: More than 20 figures have been opened. Figures created through the pyplot interface (`matplotlib.pyplot.figure`) are retained until explicitly closed and may consume too much memory. (To control this warning, see the rcParam `figure.max_open_warning`).\n",
      "  plt.figure(figsize=(w, h))\n"
     ]
    },
    {
     "name": "stdout",
     "output_type": "stream",
     "text": [
      "val/per_class/F1_distributions: metric_data[0].shape=(1,)\n",
      "val/per_class/Precision_distributions: metric_data[0].shape=(1,)\n",
      "val/per_class/Recall_distributions: metric_data[0].shape=(1,)\n"
     ]
    },
    {
     "name": "stderr",
     "output_type": "stream",
     "text": [
      "/media/data/jacob/GitHub/lightning-hydra-classifiers/lightning_hydra_classifiers/utils/plot_utils.py:73: RuntimeWarning: More than 20 figures have been opened. Figures created through the pyplot interface (`matplotlib.pyplot.figure`) are retained until explicitly closed and may consume too much memory. (To control this warning, see the rcParam `figure.max_open_warning`).\n",
      "  fig, ax = plt.subplots(1,1, figsize=figsize)\n"
     ]
    },
    {
     "name": "stdout",
     "output_type": "stream",
     "text": [
      "val/confusion_matrix/glad-plant-2\n"
     ]
    },
    {
     "name": "stderr",
     "output_type": "stream",
     "text": [
      "Epoch 6, global step 434: val_acc reached 0.46350 (best 0.49473), saving model to \"/media/data/jacob/GitHub/lightning-hydra-classifiers/notebooks/bn_unit_test_logs/avg/feature_extractor_+_bn.eval()-PNAS-19_classes-res_512-bsz_32-resnet50-pretrained_True-pool_avg/replicate_1/results/checkpoints/epoch=06-val_loss=1.765-val_acc=0.463.ckpt\" as top 2\n"
     ]
    },
    {
     "data": {
      "application/vnd.jupyter.widget-view+json": {
       "model_id": "",
       "version_major": 2,
       "version_minor": 0
      },
      "text/plain": [
       "Validating: 0it [00:00, ?it/s]"
      ]
     },
     "metadata": {},
     "output_type": "display_data"
    },
    {
     "name": "stderr",
     "output_type": "stream",
     "text": [
      "/media/data/conda/jrose3/envs/sequoia/lib/python3.8/site-packages/sklearn/metrics/_classification.py:1245: UndefinedMetricWarning: Recall is ill-defined and being set to 0.0 in labels with no true samples. Use `zero_division` parameter to control this behavior.\n",
      "  _warn_prf(average, modifier, msg_start, len(result))\n",
      "/media/data/jacob/GitHub/lightning-hydra-classifiers/lightning_hydra_classifiers/callbacks/wandb_callbacks.py:344: RuntimeWarning: More than 20 figures have been opened. Figures created through the pyplot interface (`matplotlib.pyplot.figure`) are retained until explicitly closed and may consume too much memory. (To control this warning, see the rcParam `figure.max_open_warning`).\n",
      "  plt.figure(figsize=(w, h))\n"
     ]
    },
    {
     "name": "stdout",
     "output_type": "stream",
     "text": [
      "val/per_class/F1_distributions: metric_data[0].shape=(1,)\n",
      "val/per_class/Precision_distributions: metric_data[0].shape=(1,)\n",
      "val/per_class/Recall_distributions: metric_data[0].shape=(1,)\n"
     ]
    },
    {
     "name": "stderr",
     "output_type": "stream",
     "text": [
      "/media/data/jacob/GitHub/lightning-hydra-classifiers/lightning_hydra_classifiers/utils/plot_utils.py:73: RuntimeWarning: More than 20 figures have been opened. Figures created through the pyplot interface (`matplotlib.pyplot.figure`) are retained until explicitly closed and may consume too much memory. (To control this warning, see the rcParam `figure.max_open_warning`).\n",
      "  fig, ax = plt.subplots(1,1, figsize=figsize)\n"
     ]
    },
    {
     "name": "stdout",
     "output_type": "stream",
     "text": [
      "val/confusion_matrix/glad-plant-2\n"
     ]
    },
    {
     "name": "stderr",
     "output_type": "stream",
     "text": [
      "Epoch 7, global step 496: val_acc was not in top 2\n"
     ]
    },
    {
     "data": {
      "application/vnd.jupyter.widget-view+json": {
       "model_id": "",
       "version_major": 2,
       "version_minor": 0
      },
      "text/plain": [
       "Validating: 0it [00:00, ?it/s]"
      ]
     },
     "metadata": {},
     "output_type": "display_data"
    },
    {
     "name": "stderr",
     "output_type": "stream",
     "text": [
      "/media/data/conda/jrose3/envs/sequoia/lib/python3.8/site-packages/sklearn/metrics/_classification.py:1245: UndefinedMetricWarning: Recall is ill-defined and being set to 0.0 in labels with no true samples. Use `zero_division` parameter to control this behavior.\n",
      "  _warn_prf(average, modifier, msg_start, len(result))\n",
      "/media/data/jacob/GitHub/lightning-hydra-classifiers/lightning_hydra_classifiers/callbacks/wandb_callbacks.py:344: RuntimeWarning: More than 20 figures have been opened. Figures created through the pyplot interface (`matplotlib.pyplot.figure`) are retained until explicitly closed and may consume too much memory. (To control this warning, see the rcParam `figure.max_open_warning`).\n",
      "  plt.figure(figsize=(w, h))\n"
     ]
    },
    {
     "name": "stdout",
     "output_type": "stream",
     "text": [
      "val/per_class/F1_distributions: metric_data[0].shape=(1,)\n",
      "val/per_class/Precision_distributions: metric_data[0].shape=(1,)\n",
      "val/per_class/Recall_distributions: metric_data[0].shape=(1,)\n"
     ]
    },
    {
     "name": "stderr",
     "output_type": "stream",
     "text": [
      "/media/data/jacob/GitHub/lightning-hydra-classifiers/lightning_hydra_classifiers/utils/plot_utils.py:73: RuntimeWarning: More than 20 figures have been opened. Figures created through the pyplot interface (`matplotlib.pyplot.figure`) are retained until explicitly closed and may consume too much memory. (To control this warning, see the rcParam `figure.max_open_warning`).\n",
      "  fig, ax = plt.subplots(1,1, figsize=figsize)\n"
     ]
    },
    {
     "name": "stdout",
     "output_type": "stream",
     "text": [
      "val/confusion_matrix/glad-plant-2\n"
     ]
    },
    {
     "name": "stderr",
     "output_type": "stream",
     "text": [
      "Epoch 8, global step 558: val_acc reached 0.47088 (best 0.49473), saving model to \"/media/data/jacob/GitHub/lightning-hydra-classifiers/notebooks/bn_unit_test_logs/avg/feature_extractor_+_bn.eval()-PNAS-19_classes-res_512-bsz_32-resnet50-pretrained_True-pool_avg/replicate_1/results/checkpoints/epoch=08-val_loss=1.832-val_acc=0.471.ckpt\" as top 2\n"
     ]
    },
    {
     "data": {
      "application/vnd.jupyter.widget-view+json": {
       "model_id": "",
       "version_major": 2,
       "version_minor": 0
      },
      "text/plain": [
       "Validating: 0it [00:00, ?it/s]"
      ]
     },
     "metadata": {},
     "output_type": "display_data"
    },
    {
     "name": "stderr",
     "output_type": "stream",
     "text": [
      "/media/data/jacob/GitHub/lightning-hydra-classifiers/lightning_hydra_classifiers/callbacks/wandb_callbacks.py:344: RuntimeWarning: More than 20 figures have been opened. Figures created through the pyplot interface (`matplotlib.pyplot.figure`) are retained until explicitly closed and may consume too much memory. (To control this warning, see the rcParam `figure.max_open_warning`).\n",
      "  plt.figure(figsize=(w, h))\n"
     ]
    },
    {
     "name": "stdout",
     "output_type": "stream",
     "text": [
      "val/per_class/F1_distributions: metric_data[0].shape=(1,)\n",
      "val/per_class/Precision_distributions: metric_data[0].shape=(1,)\n",
      "val/per_class/Recall_distributions: metric_data[0].shape=(1,)\n"
     ]
    },
    {
     "name": "stderr",
     "output_type": "stream",
     "text": [
      "/media/data/jacob/GitHub/lightning-hydra-classifiers/lightning_hydra_classifiers/utils/plot_utils.py:73: RuntimeWarning: More than 20 figures have been opened. Figures created through the pyplot interface (`matplotlib.pyplot.figure`) are retained until explicitly closed and may consume too much memory. (To control this warning, see the rcParam `figure.max_open_warning`).\n",
      "  fig, ax = plt.subplots(1,1, figsize=figsize)\n"
     ]
    },
    {
     "name": "stdout",
     "output_type": "stream",
     "text": [
      "val/confusion_matrix/glad-plant-2\n"
     ]
    },
    {
     "name": "stderr",
     "output_type": "stream",
     "text": [
      "Epoch 9, global step 620: val_acc was not in top 2\n",
      "Saving latest checkpoint...\n",
      "/media/data/conda/jrose3/envs/sequoia/lib/python3.8/site-packages/pytorch_lightning/trainer/deprecated_api.py:32: LightningDeprecationWarning: `Trainer.train_loop` has been renamed to `Trainer.fit_loop` and will be removed in v1.6.\n",
      "  rank_zero_deprecation(\n",
      "/media/data/conda/jrose3/envs/sequoia/lib/python3.8/site-packages/pytorch_lightning/core/datamodule.py:423: LightningDeprecationWarning: DataModule.teardown has already been called, so it will not be called again. In v1.6 this behavior will change to always call DataModule.teardown.\n",
      "  rank_zero_deprecation(\n",
      "Global seed set to 98\n",
      "/media/data/conda/jrose3/envs/sequoia/lib/python3.8/site-packages/pytorch_lightning/trainer/trainer.py:679: LightningDeprecationWarning: `trainer.test(test_dataloaders)` is deprecated in v1.4 and will be removed in v1.6. Use `trainer.test(dataloaders)` instead.\n",
      "  rank_zero_deprecation(\n",
      "/media/data/conda/jrose3/envs/sequoia/lib/python3.8/site-packages/pytorch_lightning/core/datamodule.py:423: LightningDeprecationWarning: DataModule.prepare_data has already been called, so it will not be called again. In v1.6 this behavior will change to always call DataModule.prepare_data.\n",
      "  rank_zero_deprecation(\n",
      "2021-10-18 11:18:32,334 lightning_hydra_classifiers.experiments.multitask.datamodules INFO     Task_1: datamodule.setup(stage=test)\n",
      "LOCAL_RANK: 0 - CUDA_VISIBLE_DEVICES: [0,1,2,3,4,5,6,7]\n"
     ]
    },
    {
     "name": "stdout",
     "output_type": "stream",
     "text": [
      "Set current model training strategy to: feature_extractor_+_bn.eval()\n",
      "self.num_classes=19\n",
      "Best checkpoint saved to: /media/data/jacob/GitHub/lightning-hydra-classifiers/notebooks/bn_unit_test_logs/avg/feature_extractor_+_bn.eval()-PNAS-19_classes-res_512-bsz_32-resnet50-pretrained_True-pool_avg/replicate_1/results/checkpoints/epoch=04-val_loss=1.585-val_acc=0.495.ckpt\n"
     ]
    },
    {
     "data": {
      "application/vnd.jupyter.widget-view+json": {
       "model_id": "6c2da35741fc455b8fe83947994b7365",
       "version_major": 2,
       "version_minor": 0
      },
      "text/plain": [
       "Testing: 0it [00:00, ?it/s]"
      ]
     },
     "metadata": {},
     "output_type": "display_data"
    },
    {
     "name": "stderr",
     "output_type": "stream",
     "text": [
      "2021-10-18 11:18:39,476 lightning_hydra_classifiers.experiments.multitask.datamodules INFO     Task_1: datamodule.setup(stage=test)\n",
      "LOCAL_RANK: 0 - CUDA_VISIBLE_DEVICES: [0,1,2,3,4,5,6,7]\n"
     ]
    },
    {
     "data": {
      "application/vnd.jupyter.widget-view+json": {
       "model_id": "1552937529d049719db86a455b1ab3f2",
       "version_major": 2,
       "version_minor": 0
      },
      "text/plain": [
       "Testing: 0it [00:00, ?it/s]"
      ]
     },
     "metadata": {},
     "output_type": "display_data"
    },
    {
     "name": "stdout",
     "output_type": "stream",
     "text": [
      "[SAVED TRIAL RESULTS] Location: /media/data/jacob/GitHub/lightning-hydra-classifiers/notebooks/bn_unit_test_logs/avg/feature_extractor_+_bn.eval()-PNAS-19_classes-res_512-bsz_32-resnet50-pretrained_True-pool_avg/replicate_1/results/results.yaml\n"
     ]
    },
    {
     "data": {
      "text/html": [
       "<pre style=\"white-space:pre;overflow-x:auto;line-height:normal;font-family:Menlo,'DejaVu Sans Mono',consolas,'Courier New',monospace\"><span style=\"font-weight: bold\">{</span>\n",
       "    <span style=\"color: #008000; text-decoration-color: #008000\">'test_acc'</span>: <span style=\"color: #008080; text-decoration-color: #008080; font-weight: bold\">0.2662663757801056</span>,\n",
       "    <span style=\"color: #008000; text-decoration-color: #008000\">'val_acc'</span>: <span style=\"color: #008080; text-decoration-color: #008080; font-weight: bold\">0.4947287440299988</span>,\n",
       "    <span style=\"color: #008000; text-decoration-color: #008000\">'ckpt_path'</span>: <span style=\"color: #008000; text-decoration-color: #008000\">'/media/data/jacob/GitHub/lightning-hydra-classifiers/notebooks/bn_unit_test</span>\n",
       "<span style=\"color: #008000; text-decoration-color: #008000\">_logs/avg/feature_extractor_+_bn.eval()-PNAS-19_classes-res_512-bsz_32-resnet50-pretrained_Tr</span>\n",
       "<span style=\"color: #008000; text-decoration-color: #008000\">ue-pool_avg/replicate_1/results/checkpoints/epoch=04-val_loss=1.585-val_acc=0.495.ckpt'</span>,\n",
       "    <span style=\"color: #008000; text-decoration-color: #008000\">'model_config'</span>: <span style=\"font-weight: bold\">{</span>\n",
       "        <span style=\"color: #008000; text-decoration-color: #008000\">'backbone'</span>: <span style=\"font-weight: bold\">{</span><span style=\"color: #008000; text-decoration-color: #008000\">'backbone_name'</span>: <span style=\"color: #008000; text-decoration-color: #008000\">'resnet50'</span><span style=\"font-weight: bold\">}</span>,\n",
       "        <span style=\"color: #008000; text-decoration-color: #008000\">'backbone_name'</span>: <span style=\"color: #008000; text-decoration-color: #008000\">'resnet50'</span>,\n",
       "        <span style=\"color: #008000; text-decoration-color: #008000\">'pretrained'</span>: <span style=\"color: #00ff00; text-decoration-color: #00ff00; font-style: italic\">True</span>,\n",
       "        <span style=\"color: #008000; text-decoration-color: #008000\">'num_classes'</span>: <span style=\"color: #008080; text-decoration-color: #008080; font-weight: bold\">19</span>,\n",
       "        <span style=\"color: #008000; text-decoration-color: #008000\">'pool_type'</span>: <span style=\"color: #008000; text-decoration-color: #008000\">'avg'</span>,\n",
       "        <span style=\"color: #008000; text-decoration-color: #008000\">'head_type'</span>: <span style=\"color: #008000; text-decoration-color: #008000\">'linear'</span>,\n",
       "        <span style=\"color: #008000; text-decoration-color: #008000\">'hidden_size'</span>: <span style=\"color: #800080; text-decoration-color: #800080; font-style: italic\">None</span>,\n",
       "        <span style=\"color: #008000; text-decoration-color: #008000\">'dropout_p'</span>: <span style=\"color: #008080; text-decoration-color: #008080; font-weight: bold\">0.3</span>,\n",
       "        <span style=\"color: #008000; text-decoration-color: #008000\">'lr'</span>: <span style=\"color: #008080; text-decoration-color: #008080; font-weight: bold\">0.036307805477010104</span>,\n",
       "        <span style=\"color: #008000; text-decoration-color: #008000\">'backbone_lr_mult'</span>: <span style=\"color: #008080; text-decoration-color: #008080; font-weight: bold\">0.1</span>,\n",
       "        <span style=\"color: #008000; text-decoration-color: #008000\">'finetuning_strategy'</span>: <span style=\"color: #008000; text-decoration-color: #008000\">'feature_extractor_+_bn.eval()'</span>,\n",
       "        <span style=\"color: #008000; text-decoration-color: #008000\">'weight_decay'</span>: <span style=\"color: #008080; text-decoration-color: #008080; font-weight: bold\">0.01</span>,\n",
       "        <span style=\"color: #008000; text-decoration-color: #008000\">'seed'</span>: <span style=\"color: #008080; text-decoration-color: #008080; font-weight: bold\">98</span>\n",
       "    <span style=\"font-weight: bold\">}</span>,\n",
       "    <span style=\"color: #008000; text-decoration-color: #008000\">'data_config'</span>: <span style=\"font-weight: bold\">{</span>\n",
       "        <span style=\"color: #008000; text-decoration-color: #008000\">'_target_'</span>: \n",
       "<span style=\"color: #008000; text-decoration-color: #008000\">'lightning_hydra_classifiers.experiments.multitask.datamodules.MultiTaskDataModule'</span>,\n",
       "        <span style=\"color: #008000; text-decoration-color: #008000\">'image_size'</span>: <span style=\"color: #008080; text-decoration-color: #008080; font-weight: bold\">512</span>,\n",
       "        <span style=\"color: #008000; text-decoration-color: #008000\">'image_buffer_size'</span>: <span style=\"color: #008080; text-decoration-color: #008080; font-weight: bold\">32</span>,\n",
       "        <span style=\"color: #008000; text-decoration-color: #008000\">'batch_size'</span>: <span style=\"color: #008080; text-decoration-color: #008080; font-weight: bold\">32</span>,\n",
       "        <span style=\"color: #008000; text-decoration-color: #008000\">'num_workers'</span>: <span style=\"color: #008080; text-decoration-color: #008080; font-weight: bold\">4</span>,\n",
       "        <span style=\"color: #008000; text-decoration-color: #008000\">'pin_memory'</span>: <span style=\"color: #00ff00; text-decoration-color: #00ff00; font-style: italic\">True</span>,\n",
       "        <span style=\"color: #008000; text-decoration-color: #008000\">'dataset_name'</span>: <span style=\"color: #008000; text-decoration-color: #008000\">'Extant-PNAS_to_PNAS'</span>,\n",
       "        <span style=\"color: #008000; text-decoration-color: #008000\">'experiment'</span>: <span style=\"font-weight: bold\">{</span>\n",
       "            <span style=\"color: #008000; text-decoration-color: #008000\">'source_root_dir'</span>: <span style=\"color: #008000; text-decoration-color: #008000\">'/media/data_cifs/projects/prj_fossils/users/jacob/experiments</span>\n",
       "<span style=\"color: #008000; text-decoration-color: #008000\">/July2021-Nov2021/csv_datasets/leavesdb-v1_0'</span>,\n",
       "            <span style=\"color: #008000; text-decoration-color: #008000\">'experiment_root_dir'</span>: <span style=\"color: #008000; text-decoration-color: #008000\">'/media/data_cifs/projects/prj_fossils/users/jacob/experim</span>\n",
       "<span style=\"color: #008000; text-decoration-color: #008000\">ents/July2021-Nov2021/csv_datasets/experimental_datasets'</span>,\n",
       "            <span style=\"color: #008000; text-decoration-color: #008000\">'experiment_name'</span>: <span style=\"color: #008000; text-decoration-color: #008000\">'Extant-to-PNAS-512-transfer_benchmark'</span>,\n",
       "            <span style=\"color: #008000; text-decoration-color: #008000\">'seed'</span>: <span style=\"color: #008080; text-decoration-color: #008080; font-weight: bold\">96857</span>,\n",
       "            <span style=\"color: #008000; text-decoration-color: #008000\">'task_0'</span>: <span style=\"font-weight: bold\">{</span>\n",
       "                <span style=\"color: #008000; text-decoration-color: #008000\">'name'</span>: <span style=\"color: #008000; text-decoration-color: #008000\">'Extant_Leaves_family_10_512_minus_PNAS_family_100_512'</span>,\n",
       "                <span style=\"color: #008000; text-decoration-color: #008000\">'val_split'</span>: <span style=\"color: #008080; text-decoration-color: #008080; font-weight: bold\">0.2</span>,\n",
       "                <span style=\"color: #008000; text-decoration-color: #008000\">'test_split'</span>: <span style=\"color: #800080; text-decoration-color: #800080; font-style: italic\">None</span>\n",
       "            <span style=\"font-weight: bold\">}</span>,\n",
       "            <span style=\"color: #008000; text-decoration-color: #008000\">'task_1'</span>: <span style=\"font-weight: bold\">{</span>\n",
       "                <span style=\"color: #008000; text-decoration-color: #008000\">'name'</span>: <span style=\"color: #008000; text-decoration-color: #008000\">'PNAS_family_100_512_minus_Extant_Leaves_family_10_512'</span>,\n",
       "                <span style=\"color: #008000; text-decoration-color: #008000\">'val_split'</span>: <span style=\"color: #008080; text-decoration-color: #008080; font-weight: bold\">0.2</span>,\n",
       "                <span style=\"color: #008000; text-decoration-color: #008000\">'test_split'</span>: <span style=\"color: #800080; text-decoration-color: #800080; font-style: italic\">None</span>\n",
       "            <span style=\"font-weight: bold\">}</span>\n",
       "        <span style=\"font-weight: bold\">}</span>\n",
       "    <span style=\"font-weight: bold\">}</span>\n",
       "<span style=\"font-weight: bold\">}</span>\n",
       "</pre>\n"
      ],
      "text/plain": [
       "\u001b[1m{\u001b[0m\n",
       "    \u001b[32m'test_acc'\u001b[0m: \u001b[1;36m0.2662663757801056\u001b[0m,\n",
       "    \u001b[32m'val_acc'\u001b[0m: \u001b[1;36m0.4947287440299988\u001b[0m,\n",
       "    \u001b[32m'ckpt_path'\u001b[0m: \u001b[32m'/media/data/jacob/GitHub/lightning-hydra-classifiers/notebooks/bn_unit_test\u001b[0m\n",
       "\u001b[32m_logs/avg/feature_extractor_+_bn.eval\u001b[0m\u001b[32m(\u001b[0m\u001b[32m)\u001b[0m\u001b[32m-PNAS-19_classes-res_512-bsz_32-resnet50-pretrained_Tr\u001b[0m\n",
       "\u001b[32mue-pool_avg/replicate_1/results/checkpoints/\u001b[0m\u001b[32mepoch\u001b[0m\u001b[32m=\u001b[0m\u001b[32m04\u001b[0m\u001b[32m-\u001b[0m\u001b[32mval_loss\u001b[0m\u001b[32m=\u001b[0m\u001b[32m1\u001b[0m\u001b[32m.585-\u001b[0m\u001b[32mval_acc\u001b[0m\u001b[32m=\u001b[0m\u001b[32m0\u001b[0m\u001b[32m.495.ckpt'\u001b[0m,\n",
       "    \u001b[32m'model_config'\u001b[0m: \u001b[1m{\u001b[0m\n",
       "        \u001b[32m'backbone'\u001b[0m: \u001b[1m{\u001b[0m\u001b[32m'backbone_name'\u001b[0m: \u001b[32m'resnet50'\u001b[0m\u001b[1m}\u001b[0m,\n",
       "        \u001b[32m'backbone_name'\u001b[0m: \u001b[32m'resnet50'\u001b[0m,\n",
       "        \u001b[32m'pretrained'\u001b[0m: \u001b[3;92mTrue\u001b[0m,\n",
       "        \u001b[32m'num_classes'\u001b[0m: \u001b[1;36m19\u001b[0m,\n",
       "        \u001b[32m'pool_type'\u001b[0m: \u001b[32m'avg'\u001b[0m,\n",
       "        \u001b[32m'head_type'\u001b[0m: \u001b[32m'linear'\u001b[0m,\n",
       "        \u001b[32m'hidden_size'\u001b[0m: \u001b[3;35mNone\u001b[0m,\n",
       "        \u001b[32m'dropout_p'\u001b[0m: \u001b[1;36m0.3\u001b[0m,\n",
       "        \u001b[32m'lr'\u001b[0m: \u001b[1;36m0.036307805477010104\u001b[0m,\n",
       "        \u001b[32m'backbone_lr_mult'\u001b[0m: \u001b[1;36m0.1\u001b[0m,\n",
       "        \u001b[32m'finetuning_strategy'\u001b[0m: \u001b[32m'feature_extractor_+_bn.eval\u001b[0m\u001b[32m(\u001b[0m\u001b[32m)\u001b[0m\u001b[32m'\u001b[0m,\n",
       "        \u001b[32m'weight_decay'\u001b[0m: \u001b[1;36m0.01\u001b[0m,\n",
       "        \u001b[32m'seed'\u001b[0m: \u001b[1;36m98\u001b[0m\n",
       "    \u001b[1m}\u001b[0m,\n",
       "    \u001b[32m'data_config'\u001b[0m: \u001b[1m{\u001b[0m\n",
       "        \u001b[32m'_target_'\u001b[0m: \n",
       "\u001b[32m'lightning_hydra_classifiers.experiments.multitask.datamodules.MultiTaskDataModule'\u001b[0m,\n",
       "        \u001b[32m'image_size'\u001b[0m: \u001b[1;36m512\u001b[0m,\n",
       "        \u001b[32m'image_buffer_size'\u001b[0m: \u001b[1;36m32\u001b[0m,\n",
       "        \u001b[32m'batch_size'\u001b[0m: \u001b[1;36m32\u001b[0m,\n",
       "        \u001b[32m'num_workers'\u001b[0m: \u001b[1;36m4\u001b[0m,\n",
       "        \u001b[32m'pin_memory'\u001b[0m: \u001b[3;92mTrue\u001b[0m,\n",
       "        \u001b[32m'dataset_name'\u001b[0m: \u001b[32m'Extant-PNAS_to_PNAS'\u001b[0m,\n",
       "        \u001b[32m'experiment'\u001b[0m: \u001b[1m{\u001b[0m\n",
       "            \u001b[32m'source_root_dir'\u001b[0m: \u001b[32m'/media/data_cifs/projects/prj_fossils/users/jacob/experiments\u001b[0m\n",
       "\u001b[32m/July2021-Nov2021/csv_datasets/leavesdb-v1_0'\u001b[0m,\n",
       "            \u001b[32m'experiment_root_dir'\u001b[0m: \u001b[32m'/media/data_cifs/projects/prj_fossils/users/jacob/experim\u001b[0m\n",
       "\u001b[32ments/July2021-Nov2021/csv_datasets/experimental_datasets'\u001b[0m,\n",
       "            \u001b[32m'experiment_name'\u001b[0m: \u001b[32m'Extant-to-PNAS-512-transfer_benchmark'\u001b[0m,\n",
       "            \u001b[32m'seed'\u001b[0m: \u001b[1;36m96857\u001b[0m,\n",
       "            \u001b[32m'task_0'\u001b[0m: \u001b[1m{\u001b[0m\n",
       "                \u001b[32m'name'\u001b[0m: \u001b[32m'Extant_Leaves_family_10_512_minus_PNAS_family_100_512'\u001b[0m,\n",
       "                \u001b[32m'val_split'\u001b[0m: \u001b[1;36m0.2\u001b[0m,\n",
       "                \u001b[32m'test_split'\u001b[0m: \u001b[3;35mNone\u001b[0m\n",
       "            \u001b[1m}\u001b[0m,\n",
       "            \u001b[32m'task_1'\u001b[0m: \u001b[1m{\u001b[0m\n",
       "                \u001b[32m'name'\u001b[0m: \u001b[32m'PNAS_family_100_512_minus_Extant_Leaves_family_10_512'\u001b[0m,\n",
       "                \u001b[32m'val_split'\u001b[0m: \u001b[1;36m0.2\u001b[0m,\n",
       "                \u001b[32m'test_split'\u001b[0m: \u001b[3;35mNone\u001b[0m\n",
       "            \u001b[1m}\u001b[0m\n",
       "        \u001b[1m}\u001b[0m\n",
       "    \u001b[1m}\u001b[0m\n",
       "\u001b[1m}\u001b[0m\n"
      ]
     },
     "metadata": {},
     "output_type": "display_data"
    },
    {
     "name": "stdout",
     "output_type": "stream",
     "text": [
      "BEGINNING STRATEGY: feature_extractor_+_except_bn\n"
     ]
    },
    {
     "name": "stderr",
     "output_type": "stream",
     "text": [
      "/media/data/conda/jrose3/envs/sequoia/lib/python3.8/site-packages/hydra/experimental/initialize.py:98: UserWarning: hydra.experimental.initialize_config_dir() is no longer experimental. Use hydra.initialize_config_dir().\n",
      "  deprecation_warning(\n",
      "/media/data/conda/jrose3/envs/sequoia/lib/python3.8/site-packages/hydra/experimental/compose.py:18: UserWarning: hydra.experimental.compose() is no longer experimental. Use hydra.compose()\n",
      "  deprecation_warning(\n",
      "2021-10-18 11:19:24,925 lightning_hydra_classifiers.experiments.multitask.datamodules INFO     set_task(task_id=1)\n",
      "2021-10-18 11:19:24,931 lightning_hydra_classifiers.experiments.multitask.datamodules INFO     Task_1 (None): datamodule.setup(stage=fit)\n",
      "2021-10-18 11:19:24,933 lightning_hydra_classifiers.experiments.multitask.datamodules INFO     Task_1: datamodule.setup(stage=test)\n",
      "2021-10-18 11:19:25,074 lightning_hydra_classifiers.scripts.multitask.train INFO     Instantiating callback <pytorch_lightning.callbacks.early_stopping.EarlyStopping>\n",
      "2021-10-18 11:19:25,078 lightning_hydra_classifiers.scripts.multitask.train INFO     Instantiating callback <pytorch_lightning.callbacks.ModelCheckpoint>\n",
      "2021-10-18 11:19:25,082 lightning_hydra_classifiers.scripts.multitask.train INFO     Instantiating callback <lightning_hydra_classifiers.callbacks.wandb_callbacks.LogPerClassMetricsToWandb>\n",
      "2021-10-18 11:19:25,089 lightning_hydra_classifiers.scripts.multitask.train INFO     Instantiating callback <lightning_hydra_classifiers.utils.callback_utils.ImagePredictionLogger>\n",
      "2021-10-18 11:19:25,092 lightning_hydra_classifiers.scripts.multitask.train INFO     Instantiating callback <lightning_hydra_classifiers.callbacks.wandb_callbacks.WatchModelWithWandb>\n",
      "2021-10-18 11:19:25,095 lightning_hydra_classifiers.scripts.multitask.train INFO     Instantiating callback <pl_bolts.callbacks.ModuleDataMonitor>\n",
      "2021-10-18 11:19:25,098 lightning_hydra_classifiers.scripts.multitask.train INFO     Instantiating logger <pytorch_lightning.loggers.wandb.WandbLogger>\n",
      "2021-10-18 11:19:25,100 lightning_hydra_classifiers.scripts.multitask.train INFO     Instantiating logger <pytorch_lightning.loggers.csv_logs.CSVLogger>\n",
      "GPU available: True, used: True\n",
      "TPU available: False, using: 0 TPU cores\n",
      "IPU available: False, using: 0 IPUs\n",
      "Global seed set to 98\n",
      "Global seed set to 98\n",
      "2021-10-18 11:19:26,058 lightning_hydra_classifiers.scripts.pretrain.lr_tuner INFO     Proceeding with overrides merged with default parameters\n"
     ]
    },
    {
     "name": "stdout",
     "output_type": "stream",
     "text": [
      "Set current model training strategy to: feature_extractor_+_except_bn\n",
      "self.num_classes=19\n"
     ]
    },
    {
     "data": {
      "text/html": [
       "Finishing last run (ID:1pst3w78) before initializing another..."
      ],
      "text/plain": [
       "<IPython.core.display.HTML object>"
      ]
     },
     "metadata": {},
     "output_type": "display_data"
    },
    {
     "data": {
      "text/html": [
       "<br/>Waiting for W&B process to finish, PID 18725<br/>Program ended successfully."
      ],
      "text/plain": [
       "<IPython.core.display.HTML object>"
      ]
     },
     "metadata": {},
     "output_type": "display_data"
    },
    {
     "data": {
      "application/vnd.jupyter.widget-view+json": {
       "model_id": "",
       "version_major": 2,
       "version_minor": 0
      },
      "text/plain": [
       "VBox(children=(Label(value=' 97.77MB of 97.77MB uploaded (0.00MB deduped)\\r'), FloatProgress(value=1.0, max=1.…"
      ]
     },
     "metadata": {},
     "output_type": "display_data"
    },
    {
     "data": {
      "text/html": [
       "Find user logs for this run at: <code>/media/data/jacob/GitHub/lightning-hydra-classifiers/notebooks/wandb/run-20211018_110601-1pst3w78/logs/debug.log</code>"
      ],
      "text/plain": [
       "<IPython.core.display.HTML object>"
      ]
     },
     "metadata": {},
     "output_type": "display_data"
    },
    {
     "data": {
      "text/html": [
       "Find internal logs for this run at: <code>/media/data/jacob/GitHub/lightning-hydra-classifiers/notebooks/wandb/run-20211018_110601-1pst3w78/logs/debug-internal.log</code>"
      ],
      "text/plain": [
       "<IPython.core.display.HTML object>"
      ]
     },
     "metadata": {},
     "output_type": "display_data"
    },
    {
     "data": {
      "text/html": [
       "<h3>Run summary:</h3><br/><style>\n",
       "    table.wandb td:nth-child(1) { padding: 0 10px; text-align: right }\n",
       "    </style><table class=\"wandb\">\n",
       "<tr><td>train_acc_step</td><td>0.8</td></tr><tr><td>train_loss_step</td><td>0.63374</td></tr><tr><td>epoch</td><td>9</td></tr><tr><td>trainer/global_step</td><td>621</td></tr><tr><td>_runtime</td><td>786</td></tr><tr><td>_timestamp</td><td>1634570348</td></tr><tr><td>_step</td><td>203</td></tr><tr><td>val_acc_step</td><td>0.56061</td></tr><tr><td>val_loss_step</td><td>2.10756</td></tr><tr><td>val_acc_epoch</td><td>0.46277</td></tr><tr><td>val_loss_epoch</td><td>2.18639</td></tr><tr><td>train_acc_epoch</td><td>0.67129</td></tr><tr><td>train_loss_epoch</td><td>1.00759</td></tr><tr><td>test_acc</td><td>0.26627</td></tr><tr><td>test_loss</td><td>3.89126</td></tr></table>"
      ],
      "text/plain": [
       "<IPython.core.display.HTML object>"
      ]
     },
     "metadata": {},
     "output_type": "display_data"
    },
    {
     "data": {
      "text/html": [
       "<h3>Run history:</h3><br/><style>\n",
       "    table.wandb td:nth-child(1) { padding: 0 10px; text-align: right }\n",
       "    </style><table class=\"wandb\">\n",
       "<tr><td>train_acc_step</td><td>▁▄▅▃▄▅▅▅█▇▆▇</td></tr><tr><td>train_loss_step</td><td>█▄▂▅▃▅▂▃▁▂▃▂</td></tr><tr><td>epoch</td><td>▁▁▁▁▂▂▂▂▃▃▃▃▃▃▃▃▄▄▄▄▅▅▅▅▆▆▆▆▆▆▆▇▇▇▇▇████</td></tr><tr><td>trainer/global_step</td><td>▁▁▁▁▁▁▁▁▁▁▁▂▂▂▂▂▂▂▂▄▂▂▂▅▂▂▂▆▂▂▂▇▃▃▃▇▃▃▃█</td></tr><tr><td>_runtime</td><td>▁▁▁▁▂▂▂▂▂▂▃▃▃▃▃▃▄▄▄▄▄▅▅▅▅▅▅▅▆▆▆▆▇▇▇▇▇▇██</td></tr><tr><td>_timestamp</td><td>▁▁▁▁▂▂▂▂▂▂▃▃▃▃▃▃▄▄▄▄▄▅▅▅▅▅▅▅▆▆▆▆▇▇▇▇▇▇██</td></tr><tr><td>_step</td><td>▁▁▁▁▂▂▂▂▂▃▃▃▃▃▃▄▄▄▄▄▅▅▅▅▅▅▆▆▆▆▆▇▇▇▇▇▇███</td></tr><tr><td>val_acc_step</td><td>▃▃▄▃▁▁▅▄▃█▇▄▃▅▅▄▃▄█▅▃▃▄▆▄▆▄▄▃▅▆▅▂▅▃▄▃▄▅▅</td></tr><tr><td>val_loss_step</td><td>▄▃▂▅▇▅▂▇▅▂▁▅▄▄▃█▆▄▁▅▇▅▃▇▇▃▂▇▅▃▂▇▆▃▄▆▆▄▄▆</td></tr><tr><td>val_acc_epoch</td><td>▁▁▄▃█▆▆▅▇▆</td></tr><tr><td>val_loss_epoch</td><td>▄▇▁▅▂▅▄▅▄█</td></tr><tr><td>train_acc_epoch</td><td>▁▄▅▆▆▇████</td></tr><tr><td>train_loss_epoch</td><td>█▃▃▃▂▂▂▁▁▂</td></tr><tr><td>test_acc</td><td>█▁</td></tr><tr><td>test_loss</td><td>▁█</td></tr></table><br/>"
      ],
      "text/plain": [
       "<IPython.core.display.HTML object>"
      ]
     },
     "metadata": {},
     "output_type": "display_data"
    },
    {
     "data": {
      "text/html": [
       "Synced 6 W&B file(s), 381 media file(s), 40 artifact file(s) and 1 other file(s)"
      ],
      "text/plain": [
       "<IPython.core.display.HTML object>"
      ]
     },
     "metadata": {},
     "output_type": "display_data"
    },
    {
     "data": {
      "text/html": [
       "\n",
       "                    <br/>Synced <strong style=\"color:#cdcd00\">glad-plant-2</strong>: <a href=\"https://wandb.ai/jrose/bn_global_pool_trials/runs/1pst3w78\" target=\"_blank\">https://wandb.ai/jrose/bn_global_pool_trials/runs/1pst3w78</a><br/>\n",
       "                "
      ],
      "text/plain": [
       "<IPython.core.display.HTML object>"
      ]
     },
     "metadata": {},
     "output_type": "display_data"
    },
    {
     "data": {
      "text/html": [
       "...Successfully finished last run (ID:1pst3w78). Initializing new run:<br/><br/>"
      ],
      "text/plain": [
       "<IPython.core.display.HTML object>"
      ]
     },
     "metadata": {},
     "output_type": "display_data"
    },
    {
     "name": "stderr",
     "output_type": "stream",
     "text": [
      "\u001b[34m\u001b[1mwandb\u001b[0m: wandb version 0.12.4 is available!  To upgrade, please run:\n",
      "\u001b[34m\u001b[1mwandb\u001b[0m:  $ pip install wandb --upgrade\n"
     ]
    },
    {
     "data": {
      "text/html": [
       "\n",
       "                Tracking run with wandb version 0.10.26<br/>\n",
       "                Syncing run <strong style=\"color:#cdcd00\">eternal-gorge-31</strong> to <a href=\"https://wandb.ai\" target=\"_blank\">Weights & Biases</a> <a href=\"https://docs.wandb.com/integrations/jupyter.html\" target=\"_blank\">(Documentation)</a>.<br/>\n",
       "                Project page: <a href=\"https://wandb.ai/jrose/default\" target=\"_blank\">https://wandb.ai/jrose/default</a><br/>\n",
       "                Run page: <a href=\"https://wandb.ai/jrose/default/runs/32fhboud\" target=\"_blank\">https://wandb.ai/jrose/default/runs/32fhboud</a><br/>\n",
       "                Run data is saved locally in <code>/media/data/jacob/GitHub/lightning-hydra-classifiers/notebooks/wandb/run-20211018_111926-32fhboud</code><br/><br/>\n",
       "            "
      ],
      "text/plain": [
       "<IPython.core.display.HTML object>"
      ]
     },
     "metadata": {},
     "output_type": "display_data"
    },
    {
     "name": "stderr",
     "output_type": "stream",
     "text": [
      "2021-10-18 11:19:30,857 lightning_hydra_classifiers.scripts.pretrain.lr_tuner INFO     [Initiating Stage] lr_tuner\n",
      "2021-10-18 11:19:31,758 lightning_hydra_classifiers.experiments.multitask.datamodules INFO     Task_1 (None): datamodule.setup(stage=fit)\n",
      "LOCAL_RANK: 0 - CUDA_VISIBLE_DEVICES: [0,1,2,3,4,5,6,7]\n",
      "\n",
      "  | Name                    | Type             | Params\n",
      "-------------------------------------------------------------\n",
      "0 | model                   | Sequential       | 23.5 M\n",
      "1 | criterion               | CrossEntropyLoss | 0     \n",
      "2 | metrics_train           | MetricCollection | 0     \n",
      "3 | metrics_train_per_class | MetricCollection | 0     \n",
      "4 | metrics_val             | MetricCollection | 0     \n",
      "5 | metrics_val_per_class   | MetricCollection | 0     \n",
      "6 | metrics_test            | MetricCollection | 0     \n",
      "7 | metrics_test_per_class  | MetricCollection | 0     \n",
      "-------------------------------------------------------------\n",
      "84.4 K    Trainable params\n",
      "23.5 M    Non-trainable params\n",
      "23.5 M    Total params\n",
      "94.188    Total estimated model params size (MB)\n"
     ]
    },
    {
     "name": "stdout",
     "output_type": "stream",
     "text": [
      "self.hparams=\"backbone\":            {'backbone_name': 'resnet50'}\n",
      "\"backbone_lr_mult\":    0.1\n",
      "\"backbone_name\":       resnet50\n",
      "\"dropout_p\":           0.3\n",
      "\"finetuning_strategy\": feature_extractor_+_except_bn\n",
      "\"head_type\":           linear\n",
      "\"hidden_size\":         None\n",
      "\"lr\":                  0.002\n",
      "\"num_classes\":         19\n",
      "\"pool_size\":           1\n",
      "\"pool_type\":           avg\n",
      "\"pretrained\":          True\n",
      "\"seed\":                98\n",
      "\"weight_decay\":        0.01\n"
     ]
    },
    {
     "name": "stderr",
     "output_type": "stream",
     "text": [
      "Global seed set to 98\n"
     ]
    },
    {
     "data": {
      "application/vnd.jupyter.widget-view+json": {
       "model_id": "dca18ab0455245ef971fe77cec4ed670",
       "version_major": 2,
       "version_minor": 0
      },
      "text/plain": [
       "Finding best initial lr:   0%|          | 0/100 [00:00<?, ?it/s]"
      ]
     },
     "metadata": {},
     "output_type": "display_data"
    },
    {
     "name": "stdout",
     "output_type": "stream",
     "text": [
      "During: self.training_step\n",
      "is_training:\n"
     ]
    },
    {
     "data": {
      "text/html": [
       "<pre style=\"white-space:pre;overflow-x:auto;line-height:normal;font-family:Menlo,'DejaVu Sans Mono',consolas,'Courier New',monospace\"><span style=\"font-weight: bold\">{</span><span style=\"color: #008000; text-decoration-color: #008000\">'True'</span>: <span style=\"color: #008080; text-decoration-color: #008080; font-weight: bold\">49</span>, <span style=\"color: #008000; text-decoration-color: #008000\">'False'</span>: <span style=\"color: #008080; text-decoration-color: #008080; font-weight: bold\">0</span><span style=\"font-weight: bold\">}</span>\n",
       "</pre>\n"
      ],
      "text/plain": [
       "\u001b[1m{\u001b[0m\u001b[32m'True'\u001b[0m: \u001b[1;36m49\u001b[0m, \u001b[32m'False'\u001b[0m: \u001b[1;36m0\u001b[0m\u001b[1m}\u001b[0m\n"
      ]
     },
     "metadata": {},
     "output_type": "display_data"
    },
    {
     "name": "stdout",
     "output_type": "stream",
     "text": [
      "requires_grad:\n"
     ]
    },
    {
     "data": {
      "text/html": [
       "<pre style=\"white-space:pre;overflow-x:auto;line-height:normal;font-family:Menlo,'DejaVu Sans Mono',consolas,'Courier New',monospace\"><span style=\"font-weight: bold\">{</span><span style=\"color: #008000; text-decoration-color: #008000\">'True'</span>: <span style=\"color: #008080; text-decoration-color: #008080; font-weight: bold\">98</span>, <span style=\"color: #008000; text-decoration-color: #008000\">'False'</span>: <span style=\"color: #008080; text-decoration-color: #008080; font-weight: bold\">0</span><span style=\"font-weight: bold\">}</span>\n",
       "</pre>\n"
      ],
      "text/plain": [
       "\u001b[1m{\u001b[0m\u001b[32m'True'\u001b[0m: \u001b[1;36m98\u001b[0m, \u001b[32m'False'\u001b[0m: \u001b[1;36m0\u001b[0m\u001b[1m}\u001b[0m\n"
      ]
     },
     "metadata": {},
     "output_type": "display_data"
    },
    {
     "name": "stderr",
     "output_type": "stream",
     "text": [
      "Restoring states from the checkpoint file at /media/data/jacob/GitHub/lightning-hydra-classifiers/notebooks/bn_unit_test_logs/avg/feature_extractor_+_except_bn-PNAS-19_classes-res_512-bsz_16-resnet50-pretrained_True-pool_avg/replicate_1/results/checkpoints/lr_find_temp_model.ckpt\n",
      "Restored all states from the checkpoint file at /media/data/jacob/GitHub/lightning-hydra-classifiers/notebooks/bn_unit_test_logs/avg/feature_extractor_+_except_bn-PNAS-19_classes-res_512-bsz_16-resnet50-pretrained_True-pool_avg/replicate_1/results/checkpoints/lr_find_temp_model.ckpt\n",
      "2021-10-18 11:20:10,724 lightning_hydra_classifiers.scripts.pretrain.lr_tuner INFO     Saved best lr value (along w/ batch_size, image_size) to file located at: /media/data/jacob/GitHub/lightning-hydra-classifiers/notebooks/bn_unit_test_logs/avg/feature_extractor_+_except_bn-PNAS-19_classes-res_512-bsz_16-resnet50-pretrained_True-pool_avg/replicate_1/results/task_1/lr_tuner/hparams.yaml\n",
      "2021-10-18 11:20:10,727 lightning_hydra_classifiers.scripts.pretrain.lr_tuner INFO     File contents expected to contain: \n",
      "{'optimized_hparam_key': 'lr', 'lr': 0.025118864315095822, 'batch_size': 16, 'image_size': 512, 'lr_tuner_config': {'min_lr': 1e-08, 'max_lr': 1, 'num_training': 100, 'mode': 'exponential', 'early_stop_threshold': 4.0}}\n",
      "/media/data/conda/jrose3/envs/sequoia/lib/python3.8/site-packages/pytorch_lightning/tuner/lr_finder.py:154: RuntimeWarning: More than 20 figures have been opened. Figures created through the pyplot interface (`matplotlib.pyplot.figure`) are retained until explicitly closed and may consume too much memory. (To control this warning, see the rcParam `figure.max_open_warning`).\n",
      "  fig, ax = plt.subplots()\n"
     ]
    },
    {
     "data": {
      "text/html": [
       "<br/>Waiting for W&B process to finish, PID 25463<br/>Program ended successfully."
      ],
      "text/plain": [
       "<IPython.core.display.HTML object>"
      ]
     },
     "metadata": {},
     "output_type": "display_data"
    },
    {
     "data": {
      "application/vnd.jupyter.widget-view+json": {
       "model_id": "",
       "version_major": 2,
       "version_minor": 0
      },
      "text/plain": [
       "VBox(children=(Label(value=' 0.54MB of 0.54MB uploaded (0.00MB deduped)\\r'), FloatProgress(value=1.0, max=1.0)…"
      ]
     },
     "metadata": {},
     "output_type": "display_data"
    },
    {
     "data": {
      "text/html": [
       "Find user logs for this run at: <code>/media/data/jacob/GitHub/lightning-hydra-classifiers/notebooks/wandb/run-20211018_111926-32fhboud/logs/debug.log</code>"
      ],
      "text/plain": [
       "<IPython.core.display.HTML object>"
      ]
     },
     "metadata": {},
     "output_type": "display_data"
    },
    {
     "data": {
      "text/html": [
       "Find internal logs for this run at: <code>/media/data/jacob/GitHub/lightning-hydra-classifiers/notebooks/wandb/run-20211018_111926-32fhboud/logs/debug-internal.log</code>"
      ],
      "text/plain": [
       "<IPython.core.display.HTML object>"
      ]
     },
     "metadata": {},
     "output_type": "display_data"
    },
    {
     "data": {
      "text/html": [
       "<h3>Run summary:</h3><br/><style>\n",
       "    table.wandb td:nth-child(1) { padding: 0 10px; text-align: right }\n",
       "    </style><table class=\"wandb\">\n",
       "<tr><td>_runtime</td><td>42</td></tr><tr><td>_timestamp</td><td>1634570411</td></tr><tr><td>_step</td><td>6</td></tr><tr><td>lr_finder/best/loss</td><td>2.6996</td></tr><tr><td>lr_finder/best/lr</td><td>0.02512</td></tr><tr><td>lr_finder/batch_size</td><td>16</td></tr><tr><td>image_size</td><td>512</td></tr></table>"
      ],
      "text/plain": [
       "<IPython.core.display.HTML object>"
      ]
     },
     "metadata": {},
     "output_type": "display_data"
    },
    {
     "data": {
      "text/html": [
       "<h3>Run history:</h3><br/><style>\n",
       "    table.wandb td:nth-child(1) { padding: 0 10px; text-align: right }\n",
       "    </style><table class=\"wandb\">\n",
       "<tr><td>_runtime</td><td>▁▁▁▁▁▁▁</td></tr><tr><td>_timestamp</td><td>▁▁▁▁▁▁▁</td></tr><tr><td>_step</td><td>▁▂▃▅▆▇█</td></tr><tr><td>lr_finder/best/loss</td><td>▁</td></tr><tr><td>lr_finder/best/lr</td><td>▁</td></tr><tr><td>lr_finder/batch_size</td><td>▁</td></tr><tr><td>image_size</td><td>▁</td></tr></table><br/>"
      ],
      "text/plain": [
       "<IPython.core.display.HTML object>"
      ]
     },
     "metadata": {},
     "output_type": "display_data"
    },
    {
     "data": {
      "text/html": [
       "Synced 6 W&B file(s), 2 media file(s), 1 artifact file(s) and 0 other file(s)"
      ],
      "text/plain": [
       "<IPython.core.display.HTML object>"
      ]
     },
     "metadata": {},
     "output_type": "display_data"
    },
    {
     "data": {
      "text/html": [
       "\n",
       "                    <br/>Synced <strong style=\"color:#cdcd00\">eternal-gorge-31</strong>: <a href=\"https://wandb.ai/jrose/default/runs/32fhboud\" target=\"_blank\">https://wandb.ai/jrose/default/runs/32fhboud</a><br/>\n",
       "                "
      ],
      "text/plain": [
       "<IPython.core.display.HTML object>"
      ]
     },
     "metadata": {},
     "output_type": "display_data"
    },
    {
     "name": "stderr",
     "output_type": "stream",
     "text": [
      "2021-10-18 11:20:15,446 lightning_hydra_classifiers.scripts.pretrain.lr_tuner INFO     FINISHED: `run_lr_tuner(config)`\n",
      "2021-10-18 11:20:15,447 lightning_hydra_classifiers.scripts.pretrain.lr_tuner INFO     Proceeding with:\n",
      "\n",
      "2021-10-18 11:20:15,448 lightning_hydra_classifiers.scripts.pretrain.lr_tuner INFO     Learning rate = 2.512e-02\n",
      "2021-10-18 11:20:15,448 lightning_hydra_classifiers.scripts.pretrain.lr_tuner INFO     Batch size = 16\n",
      "2021-10-18 11:20:15,455 lightning_hydra_classifiers.experiments.multitask.datamodules INFO     Task_1 (None): datamodule.setup(stage=fit)\n",
      "LOCAL_RANK: 0 - CUDA_VISIBLE_DEVICES: [0,1,2,3,4,5,6,7]\n"
     ]
    },
    {
     "name": "stdout",
     "output_type": "stream",
     "text": [
      "self.hparams=\"backbone\":            {'backbone_name': 'resnet50'}\n",
      "\"backbone_lr_mult\":    0.1\n",
      "\"backbone_name\":       resnet50\n",
      "\"dropout_p\":           0.3\n",
      "\"finetuning_strategy\": feature_extractor_+_except_bn\n",
      "\"head_type\":           linear\n",
      "\"hidden_size\":         None\n",
      "\"lr\":                  0.025118864315095822\n",
      "\"num_classes\":         19\n",
      "\"pool_size\":           1\n",
      "\"pool_type\":           avg\n",
      "\"pretrained\":          True\n",
      "\"seed\":                98\n",
      "\"weight_decay\":        0.01\n"
     ]
    },
    {
     "name": "stderr",
     "output_type": "stream",
     "text": [
      "\u001b[34m\u001b[1mwandb\u001b[0m: wandb version 0.12.4 is available!  To upgrade, please run:\n",
      "\u001b[34m\u001b[1mwandb\u001b[0m:  $ pip install wandb --upgrade\n"
     ]
    },
    {
     "data": {
      "text/html": [
       "\n",
       "                Tracking run with wandb version 0.10.26<br/>\n",
       "                Syncing run <strong style=\"color:#cdcd00\">royal-forest-3</strong> to <a href=\"https://wandb.ai\" target=\"_blank\">Weights & Biases</a> <a href=\"https://docs.wandb.com/integrations/jupyter.html\" target=\"_blank\">(Documentation)</a>.<br/>\n",
       "                Project page: <a href=\"https://wandb.ai/jrose/bn_global_pool_trials\" target=\"_blank\">https://wandb.ai/jrose/bn_global_pool_trials</a><br/>\n",
       "                Run page: <a href=\"https://wandb.ai/jrose/bn_global_pool_trials/runs/nlshvwfk\" target=\"_blank\">https://wandb.ai/jrose/bn_global_pool_trials/runs/nlshvwfk</a><br/>\n",
       "                Run data is saved locally in <code>/media/data/jacob/GitHub/lightning-hydra-classifiers/notebooks/wandb/run-20211018_112015-nlshvwfk</code><br/><br/>\n",
       "            "
      ],
      "text/plain": [
       "<IPython.core.display.HTML object>"
      ]
     },
     "metadata": {},
     "output_type": "display_data"
    },
    {
     "name": "stderr",
     "output_type": "stream",
     "text": [
      "\n",
      "  | Name                    | Type             | Params\n",
      "-------------------------------------------------------------\n",
      "0 | model                   | Sequential       | 23.5 M\n",
      "1 | criterion               | CrossEntropyLoss | 0     \n",
      "2 | metrics_train           | MetricCollection | 0     \n",
      "3 | metrics_train_per_class | MetricCollection | 0     \n",
      "4 | metrics_val             | MetricCollection | 0     \n",
      "5 | metrics_val_per_class   | MetricCollection | 0     \n",
      "6 | metrics_test            | MetricCollection | 0     \n",
      "7 | metrics_test_per_class  | MetricCollection | 0     \n",
      "-------------------------------------------------------------\n",
      "84.4 K    Trainable params\n",
      "23.5 M    Non-trainable params\n",
      "23.5 M    Total params\n",
      "94.188    Total estimated model params size (MB)\n"
     ]
    },
    {
     "data": {
      "application/vnd.jupyter.widget-view+json": {
       "model_id": "",
       "version_major": 2,
       "version_minor": 0
      },
      "text/plain": [
       "Validation sanity check: 0it [00:00, ?it/s]"
      ]
     },
     "metadata": {},
     "output_type": "display_data"
    },
    {
     "name": "stderr",
     "output_type": "stream",
     "text": [
      "Global seed set to 98\n",
      "/media/data/conda/jrose3/envs/sequoia/lib/python3.8/site-packages/pl_bolts/callbacks/data_monitor.py:104: UserWarning: ModuleDataMonitor does not support logging with LoggerCollection. Supported loggers are: TensorBoardLogger, WandbLogger\n",
      "  rank_zero_warn(\n"
     ]
    },
    {
     "data": {
      "application/vnd.jupyter.widget-view+json": {
       "model_id": "a61f4f72702c46109a1175f6f64bd118",
       "version_major": 2,
       "version_minor": 0
      },
      "text/plain": [
       "Training: 99it [00:00, ?it/s]"
      ]
     },
     "metadata": {},
     "output_type": "display_data"
    },
    {
     "data": {
      "application/vnd.jupyter.widget-view+json": {
       "model_id": "",
       "version_major": 2,
       "version_minor": 0
      },
      "text/plain": [
       "Validating: 0it [00:00, ?it/s]"
      ]
     },
     "metadata": {},
     "output_type": "display_data"
    },
    {
     "name": "stderr",
     "output_type": "stream",
     "text": [
      "/media/data/conda/jrose3/envs/sequoia/lib/python3.8/site-packages/sklearn/metrics/_classification.py:1245: UndefinedMetricWarning: Recall is ill-defined and being set to 0.0 in labels with no true samples. Use `zero_division` parameter to control this behavior.\n",
      "  _warn_prf(average, modifier, msg_start, len(result))\n",
      "/media/data/jacob/GitHub/lightning-hydra-classifiers/lightning_hydra_classifiers/callbacks/wandb_callbacks.py:344: RuntimeWarning: More than 20 figures have been opened. Figures created through the pyplot interface (`matplotlib.pyplot.figure`) are retained until explicitly closed and may consume too much memory. (To control this warning, see the rcParam `figure.max_open_warning`).\n",
      "  plt.figure(figsize=(w, h))\n"
     ]
    },
    {
     "name": "stdout",
     "output_type": "stream",
     "text": [
      "val/per_class/F1_distributions: metric_data[0].shape=(1,)\n",
      "val/per_class/Precision_distributions: metric_data[0].shape=(1,)\n",
      "val/per_class/Recall_distributions: metric_data[0].shape=(1,)\n"
     ]
    },
    {
     "name": "stderr",
     "output_type": "stream",
     "text": [
      "/media/data/jacob/GitHub/lightning-hydra-classifiers/lightning_hydra_classifiers/utils/plot_utils.py:73: RuntimeWarning: More than 20 figures have been opened. Figures created through the pyplot interface (`matplotlib.pyplot.figure`) are retained until explicitly closed and may consume too much memory. (To control this warning, see the rcParam `figure.max_open_warning`).\n",
      "  fig, ax = plt.subplots(1,1, figsize=figsize)\n"
     ]
    },
    {
     "name": "stdout",
     "output_type": "stream",
     "text": [
      "val/confusion_matrix/royal-forest-3\n"
     ]
    },
    {
     "name": "stderr",
     "output_type": "stream",
     "text": [
      "Metric val_acc improved. New best score: 0.475\n",
      "Epoch 0, global step 125: val_acc reached 0.47490 (best 0.47490), saving model to \"/media/data/jacob/GitHub/lightning-hydra-classifiers/notebooks/bn_unit_test_logs/avg/feature_extractor_+_except_bn-PNAS-19_classes-res_512-bsz_16-resnet50-pretrained_True-pool_avg/replicate_1/results/checkpoints/epoch=00-val_loss=1.124-val_acc=0.475.ckpt\" as top 2\n"
     ]
    },
    {
     "data": {
      "application/vnd.jupyter.widget-view+json": {
       "model_id": "",
       "version_major": 2,
       "version_minor": 0
      },
      "text/plain": [
       "Validating: 0it [00:00, ?it/s]"
      ]
     },
     "metadata": {},
     "output_type": "display_data"
    },
    {
     "name": "stderr",
     "output_type": "stream",
     "text": [
      "/media/data/conda/jrose3/envs/sequoia/lib/python3.8/site-packages/sklearn/metrics/_classification.py:1245: UndefinedMetricWarning: Recall is ill-defined and being set to 0.0 in labels with no true samples. Use `zero_division` parameter to control this behavior.\n",
      "  _warn_prf(average, modifier, msg_start, len(result))\n",
      "/media/data/jacob/GitHub/lightning-hydra-classifiers/lightning_hydra_classifiers/callbacks/wandb_callbacks.py:344: RuntimeWarning: More than 20 figures have been opened. Figures created through the pyplot interface (`matplotlib.pyplot.figure`) are retained until explicitly closed and may consume too much memory. (To control this warning, see the rcParam `figure.max_open_warning`).\n",
      "  plt.figure(figsize=(w, h))\n"
     ]
    },
    {
     "name": "stdout",
     "output_type": "stream",
     "text": [
      "val/per_class/F1_distributions: metric_data[0].shape=(1,)\n",
      "val/per_class/Precision_distributions: metric_data[0].shape=(1,)\n",
      "val/per_class/Recall_distributions: metric_data[0].shape=(1,)\n"
     ]
    },
    {
     "name": "stderr",
     "output_type": "stream",
     "text": [
      "/media/data/jacob/GitHub/lightning-hydra-classifiers/lightning_hydra_classifiers/utils/plot_utils.py:73: RuntimeWarning: More than 20 figures have been opened. Figures created through the pyplot interface (`matplotlib.pyplot.figure`) are retained until explicitly closed and may consume too much memory. (To control this warning, see the rcParam `figure.max_open_warning`).\n",
      "  fig, ax = plt.subplots(1,1, figsize=figsize)\n"
     ]
    },
    {
     "name": "stdout",
     "output_type": "stream",
     "text": [
      "val/confusion_matrix/royal-forest-3\n"
     ]
    },
    {
     "name": "stderr",
     "output_type": "stream",
     "text": [
      "Metric val_acc improved by 0.106 >= min_delta = 0.05. New best score: 0.581\n",
      "Epoch 1, global step 250: val_acc reached 0.58081 (best 0.58081), saving model to \"/media/data/jacob/GitHub/lightning-hydra-classifiers/notebooks/bn_unit_test_logs/avg/feature_extractor_+_except_bn-PNAS-19_classes-res_512-bsz_16-resnet50-pretrained_True-pool_avg/replicate_1/results/checkpoints/epoch=01-val_loss=0.913-val_acc=0.581.ckpt\" as top 2\n"
     ]
    },
    {
     "data": {
      "application/vnd.jupyter.widget-view+json": {
       "model_id": "",
       "version_major": 2,
       "version_minor": 0
      },
      "text/plain": [
       "Validating: 0it [00:00, ?it/s]"
      ]
     },
     "metadata": {},
     "output_type": "display_data"
    },
    {
     "name": "stderr",
     "output_type": "stream",
     "text": [
      "/media/data/conda/jrose3/envs/sequoia/lib/python3.8/site-packages/sklearn/metrics/_classification.py:1245: UndefinedMetricWarning: Recall is ill-defined and being set to 0.0 in labels with no true samples. Use `zero_division` parameter to control this behavior.\n",
      "  _warn_prf(average, modifier, msg_start, len(result))\n",
      "/media/data/jacob/GitHub/lightning-hydra-classifiers/lightning_hydra_classifiers/callbacks/wandb_callbacks.py:344: RuntimeWarning: More than 20 figures have been opened. Figures created through the pyplot interface (`matplotlib.pyplot.figure`) are retained until explicitly closed and may consume too much memory. (To control this warning, see the rcParam `figure.max_open_warning`).\n",
      "  plt.figure(figsize=(w, h))\n"
     ]
    },
    {
     "name": "stdout",
     "output_type": "stream",
     "text": [
      "val/per_class/F1_distributions: metric_data[0].shape=(1,)\n",
      "val/per_class/Precision_distributions: metric_data[0].shape=(1,)\n",
      "val/per_class/Recall_distributions: metric_data[0].shape=(1,)\n"
     ]
    },
    {
     "name": "stderr",
     "output_type": "stream",
     "text": [
      "/media/data/jacob/GitHub/lightning-hydra-classifiers/lightning_hydra_classifiers/utils/plot_utils.py:73: RuntimeWarning: More than 20 figures have been opened. Figures created through the pyplot interface (`matplotlib.pyplot.figure`) are retained until explicitly closed and may consume too much memory. (To control this warning, see the rcParam `figure.max_open_warning`).\n",
      "  fig, ax = plt.subplots(1,1, figsize=figsize)\n"
     ]
    },
    {
     "name": "stdout",
     "output_type": "stream",
     "text": [
      "val/confusion_matrix/royal-forest-3\n"
     ]
    },
    {
     "name": "stderr",
     "output_type": "stream",
     "text": [
      "Epoch 2, global step 375: val_acc reached 0.51311 (best 0.58081), saving model to \"/media/data/jacob/GitHub/lightning-hydra-classifiers/notebooks/bn_unit_test_logs/avg/feature_extractor_+_except_bn-PNAS-19_classes-res_512-bsz_16-resnet50-pretrained_True-pool_avg/replicate_1/results/checkpoints/epoch=02-val_loss=0.989-val_acc=0.513.ckpt\" as top 2\n"
     ]
    },
    {
     "data": {
      "application/vnd.jupyter.widget-view+json": {
       "model_id": "",
       "version_major": 2,
       "version_minor": 0
      },
      "text/plain": [
       "Validating: 0it [00:00, ?it/s]"
      ]
     },
     "metadata": {},
     "output_type": "display_data"
    },
    {
     "name": "stderr",
     "output_type": "stream",
     "text": [
      "/media/data/jacob/GitHub/lightning-hydra-classifiers/lightning_hydra_classifiers/callbacks/wandb_callbacks.py:344: RuntimeWarning: More than 20 figures have been opened. Figures created through the pyplot interface (`matplotlib.pyplot.figure`) are retained until explicitly closed and may consume too much memory. (To control this warning, see the rcParam `figure.max_open_warning`).\n",
      "  plt.figure(figsize=(w, h))\n"
     ]
    },
    {
     "name": "stdout",
     "output_type": "stream",
     "text": [
      "val/per_class/F1_distributions: metric_data[0].shape=(1,)\n",
      "val/per_class/Precision_distributions: metric_data[0].shape=(1,)\n",
      "val/per_class/Recall_distributions: metric_data[0].shape=(1,)\n"
     ]
    },
    {
     "name": "stderr",
     "output_type": "stream",
     "text": [
      "/media/data/jacob/GitHub/lightning-hydra-classifiers/lightning_hydra_classifiers/utils/plot_utils.py:73: RuntimeWarning: More than 20 figures have been opened. Figures created through the pyplot interface (`matplotlib.pyplot.figure`) are retained until explicitly closed and may consume too much memory. (To control this warning, see the rcParam `figure.max_open_warning`).\n",
      "  fig, ax = plt.subplots(1,1, figsize=figsize)\n"
     ]
    },
    {
     "name": "stdout",
     "output_type": "stream",
     "text": [
      "val/confusion_matrix/royal-forest-3\n"
     ]
    },
    {
     "name": "stderr",
     "output_type": "stream",
     "text": [
      "Epoch 3, global step 500: val_acc reached 0.59269 (best 0.59269), saving model to \"/media/data/jacob/GitHub/lightning-hydra-classifiers/notebooks/bn_unit_test_logs/avg/feature_extractor_+_except_bn-PNAS-19_classes-res_512-bsz_16-resnet50-pretrained_True-pool_avg/replicate_1/results/checkpoints/epoch=03-val_loss=0.930-val_acc=0.593.ckpt\" as top 2\n"
     ]
    },
    {
     "data": {
      "application/vnd.jupyter.widget-view+json": {
       "model_id": "",
       "version_major": 2,
       "version_minor": 0
      },
      "text/plain": [
       "Validating: 0it [00:00, ?it/s]"
      ]
     },
     "metadata": {},
     "output_type": "display_data"
    },
    {
     "name": "stderr",
     "output_type": "stream",
     "text": [
      "/media/data/conda/jrose3/envs/sequoia/lib/python3.8/site-packages/sklearn/metrics/_classification.py:1245: UndefinedMetricWarning: Recall is ill-defined and being set to 0.0 in labels with no true samples. Use `zero_division` parameter to control this behavior.\n",
      "  _warn_prf(average, modifier, msg_start, len(result))\n",
      "/media/data/jacob/GitHub/lightning-hydra-classifiers/lightning_hydra_classifiers/callbacks/wandb_callbacks.py:344: RuntimeWarning: More than 20 figures have been opened. Figures created through the pyplot interface (`matplotlib.pyplot.figure`) are retained until explicitly closed and may consume too much memory. (To control this warning, see the rcParam `figure.max_open_warning`).\n",
      "  plt.figure(figsize=(w, h))\n"
     ]
    },
    {
     "name": "stdout",
     "output_type": "stream",
     "text": [
      "val/per_class/F1_distributions: metric_data[0].shape=(1,)\n",
      "val/per_class/Precision_distributions: metric_data[0].shape=(1,)\n",
      "val/per_class/Recall_distributions: metric_data[0].shape=(1,)\n"
     ]
    },
    {
     "name": "stderr",
     "output_type": "stream",
     "text": [
      "/media/data/jacob/GitHub/lightning-hydra-classifiers/lightning_hydra_classifiers/utils/plot_utils.py:73: RuntimeWarning: More than 20 figures have been opened. Figures created through the pyplot interface (`matplotlib.pyplot.figure`) are retained until explicitly closed and may consume too much memory. (To control this warning, see the rcParam `figure.max_open_warning`).\n",
      "  fig, ax = plt.subplots(1,1, figsize=figsize)\n"
     ]
    },
    {
     "name": "stdout",
     "output_type": "stream",
     "text": [
      "val/confusion_matrix/royal-forest-3\n"
     ]
    },
    {
     "name": "stderr",
     "output_type": "stream",
     "text": [
      "Epoch 4, global step 625: val_acc reached 0.61748 (best 0.61748), saving model to \"/media/data/jacob/GitHub/lightning-hydra-classifiers/notebooks/bn_unit_test_logs/avg/feature_extractor_+_except_bn-PNAS-19_classes-res_512-bsz_16-resnet50-pretrained_True-pool_avg/replicate_1/results/checkpoints/epoch=04-val_loss=0.878-val_acc=0.617.ckpt\" as top 2\n"
     ]
    },
    {
     "data": {
      "application/vnd.jupyter.widget-view+json": {
       "model_id": "",
       "version_major": 2,
       "version_minor": 0
      },
      "text/plain": [
       "Validating: 0it [00:00, ?it/s]"
      ]
     },
     "metadata": {},
     "output_type": "display_data"
    },
    {
     "name": "stderr",
     "output_type": "stream",
     "text": [
      "/media/data/conda/jrose3/envs/sequoia/lib/python3.8/site-packages/sklearn/metrics/_classification.py:1245: UndefinedMetricWarning: Recall is ill-defined and being set to 0.0 in labels with no true samples. Use `zero_division` parameter to control this behavior.\n",
      "  _warn_prf(average, modifier, msg_start, len(result))\n",
      "/media/data/jacob/GitHub/lightning-hydra-classifiers/lightning_hydra_classifiers/callbacks/wandb_callbacks.py:344: RuntimeWarning: More than 20 figures have been opened. Figures created through the pyplot interface (`matplotlib.pyplot.figure`) are retained until explicitly closed and may consume too much memory. (To control this warning, see the rcParam `figure.max_open_warning`).\n",
      "  plt.figure(figsize=(w, h))\n"
     ]
    },
    {
     "name": "stdout",
     "output_type": "stream",
     "text": [
      "val/per_class/F1_distributions: metric_data[0].shape=(1,)\n",
      "val/per_class/Precision_distributions: metric_data[0].shape=(1,)\n",
      "val/per_class/Recall_distributions: metric_data[0].shape=(1,)\n"
     ]
    },
    {
     "name": "stderr",
     "output_type": "stream",
     "text": [
      "/media/data/jacob/GitHub/lightning-hydra-classifiers/lightning_hydra_classifiers/utils/plot_utils.py:73: RuntimeWarning: More than 20 figures have been opened. Figures created through the pyplot interface (`matplotlib.pyplot.figure`) are retained until explicitly closed and may consume too much memory. (To control this warning, see the rcParam `figure.max_open_warning`).\n",
      "  fig, ax = plt.subplots(1,1, figsize=figsize)\n"
     ]
    },
    {
     "name": "stdout",
     "output_type": "stream",
     "text": [
      "val/confusion_matrix/royal-forest-3\n"
     ]
    },
    {
     "name": "stderr",
     "output_type": "stream",
     "text": [
      "Epoch 5, global step 750: val_acc reached 0.62468 (best 0.62468), saving model to \"/media/data/jacob/GitHub/lightning-hydra-classifiers/notebooks/bn_unit_test_logs/avg/feature_extractor_+_except_bn-PNAS-19_classes-res_512-bsz_16-resnet50-pretrained_True-pool_avg/replicate_1/results/checkpoints/epoch=05-val_loss=0.899-val_acc=0.625.ckpt\" as top 2\n"
     ]
    },
    {
     "data": {
      "application/vnd.jupyter.widget-view+json": {
       "model_id": "",
       "version_major": 2,
       "version_minor": 0
      },
      "text/plain": [
       "Validating: 0it [00:00, ?it/s]"
      ]
     },
     "metadata": {},
     "output_type": "display_data"
    },
    {
     "name": "stderr",
     "output_type": "stream",
     "text": [
      "/media/data/jacob/GitHub/lightning-hydra-classifiers/lightning_hydra_classifiers/callbacks/wandb_callbacks.py:344: RuntimeWarning: More than 20 figures have been opened. Figures created through the pyplot interface (`matplotlib.pyplot.figure`) are retained until explicitly closed and may consume too much memory. (To control this warning, see the rcParam `figure.max_open_warning`).\n",
      "  plt.figure(figsize=(w, h))\n"
     ]
    },
    {
     "name": "stdout",
     "output_type": "stream",
     "text": [
      "val/per_class/F1_distributions: metric_data[0].shape=(1,)\n",
      "val/per_class/Precision_distributions: metric_data[0].shape=(1,)\n",
      "val/per_class/Recall_distributions: metric_data[0].shape=(1,)\n"
     ]
    },
    {
     "name": "stderr",
     "output_type": "stream",
     "text": [
      "/media/data/jacob/GitHub/lightning-hydra-classifiers/lightning_hydra_classifiers/utils/plot_utils.py:73: RuntimeWarning: More than 20 figures have been opened. Figures created through the pyplot interface (`matplotlib.pyplot.figure`) are retained until explicitly closed and may consume too much memory. (To control this warning, see the rcParam `figure.max_open_warning`).\n",
      "  fig, ax = plt.subplots(1,1, figsize=figsize)\n"
     ]
    },
    {
     "name": "stdout",
     "output_type": "stream",
     "text": [
      "val/confusion_matrix/royal-forest-3\n"
     ]
    },
    {
     "name": "stderr",
     "output_type": "stream",
     "text": [
      "Epoch 6, global step 875: val_acc was not in top 2\n"
     ]
    },
    {
     "data": {
      "application/vnd.jupyter.widget-view+json": {
       "model_id": "",
       "version_major": 2,
       "version_minor": 0
      },
      "text/plain": [
       "Validating: 0it [00:00, ?it/s]"
      ]
     },
     "metadata": {},
     "output_type": "display_data"
    },
    {
     "name": "stderr",
     "output_type": "stream",
     "text": [
      "/media/data/conda/jrose3/envs/sequoia/lib/python3.8/site-packages/sklearn/metrics/_classification.py:1245: UndefinedMetricWarning: Recall is ill-defined and being set to 0.0 in labels with no true samples. Use `zero_division` parameter to control this behavior.\n",
      "  _warn_prf(average, modifier, msg_start, len(result))\n",
      "/media/data/jacob/GitHub/lightning-hydra-classifiers/lightning_hydra_classifiers/callbacks/wandb_callbacks.py:344: RuntimeWarning: More than 20 figures have been opened. Figures created through the pyplot interface (`matplotlib.pyplot.figure`) are retained until explicitly closed and may consume too much memory. (To control this warning, see the rcParam `figure.max_open_warning`).\n",
      "  plt.figure(figsize=(w, h))\n"
     ]
    },
    {
     "name": "stdout",
     "output_type": "stream",
     "text": [
      "val/per_class/F1_distributions: metric_data[0].shape=(1,)\n",
      "val/per_class/Precision_distributions: metric_data[0].shape=(1,)\n",
      "val/per_class/Recall_distributions: metric_data[0].shape=(1,)\n"
     ]
    },
    {
     "name": "stderr",
     "output_type": "stream",
     "text": [
      "/media/data/jacob/GitHub/lightning-hydra-classifiers/lightning_hydra_classifiers/utils/plot_utils.py:73: RuntimeWarning: More than 20 figures have been opened. Figures created through the pyplot interface (`matplotlib.pyplot.figure`) are retained until explicitly closed and may consume too much memory. (To control this warning, see the rcParam `figure.max_open_warning`).\n",
      "  fig, ax = plt.subplots(1,1, figsize=figsize)\n"
     ]
    },
    {
     "name": "stdout",
     "output_type": "stream",
     "text": [
      "val/confusion_matrix/royal-forest-3\n"
     ]
    },
    {
     "name": "stderr",
     "output_type": "stream",
     "text": [
      "Epoch 7, global step 1000: val_acc reached 0.61791 (best 0.62468), saving model to \"/media/data/jacob/GitHub/lightning-hydra-classifiers/notebooks/bn_unit_test_logs/avg/feature_extractor_+_except_bn-PNAS-19_classes-res_512-bsz_16-resnet50-pretrained_True-pool_avg/replicate_1/results/checkpoints/epoch=07-val_loss=0.819-val_acc=0.618.ckpt\" as top 2\n"
     ]
    },
    {
     "data": {
      "application/vnd.jupyter.widget-view+json": {
       "model_id": "",
       "version_major": 2,
       "version_minor": 0
      },
      "text/plain": [
       "Validating: 0it [00:00, ?it/s]"
      ]
     },
     "metadata": {},
     "output_type": "display_data"
    },
    {
     "name": "stderr",
     "output_type": "stream",
     "text": [
      "/media/data/conda/jrose3/envs/sequoia/lib/python3.8/site-packages/sklearn/metrics/_classification.py:1245: UndefinedMetricWarning: Recall is ill-defined and being set to 0.0 in labels with no true samples. Use `zero_division` parameter to control this behavior.\n",
      "  _warn_prf(average, modifier, msg_start, len(result))\n",
      "/media/data/jacob/GitHub/lightning-hydra-classifiers/lightning_hydra_classifiers/callbacks/wandb_callbacks.py:344: RuntimeWarning: More than 20 figures have been opened. Figures created through the pyplot interface (`matplotlib.pyplot.figure`) are retained until explicitly closed and may consume too much memory. (To control this warning, see the rcParam `figure.max_open_warning`).\n",
      "  plt.figure(figsize=(w, h))\n"
     ]
    },
    {
     "name": "stdout",
     "output_type": "stream",
     "text": [
      "val/per_class/F1_distributions: metric_data[0].shape=(1,)\n",
      "val/per_class/Precision_distributions: metric_data[0].shape=(1,)\n",
      "val/per_class/Recall_distributions: metric_data[0].shape=(1,)\n"
     ]
    },
    {
     "name": "stderr",
     "output_type": "stream",
     "text": [
      "/media/data/jacob/GitHub/lightning-hydra-classifiers/lightning_hydra_classifiers/utils/plot_utils.py:73: RuntimeWarning: More than 20 figures have been opened. Figures created through the pyplot interface (`matplotlib.pyplot.figure`) are retained until explicitly closed and may consume too much memory. (To control this warning, see the rcParam `figure.max_open_warning`).\n",
      "  fig, ax = plt.subplots(1,1, figsize=figsize)\n"
     ]
    },
    {
     "name": "stdout",
     "output_type": "stream",
     "text": [
      "val/confusion_matrix/royal-forest-3\n"
     ]
    },
    {
     "name": "stderr",
     "output_type": "stream",
     "text": [
      "Metric val_acc improved by 0.055 >= min_delta = 0.05. New best score: 0.636\n",
      "Epoch 8, global step 1125: val_acc reached 0.63592 (best 0.63592), saving model to \"/media/data/jacob/GitHub/lightning-hydra-classifiers/notebooks/bn_unit_test_logs/avg/feature_extractor_+_except_bn-PNAS-19_classes-res_512-bsz_16-resnet50-pretrained_True-pool_avg/replicate_1/results/checkpoints/epoch=08-val_loss=0.893-val_acc=0.636.ckpt\" as top 2\n"
     ]
    },
    {
     "data": {
      "application/vnd.jupyter.widget-view+json": {
       "model_id": "",
       "version_major": 2,
       "version_minor": 0
      },
      "text/plain": [
       "Validating: 0it [00:00, ?it/s]"
      ]
     },
     "metadata": {},
     "output_type": "display_data"
    },
    {
     "name": "stderr",
     "output_type": "stream",
     "text": [
      "/media/data/conda/jrose3/envs/sequoia/lib/python3.8/site-packages/sklearn/metrics/_classification.py:1245: UndefinedMetricWarning: Recall is ill-defined and being set to 0.0 in labels with no true samples. Use `zero_division` parameter to control this behavior.\n",
      "  _warn_prf(average, modifier, msg_start, len(result))\n",
      "/media/data/jacob/GitHub/lightning-hydra-classifiers/lightning_hydra_classifiers/callbacks/wandb_callbacks.py:344: RuntimeWarning: More than 20 figures have been opened. Figures created through the pyplot interface (`matplotlib.pyplot.figure`) are retained until explicitly closed and may consume too much memory. (To control this warning, see the rcParam `figure.max_open_warning`).\n",
      "  plt.figure(figsize=(w, h))\n"
     ]
    },
    {
     "name": "stdout",
     "output_type": "stream",
     "text": [
      "val/per_class/F1_distributions: metric_data[0].shape=(1,)\n",
      "val/per_class/Precision_distributions: metric_data[0].shape=(1,)\n",
      "val/per_class/Recall_distributions: metric_data[0].shape=(1,)\n"
     ]
    },
    {
     "name": "stderr",
     "output_type": "stream",
     "text": [
      "/media/data/jacob/GitHub/lightning-hydra-classifiers/lightning_hydra_classifiers/utils/plot_utils.py:73: RuntimeWarning: More than 20 figures have been opened. Figures created through the pyplot interface (`matplotlib.pyplot.figure`) are retained until explicitly closed and may consume too much memory. (To control this warning, see the rcParam `figure.max_open_warning`).\n",
      "  fig, ax = plt.subplots(1,1, figsize=figsize)\n"
     ]
    },
    {
     "name": "stdout",
     "output_type": "stream",
     "text": [
      "val/confusion_matrix/royal-forest-3\n"
     ]
    },
    {
     "name": "stderr",
     "output_type": "stream",
     "text": [
      "Epoch 9, global step 1250: val_acc reached 0.63780 (best 0.63780), saving model to \"/media/data/jacob/GitHub/lightning-hydra-classifiers/notebooks/bn_unit_test_logs/avg/feature_extractor_+_except_bn-PNAS-19_classes-res_512-bsz_16-resnet50-pretrained_True-pool_avg/replicate_1/results/checkpoints/epoch=09-val_loss=0.910-val_acc=0.638.ckpt\" as top 2\n",
      "Saving latest checkpoint...\n",
      "/media/data/conda/jrose3/envs/sequoia/lib/python3.8/site-packages/pytorch_lightning/trainer/deprecated_api.py:32: LightningDeprecationWarning: `Trainer.train_loop` has been renamed to `Trainer.fit_loop` and will be removed in v1.6.\n",
      "  rank_zero_deprecation(\n",
      "/media/data/conda/jrose3/envs/sequoia/lib/python3.8/site-packages/pytorch_lightning/core/datamodule.py:423: LightningDeprecationWarning: DataModule.teardown has already been called, so it will not be called again. In v1.6 this behavior will change to always call DataModule.teardown.\n",
      "  rank_zero_deprecation(\n",
      "Global seed set to 98\n",
      "/media/data/conda/jrose3/envs/sequoia/lib/python3.8/site-packages/pytorch_lightning/trainer/trainer.py:679: LightningDeprecationWarning: `trainer.test(test_dataloaders)` is deprecated in v1.4 and will be removed in v1.6. Use `trainer.test(dataloaders)` instead.\n",
      "  rank_zero_deprecation(\n",
      "/media/data/conda/jrose3/envs/sequoia/lib/python3.8/site-packages/pytorch_lightning/core/datamodule.py:423: LightningDeprecationWarning: DataModule.prepare_data has already been called, so it will not be called again. In v1.6 this behavior will change to always call DataModule.prepare_data.\n",
      "  rank_zero_deprecation(\n",
      "2021-10-18 11:39:36,201 lightning_hydra_classifiers.experiments.multitask.datamodules INFO     Task_1: datamodule.setup(stage=test)\n",
      "LOCAL_RANK: 0 - CUDA_VISIBLE_DEVICES: [0,1,2,3,4,5,6,7]\n"
     ]
    },
    {
     "name": "stdout",
     "output_type": "stream",
     "text": [
      "Set current model training strategy to: feature_extractor_+_except_bn\n",
      "self.num_classes=19\n",
      "Best checkpoint saved to: /media/data/jacob/GitHub/lightning-hydra-classifiers/notebooks/bn_unit_test_logs/avg/feature_extractor_+_except_bn-PNAS-19_classes-res_512-bsz_16-resnet50-pretrained_True-pool_avg/replicate_1/results/checkpoints/epoch=09-val_loss=0.910-val_acc=0.638.ckpt\n"
     ]
    },
    {
     "data": {
      "application/vnd.jupyter.widget-view+json": {
       "model_id": "ac914e6ea394439fb7d91e3058ab1170",
       "version_major": 2,
       "version_minor": 0
      },
      "text/plain": [
       "Testing: 0it [00:00, ?it/s]"
      ]
     },
     "metadata": {},
     "output_type": "display_data"
    },
    {
     "name": "stderr",
     "output_type": "stream",
     "text": [
      "2021-10-18 11:39:42,636 lightning_hydra_classifiers.experiments.multitask.datamodules INFO     Task_1: datamodule.setup(stage=test)\n",
      "LOCAL_RANK: 0 - CUDA_VISIBLE_DEVICES: [0,1,2,3,4,5,6,7]\n"
     ]
    },
    {
     "data": {
      "application/vnd.jupyter.widget-view+json": {
       "model_id": "5ea17b19493446b4b1ace4319fe901b2",
       "version_major": 2,
       "version_minor": 0
      },
      "text/plain": [
       "Testing: 0it [00:00, ?it/s]"
      ]
     },
     "metadata": {},
     "output_type": "display_data"
    },
    {
     "name": "stdout",
     "output_type": "stream",
     "text": [
      "[SAVED TRIAL RESULTS] Location: /media/data/jacob/GitHub/lightning-hydra-classifiers/notebooks/bn_unit_test_logs/avg/feature_extractor_+_except_bn-PNAS-19_classes-res_512-bsz_16-resnet50-pretrained_True-pool_avg/replicate_1/results/results.yaml\n"
     ]
    },
    {
     "data": {
      "text/html": [
       "<pre style=\"white-space:pre;overflow-x:auto;line-height:normal;font-family:Menlo,'DejaVu Sans Mono',consolas,'Courier New',monospace\"><span style=\"font-weight: bold\">{</span>\n",
       "    <span style=\"color: #008000; text-decoration-color: #008000\">'test_acc'</span>: <span style=\"color: #008080; text-decoration-color: #008080; font-weight: bold\">0.3675265908241272</span>,\n",
       "    <span style=\"color: #008000; text-decoration-color: #008000\">'val_acc'</span>: <span style=\"color: #008080; text-decoration-color: #008080; font-weight: bold\">0.6377972364425659</span>,\n",
       "    <span style=\"color: #008000; text-decoration-color: #008000\">'ckpt_path'</span>: <span style=\"color: #008000; text-decoration-color: #008000\">'/media/data/jacob/GitHub/lightning-hydra-classifiers/notebooks/bn_unit_test</span>\n",
       "<span style=\"color: #008000; text-decoration-color: #008000\">_logs/avg/feature_extractor_+_except_bn-PNAS-19_classes-res_512-bsz_16-resnet50-pretrained_Tr</span>\n",
       "<span style=\"color: #008000; text-decoration-color: #008000\">ue-pool_avg/replicate_1/results/checkpoints/epoch=09-val_loss=0.910-val_acc=0.638.ckpt'</span>,\n",
       "    <span style=\"color: #008000; text-decoration-color: #008000\">'model_config'</span>: <span style=\"font-weight: bold\">{</span>\n",
       "        <span style=\"color: #008000; text-decoration-color: #008000\">'backbone'</span>: <span style=\"font-weight: bold\">{</span><span style=\"color: #008000; text-decoration-color: #008000\">'backbone_name'</span>: <span style=\"color: #008000; text-decoration-color: #008000\">'resnet50'</span><span style=\"font-weight: bold\">}</span>,\n",
       "        <span style=\"color: #008000; text-decoration-color: #008000\">'backbone_name'</span>: <span style=\"color: #008000; text-decoration-color: #008000\">'resnet50'</span>,\n",
       "        <span style=\"color: #008000; text-decoration-color: #008000\">'pretrained'</span>: <span style=\"color: #00ff00; text-decoration-color: #00ff00; font-style: italic\">True</span>,\n",
       "        <span style=\"color: #008000; text-decoration-color: #008000\">'num_classes'</span>: <span style=\"color: #008080; text-decoration-color: #008080; font-weight: bold\">19</span>,\n",
       "        <span style=\"color: #008000; text-decoration-color: #008000\">'pool_type'</span>: <span style=\"color: #008000; text-decoration-color: #008000\">'avg'</span>,\n",
       "        <span style=\"color: #008000; text-decoration-color: #008000\">'head_type'</span>: <span style=\"color: #008000; text-decoration-color: #008000\">'linear'</span>,\n",
       "        <span style=\"color: #008000; text-decoration-color: #008000\">'hidden_size'</span>: <span style=\"color: #800080; text-decoration-color: #800080; font-style: italic\">None</span>,\n",
       "        <span style=\"color: #008000; text-decoration-color: #008000\">'dropout_p'</span>: <span style=\"color: #008080; text-decoration-color: #008080; font-weight: bold\">0.3</span>,\n",
       "        <span style=\"color: #008000; text-decoration-color: #008000\">'lr'</span>: <span style=\"color: #008080; text-decoration-color: #008080; font-weight: bold\">0.025118864315095822</span>,\n",
       "        <span style=\"color: #008000; text-decoration-color: #008000\">'backbone_lr_mult'</span>: <span style=\"color: #008080; text-decoration-color: #008080; font-weight: bold\">0.1</span>,\n",
       "        <span style=\"color: #008000; text-decoration-color: #008000\">'finetuning_strategy'</span>: <span style=\"color: #008000; text-decoration-color: #008000\">'feature_extractor_+_except_bn'</span>,\n",
       "        <span style=\"color: #008000; text-decoration-color: #008000\">'weight_decay'</span>: <span style=\"color: #008080; text-decoration-color: #008080; font-weight: bold\">0.01</span>,\n",
       "        <span style=\"color: #008000; text-decoration-color: #008000\">'seed'</span>: <span style=\"color: #008080; text-decoration-color: #008080; font-weight: bold\">98</span>\n",
       "    <span style=\"font-weight: bold\">}</span>,\n",
       "    <span style=\"color: #008000; text-decoration-color: #008000\">'data_config'</span>: <span style=\"font-weight: bold\">{</span>\n",
       "        <span style=\"color: #008000; text-decoration-color: #008000\">'_target_'</span>: \n",
       "<span style=\"color: #008000; text-decoration-color: #008000\">'lightning_hydra_classifiers.experiments.multitask.datamodules.MultiTaskDataModule'</span>,\n",
       "        <span style=\"color: #008000; text-decoration-color: #008000\">'image_size'</span>: <span style=\"color: #008080; text-decoration-color: #008080; font-weight: bold\">512</span>,\n",
       "        <span style=\"color: #008000; text-decoration-color: #008000\">'image_buffer_size'</span>: <span style=\"color: #008080; text-decoration-color: #008080; font-weight: bold\">32</span>,\n",
       "        <span style=\"color: #008000; text-decoration-color: #008000\">'batch_size'</span>: <span style=\"color: #008080; text-decoration-color: #008080; font-weight: bold\">16</span>,\n",
       "        <span style=\"color: #008000; text-decoration-color: #008000\">'num_workers'</span>: <span style=\"color: #008080; text-decoration-color: #008080; font-weight: bold\">4</span>,\n",
       "        <span style=\"color: #008000; text-decoration-color: #008000\">'pin_memory'</span>: <span style=\"color: #00ff00; text-decoration-color: #00ff00; font-style: italic\">True</span>,\n",
       "        <span style=\"color: #008000; text-decoration-color: #008000\">'dataset_name'</span>: <span style=\"color: #008000; text-decoration-color: #008000\">'Extant-PNAS_to_PNAS'</span>,\n",
       "        <span style=\"color: #008000; text-decoration-color: #008000\">'experiment'</span>: <span style=\"font-weight: bold\">{</span>\n",
       "            <span style=\"color: #008000; text-decoration-color: #008000\">'source_root_dir'</span>: <span style=\"color: #008000; text-decoration-color: #008000\">'/media/data_cifs/projects/prj_fossils/users/jacob/experiments</span>\n",
       "<span style=\"color: #008000; text-decoration-color: #008000\">/July2021-Nov2021/csv_datasets/leavesdb-v1_0'</span>,\n",
       "            <span style=\"color: #008000; text-decoration-color: #008000\">'experiment_root_dir'</span>: <span style=\"color: #008000; text-decoration-color: #008000\">'/media/data_cifs/projects/prj_fossils/users/jacob/experim</span>\n",
       "<span style=\"color: #008000; text-decoration-color: #008000\">ents/July2021-Nov2021/csv_datasets/experimental_datasets'</span>,\n",
       "            <span style=\"color: #008000; text-decoration-color: #008000\">'experiment_name'</span>: <span style=\"color: #008000; text-decoration-color: #008000\">'Extant-to-PNAS-512-transfer_benchmark'</span>,\n",
       "            <span style=\"color: #008000; text-decoration-color: #008000\">'seed'</span>: <span style=\"color: #008080; text-decoration-color: #008080; font-weight: bold\">96857</span>,\n",
       "            <span style=\"color: #008000; text-decoration-color: #008000\">'task_0'</span>: <span style=\"font-weight: bold\">{</span>\n",
       "                <span style=\"color: #008000; text-decoration-color: #008000\">'name'</span>: <span style=\"color: #008000; text-decoration-color: #008000\">'Extant_Leaves_family_10_512_minus_PNAS_family_100_512'</span>,\n",
       "                <span style=\"color: #008000; text-decoration-color: #008000\">'val_split'</span>: <span style=\"color: #008080; text-decoration-color: #008080; font-weight: bold\">0.2</span>,\n",
       "                <span style=\"color: #008000; text-decoration-color: #008000\">'test_split'</span>: <span style=\"color: #800080; text-decoration-color: #800080; font-style: italic\">None</span>\n",
       "            <span style=\"font-weight: bold\">}</span>,\n",
       "            <span style=\"color: #008000; text-decoration-color: #008000\">'task_1'</span>: <span style=\"font-weight: bold\">{</span>\n",
       "                <span style=\"color: #008000; text-decoration-color: #008000\">'name'</span>: <span style=\"color: #008000; text-decoration-color: #008000\">'PNAS_family_100_512_minus_Extant_Leaves_family_10_512'</span>,\n",
       "                <span style=\"color: #008000; text-decoration-color: #008000\">'val_split'</span>: <span style=\"color: #008080; text-decoration-color: #008080; font-weight: bold\">0.2</span>,\n",
       "                <span style=\"color: #008000; text-decoration-color: #008000\">'test_split'</span>: <span style=\"color: #800080; text-decoration-color: #800080; font-style: italic\">None</span>\n",
       "            <span style=\"font-weight: bold\">}</span>\n",
       "        <span style=\"font-weight: bold\">}</span>\n",
       "    <span style=\"font-weight: bold\">}</span>\n",
       "<span style=\"font-weight: bold\">}</span>\n",
       "</pre>\n"
      ],
      "text/plain": [
       "\u001b[1m{\u001b[0m\n",
       "    \u001b[32m'test_acc'\u001b[0m: \u001b[1;36m0.3675265908241272\u001b[0m,\n",
       "    \u001b[32m'val_acc'\u001b[0m: \u001b[1;36m0.6377972364425659\u001b[0m,\n",
       "    \u001b[32m'ckpt_path'\u001b[0m: \u001b[32m'/media/data/jacob/GitHub/lightning-hydra-classifiers/notebooks/bn_unit_test\u001b[0m\n",
       "\u001b[32m_logs/avg/feature_extractor_+_except_bn-PNAS-19_classes-res_512-bsz_16-resnet50-pretrained_Tr\u001b[0m\n",
       "\u001b[32mue-pool_avg/replicate_1/results/checkpoints/\u001b[0m\u001b[32mepoch\u001b[0m\u001b[32m=\u001b[0m\u001b[32m09\u001b[0m\u001b[32m-\u001b[0m\u001b[32mval_loss\u001b[0m\u001b[32m=\u001b[0m\u001b[32m0\u001b[0m\u001b[32m.910-\u001b[0m\u001b[32mval_acc\u001b[0m\u001b[32m=\u001b[0m\u001b[32m0\u001b[0m\u001b[32m.638.ckpt'\u001b[0m,\n",
       "    \u001b[32m'model_config'\u001b[0m: \u001b[1m{\u001b[0m\n",
       "        \u001b[32m'backbone'\u001b[0m: \u001b[1m{\u001b[0m\u001b[32m'backbone_name'\u001b[0m: \u001b[32m'resnet50'\u001b[0m\u001b[1m}\u001b[0m,\n",
       "        \u001b[32m'backbone_name'\u001b[0m: \u001b[32m'resnet50'\u001b[0m,\n",
       "        \u001b[32m'pretrained'\u001b[0m: \u001b[3;92mTrue\u001b[0m,\n",
       "        \u001b[32m'num_classes'\u001b[0m: \u001b[1;36m19\u001b[0m,\n",
       "        \u001b[32m'pool_type'\u001b[0m: \u001b[32m'avg'\u001b[0m,\n",
       "        \u001b[32m'head_type'\u001b[0m: \u001b[32m'linear'\u001b[0m,\n",
       "        \u001b[32m'hidden_size'\u001b[0m: \u001b[3;35mNone\u001b[0m,\n",
       "        \u001b[32m'dropout_p'\u001b[0m: \u001b[1;36m0.3\u001b[0m,\n",
       "        \u001b[32m'lr'\u001b[0m: \u001b[1;36m0.025118864315095822\u001b[0m,\n",
       "        \u001b[32m'backbone_lr_mult'\u001b[0m: \u001b[1;36m0.1\u001b[0m,\n",
       "        \u001b[32m'finetuning_strategy'\u001b[0m: \u001b[32m'feature_extractor_+_except_bn'\u001b[0m,\n",
       "        \u001b[32m'weight_decay'\u001b[0m: \u001b[1;36m0.01\u001b[0m,\n",
       "        \u001b[32m'seed'\u001b[0m: \u001b[1;36m98\u001b[0m\n",
       "    \u001b[1m}\u001b[0m,\n",
       "    \u001b[32m'data_config'\u001b[0m: \u001b[1m{\u001b[0m\n",
       "        \u001b[32m'_target_'\u001b[0m: \n",
       "\u001b[32m'lightning_hydra_classifiers.experiments.multitask.datamodules.MultiTaskDataModule'\u001b[0m,\n",
       "        \u001b[32m'image_size'\u001b[0m: \u001b[1;36m512\u001b[0m,\n",
       "        \u001b[32m'image_buffer_size'\u001b[0m: \u001b[1;36m32\u001b[0m,\n",
       "        \u001b[32m'batch_size'\u001b[0m: \u001b[1;36m16\u001b[0m,\n",
       "        \u001b[32m'num_workers'\u001b[0m: \u001b[1;36m4\u001b[0m,\n",
       "        \u001b[32m'pin_memory'\u001b[0m: \u001b[3;92mTrue\u001b[0m,\n",
       "        \u001b[32m'dataset_name'\u001b[0m: \u001b[32m'Extant-PNAS_to_PNAS'\u001b[0m,\n",
       "        \u001b[32m'experiment'\u001b[0m: \u001b[1m{\u001b[0m\n",
       "            \u001b[32m'source_root_dir'\u001b[0m: \u001b[32m'/media/data_cifs/projects/prj_fossils/users/jacob/experiments\u001b[0m\n",
       "\u001b[32m/July2021-Nov2021/csv_datasets/leavesdb-v1_0'\u001b[0m,\n",
       "            \u001b[32m'experiment_root_dir'\u001b[0m: \u001b[32m'/media/data_cifs/projects/prj_fossils/users/jacob/experim\u001b[0m\n",
       "\u001b[32ments/July2021-Nov2021/csv_datasets/experimental_datasets'\u001b[0m,\n",
       "            \u001b[32m'experiment_name'\u001b[0m: \u001b[32m'Extant-to-PNAS-512-transfer_benchmark'\u001b[0m,\n",
       "            \u001b[32m'seed'\u001b[0m: \u001b[1;36m96857\u001b[0m,\n",
       "            \u001b[32m'task_0'\u001b[0m: \u001b[1m{\u001b[0m\n",
       "                \u001b[32m'name'\u001b[0m: \u001b[32m'Extant_Leaves_family_10_512_minus_PNAS_family_100_512'\u001b[0m,\n",
       "                \u001b[32m'val_split'\u001b[0m: \u001b[1;36m0.2\u001b[0m,\n",
       "                \u001b[32m'test_split'\u001b[0m: \u001b[3;35mNone\u001b[0m\n",
       "            \u001b[1m}\u001b[0m,\n",
       "            \u001b[32m'task_1'\u001b[0m: \u001b[1m{\u001b[0m\n",
       "                \u001b[32m'name'\u001b[0m: \u001b[32m'PNAS_family_100_512_minus_Extant_Leaves_family_10_512'\u001b[0m,\n",
       "                \u001b[32m'val_split'\u001b[0m: \u001b[1;36m0.2\u001b[0m,\n",
       "                \u001b[32m'test_split'\u001b[0m: \u001b[3;35mNone\u001b[0m\n",
       "            \u001b[1m}\u001b[0m\n",
       "        \u001b[1m}\u001b[0m\n",
       "    \u001b[1m}\u001b[0m\n",
       "\u001b[1m}\u001b[0m\n"
      ]
     },
     "metadata": {},
     "output_type": "display_data"
    },
    {
     "name": "stdout",
     "output_type": "stream",
     "text": [
      "ALL FINISHED!!! RESULTS:\n"
     ]
    },
    {
     "data": {
      "text/html": [
       "<pre style=\"white-space:pre;overflow-x:auto;line-height:normal;font-family:Menlo,'DejaVu Sans Mono',consolas,'Courier New',monospace\"><span style=\"font-weight: bold\">{</span>\n",
       "    <span style=\"color: #008000; text-decoration-color: #008000\">'feature_extractor'</span>: <span style=\"font-weight: bold\">{</span>\n",
       "        <span style=\"color: #008000; text-decoration-color: #008000\">'test_acc'</span>: <span style=\"color: #008080; text-decoration-color: #008080; font-weight: bold\">0.2617359757423401</span>,\n",
       "        <span style=\"color: #008000; text-decoration-color: #008000\">'val_acc'</span>: <span style=\"color: #008080; text-decoration-color: #008080; font-weight: bold\">0.4907832741737366</span>,\n",
       "        <span style=\"color: #008000; text-decoration-color: #008000\">'ckpt_path'</span>: <span style=\"color: #008000; text-decoration-color: #008000\">'/media/data/jacob/GitHub/lightning-hydra-classifiers/notebooks/bn_unit_</span>\n",
       "<span style=\"color: #008000; text-decoration-color: #008000\">test_logs/avg/feature_extractor-PNAS-19_classes-res_512-bsz_32-resnet50-pretrained_True-pool_</span>\n",
       "<span style=\"color: #008000; text-decoration-color: #008000\">avg/replicate_1/results/checkpoints/epoch=06-val_loss=1.956-val_acc=0.491.ckpt'</span>,\n",
       "        <span style=\"color: #008000; text-decoration-color: #008000\">'model_config'</span>: <span style=\"font-weight: bold\">{</span>\n",
       "            <span style=\"color: #008000; text-decoration-color: #008000\">'backbone'</span>: <span style=\"font-weight: bold\">{</span><span style=\"color: #008000; text-decoration-color: #008000\">'backbone_name'</span>: <span style=\"color: #008000; text-decoration-color: #008000\">'resnet50'</span><span style=\"font-weight: bold\">}</span>,\n",
       "            <span style=\"color: #008000; text-decoration-color: #008000\">'backbone_name'</span>: <span style=\"color: #008000; text-decoration-color: #008000\">'resnet50'</span>,\n",
       "            <span style=\"color: #008000; text-decoration-color: #008000\">'pretrained'</span>: <span style=\"color: #00ff00; text-decoration-color: #00ff00; font-style: italic\">True</span>,\n",
       "            <span style=\"color: #008000; text-decoration-color: #008000\">'num_classes'</span>: <span style=\"color: #008080; text-decoration-color: #008080; font-weight: bold\">19</span>,\n",
       "            <span style=\"color: #008000; text-decoration-color: #008000\">'pool_type'</span>: <span style=\"color: #008000; text-decoration-color: #008000\">'avg'</span>,\n",
       "            <span style=\"color: #008000; text-decoration-color: #008000\">'head_type'</span>: <span style=\"color: #008000; text-decoration-color: #008000\">'linear'</span>,\n",
       "            <span style=\"color: #008000; text-decoration-color: #008000\">'hidden_size'</span>: <span style=\"color: #800080; text-decoration-color: #800080; font-style: italic\">None</span>,\n",
       "            <span style=\"color: #008000; text-decoration-color: #008000\">'dropout_p'</span>: <span style=\"color: #008080; text-decoration-color: #008080; font-weight: bold\">0.3</span>,\n",
       "            <span style=\"color: #008000; text-decoration-color: #008000\">'lr'</span>: <span style=\"color: #008080; text-decoration-color: #008080; font-weight: bold\">0.036307805477010104</span>,\n",
       "            <span style=\"color: #008000; text-decoration-color: #008000\">'backbone_lr_mult'</span>: <span style=\"color: #008080; text-decoration-color: #008080; font-weight: bold\">0.1</span>,\n",
       "            <span style=\"color: #008000; text-decoration-color: #008000\">'finetuning_strategy'</span>: <span style=\"color: #008000; text-decoration-color: #008000\">'feature_extractor'</span>,\n",
       "            <span style=\"color: #008000; text-decoration-color: #008000\">'weight_decay'</span>: <span style=\"color: #008080; text-decoration-color: #008080; font-weight: bold\">0.01</span>,\n",
       "            <span style=\"color: #008000; text-decoration-color: #008000\">'seed'</span>: <span style=\"color: #008080; text-decoration-color: #008080; font-weight: bold\">98</span>\n",
       "        <span style=\"font-weight: bold\">}</span>,\n",
       "        <span style=\"color: #008000; text-decoration-color: #008000\">'data_config'</span>: <span style=\"font-weight: bold\">{</span>\n",
       "            <span style=\"color: #008000; text-decoration-color: #008000\">'_target_'</span>: \n",
       "<span style=\"color: #008000; text-decoration-color: #008000\">'lightning_hydra_classifiers.experiments.multitask.datamodules.MultiTaskDataModule'</span>,\n",
       "            <span style=\"color: #008000; text-decoration-color: #008000\">'image_size'</span>: <span style=\"color: #008080; text-decoration-color: #008080; font-weight: bold\">512</span>,\n",
       "            <span style=\"color: #008000; text-decoration-color: #008000\">'image_buffer_size'</span>: <span style=\"color: #008080; text-decoration-color: #008080; font-weight: bold\">32</span>,\n",
       "            <span style=\"color: #008000; text-decoration-color: #008000\">'batch_size'</span>: <span style=\"color: #008080; text-decoration-color: #008080; font-weight: bold\">32</span>,\n",
       "            <span style=\"color: #008000; text-decoration-color: #008000\">'num_workers'</span>: <span style=\"color: #008080; text-decoration-color: #008080; font-weight: bold\">4</span>,\n",
       "            <span style=\"color: #008000; text-decoration-color: #008000\">'pin_memory'</span>: <span style=\"color: #00ff00; text-decoration-color: #00ff00; font-style: italic\">True</span>,\n",
       "            <span style=\"color: #008000; text-decoration-color: #008000\">'dataset_name'</span>: <span style=\"color: #008000; text-decoration-color: #008000\">'Extant-PNAS_to_PNAS'</span>,\n",
       "            <span style=\"color: #008000; text-decoration-color: #008000\">'experiment'</span>: <span style=\"font-weight: bold\">{</span>\n",
       "                <span style=\"color: #008000; text-decoration-color: #008000\">'source_root_dir'</span>: <span style=\"color: #008000; text-decoration-color: #008000\">'/media/data_cifs/projects/prj_fossils/users/jacob/experim</span>\n",
       "<span style=\"color: #008000; text-decoration-color: #008000\">ents/July2021-Nov2021/csv_datasets/leavesdb-v1_0'</span>,\n",
       "                <span style=\"color: #008000; text-decoration-color: #008000\">'experiment_root_dir'</span>: <span style=\"color: #008000; text-decoration-color: #008000\">'/media/data_cifs/projects/prj_fossils/users/jacob/exp</span>\n",
       "<span style=\"color: #008000; text-decoration-color: #008000\">eriments/July2021-Nov2021/csv_datasets/experimental_datasets'</span>,\n",
       "                <span style=\"color: #008000; text-decoration-color: #008000\">'experiment_name'</span>: <span style=\"color: #008000; text-decoration-color: #008000\">'Extant-to-PNAS-512-transfer_benchmark'</span>,\n",
       "                <span style=\"color: #008000; text-decoration-color: #008000\">'seed'</span>: <span style=\"color: #008080; text-decoration-color: #008080; font-weight: bold\">96857</span>,\n",
       "                <span style=\"color: #008000; text-decoration-color: #008000\">'task_0'</span>: <span style=\"font-weight: bold\">{</span>\n",
       "                    <span style=\"color: #008000; text-decoration-color: #008000\">'name'</span>: <span style=\"color: #008000; text-decoration-color: #008000\">'Extant_Leaves_family_10_512_minus_PNAS_family_100_512'</span>,\n",
       "                    <span style=\"color: #008000; text-decoration-color: #008000\">'val_split'</span>: <span style=\"color: #008080; text-decoration-color: #008080; font-weight: bold\">0.2</span>,\n",
       "                    <span style=\"color: #008000; text-decoration-color: #008000\">'test_split'</span>: <span style=\"color: #800080; text-decoration-color: #800080; font-style: italic\">None</span>\n",
       "                <span style=\"font-weight: bold\">}</span>,\n",
       "                <span style=\"color: #008000; text-decoration-color: #008000\">'task_1'</span>: <span style=\"font-weight: bold\">{</span>\n",
       "                    <span style=\"color: #008000; text-decoration-color: #008000\">'name'</span>: <span style=\"color: #008000; text-decoration-color: #008000\">'PNAS_family_100_512_minus_Extant_Leaves_family_10_512'</span>,\n",
       "                    <span style=\"color: #008000; text-decoration-color: #008000\">'val_split'</span>: <span style=\"color: #008080; text-decoration-color: #008080; font-weight: bold\">0.2</span>,\n",
       "                    <span style=\"color: #008000; text-decoration-color: #008000\">'test_split'</span>: <span style=\"color: #800080; text-decoration-color: #800080; font-style: italic\">None</span>\n",
       "                <span style=\"font-weight: bold\">}</span>\n",
       "            <span style=\"font-weight: bold\">}</span>\n",
       "        <span style=\"font-weight: bold\">}</span>\n",
       "    <span style=\"font-weight: bold\">}</span>,\n",
       "    <span style=\"color: #008000; text-decoration-color: #008000\">'feature_extractor_+_bn.eval()'</span>: <span style=\"font-weight: bold\">{</span>\n",
       "        <span style=\"color: #008000; text-decoration-color: #008000\">'test_acc'</span>: <span style=\"color: #008080; text-decoration-color: #008080; font-weight: bold\">0.2662663757801056</span>,\n",
       "        <span style=\"color: #008000; text-decoration-color: #008000\">'val_acc'</span>: <span style=\"color: #008080; text-decoration-color: #008080; font-weight: bold\">0.4947287440299988</span>,\n",
       "        <span style=\"color: #008000; text-decoration-color: #008000\">'ckpt_path'</span>: <span style=\"color: #008000; text-decoration-color: #008000\">'/media/data/jacob/GitHub/lightning-hydra-classifiers/notebooks/bn_unit_</span>\n",
       "<span style=\"color: #008000; text-decoration-color: #008000\">test_logs/avg/feature_extractor_+_bn.eval()-PNAS-19_classes-res_512-bsz_32-resnet50-pretraine</span>\n",
       "<span style=\"color: #008000; text-decoration-color: #008000\">d_True-pool_avg/replicate_1/results/checkpoints/epoch=04-val_loss=1.585-val_acc=0.495.ckpt'</span>,\n",
       "        <span style=\"color: #008000; text-decoration-color: #008000\">'model_config'</span>: <span style=\"font-weight: bold\">{</span>\n",
       "            <span style=\"color: #008000; text-decoration-color: #008000\">'backbone'</span>: <span style=\"font-weight: bold\">{</span><span style=\"color: #008000; text-decoration-color: #008000\">'backbone_name'</span>: <span style=\"color: #008000; text-decoration-color: #008000\">'resnet50'</span><span style=\"font-weight: bold\">}</span>,\n",
       "            <span style=\"color: #008000; text-decoration-color: #008000\">'backbone_name'</span>: <span style=\"color: #008000; text-decoration-color: #008000\">'resnet50'</span>,\n",
       "            <span style=\"color: #008000; text-decoration-color: #008000\">'pretrained'</span>: <span style=\"color: #00ff00; text-decoration-color: #00ff00; font-style: italic\">True</span>,\n",
       "            <span style=\"color: #008000; text-decoration-color: #008000\">'num_classes'</span>: <span style=\"color: #008080; text-decoration-color: #008080; font-weight: bold\">19</span>,\n",
       "            <span style=\"color: #008000; text-decoration-color: #008000\">'pool_type'</span>: <span style=\"color: #008000; text-decoration-color: #008000\">'avg'</span>,\n",
       "            <span style=\"color: #008000; text-decoration-color: #008000\">'head_type'</span>: <span style=\"color: #008000; text-decoration-color: #008000\">'linear'</span>,\n",
       "            <span style=\"color: #008000; text-decoration-color: #008000\">'hidden_size'</span>: <span style=\"color: #800080; text-decoration-color: #800080; font-style: italic\">None</span>,\n",
       "            <span style=\"color: #008000; text-decoration-color: #008000\">'dropout_p'</span>: <span style=\"color: #008080; text-decoration-color: #008080; font-weight: bold\">0.3</span>,\n",
       "            <span style=\"color: #008000; text-decoration-color: #008000\">'lr'</span>: <span style=\"color: #008080; text-decoration-color: #008080; font-weight: bold\">0.036307805477010104</span>,\n",
       "            <span style=\"color: #008000; text-decoration-color: #008000\">'backbone_lr_mult'</span>: <span style=\"color: #008080; text-decoration-color: #008080; font-weight: bold\">0.1</span>,\n",
       "            <span style=\"color: #008000; text-decoration-color: #008000\">'finetuning_strategy'</span>: <span style=\"color: #008000; text-decoration-color: #008000\">'feature_extractor_+_bn.eval()'</span>,\n",
       "            <span style=\"color: #008000; text-decoration-color: #008000\">'weight_decay'</span>: <span style=\"color: #008080; text-decoration-color: #008080; font-weight: bold\">0.01</span>,\n",
       "            <span style=\"color: #008000; text-decoration-color: #008000\">'seed'</span>: <span style=\"color: #008080; text-decoration-color: #008080; font-weight: bold\">98</span>\n",
       "        <span style=\"font-weight: bold\">}</span>,\n",
       "        <span style=\"color: #008000; text-decoration-color: #008000\">'data_config'</span>: <span style=\"font-weight: bold\">{</span>\n",
       "            <span style=\"color: #008000; text-decoration-color: #008000\">'_target_'</span>: \n",
       "<span style=\"color: #008000; text-decoration-color: #008000\">'lightning_hydra_classifiers.experiments.multitask.datamodules.MultiTaskDataModule'</span>,\n",
       "            <span style=\"color: #008000; text-decoration-color: #008000\">'image_size'</span>: <span style=\"color: #008080; text-decoration-color: #008080; font-weight: bold\">512</span>,\n",
       "            <span style=\"color: #008000; text-decoration-color: #008000\">'image_buffer_size'</span>: <span style=\"color: #008080; text-decoration-color: #008080; font-weight: bold\">32</span>,\n",
       "            <span style=\"color: #008000; text-decoration-color: #008000\">'batch_size'</span>: <span style=\"color: #008080; text-decoration-color: #008080; font-weight: bold\">32</span>,\n",
       "            <span style=\"color: #008000; text-decoration-color: #008000\">'num_workers'</span>: <span style=\"color: #008080; text-decoration-color: #008080; font-weight: bold\">4</span>,\n",
       "            <span style=\"color: #008000; text-decoration-color: #008000\">'pin_memory'</span>: <span style=\"color: #00ff00; text-decoration-color: #00ff00; font-style: italic\">True</span>,\n",
       "            <span style=\"color: #008000; text-decoration-color: #008000\">'dataset_name'</span>: <span style=\"color: #008000; text-decoration-color: #008000\">'Extant-PNAS_to_PNAS'</span>,\n",
       "            <span style=\"color: #008000; text-decoration-color: #008000\">'experiment'</span>: <span style=\"font-weight: bold\">{</span>\n",
       "                <span style=\"color: #008000; text-decoration-color: #008000\">'source_root_dir'</span>: <span style=\"color: #008000; text-decoration-color: #008000\">'/media/data_cifs/projects/prj_fossils/users/jacob/experim</span>\n",
       "<span style=\"color: #008000; text-decoration-color: #008000\">ents/July2021-Nov2021/csv_datasets/leavesdb-v1_0'</span>,\n",
       "                <span style=\"color: #008000; text-decoration-color: #008000\">'experiment_root_dir'</span>: <span style=\"color: #008000; text-decoration-color: #008000\">'/media/data_cifs/projects/prj_fossils/users/jacob/exp</span>\n",
       "<span style=\"color: #008000; text-decoration-color: #008000\">eriments/July2021-Nov2021/csv_datasets/experimental_datasets'</span>,\n",
       "                <span style=\"color: #008000; text-decoration-color: #008000\">'experiment_name'</span>: <span style=\"color: #008000; text-decoration-color: #008000\">'Extant-to-PNAS-512-transfer_benchmark'</span>,\n",
       "                <span style=\"color: #008000; text-decoration-color: #008000\">'seed'</span>: <span style=\"color: #008080; text-decoration-color: #008080; font-weight: bold\">96857</span>,\n",
       "                <span style=\"color: #008000; text-decoration-color: #008000\">'task_0'</span>: <span style=\"font-weight: bold\">{</span>\n",
       "                    <span style=\"color: #008000; text-decoration-color: #008000\">'name'</span>: <span style=\"color: #008000; text-decoration-color: #008000\">'Extant_Leaves_family_10_512_minus_PNAS_family_100_512'</span>,\n",
       "                    <span style=\"color: #008000; text-decoration-color: #008000\">'val_split'</span>: <span style=\"color: #008080; text-decoration-color: #008080; font-weight: bold\">0.2</span>,\n",
       "                    <span style=\"color: #008000; text-decoration-color: #008000\">'test_split'</span>: <span style=\"color: #800080; text-decoration-color: #800080; font-style: italic\">None</span>\n",
       "                <span style=\"font-weight: bold\">}</span>,\n",
       "                <span style=\"color: #008000; text-decoration-color: #008000\">'task_1'</span>: <span style=\"font-weight: bold\">{</span>\n",
       "                    <span style=\"color: #008000; text-decoration-color: #008000\">'name'</span>: <span style=\"color: #008000; text-decoration-color: #008000\">'PNAS_family_100_512_minus_Extant_Leaves_family_10_512'</span>,\n",
       "                    <span style=\"color: #008000; text-decoration-color: #008000\">'val_split'</span>: <span style=\"color: #008080; text-decoration-color: #008080; font-weight: bold\">0.2</span>,\n",
       "                    <span style=\"color: #008000; text-decoration-color: #008000\">'test_split'</span>: <span style=\"color: #800080; text-decoration-color: #800080; font-style: italic\">None</span>\n",
       "                <span style=\"font-weight: bold\">}</span>\n",
       "            <span style=\"font-weight: bold\">}</span>\n",
       "        <span style=\"font-weight: bold\">}</span>\n",
       "    <span style=\"font-weight: bold\">}</span>,\n",
       "    <span style=\"color: #008000; text-decoration-color: #008000\">'feature_extractor_+_except_bn'</span>: <span style=\"font-weight: bold\">{</span>\n",
       "        <span style=\"color: #008000; text-decoration-color: #008000\">'test_acc'</span>: <span style=\"color: #008080; text-decoration-color: #008080; font-weight: bold\">0.3675265908241272</span>,\n",
       "        <span style=\"color: #008000; text-decoration-color: #008000\">'val_acc'</span>: <span style=\"color: #008080; text-decoration-color: #008080; font-weight: bold\">0.6377972364425659</span>,\n",
       "        <span style=\"color: #008000; text-decoration-color: #008000\">'ckpt_path'</span>: <span style=\"color: #008000; text-decoration-color: #008000\">'/media/data/jacob/GitHub/lightning-hydra-classifiers/notebooks/bn_unit_</span>\n",
       "<span style=\"color: #008000; text-decoration-color: #008000\">test_logs/avg/feature_extractor_+_except_bn-PNAS-19_classes-res_512-bsz_16-resnet50-pretraine</span>\n",
       "<span style=\"color: #008000; text-decoration-color: #008000\">d_True-pool_avg/replicate_1/results/checkpoints/epoch=09-val_loss=0.910-val_acc=0.638.ckpt'</span>,\n",
       "        <span style=\"color: #008000; text-decoration-color: #008000\">'model_config'</span>: <span style=\"font-weight: bold\">{</span>\n",
       "            <span style=\"color: #008000; text-decoration-color: #008000\">'backbone'</span>: <span style=\"font-weight: bold\">{</span><span style=\"color: #008000; text-decoration-color: #008000\">'backbone_name'</span>: <span style=\"color: #008000; text-decoration-color: #008000\">'resnet50'</span><span style=\"font-weight: bold\">}</span>,\n",
       "            <span style=\"color: #008000; text-decoration-color: #008000\">'backbone_name'</span>: <span style=\"color: #008000; text-decoration-color: #008000\">'resnet50'</span>,\n",
       "            <span style=\"color: #008000; text-decoration-color: #008000\">'pretrained'</span>: <span style=\"color: #00ff00; text-decoration-color: #00ff00; font-style: italic\">True</span>,\n",
       "            <span style=\"color: #008000; text-decoration-color: #008000\">'num_classes'</span>: <span style=\"color: #008080; text-decoration-color: #008080; font-weight: bold\">19</span>,\n",
       "            <span style=\"color: #008000; text-decoration-color: #008000\">'pool_type'</span>: <span style=\"color: #008000; text-decoration-color: #008000\">'avg'</span>,\n",
       "            <span style=\"color: #008000; text-decoration-color: #008000\">'head_type'</span>: <span style=\"color: #008000; text-decoration-color: #008000\">'linear'</span>,\n",
       "            <span style=\"color: #008000; text-decoration-color: #008000\">'hidden_size'</span>: <span style=\"color: #800080; text-decoration-color: #800080; font-style: italic\">None</span>,\n",
       "            <span style=\"color: #008000; text-decoration-color: #008000\">'dropout_p'</span>: <span style=\"color: #008080; text-decoration-color: #008080; font-weight: bold\">0.3</span>,\n",
       "            <span style=\"color: #008000; text-decoration-color: #008000\">'lr'</span>: <span style=\"color: #008080; text-decoration-color: #008080; font-weight: bold\">0.025118864315095822</span>,\n",
       "            <span style=\"color: #008000; text-decoration-color: #008000\">'backbone_lr_mult'</span>: <span style=\"color: #008080; text-decoration-color: #008080; font-weight: bold\">0.1</span>,\n",
       "            <span style=\"color: #008000; text-decoration-color: #008000\">'finetuning_strategy'</span>: <span style=\"color: #008000; text-decoration-color: #008000\">'feature_extractor_+_except_bn'</span>,\n",
       "            <span style=\"color: #008000; text-decoration-color: #008000\">'weight_decay'</span>: <span style=\"color: #008080; text-decoration-color: #008080; font-weight: bold\">0.01</span>,\n",
       "            <span style=\"color: #008000; text-decoration-color: #008000\">'seed'</span>: <span style=\"color: #008080; text-decoration-color: #008080; font-weight: bold\">98</span>\n",
       "        <span style=\"font-weight: bold\">}</span>,\n",
       "        <span style=\"color: #008000; text-decoration-color: #008000\">'data_config'</span>: <span style=\"font-weight: bold\">{</span>\n",
       "            <span style=\"color: #008000; text-decoration-color: #008000\">'_target_'</span>: \n",
       "<span style=\"color: #008000; text-decoration-color: #008000\">'lightning_hydra_classifiers.experiments.multitask.datamodules.MultiTaskDataModule'</span>,\n",
       "            <span style=\"color: #008000; text-decoration-color: #008000\">'image_size'</span>: <span style=\"color: #008080; text-decoration-color: #008080; font-weight: bold\">512</span>,\n",
       "            <span style=\"color: #008000; text-decoration-color: #008000\">'image_buffer_size'</span>: <span style=\"color: #008080; text-decoration-color: #008080; font-weight: bold\">32</span>,\n",
       "            <span style=\"color: #008000; text-decoration-color: #008000\">'batch_size'</span>: <span style=\"color: #008080; text-decoration-color: #008080; font-weight: bold\">16</span>,\n",
       "            <span style=\"color: #008000; text-decoration-color: #008000\">'num_workers'</span>: <span style=\"color: #008080; text-decoration-color: #008080; font-weight: bold\">4</span>,\n",
       "            <span style=\"color: #008000; text-decoration-color: #008000\">'pin_memory'</span>: <span style=\"color: #00ff00; text-decoration-color: #00ff00; font-style: italic\">True</span>,\n",
       "            <span style=\"color: #008000; text-decoration-color: #008000\">'dataset_name'</span>: <span style=\"color: #008000; text-decoration-color: #008000\">'Extant-PNAS_to_PNAS'</span>,\n",
       "            <span style=\"color: #008000; text-decoration-color: #008000\">'experiment'</span>: <span style=\"font-weight: bold\">{</span>\n",
       "                <span style=\"color: #008000; text-decoration-color: #008000\">'source_root_dir'</span>: <span style=\"color: #008000; text-decoration-color: #008000\">'/media/data_cifs/projects/prj_fossils/users/jacob/experim</span>\n",
       "<span style=\"color: #008000; text-decoration-color: #008000\">ents/July2021-Nov2021/csv_datasets/leavesdb-v1_0'</span>,\n",
       "                <span style=\"color: #008000; text-decoration-color: #008000\">'experiment_root_dir'</span>: <span style=\"color: #008000; text-decoration-color: #008000\">'/media/data_cifs/projects/prj_fossils/users/jacob/exp</span>\n",
       "<span style=\"color: #008000; text-decoration-color: #008000\">eriments/July2021-Nov2021/csv_datasets/experimental_datasets'</span>,\n",
       "                <span style=\"color: #008000; text-decoration-color: #008000\">'experiment_name'</span>: <span style=\"color: #008000; text-decoration-color: #008000\">'Extant-to-PNAS-512-transfer_benchmark'</span>,\n",
       "                <span style=\"color: #008000; text-decoration-color: #008000\">'seed'</span>: <span style=\"color: #008080; text-decoration-color: #008080; font-weight: bold\">96857</span>,\n",
       "                <span style=\"color: #008000; text-decoration-color: #008000\">'task_0'</span>: <span style=\"font-weight: bold\">{</span>\n",
       "                    <span style=\"color: #008000; text-decoration-color: #008000\">'name'</span>: <span style=\"color: #008000; text-decoration-color: #008000\">'Extant_Leaves_family_10_512_minus_PNAS_family_100_512'</span>,\n",
       "                    <span style=\"color: #008000; text-decoration-color: #008000\">'val_split'</span>: <span style=\"color: #008080; text-decoration-color: #008080; font-weight: bold\">0.2</span>,\n",
       "                    <span style=\"color: #008000; text-decoration-color: #008000\">'test_split'</span>: <span style=\"color: #800080; text-decoration-color: #800080; font-style: italic\">None</span>\n",
       "                <span style=\"font-weight: bold\">}</span>,\n",
       "                <span style=\"color: #008000; text-decoration-color: #008000\">'task_1'</span>: <span style=\"font-weight: bold\">{</span>\n",
       "                    <span style=\"color: #008000; text-decoration-color: #008000\">'name'</span>: <span style=\"color: #008000; text-decoration-color: #008000\">'PNAS_family_100_512_minus_Extant_Leaves_family_10_512'</span>,\n",
       "                    <span style=\"color: #008000; text-decoration-color: #008000\">'val_split'</span>: <span style=\"color: #008080; text-decoration-color: #008080; font-weight: bold\">0.2</span>,\n",
       "                    <span style=\"color: #008000; text-decoration-color: #008000\">'test_split'</span>: <span style=\"color: #800080; text-decoration-color: #800080; font-style: italic\">None</span>\n",
       "                <span style=\"font-weight: bold\">}</span>\n",
       "            <span style=\"font-weight: bold\">}</span>\n",
       "        <span style=\"font-weight: bold\">}</span>\n",
       "    <span style=\"font-weight: bold\">}</span>\n",
       "<span style=\"font-weight: bold\">}</span>\n",
       "</pre>\n"
      ],
      "text/plain": [
       "\u001b[1m{\u001b[0m\n",
       "    \u001b[32m'feature_extractor'\u001b[0m: \u001b[1m{\u001b[0m\n",
       "        \u001b[32m'test_acc'\u001b[0m: \u001b[1;36m0.2617359757423401\u001b[0m,\n",
       "        \u001b[32m'val_acc'\u001b[0m: \u001b[1;36m0.4907832741737366\u001b[0m,\n",
       "        \u001b[32m'ckpt_path'\u001b[0m: \u001b[32m'/media/data/jacob/GitHub/lightning-hydra-classifiers/notebooks/bn_unit_\u001b[0m\n",
       "\u001b[32mtest_logs/avg/feature_extractor-PNAS-19_classes-res_512-bsz_32-resnet50-pretrained_True-pool_\u001b[0m\n",
       "\u001b[32mavg/replicate_1/results/checkpoints/\u001b[0m\u001b[32mepoch\u001b[0m\u001b[32m=\u001b[0m\u001b[32m06\u001b[0m\u001b[32m-\u001b[0m\u001b[32mval_loss\u001b[0m\u001b[32m=\u001b[0m\u001b[32m1\u001b[0m\u001b[32m.956-\u001b[0m\u001b[32mval_acc\u001b[0m\u001b[32m=\u001b[0m\u001b[32m0\u001b[0m\u001b[32m.491.ckpt'\u001b[0m,\n",
       "        \u001b[32m'model_config'\u001b[0m: \u001b[1m{\u001b[0m\n",
       "            \u001b[32m'backbone'\u001b[0m: \u001b[1m{\u001b[0m\u001b[32m'backbone_name'\u001b[0m: \u001b[32m'resnet50'\u001b[0m\u001b[1m}\u001b[0m,\n",
       "            \u001b[32m'backbone_name'\u001b[0m: \u001b[32m'resnet50'\u001b[0m,\n",
       "            \u001b[32m'pretrained'\u001b[0m: \u001b[3;92mTrue\u001b[0m,\n",
       "            \u001b[32m'num_classes'\u001b[0m: \u001b[1;36m19\u001b[0m,\n",
       "            \u001b[32m'pool_type'\u001b[0m: \u001b[32m'avg'\u001b[0m,\n",
       "            \u001b[32m'head_type'\u001b[0m: \u001b[32m'linear'\u001b[0m,\n",
       "            \u001b[32m'hidden_size'\u001b[0m: \u001b[3;35mNone\u001b[0m,\n",
       "            \u001b[32m'dropout_p'\u001b[0m: \u001b[1;36m0.3\u001b[0m,\n",
       "            \u001b[32m'lr'\u001b[0m: \u001b[1;36m0.036307805477010104\u001b[0m,\n",
       "            \u001b[32m'backbone_lr_mult'\u001b[0m: \u001b[1;36m0.1\u001b[0m,\n",
       "            \u001b[32m'finetuning_strategy'\u001b[0m: \u001b[32m'feature_extractor'\u001b[0m,\n",
       "            \u001b[32m'weight_decay'\u001b[0m: \u001b[1;36m0.01\u001b[0m,\n",
       "            \u001b[32m'seed'\u001b[0m: \u001b[1;36m98\u001b[0m\n",
       "        \u001b[1m}\u001b[0m,\n",
       "        \u001b[32m'data_config'\u001b[0m: \u001b[1m{\u001b[0m\n",
       "            \u001b[32m'_target_'\u001b[0m: \n",
       "\u001b[32m'lightning_hydra_classifiers.experiments.multitask.datamodules.MultiTaskDataModule'\u001b[0m,\n",
       "            \u001b[32m'image_size'\u001b[0m: \u001b[1;36m512\u001b[0m,\n",
       "            \u001b[32m'image_buffer_size'\u001b[0m: \u001b[1;36m32\u001b[0m,\n",
       "            \u001b[32m'batch_size'\u001b[0m: \u001b[1;36m32\u001b[0m,\n",
       "            \u001b[32m'num_workers'\u001b[0m: \u001b[1;36m4\u001b[0m,\n",
       "            \u001b[32m'pin_memory'\u001b[0m: \u001b[3;92mTrue\u001b[0m,\n",
       "            \u001b[32m'dataset_name'\u001b[0m: \u001b[32m'Extant-PNAS_to_PNAS'\u001b[0m,\n",
       "            \u001b[32m'experiment'\u001b[0m: \u001b[1m{\u001b[0m\n",
       "                \u001b[32m'source_root_dir'\u001b[0m: \u001b[32m'/media/data_cifs/projects/prj_fossils/users/jacob/experim\u001b[0m\n",
       "\u001b[32ments/July2021-Nov2021/csv_datasets/leavesdb-v1_0'\u001b[0m,\n",
       "                \u001b[32m'experiment_root_dir'\u001b[0m: \u001b[32m'/media/data_cifs/projects/prj_fossils/users/jacob/exp\u001b[0m\n",
       "\u001b[32meriments/July2021-Nov2021/csv_datasets/experimental_datasets'\u001b[0m,\n",
       "                \u001b[32m'experiment_name'\u001b[0m: \u001b[32m'Extant-to-PNAS-512-transfer_benchmark'\u001b[0m,\n",
       "                \u001b[32m'seed'\u001b[0m: \u001b[1;36m96857\u001b[0m,\n",
       "                \u001b[32m'task_0'\u001b[0m: \u001b[1m{\u001b[0m\n",
       "                    \u001b[32m'name'\u001b[0m: \u001b[32m'Extant_Leaves_family_10_512_minus_PNAS_family_100_512'\u001b[0m,\n",
       "                    \u001b[32m'val_split'\u001b[0m: \u001b[1;36m0.2\u001b[0m,\n",
       "                    \u001b[32m'test_split'\u001b[0m: \u001b[3;35mNone\u001b[0m\n",
       "                \u001b[1m}\u001b[0m,\n",
       "                \u001b[32m'task_1'\u001b[0m: \u001b[1m{\u001b[0m\n",
       "                    \u001b[32m'name'\u001b[0m: \u001b[32m'PNAS_family_100_512_minus_Extant_Leaves_family_10_512'\u001b[0m,\n",
       "                    \u001b[32m'val_split'\u001b[0m: \u001b[1;36m0.2\u001b[0m,\n",
       "                    \u001b[32m'test_split'\u001b[0m: \u001b[3;35mNone\u001b[0m\n",
       "                \u001b[1m}\u001b[0m\n",
       "            \u001b[1m}\u001b[0m\n",
       "        \u001b[1m}\u001b[0m\n",
       "    \u001b[1m}\u001b[0m,\n",
       "    \u001b[32m'feature_extractor_+_bn.eval\u001b[0m\u001b[32m(\u001b[0m\u001b[32m)\u001b[0m\u001b[32m'\u001b[0m: \u001b[1m{\u001b[0m\n",
       "        \u001b[32m'test_acc'\u001b[0m: \u001b[1;36m0.2662663757801056\u001b[0m,\n",
       "        \u001b[32m'val_acc'\u001b[0m: \u001b[1;36m0.4947287440299988\u001b[0m,\n",
       "        \u001b[32m'ckpt_path'\u001b[0m: \u001b[32m'/media/data/jacob/GitHub/lightning-hydra-classifiers/notebooks/bn_unit_\u001b[0m\n",
       "\u001b[32mtest_logs/avg/feature_extractor_+_bn.eval\u001b[0m\u001b[32m(\u001b[0m\u001b[32m)\u001b[0m\u001b[32m-PNAS-19_classes-res_512-bsz_32-resnet50-pretraine\u001b[0m\n",
       "\u001b[32md_True-pool_avg/replicate_1/results/checkpoints/\u001b[0m\u001b[32mepoch\u001b[0m\u001b[32m=\u001b[0m\u001b[32m04\u001b[0m\u001b[32m-\u001b[0m\u001b[32mval_loss\u001b[0m\u001b[32m=\u001b[0m\u001b[32m1\u001b[0m\u001b[32m.585-\u001b[0m\u001b[32mval_acc\u001b[0m\u001b[32m=\u001b[0m\u001b[32m0\u001b[0m\u001b[32m.495.ckpt'\u001b[0m,\n",
       "        \u001b[32m'model_config'\u001b[0m: \u001b[1m{\u001b[0m\n",
       "            \u001b[32m'backbone'\u001b[0m: \u001b[1m{\u001b[0m\u001b[32m'backbone_name'\u001b[0m: \u001b[32m'resnet50'\u001b[0m\u001b[1m}\u001b[0m,\n",
       "            \u001b[32m'backbone_name'\u001b[0m: \u001b[32m'resnet50'\u001b[0m,\n",
       "            \u001b[32m'pretrained'\u001b[0m: \u001b[3;92mTrue\u001b[0m,\n",
       "            \u001b[32m'num_classes'\u001b[0m: \u001b[1;36m19\u001b[0m,\n",
       "            \u001b[32m'pool_type'\u001b[0m: \u001b[32m'avg'\u001b[0m,\n",
       "            \u001b[32m'head_type'\u001b[0m: \u001b[32m'linear'\u001b[0m,\n",
       "            \u001b[32m'hidden_size'\u001b[0m: \u001b[3;35mNone\u001b[0m,\n",
       "            \u001b[32m'dropout_p'\u001b[0m: \u001b[1;36m0.3\u001b[0m,\n",
       "            \u001b[32m'lr'\u001b[0m: \u001b[1;36m0.036307805477010104\u001b[0m,\n",
       "            \u001b[32m'backbone_lr_mult'\u001b[0m: \u001b[1;36m0.1\u001b[0m,\n",
       "            \u001b[32m'finetuning_strategy'\u001b[0m: \u001b[32m'feature_extractor_+_bn.eval\u001b[0m\u001b[32m(\u001b[0m\u001b[32m)\u001b[0m\u001b[32m'\u001b[0m,\n",
       "            \u001b[32m'weight_decay'\u001b[0m: \u001b[1;36m0.01\u001b[0m,\n",
       "            \u001b[32m'seed'\u001b[0m: \u001b[1;36m98\u001b[0m\n",
       "        \u001b[1m}\u001b[0m,\n",
       "        \u001b[32m'data_config'\u001b[0m: \u001b[1m{\u001b[0m\n",
       "            \u001b[32m'_target_'\u001b[0m: \n",
       "\u001b[32m'lightning_hydra_classifiers.experiments.multitask.datamodules.MultiTaskDataModule'\u001b[0m,\n",
       "            \u001b[32m'image_size'\u001b[0m: \u001b[1;36m512\u001b[0m,\n",
       "            \u001b[32m'image_buffer_size'\u001b[0m: \u001b[1;36m32\u001b[0m,\n",
       "            \u001b[32m'batch_size'\u001b[0m: \u001b[1;36m32\u001b[0m,\n",
       "            \u001b[32m'num_workers'\u001b[0m: \u001b[1;36m4\u001b[0m,\n",
       "            \u001b[32m'pin_memory'\u001b[0m: \u001b[3;92mTrue\u001b[0m,\n",
       "            \u001b[32m'dataset_name'\u001b[0m: \u001b[32m'Extant-PNAS_to_PNAS'\u001b[0m,\n",
       "            \u001b[32m'experiment'\u001b[0m: \u001b[1m{\u001b[0m\n",
       "                \u001b[32m'source_root_dir'\u001b[0m: \u001b[32m'/media/data_cifs/projects/prj_fossils/users/jacob/experim\u001b[0m\n",
       "\u001b[32ments/July2021-Nov2021/csv_datasets/leavesdb-v1_0'\u001b[0m,\n",
       "                \u001b[32m'experiment_root_dir'\u001b[0m: \u001b[32m'/media/data_cifs/projects/prj_fossils/users/jacob/exp\u001b[0m\n",
       "\u001b[32meriments/July2021-Nov2021/csv_datasets/experimental_datasets'\u001b[0m,\n",
       "                \u001b[32m'experiment_name'\u001b[0m: \u001b[32m'Extant-to-PNAS-512-transfer_benchmark'\u001b[0m,\n",
       "                \u001b[32m'seed'\u001b[0m: \u001b[1;36m96857\u001b[0m,\n",
       "                \u001b[32m'task_0'\u001b[0m: \u001b[1m{\u001b[0m\n",
       "                    \u001b[32m'name'\u001b[0m: \u001b[32m'Extant_Leaves_family_10_512_minus_PNAS_family_100_512'\u001b[0m,\n",
       "                    \u001b[32m'val_split'\u001b[0m: \u001b[1;36m0.2\u001b[0m,\n",
       "                    \u001b[32m'test_split'\u001b[0m: \u001b[3;35mNone\u001b[0m\n",
       "                \u001b[1m}\u001b[0m,\n",
       "                \u001b[32m'task_1'\u001b[0m: \u001b[1m{\u001b[0m\n",
       "                    \u001b[32m'name'\u001b[0m: \u001b[32m'PNAS_family_100_512_minus_Extant_Leaves_family_10_512'\u001b[0m,\n",
       "                    \u001b[32m'val_split'\u001b[0m: \u001b[1;36m0.2\u001b[0m,\n",
       "                    \u001b[32m'test_split'\u001b[0m: \u001b[3;35mNone\u001b[0m\n",
       "                \u001b[1m}\u001b[0m\n",
       "            \u001b[1m}\u001b[0m\n",
       "        \u001b[1m}\u001b[0m\n",
       "    \u001b[1m}\u001b[0m,\n",
       "    \u001b[32m'feature_extractor_+_except_bn'\u001b[0m: \u001b[1m{\u001b[0m\n",
       "        \u001b[32m'test_acc'\u001b[0m: \u001b[1;36m0.3675265908241272\u001b[0m,\n",
       "        \u001b[32m'val_acc'\u001b[0m: \u001b[1;36m0.6377972364425659\u001b[0m,\n",
       "        \u001b[32m'ckpt_path'\u001b[0m: \u001b[32m'/media/data/jacob/GitHub/lightning-hydra-classifiers/notebooks/bn_unit_\u001b[0m\n",
       "\u001b[32mtest_logs/avg/feature_extractor_+_except_bn-PNAS-19_classes-res_512-bsz_16-resnet50-pretraine\u001b[0m\n",
       "\u001b[32md_True-pool_avg/replicate_1/results/checkpoints/\u001b[0m\u001b[32mepoch\u001b[0m\u001b[32m=\u001b[0m\u001b[32m09\u001b[0m\u001b[32m-\u001b[0m\u001b[32mval_loss\u001b[0m\u001b[32m=\u001b[0m\u001b[32m0\u001b[0m\u001b[32m.910-\u001b[0m\u001b[32mval_acc\u001b[0m\u001b[32m=\u001b[0m\u001b[32m0\u001b[0m\u001b[32m.638.ckpt'\u001b[0m,\n",
       "        \u001b[32m'model_config'\u001b[0m: \u001b[1m{\u001b[0m\n",
       "            \u001b[32m'backbone'\u001b[0m: \u001b[1m{\u001b[0m\u001b[32m'backbone_name'\u001b[0m: \u001b[32m'resnet50'\u001b[0m\u001b[1m}\u001b[0m,\n",
       "            \u001b[32m'backbone_name'\u001b[0m: \u001b[32m'resnet50'\u001b[0m,\n",
       "            \u001b[32m'pretrained'\u001b[0m: \u001b[3;92mTrue\u001b[0m,\n",
       "            \u001b[32m'num_classes'\u001b[0m: \u001b[1;36m19\u001b[0m,\n",
       "            \u001b[32m'pool_type'\u001b[0m: \u001b[32m'avg'\u001b[0m,\n",
       "            \u001b[32m'head_type'\u001b[0m: \u001b[32m'linear'\u001b[0m,\n",
       "            \u001b[32m'hidden_size'\u001b[0m: \u001b[3;35mNone\u001b[0m,\n",
       "            \u001b[32m'dropout_p'\u001b[0m: \u001b[1;36m0.3\u001b[0m,\n",
       "            \u001b[32m'lr'\u001b[0m: \u001b[1;36m0.025118864315095822\u001b[0m,\n",
       "            \u001b[32m'backbone_lr_mult'\u001b[0m: \u001b[1;36m0.1\u001b[0m,\n",
       "            \u001b[32m'finetuning_strategy'\u001b[0m: \u001b[32m'feature_extractor_+_except_bn'\u001b[0m,\n",
       "            \u001b[32m'weight_decay'\u001b[0m: \u001b[1;36m0.01\u001b[0m,\n",
       "            \u001b[32m'seed'\u001b[0m: \u001b[1;36m98\u001b[0m\n",
       "        \u001b[1m}\u001b[0m,\n",
       "        \u001b[32m'data_config'\u001b[0m: \u001b[1m{\u001b[0m\n",
       "            \u001b[32m'_target_'\u001b[0m: \n",
       "\u001b[32m'lightning_hydra_classifiers.experiments.multitask.datamodules.MultiTaskDataModule'\u001b[0m,\n",
       "            \u001b[32m'image_size'\u001b[0m: \u001b[1;36m512\u001b[0m,\n",
       "            \u001b[32m'image_buffer_size'\u001b[0m: \u001b[1;36m32\u001b[0m,\n",
       "            \u001b[32m'batch_size'\u001b[0m: \u001b[1;36m16\u001b[0m,\n",
       "            \u001b[32m'num_workers'\u001b[0m: \u001b[1;36m4\u001b[0m,\n",
       "            \u001b[32m'pin_memory'\u001b[0m: \u001b[3;92mTrue\u001b[0m,\n",
       "            \u001b[32m'dataset_name'\u001b[0m: \u001b[32m'Extant-PNAS_to_PNAS'\u001b[0m,\n",
       "            \u001b[32m'experiment'\u001b[0m: \u001b[1m{\u001b[0m\n",
       "                \u001b[32m'source_root_dir'\u001b[0m: \u001b[32m'/media/data_cifs/projects/prj_fossils/users/jacob/experim\u001b[0m\n",
       "\u001b[32ments/July2021-Nov2021/csv_datasets/leavesdb-v1_0'\u001b[0m,\n",
       "                \u001b[32m'experiment_root_dir'\u001b[0m: \u001b[32m'/media/data_cifs/projects/prj_fossils/users/jacob/exp\u001b[0m\n",
       "\u001b[32meriments/July2021-Nov2021/csv_datasets/experimental_datasets'\u001b[0m,\n",
       "                \u001b[32m'experiment_name'\u001b[0m: \u001b[32m'Extant-to-PNAS-512-transfer_benchmark'\u001b[0m,\n",
       "                \u001b[32m'seed'\u001b[0m: \u001b[1;36m96857\u001b[0m,\n",
       "                \u001b[32m'task_0'\u001b[0m: \u001b[1m{\u001b[0m\n",
       "                    \u001b[32m'name'\u001b[0m: \u001b[32m'Extant_Leaves_family_10_512_minus_PNAS_family_100_512'\u001b[0m,\n",
       "                    \u001b[32m'val_split'\u001b[0m: \u001b[1;36m0.2\u001b[0m,\n",
       "                    \u001b[32m'test_split'\u001b[0m: \u001b[3;35mNone\u001b[0m\n",
       "                \u001b[1m}\u001b[0m,\n",
       "                \u001b[32m'task_1'\u001b[0m: \u001b[1m{\u001b[0m\n",
       "                    \u001b[32m'name'\u001b[0m: \u001b[32m'PNAS_family_100_512_minus_Extant_Leaves_family_10_512'\u001b[0m,\n",
       "                    \u001b[32m'val_split'\u001b[0m: \u001b[1;36m0.2\u001b[0m,\n",
       "                    \u001b[32m'test_split'\u001b[0m: \u001b[3;35mNone\u001b[0m\n",
       "                \u001b[1m}\u001b[0m\n",
       "            \u001b[1m}\u001b[0m\n",
       "        \u001b[1m}\u001b[0m\n",
       "    \u001b[1m}\u001b[0m\n",
       "\u001b[1m}\u001b[0m\n"
      ]
     },
     "metadata": {},
     "output_type": "display_data"
    },
    {
     "name": "stdout",
     "output_type": "stream",
     "text": [
      "CPU times: user 35min 40s, sys: 7min 30s, total: 43min 10s\n",
      "Wall time: 50min 13s\n"
     ]
    },
    {
     "data": {
      "image/png": "[encoded data removed]",
      "text/plain": [
       "<Figure size 432x288 with 1 Axes>"
      ]
     },
     "metadata": {},
     "output_type": "display_data"
    },
    {
     "data": {
      "text/plain": [
       "<Figure size 792x720 with 0 Axes>"
      ]
     },
     "metadata": {},
     "output_type": "display_data"
    },
    {
     "data": {
      "text/plain": [
       "<Figure size 1296x1152 with 0 Axes>"
      ]
     },
     "metadata": {},
     "output_type": "display_data"
    },
    {
     "data": {
      "text/plain": [
       "<Figure size 792x720 with 0 Axes>"
      ]
     },
     "metadata": {},
     "output_type": "display_data"
    },
    {
     "data": {
      "text/plain": [
       "<Figure size 1296x1152 with 0 Axes>"
      ]
     },
     "metadata": {},
     "output_type": "display_data"
    },
    {
     "data": {
      "text/plain": [
       "<Figure size 792x720 with 0 Axes>"
      ]
     },
     "metadata": {},
     "output_type": "display_data"
    },
    {
     "data": {
      "text/plain": [
       "<Figure size 1296x1152 with 0 Axes>"
      ]
     },
     "metadata": {},
     "output_type": "display_data"
    },
    {
     "data": {
      "text/plain": [
       "<Figure size 792x720 with 0 Axes>"
      ]
     },
     "metadata": {},
     "output_type": "display_data"
    },
    {
     "data": {
      "text/plain": [
       "<Figure size 1296x1152 with 0 Axes>"
      ]
     },
     "metadata": {},
     "output_type": "display_data"
    },
    {
     "data": {
      "text/plain": [
       "<Figure size 792x720 with 0 Axes>"
      ]
     },
     "metadata": {},
     "output_type": "display_data"
    },
    {
     "data": {
      "text/plain": [
       "<Figure size 1296x1152 with 0 Axes>"
      ]
     },
     "metadata": {},
     "output_type": "display_data"
    },
    {
     "data": {
      "text/plain": [
       "<Figure size 792x720 with 0 Axes>"
      ]
     },
     "metadata": {},
     "output_type": "display_data"
    },
    {
     "data": {
      "text/plain": [
       "<Figure size 1296x1152 with 0 Axes>"
      ]
     },
     "metadata": {},
     "output_type": "display_data"
    },
    {
     "data": {
      "text/plain": [
       "<Figure size 792x720 with 0 Axes>"
      ]
     },
     "metadata": {},
     "output_type": "display_data"
    },
    {
     "data": {
      "text/plain": [
       "<Figure size 1296x1152 with 0 Axes>"
      ]
     },
     "metadata": {},
     "output_type": "display_data"
    },
    {
     "data": {
      "text/plain": [
       "<Figure size 792x720 with 0 Axes>"
      ]
     },
     "metadata": {},
     "output_type": "display_data"
    },
    {
     "data": {
      "text/plain": [
       "<Figure size 1296x1152 with 0 Axes>"
      ]
     },
     "metadata": {},
     "output_type": "display_data"
    },
    {
     "data": {
      "text/plain": [
       "<Figure size 792x720 with 0 Axes>"
      ]
     },
     "metadata": {},
     "output_type": "display_data"
    },
    {
     "data": {
      "text/plain": [
       "<Figure size 1296x1152 with 0 Axes>"
      ]
     },
     "metadata": {},
     "output_type": "display_data"
    },
    {
     "data": {
      "text/plain": [
       "<Figure size 792x720 with 0 Axes>"
      ]
     },
     "metadata": {},
     "output_type": "display_data"
    },
    {
     "data": {
      "text/plain": [
       "<Figure size 1296x1152 with 0 Axes>"
      ]
     },
     "metadata": {},
     "output_type": "display_data"
    },
    {
     "data": {
      "image/png": "[encoded data removed]",
      "text/plain": [
       "<Figure size 432x288 with 1 Axes>"
      ]
     },
     "metadata": {},
     "output_type": "display_data"
    },
    {
     "data": {
      "text/plain": [
       "<Figure size 792x720 with 0 Axes>"
      ]
     },
     "metadata": {},
     "output_type": "display_data"
    },
    {
     "data": {
      "text/plain": [
       "<Figure size 1296x1152 with 0 Axes>"
      ]
     },
     "metadata": {},
     "output_type": "display_data"
    },
    {
     "data": {
      "text/plain": [
       "<Figure size 792x720 with 0 Axes>"
      ]
     },
     "metadata": {},
     "output_type": "display_data"
    },
    {
     "data": {
      "text/plain": [
       "<Figure size 1296x1152 with 0 Axes>"
      ]
     },
     "metadata": {},
     "output_type": "display_data"
    },
    {
     "data": {
      "text/plain": [
       "<Figure size 792x720 with 0 Axes>"
      ]
     },
     "metadata": {},
     "output_type": "display_data"
    },
    {
     "data": {
      "text/plain": [
       "<Figure size 1296x1152 with 0 Axes>"
      ]
     },
     "metadata": {},
     "output_type": "display_data"
    },
    {
     "data": {
      "text/plain": [
       "<Figure size 792x720 with 0 Axes>"
      ]
     },
     "metadata": {},
     "output_type": "display_data"
    },
    {
     "data": {
      "text/plain": [
       "<Figure size 1296x1152 with 0 Axes>"
      ]
     },
     "metadata": {},
     "output_type": "display_data"
    },
    {
     "data": {
      "text/plain": [
       "<Figure size 792x720 with 0 Axes>"
      ]
     },
     "metadata": {},
     "output_type": "display_data"
    },
    {
     "data": {
      "text/plain": [
       "<Figure size 1296x1152 with 0 Axes>"
      ]
     },
     "metadata": {},
     "output_type": "display_data"
    },
    {
     "data": {
      "text/plain": [
       "<Figure size 792x720 with 0 Axes>"
      ]
     },
     "metadata": {},
     "output_type": "display_data"
    },
    {
     "data": {
      "text/plain": [
       "<Figure size 1296x1152 with 0 Axes>"
      ]
     },
     "metadata": {},
     "output_type": "display_data"
    },
    {
     "data": {
      "text/plain": [
       "<Figure size 792x720 with 0 Axes>"
      ]
     },
     "metadata": {},
     "output_type": "display_data"
    },
    {
     "data": {
      "text/plain": [
       "<Figure size 1296x1152 with 0 Axes>"
      ]
     },
     "metadata": {},
     "output_type": "display_data"
    },
    {
     "data": {
      "text/plain": [
       "<Figure size 792x720 with 0 Axes>"
      ]
     },
     "metadata": {},
     "output_type": "display_data"
    },
    {
     "data": {
      "text/plain": [
       "<Figure size 1296x1152 with 0 Axes>"
      ]
     },
     "metadata": {},
     "output_type": "display_data"
    },
    {
     "data": {
      "text/plain": [
       "<Figure size 792x720 with 0 Axes>"
      ]
     },
     "metadata": {},
     "output_type": "display_data"
    },
    {
     "data": {
      "text/plain": [
       "<Figure size 1296x1152 with 0 Axes>"
      ]
     },
     "metadata": {},
     "output_type": "display_data"
    },
    {
     "data": {
      "text/plain": [
       "<Figure size 792x720 with 0 Axes>"
      ]
     },
     "metadata": {},
     "output_type": "display_data"
    },
    {
     "data": {
      "text/plain": [
       "<Figure size 1296x1152 with 0 Axes>"
      ]
     },
     "metadata": {},
     "output_type": "display_data"
    },
    {
     "data": {
      "image/png": "[encoded data removed]",
      "text/plain": [
       "<Figure size 432x288 with 1 Axes>"
      ]
     },
     "metadata": {},
     "output_type": "display_data"
    },
    {
     "data": {
      "text/plain": [
       "<Figure size 792x720 with 0 Axes>"
      ]
     },
     "metadata": {},
     "output_type": "display_data"
    },
    {
     "data": {
      "text/plain": [
       "<Figure size 1296x1152 with 0 Axes>"
      ]
     },
     "metadata": {},
     "output_type": "display_data"
    },
    {
     "data": {
      "text/plain": [
       "<Figure size 792x720 with 0 Axes>"
      ]
     },
     "metadata": {},
     "output_type": "display_data"
    },
    {
     "data": {
      "text/plain": [
       "<Figure size 1296x1152 with 0 Axes>"
      ]
     },
     "metadata": {},
     "output_type": "display_data"
    },
    {
     "data": {
      "text/plain": [
       "<Figure size 792x720 with 0 Axes>"
      ]
     },
     "metadata": {},
     "output_type": "display_data"
    },
    {
     "data": {
      "text/plain": [
       "<Figure size 1296x1152 with 0 Axes>"
      ]
     },
     "metadata": {},
     "output_type": "display_data"
    },
    {
     "data": {
      "text/plain": [
       "<Figure size 792x720 with 0 Axes>"
      ]
     },
     "metadata": {},
     "output_type": "display_data"
    },
    {
     "data": {
      "text/plain": [
       "<Figure size 1296x1152 with 0 Axes>"
      ]
     },
     "metadata": {},
     "output_type": "display_data"
    },
    {
     "data": {
      "text/plain": [
       "<Figure size 792x720 with 0 Axes>"
      ]
     },
     "metadata": {},
     "output_type": "display_data"
    },
    {
     "data": {
      "text/plain": [
       "<Figure size 1296x1152 with 0 Axes>"
      ]
     },
     "metadata": {},
     "output_type": "display_data"
    },
    {
     "data": {
      "text/plain": [
       "<Figure size 792x720 with 0 Axes>"
      ]
     },
     "metadata": {},
     "output_type": "display_data"
    },
    {
     "data": {
      "text/plain": [
       "<Figure size 1296x1152 with 0 Axes>"
      ]
     },
     "metadata": {},
     "output_type": "display_data"
    },
    {
     "data": {
      "text/plain": [
       "<Figure size 792x720 with 0 Axes>"
      ]
     },
     "metadata": {},
     "output_type": "display_data"
    },
    {
     "data": {
      "text/plain": [
       "<Figure size 1296x1152 with 0 Axes>"
      ]
     },
     "metadata": {},
     "output_type": "display_data"
    },
    {
     "data": {
      "text/plain": [
       "<Figure size 792x720 with 0 Axes>"
      ]
     },
     "metadata": {},
     "output_type": "display_data"
    },
    {
     "data": {
      "text/plain": [
       "<Figure size 1296x1152 with 0 Axes>"
      ]
     },
     "metadata": {},
     "output_type": "display_data"
    },
    {
     "data": {
      "text/plain": [
       "<Figure size 792x720 with 0 Axes>"
      ]
     },
     "metadata": {},
     "output_type": "display_data"
    },
    {
     "data": {
      "text/plain": [
       "<Figure size 1296x1152 with 0 Axes>"
      ]
     },
     "metadata": {},
     "output_type": "display_data"
    },
    {
     "data": {
      "text/plain": [
       "<Figure size 792x720 with 0 Axes>"
      ]
     },
     "metadata": {},
     "output_type": "display_data"
    },
    {
     "data": {
      "text/plain": [
       "<Figure size 1296x1152 with 0 Axes>"
      ]
     },
     "metadata": {},
     "output_type": "display_data"
    }
   ],
   "source": [
    "%%time\n",
    "\n",
    "\n",
    "valid_strategies = (\"feature_extractor\",\n",
    "                    \"feature_extractor_+_bn.eval()\",\n",
    "                    \"feature_extractor_+_except_bn\")\n",
    "pool_types = (\"avg\", \"avgdrop\", \"avgmax\", \"max\", \"avgmaxdrop\")\n",
    "\n",
    "# finetuning_strategy=\"feature_extractor\"\n",
    "# finetuning_strategy=\"feature_extractor_+_bn.eval()\"\n",
    "\n",
    "# pool_type='avgdrop'\n",
    "# pool_type='avgmaxdrop'\n",
    "pool_type=\"avg\"\n",
    "dropout_p = 0.3\n",
    "\n",
    "\n",
    "\n",
    "\n",
    "\n",
    "all_results = {}\n",
    "\n",
    "for strategy in valid_strategies:\n",
    "\n",
    "    print(f\"BEGINNING STRATEGY: {strategy}\")\n",
    "    overrides = ['model/backbone=resnet50',\n",
    "                 \"data=extant_to_pnas\",\n",
    "                 \"trainer.max_epochs=10\",\n",
    "                 \"trainer.auto_lr_find=true\",\n",
    "                 \"trainer.precision=16\",\n",
    "                 \"trainer.gpus=[7]\",\n",
    "                 \"trainer.resume_from_checkpoint=null\",\n",
    "                 \"logger.wandb.project=bn_global_pool_trials\"]\n",
    "    if strategy in [\"feature_extractor_+_except_bn\"]:\n",
    "        overrides.append(\"data.batch_size=16\")\n",
    "    else:\n",
    "        overrides.append(\"data.batch_size=32\")\n",
    "\n",
    "\n",
    "    config, datamodule = get_config_and_load_data(overrides = overrides,\n",
    "                                                  task_id=1,\n",
    "                                                  pool_type=pool_type,\n",
    "                                                  finetuning_strategy=strategy, #\"feature_extractor_+_bn.eval()\",\n",
    "                                                  lr=2e-03,\n",
    "                                                  dropout_p=dropout_p)#,\n",
    "#                                                   max_epochs=config.trainer.max_epochs)\n",
    "    ckpt_paths = os.listdir(os.path.join(config.checkpoint_dir))\n",
    "    if len(ckpt_paths) and os.path.exists(ckpt_paths[-1]):\n",
    "        print(f\"Found {ckpt_paths[-1]}\")\n",
    "        config.resume_from_checkpoint = ckpt_paths[-1]\n",
    "\n",
    "\n",
    "    model, results = test_model_freeze_strategy(config, datamodule)\n",
    "    model.cpu()\n",
    "    del model\n",
    "\n",
    "    results['model_config'] = OmegaConf.to_container(config.model, resolve=True)\n",
    "    results['data_config'] = OmegaConf.to_container(config.data, resolve=True)\n",
    "    \n",
    "    ETL.config2yaml(results, os.path.join(config.results_dir, \"results.yaml\"))\n",
    "    print(f\"[SAVED TRIAL RESULTS] Location: {os.path.join(config.results_dir, 'results.yaml')}\")\n",
    "    pp(results)\n",
    "    \n",
    "    all_results[strategy] = results\n",
    "\n",
    "print(f\"ALL FINISHED!!! RESULTS:\")\n",
    "pp(all_results)\n",
    "\n",
    "\n",
    "ETL.config2yaml(all_results, os.path.join(config.root_dir, \"results.yaml\"))"
   ]
  },
  {
   "cell_type": "markdown",
   "metadata": {
    "heading_collapsed": "true",
    "tags": []
   },
   "source": [
    "### plot strategy results"
   ]
  },
  {
   "cell_type": "code",
   "execution_count": 11,
   "metadata": {},
   "outputs": [
    {
     "data": {
      "text/html": [
       "<div>\n",
       "<style scoped>\n",
       "    .dataframe tbody tr th:only-of-type {\n",
       "        vertical-align: middle;\n",
       "    }\n",
       "\n",
       "    .dataframe tbody tr th {\n",
       "        vertical-align: top;\n",
       "    }\n",
       "\n",
       "    .dataframe thead th {\n",
       "        text-align: right;\n",
       "    }\n",
       "</style>\n",
       "<table border=\"1\" class=\"dataframe\">\n",
       "  <thead>\n",
       "    <tr style=\"text-align: right;\">\n",
       "      <th></th>\n",
       "      <th>strategy</th>\n",
       "      <th>val_acc</th>\n",
       "      <th>test_acc</th>\n",
       "    </tr>\n",
       "  </thead>\n",
       "  <tbody>\n",
       "    <tr>\n",
       "      <th>0</th>\n",
       "      <td>feature_extractor</td>\n",
       "      <td>0.490783</td>\n",
       "      <td>0.261736</td>\n",
       "    </tr>\n",
       "    <tr>\n",
       "      <th>1</th>\n",
       "      <td>feature_extractor_+_bn.eval()</td>\n",
       "      <td>0.494729</td>\n",
       "      <td>0.266266</td>\n",
       "    </tr>\n",
       "    <tr>\n",
       "      <th>2</th>\n",
       "      <td>feature_extractor_+_except_bn</td>\n",
       "      <td>0.637797</td>\n",
       "      <td>0.367527</td>\n",
       "    </tr>\n",
       "  </tbody>\n",
       "</table>\n",
       "</div>"
      ],
      "text/plain": [
       "                        strategy   val_acc  test_acc\n",
       "0              feature_extractor  0.490783  0.261736\n",
       "1  feature_extractor_+_bn.eval()  0.494729  0.266266\n",
       "2  feature_extractor_+_except_bn  0.637797  0.367527"
      ]
     },
     "execution_count": 11,
     "metadata": {},
     "output_type": "execute_result"
    },
    {
     "data": {
      "text/plain": [
       "<Figure size 720x720 with 0 Axes>"
      ]
     },
     "execution_count": 11,
     "metadata": {},
     "output_type": "execute_result"
    },
    {
     "data": {
      "text/plain": [
       "<BarContainer object of 3 artists>"
      ]
     },
     "execution_count": 11,
     "metadata": {},
     "output_type": "execute_result"
    },
    {
     "data": {
      "text/plain": [
       "<BarContainer object of 3 artists>"
      ]
     },
     "execution_count": 11,
     "metadata": {},
     "output_type": "execute_result"
    },
    {
     "data": {
      "text/plain": [
       "Text(0.5, 0, 'finetuning strategy')"
      ]
     },
     "execution_count": 11,
     "metadata": {},
     "output_type": "execute_result"
    },
    {
     "data": {
      "text/plain": [
       "Text(0, 0.5, 'Macro avg acc')"
      ]
     },
     "execution_count": 11,
     "metadata": {},
     "output_type": "execute_result"
    },
    {
     "data": {
      "text/plain": [
       "([<matplotlib.axis.XTick at 0x7fa8f09c0d00>,\n",
       "  <matplotlib.axis.XTick at 0x7fa8f09c0040>,\n",
       "  <matplotlib.axis.XTick at 0x7fa8e55e9eb0>],\n",
       " [Text(0, 0, 'feature_extractor'),\n",
       "  Text(0, 0, 'feature_extractor_+_bn.eval()'),\n",
       "  Text(0, 0, 'feature_extractor_+_except_bn')])"
      ]
     },
     "execution_count": 11,
     "metadata": {},
     "output_type": "execute_result"
    },
    {
     "data": {
      "text/plain": [
       "Text(0.5, 0.98, 'resnet50 with global_pool=avg.\\n Classifier head trained on PNAS for <=10 epochs')"
      ]
     },
     "execution_count": 11,
     "metadata": {},
     "output_type": "execute_result"
    },
    {
     "name": "stdout",
     "output_type": "stream",
     "text": [
      "Final results saved to /media/data/jacob/GitHub/lightning-hydra-classifiers/notebooks/bn_unit_test_logs/avg/final_results_plot.png\n"
     ]
    },
    {
     "data": {
      "image/png": "[encoded data removed]",
      "text/plain": [
       "<Figure size 720x720 with 1 Axes>"
      ]
     },
     "metadata": {},
     "output_type": "display_data"
    }
   ],
   "source": [
    "strategies_x = []\n",
    "val_accs = []\n",
    "test_accs = []\n",
    "for k,v in all_results.items():\n",
    "    strategies_x.append(k)\n",
    "    try:\n",
    "        val_accs.append(v['val_acc'])\n",
    "        test_accs.append(v['test_acc'])\n",
    "    except:\n",
    "        val_accs.append(v['val'])\n",
    "        test_accs.append(v['test'])\n",
    "        \n",
    "        \n",
    "        \n",
    "import matplotlib.pyplot as plt\n",
    "import seaborn as sns\n",
    "\n",
    "\n",
    "results_df = pd.DataFrame({\"strategy\":strategies_x,\n",
    "                           \"val_acc\":val_accs,\n",
    "                           \"test_acc\":test_accs})\n",
    "results_df\n",
    "\n",
    "barWidth = 0.25\n",
    "\n",
    "r1 = np.arange(len(strategies_x))\n",
    "r2 = [x + barWidth for x in r1]\n",
    "r3 = [x + barWidth for x in r2]\n",
    "\n",
    "plt.figure(figsize=(10,10))\n",
    "\n",
    "plt.bar(r1, val_accs, color='#7f6d5f', width=barWidth, edgecolor='white', label='val')\n",
    "plt.bar(r2, test_accs, color='#557f2d', width=barWidth, edgecolor='white', label='test')\n",
    "\n",
    " \n",
    "# Add xticks on the middle of the group bars\n",
    "plt.xlabel('finetuning strategy', fontweight='bold')\n",
    "plt.ylabel(\"Macro avg acc\")\n",
    "plt.xticks([r + barWidth for r in range(len(strategies_x))], strategies_x, rotation=10)\n",
    "plt.suptitle(f\"{config.model.backbone_name} with global_pool={config.model.pool_type}.\" + \"\\n Classifier head trained on PNAS for <=10 epochs\")\n",
    "plt.tight_layout(rect=[0.0, 0.05, 1.0, 0.95])\n",
    "plt.savefig(os.path.join(config.root_dir, \"final_results_plot.png\"))\n",
    "print(f\"Final results saved to\", os.path.join(config.root_dir, \"final_results_plot.png\"))\n",
    "# sns.barplot(data=results_df, x='strategy', y='val_acc')"
   ]
  },
  {
   "cell_type": "code",
   "execution_count": null,
   "metadata": {},
   "outputs": [],
   "source": []
  },
  {
   "cell_type": "code",
   "execution_count": null,
   "metadata": {},
   "outputs": [],
   "source": [
    "Next: Add specific tests for different freeze strategies"
   ]
  },
  {
   "cell_type": "markdown",
   "metadata": {
    "heading_collapsed": "true",
    "tags": []
   },
   "source": [
    "## Training script development\n",
    "(10-17-21)"
   ]
  },
  {
   "cell_type": "code",
   "execution_count": null,
   "metadata": {},
   "outputs": [],
   "source": [
    "# source: https://uvadlc-notebooks.readthedocs.io/en/latest/tutorial_notebooks/tutorial5/Inception_ResNet_DenseNet.html\n",
    "\n",
    "def train_model(model_name, save_name=None, **kwargs):\n",
    "    \"\"\"\n",
    "    Inputs:\n",
    "        model_name - Name of the model you want to run. Is used to look up the class in \"model_dict\"\n",
    "        save_name (optional) - If specified, this name will be used for creating the checkpoint and logging directory.\n",
    "    \"\"\"\n",
    "    if save_name is None:\n",
    "        save_name = model_name\n",
    "\n",
    "    # Create a PyTorch Lightning trainer with the generation callback\n",
    "    trainer = pl.Trainer(default_root_dir=os.path.join(CHECKPOINT_PATH, save_name),                          # Where to save models\n",
    "                         gpus=1 if str(device)==\"cuda:0\" else 0,                                             # We run on a single GPU (if possible)\n",
    "                         max_epochs=180,                                                                     # How many epochs to train for if no patience is set\n",
    "                         callbacks=[ModelCheckpoint(save_weights_only=True, mode=\"max\", monitor=\"val_acc\"),  # Save the best checkpoint based on the maximum val_acc recorded. Saves only weights and not optimizer\n",
    "                                    LearningRateMonitor(\"epoch\")],                                           # Log learning rate every epoch\n",
    "                         progress_bar_refresh_rate=1)                                                        # In case your notebook crashes due to the progress bar, consider increasing the refresh rate\n",
    "    trainer.logger._log_graph = True         # If True, we plot the computation graph in tensorboard\n",
    "    trainer.logger._default_hp_metric = None # Optional logging argument that we don't need\n",
    "\n",
    "    # Check whether pretrained model exists. If yes, load it and skip training\n",
    "    pretrained_filename = os.path.join(CHECKPOINT_PATH, save_name + \".ckpt\")\n",
    "    if os.path.isfile(pretrained_filename):\n",
    "        print(f\"Found pretrained model at {pretrained_filename}, loading...\")\n",
    "        model = CIFARModule.load_from_checkpoint(pretrained_filename) # Automatically loads the model with the saved hyperparameters\n",
    "    else:\n",
    "        pl.seed_everything(42) # To be reproducable\n",
    "        model = CIFARModule(model_name=model_name, **kwargs)\n",
    "        trainer.fit(model, train_loader, val_loader)\n",
    "        model = CIFARModule.load_from_checkpoint(trainer.checkpoint_callback.best_model_path) # Load best checkpoint after training\n",
    "\n",
    "    # Test best model on validation and test set\n",
    "    val_result = trainer.test(model, test_dataloaders=val_loader, verbose=False)\n",
    "    test_result = trainer.test(model, test_dataloaders=test_loader, verbose=False)\n",
    "    result = {\"test\": test_result[0][\"test_acc\"], \"val\": val_result[0][\"test_acc\"]}\n",
    "\n",
    "    return model, result"
   ]
  },
  {
   "cell_type": "code",
   "execution_count": null,
   "metadata": {},
   "outputs": [],
   "source": []
  },
  {
   "cell_type": "code",
   "execution_count": null,
   "metadata": {},
   "outputs": [],
   "source": []
  },
  {
   "cell_type": "code",
   "execution_count": 8,
   "metadata": {
    "tags": []
   },
   "outputs": [],
   "source": [
    "# class LightningClassifier(BaseLightningModule):\n",
    "#     def __init__(self,\n",
    "#                  backbone_name='gluon_seresnext50_32x4d',\n",
    "#                  pretrained: Union[bool, str]=True,\n",
    "#                  num_classes: int=1000,\n",
    "#                  pool_size: int=1,\n",
    "#                  pool_type: str='avg',\n",
    "#                  head_type: str='linear',\n",
    "#                  hidden_size: Optional[int]=512,\n",
    "#                  lr: float=2e-03,\n",
    "#                  weight_decay: float=0.01,\n",
    "#                  seed: int=None):\n",
    "#         super().__init__(seed=seed)\n",
    "#         self.save_hyperparameters()\n",
    "        \n",
    "#         self.model = build_model(backbone_name=backbone_name,\n",
    "#                                       pretrained=pretrained,\n",
    "#                                       num_classes=num_classes,\n",
    "#                                       pool_size=pool_size,\n",
    "#                                       pool_type=pool_type,\n",
    "#                                       head_type=head_type,\n",
    "#                                       hidden_size=hidden_size)\n",
    "    \n",
    "#         self.criterion = nn.CrossEntropyLoss()\n",
    "#         self.metrics = self.init_metrics(stage='all')\n",
    "    \n",
    "#     def forward(self,x):\n",
    "#         return self.model(x)\n",
    "    \n",
    "    \n",
    "#     def get_lr(self, group: str=None):\n",
    "#         if group is None:\n",
    "#             return self.hparams.lr\n",
    "#         if group == \"backbone\":\n",
    "#             return self.hparams.lr * 0.1\n",
    "#         if group == \"head\":\n",
    "#             return self.hparams.lr\n",
    "    \n",
    "#     def configure_optimizers(self):\n",
    "#         print(f\"self.hparams={self.hparams}\")\n",
    "#         self.optimizer = torch.optim.AdamW([{\"params\":self.model.backbone.parameters(), \"lr\":self.get_lr(\"backbone\"), \"weight_decay\": self.hparams.weight_decay},\n",
    "#                                             {\"params\":self.model.head.parameters(), \"lr\":self.get_lr(\"head\"), \"weight_decay\": self.hparams.weight_decay}])\n",
    "# #         self.scheduler = torch.optim.lr_scheduler.CosineAnnealingLR(self.optimizer, T_max=self.config.t_max, eta_min=self.config.min_lr)\n",
    "\n",
    "#         return {'optimizer': self.optimizer}"
   ]
  },
  {
   "cell_type": "code",
   "execution_count": 9,
   "metadata": {},
   "outputs": [],
   "source": [
    "# class BnFreeze(Callback):\n",
    "# source: https://github.com/fastai/fastai/blob/master/fastai/callback/training.py#L55\n",
    "#     run_after=TrainEvalCallback\n",
    "#     \"Freeze moving average statistics in all non-trainable batchnorm layers.\"\n",
    "#     def before_train(self):\n",
    "#         set_bn_eval(self.model)\n",
    "        \n",
    "        \n",
    "        "
   ]
  },
  {
   "cell_type": "markdown",
   "metadata": {
    "heading_collapsed": "true",
    "tags": []
   },
   "source": [
    "# Experiments\n",
    "\n",
    "For each architecture, 3 different experimental training methods will be evaluated\n",
    "\n",
    "Training methods:  \n",
    "1. Feature Extractor  \n",
    "2. Feature Extractor + set batchnorm to eval()  \n",
    "3. Freeze backbone except for all batchnorm layers  \n",
    "\n",
    "\n",
    "\n",
    "Baseline:  \n",
    "   * Architecture 1. simple pretrained backbone -> `avg_pool` -> linear_classifier  \n",
    "    \n",
    "Next Comparisons:  \n",
    "* Architecture 2. simple pretrained backbone -> `max_pool` -> linear_classifier\n",
    "* Architecture 3. simple pretrained backbone -> `avgmax_pool` -> linear_classifier  \n",
    "\n",
    "Later:  \n",
    "* Architecture 4. simple pretrained backbone -> `avgdrop_pool` -> linear_classifier  \n",
    "* Architecture 5. simple pretrained backbone -> `maxdrop_pool` -> linear_classifier  \n",
    "* Architecture 6. simple pretrained backbone -> `avgmaxdrop_pool` -> linear_classifier  "
   ]
  },
  {
   "cell_type": "code",
   "execution_count": 10,
   "metadata": {
    "tags": []
   },
   "outputs": [],
   "source": [
    "# model = build_model(backbone_name='gluon_seresnext50_32x4d',\n",
    "#                     pretrained=True,\n",
    "#                     num_classes=19,\n",
    "#                     pool_size=1,\n",
    "#                     pool_type='avgmax',\n",
    "#                     head_type='linear',\n",
    "#                     hidden_size=None)\n",
    "# from torchinfo import summary\n",
    "\n",
    "\n",
    "#left off here 11 pm\n",
    "\n",
    "# model = LightningClassifier(backbone_name='gluon_seresnext50_32x4d',\n",
    "#                             pretrained=True,\n",
    "#                             num_classes=19,\n",
    "#                             pool_size=1,\n",
    "#                             pool_type='avgmax',\n",
    "#                             head_type='linear',\n",
    "#                             hidden_size=None,\n",
    "#                             lr=2e-03,\n",
    "#                             weight_decay=0.01,\n",
    "#                             seed=98)\n",
    "\n",
    "# pp(list(model.get_batchnorm_modules()))\n",
    "# # pp(list(model.get_conv_modules()))\n",
    "# pp(list(model.get_linear_modules()))\n",
    "# # pp(list(model.get_conv_modules()))\n",
    "# pp(list(model.get_named_modules()))\n",
    "\n",
    "# model.freeze_backbone(freeze_bn=False)\n",
    "# model.freeze_backbone(freeze_bn=True)\n",
    "# summary(model.model)\n",
    "\n",
    "# print(f\"trainable: {len(list(model.get_trainable_parameters()))}\")\n",
    "# print(f\"non-trainable: {len(list(model.get_nontrainable_parameters()))}\")\n",
    "\n",
    "# bn = {n:p.requires_grad for n, p in model.get_named_parameters(\"bn\")}"
   ]
  },
  {
   "cell_type": "markdown",
   "metadata": {},
   "source": [
    "### Mini test: Wrap all model hooks & display + verify for each parameter group the proper status of module.training & weight_tensors.requires_grad"
   ]
  },
  {
   "cell_type": "code",
   "execution_count": null,
   "metadata": {},
   "outputs": [],
   "source": []
  },
  {
   "cell_type": "markdown",
   "metadata": {},
   "source": [
    "### 1. feature extractor"
   ]
  },
  {
   "cell_type": "code",
   "execution_count": 70,
   "metadata": {},
   "outputs": [
    {
     "name": "stdout",
     "output_type": "stream",
     "text": [
      "trainable batchnorm modules:49\n",
      "nontrainable batchnorm modules:0\n",
      "batchnorm params with requires_grad=True: :0\n",
      "batchnorm params with requires_grad=False:98\n",
      "Total Trainable Params: 77,843\n",
      "Total non-Trainable Params: 25,510,896\n"
     ]
    }
   ],
   "source": [
    "model.freeze_backbone(freeze_bn=True) #False)\n",
    "# model.set_bn_eval()\n",
    "# summary(model.model)\n",
    "model.count_trainable_batchnorm_layers()\n",
    "count_parameters(model.model, verbose=False);"
   ]
  },
  {
   "cell_type": "markdown",
   "metadata": {
    "heading_collapsed": "true",
    "tags": []
   },
   "source": [
    "### 2. Feature extractor + BN set to Eval()"
   ]
  },
  {
   "cell_type": "code",
   "execution_count": 71,
   "metadata": {},
   "outputs": [
    {
     "name": "stdout",
     "output_type": "stream",
     "text": [
      "trainable batchnorm modules:0\n",
      "nontrainable batchnorm modules:49\n",
      "batchnorm params with requires_grad=True: :0\n",
      "batchnorm params with requires_grad=False:98\n",
      "Total Trainable Params: 77,843\n",
      "Total non-Trainable Params: 25,510,896\n"
     ]
    }
   ],
   "source": [
    "model.freeze_backbone(freeze_bn=True)\n",
    "model.set_bn_eval(model)\n",
    "# summary(model.model)\n",
    "model.count_trainable_batchnorm_layers()\n",
    "count_parameters(model.model, verbose=False);"
   ]
  },
  {
   "cell_type": "markdown",
   "metadata": {
    "tags": []
   },
   "source": [
    "### 2. Freeze backbone except for BN layers"
   ]
  },
  {
   "cell_type": "code",
   "execution_count": 72,
   "metadata": {},
   "outputs": [
    {
     "name": "stdout",
     "output_type": "stream",
     "text": [
      "trainable batchnorm modules:49\n",
      "nontrainable batchnorm modules:0\n",
      "batchnorm params with requires_grad=True: :98\n",
      "batchnorm params with requires_grad=False:0\n",
      "Total Trainable Params: 138,387\n",
      "Total non-Trainable Params: 25,450,352\n"
     ]
    }
   ],
   "source": [
    "# model.unfreeze(model.model)\n",
    "model.freeze_backbone(freeze_bn=False)\n",
    "\n",
    "model.unfreeze(model.model,\n",
    "               filter_pattern=\"bn\")\n",
    "# summary(model.model)\n",
    "model.count_trainable_batchnorm_layers()\n",
    "count_parameters(model.model, verbose=False);"
   ]
  },
  {
   "cell_type": "markdown",
   "metadata": {
    "tags": []
   },
   "source": [
    "## Load data, model, trainer, callbacks, logger"
   ]
  },
  {
   "cell_type": "code",
   "execution_count": 11,
   "metadata": {},
   "outputs": [],
   "source": [
    "from lightning_hydra_classifiers.scripts.multitask.train import MultiTaskDataModule, LitMultiTaskModule, ImagePredictionLogger, train_task,  CIFAR10DataModule, run_multitask_test, load_data_and_model, load_data, resolve_config, configure_callbacks, configure_loggers, configure_trainer\n",
    "from lightning_hydra_classifiers.data.datasets.common import toPIL\n",
    "from lightning_hydra_classifiers.utils.etl_utils import ETL\n",
    "from omegaconf import OmegaConf\n",
    "\n",
    "\n",
    "# overrides = ['model/backbone=efficientnet_b3',\"data=extant_to_fossil\", \"trainer.max_epochs=2\", \"data.batch_size=16\", \"trainer.precision=16\"]\n",
    "overrides = ['model/backbone=resnet50',\"data=extant_to_pnas\", \"trainer.max_epochs=20\", \"data.batch_size=32\", \"trainer.precision=16\", \"trainer.gpus=[7]\"]\n",
    "config = ETL.load_hydra_config(config_name = \"config\",\n",
    "                              config_path = \"/media/data/jacob/GitHub/lightning-hydra-classifiers/configs\",\n",
    "                              overrides=overrides)\n",
    "\n",
    "task_id = 1\n",
    "pp(config.data)\n",
    "datamodule = load_data(config,\n",
    "                       task_id=task_id)\n",
    "\n",
    "\n",
    "        \n",
    "# model_config = OmegaConf.create(dict(\n",
    "#                                 backbone_name=config.model.backbone.backbone_name, #'gluon_seresnext50_32x4d',\n",
    "#                                 pretrained=True,\n",
    "#                                 num_classes=datamodule.num_classes,\n",
    "#                                 pool_type='avg',\n",
    "#                                 head_type='linear',\n",
    "#                                 hidden_size=None,\n",
    "#                                 lr=2e-03,\n",
    "#                                 weight_decay=0.01,\n",
    "#                                 seed=98))\n",
    "\n",
    "# model_config = OmegaConf.create(dict(\n",
    "#                                 backbone_name=config.model.backbone.backbone_name, #'gluon_seresnext50_32x4d',\n",
    "#                                 pretrained=True,\n",
    "#                                 num_classes=datamodule.num_classes,\n",
    "#                                 pool_type='max',\n",
    "#                                 head_type='linear',\n",
    "#                                 hidden_size=None,\n",
    "#                                 lr=2e-03,\n",
    "#                                 weight_decay=0.01,\n",
    "#                                 seed=98))\n",
    "\n",
    "model_config = OmegaConf.create(dict(\n",
    "                                backbone_name=config.model.backbone.backbone_name, #'gluon_seresnext50_32x4d',\n",
    "                                pretrained=True,\n",
    "                                num_classes=datamodule.num_classes,\n",
    "                                pool_type='avgdrop',\n",
    "                                head_type='linear',\n",
    "                                hidden_size=None,\n",
    "                                lr=2e-03,\n",
    "                                backbone_lr_mult=0.1,\n",
    "                                finetuning_strategy=\"feature_extractor\",\n",
    "                                weight_decay=0.01,\n",
    "                                seed=98))\n",
    "\n",
    "\n",
    "\n",
    "config.model = model_config\n",
    "\n",
    "algorithm_name = \"feature_extractor\"\n",
    "config.experiment_name = f\"{algorithm_name}-PNAS-{datamodule.num_classes}_classes-res_{config.data.image_size}-bsz_{config.data.batch_size}-{config.model.backbone_name}-pretrained_{config.model.pretrained}-pool_{config.model.pool_type}\"\n",
    "\n",
    "\n",
    "experiment_dir = config.experiment_dir\n",
    "results_dir = config.results_dir\n",
    "results_dir\n",
    "\n",
    "model = LightningClassifier(**config.model)\n",
    "model.label_encoder = datamodule.label_encoder\n",
    "\n",
    "\n",
    "group = f'{config.model.backbone_name}__PNAS__experiment_0__feature_extractor'\n",
    "config.logger.wandb.group = group\n",
    "config.callbacks.log_per_class_metrics_to_wandb.class_names = datamodule.classes\n",
    "\n",
    "\n",
    "callbacks = configure_callbacks(config)\n",
    "logger = configure_loggers(config)\n",
    "\n",
    "trainer: pl.Trainer = configure_trainer(config, callbacks=callbacks, logger=logger)"
   ]
  },
  {
   "cell_type": "markdown",
   "metadata": {
    "heading_collapsed": "true",
    "tags": []
   },
   "source": [
    "## Run lr_tune->fit->test"
   ]
  },
  {
   "cell_type": "code",
   "execution_count": 17,
   "metadata": {},
   "outputs": [],
   "source": [
    "from lightning_hydra_classifiers.scripts.pretrain import lr_tuner\n",
    "\n",
    "\n",
    "lr_tuner_results_dir = os.path.join(results_dir, f\"task_{task_id}\", \"lr_tuner\")\n",
    "lr_tune_output = lr_tuner.run_lr_tuner(trainer=trainer,\n",
    "                                       model=model,\n",
    "                                       datamodule=datamodule,\n",
    "                                       config=config,\n",
    "                                       results_dir=lr_tuner_results_dir,\n",
    "                                       group=group)\n",
    "\n",
    "## model.fit\n",
    "\n",
    "hist = trainer.fit(model, datamodule=datamodule)\n",
    "\n",
    "## model.test\n",
    "\n",
    "test_result = trainer.test()"
   ]
  },
  {
   "cell_type": "code",
   "execution_count": null,
   "metadata": {},
   "outputs": [],
   "source": []
  },
  {
   "cell_type": "code",
   "execution_count": null,
   "metadata": {},
   "outputs": [],
   "source": []
  },
  {
   "cell_type": "markdown",
   "metadata": {
    "heading_collapsed": "true",
    "tags": []
   },
   "source": [
    "# Other"
   ]
  },
  {
   "cell_type": "code",
   "execution_count": 17,
   "metadata": {},
   "outputs": [],
   "source": [
    "import os\n",
    "import pandas as pd \n",
    "import numpy as np\n",
    "import logging\n",
    "from sklearn.metrics import classification_report, f1_score"
   ]
  },
  {
   "cell_type": "code",
   "execution_count": 143,
   "metadata": {},
   "outputs": [],
   "source": [
    "classification_report\n",
    "\n",
    "\n",
    "# def predict_step(batch, batch_idx=None):\n",
    "#     out = self.step(batch, batch_idx)\n",
    "#     if hasattr(batch, \"metadata\"):\n",
    "#         if \"path\" in batch.metadata:\n",
    "#             out = [*out, batch.metadata[\"path\"]]\n",
    "#     return out\n",
    "\n",
    "# self=model\n",
    "# model.predict_step = predict_step\n",
    "# test_results = trainer.predict(dataloaders=datamodule.test_dataloader(), return_predictions=True)\n",
    "# results = collect_results(prediction_results)\n",
    "prediction_results = test_results\n",
    "results = collect_results(prediction_results)\n",
    "len(prediction_results[0])\n",
    "# len(results)\n",
    "\n",
    "def tensors2np(t: Union[torch.Tensor, list]) -> np.ndarray:\n",
    "    if isinstance(t, torch.Tensor):\n",
    "        t = t.cpu().numpy()\n",
    "    elif isinstance(t, list):\n",
    "        t = list(map(tensors2np, t))\n",
    "    if isinstance(t, np.ndarray):\n",
    "        return t\n",
    "    else:\n",
    "        raise TypeError(f\"type(t)={type(t)} is invalid for function tensors2np\" + '\\n' + 'tensors2np(t: Union[torch.Tensor, list]) -> np.ndarray:')\n",
    "        \n",
    "rows = []\n",
    "for result in list(prediction_results):\n",
    "    \n",
    "    y_logit.append(result[0])\n",
    "    y_true.append(result[1])\n",
    "    y_pred.append(result[2])\n",
    "    paths.extend(result[3])\n",
    "    \n",
    "y_logit = torch.cat(y_logit).cpu().numpy()\n",
    "y_true = torch.cat(y_true).cpu().numpy()\n",
    "y_pred = torch.cat(y_pred).cpu().numpy()\n",
    "# paths = torch.cat(paths).cpu().numpy()\n",
    "\n",
    "# [(r[0].device, r[0].shape, r[1].shape, r[2].shape) for r in test_results]\n",
    "\n",
    "print(y_logit.shape, y_true.shape, y_pred.shape, len(paths))"
   ]
  },
  {
   "cell_type": "code",
   "execution_count": null,
   "metadata": {},
   "outputs": [],
   "source": [
    "label_encoder = model.label_encoder\n",
    "\n",
    "\n"
   ]
  },
  {
   "cell_type": "code",
   "execution_count": null,
   "metadata": {},
   "outputs": [],
   "source": []
  },
  {
   "cell_type": "code",
   "execution_count": null,
   "metadata": {},
   "outputs": [],
   "source": []
  },
  {
   "cell_type": "code",
   "execution_count": null,
   "metadata": {},
   "outputs": [],
   "source": []
  },
  {
   "cell_type": "code",
   "execution_count": 208,
   "metadata": {},
   "outputs": [],
   "source": [
    "from torch.functional import F\n",
    "\n",
    "\n",
    "\n",
    "# https://www.google.com/url?sa=t&rct=j&q=&esrc=s&source=web&cd=&cad=rja&uact=8&ved=2ahUKEwji_bKG6cPzAhXJT98KHU0eCsg4HhAWegQIAhAB&url=https%3A%2F%2Fclear.ml%2Fdocs%2Flatest%2Fdocs%2Fguides%2Freporting%2Fexplicit_reporting%2F&usg=AOvVaw3tvUYT7fU3QHIwunDpE800\n",
    "labels = model.label_encoder.classes\n",
    "\n",
    "test_predictions_filepath = os.path.join(results_dir, f\"task_{task_id}\", \"test_predictions.csv\")\n",
    "\n",
    "\n",
    "class ImageInterpretation:\n",
    "    \n",
    "    def __init__(self, model, datamodule, trainer, y_col: str='family'):\n",
    "        self.model = model\n",
    "        self.dm = datamodule\n",
    "        self.trainer = trainer\n",
    "        self.y_col = y_col\n",
    "\n",
    "        \n",
    "    @property\n",
    "    def decoder(self):\n",
    "        return self.dm.label_encoder.idx2class\n",
    "        \n",
    "    def decode_label(y: int): #, labels: Union[Dict[int, str], List[str]]=None):\n",
    "        try:\n",
    "            return self.decoder[y]\n",
    "        except:\n",
    "            return y\n",
    "        \n",
    "    def log_image_predictions(self,\n",
    "                              results_path: str=None,\n",
    "                              sort_by_losses: bool=True,\n",
    "                              ascending: bool=True) -> pd.DataFrame:\n",
    "        \"\"\"\n",
    "        Save table of model predictions as csv\n",
    "        \n",
    "        |losses\t|y_true\t|y_pred\t|paths \t|per-class logits|\n",
    "        |---\t|---\t|---\t|---\t| ---\t |---\t |\n",
    "        |   \t|   \t|   \t|   \t|   \t |   \t |\n",
    "        |   \t|   \t|   \t|   \t|   \t |   \t |\n",
    "        \n",
    "        \n",
    "        \"\"\"\n",
    "\n",
    "        pred_results = trainer.predict(dataloaders=datamodule.test_dataloader(), return_predictions=True)\n",
    "\n",
    "        results = collect_results(pred_results)\n",
    "\n",
    "        labels = list(self.decoder.values())\n",
    "        columns = [\"xEnt_loss\", f\"{self.y_col}_true\", f\"{self.y_col}_pred\", \"paths\", *[f\"{l}_logit\" for l in labels]]\n",
    "\n",
    "        y_logits = torch.from_numpy(results[0].astype(\"float32\"))\n",
    "        y_true = torch.from_numpy(results[1])\n",
    "        xEnt_loss = F.cross_entropy(y_logits, y_true, reduction=\"none\")\n",
    "\n",
    "        losses = xEnt_loss\n",
    "        y_true = results[1]\n",
    "        y_pred = results[2]\n",
    "        paths = results[3]\n",
    "        per_class_y_logits = np.hsplit(results[0], results[0].shape[1])\n",
    "\n",
    "        num_results = len(results[0])\n",
    "        rows = []\n",
    "        for i in range(num_results):\n",
    "            rows.append({k:v for k, v in zip(columns,\n",
    "                                             [losses,\n",
    "                                              self.decode_label(y=y_true[i]),\n",
    "                                              self.decode_label(y=y_pred[i]),\n",
    "                                              paths[i],\n",
    "                                              *(y[i].item() for y in per_class_y_logits)]\n",
    "                                            )\n",
    "                        })\n",
    "\n",
    "        data_df = pd.DataFrame.from_records(rows)\n",
    "        \n",
    "        if sort_by_losses:\n",
    "            data_df = data_df.sort_values(\"xEnt_loss\", ascending=ascending)\n",
    "        \n",
    "        ETL.df2csv(data_df, results_spath)\n",
    "        \n",
    "        return data_df\n",
    "\n",
    "        \n",
    "        \n",
    "\n",
    "#         data = {\"xEnt_loss\":xEnt_loss,\n",
    "#                 f\"{self.y_col}_true\":results[1],\n",
    "#                 f\"{self.y_col}_pred\":results[2],\n",
    "#                 \"path\":results[3],\n",
    "#                 \"y_logits\":np.hsplit(results[0], results[0].shape[1])}    \n",
    "    \n",
    "    \n",
    "    \n",
    "#         rows = []\n",
    "#         for i in range(num_results):\n",
    "#             rows.append({k:v for k, v in zip(columns,\n",
    "#                                              [data[\"xEnt_loss\"][i], \n",
    "#                                               self.decode_label(y=data[f\"{self.y_col}_true\"][i]),\n",
    "#                                               self.decode_label(y=data[f\"{self.y_col}_pred\"][i]),\n",
    "#                                               data[\"path\"][i],\n",
    "#                                               *(y[i].item() for y in data[\"y_logits\"])]\n",
    "#                                             )\n",
    "#                         })\n",
    "\n",
    "#         data_df = pd.DataFrame.from_records(rows)\n",
    "#         ETL.df2csv(data_df, test_predictions_filepath)\n",
    "\n"
   ]
  },
  {
   "cell_type": "code",
   "execution_count": 230,
   "metadata": {},
   "outputs": [
    {
     "data": {
      "text/html": [
       "<div>\n",
       "<style scoped>\n",
       "    .dataframe tbody tr th:only-of-type {\n",
       "        vertical-align: middle;\n",
       "    }\n",
       "\n",
       "    .dataframe tbody tr th {\n",
       "        vertical-align: top;\n",
       "    }\n",
       "\n",
       "    .dataframe thead th {\n",
       "        text-align: right;\n",
       "    }\n",
       "</style>\n",
       "<table border=\"1\" class=\"dataframe\">\n",
       "  <thead>\n",
       "    <tr style=\"text-align: right;\">\n",
       "      <th></th>\n",
       "      <th>family_true</th>\n",
       "      <th>family_pred</th>\n",
       "      <th>paths</th>\n",
       "      <th>Anacardiaceae_logit</th>\n",
       "      <th>Annonaceae_logit</th>\n",
       "      <th>Apocynaceae_logit</th>\n",
       "      <th>Betulaceae_logit</th>\n",
       "      <th>Celastraceae_logit</th>\n",
       "      <th>Combretaceae_logit</th>\n",
       "      <th>Ericaceae_logit</th>\n",
       "      <th>Fabaceae_logit</th>\n",
       "      <th>Fagaceae_logit</th>\n",
       "      <th>Lauraceae_logit</th>\n",
       "      <th>Malvaceae_logit</th>\n",
       "      <th>Melastomataceae_logit</th>\n",
       "      <th>Myrtaceae_logit</th>\n",
       "      <th>Passifloraceae_logit</th>\n",
       "      <th>Phyllanthaceae_logit</th>\n",
       "      <th>Rosaceae_logit</th>\n",
       "      <th>Rubiaceae_logit</th>\n",
       "      <th>Salicaceae_logit</th>\n",
       "      <th>Sapindaceae_logit</th>\n",
       "    </tr>\n",
       "  </thead>\n",
       "  <tbody>\n",
       "    <tr>\n",
       "      <th>2382</th>\n",
       "      <td>3</td>\n",
       "      <td>3</td>\n",
       "      <td>/media/data_cifs/projects/prj_fossils/data/processed_data/data_splits/PNAS_family_100_512/train/Betulaceae/Betulaceae_Corylus_sieboldiana_Wolfe_8505.jpg</td>\n",
       "      <td>-3.701172</td>\n",
       "      <td>-1.307617</td>\n",
       "      <td>-3.009766</td>\n",
       "      <td>6.000000</td>\n",
       "      <td>-3.759766</td>\n",
       "      <td>-5.464844</td>\n",
       "      <td>-3.427734</td>\n",
       "      <td>-3.501953</td>\n",
       "      <td>2.558594</td>\n",
       "      <td>-2.662109</td>\n",
       "      <td>-0.223267</td>\n",
       "      <td>-5.761719</td>\n",
       "      <td>-5.398438</td>\n",
       "      <td>-5.808594</td>\n",
       "      <td>-5.355469</td>\n",
       "      <td>4.937500</td>\n",
       "      <td>0.086670</td>\n",
       "      <td>-2.923828</td>\n",
       "      <td>2.140625</td>\n",
       "    </tr>\n",
       "    <tr>\n",
       "      <th>2379</th>\n",
       "      <td>3</td>\n",
       "      <td>3</td>\n",
       "      <td>/media/data_cifs/projects/prj_fossils/data/processed_data/data_splits/PNAS_family_100_512/train/Betulaceae/Betulaceae_Carpinus_minutiserrata_Wolfe_8499.jpg</td>\n",
       "      <td>-3.636719</td>\n",
       "      <td>-0.404541</td>\n",
       "      <td>-3.140625</td>\n",
       "      <td>6.570312</td>\n",
       "      <td>-3.857422</td>\n",
       "      <td>-5.554688</td>\n",
       "      <td>-2.789062</td>\n",
       "      <td>-3.111328</td>\n",
       "      <td>2.324219</td>\n",
       "      <td>-1.705078</td>\n",
       "      <td>-0.510254</td>\n",
       "      <td>-4.355469</td>\n",
       "      <td>-4.910156</td>\n",
       "      <td>-6.250000</td>\n",
       "      <td>-5.363281</td>\n",
       "      <td>4.960938</td>\n",
       "      <td>-1.021484</td>\n",
       "      <td>-3.556641</td>\n",
       "      <td>1.875000</td>\n",
       "    </tr>\n",
       "    <tr>\n",
       "      <th>1310</th>\n",
       "      <td>17</td>\n",
       "      <td>17</td>\n",
       "      <td>/media/data_cifs/projects/prj_fossils/data/processed_data/data_splits/PNAS_family_100_512/train/Salicaceae/Salicaceae_Salix_paradoxa_Wolfe_18143.jpg</td>\n",
       "      <td>-3.542969</td>\n",
       "      <td>-0.666504</td>\n",
       "      <td>-0.868652</td>\n",
       "      <td>-4.914062</td>\n",
       "      <td>-1.795898</td>\n",
       "      <td>-0.714355</td>\n",
       "      <td>-3.437500</td>\n",
       "      <td>-1.461914</td>\n",
       "      <td>-1.703125</td>\n",
       "      <td>-0.938477</td>\n",
       "      <td>-1.060547</td>\n",
       "      <td>-4.484375</td>\n",
       "      <td>-1.119141</td>\n",
       "      <td>-2.339844</td>\n",
       "      <td>-0.384521</td>\n",
       "      <td>-2.453125</td>\n",
       "      <td>-0.583984</td>\n",
       "      <td>0.764648</td>\n",
       "      <td>-2.248047</td>\n",
       "    </tr>\n",
       "    <tr>\n",
       "      <th>2220</th>\n",
       "      <td>11</td>\n",
       "      <td>16</td>\n",
       "      <td>/media/data_cifs/projects/prj_fossils/data/processed_data/data_splits/PNAS_family_100_512/test/Melastomataceae/Melastomataceae_Miconia_candolleana_Wolfe_7579.jpg</td>\n",
       "      <td>-3.531250</td>\n",
       "      <td>-1.310547</td>\n",
       "      <td>0.375000</td>\n",
       "      <td>-3.238281</td>\n",
       "      <td>-1.906250</td>\n",
       "      <td>-0.319824</td>\n",
       "      <td>-2.828125</td>\n",
       "      <td>-0.099548</td>\n",
       "      <td>-1.003906</td>\n",
       "      <td>-1.366211</td>\n",
       "      <td>-2.339844</td>\n",
       "      <td>-2.994141</td>\n",
       "      <td>-0.514160</td>\n",
       "      <td>-2.351562</td>\n",
       "      <td>-1.755859</td>\n",
       "      <td>-1.009766</td>\n",
       "      <td>0.995605</td>\n",
       "      <td>-0.788086</td>\n",
       "      <td>-1.653320</td>\n",
       "    </tr>\n",
       "    <tr>\n",
       "      <th>2388</th>\n",
       "      <td>3</td>\n",
       "      <td>3</td>\n",
       "      <td>/media/data_cifs/projects/prj_fossils/data/processed_data/data_splits/PNAS_family_100_512/train/Betulaceae/Betulaceae_Betula_delavayi_Wolfe_8515.jpg</td>\n",
       "      <td>-3.523438</td>\n",
       "      <td>-1.132812</td>\n",
       "      <td>-2.919922</td>\n",
       "      <td>5.539062</td>\n",
       "      <td>-3.652344</td>\n",
       "      <td>-5.593750</td>\n",
       "      <td>-3.361328</td>\n",
       "      <td>-3.464844</td>\n",
       "      <td>2.539062</td>\n",
       "      <td>-2.875000</td>\n",
       "      <td>-0.327637</td>\n",
       "      <td>-5.246094</td>\n",
       "      <td>-4.781250</td>\n",
       "      <td>-5.527344</td>\n",
       "      <td>-5.289062</td>\n",
       "      <td>4.582031</td>\n",
       "      <td>0.183960</td>\n",
       "      <td>-2.988281</td>\n",
       "      <td>2.130859</td>\n",
       "    </tr>\n",
       "    <tr>\n",
       "      <th>...</th>\n",
       "      <td>...</td>\n",
       "      <td>...</td>\n",
       "      <td>...</td>\n",
       "      <td>...</td>\n",
       "      <td>...</td>\n",
       "      <td>...</td>\n",
       "      <td>...</td>\n",
       "      <td>...</td>\n",
       "      <td>...</td>\n",
       "      <td>...</td>\n",
       "      <td>...</td>\n",
       "      <td>...</td>\n",
       "      <td>...</td>\n",
       "      <td>...</td>\n",
       "      <td>...</td>\n",
       "      <td>...</td>\n",
       "      <td>...</td>\n",
       "      <td>...</td>\n",
       "      <td>...</td>\n",
       "      <td>...</td>\n",
       "      <td>...</td>\n",
       "      <td>...</td>\n",
       "    </tr>\n",
       "    <tr>\n",
       "      <th>1578</th>\n",
       "      <td>0</td>\n",
       "      <td>1</td>\n",
       "      <td>/media/data_cifs/projects/prj_fossils/data/processed_data/data_splits/PNAS_family_100_512/train/Anacardiaceae/Anacardiaceae_Anacardium_microsepalum_Wolfe_4202.jpg</td>\n",
       "      <td>2.031250</td>\n",
       "      <td>2.220703</td>\n",
       "      <td>0.378418</td>\n",
       "      <td>-1.996094</td>\n",
       "      <td>-2.458984</td>\n",
       "      <td>-5.179688</td>\n",
       "      <td>-1.397461</td>\n",
       "      <td>-1.719727</td>\n",
       "      <td>-1.301758</td>\n",
       "      <td>-0.013664</td>\n",
       "      <td>-3.351562</td>\n",
       "      <td>-2.388672</td>\n",
       "      <td>-0.104553</td>\n",
       "      <td>-4.355469</td>\n",
       "      <td>-3.957031</td>\n",
       "      <td>-1.269531</td>\n",
       "      <td>-0.753418</td>\n",
       "      <td>-3.931641</td>\n",
       "      <td>0.276123</td>\n",
       "    </tr>\n",
       "    <tr>\n",
       "      <th>2503</th>\n",
       "      <td>2</td>\n",
       "      <td>0</td>\n",
       "      <td>/media/data_cifs/projects/prj_fossils/data/processed_data/data_splits/PNAS_family_100_512/test/Apocynaceae/Apocynaceae_Condylocarpon_amazonicum_Wolfe_9166.jpg</td>\n",
       "      <td>2.072266</td>\n",
       "      <td>1.169922</td>\n",
       "      <td>0.980957</td>\n",
       "      <td>-1.467773</td>\n",
       "      <td>-2.337891</td>\n",
       "      <td>-5.261719</td>\n",
       "      <td>-1.712891</td>\n",
       "      <td>-1.980469</td>\n",
       "      <td>-1.117188</td>\n",
       "      <td>-1.140625</td>\n",
       "      <td>-3.160156</td>\n",
       "      <td>-1.918945</td>\n",
       "      <td>0.444092</td>\n",
       "      <td>-3.927734</td>\n",
       "      <td>-4.417969</td>\n",
       "      <td>-1.185547</td>\n",
       "      <td>-0.756348</td>\n",
       "      <td>-3.855469</td>\n",
       "      <td>0.513184</td>\n",
       "    </tr>\n",
       "    <tr>\n",
       "      <th>703</th>\n",
       "      <td>0</td>\n",
       "      <td>1</td>\n",
       "      <td>/media/data_cifs/projects/prj_fossils/data/processed_data/data_splits/PNAS_family_100_512/train/Anacardiaceae/Anacardiaceae_Anacardium_humile_Wolfe_12854.jpg</td>\n",
       "      <td>2.318359</td>\n",
       "      <td>2.531250</td>\n",
       "      <td>0.029694</td>\n",
       "      <td>-2.062500</td>\n",
       "      <td>-2.750000</td>\n",
       "      <td>-4.988281</td>\n",
       "      <td>-1.211914</td>\n",
       "      <td>-1.269531</td>\n",
       "      <td>-1.435547</td>\n",
       "      <td>-0.288818</td>\n",
       "      <td>-3.263672</td>\n",
       "      <td>-1.830078</td>\n",
       "      <td>-0.763672</td>\n",
       "      <td>-4.531250</td>\n",
       "      <td>-3.882812</td>\n",
       "      <td>-1.215820</td>\n",
       "      <td>-0.182251</td>\n",
       "      <td>-4.171875</td>\n",
       "      <td>-0.325928</td>\n",
       "    </tr>\n",
       "    <tr>\n",
       "      <th>2281</th>\n",
       "      <td>1</td>\n",
       "      <td>0</td>\n",
       "      <td>/media/data_cifs/projects/prj_fossils/data/processed_data/data_splits/PNAS_family_100_512/train/Annonaceae/Annonaceae_Cyathocalyx_pahangensis_Wolfe_7860.jpg</td>\n",
       "      <td>2.400391</td>\n",
       "      <td>1.263672</td>\n",
       "      <td>0.446533</td>\n",
       "      <td>-1.714844</td>\n",
       "      <td>-2.597656</td>\n",
       "      <td>-5.339844</td>\n",
       "      <td>-1.846680</td>\n",
       "      <td>-1.754883</td>\n",
       "      <td>-1.322266</td>\n",
       "      <td>-0.888672</td>\n",
       "      <td>-2.570312</td>\n",
       "      <td>-2.365234</td>\n",
       "      <td>-0.152954</td>\n",
       "      <td>-3.791016</td>\n",
       "      <td>-4.105469</td>\n",
       "      <td>-1.630859</td>\n",
       "      <td>-0.832520</td>\n",
       "      <td>-3.966797</td>\n",
       "      <td>0.582031</td>\n",
       "    </tr>\n",
       "    <tr>\n",
       "      <th>2362</th>\n",
       "      <td>2</td>\n",
       "      <td>0</td>\n",
       "      <td>/media/data_cifs/projects/prj_fossils/data/processed_data/data_splits/PNAS_family_100_512/train/Apocynaceae/Apocynaceae_Dyera_lowii_Wolfe_8430.jpg</td>\n",
       "      <td>2.603516</td>\n",
       "      <td>1.859375</td>\n",
       "      <td>0.836426</td>\n",
       "      <td>-2.263672</td>\n",
       "      <td>-2.771484</td>\n",
       "      <td>-4.992188</td>\n",
       "      <td>-1.857422</td>\n",
       "      <td>-1.131836</td>\n",
       "      <td>-1.219727</td>\n",
       "      <td>-0.742188</td>\n",
       "      <td>-3.986328</td>\n",
       "      <td>-2.173828</td>\n",
       "      <td>0.757812</td>\n",
       "      <td>-4.257812</td>\n",
       "      <td>-4.199219</td>\n",
       "      <td>-2.175781</td>\n",
       "      <td>-0.663086</td>\n",
       "      <td>-4.609375</td>\n",
       "      <td>-0.463867</td>\n",
       "    </tr>\n",
       "  </tbody>\n",
       "</table>\n",
       "<p>2797 rows × 22 columns</p>\n",
       "</div>"
      ],
      "text/plain": [
       "      family_true  family_pred  \\\n",
       "2382            3            3   \n",
       "2379            3            3   \n",
       "1310           17           17   \n",
       "2220           11           16   \n",
       "2388            3            3   \n",
       "...           ...          ...   \n",
       "1578            0            1   \n",
       "2503            2            0   \n",
       "703             0            1   \n",
       "2281            1            0   \n",
       "2362            2            0   \n",
       "\n",
       "                                                                                                                                                                   paths  \\\n",
       "2382            /media/data_cifs/projects/prj_fossils/data/processed_data/data_splits/PNAS_family_100_512/train/Betulaceae/Betulaceae_Corylus_sieboldiana_Wolfe_8505.jpg   \n",
       "2379         /media/data_cifs/projects/prj_fossils/data/processed_data/data_splits/PNAS_family_100_512/train/Betulaceae/Betulaceae_Carpinus_minutiserrata_Wolfe_8499.jpg   \n",
       "1310                /media/data_cifs/projects/prj_fossils/data/processed_data/data_splits/PNAS_family_100_512/train/Salicaceae/Salicaceae_Salix_paradoxa_Wolfe_18143.jpg   \n",
       "2220   /media/data_cifs/projects/prj_fossils/data/processed_data/data_splits/PNAS_family_100_512/test/Melastomataceae/Melastomataceae_Miconia_candolleana_Wolfe_7579.jpg   \n",
       "2388                /media/data_cifs/projects/prj_fossils/data/processed_data/data_splits/PNAS_family_100_512/train/Betulaceae/Betulaceae_Betula_delavayi_Wolfe_8515.jpg   \n",
       "...                                                                                                                                                                  ...   \n",
       "1578  /media/data_cifs/projects/prj_fossils/data/processed_data/data_splits/PNAS_family_100_512/train/Anacardiaceae/Anacardiaceae_Anacardium_microsepalum_Wolfe_4202.jpg   \n",
       "2503      /media/data_cifs/projects/prj_fossils/data/processed_data/data_splits/PNAS_family_100_512/test/Apocynaceae/Apocynaceae_Condylocarpon_amazonicum_Wolfe_9166.jpg   \n",
       "703        /media/data_cifs/projects/prj_fossils/data/processed_data/data_splits/PNAS_family_100_512/train/Anacardiaceae/Anacardiaceae_Anacardium_humile_Wolfe_12854.jpg   \n",
       "2281        /media/data_cifs/projects/prj_fossils/data/processed_data/data_splits/PNAS_family_100_512/train/Annonaceae/Annonaceae_Cyathocalyx_pahangensis_Wolfe_7860.jpg   \n",
       "2362                  /media/data_cifs/projects/prj_fossils/data/processed_data/data_splits/PNAS_family_100_512/train/Apocynaceae/Apocynaceae_Dyera_lowii_Wolfe_8430.jpg   \n",
       "\n",
       "      Anacardiaceae_logit  Annonaceae_logit  Apocynaceae_logit  \\\n",
       "2382            -3.701172         -1.307617          -3.009766   \n",
       "2379            -3.636719         -0.404541          -3.140625   \n",
       "1310            -3.542969         -0.666504          -0.868652   \n",
       "2220            -3.531250         -1.310547           0.375000   \n",
       "2388            -3.523438         -1.132812          -2.919922   \n",
       "...                   ...               ...                ...   \n",
       "1578             2.031250          2.220703           0.378418   \n",
       "2503             2.072266          1.169922           0.980957   \n",
       "703              2.318359          2.531250           0.029694   \n",
       "2281             2.400391          1.263672           0.446533   \n",
       "2362             2.603516          1.859375           0.836426   \n",
       "\n",
       "      Betulaceae_logit  Celastraceae_logit  Combretaceae_logit  \\\n",
       "2382          6.000000           -3.759766           -5.464844   \n",
       "2379          6.570312           -3.857422           -5.554688   \n",
       "1310         -4.914062           -1.795898           -0.714355   \n",
       "2220         -3.238281           -1.906250           -0.319824   \n",
       "2388          5.539062           -3.652344           -5.593750   \n",
       "...                ...                 ...                 ...   \n",
       "1578         -1.996094           -2.458984           -5.179688   \n",
       "2503         -1.467773           -2.337891           -5.261719   \n",
       "703          -2.062500           -2.750000           -4.988281   \n",
       "2281         -1.714844           -2.597656           -5.339844   \n",
       "2362         -2.263672           -2.771484           -4.992188   \n",
       "\n",
       "      Ericaceae_logit  Fabaceae_logit  Fagaceae_logit  Lauraceae_logit  \\\n",
       "2382        -3.427734       -3.501953        2.558594        -2.662109   \n",
       "2379        -2.789062       -3.111328        2.324219        -1.705078   \n",
       "1310        -3.437500       -1.461914       -1.703125        -0.938477   \n",
       "2220        -2.828125       -0.099548       -1.003906        -1.366211   \n",
       "2388        -3.361328       -3.464844        2.539062        -2.875000   \n",
       "...               ...             ...             ...              ...   \n",
       "1578        -1.397461       -1.719727       -1.301758        -0.013664   \n",
       "2503        -1.712891       -1.980469       -1.117188        -1.140625   \n",
       "703         -1.211914       -1.269531       -1.435547        -0.288818   \n",
       "2281        -1.846680       -1.754883       -1.322266        -0.888672   \n",
       "2362        -1.857422       -1.131836       -1.219727        -0.742188   \n",
       "\n",
       "      Malvaceae_logit  Melastomataceae_logit  Myrtaceae_logit  \\\n",
       "2382        -0.223267              -5.761719        -5.398438   \n",
       "2379        -0.510254              -4.355469        -4.910156   \n",
       "1310        -1.060547              -4.484375        -1.119141   \n",
       "2220        -2.339844              -2.994141        -0.514160   \n",
       "2388        -0.327637              -5.246094        -4.781250   \n",
       "...               ...                    ...              ...   \n",
       "1578        -3.351562              -2.388672        -0.104553   \n",
       "2503        -3.160156              -1.918945         0.444092   \n",
       "703         -3.263672              -1.830078        -0.763672   \n",
       "2281        -2.570312              -2.365234        -0.152954   \n",
       "2362        -3.986328              -2.173828         0.757812   \n",
       "\n",
       "      Passifloraceae_logit  Phyllanthaceae_logit  Rosaceae_logit  \\\n",
       "2382             -5.808594             -5.355469        4.937500   \n",
       "2379             -6.250000             -5.363281        4.960938   \n",
       "1310             -2.339844             -0.384521       -2.453125   \n",
       "2220             -2.351562             -1.755859       -1.009766   \n",
       "2388             -5.527344             -5.289062        4.582031   \n",
       "...                    ...                   ...             ...   \n",
       "1578             -4.355469             -3.957031       -1.269531   \n",
       "2503             -3.927734             -4.417969       -1.185547   \n",
       "703              -4.531250             -3.882812       -1.215820   \n",
       "2281             -3.791016             -4.105469       -1.630859   \n",
       "2362             -4.257812             -4.199219       -2.175781   \n",
       "\n",
       "      Rubiaceae_logit  Salicaceae_logit  Sapindaceae_logit  \n",
       "2382         0.086670         -2.923828           2.140625  \n",
       "2379        -1.021484         -3.556641           1.875000  \n",
       "1310        -0.583984          0.764648          -2.248047  \n",
       "2220         0.995605         -0.788086          -1.653320  \n",
       "2388         0.183960         -2.988281           2.130859  \n",
       "...               ...               ...                ...  \n",
       "1578        -0.753418         -3.931641           0.276123  \n",
       "2503        -0.756348         -3.855469           0.513184  \n",
       "703         -0.182251         -4.171875          -0.325928  \n",
       "2281        -0.832520         -3.966797           0.582031  \n",
       "2362        -0.663086         -4.609375          -0.463867  \n",
       "\n",
       "[2797 rows x 22 columns]"
      ]
     },
     "execution_count": 230,
     "metadata": {},
     "output_type": "execute_result"
    }
   ],
   "source": [
    "data_df.sort_values(\"Anacardiaceae_logit\")"
   ]
  },
  {
   "cell_type": "code",
   "execution_count": 209,
   "metadata": {},
   "outputs": [
    {
     "data": {
      "text/html": [
       "<div>\n",
       "<style scoped>\n",
       "    .dataframe tbody tr th:only-of-type {\n",
       "        vertical-align: middle;\n",
       "    }\n",
       "\n",
       "    .dataframe tbody tr th {\n",
       "        vertical-align: top;\n",
       "    }\n",
       "\n",
       "    .dataframe thead th {\n",
       "        text-align: right;\n",
       "    }\n",
       "</style>\n",
       "<table border=\"1\" class=\"dataframe\">\n",
       "  <thead>\n",
       "    <tr style=\"text-align: right;\">\n",
       "      <th></th>\n",
       "      <th>family_true</th>\n",
       "      <th>family_pred</th>\n",
       "      <th>paths</th>\n",
       "      <th>Anacardiaceae_logit</th>\n",
       "      <th>Annonaceae_logit</th>\n",
       "      <th>Apocynaceae_logit</th>\n",
       "      <th>Betulaceae_logit</th>\n",
       "      <th>Celastraceae_logit</th>\n",
       "      <th>Combretaceae_logit</th>\n",
       "      <th>Ericaceae_logit</th>\n",
       "      <th>Fabaceae_logit</th>\n",
       "      <th>Fagaceae_logit</th>\n",
       "      <th>Lauraceae_logit</th>\n",
       "      <th>Malvaceae_logit</th>\n",
       "      <th>Melastomataceae_logit</th>\n",
       "      <th>Myrtaceae_logit</th>\n",
       "      <th>Passifloraceae_logit</th>\n",
       "      <th>Phyllanthaceae_logit</th>\n",
       "      <th>Rosaceae_logit</th>\n",
       "      <th>Rubiaceae_logit</th>\n",
       "      <th>Salicaceae_logit</th>\n",
       "      <th>Sapindaceae_logit</th>\n",
       "    </tr>\n",
       "  </thead>\n",
       "  <tbody>\n",
       "    <tr>\n",
       "      <th>0</th>\n",
       "      <td>8</td>\n",
       "      <td>7</td>\n",
       "      <td>/media/data_cifs/projects/prj_fossils/data/processed_data/data_splits/PNAS_family_100_512/train/Fagaceae/Fagaceae_Lithocarpus_densiflora_Axelrod_105.jpg</td>\n",
       "      <td>-2.101562</td>\n",
       "      <td>0.946777</td>\n",
       "      <td>-2.197266</td>\n",
       "      <td>-5.257812</td>\n",
       "      <td>-1.637695</td>\n",
       "      <td>-4.351562</td>\n",
       "      <td>-0.747070</td>\n",
       "      <td>2.486328</td>\n",
       "      <td>-2.169922</td>\n",
       "      <td>1.900391</td>\n",
       "      <td>-2.886719</td>\n",
       "      <td>-4.980469</td>\n",
       "      <td>-2.761719</td>\n",
       "      <td>-3.220703</td>\n",
       "      <td>-2.039062</td>\n",
       "      <td>-2.855469</td>\n",
       "      <td>-1.358398</td>\n",
       "      <td>-2.119141</td>\n",
       "      <td>-1.598633</td>\n",
       "    </tr>\n",
       "    <tr>\n",
       "      <th>1</th>\n",
       "      <td>6</td>\n",
       "      <td>17</td>\n",
       "      <td>/media/data_cifs/projects/prj_fossils/data/processed_data/data_splits/PNAS_family_100_512/test/Ericaceae/Ericaceae_Arctostaphylos_bicolor_Axelrod_1064.jpg</td>\n",
       "      <td>-1.948242</td>\n",
       "      <td>-0.208008</td>\n",
       "      <td>-1.406250</td>\n",
       "      <td>-2.642578</td>\n",
       "      <td>-0.841797</td>\n",
       "      <td>-3.482422</td>\n",
       "      <td>-1.020508</td>\n",
       "      <td>-0.872070</td>\n",
       "      <td>-1.964844</td>\n",
       "      <td>-1.522461</td>\n",
       "      <td>-0.915039</td>\n",
       "      <td>-5.437500</td>\n",
       "      <td>-3.214844</td>\n",
       "      <td>-2.896484</td>\n",
       "      <td>-1.683594</td>\n",
       "      <td>0.409424</td>\n",
       "      <td>-1.733398</td>\n",
       "      <td>1.350586</td>\n",
       "      <td>-0.226807</td>\n",
       "    </tr>\n",
       "    <tr>\n",
       "      <th>2</th>\n",
       "      <td>7</td>\n",
       "      <td>7</td>\n",
       "      <td>/media/data_cifs/projects/prj_fossils/data/processed_data/data_splits/PNAS_family_100_512/test/Fabaceae/Fabaceae_Amorpha_californica_Axelrod_107.jpg</td>\n",
       "      <td>-1.899414</td>\n",
       "      <td>0.320557</td>\n",
       "      <td>-1.014648</td>\n",
       "      <td>-2.306641</td>\n",
       "      <td>-0.415283</td>\n",
       "      <td>-2.873047</td>\n",
       "      <td>0.164185</td>\n",
       "      <td>0.775391</td>\n",
       "      <td>-1.668945</td>\n",
       "      <td>-0.221802</td>\n",
       "      <td>-1.568359</td>\n",
       "      <td>-3.824219</td>\n",
       "      <td>-2.728516</td>\n",
       "      <td>-2.455078</td>\n",
       "      <td>-2.048828</td>\n",
       "      <td>0.622559</td>\n",
       "      <td>-1.046875</td>\n",
       "      <td>0.237793</td>\n",
       "      <td>-0.510742</td>\n",
       "    </tr>\n",
       "    <tr>\n",
       "      <th>3</th>\n",
       "      <td>0</td>\n",
       "      <td>7</td>\n",
       "      <td>/media/data_cifs/projects/prj_fossils/data/processed_data/data_splits/PNAS_family_100_512/test/Anacardiaceae/Anacardiaceae_Rhus_scheidana_Axelrod_1083.jpg</td>\n",
       "      <td>-2.119141</td>\n",
       "      <td>0.247192</td>\n",
       "      <td>-0.884277</td>\n",
       "      <td>-3.435547</td>\n",
       "      <td>-0.860840</td>\n",
       "      <td>-2.496094</td>\n",
       "      <td>-0.708984</td>\n",
       "      <td>0.709961</td>\n",
       "      <td>-1.564453</td>\n",
       "      <td>-0.077454</td>\n",
       "      <td>-1.122070</td>\n",
       "      <td>-3.429688</td>\n",
       "      <td>-2.224609</td>\n",
       "      <td>-2.107422</td>\n",
       "      <td>-1.483398</td>\n",
       "      <td>-0.923340</td>\n",
       "      <td>-1.385742</td>\n",
       "      <td>0.063416</td>\n",
       "      <td>-0.836426</td>\n",
       "    </tr>\n",
       "    <tr>\n",
       "      <th>4</th>\n",
       "      <td>15</td>\n",
       "      <td>18</td>\n",
       "      <td>/media/data_cifs/projects/prj_fossils/data/processed_data/data_splits/PNAS_family_100_512/train/Rosaceae/Rosaceae_Holodiscus_bousierii_Axelrod_11.jpg</td>\n",
       "      <td>-1.210938</td>\n",
       "      <td>-0.155151</td>\n",
       "      <td>-0.820312</td>\n",
       "      <td>-0.239014</td>\n",
       "      <td>-1.089844</td>\n",
       "      <td>-3.675781</td>\n",
       "      <td>-0.708984</td>\n",
       "      <td>-0.143677</td>\n",
       "      <td>-0.320557</td>\n",
       "      <td>-1.643555</td>\n",
       "      <td>-1.702148</td>\n",
       "      <td>-4.644531</td>\n",
       "      <td>-3.546875</td>\n",
       "      <td>-4.359375</td>\n",
       "      <td>-3.392578</td>\n",
       "      <td>1.975586</td>\n",
       "      <td>0.340088</td>\n",
       "      <td>-1.000000</td>\n",
       "      <td>2.621094</td>\n",
       "    </tr>\n",
       "    <tr>\n",
       "      <th>...</th>\n",
       "      <td>...</td>\n",
       "      <td>...</td>\n",
       "      <td>...</td>\n",
       "      <td>...</td>\n",
       "      <td>...</td>\n",
       "      <td>...</td>\n",
       "      <td>...</td>\n",
       "      <td>...</td>\n",
       "      <td>...</td>\n",
       "      <td>...</td>\n",
       "      <td>...</td>\n",
       "      <td>...</td>\n",
       "      <td>...</td>\n",
       "      <td>...</td>\n",
       "      <td>...</td>\n",
       "      <td>...</td>\n",
       "      <td>...</td>\n",
       "      <td>...</td>\n",
       "      <td>...</td>\n",
       "      <td>...</td>\n",
       "      <td>...</td>\n",
       "      <td>...</td>\n",
       "    </tr>\n",
       "    <tr>\n",
       "      <th>2792</th>\n",
       "      <td>7</td>\n",
       "      <td>7</td>\n",
       "      <td>/media/data_cifs/projects/prj_fossils/data/processed_data/data_splits/PNAS_family_100_512/train/Fabaceae/Fabaceae_Spatholobus_sanguineus_Wolfe_9986.jpg</td>\n",
       "      <td>-1.414062</td>\n",
       "      <td>-0.408203</td>\n",
       "      <td>-1.287109</td>\n",
       "      <td>-1.636719</td>\n",
       "      <td>-1.176758</td>\n",
       "      <td>-3.201172</td>\n",
       "      <td>-1.117188</td>\n",
       "      <td>0.658691</td>\n",
       "      <td>-0.553223</td>\n",
       "      <td>-0.359619</td>\n",
       "      <td>-0.608398</td>\n",
       "      <td>-4.261719</td>\n",
       "      <td>-3.195312</td>\n",
       "      <td>-2.927734</td>\n",
       "      <td>-2.158203</td>\n",
       "      <td>-0.062805</td>\n",
       "      <td>-0.152954</td>\n",
       "      <td>-1.143555</td>\n",
       "      <td>0.043213</td>\n",
       "    </tr>\n",
       "    <tr>\n",
       "      <th>2793</th>\n",
       "      <td>7</td>\n",
       "      <td>7</td>\n",
       "      <td>/media/data_cifs/projects/prj_fossils/data/processed_data/data_splits/PNAS_family_100_512/test/Fabaceae/Fabaceae_Strongylodon_lucidus_Wolfe_9991.jpg</td>\n",
       "      <td>-1.657227</td>\n",
       "      <td>-0.341553</td>\n",
       "      <td>-1.412109</td>\n",
       "      <td>-2.822266</td>\n",
       "      <td>-1.095703</td>\n",
       "      <td>-2.773438</td>\n",
       "      <td>-0.649414</td>\n",
       "      <td>1.941406</td>\n",
       "      <td>-1.231445</td>\n",
       "      <td>-0.438477</td>\n",
       "      <td>-1.717773</td>\n",
       "      <td>-4.644531</td>\n",
       "      <td>-3.406250</td>\n",
       "      <td>-3.111328</td>\n",
       "      <td>-2.568359</td>\n",
       "      <td>-0.196289</td>\n",
       "      <td>-0.147827</td>\n",
       "      <td>-1.016602</td>\n",
       "      <td>-0.682617</td>\n",
       "    </tr>\n",
       "    <tr>\n",
       "      <th>2794</th>\n",
       "      <td>7</td>\n",
       "      <td>7</td>\n",
       "      <td>/media/data_cifs/projects/prj_fossils/data/processed_data/data_splits/PNAS_family_100_512/test/Fabaceae/Fabaceae_Sweetia_nitens_Wolfe_9994.jpg</td>\n",
       "      <td>-1.159180</td>\n",
       "      <td>0.910645</td>\n",
       "      <td>-1.306641</td>\n",
       "      <td>-3.710938</td>\n",
       "      <td>-1.150391</td>\n",
       "      <td>-4.042969</td>\n",
       "      <td>-0.448486</td>\n",
       "      <td>0.985352</td>\n",
       "      <td>-1.852539</td>\n",
       "      <td>0.742188</td>\n",
       "      <td>-2.884766</td>\n",
       "      <td>-3.646484</td>\n",
       "      <td>-1.609375</td>\n",
       "      <td>-2.974609</td>\n",
       "      <td>-2.533203</td>\n",
       "      <td>-1.801758</td>\n",
       "      <td>-1.070312</td>\n",
       "      <td>-1.525391</td>\n",
       "      <td>-0.565918</td>\n",
       "    </tr>\n",
       "    <tr>\n",
       "      <th>2795</th>\n",
       "      <td>7</td>\n",
       "      <td>7</td>\n",
       "      <td>/media/data_cifs/projects/prj_fossils/data/processed_data/data_splits/PNAS_family_100_512/train/Fabaceae/Fabaceae_Templetonia_retusa_Wolfe_9995.jpg</td>\n",
       "      <td>-1.577148</td>\n",
       "      <td>-1.782227</td>\n",
       "      <td>-1.040039</td>\n",
       "      <td>-3.068359</td>\n",
       "      <td>-2.150391</td>\n",
       "      <td>-1.496094</td>\n",
       "      <td>-1.236328</td>\n",
       "      <td>3.931641</td>\n",
       "      <td>-1.172852</td>\n",
       "      <td>-2.310547</td>\n",
       "      <td>-3.220703</td>\n",
       "      <td>-5.195312</td>\n",
       "      <td>-2.341797</td>\n",
       "      <td>-3.683594</td>\n",
       "      <td>-3.480469</td>\n",
       "      <td>-0.072754</td>\n",
       "      <td>0.024765</td>\n",
       "      <td>-1.898438</td>\n",
       "      <td>-1.231445</td>\n",
       "    </tr>\n",
       "    <tr>\n",
       "      <th>2796</th>\n",
       "      <td>7</td>\n",
       "      <td>7</td>\n",
       "      <td>/media/data_cifs/projects/prj_fossils/data/processed_data/data_splits/PNAS_family_100_512/train/Fabaceae/Fabaceae_Tessmannia_anomala_Wolfe_9998.jpg</td>\n",
       "      <td>-0.927734</td>\n",
       "      <td>-0.419189</td>\n",
       "      <td>-0.990234</td>\n",
       "      <td>-4.324219</td>\n",
       "      <td>-1.419922</td>\n",
       "      <td>-2.306641</td>\n",
       "      <td>-0.715332</td>\n",
       "      <td>4.031250</td>\n",
       "      <td>-1.281250</td>\n",
       "      <td>-1.117188</td>\n",
       "      <td>-3.248047</td>\n",
       "      <td>-5.554688</td>\n",
       "      <td>-1.846680</td>\n",
       "      <td>-3.681641</td>\n",
       "      <td>-2.121094</td>\n",
       "      <td>-1.324219</td>\n",
       "      <td>-0.002041</td>\n",
       "      <td>-2.394531</td>\n",
       "      <td>-2.003906</td>\n",
       "    </tr>\n",
       "  </tbody>\n",
       "</table>\n",
       "<p>2797 rows × 22 columns</p>\n",
       "</div>"
      ],
      "text/plain": [
       "      family_true  family_pred  \\\n",
       "0               8            7   \n",
       "1               6           17   \n",
       "2               7            7   \n",
       "3               0            7   \n",
       "4              15           18   \n",
       "...           ...          ...   \n",
       "2792            7            7   \n",
       "2793            7            7   \n",
       "2794            7            7   \n",
       "2795            7            7   \n",
       "2796            7            7   \n",
       "\n",
       "                                                                                                                                                           paths  \\\n",
       "0       /media/data_cifs/projects/prj_fossils/data/processed_data/data_splits/PNAS_family_100_512/train/Fagaceae/Fagaceae_Lithocarpus_densiflora_Axelrod_105.jpg   \n",
       "1     /media/data_cifs/projects/prj_fossils/data/processed_data/data_splits/PNAS_family_100_512/test/Ericaceae/Ericaceae_Arctostaphylos_bicolor_Axelrod_1064.jpg   \n",
       "2           /media/data_cifs/projects/prj_fossils/data/processed_data/data_splits/PNAS_family_100_512/test/Fabaceae/Fabaceae_Amorpha_californica_Axelrod_107.jpg   \n",
       "3     /media/data_cifs/projects/prj_fossils/data/processed_data/data_splits/PNAS_family_100_512/test/Anacardiaceae/Anacardiaceae_Rhus_scheidana_Axelrod_1083.jpg   \n",
       "4          /media/data_cifs/projects/prj_fossils/data/processed_data/data_splits/PNAS_family_100_512/train/Rosaceae/Rosaceae_Holodiscus_bousierii_Axelrod_11.jpg   \n",
       "...                                                                                                                                                          ...   \n",
       "2792     /media/data_cifs/projects/prj_fossils/data/processed_data/data_splits/PNAS_family_100_512/train/Fabaceae/Fabaceae_Spatholobus_sanguineus_Wolfe_9986.jpg   \n",
       "2793        /media/data_cifs/projects/prj_fossils/data/processed_data/data_splits/PNAS_family_100_512/test/Fabaceae/Fabaceae_Strongylodon_lucidus_Wolfe_9991.jpg   \n",
       "2794              /media/data_cifs/projects/prj_fossils/data/processed_data/data_splits/PNAS_family_100_512/test/Fabaceae/Fabaceae_Sweetia_nitens_Wolfe_9994.jpg   \n",
       "2795         /media/data_cifs/projects/prj_fossils/data/processed_data/data_splits/PNAS_family_100_512/train/Fabaceae/Fabaceae_Templetonia_retusa_Wolfe_9995.jpg   \n",
       "2796         /media/data_cifs/projects/prj_fossils/data/processed_data/data_splits/PNAS_family_100_512/train/Fabaceae/Fabaceae_Tessmannia_anomala_Wolfe_9998.jpg   \n",
       "\n",
       "      Anacardiaceae_logit  Annonaceae_logit  Apocynaceae_logit  \\\n",
       "0               -2.101562          0.946777          -2.197266   \n",
       "1               -1.948242         -0.208008          -1.406250   \n",
       "2               -1.899414          0.320557          -1.014648   \n",
       "3               -2.119141          0.247192          -0.884277   \n",
       "4               -1.210938         -0.155151          -0.820312   \n",
       "...                   ...               ...                ...   \n",
       "2792            -1.414062         -0.408203          -1.287109   \n",
       "2793            -1.657227         -0.341553          -1.412109   \n",
       "2794            -1.159180          0.910645          -1.306641   \n",
       "2795            -1.577148         -1.782227          -1.040039   \n",
       "2796            -0.927734         -0.419189          -0.990234   \n",
       "\n",
       "      Betulaceae_logit  Celastraceae_logit  Combretaceae_logit  \\\n",
       "0            -5.257812           -1.637695           -4.351562   \n",
       "1            -2.642578           -0.841797           -3.482422   \n",
       "2            -2.306641           -0.415283           -2.873047   \n",
       "3            -3.435547           -0.860840           -2.496094   \n",
       "4            -0.239014           -1.089844           -3.675781   \n",
       "...                ...                 ...                 ...   \n",
       "2792         -1.636719           -1.176758           -3.201172   \n",
       "2793         -2.822266           -1.095703           -2.773438   \n",
       "2794         -3.710938           -1.150391           -4.042969   \n",
       "2795         -3.068359           -2.150391           -1.496094   \n",
       "2796         -4.324219           -1.419922           -2.306641   \n",
       "\n",
       "      Ericaceae_logit  Fabaceae_logit  Fagaceae_logit  Lauraceae_logit  \\\n",
       "0           -0.747070        2.486328       -2.169922         1.900391   \n",
       "1           -1.020508       -0.872070       -1.964844        -1.522461   \n",
       "2            0.164185        0.775391       -1.668945        -0.221802   \n",
       "3           -0.708984        0.709961       -1.564453        -0.077454   \n",
       "4           -0.708984       -0.143677       -0.320557        -1.643555   \n",
       "...               ...             ...             ...              ...   \n",
       "2792        -1.117188        0.658691       -0.553223        -0.359619   \n",
       "2793        -0.649414        1.941406       -1.231445        -0.438477   \n",
       "2794        -0.448486        0.985352       -1.852539         0.742188   \n",
       "2795        -1.236328        3.931641       -1.172852        -2.310547   \n",
       "2796        -0.715332        4.031250       -1.281250        -1.117188   \n",
       "\n",
       "      Malvaceae_logit  Melastomataceae_logit  Myrtaceae_logit  \\\n",
       "0           -2.886719              -4.980469        -2.761719   \n",
       "1           -0.915039              -5.437500        -3.214844   \n",
       "2           -1.568359              -3.824219        -2.728516   \n",
       "3           -1.122070              -3.429688        -2.224609   \n",
       "4           -1.702148              -4.644531        -3.546875   \n",
       "...               ...                    ...              ...   \n",
       "2792        -0.608398              -4.261719        -3.195312   \n",
       "2793        -1.717773              -4.644531        -3.406250   \n",
       "2794        -2.884766              -3.646484        -1.609375   \n",
       "2795        -3.220703              -5.195312        -2.341797   \n",
       "2796        -3.248047              -5.554688        -1.846680   \n",
       "\n",
       "      Passifloraceae_logit  Phyllanthaceae_logit  Rosaceae_logit  \\\n",
       "0                -3.220703             -2.039062       -2.855469   \n",
       "1                -2.896484             -1.683594        0.409424   \n",
       "2                -2.455078             -2.048828        0.622559   \n",
       "3                -2.107422             -1.483398       -0.923340   \n",
       "4                -4.359375             -3.392578        1.975586   \n",
       "...                    ...                   ...             ...   \n",
       "2792             -2.927734             -2.158203       -0.062805   \n",
       "2793             -3.111328             -2.568359       -0.196289   \n",
       "2794             -2.974609             -2.533203       -1.801758   \n",
       "2795             -3.683594             -3.480469       -0.072754   \n",
       "2796             -3.681641             -2.121094       -1.324219   \n",
       "\n",
       "      Rubiaceae_logit  Salicaceae_logit  Sapindaceae_logit  \n",
       "0           -1.358398         -2.119141          -1.598633  \n",
       "1           -1.733398          1.350586          -0.226807  \n",
       "2           -1.046875          0.237793          -0.510742  \n",
       "3           -1.385742          0.063416          -0.836426  \n",
       "4            0.340088         -1.000000           2.621094  \n",
       "...               ...               ...                ...  \n",
       "2792        -0.152954         -1.143555           0.043213  \n",
       "2793        -0.147827         -1.016602          -0.682617  \n",
       "2794        -1.070312         -1.525391          -0.565918  \n",
       "2795         0.024765         -1.898438          -1.231445  \n",
       "2796        -0.002041         -2.394531          -2.003906  \n",
       "\n",
       "[2797 rows x 22 columns]"
      ]
     },
     "execution_count": 209,
     "metadata": {},
     "output_type": "execute_result"
    },
    {
     "data": {
      "text/plain": [
       "'/media/data_cifs/projects/prj_fossils/users/jacob/experiments/July2021-Nov2021/experiment_logs/Transfer_Experiments/feature_extractor-PNAS-19_classes-res_512-bsz_32-resnet50-pretrained_True-pool_avg/replicate_1/results/task_1/test_predictions.csv'"
      ]
     },
     "execution_count": 209,
     "metadata": {},
     "output_type": "execute_result"
    }
   ],
   "source": [
    "data_df\n",
    "test_predictions_filepath"
   ]
  },
  {
   "cell_type": "markdown",
   "metadata": {
    "tags": []
   },
   "source": [
    "## generate report"
   ]
  },
  {
   "cell_type": "code",
   "execution_count": null,
   "metadata": {},
   "outputs": [],
   "source": []
  },
  {
   "cell_type": "code",
   "execution_count": null,
   "metadata": {},
   "outputs": [],
   "source": []
  },
  {
   "cell_type": "code",
   "execution_count": 52,
   "metadata": {},
   "outputs": [
    {
     "name": "stdout",
     "output_type": "stream",
     "text": [
      "fastprogress                   1.0.0\n"
     ]
    }
   ],
   "source": [
    "from lightning_hydra_classifiers.utils.report_utils.pandas_embed_images import df_embed_paths2imgs\n",
    "\n",
    "\n",
    "\n",
    "df_embed_paths2imgs(df: pd.DataFrame,\n",
    "                        file_path: str, \n",
    "                        path_col: str=\"path\",\n",
    "                        display: bool=False"
   ]
  },
  {
   "cell_type": "code",
   "execution_count": 50,
   "metadata": {},
   "outputs": [
    {
     "data": {
      "text/plain": [
       "2797"
      ]
     },
     "execution_count": 50,
     "metadata": {},
     "output_type": "execute_result"
    },
    {
     "data": {
      "text/plain": [
       "array([[-2.102e+00,  9.468e-01, -2.197e+00, ..., -1.358e+00, -2.119e+00,\n",
       "        -1.599e+00],\n",
       "       [-1.948e+00, -2.080e-01, -1.406e+00, ..., -1.733e+00,  1.351e+00,\n",
       "        -2.268e-01],\n",
       "       [-1.899e+00,  3.206e-01, -1.015e+00, ..., -1.047e+00,  2.378e-01,\n",
       "        -5.107e-01],\n",
       "       ...,\n",
       "       [-1.159e+00,  9.106e-01, -1.307e+00, ..., -1.070e+00, -1.525e+00,\n",
       "        -5.659e-01],\n",
       "       [-1.577e+00, -1.782e+00, -1.040e+00, ...,  2.477e-02, -1.898e+00,\n",
       "        -1.231e+00],\n",
       "       [-9.277e-01, -4.192e-01, -9.902e-01, ..., -2.041e-03, -2.395e+00,\n",
       "        -2.004e+00]], dtype=float16)"
      ]
     },
     "execution_count": 50,
     "metadata": {},
     "output_type": "execute_result"
    }
   ],
   "source": [
    "len(paths)\n",
    "\n",
    "y_logit#.shape"
   ]
  },
  {
   "cell_type": "code",
   "execution_count": 51,
   "metadata": {},
   "outputs": [
    {
     "data": {
      "text/plain": [
       "<matplotlib.axes._subplots.AxesSubplot at 0x7fdaec2ebbe0>"
      ]
     },
     "execution_count": 51,
     "metadata": {},
     "output_type": "execute_result"
    },
    {
     "data": {
      "image/png": "[encoded data removed]",
      "text/plain": [
       "<Figure size 432x288 with 2 Axes>"
      ]
     },
     "metadata": {},
     "output_type": "display_data"
    }
   ],
   "source": [
    "import seaborn as sns\n",
    "\n",
    "sns.heatmap(y_logit)"
   ]
  },
  {
   "cell_type": "code",
   "execution_count": null,
   "metadata": {},
   "outputs": [],
   "source": [
    "# logger = logging.getLogger(__name__)\n",
    "\n",
    "def generate_report(y_pred,\n",
    "                    y_true, \n",
    "                    labels=None,\n",
    "                    results_dir: str=None):\n",
    "    \"\"\"Create a performance report for the current experiment and \n",
    "    consolidate the information to a general report of all runs \n",
    "    Parameters\n",
    "    ----------\n",
    "    opt : sklearn.model_selection.Object\n",
    "        A hyperparameter \n",
    "    X_test: numpy array or pandas Dataframe \n",
    "        Input test data\n",
    "    y_test: numpy array or pandas Dataframe \n",
    "        Target test data\n",
    "    \"\"\"\n",
    "\n",
    "\n",
    "    logger.info(\"Generating Evaluation Report:\")\n",
    "    \n",
    "\n",
    "    res = classification_report(y_true, y_pred, labels=labels, output_dict=True)\n",
    "    res = pd.DataFrame(res)\n",
    "\n",
    "    logger.info(\"Test report:\")\n",
    "    logger.info('\\n \\t'+ res.to_string().replace('\\n', '\\n\\t'))\n",
    "    \n",
    "    f1 = f1_score(y_true, y_pred, labels=labels, average='macro')\n",
    "    \n",
    "    steps= [*pipeline.named_steps]\n",
    "\n",
    "    cv_mean ,cv_std = opt.best_score_,opt.cv_results_['std_test_score'][opt.best_index_]\n",
    "\n",
    "    tmp= pd.DataFrame({\"Scaling\":[steps[0]],\n",
    "                        \"Model\":[steps[1]],\n",
    "                        \"params\":[opt.best_params_],\n",
    "                        'CV Mean':[cv_mean],\n",
    "                        'CV Std':[cv_std],\n",
    "                        'Test dataset':f1,\n",
    "                        })\n",
    "\n",
    "    if os.path.exists(path+\"/results.csv\"):\n",
    "        current_csv =pd.read_csv(path+\"/results.csv\")\n",
    "        pd.concat([current_csv, tmp], \n",
    "                   ignore_index=True\n",
    "                 ).to_csv(path+\"/results.csv\",\n",
    "                          index=False)    \n",
    "    else:\n",
    "        tmp.to_csv(path+\"/results.csv\",\n",
    "                   index=False)"
   ]
  },
  {
   "cell_type": "code",
   "execution_count": null,
   "metadata": {},
   "outputs": [],
   "source": []
  },
  {
   "cell_type": "code",
   "execution_count": null,
   "metadata": {},
   "outputs": [],
   "source": []
  },
  {
   "cell_type": "code",
   "execution_count": null,
   "metadata": {},
   "outputs": [],
   "source": []
  },
  {
   "cell_type": "code",
   "execution_count": null,
   "metadata": {},
   "outputs": [],
   "source": [
    "\n",
    "\n",
    "model = LightningClassifier(backbone_name='gluon_seresnext50_32x4d',\n",
    "                            pretrained=True,\n",
    "                            num_classes=19,\n",
    "                            pool_size=1,\n",
    "                            pool_type='avgmax',\n",
    "                            head_type='linear',\n",
    "                            hidden_size=None,\n",
    "                            lr=2e-03,\n",
    "                            weight_decay=0.01,\n",
    "                            seed=98)"
   ]
  },
  {
   "cell_type": "code",
   "execution_count": 20,
   "metadata": {},
   "outputs": [],
   "source": [
    "# import bqplot.pyplot as plt\n",
    "# from dataclasses import dataclass\n",
    "# @dataclass\n",
    "# class LRTunerConfig:\n",
    "    \n",
    "#     min_lr: float = 1e-08\n",
    "#     max_lr: float = 1.0\n",
    "#     num_training: int = 50\n",
    "#     mode: str = 'exponential'\n",
    "#     early_stop_threshold: float = 4.0\n",
    "\n",
    "# cfg = OmegaConf.structured(LRTunerConfig())\n",
    "\n",
    "# lr_tuner = trainer.tuner.lr_find(model,\n",
    "#                                  data,\n",
    "#                                  **cfg)\n",
    "# lr_tuner_results = lr_tuner.results\n",
    "# best_lr = lr_tuner.suggestion()\n",
    "\n",
    "# suggestion = {\"lr\": best_lr,\n",
    "#               \"loss\":lr_tuner_results['loss'][lr_tuner._optimal_idx]}\n",
    "\n",
    "# plt.figure()\n",
    "# fig = lr_tuner.plot(suggest=True)\n",
    "# lr_tuner_results_dir = os.path.join(results_dir, f\"task_{task_id}\", \"lr_tuner\")\n",
    "\n",
    "# plot_fname = 'lr_tuner_results_loss-vs-lr.png'\n",
    "# plot_path = Path(lr_tuner_results_dir) / plot_fname\n",
    "# plt.title(f\"Suggested lr={best_lr:.4e} |\\n| Searched {lr_tuner.num_training} lr values $\\in$ [{lr_tuner.lr_min},{lr_tuner.lr_max}] |\\n| bsz = {config.data.batch_size}\", style={\"fontsize\":'small'})\n",
    "# fig.save_png(filename=str(plot_path))\n",
    "\n",
    "# fig = plt.figure()\n",
    "# plt.plot(x=lr_tuner.results['lr'],\n",
    "#          y=lr_tuner.results['loss'],\n",
    "#         figure=fig)"
   ]
  },
  {
   "cell_type": "markdown",
   "metadata": {
    "tags": []
   },
   "source": [
    "## Display available global pool types"
   ]
  },
  {
   "cell_type": "markdown",
   "metadata": {
    "tags": []
   },
   "source": [
    "### Aside: Verify task_0 and task_1 label maps all agree"
   ]
  },
  {
   "cell_type": "code",
   "execution_count": 8,
   "metadata": {},
   "outputs": [],
   "source": [
    "task_0_labels = data.label_encoder\n",
    "\n",
    "data.setup(stage='fit', task_id=1)\n",
    "\n",
    "task_1_labels = data.label_encoder\n",
    "\n",
    "task_0_labels\n",
    "task_1_labels\n",
    "\n",
    "task_0_labels\n",
    "print(f\"label|task_0_idx|task_1_idx\")\n",
    "for label, idx in task_1_labels.class2idx.items():\n",
    "    print(f\"{label}|{task_0_labels.class2idx[label]}|{idx}\")\n",
    "    \n",
    "    assert task_0_labels.class2idx[label] == idx\n",
    "    \n",
    "print(f\"Success, all labels in task_1 have identical integer mappings to their corresponding values in task_0\")"
   ]
  },
  {
   "cell_type": "code",
   "execution_count": 32,
   "metadata": {},
   "outputs": [],
   "source": []
  },
  {
   "cell_type": "code",
   "execution_count": 23,
   "metadata": {},
   "outputs": [],
   "source": [
    "class2idx = data.label_encoder.class2idx\n",
    "family_counts = df.value_counts(\"family\").to_dict()\n",
    "\n",
    "df = df.assign(class_idx=df.family.apply(lambda x: class2idx[x]),\n",
    "               score = df.family.apply(lambda x: family_counts[x]))\n",
    "\n",
    "df#.clear_intent()\n",
    "\n",
    "df.groupby('class_idx').mean()\n",
    "\n",
    "# df.exported.keys()\n",
    "\n",
    "df.exported['Distribution']\n",
    "\n",
    "df.compute_metadata()\n",
    "\n",
    "df\n",
    "\n",
    "df.clear_intent()"
   ]
  },
  {
   "cell_type": "code",
   "execution_count": null,
   "metadata": {},
   "outputs": [],
   "source": []
  },
  {
   "cell_type": "code",
   "execution_count": 20,
   "metadata": {},
   "outputs": [
    {
     "name": "stdout",
     "output_type": "stream",
     "text": [
      "dict_keys(['backbone_name', 'pretrained', 'num_classes', 'pool_size', 'pool_type', 'head_type', 'hidden_size', 'backbone', 'feature_size'])\n",
      "dict_keys(['backbone_name', 'pretrained', 'num_classes', 'pool_size', 'pool_type', 'head_type', 'hidden_size', 'backbone', 'feature_size'])\n",
      "dict_keys(['backbone_name', 'pretrained', 'num_classes', 'pool_size', 'pool_type', 'head_type', 'hidden_size', 'backbone', 'feature_size'])\n",
      "backbone=gluon_seresnext50_32x4d|pretrained=True|num_classes=1000|head_type=linear|hidden_size=0\n",
      "pool_type=avg\n"
     ]
    },
    {
     "data": {
      "text/html": [
       "<pre style=\"white-space:pre;overflow-x:auto;line-height:normal;font-family:Menlo,'DejaVu Sans Mono',consolas,'Courier New',monospace\"><span style=\"font-weight: bold\">{</span><span style=\"color: #008000; text-decoration-color: #008000\">'classifier.weight'</span>: <span style=\"color: #800080; text-decoration-color: #800080; font-weight: bold\">torch.Size</span><span style=\"font-weight: bold\">([</span><span style=\"color: #008080; text-decoration-color: #008080; font-weight: bold\">1000</span>, <span style=\"color: #008080; text-decoration-color: #008080; font-weight: bold\">4096</span><span style=\"font-weight: bold\">])</span>, <span style=\"color: #008000; text-decoration-color: #008000\">'classifier.bias'</span>: <span style=\"color: #800080; text-decoration-color: #800080; font-weight: bold\">torch.Size</span><span style=\"font-weight: bold\">([</span><span style=\"color: #008080; text-decoration-color: #008080; font-weight: bold\">1000</span><span style=\"font-weight: bold\">])}</span>\n",
       "</pre>\n"
      ],
      "text/plain": [
       "\u001b[1m{\u001b[0m\u001b[32m'classifier.weight'\u001b[0m: \u001b[1;35mtorch.Size\u001b[0m\u001b[1m(\u001b[0m\u001b[1m[\u001b[0m\u001b[1;36m1000\u001b[0m, \u001b[1;36m4096\u001b[0m\u001b[1m]\u001b[0m\u001b[1m)\u001b[0m, \u001b[32m'classifier.bias'\u001b[0m: \u001b[1;35mtorch.Size\u001b[0m\u001b[1m(\u001b[0m\u001b[1m[\u001b[0m\u001b[1;36m1000\u001b[0m\u001b[1m]\u001b[0m\u001b[1m)\u001b[0m\u001b[1m}\u001b[0m\n"
      ]
     },
     "metadata": {},
     "output_type": "display_data"
    },
    {
     "name": "stdout",
     "output_type": "stream",
     "text": [
      "pool_type=max\n"
     ]
    },
    {
     "data": {
      "text/html": [
       "<pre style=\"white-space:pre;overflow-x:auto;line-height:normal;font-family:Menlo,'DejaVu Sans Mono',consolas,'Courier New',monospace\"><span style=\"font-weight: bold\">{</span><span style=\"color: #008000; text-decoration-color: #008000\">'classifier.weight'</span>: <span style=\"color: #800080; text-decoration-color: #800080; font-weight: bold\">torch.Size</span><span style=\"font-weight: bold\">([</span><span style=\"color: #008080; text-decoration-color: #008080; font-weight: bold\">1000</span>, <span style=\"color: #008080; text-decoration-color: #008080; font-weight: bold\">4096</span><span style=\"font-weight: bold\">])</span>, <span style=\"color: #008000; text-decoration-color: #008000\">'classifier.bias'</span>: <span style=\"color: #800080; text-decoration-color: #800080; font-weight: bold\">torch.Size</span><span style=\"font-weight: bold\">([</span><span style=\"color: #008080; text-decoration-color: #008080; font-weight: bold\">1000</span><span style=\"font-weight: bold\">])}</span>\n",
       "</pre>\n"
      ],
      "text/plain": [
       "\u001b[1m{\u001b[0m\u001b[32m'classifier.weight'\u001b[0m: \u001b[1;35mtorch.Size\u001b[0m\u001b[1m(\u001b[0m\u001b[1m[\u001b[0m\u001b[1;36m1000\u001b[0m, \u001b[1;36m4096\u001b[0m\u001b[1m]\u001b[0m\u001b[1m)\u001b[0m, \u001b[32m'classifier.bias'\u001b[0m: \u001b[1;35mtorch.Size\u001b[0m\u001b[1m(\u001b[0m\u001b[1m[\u001b[0m\u001b[1;36m1000\u001b[0m\u001b[1m]\u001b[0m\u001b[1m)\u001b[0m\u001b[1m}\u001b[0m\n"
      ]
     },
     "metadata": {},
     "output_type": "display_data"
    },
    {
     "name": "stdout",
     "output_type": "stream",
     "text": [
      "pool_type=avgmax\n"
     ]
    },
    {
     "data": {
      "text/html": [
       "<pre style=\"white-space:pre;overflow-x:auto;line-height:normal;font-family:Menlo,'DejaVu Sans Mono',consolas,'Courier New',monospace\"><span style=\"font-weight: bold\">{</span><span style=\"color: #008000; text-decoration-color: #008000\">'classifier.weight'</span>: <span style=\"color: #800080; text-decoration-color: #800080; font-weight: bold\">torch.Size</span><span style=\"font-weight: bold\">([</span><span style=\"color: #008080; text-decoration-color: #008080; font-weight: bold\">1000</span>, <span style=\"color: #008080; text-decoration-color: #008080; font-weight: bold\">8192</span><span style=\"font-weight: bold\">])</span>, <span style=\"color: #008000; text-decoration-color: #008000\">'classifier.bias'</span>: <span style=\"color: #800080; text-decoration-color: #800080; font-weight: bold\">torch.Size</span><span style=\"font-weight: bold\">([</span><span style=\"color: #008080; text-decoration-color: #008080; font-weight: bold\">1000</span><span style=\"font-weight: bold\">])}</span>\n",
       "</pre>\n"
      ],
      "text/plain": [
       "\u001b[1m{\u001b[0m\u001b[32m'classifier.weight'\u001b[0m: \u001b[1;35mtorch.Size\u001b[0m\u001b[1m(\u001b[0m\u001b[1m[\u001b[0m\u001b[1;36m1000\u001b[0m, \u001b[1;36m8192\u001b[0m\u001b[1m]\u001b[0m\u001b[1m)\u001b[0m, \u001b[32m'classifier.bias'\u001b[0m: \u001b[1;35mtorch.Size\u001b[0m\u001b[1m(\u001b[0m\u001b[1m[\u001b[0m\u001b[1;36m1000\u001b[0m\u001b[1m]\u001b[0m\u001b[1m)\u001b[0m\u001b[1m}\u001b[0m\n"
      ]
     },
     "metadata": {},
     "output_type": "display_data"
    }
   ],
   "source": [
    "backbone_name='gluon_seresnext50_32x4d'\n",
    "pretrained=True\n",
    "num_classes=1000\n",
    "\n",
    "head_type='linear'\n",
    "hidden_size=0\n",
    "\n",
    "pool_types = [\"avg\", \"max\", \"avgmax\"]\n",
    "\n",
    "models = OrderedDict({})\n",
    "\n",
    "for pool_type in pool_types:\n",
    "    models[pool_type] = build_model(backbone_name=backbone_name,\n",
    "                                    pretrained=pretrained,\n",
    "                                    num_classes=num_classes,\n",
    "                                    pool_size=1,\n",
    "                                    pool_type=pool_type,\n",
    "                                    head_type=head_type,\n",
    "                                    hidden_size=hidden_size)\n",
    "print(f\"backbone={backbone_name}|pretrained={pretrained}|num_classes={num_classes}|head_type={head_type}|hidden_size={hidden_size}\")\n",
    "for pool_type, model in models.items():\n",
    "    print(f\"pool_type={pool_type}\")\n",
    "    pp({k: v.shape for k,v in model.head.named_parameters()})\n",
    "#     pp(list(dict(model.head.named_parameters()).keys()))"
   ]
  },
  {
   "cell_type": "markdown",
   "metadata": {
    "tags": []
   },
   "source": [
    "## Display available head types (TBD)"
   ]
  },
  {
   "cell_type": "code",
   "execution_count": 20,
   "metadata": {},
   "outputs": [
    {
     "name": "stdout",
     "output_type": "stream",
     "text": [
      "dict_keys(['backbone_name', 'pretrained', 'num_classes', 'pool_size', 'pool_type', 'head_type', 'hidden_size', 'backbone', 'feature_size'])\n",
      "dict_keys(['backbone_name', 'pretrained', 'num_classes', 'pool_size', 'pool_type', 'head_type', 'hidden_size', 'backbone', 'feature_size'])\n",
      "dict_keys(['backbone_name', 'pretrained', 'num_classes', 'pool_size', 'pool_type', 'head_type', 'hidden_size', 'backbone', 'feature_size'])\n",
      "backbone=gluon_seresnext50_32x4d|pretrained=True|num_classes=1000|head_type=linear|hidden_size=0\n",
      "pool_type=avg\n"
     ]
    },
    {
     "data": {
      "text/html": [
       "<pre style=\"white-space:pre;overflow-x:auto;line-height:normal;font-family:Menlo,'DejaVu Sans Mono',consolas,'Courier New',monospace\"><span style=\"font-weight: bold\">{</span><span style=\"color: #008000; text-decoration-color: #008000\">'classifier.weight'</span>: <span style=\"color: #800080; text-decoration-color: #800080; font-weight: bold\">torch.Size</span><span style=\"font-weight: bold\">([</span><span style=\"color: #008080; text-decoration-color: #008080; font-weight: bold\">1000</span>, <span style=\"color: #008080; text-decoration-color: #008080; font-weight: bold\">4096</span><span style=\"font-weight: bold\">])</span>, <span style=\"color: #008000; text-decoration-color: #008000\">'classifier.bias'</span>: <span style=\"color: #800080; text-decoration-color: #800080; font-weight: bold\">torch.Size</span><span style=\"font-weight: bold\">([</span><span style=\"color: #008080; text-decoration-color: #008080; font-weight: bold\">1000</span><span style=\"font-weight: bold\">])}</span>\n",
       "</pre>\n"
      ],
      "text/plain": [
       "\u001b[1m{\u001b[0m\u001b[32m'classifier.weight'\u001b[0m: \u001b[1;35mtorch.Size\u001b[0m\u001b[1m(\u001b[0m\u001b[1m[\u001b[0m\u001b[1;36m1000\u001b[0m, \u001b[1;36m4096\u001b[0m\u001b[1m]\u001b[0m\u001b[1m)\u001b[0m, \u001b[32m'classifier.bias'\u001b[0m: \u001b[1;35mtorch.Size\u001b[0m\u001b[1m(\u001b[0m\u001b[1m[\u001b[0m\u001b[1;36m1000\u001b[0m\u001b[1m]\u001b[0m\u001b[1m)\u001b[0m\u001b[1m}\u001b[0m\n"
      ]
     },
     "metadata": {},
     "output_type": "display_data"
    },
    {
     "name": "stdout",
     "output_type": "stream",
     "text": [
      "pool_type=max\n"
     ]
    },
    {
     "data": {
      "text/html": [
       "<pre style=\"white-space:pre;overflow-x:auto;line-height:normal;font-family:Menlo,'DejaVu Sans Mono',consolas,'Courier New',monospace\"><span style=\"font-weight: bold\">{</span><span style=\"color: #008000; text-decoration-color: #008000\">'classifier.weight'</span>: <span style=\"color: #800080; text-decoration-color: #800080; font-weight: bold\">torch.Size</span><span style=\"font-weight: bold\">([</span><span style=\"color: #008080; text-decoration-color: #008080; font-weight: bold\">1000</span>, <span style=\"color: #008080; text-decoration-color: #008080; font-weight: bold\">4096</span><span style=\"font-weight: bold\">])</span>, <span style=\"color: #008000; text-decoration-color: #008000\">'classifier.bias'</span>: <span style=\"color: #800080; text-decoration-color: #800080; font-weight: bold\">torch.Size</span><span style=\"font-weight: bold\">([</span><span style=\"color: #008080; text-decoration-color: #008080; font-weight: bold\">1000</span><span style=\"font-weight: bold\">])}</span>\n",
       "</pre>\n"
      ],
      "text/plain": [
       "\u001b[1m{\u001b[0m\u001b[32m'classifier.weight'\u001b[0m: \u001b[1;35mtorch.Size\u001b[0m\u001b[1m(\u001b[0m\u001b[1m[\u001b[0m\u001b[1;36m1000\u001b[0m, \u001b[1;36m4096\u001b[0m\u001b[1m]\u001b[0m\u001b[1m)\u001b[0m, \u001b[32m'classifier.bias'\u001b[0m: \u001b[1;35mtorch.Size\u001b[0m\u001b[1m(\u001b[0m\u001b[1m[\u001b[0m\u001b[1;36m1000\u001b[0m\u001b[1m]\u001b[0m\u001b[1m)\u001b[0m\u001b[1m}\u001b[0m\n"
      ]
     },
     "metadata": {},
     "output_type": "display_data"
    },
    {
     "name": "stdout",
     "output_type": "stream",
     "text": [
      "pool_type=avgmax\n"
     ]
    },
    {
     "data": {
      "text/html": [
       "<pre style=\"white-space:pre;overflow-x:auto;line-height:normal;font-family:Menlo,'DejaVu Sans Mono',consolas,'Courier New',monospace\"><span style=\"font-weight: bold\">{</span><span style=\"color: #008000; text-decoration-color: #008000\">'classifier.weight'</span>: <span style=\"color: #800080; text-decoration-color: #800080; font-weight: bold\">torch.Size</span><span style=\"font-weight: bold\">([</span><span style=\"color: #008080; text-decoration-color: #008080; font-weight: bold\">1000</span>, <span style=\"color: #008080; text-decoration-color: #008080; font-weight: bold\">8192</span><span style=\"font-weight: bold\">])</span>, <span style=\"color: #008000; text-decoration-color: #008000\">'classifier.bias'</span>: <span style=\"color: #800080; text-decoration-color: #800080; font-weight: bold\">torch.Size</span><span style=\"font-weight: bold\">([</span><span style=\"color: #008080; text-decoration-color: #008080; font-weight: bold\">1000</span><span style=\"font-weight: bold\">])}</span>\n",
       "</pre>\n"
      ],
      "text/plain": [
       "\u001b[1m{\u001b[0m\u001b[32m'classifier.weight'\u001b[0m: \u001b[1;35mtorch.Size\u001b[0m\u001b[1m(\u001b[0m\u001b[1m[\u001b[0m\u001b[1;36m1000\u001b[0m, \u001b[1;36m8192\u001b[0m\u001b[1m]\u001b[0m\u001b[1m)\u001b[0m, \u001b[32m'classifier.bias'\u001b[0m: \u001b[1;35mtorch.Size\u001b[0m\u001b[1m(\u001b[0m\u001b[1m[\u001b[0m\u001b[1;36m1000\u001b[0m\u001b[1m]\u001b[0m\u001b[1m)\u001b[0m\u001b[1m}\u001b[0m\n"
      ]
     },
     "metadata": {},
     "output_type": "display_data"
    }
   ],
   "source": [
    "backbone_name='gluon_seresnext50_32x4d'\n",
    "pretrained=True\n",
    "num_classes=1000\n",
    "\n",
    "head_types=['linear', 'custom']\n",
    "hidden_size=0\n",
    "\n",
    "pool_types = [\"avg\", \"max\", \"avgmax\"]\n",
    "\n",
    "models = OrderedDict({})\n",
    "\n",
    "for pool_type in pool_types:\n",
    "    models[pool_type] = build_model(backbone_name=backbone_name,\n",
    "                                    pretrained=pretrained,\n",
    "                                    num_classes=num_classes,\n",
    "                                    pool_size=1,\n",
    "                                    pool_type=pool_type,\n",
    "                                    head_type=head_type,\n",
    "                                    hidden_size=hidden_size)\n",
    "print(f\"backbone={backbone_name}|pretrained={pretrained}|num_classes={num_classes}|head_type={head_type}|hidden_size={hidden_size}\")\n",
    "for pool_type, model in models.items():\n",
    "    print(f\"pool_type={pool_type}\")\n",
    "    pp({k: v.shape for k,v in model.head.named_parameters()})\n",
    "#     pp(list(dict(model.head.named_parameters()).keys()))"
   ]
  },
  {
   "cell_type": "markdown",
   "metadata": {
    "tags": []
   },
   "source": [
    "## Creating fit method"
   ]
  },
  {
   "cell_type": "code",
   "execution_count": 13,
   "metadata": {},
   "outputs": [],
   "source": [
    "#Borrowed from fastai2 library\n",
    "\n",
    "bn_types = (torch.nn.modules.batchnorm.BatchNorm1d,torch.nn.modules.batchnorm.BatchNorm2d,torch.nn.modules.batchnorm.BatchNorm3d)\n",
    " \n",
    "def set_bn_eval(m:nn.Module)->None:\n",
    "    \"Set bn layers in eval mode for all recursive children of `m`.\"\n",
    "    for l in m.children():\n",
    "        if isinstance(l, bn_types) and not next(l.parameters()).requires_grad:\n",
    "            l.eval()\n",
    "        set_bn_eval(l)"
   ]
  },
  {
   "cell_type": "code",
   "execution_count": 14,
   "metadata": {},
   "outputs": [],
   "source": [
    "def fit(epochs,model,train_dl,valid_dl,loss_fn,opt,device=None,bn_eval=False):\n",
    "    if device is None:\n",
    "        device = torch.device(\"cuda\") if torch.cuda.is_available() else torch.device(\"cpu\")\n",
    "    mb = master_bar(range(epochs))\n",
    "    mb.write(['epoch','train_loss','valid_loss','trn_acc','val_acc'],table=True)\n",
    "    model.to(device)\n",
    "\n",
    "    for i in mb:    \n",
    "        trn_loss,val_loss = 0.0,0.0\n",
    "        trn_acc,val_acc = 0,0\n",
    "        trn_n,val_n = len(train_dl.dataset),len(valid_dl.dataset)\n",
    "        model.train()\n",
    "        if bn_eval:set_bn_eval(model)\n",
    "        for xb,yb in progress_bar(train_dl,parent=mb):\n",
    "            xb,yb = xb.to(device), yb.to(device)\n",
    "            out = model(xb)\n",
    "            opt.zero_grad()\n",
    "            loss = loss_fn(out,yb)\n",
    "            _,pred = torch.max(out.data, 1)\n",
    "            trn_acc += (pred == yb).sum().item()\n",
    "            trn_loss += loss.item()\n",
    "            loss.backward()\n",
    "            opt.step()\n",
    "        trn_loss /= mb.child.total\n",
    "        trn_acc /= trn_n\n",
    "\n",
    "        model.eval()\n",
    "        with torch.no_grad():\n",
    "            for xb,yb in progress_bar(valid_dl,parent=mb):\n",
    "                xb,yb = xb.to(device), yb.to(device)\n",
    "                out = model(xb)\n",
    "                loss = loss_fn(out,yb)\n",
    "                val_loss += loss.item()\n",
    "                _,pred = torch.max(out.data, 1)\n",
    "                val_acc += (pred == yb).sum().item()\n",
    "        val_loss /= mb.child.total\n",
    "        val_acc /= val_n\n",
    "\n",
    "        mb.write([i,f'{trn_loss:.6f}',f'{val_loss:.6f}',f'{trn_acc:.6f}',f'{val_acc:.6f}'],table=True)        \n",
    "        \n",
    "    "
   ]
  },
  {
   "cell_type": "markdown",
   "metadata": {
    "tags": []
   },
   "source": [
    "## Training"
   ]
  },
  {
   "cell_type": "code",
   "execution_count": 6,
   "metadata": {},
   "outputs": [],
   "source": [
    "loss_fn = F.cross_entropy"
   ]
  },
  {
   "cell_type": "code",
   "execution_count": 9,
   "metadata": {},
   "outputs": [],
   "source": [
    "def freeze(model,bn_freeze=True):\n",
    "    for name,param in model.named_parameters():\n",
    "        if bn_freeze:\n",
    "            param.requires_grad = False\n",
    "        elif name.find('bn') == -1:\n",
    "            param.requires_grad = False\n",
    "            \n",
    "def unfreeze(model):\n",
    "    for param in model.parameters():\n",
    "        param.requires_grad = True\n",
    "\n",
    "def get_model(lrs=[1e-3,1e-3],bn_freeze=True):\n",
    "    model = MyResNet()\n",
    "    freeze(model.body,bn_freeze=bn_freeze)\n",
    "    opt = optim.Adam([{'params': model.body.parameters(), 'lr':lrs[0]},\n",
    "                {'params': model.head.parameters(), 'lr': lrs[1]}])\n",
    "    return model,opt\n",
    "\n",
    "def update_lr(lr,opt):\n",
    "    opt.param_groups[0]['lr'] = lr/100\n",
    "    opt.param_groups[1]['lr'] = lr\n",
    "    \n",
    "\n",
    "### Freeze the complete resnet body\n",
    "\n",
    "lr = 1e-3\n",
    "model,opt = get_model(lrs=[lr,lr],bn_freeze=True)\n",
    "fit(2,model,trn_dl,valid_dl,loss_fn,opt)\n",
    "\n",
    "### Freeze the complete resnet body and place BN layers in eval mode.\n",
    "\n",
    "lr = 1e-3\n",
    "model,opt = get_model(lrs=[lr,lr],bn_freeze=True)\n",
    "fit(2,model,trn_dl,valid_dl,loss_fn,opt,bn_eval=True)"
   ]
  },
  {
   "cell_type": "markdown",
   "metadata": {
    "heading_collapsed": "true",
    "tags": []
   },
   "source": [
    "### Freeze the complete resnet body and place BN layers in eval mode and train the body at a lesser learning rate for the second epoch."
   ]
  },
  {
   "cell_type": "code",
   "execution_count": 17,
   "metadata": {},
   "outputs": [
    {
     "data": {
      "text/html": [
       "<table border=\"1\" class=\"dataframe\">\n",
       "  <thead>\n",
       "    <tr style=\"text-align: left;\">\n",
       "      <th>epoch</th>\n",
       "      <th>train_loss</th>\n",
       "      <th>valid_loss</th>\n",
       "      <th>trn_acc</th>\n",
       "      <th>val_acc</th>\n",
       "    </tr>\n",
       "  </thead>\n",
       "  <tbody>\n",
       "    <tr>\n",
       "      <td>0</td>\n",
       "      <td>0.115747</td>\n",
       "      <td>0.044909</td>\n",
       "      <td>0.964774</td>\n",
       "      <td>0.987107</td>\n",
       "    </tr>\n",
       "  </tbody>\n",
       "</table>"
      ],
      "text/plain": [
       "<IPython.core.display.HTML object>"
      ]
     },
     "metadata": {},
     "output_type": "display_data"
    }
   ],
   "source": [
    "lr = 1e-3\n",
    "model,opt = get_model(lrs=[lr,lr],bn_freeze=True)\n",
    "fit(1,model,trn_dl,valid_dl,loss_fn,opt,bn_eval=True)"
   ]
  },
  {
   "cell_type": "code",
   "execution_count": 18,
   "metadata": {},
   "outputs": [
    {
     "data": {
      "text/html": [
       "<table border=\"1\" class=\"dataframe\">\n",
       "  <thead>\n",
       "    <tr style=\"text-align: left;\">\n",
       "      <th>epoch</th>\n",
       "      <th>train_loss</th>\n",
       "      <th>valid_loss</th>\n",
       "      <th>trn_acc</th>\n",
       "      <th>val_acc</th>\n",
       "    </tr>\n",
       "  </thead>\n",
       "  <tbody>\n",
       "    <tr>\n",
       "      <td>0</td>\n",
       "      <td>0.074065</td>\n",
       "      <td>0.024733</td>\n",
       "      <td>0.973581</td>\n",
       "      <td>0.991509</td>\n",
       "    </tr>\n",
       "  </tbody>\n",
       "</table>"
      ],
      "text/plain": [
       "<IPython.core.display.HTML object>"
      ]
     },
     "metadata": {},
     "output_type": "display_data"
    }
   ],
   "source": [
    "update_lr(lr/2,opt)\n",
    "unfreeze(model)\n",
    "fit(1,model,trn_dl,valid_dl,loss_fn,opt)"
   ]
  },
  {
   "cell_type": "markdown",
   "metadata": {
    "heading_collapsed": "true",
    "tags": []
   },
   "source": [
    "### Freeze the resnet body except fot BN layers"
   ]
  },
  {
   "cell_type": "code",
   "execution_count": 28,
   "metadata": {},
   "outputs": [
    {
     "data": {
      "text/html": [
       "<table border=\"1\" class=\"dataframe\">\n",
       "  <thead>\n",
       "    <tr style=\"text-align: left;\">\n",
       "      <th>epoch</th>\n",
       "      <th>train_loss</th>\n",
       "      <th>valid_loss</th>\n",
       "      <th>trn_acc</th>\n",
       "      <th>val_acc</th>\n",
       "    </tr>\n",
       "  </thead>\n",
       "  <tbody>\n",
       "    <tr>\n",
       "      <td>0</td>\n",
       "      <td>0.105815</td>\n",
       "      <td>0.032677</td>\n",
       "      <td>0.960843</td>\n",
       "      <td>0.988365</td>\n",
       "    </tr>\n",
       "    <tr>\n",
       "      <td>1</td>\n",
       "      <td>0.052449</td>\n",
       "      <td>0.022727</td>\n",
       "      <td>0.982151</td>\n",
       "      <td>0.990881</td>\n",
       "    </tr>\n",
       "  </tbody>\n",
       "</table>"
      ],
      "text/plain": [
       "<IPython.core.display.HTML object>"
      ]
     },
     "metadata": {},
     "output_type": "display_data"
    }
   ],
   "source": [
    "model,opt = get_model(lrs=[1e-3,1e-3],bn_freeze=False)\n",
    "fit(2,model,trn_dl,valid_dl,loss_fn,opt)"
   ]
  },
  {
   "cell_type": "markdown",
   "metadata": {},
   "source": [
    "### Freeze the resnet body except fot BN layers and try smaller leraning rate for the resnet body"
   ]
  },
  {
   "cell_type": "code",
   "execution_count": 12,
   "metadata": {},
   "outputs": [
    {
     "data": {
      "text/html": [
       "<table border=\"1\" class=\"dataframe\">\n",
       "  <thead>\n",
       "    <tr style=\"text-align: left;\">\n",
       "      <th>epoch</th>\n",
       "      <th>train_loss</th>\n",
       "      <th>valid_loss</th>\n",
       "      <th>trn_acc</th>\n",
       "      <th>val_acc</th>\n",
       "    </tr>\n",
       "  </thead>\n",
       "  <tbody>\n",
       "    <tr>\n",
       "      <td>0</td>\n",
       "      <td>0.145204</td>\n",
       "      <td>0.052064</td>\n",
       "      <td>0.951329</td>\n",
       "      <td>0.983648</td>\n",
       "    </tr>\n",
       "  </tbody>\n",
       "</table>"
      ],
      "text/plain": [
       "<IPython.core.display.HTML object>"
      ]
     },
     "metadata": {},
     "output_type": "display_data"
    },
    {
     "data": {
      "text/html": [
       "<table border=\"1\" class=\"dataframe\">\n",
       "  <thead>\n",
       "    <tr style=\"text-align: left;\">\n",
       "      <th>epoch</th>\n",
       "      <th>train_loss</th>\n",
       "      <th>valid_loss</th>\n",
       "      <th>trn_acc</th>\n",
       "      <th>val_acc</th>\n",
       "    </tr>\n",
       "  </thead>\n",
       "  <tbody>\n",
       "    <tr>\n",
       "      <td>0</td>\n",
       "      <td>0.064199</td>\n",
       "      <td>0.020451</td>\n",
       "      <td>0.977669</td>\n",
       "      <td>0.993711</td>\n",
       "    </tr>\n",
       "  </tbody>\n",
       "</table>"
      ],
      "text/plain": [
       "<IPython.core.display.HTML object>"
      ]
     },
     "metadata": {},
     "output_type": "display_data"
    }
   ],
   "source": [
    "model,opt = get_model(lrs=[lr,lr],bn_freeze=False)\n",
    "fit(1,model,trn_dl,valid_dl,loss_fn,opt)\n",
    "update_lr(lr/2,opt)\n",
    "unfreeze(model)\n",
    "fit(1,model,trn_dl,valid_dl,loss_fn,opt)"
   ]
  },
  {
   "cell_type": "markdown",
   "metadata": {},
   "source": [
    "### Try adjusting the model"
   ]
  },
  {
   "cell_type": "code",
   "execution_count": 20,
   "metadata": {},
   "outputs": [],
   "source": [
    "class AdaptiveConcatPooling(nn.Module):\n",
    "    def forward(self,x):\n",
    "        avg_pool = F.adaptive_avg_pool2d(x,1)\n",
    "        max_pool = F.adaptive_max_pool2d(x,1)\n",
    "        return torch.cat([avg_pool,max_pool],dim=1)"
   ]
  },
  {
   "cell_type": "code",
   "execution_count": 21,
   "metadata": {},
   "outputs": [],
   "source": [
    "class MyResNet(nn.Module):\n",
    "    def __init__(self):\n",
    "        super().__init__()\n",
    "        resnet = models.resnet34(pretrained=True)\n",
    "        self.body = nn.Sequential(*list(resnet.children())[:-2])\n",
    "        self.head = nn.Sequential(AdaptiveConcatPooling(),Flatten(),nn.Linear(512*2,2))\n",
    "    \n",
    "    def forward(self,x):\n",
    "        x = self.body(x)\n",
    "        return self.head(x)"
   ]
  },
  {
   "cell_type": "code",
   "execution_count": 23,
   "metadata": {},
   "outputs": [
    {
     "data": {
      "text/html": [
       "<table border=\"1\" class=\"dataframe\">\n",
       "  <thead>\n",
       "    <tr style=\"text-align: left;\">\n",
       "      <th>epoch</th>\n",
       "      <th>train_loss</th>\n",
       "      <th>valid_loss</th>\n",
       "      <th>trn_acc</th>\n",
       "      <th>val_acc</th>\n",
       "    </tr>\n",
       "  </thead>\n",
       "  <tbody>\n",
       "    <tr>\n",
       "      <td>0</td>\n",
       "      <td>0.124573</td>\n",
       "      <td>0.033491</td>\n",
       "      <td>0.952115</td>\n",
       "      <td>0.987421</td>\n",
       "    </tr>\n",
       "  </tbody>\n",
       "</table>"
      ],
      "text/plain": [
       "<IPython.core.display.HTML object>"
      ]
     },
     "metadata": {},
     "output_type": "display_data"
    },
    {
     "data": {
      "text/html": [
       "<table border=\"1\" class=\"dataframe\">\n",
       "  <thead>\n",
       "    <tr style=\"text-align: left;\">\n",
       "      <th>epoch</th>\n",
       "      <th>train_loss</th>\n",
       "      <th>valid_loss</th>\n",
       "      <th>trn_acc</th>\n",
       "      <th>val_acc</th>\n",
       "    </tr>\n",
       "  </thead>\n",
       "  <tbody>\n",
       "    <tr>\n",
       "      <td>0</td>\n",
       "      <td>0.057533</td>\n",
       "      <td>0.032403</td>\n",
       "      <td>0.980893</td>\n",
       "      <td>0.990252</td>\n",
       "    </tr>\n",
       "  </tbody>\n",
       "</table>"
      ],
      "text/plain": [
       "<IPython.core.display.HTML object>"
      ]
     },
     "metadata": {},
     "output_type": "display_data"
    }
   ],
   "source": [
    "lr = 1e-3\n",
    "model,opt = get_model(lrs=[lr,lr],bn_freeze=False)\n",
    "fit(1,model,trn_dl,valid_dl,loss_fn,opt)\n",
    "update_lr(lr/2,opt)\n",
    "unfreeze(model)\n",
    "fit(1,model,trn_dl,valid_dl,loss_fn,opt)"
   ]
  },
  {
   "cell_type": "markdown",
   "metadata": {},
   "source": [
    "### Increasing the complexity of the model"
   ]
  },
  {
   "cell_type": "code",
   "execution_count": 24,
   "metadata": {},
   "outputs": [],
   "source": [
    "class MyResNet(nn.Module):\n",
    "    def __init__(self):\n",
    "        super().__init__()\n",
    "        nf = 512*2\n",
    "        resnet = models.resnet34(pretrained=True)\n",
    "        self.body = nn.Sequential(*list(resnet.children())[:-2])\n",
    "        self.head = nn.Sequential(AdaptiveConcatPooling(),Flatten(),nn.BatchNorm1d(nf),nn.Dropout(p=0.25),\n",
    "                      nn.Linear(nf,nf//2,bias=False),nn.ReLU(inplace=True),nn.BatchNorm1d(nf//2),nn.Dropout(p=0.75),\n",
    "                      nn.Linear(nf//2,2,bias=False))\n",
    "    \n",
    "    def forward(self,x):\n",
    "        x = self.body(x)\n",
    "        return self.head(x)"
   ]
  },
  {
   "cell_type": "code",
   "execution_count": 25,
   "metadata": {},
   "outputs": [
    {
     "data": {
      "text/html": [
       "<table border=\"1\" class=\"dataframe\">\n",
       "  <thead>\n",
       "    <tr style=\"text-align: left;\">\n",
       "      <th>epoch</th>\n",
       "      <th>train_loss</th>\n",
       "      <th>valid_loss</th>\n",
       "      <th>trn_acc</th>\n",
       "      <th>val_acc</th>\n",
       "    </tr>\n",
       "  </thead>\n",
       "  <tbody>\n",
       "    <tr>\n",
       "      <td>0</td>\n",
       "      <td>0.097272</td>\n",
       "      <td>0.027744</td>\n",
       "      <td>0.966032</td>\n",
       "      <td>0.989308</td>\n",
       "    </tr>\n",
       "  </tbody>\n",
       "</table>"
      ],
      "text/plain": [
       "<IPython.core.display.HTML object>"
      ]
     },
     "metadata": {},
     "output_type": "display_data"
    },
    {
     "data": {
      "text/html": [
       "<table border=\"1\" class=\"dataframe\">\n",
       "  <thead>\n",
       "    <tr style=\"text-align: left;\">\n",
       "      <th>epoch</th>\n",
       "      <th>train_loss</th>\n",
       "      <th>valid_loss</th>\n",
       "      <th>trn_acc</th>\n",
       "      <th>val_acc</th>\n",
       "    </tr>\n",
       "  </thead>\n",
       "  <tbody>\n",
       "    <tr>\n",
       "      <td>0</td>\n",
       "      <td>0.056163</td>\n",
       "      <td>0.023533</td>\n",
       "      <td>0.979557</td>\n",
       "      <td>0.992767</td>\n",
       "    </tr>\n",
       "  </tbody>\n",
       "</table>"
      ],
      "text/plain": [
       "<IPython.core.display.HTML object>"
      ]
     },
     "metadata": {},
     "output_type": "display_data"
    }
   ],
   "source": [
    "lr = 1e-3\n",
    "model,opt = get_model(lrs=[lr,lr],bn_freeze=False)\n",
    "fit(1,model,trn_dl,valid_dl,loss_fn,opt)\n",
    "update_lr(lr/2,opt)\n",
    "unfreeze(model)\n",
    "fit(1,model,trn_dl,valid_dl,loss_fn,opt)"
   ]
  },
  {
   "cell_type": "markdown",
   "metadata": {
    "heading_collapsed": "true",
    "tags": []
   },
   "source": [
    "## scratch"
   ]
  },
  {
   "cell_type": "code",
   "execution_count": null,
   "metadata": {},
   "outputs": [],
   "source": [
    "\n",
    "\n",
    "                \n",
    "\n",
    "# ## WIP: display_layer_status\n",
    "#     @classmethod\n",
    "#     def display_layer_status(cls,\n",
    "#                              model: nn.Module,\n",
    "#                              max_depth: int=3):\n",
    "#         \"\"\"\n",
    "#         Return a formatted display of model's layers alongside relevant training status info.\n",
    "#         \"\"\"\n",
    "#         modules = []\n",
    "        \n",
    "# #         for name, module in model.named_modules():\n",
    "#         for name, module in model.named_children():\n",
    "# #             print(name, 'max_depth:', max_depth)\n",
    "#             if name==\"\": continue\n",
    "# #             if (max_depth>0) and (len(list(module.named_modules())) > 0):\n",
    "#             if (max_depth>0) and (len(list(module.named_children())) > 0):\n",
    "#                 modules.extend(cls.display_layer_status(module, max_depth=max_depth-1))\n",
    "#                 continue\n",
    "#             module_out = {\"name\":name,\n",
    "#                           \"training\":module.training,\n",
    "#                           \"type\":type(module),\n",
    "#                           \"params\":[]}\n",
    "#             for param_name, param in module.named_parameters():\n",
    "#                 module_out[\"params\"].append({\n",
    "#                     \"name\":param_name,\n",
    "#                     \"type\":type(param),\n",
    "#                     \"requires_grad\":param.requires_grad,\n",
    "#                     \"shape\":param.shape\n",
    "#                 })\n",
    "#             print(name)\n",
    "#             pp(module_out)\n",
    "#             modules.append(module_out)\n",
    "#         return modules\n"
   ]
  },
  {
   "cell_type": "code",
   "execution_count": 388,
   "metadata": {},
   "outputs": [],
   "source": [
    "# for unfreeze_down_to in reversed(range(0,-8,-1)):\n",
    "# model.freeze_backbone(freeze_bn=False)\n",
    "# model.freeze_backbone(freeze_bn=True)\n",
    "# summary(model.model)\n",
    "# count_trainable_batchnorm_layers(model)\n",
    "\n",
    "# for unfreeze_down_to in range(0,-9,-1):\n",
    "#     print(unfreeze_down_to)\n",
    "#     print(f\"Unfreezing backbone down to layer: {unfreeze_down_to}\")\n",
    "#     model.unfreeze_backbone_top_layers(unfreeze_down_to=unfreeze_down_to)\n",
    "# #     summary(model.model)\n",
    "#     model.count_trainable_batchnorm_layers()\n",
    "# #     count_trainable_batchnorm_layers(model)\n",
    "\n",
    "#     print(f\"trainable parameters: {len(list(model.get_trainable_parameters()))}\")\n",
    "#     print(f\"non-trainable parameters: {len(list(model.get_nontrainable_parameters()))}\")\n",
    "\n",
    "# unfreeze_down_to = -2\n",
    "\n",
    "# model.unfreeze_backbone_top_layers(unfreeze_down_to=unfreeze_down_to)\n",
    "# summary(model.model)\n",
    "# count_trainable_batchnorm_layers(model)\n",
    "\n",
    "# print(f\"trainable parameters: {len(list(model.get_trainable_parameters()))}\")\n",
    "# print(f\"non-trainable parameters: {len(list(model.get_nontrainable_parameters()))}\")\n",
    "\n",
    "# unfreeze_down_to = -3\n",
    "\n",
    "# model.unfreeze_backbone_top_layers(unfreeze_down_to=unfreeze_down_to)\n",
    "# summary(model.model)\n",
    "# print(f\"trainable: {len(list(model.get_trainable_parameters()))}\")\n",
    "# print(f\"non-trainable: {len(list(model.get_nontrainable_parameters()))}\")\n",
    "\n",
    "# unfreeze_down_to = -4\n",
    "\n",
    "# model.unfreeze_backbone_top_layers(unfreeze_down_to=unfreeze_down_to)\n",
    "# summary(model.model)\n",
    "# print(f\"trainable: {len(list(model.get_trainable_parameters()))}\")\n",
    "# print(f\"non-trainable: {len(list(model.get_nontrainable_parameters()))}\")"
   ]
  },
  {
   "cell_type": "code",
   "execution_count": null,
   "metadata": {
    "tags": []
   },
   "outputs": [],
   "source": [
    "\n",
    "\n",
    "#     model = timm.create_model(model_name=backbone_name, num_classes=1000, pretrained=pretrained)\n",
    "#     if isinstance(pretrained, str) and pretrained != \"imagenet\":\n",
    "#         model = load_model_checkpoint(model, ckpt_path=pretrained)\n",
    "# #         ckpt_pth = glob.glob(hydra.utils.to_absolute_path(pretrained))\n",
    "# #         model = model.load_state_dict(torch.load(ckpt_pth[0]))\n",
    "        \n",
    "#     body = nn.Sequential(*list(model.children())[:-2])\n",
    "\n",
    "    \n",
    "#     feature_size = model.fc.in_features\n",
    "    \n",
    "#     head = OrderedDict()\n",
    "#     global_pool, feature_size = build_global_pool(pool_type=pool_type,\n",
    "#                                                   pool_size=pool_size,\n",
    "#                                                   feature_size=feature_size)\n",
    "#     head[\"global_pool\"] = global_pool\n",
    "#     head[\"flatten\"] = Flatten()\n",
    "    \n",
    "#     classifier_input_feature_size = feature_size*(pool_size*2)        \n",
    "#     if head_type=='linear':\n",
    "#         head[\"classifier\"] = nn.Linear(classifier_input_feature_size, num_classes)\n",
    "#     elif head_type=='custom':\n",
    "#         head[\"classifier\"] = nn.Sequential(nn.Linear(classifier_input_feature_size, hidden_size),\n",
    "#                                 nn.RReLU(lower=0.125, upper=0.3333333333333333, inplace=False),\n",
    "#                                 nn.BatchNorm1d(hidden_size),\n",
    "#                                 nn.Linear(hidden_size, num_classes))\n",
    "        \n",
    "#     head = nn.Sequential(head)\n",
    "\n",
    "\n",
    "#     model = nn.Sequential(OrderedDict({\n",
    "#         \"body\":body,\n",
    "#         \"head\":head\n",
    "#     }))\n",
    "#     return model\n",
    "\n",
    "# def build_model(backbone_name='gluon_seresnext50_32x4d',\n",
    "#                 pretrained: Union[bool, str]=True,\n",
    "#                 num_classes: int=1000,\n",
    "#                 pool_size: int=1,\n",
    "#                 pool_type: str='avg',\n",
    "#                 head_type: str='linear',\n",
    "#                 hidden_size: Optional[int]=512):\n",
    "    \n",
    "#     try:\n",
    "#         model = build_timm_custom(backbone_name=backbone_name,\n",
    "#                                   pretrained=pretrained,\n",
    "#                                   num_classes=num_classes,\n",
    "#                                   pool_size=pool_size,\n",
    "#                                   pool_type=pool_type,\n",
    "#                                   head_type=hidden_size,\n",
    "#                                   hidden_size=hidden_size)\n",
    "\n",
    "#     except:\n",
    "#         print\n",
    "\n",
    "        \n",
    "        \n",
    "        "
   ]
  }
 ],
 "metadata": {
  "kernelspec": {
   "display_name": "Python 3 (ipykernel)",
   "language": "python",
   "name": "python3"
  },
  "language_info": {
   "codemirror_mode": {
    "name": "ipython",
    "version": 3
   },
   "file_extension": ".py",
   "mimetype": "text/x-python",
   "name": "python",
   "nbconvert_exporter": "python",
   "pygments_lexer": "ipython3",
   "version": "3.8.5"
  },
  "toc-autonumbering": true
 },
 "nbformat": 4,
 "nbformat_minor": 4
}
